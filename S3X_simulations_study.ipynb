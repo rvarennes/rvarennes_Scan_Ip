{
 "cells": [
  {
   "attachments": {},
   "cell_type": "markdown",
   "metadata": {},
   "source": [
    "---\n",
    "# <center> <font size=\"15\"> <font color='red'>**Effect of the safety factor on SOLEDGE simulations**</font></font>\n",
    "---"
   ]
  },
  {
   "attachments": {},
   "cell_type": "markdown",
   "metadata": {},
   "source": [
    "___\n",
    "___\n",
    "## <font color='coral'>**Appel de l'environment et chargement des données** </font> "
   ]
  },
  {
   "cell_type": "code",
   "execution_count": 2,
   "metadata": {},
   "outputs": [],
   "source": [
    "%reset -f\n",
    "import ipywidgets as widgets\n",
    "%matplotlib widget\n",
    "\n",
    "import numpy as np\n",
    "import matplotlib.pyplot as plt\n",
    "import matplotlib.gridspec as gridspec\n",
    "from scipy.ndimage.filters import uniform_filter1d, gaussian_filter1d\n",
    "from IPython.display import clear_output\n",
    "\n",
    "## For sliders\n",
    "from ipywidgets import Layout, interact\n",
    "\n",
    "## Set up rc\n",
    "plt.rcParams['image.cmap'] = 'RdYlBu_r'\n",
    "plt.rcParams['axes.formatter.limits'] = (-3,1)\n",
    "plt.rcParams['lines.linewidth'] = 2.5\n",
    "plt.rcParams.update({\"axes.grid\" : True})\n",
    "plt.rcParams['lines.markersize'] = 8\n",
    "plt.rcParams['lines.markeredgecolor'] = 'k'\n",
    "plt.rcParams['lines.markeredgewidth'] = 2.0\n",
    "plt.rc('font',size=18)\n",
    "me = (0.1,0.1) #Markevery\n",
    "\n",
    "import h5py\n",
    "\n",
    "def hdf5_to_dict(filename):\n",
    "    \"\"\"Load a dictionary of arrays and strings as unicode characters from an HDF5 file.\"\"\"\n",
    "    with h5py.File(filename, 'r') as f:\n",
    "        d = {}\n",
    "        for k in f.keys():\n",
    "            v = f[k][()]\n",
    "            if isinstance(v, bytes):\n",
    "                d[k] = v.decode('utf-8')\n",
    "            else:\n",
    "                d[k] = np.array(v)\n",
    "    return d"
   ]
  },
  {
   "attachments": {},
   "cell_type": "markdown",
   "metadata": {},
   "source": [
    "## <font color='coral'>**Chargement des données** </font> "
   ]
  },
  {
   "cell_type": "code",
   "execution_count": 3,
   "metadata": {},
   "outputs": [
    {
     "name": "stdout",
     "output_type": "stream",
     "text": [
      "dict_keys(['T_FSavg', 'VExB_th_FSavg', 'n_FSavg', 'phi_FSavg', 'time', 'title', 'c', 'ls', 'time_activation'])\n",
      "436721.83618875244\n"
     ]
    }
   ],
   "source": [
    "## Load simulation where we restart at t=633453.304418016 changing Bpol from 1 to 2\n",
    "S3X_data = hdf5_to_dict('data_S3X/data_allsim.h5'); S3X_data['title']=r'Restart $B_{pol}=2'; S3X_data['c']='xkcd:pinky red'; S3X_data['ls']='-'; S3X_data['time_activation']=633453.304418016\n",
    "\n",
    "print(S3X_data.keys())\n",
    "print(S3X_data['time'][0])"
   ]
  },
  {
   "attachments": {},
   "cell_type": "markdown",
   "metadata": {},
   "source": [
    "___\n",
    "___"
   ]
  },
  {
   "attachments": {},
   "cell_type": "markdown",
   "metadata": {},
   "source": [
    "## <font color='xkcd:sage'>**Exploration**</font> - Profil radial (video)"
   ]
  },
  {
   "cell_type": "code",
   "execution_count": 18,
   "metadata": {},
   "outputs": [
    {
     "data": {
      "application/vnd.jupyter.widget-view+json": {
       "model_id": "d36fba255f0941d4b914674bb9606224",
       "version_major": 2,
       "version_minor": 0
      },
      "text/plain": [
       "Canvas(toolbar=Toolbar(toolitems=[('Home', 'Reset original view', 'home', 'home'), ('Back', 'Back to previous …"
      ]
     },
     "metadata": {},
     "output_type": "display_data"
    },
    {
     "data": {
      "application/vnd.jupyter.widget-view+json": {
       "model_id": "7efc060384c44cbfaf3b273557c9fc67",
       "version_major": 2,
       "version_minor": 0
      },
      "text/plain": [
       "interactive(children=(Select(description='keys', index=1, layout=Layout(height='220px', width='50%'), options=…"
      ]
     },
     "metadata": {},
     "output_type": "display_data"
    },
    {
     "data": {
      "text/plain": [
       "<function __main__.update_plot(keys, it_play, time_slider)>"
      ]
     },
     "execution_count": 18,
     "metadata": {},
     "output_type": "execute_result"
    }
   ],
   "source": [
    "fig = plt.figure(figsize=(10,8))\n",
    "ax = fig.add_subplot(111)\n",
    "\n",
    "\n",
    "def update_plot(keys,it_play,time_slider):\n",
    "    fig.suptitle(keys)\n",
    "    ax.clear()\n",
    "\n",
    "    ## Define radial coordinate array (temp)\n",
    "    rho_ar = np.linspace(0.7,1,S3X_data[keys].shape[1])\n",
    "    #it = np.argmin(np.abs(S3X_data['time']-time))\n",
    "\n",
    "    ax.plot(rho_ar, S3X_data[keys][it_play,:], c=S3X_data['c'], ls=S3X_data['ls'], label=S3X_data['title'])\n",
    "    ax.set_title(r'$t=%d [?]$' % S3X_data['time'][it_play])\n",
    "\n",
    "    ax.set_xlabel(r'$r/a$')\n",
    "    ax.axhline(y=0, c='k', ls='--')\n",
    "    ax.axvline(x=1, c='k', ls='--')\n",
    "\n",
    "    if S3X_data['time'][it_play] < S3X_data['time_activation']:\n",
    "        ax.text(0.2, 0.9, r'$B_{pol} = 1$', horizontalalignment='center', verticalalignment='center', transform=ax.transAxes, fontsize=20, color='g', bbox=dict(facecolor='w', edgecolor='g', alpha=1))\n",
    "    else:\n",
    "        ax.text(0.2, 0.9, r'$B_{pol} = 2$', horizontalalignment='center', verticalalignment='center', transform=ax.transAxes, fontsize=20, color='r', bbox=dict(facecolor='w', edgecolor='r', alpha=1))\n",
    "\n",
    "    ax.set_ylim(np.amin(S3X_data[keys]), np.amax(S3X_data[keys]))\n",
    "\n",
    "keys_widget = widgets.Select(options=list(S3X_data), value='VExB_th_FSavg', layout=Layout(width='50%', height='220px'))\n",
    "time_widget = widgets.FloatSlider(min=S3X_data['time'].min(), max=S3X_data['time'].max(), step=1, value=0.0, continuous_update=True, layout=Layout(width='50%', height='220px'))\n",
    "\n",
    "slider = widgets.IntSlider(value=0,min=0,max=len(S3X_data['time']),step=1,description=\"Time index\",layout=Layout(width='50%'))\n",
    "play   = widgets.Play(value=785,min=0, max=len(S3X_data['time']),step=1,interval=200,description=\"Press play\")\n",
    "\n",
    "widgets.jslink((play, 'value'), (slider, 'value'))\n",
    "\n",
    "interact(update_plot, \n",
    "         keys = keys_widget,\n",
    "         it_play=play,\n",
    "         time_slider = slider,\n",
    "         #time = time_widget\n",
    "        )"
   ]
  },
  {
   "attachments": {},
   "cell_type": "markdown",
   "metadata": {},
   "source": [
    "## <font color='xkcd:sage'>**Exploration**</font> - Profil radial (mosaique de vidéos)"
   ]
  },
  {
   "cell_type": "code",
   "execution_count": 32,
   "metadata": {},
   "outputs": [
    {
     "name": "stderr",
     "output_type": "stream",
     "text": [
      "<ipython-input-32-8a6606bd9bff>:1: RuntimeWarning: More than 20 figures have been opened. Figures created through the pyplot interface (`matplotlib.pyplot.figure`) are retained until explicitly closed and may consume too much memory. (To control this warning, see the rcParam `figure.max_open_warning`).\n",
      "  fig = plt.figure(figsize=(18,9))\n"
     ]
    },
    {
     "data": {
      "application/vnd.jupyter.widget-view+json": {
       "model_id": "4c1cf5231e524035bbbaf4cf34bb13e7",
       "version_major": 2,
       "version_minor": 0
      },
      "text/plain": [
       "Canvas(toolbar=Toolbar(toolitems=[('Home', 'Reset original view', 'home', 'home'), ('Back', 'Back to previous …"
      ]
     },
     "metadata": {},
     "output_type": "display_data"
    },
    {
     "data": {
      "application/vnd.jupyter.widget-view+json": {
       "model_id": "da564655daff4926b5b5563c29a91b83",
       "version_major": 2,
       "version_minor": 0
      },
      "text/plain": [
       "interactive(children=(Play(value=785, description='Press play', interval=200, max=1361), IntSlider(value=0, de…"
      ]
     },
     "metadata": {},
     "output_type": "display_data"
    },
    {
     "data": {
      "text/plain": [
       "<function __main__.update_plot(it_play, time_slider)>"
      ]
     },
     "execution_count": 32,
     "metadata": {},
     "output_type": "execute_result"
    }
   ],
   "source": [
    "fig = plt.figure(figsize=(18,9))\n",
    "\n",
    "keys_ar = ['T_FSavg', 'VExB_th_FSavg', 'n_FSavg', 'phi_FSavg']\n",
    "ax_ar = []\n",
    "for i in range(len(keys_ar)):\n",
    "    ax = fig.add_subplot(2,2,i+1)\n",
    "    ax_ar.append(ax)\n",
    "\n",
    "def update_plot(it_play,time_slider):\n",
    "    \n",
    "    fig.suptitle(r'$t=%d [?]$' % S3X_data['time'][it_play])\n",
    "\n",
    "    for ikey, keys in enumerate(keys_ar):\n",
    "        rho_ar = np.linspace(0.7,1,S3X_data[keys].shape[1])\n",
    "        ax=ax_ar[ikey]\n",
    "        ax.clear()\n",
    "        ax.plot(rho_ar, S3X_data[keys][it_play,:], c=S3X_data['c'], ls=S3X_data['ls'], label=S3X_data['title'])\n",
    "        \n",
    "        ax.set_title(keys)\n",
    "        ax.set_xlabel(r'$r/a$')\n",
    "        ax.axhline(y=0, c='k', ls='--')\n",
    "        ax.axvline(x=1, c='k', ls='--')\n",
    "\n",
    "        if S3X_data['time'][it_play] < S3X_data['time_activation']:\n",
    "            ax.text(0.2, 0.9, r'$B_{pol} = 1$', horizontalalignment='center', verticalalignment='center', transform=ax.transAxes, fontsize=20, color='g', bbox=dict(facecolor='w', edgecolor='g', alpha=1))\n",
    "        else:\n",
    "            ax.text(0.2, 0.9, r'$B_{pol} = 2$', horizontalalignment='center', verticalalignment='center', transform=ax.transAxes, fontsize=20, color='r', bbox=dict(facecolor='w', edgecolor='r', alpha=1))\n",
    "\n",
    "        ax.set_ylim(np.amin(S3X_data[keys])*1.1, np.amax(S3X_data[keys])*1.1)\n",
    "    \n",
    "    fig.tight_layout()\n",
    "\n",
    "slider = widgets.IntSlider(value=0,min=0,max=len(S3X_data['time']),step=1,description=\"Time index\",layout=Layout(width='50%'))\n",
    "play   = widgets.Play(value=785,min=0, max=len(S3X_data['time']),step=1,interval=200,description=\"Press play\")\n",
    "\n",
    "widgets.jslink((play, 'value'), (slider, 'value'))\n",
    "\n",
    "interact(update_plot, \n",
    "\n",
    "         it_play=play,\n",
    "         time_slider = slider,\n",
    "         #time = time_widget\n",
    "        )"
   ]
  },
  {
   "attachments": {},
   "cell_type": "markdown",
   "metadata": {},
   "source": [
    "## <font color='red'>**Résultat**</font> - Profil initial et final"
   ]
  },
  {
   "cell_type": "code",
   "execution_count": 52,
   "metadata": {},
   "outputs": [
    {
     "name": "stderr",
     "output_type": "stream",
     "text": [
      "<ipython-input-52-bd473afa0ebf>:1: RuntimeWarning: More than 20 figures have been opened. Figures created through the pyplot interface (`matplotlib.pyplot.figure`) are retained until explicitly closed and may consume too much memory. (To control this warning, see the rcParam `figure.max_open_warning`).\n",
      "  fig = plt.figure(figsize=(18,9))\n"
     ]
    },
    {
     "data": {
      "application/vnd.jupyter.widget-view+json": {
       "model_id": "89a18de549ab4d1f9874a7f75533b4b2",
       "version_major": 2,
       "version_minor": 0
      },
      "text/plain": [
       "Canvas(toolbar=Toolbar(toolitems=[('Home', 'Reset original view', 'home', 'home'), ('Back', 'Back to previous …"
      ]
     },
     "metadata": {},
     "output_type": "display_data"
    }
   ],
   "source": [
    "fig = plt.figure(figsize=(18,9))\n",
    "\n",
    "keys_ar = ['T_FSavg', 'VExB_th_FSavg', 'n_FSavg', 'phi_FSavg']\n",
    "ax_ar = []\n",
    "for i in range(len(keys_ar)):\n",
    "    ax = fig.add_subplot(2,2,i+1)\n",
    "    ax_ar.append(ax)\n",
    "\n",
    "for ikey, keys in enumerate(keys_ar):\n",
    "    rho_ar = np.linspace(0.7,1,S3X_data[keys].shape[1])\n",
    "    ax=ax_ar[ikey]\n",
    "    ax.clear()\n",
    "\n",
    "    it_activation = np.argmin(np.abs(S3X_data['time'] - S3X_data['time_activation']))\n",
    "\n",
    "    ax.plot(rho_ar, S3X_data[keys][-1,:], c='r', ls='-', label=r'$t_{final} = %d [?]$' % S3X_data['time'][-1])\n",
    "    ax.plot(rho_ar, S3X_data[keys][it_activation,:], c='b', ls='--', label=r'$t_{switch~Bpol} = %d [?]$' % S3X_data['time_activation'])\n",
    "    \n",
    "    ax.set_title(keys)\n",
    "    ax.set_xlabel(r'$r/a$')\n",
    "    ax.axhline(y=0, c='k', ls='--')\n",
    "    ax.axvline(x=1, c='k', ls='--')\n",
    "    ax.legend()\n",
    "\n",
    "    ax.set_ylim(np.amin(S3X_data[keys])*1.1, np.amax(S3X_data[keys])*1.1)\n",
    "\n",
    "fig.tight_layout()\n",
    "\n"
   ]
  },
  {
   "attachments": {},
   "cell_type": "markdown",
   "metadata": {},
   "source": [
    "## <font color='red'>**Résultat**</font> - Evolution temporelle"
   ]
  },
  {
   "cell_type": "code",
   "execution_count": 15,
   "metadata": {},
   "outputs": [
    {
     "data": {
      "application/vnd.jupyter.widget-view+json": {
       "model_id": "813b225a9a89423ab5c964154a5a5e40",
       "version_major": 2,
       "version_minor": 0
      },
      "text/plain": [
       "Canvas(toolbar=Toolbar(toolitems=[('Home', 'Reset original view', 'home', 'home'), ('Back', 'Back to previous …"
      ]
     },
     "metadata": {},
     "output_type": "display_data"
    }
   ],
   "source": [
    "fig = plt.figure(figsize=(18,9))\n",
    "\n",
    "keys_ar = ['T_FSavg', 'VExB_th_FSavg', 'n_FSavg', 'phi_FSavg']\n",
    "ax_ar = []\n",
    "for i in range(len(keys_ar)):\n",
    "    ax = fig.add_subplot(2,2,i+1)\n",
    "    ax_ar.append(ax)\n",
    "\n",
    "for ikey, keys in enumerate(keys_ar):\n",
    "    rho_ar = np.linspace(0.7,1,S3X_data[keys].shape[1])\n",
    "    ax=ax_ar[ikey]\n",
    "    ax.clear()\n",
    "\n",
    "    irho = np.argmin(np.abs(rho_ar - 0.75))\n",
    "    irho2 = np.argmin(np.abs(rho_ar - 0.95))\n",
    "\n",
    "    ax.plot(S3X_data['time'], S3X_data[keys][:,irho], c='r', ls='-', label=r'$r/a = %.2f$' % rho_ar[irho])\n",
    "    ax.plot(S3X_data['time'], S3X_data[keys][:,irho2], c='b', ls='-', label=r'$r/a = %.2f$' % rho_ar[irho2])\n",
    "    \n",
    "    ax.set_title(keys)\n",
    "    ax.set_xlabel(r'Time $[?]$')\n",
    "    #ax.axhline(y=0, c='k', ls='--')\n",
    "    ax.axvline(x=S3X_data['time_activation'], c='g', ls='--', label=r'$t_{switch~Bpol}$')\n",
    "    ax.legend()\n",
    "\n",
    "    ax.set_xlim(left=550000)\n",
    "\n",
    "    #ax.set_ylim(np.amin(S3X_data[keys])*1.1, np.amax(S3X_data[keys])*1.1)\n",
    "\n",
    "fig.tight_layout()\n"
   ]
  }
 ],
 "metadata": {
  "kernelspec": {
   "display_name": "base",
   "language": "python",
   "name": "python3"
  },
  "language_info": {
   "codemirror_mode": {
    "name": "ipython",
    "version": 3
   },
   "file_extension": ".py",
   "mimetype": "text/x-python",
   "name": "python",
   "nbconvert_exporter": "python",
   "pygments_lexer": "ipython3",
   "version": "3.8.8"
  },
  "orig_nbformat": 4
 },
 "nbformat": 4,
 "nbformat_minor": 2
}
