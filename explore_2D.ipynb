{
 "cells": [
  {
   "attachments": {},
   "cell_type": "markdown",
   "metadata": {},
   "source": [
    "___\n",
    "___\n",
    "## <font color='coral'>**Appel de l'environment et chargement des données** </font> "
   ]
  },
  {
   "cell_type": "code",
   "execution_count": 1,
   "metadata": {},
   "outputs": [],
   "source": [
    "%reset -f\n",
    "import ipywidgets as widgets\n",
    "%matplotlib widget\n",
    "\n",
    "import numpy as np\n",
    "import matplotlib.pyplot as plt\n",
    "import matplotlib.gridspec as gridspec\n",
    "from scipy.ndimage.filters import uniform_filter1d, gaussian_filter1d\n",
    "from IPython.display import clear_output\n",
    "\n",
    "## For sliders\n",
    "from ipywidgets import Layout, interact\n",
    "\n",
    "## Set up rc\n",
    "plt.rcParams['image.cmap'] = 'RdYlBu_r'\n",
    "plt.rcParams['axes.formatter.limits'] = (-3,1)\n",
    "plt.rcParams['lines.linewidth'] = 2.5\n",
    "plt.rcParams.update({\"axes.grid\" : True})\n",
    "plt.rcParams['lines.markersize'] = 8\n",
    "plt.rcParams['lines.markeredgecolor'] = 'k'\n",
    "plt.rcParams['lines.markeredgewidth'] = 2.0\n",
    "plt.rc('font',size=18)\n",
    "me = (0.1,0.1) #Markevery\n",
    "\n",
    "import h5py\n",
    "\n",
    "def hdf5_to_dict(filename):\n",
    "    \"\"\"Load a dictionary of arrays and strings as unicode characters from an HDF5 file.\"\"\"\n",
    "    with h5py.File(filename, 'r') as f:\n",
    "        d = {}\n",
    "        for k in f.keys():\n",
    "            v = f[k][()]\n",
    "            if isinstance(v, bytes):\n",
    "                d[k] = v.decode('utf-8')\n",
    "            else:\n",
    "                d[k] = np.array(v)\n",
    "    return d"
   ]
  },
  {
   "attachments": {},
   "cell_type": "markdown",
   "metadata": {},
   "source": [
    "___\n",
    "___"
   ]
  },
  {
   "attachments": {},
   "cell_type": "markdown",
   "metadata": {},
   "source": [
    "<a id='exploration_radial_profile'></a>\n",
    "## <font color='xkcd:sage'>**Exploration**</font> - Carte $(r,\\theta)$ des sources"
   ]
  },
  {
   "cell_type": "code",
   "execution_count": 2,
   "metadata": {},
   "outputs": [
    {
     "data": {
      "application/vnd.jupyter.widget-view+json": {
       "model_id": "f747a7f07837496e941d283eb88e76dc",
       "version_major": 2,
       "version_minor": 0
      },
      "text/plain": [
       "interactive(children=(Select(description='keys', index=11, layout=Layout(height='220px', width='50%'), options…"
      ]
     },
     "metadata": {},
     "output_type": "display_data"
    },
    {
     "data": {
      "text/plain": [
       "<function __main__.update_plot(keys)>"
      ]
     },
     "execution_count": 2,
     "metadata": {},
     "output_type": "execute_result"
    }
   ],
   "source": [
    "## Load data\n",
    "q05_sources = hdf5_to_dict('data_2D/q05_sources_r020.h5')\n",
    "q15_sources = hdf5_to_dict('data_2D/q15_sources_r020.h5')\n",
    "\n",
    "## Plot 2D arrays in polar coordinates\n",
    "data = [q05_sources, q15_sources]\n",
    "def update_plot(keys):\n",
    "    fig = plt.figure(figsize=(20,10))\n",
    "    \n",
    "\n",
    "    for iq,q in enumerate(data):\n",
    "        ax = fig.add_subplot(1,len(data),iq+1, projection='polar')\n",
    "        theta_ar  = np.linspace(0,2*np.pi,q[keys].shape[0])\n",
    "        radial_ar = np.linspace(0,1.3,q[keys].shape[1])\n",
    "        p = ax.pcolormesh(theta_ar, radial_ar, q[keys].T, cmap='RdYlBu_r')\n",
    "        fig.colorbar(p, ax=ax)\n",
    "    # Add a r=1 circle\n",
    "    ax.plot(np.linspace(0,2*np.pi,100), np.ones(100), 'k--')\n",
    "\n",
    "keys_widget = widgets.Select(options=list(q05_sources), value='Vorticity_Sce', layout=Layout(width='50%', height='220px'))\n",
    "\n",
    "interact(update_plot, \n",
    "         keys = keys_widget\n",
    "        )"
   ]
  },
  {
   "attachments": {},
   "cell_type": "markdown",
   "metadata": {},
   "source": [
    "<a id='exploration_radial_profile'></a>\n",
    "## <font color='xkcd:sage'>**Exploration**</font> - Carte $(r,\\theta)$ des fichiers rprof_GC2D à $t=31000 [\\omega_{c0}^{-1}]$"
   ]
  },
  {
   "cell_type": "code",
   "execution_count": 3,
   "metadata": {},
   "outputs": [
    {
     "data": {
      "application/vnd.jupyter.widget-view+json": {
       "model_id": "96d9cabbc13440feb506fe718c347ec6",
       "version_major": 2,
       "version_minor": 0
      },
      "text/plain": [
       "interactive(children=(Select(description='keys', layout=Layout(height='220px', width='50%'), options=('IturbGC…"
      ]
     },
     "metadata": {},
     "output_type": "display_data"
    },
    {
     "data": {
      "text/plain": [
       "<function __main__.update_plot(keys, rhomax, gradr_bool, coef_adjust)>"
      ]
     },
     "execution_count": 3,
     "metadata": {},
     "output_type": "execute_result"
    }
   ],
   "source": [
    "## Load data\n",
    "q05_rprof2D = hdf5_to_dict('data_2D/q05_rprof2D_t31000.h5'); q05_rprof2D['title'] = 'q05'\n",
    "q15_rprof2D = hdf5_to_dict('data_2D/q15_rprof2D_t31000.h5'); q15_rprof2D['title'] = 'q15'\n",
    "\n",
    "## Plot 2D arrays in polar coordinates\n",
    "data = [q05_rprof2D, q15_rprof2D]\n",
    "def update_plot(keys,rhomax,gradr_bool,coef_adjust):\n",
    "    fig = plt.figure(figsize=(20,10))\n",
    "\n",
    "    for iq,q in enumerate(data):\n",
    "        ax = fig.add_subplot(1,len(data),iq+1, projection='polar')\n",
    "        theta_ar  = np.linspace(0,2*np.pi,q[keys].shape[0])\n",
    "        radial_ar = np.linspace(0,1.3,q[keys].shape[1])\n",
    "\n",
    "        irhomax = np.argmin(np.abs(radial_ar-rhomax))\n",
    "\n",
    "        \n",
    "\n",
    "        if gradr_bool : \n",
    "            vmax = np.amax(np.abs(np.gradient(data[1][keys],radial_ar*250,axis=1)[:,:irhomax])) * coef_adjust\n",
    "            vmin = -vmax\n",
    "            p = ax.pcolormesh(theta_ar, radial_ar[:irhomax], np.gradient(q[keys],radial_ar*250,axis=1)[:,:irhomax].T, cmap='RdYlBu_r', vmin=vmin, vmax=vmax)\n",
    "        else: \n",
    "            vmax = np.amax(np.abs(data[1][keys][:,:irhomax])) * coef_adjust\n",
    "            vmin = -vmax\n",
    "            p = ax.pcolormesh(theta_ar, radial_ar[:irhomax], q[keys][:,:irhomax].T, cmap='RdYlBu_r', vmin=vmin, vmax=vmax)\n",
    "        fig.colorbar(p, ax=ax)\n",
    "\n",
    "        ax.set_title(q['title'])\n",
    "        # Add a r=1 circle\n",
    "        ax.plot(np.linspace(0,2*np.pi,100), np.ones(100), 'k--')\n",
    "\n",
    "keys_widget   = widgets.Select(options=list(data[0]), value=list(data[0])[0], layout=Layout(width='50%', height='220px'))\n",
    "rhomax_widget = widgets.FloatSlider(value=1, min=0, max=1.3, step=0.05, description='Normalized radius range', layout=Layout(width='50%'), style = {'description_width': 'initial'}, continuous_update=False)\n",
    "gradr_bool_widget = widgets.Checkbox(value=False, description='Gradr', disabled=False, indent=False)\n",
    "coef_adjust_widget = widgets.FloatSlider(value=1, min=0.02, max=1, step=0.02, description='colormap_adjust', layout=Layout(width='50%'), style = {'description_width': 'initial'}, continuous_update=False)\n",
    "\n",
    "interact(update_plot, \n",
    "         keys        = keys_widget,\n",
    "         rhomax      = rhomax_widget,\n",
    "         gradr_bool  = gradr_bool_widget,\n",
    "         coef_adjust = coef_adjust_widget\n",
    "        )"
   ]
  },
  {
   "attachments": {},
   "cell_type": "markdown",
   "metadata": {},
   "source": [
    "<a id='exploration_radial_profile'></a>\n",
    "## <font color='xkcd:grey green'>**Test**</font> - Visualisation des oscillations radiale"
   ]
  },
  {
   "cell_type": "code",
   "execution_count": 4,
   "metadata": {},
   "outputs": [
    {
     "data": {
      "application/vnd.jupyter.widget-view+json": {
       "model_id": "7bd49f4c47bf43838a4b059856309c38",
       "version_major": 2,
       "version_minor": 0
      },
      "text/plain": [
       "Canvas(toolbar=Toolbar(toolitems=[('Home', 'Reset original view', 'home', 'home'), ('Back', 'Back to previous …"
      ]
     },
     "metadata": {},
     "output_type": "display_data"
    }
   ],
   "source": [
    "## Load data\n",
    "q05_rprof2D = hdf5_to_dict('data_2D/q05_rprof2D_t31000.h5'); q05_rprof2D['title'] = 'q05'\n",
    "q15_rprof2D = hdf5_to_dict('data_2D/q15_rprof2D_t31000.h5'); q15_rprof2D['title'] = 'q15'\n",
    "\n",
    "## Plot 2D arrays in polar coordinates\n",
    "data = [q05_rprof2D, q15_rprof2D]\n",
    "fig = plt.figure(figsize=(20,10))\n",
    "\n",
    "keys = 'densGC_rtheta'\n",
    "\n",
    "for iq,q in enumerate(data):\n",
    "    ax = fig.add_subplot(len(data),1,iq+1)\n",
    "    theta_ar  = np.linspace(0,2*np.pi,q[keys].shape[0])\n",
    "    radial_ar = np.linspace(0,1.3,q[keys].shape[1])\n",
    "\n",
    "    irhomin = np.argmin(np.abs(radial_ar-0.6))\n",
    "    irhomax = np.argmin(np.abs(radial_ar-0.75))\n",
    "    itheta_90deg = np.argmin(np.abs(theta_ar-np.pi/2))\n",
    "        \n",
    "    p = ax.plot(radial_ar[irhomin:irhomax], np.gradient(q[keys],radial_ar*250,axis=1)[itheta_90deg,irhomin:irhomax])\n",
    "\n",
    "    for rho in radial_ar[irhomin:irhomax]:\n",
    "        ax.axvline(rho, color='k', linestyle='--', alpha=0.2)\n",
    "\n",
    "    ax.set_title(q['title'])\n"
   ]
  }
 ],
 "metadata": {
  "kernelspec": {
   "display_name": "base",
   "language": "python",
   "name": "python3"
  },
  "language_info": {
   "codemirror_mode": {
    "name": "ipython",
    "version": 3
   },
   "file_extension": ".py",
   "mimetype": "text/x-python",
   "name": "python",
   "nbconvert_exporter": "python",
   "pygments_lexer": "ipython3",
   "version": "3.8.11"
  },
  "orig_nbformat": 4
 },
 "nbformat": 4,
 "nbformat_minor": 2
}
