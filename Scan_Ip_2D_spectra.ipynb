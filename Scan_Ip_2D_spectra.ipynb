{
 "cells": [
  {
   "attachments": {},
   "cell_type": "markdown",
   "metadata": {},
   "source": [
    "<a id='initialisation'></a>\n",
    "___\n",
    "___\n",
    "## <font color='coral'>**Appel de l'environment** </font> [▲](#sommaire)"
   ]
  },
  {
   "cell_type": "code",
   "execution_count": 1,
   "metadata": {},
   "outputs": [],
   "source": [
    "%reset -f\n",
    "import ipywidgets as widgets\n",
    "%matplotlib widget\n",
    "from ipywidgets import Layout, interact\n",
    "import matplotlib.pyplot as plt\n",
    "from RVutils import mydict, hdf5_to_dict, Fourier2D\n",
    "import numpy as np\n",
    "\n",
    "## Set up rc\n",
    "plt.rcParams['image.cmap'] = 'RdYlBu_r'\n",
    "plt.rcParams['axes.formatter.limits'] = (-3,1)\n",
    "plt.rcParams['lines.linewidth'] = 2.5\n",
    "plt.rcParams.update({\"axes.grid\" : True})\n",
    "plt.rcParams['lines.markersize'] = 8\n",
    "plt.rcParams['lines.markeredgecolor'] = 'k'\n",
    "plt.rcParams['lines.markeredgewidth'] = 2.0\n",
    "plt.rc('font',size=18)\n",
    "me = (0.1,0.1) #Markevery"
   ]
  },
  {
   "attachments": {},
   "cell_type": "markdown",
   "metadata": {},
   "source": [
    "## <font color='coral'>**Chargement des données** </font> "
   ]
  },
  {
   "cell_type": "code",
   "execution_count": 6,
   "metadata": {},
   "outputs": [
    {
     "name": "stdout",
     "output_type": "stream",
     "text": [
      "dict_keys(['Phithphi', 'T_rpeak', 'Tir', 'growth_rate_spectra', 'm', 'n', 'phig', 'q_rpeak', 'rpeak', 'thetag', 'time'])\n"
     ]
    }
   ],
   "source": [
    "q05_spectra = hdf5_to_dict(\"data/q05_growthrate_2Dspectra.hdf5\")\n",
    "q15_spectra = hdf5_to_dict(\"data/q15_growthrate_2Dspectra.hdf5\")\n",
    "print(q05_spectra.keys())"
   ]
  },
  {
   "attachments": {},
   "cell_type": "markdown",
   "metadata": {},
   "source": [
    "## <font color='royalblue'>**Tracé du spectre de $\\phi^2$** </font> "
   ]
  },
  {
   "cell_type": "code",
   "execution_count": 3,
   "metadata": {},
   "outputs": [
    {
     "name": "stdout",
     "output_type": "stream",
     "text": [
      "qrpeak = 0.96\n"
     ]
    },
    {
     "name": "stderr",
     "output_type": "stream",
     "text": [
      "E:\\Temp\\ipykernel_5936\\1795303237.py:33: RuntimeWarning: invalid value encountered in true_divide\n",
      "  Gammalin2D = np.log(self['TFPhi2D'][itend,:,:]/self['TFPhi2D'][itinit,:,:])/(tend-tinit)\n"
     ]
    },
    {
     "ename": "NameError",
     "evalue": "name 'dn2d' is not defined",
     "output_type": "error",
     "traceback": [
      "\u001b[1;31m---------------------------------------------------------------------------\u001b[0m",
      "\u001b[1;31mNameError\u001b[0m                                 Traceback (most recent call last)",
      "Cell \u001b[1;32mIn[3], line 69\u001b[0m\n\u001b[0;32m     66\u001b[0m Gammalin2D \u001b[39m=\u001b[39m q\u001b[39m.\u001b[39mestimate_GRlin2D(tinit,tend)\n\u001b[0;32m     68\u001b[0m C \u001b[39m=\u001b[39m \u001b[39m140\u001b[39m\n\u001b[1;32m---> 69\u001b[0m n_ex \u001b[39m=\u001b[39m np\u001b[39m.\u001b[39margmin(np\u001b[39m.\u001b[39mabs(n2d\u001b[39m-\u001b[39mdn2d\u001b[39m-\u001b[39mC))\n\u001b[0;32m     70\u001b[0m m_ex \u001b[39m=\u001b[39m np\u001b[39m.\u001b[39margmin(np\u001b[39m.\u001b[39mabs(m2d\u001b[39m-\u001b[39mdm2d\u001b[39m+\u001b[39mC\u001b[39m*\u001b[39mq[\u001b[39m'\u001b[39m\u001b[39mq_rpeak\u001b[39m\u001b[39m'\u001b[39m]))\n\u001b[0;32m     72\u001b[0m fig \u001b[39m=\u001b[39m plt\u001b[39m.\u001b[39mfigure(figsize\u001b[39m=\u001b[39m(\u001b[39m18\u001b[39m,\u001b[39m6\u001b[39m))\n",
      "\u001b[1;31mNameError\u001b[0m: name 'dn2d' is not defined"
     ]
    }
   ],
   "source": [
    "## Create custom dictionnary class for spectra\n",
    "class mydict2(dict):\n",
    "    def __init__(self, *args, **kwargs):\n",
    "        super(mydict2, self).__init__(*args, **kwargs)\n",
    "        self.__dict__ = self\n",
    "        \n",
    "        self['Nphi'] = len(self['phig'])-1\n",
    "        self['Ntheta'] = len(self['thetag'])-1\n",
    "        self['Phithphisq'] = self['Phithphi']**2\n",
    "\n",
    "        ## Evolution of mn spectra\n",
    "        tevol_TFPhi2D = np.zeros((len(self['time']),self['Nphi'],self['Ntheta']))\n",
    "        for it in range(len(self['time'])):\n",
    "            tevol_TFPhi2D[it,:,:] = np.abs(Fourier2D(self['Phithphisq'][it,0:self['Nphi']+1,0:self['Ntheta']+1],self['phig'],self['thetag'])[0])\n",
    "        self['TFPhi2D'] = tevol_TFPhi2D\n",
    "\n",
    "        ## Coordinates in m,n space\n",
    "        m2d,n2d = Fourier2D(self['Phithphisq'][-1,0:self['Nphi']+1,0:self['Ntheta']+1],self['phig'],self['thetag'])[1:]\n",
    "        dm2d = (m2d[1]-m2d[0])//2 ; m2d = m2d-dm2d\n",
    "        dn2d = (n2d[1]-n2d[0])//2 ; n2d = n2d-dn2d\n",
    "        self['m2d'] = m2d \n",
    "        self['n2d'] = n2d \n",
    "\n",
    "    def __getitem__(self, key): \n",
    "        if  key     == 'Nphi'       : return len(self['phig'])-1\n",
    "        if  key     == 'Ntheta'     : return len(self['thetag'])-1\n",
    "        if  key     == 'Phithphisq' : return self['Phithphi']**2\n",
    "        else: return super().__getitem__(key)\n",
    "\n",
    "    def estimate_GRlin2D(self,tinit,tend):\n",
    "        itinit = np.argmin(np.abs(self['time']-tinit))\n",
    "        itend  = np.argmin(np.abs(self['time']-tend))\n",
    "        Gammalin2D = np.log(self['TFPhi2D'][itend,:,:]/self['TFPhi2D'][itinit,:,:])/(tend-tinit)\n",
    "        return Gammalin2D\n",
    "\n",
    "## end of mydict2\n",
    "\n",
    "def hdf5_to_dict2(filename, cls=mydict2):\n",
    "    import h5py\n",
    "    \"\"\"Load a dictionary of arrays and strings as unicode characters from an HDF5 file.\"\"\"\n",
    "    with h5py.File(filename, 'r') as f:\n",
    "        d = {}\n",
    "        for k in f.keys():\n",
    "            v = f[k][()]\n",
    "            if isinstance(v, bytes):\n",
    "                d[k] = v.decode('utf-8')\n",
    "            else:\n",
    "                d[k] = np.array(v)\n",
    "    return cls(d)\n",
    "\n",
    "q05_spectra = hdf5_to_dict(\"data/q05_growthrate_2Dspectra.hdf5\",cls=mydict2)\n",
    "q15_spectra = hdf5_to_dict(\"data/q15_growthrate_2Dspectra.hdf5\",cls=mydict2)\n",
    "\n",
    "for iq,q in enumerate([q05_spectra,q15_spectra]):\n",
    "    print('qrpeak = %.2f' % q['q_rpeak'])\n",
    "\n",
    "    tevol_TFPhi2D = q['TFPhi2D']\n",
    "    m2d,n2d = q['m2d'],q['n2d']\n",
    "    Nphi = q['Nphi']\n",
    "    Ntheta = q['Ntheta']\n",
    "\n",
    "    ## Calculate the linear growth rate between tinit and tend\n",
    "    tinit = 15e3\n",
    "    tend  = 19e3\n",
    "\n",
    "    Gammalin2D = q.estimate_GRlin2D(tinit,tend)\n",
    "    \n",
    "    C = 140\n",
    "    n_ex = np.argmin(np.abs(n2d-dn2d-C))\n",
    "    m_ex = np.argmin(np.abs(m2d-dm2d+C*q['q_rpeak']))\n",
    "\n",
    "    fig = plt.figure(figsize=(18,6))\n",
    "\n",
    "    ## Plot the 2D spectrum\n",
    "    ax1 = fig.add_subplot(131)\n",
    "    p1 = ax1.pcolormesh(m2d,n2d,np.log10(tevol_TFPhi2D[-30,:,:]),vmin=-10,vmax=0)    \n",
    "    fig.colorbar(p1)\n",
    "    ax1.set_xlabel(r'$m$')\n",
    "    ax1.set_ylabel(r'$n$')\n",
    "    ax1.set_title(r'$\\log_{10}(|\\tilde{\\phi}|^2)$')\n",
    "    ax1.plot(m2d,-m2d/q['q_rpeak'],c='k',ls='--')\n",
    "    ## Add the point n_ex,m_ex to the plot\n",
    "    ax1.plot(m2d[m_ex],n2d[n_ex],'r+')\n",
    "\n",
    "    ## Plot the time evolution of the spectrum at n_ex,m_ex\n",
    "    ax2 = fig.add_subplot(132)\n",
    "    ax2.plot(q['time'],np.log10(tevol_TFPhi2D[:,n_ex,m_ex]))\n",
    "    ax2.axvline(tinit,c='k',ls='--')\n",
    "    ax2.axvline(tend,c='k',ls='--')\n",
    "\n",
    "    ## Plot the growth rate\n",
    "    ax3 = fig.add_subplot(133)\n",
    "    p3 = ax3.pcolormesh(m2d,n2d,Gammalin2D[:,:],vmin=0) \n",
    "    fig.colorbar(p3)\n",
    "\n",
    "    fig.tight_layout()"
   ]
  }
 ],
 "metadata": {
  "kernelspec": {
   "display_name": "base",
   "language": "python",
   "name": "python3"
  },
  "language_info": {
   "codemirror_mode": {
    "name": "ipython",
    "version": 3
   },
   "file_extension": ".py",
   "mimetype": "text/x-python",
   "name": "python",
   "nbconvert_exporter": "python",
   "pygments_lexer": "ipython3",
   "version": "3.8.11"
  },
  "orig_nbformat": 4
 },
 "nbformat": 4,
 "nbformat_minor": 2
}
