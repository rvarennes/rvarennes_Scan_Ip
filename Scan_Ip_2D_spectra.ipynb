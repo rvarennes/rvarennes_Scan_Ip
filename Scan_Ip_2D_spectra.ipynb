{
 "cells": [
  {
   "attachments": {},
   "cell_type": "markdown",
   "metadata": {},
   "source": [
    "<a id='initialisation'></a>\n",
    "___\n",
    "___\n",
    "## <font color='coral'>**Appel de l'environment** </font> [▲](#sommaire)"
   ]
  },
  {
   "cell_type": "code",
   "execution_count": 7,
   "metadata": {},
   "outputs": [],
   "source": [
    "%reset -f\n",
    "import ipywidgets as widgets\n",
    "%matplotlib widget\n",
    "from ipywidgets import Layout, interact\n",
    "import h5py\n",
    "import numpy as np\n",
    "import matplotlib.pyplot as plt\n",
    "from RVutils import *\n",
    "\n",
    "#Fourier2D()\n",
    "#hdf5_to_dict()"
   ]
  },
  {
   "cell_type": "code",
   "execution_count": 9,
   "metadata": {},
   "outputs": [
    {
     "ename": "NameError",
     "evalue": "name 'h5py' is not defined",
     "output_type": "error",
     "traceback": [
      "\u001b[1;31m---------------------------------------------------------------------------\u001b[0m",
      "\u001b[1;31mNameError\u001b[0m                                 Traceback (most recent call last)",
      "Cell \u001b[1;32mIn[9], line 3\u001b[0m\n\u001b[0;32m      1\u001b[0m plt\u001b[39m.\u001b[39mrcParams[\u001b[39m'\u001b[39m\u001b[39maxes.formatter.limits\u001b[39m\u001b[39m'\u001b[39m] \u001b[39m=\u001b[39m (\u001b[39m-\u001b[39m\u001b[39m5\u001b[39m,\u001b[39m6\u001b[39m)\n\u001b[1;32m----> 3\u001b[0m q05_spectra \u001b[39m=\u001b[39m hdf5_to_dict(\u001b[39m\"\u001b[39;49m\u001b[39mdata/q05_growthrate_2Dspectra.hdf5\u001b[39;49m\u001b[39m\"\u001b[39;49m)\n\u001b[0;32m      4\u001b[0m q15_spectra \u001b[39m=\u001b[39m hdf5_to_dict(\u001b[39m\"\u001b[39m\u001b[39mdata/q15_growthrate_2Dspectra.hdf5\u001b[39m\u001b[39m\"\u001b[39m)\n\u001b[0;32m      6\u001b[0m \u001b[39mprint\u001b[39m(q05_spectra\u001b[39m.\u001b[39mkeys())\n",
      "File \u001b[1;32me:\\Git_tmp\\rvarennes_Scan_Ip\\RVutils.py:27\u001b[0m, in \u001b[0;36mhdf5_to_dict\u001b[1;34m(filename)\u001b[0m\n\u001b[0;32m     25\u001b[0m \u001b[39mdef\u001b[39;00m \u001b[39mhdf5_to_dict\u001b[39m(filename):\n\u001b[0;32m     26\u001b[0m     \u001b[39m\"\"\"Load a dictionary of arrays and strings as unicode characters from an HDF5 file.\"\"\"\u001b[39;00m\n\u001b[1;32m---> 27\u001b[0m     \u001b[39mwith\u001b[39;00m h5py\u001b[39m.\u001b[39mFile(filename, \u001b[39m'\u001b[39m\u001b[39mr\u001b[39m\u001b[39m'\u001b[39m) \u001b[39mas\u001b[39;00m f:\n\u001b[0;32m     28\u001b[0m         d \u001b[39m=\u001b[39m {}\n\u001b[0;32m     29\u001b[0m         \u001b[39mfor\u001b[39;00m k \u001b[39min\u001b[39;00m f\u001b[39m.\u001b[39mkeys():\n",
      "\u001b[1;31mNameError\u001b[0m: name 'h5py' is not defined"
     ]
    }
   ],
   "source": [
    "plt.rcParams['axes.formatter.limits'] = (-5,6)\n",
    "\n",
    "q05_spectra = hdf5_to_dict(\"data/q05_growthrate_2Dspectra.hdf5\")\n",
    "q15_spectra = hdf5_to_dict(\"data/q15_growthrate_2Dspectra.hdf5\")\n",
    "\n",
    "print(q05_spectra.keys())"
   ]
  }
 ],
 "metadata": {
  "kernelspec": {
   "display_name": "base",
   "language": "python",
   "name": "python3"
  },
  "language_info": {
   "codemirror_mode": {
    "name": "ipython",
    "version": 3
   },
   "file_extension": ".py",
   "mimetype": "text/x-python",
   "name": "python",
   "nbconvert_exporter": "python",
   "pygments_lexer": "ipython3",
   "version": "3.8.11"
  },
  "orig_nbformat": 4
 },
 "nbformat": 4,
 "nbformat_minor": 2
}
