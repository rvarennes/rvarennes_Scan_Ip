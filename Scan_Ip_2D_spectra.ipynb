{
 "cells": [
  {
   "attachments": {},
   "cell_type": "markdown",
   "metadata": {},
   "source": [
    "<a id='initialisation'></a>\n",
    "___\n",
    "___\n",
    "## <font color='coral'>**Appel de l'environment** </font> [▲](#sommaire)"
   ]
  },
  {
   "cell_type": "code",
   "execution_count": 1,
   "metadata": {},
   "outputs": [],
   "source": [
    "%reset -f\n",
    "import ipywidgets as widgets\n",
    "%matplotlib widget\n",
    "from ipywidgets import Layout, interact\n",
    "import matplotlib.pyplot as plt\n",
    "from RVutils import *\n",
    "import numpy as np\n",
    "\n",
    "## Set up rc\n",
    "plt.rcParams['image.cmap'] = 'RdYlBu_r'\n",
    "plt.rcParams['axes.formatter.limits'] = (-2,3)\n",
    "plt.rcParams['lines.linewidth'] = 2.5\n",
    "plt.rcParams.update({\"axes.grid\" : True})\n",
    "plt.rcParams['lines.markersize'] = 8\n",
    "plt.rcParams['lines.markeredgecolor'] = 'k'\n",
    "plt.rcParams['lines.markeredgewidth'] = 2.0\n",
    "plt.rc('font',size=18)\n",
    "me = (0.1,0.1) #Markevery\n",
    "\n",
    "color_array = ['b','g','r','c','m','y','k','tab:blue','tab:orange','tab:green','tab:red','tab:purple','tab:brown','tab:pink','tab:gray','tab:olive','tab:cyan']"
   ]
  },
  {
   "attachments": {},
   "cell_type": "markdown",
   "metadata": {},
   "source": [
    "## <font color='coral'>**Chargement des données** </font> "
   ]
  },
  {
   "cell_type": "code",
   "execution_count": 4,
   "metadata": {},
   "outputs": [],
   "source": [
    "q05_spectra = hdf5_to_dict(\"data/q05_growthrate_2Dspectra.hdf5\",cls=mydict_mnspectra)        ; q05_spectra['tGR_init'] = 19e3; q05_spectra['tGR_end'] = 25e3\n",
    "q15_spectra = hdf5_to_dict(\"data/q15_growthrate_2Dspectra_aligned.hdf5\",cls=mydict_mnspectra); q15_spectra['tGR_init'] = 15e3; q15_spectra['tGR_end'] = 20e3"
   ]
  },
  {
   "attachments": {},
   "cell_type": "markdown",
   "metadata": {},
   "source": [
    "## <font color='green'>**Spectre 2D de $\\phi^2$** </font> "
   ]
  },
  {
   "cell_type": "code",
   "execution_count": 5,
   "metadata": {},
   "outputs": [
    {
     "name": "stdout",
     "output_type": "stream",
     "text": [
      "qrpeak = 0.96\n"
     ]
    },
    {
     "name": "stderr",
     "output_type": "stream",
     "text": [
      "e:\\Git_tmp\\rvarennes_Scan_Ip\\RVutils.py:52: RuntimeWarning: divide by zero encountered in true_divide\n",
      "  Gammalin2D = np.log(self['TFPhi2D'][itend,:,:]/self['TFPhi2D'][itinit,:,:])/(tend-tinit)\n",
      "e:\\Git_tmp\\rvarennes_Scan_Ip\\RVutils.py:52: RuntimeWarning: invalid value encountered in true_divide\n",
      "  Gammalin2D = np.log(self['TFPhi2D'][itend,:,:]/self['TFPhi2D'][itinit,:,:])/(tend-tinit)\n"
     ]
    },
    {
     "data": {
      "application/vnd.jupyter.widget-view+json": {
       "model_id": "cf93a754c4e4424da6e2521e6faee560",
       "version_major": 2,
       "version_minor": 0
      },
      "text/plain": [
       "Canvas(toolbar=Toolbar(toolitems=[('Home', 'Reset original view', 'home', 'home'), ('Back', 'Back to previous …"
      ]
     },
     "metadata": {},
     "output_type": "display_data"
    },
    {
     "name": "stderr",
     "output_type": "stream",
     "text": [
      "E:\\Temp\\ipykernel_9176\\3980685508.py:20: RuntimeWarning: divide by zero encountered in log10\n",
      "  p1 = ax1.pcolormesh(m2d,n2d,np.log10(tevol_TFPhi2D[-30,:,:]),vmin=-16,vmax=0)\n",
      "E:\\Temp\\ipykernel_9176\\3980685508.py:20: MatplotlibDeprecationWarning: shading='flat' when X and Y have the same dimensions as C is deprecated since 3.3.  Either specify the corners of the quadrilaterals with X and Y, or pass shading='auto', 'nearest' or 'gouraud', or set rcParams['pcolor.shading'].  This will become an error two minor releases later.\n",
      "  p1 = ax1.pcolormesh(m2d,n2d,np.log10(tevol_TFPhi2D[-30,:,:]),vmin=-16,vmax=0)\n",
      "E:\\Temp\\ipykernel_9176\\3980685508.py:44: MatplotlibDeprecationWarning: shading='flat' when X and Y have the same dimensions as C is deprecated since 3.3.  Either specify the corners of the quadrilaterals with X and Y, or pass shading='auto', 'nearest' or 'gouraud', or set rcParams['pcolor.shading'].  This will become an error two minor releases later.\n",
      "  p3 = ax3.pcolormesh(m2d,n2d,Gammalin2D[:,:],vmin=0,vmax=4e-3)\n"
     ]
    },
    {
     "name": "stdout",
     "output_type": "stream",
     "text": [
      "qrpeak = 2.87\n"
     ]
    },
    {
     "name": "stderr",
     "output_type": "stream",
     "text": [
      "e:\\Git_tmp\\rvarennes_Scan_Ip\\RVutils.py:52: RuntimeWarning: divide by zero encountered in true_divide\n",
      "  Gammalin2D = np.log(self['TFPhi2D'][itend,:,:]/self['TFPhi2D'][itinit,:,:])/(tend-tinit)\n",
      "e:\\Git_tmp\\rvarennes_Scan_Ip\\RVutils.py:52: RuntimeWarning: divide by zero encountered in log\n",
      "  Gammalin2D = np.log(self['TFPhi2D'][itend,:,:]/self['TFPhi2D'][itinit,:,:])/(tend-tinit)\n"
     ]
    },
    {
     "data": {
      "application/vnd.jupyter.widget-view+json": {
       "model_id": "6eccf3e925be44608162b0c2bcf791f2",
       "version_major": 2,
       "version_minor": 0
      },
      "text/plain": [
       "Canvas(toolbar=Toolbar(toolitems=[('Home', 'Reset original view', 'home', 'home'), ('Back', 'Back to previous …"
      ]
     },
     "metadata": {},
     "output_type": "display_data"
    },
    {
     "name": "stderr",
     "output_type": "stream",
     "text": [
      "E:\\Temp\\ipykernel_9176\\3980685508.py:20: RuntimeWarning: divide by zero encountered in log10\n",
      "  p1 = ax1.pcolormesh(m2d,n2d,np.log10(tevol_TFPhi2D[-30,:,:]),vmin=-16,vmax=0)\n",
      "E:\\Temp\\ipykernel_9176\\3980685508.py:20: MatplotlibDeprecationWarning: shading='flat' when X and Y have the same dimensions as C is deprecated since 3.3.  Either specify the corners of the quadrilaterals with X and Y, or pass shading='auto', 'nearest' or 'gouraud', or set rcParams['pcolor.shading'].  This will become an error two minor releases later.\n",
      "  p1 = ax1.pcolormesh(m2d,n2d,np.log10(tevol_TFPhi2D[-30,:,:]),vmin=-16,vmax=0)\n",
      "E:\\Temp\\ipykernel_9176\\3980685508.py:44: MatplotlibDeprecationWarning: shading='flat' when X and Y have the same dimensions as C is deprecated since 3.3.  Either specify the corners of the quadrilaterals with X and Y, or pass shading='auto', 'nearest' or 'gouraud', or set rcParams['pcolor.shading'].  This will become an error two minor releases later.\n",
      "  p3 = ax3.pcolormesh(m2d,n2d,Gammalin2D[:,:],vmin=0,vmax=4e-3)\n"
     ]
    }
   ],
   "source": [
    "for iq,q in enumerate([q05_spectra,q15_spectra]):\n",
    "    print('qrpeak = %.2f' % q['q_rpeak'])\n",
    "\n",
    "    tevol_TFPhi2D = q['TFPhi2D']\n",
    "    m2d ,n2d      = q['m2d'],  q['n2d']\n",
    "    dm2d,dn2d     = q['dm2d'], q['dn2d']\n",
    "    Nphi          = q['Nphi']\n",
    "    Ntheta        = q['Ntheta']\n",
    "\n",
    "    ## Calculate the linear growth rate between tinit and tend\n",
    "    tinit = q['tGR_init']\n",
    "    tend  = q['tGR_end']\n",
    "\n",
    "    Gammalin2D = q.estimate_GRlin2D(tinit,tend)\n",
    "\n",
    "    fig = plt.figure(figsize=(18,6))\n",
    "\n",
    "    ## Plot the 2D spectrum\n",
    "    ax1 = fig.add_subplot(131)\n",
    "    p1 = ax1.pcolormesh(m2d,n2d,np.log10(tevol_TFPhi2D[-30,:,:]),vmin=-16,vmax=0)    \n",
    "    fig.colorbar(p1)\n",
    "    ax1.set_xlabel(r'$m$')\n",
    "    ax1.set_ylabel(r'$n$')\n",
    "    ax1.set_title(r'$\\log_{10}(|\\tilde{\\phi}|^2)$')\n",
    "    ax1.plot(m2d,-m2d/q['q_rpeak'],c='k',ls='--')\n",
    "    ax1.set_ylim(n2d[0],n2d[-1])\n",
    "\n",
    "    ## Plot the time evolution of the spectrum at n_ex,m_ex\n",
    "    ax2 = fig.add_subplot(132)\n",
    "    ## Add the point n_ex,m_ex to the plot\n",
    "    for i,C in enumerate([0,20,40,60,80,100,120,140,160,180,200]):\n",
    "        # n_ex = np.argmin(np.abs(n2d-dn2d-C))\n",
    "        # m_ex = np.argmin(np.abs(m2d-dm2d+C*q['q_rpeak']))\n",
    "        n_ex = np.argmin(np.abs(n2d-C))\n",
    "        m_ex = np.argmin(np.abs(m2d+C*q['q_rpeak']))\n",
    "        ax1.plot(m2d[m_ex],n2d[n_ex],ls='',marker='o',c=color_array[i],ms=5)\n",
    "        ax2.plot(q['time'],np.log10(tevol_TFPhi2D[:,n_ex,m_ex]),c=color_array[i])\n",
    "    ax2.axvline(tinit,c='k',ls='--')\n",
    "    ax2.axvline(tend,c='k',ls='--')\n",
    "    ax2.set_xlabel(r'Time $[\\omega_{c0}^{-1}]$')\n",
    "\n",
    "    ## Plot the growth rate\n",
    "    ax3 = fig.add_subplot(133)\n",
    "    p3 = ax3.pcolormesh(m2d,n2d,Gammalin2D[:,:],vmin=0,vmax=4e-3) \n",
    "    fig.colorbar(p3)\n",
    "\n",
    "    fig.tight_layout()"
   ]
  }
 ],
 "metadata": {
  "kernelspec": {
   "display_name": "base",
   "language": "python",
   "name": "python3"
  },
  "language_info": {
   "codemirror_mode": {
    "name": "ipython",
    "version": 3
   },
   "file_extension": ".py",
   "mimetype": "text/x-python",
   "name": "python",
   "nbconvert_exporter": "python",
   "pygments_lexer": "ipython3",
   "version": "3.8.11"
  },
  "orig_nbformat": 4
 },
 "nbformat": 4,
 "nbformat_minor": 2
}
