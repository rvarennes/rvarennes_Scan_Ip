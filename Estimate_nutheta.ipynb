{
 "cells": [
  {
   "attachments": {},
   "cell_type": "markdown",
   "metadata": {},
   "source": [
    "<a id='initialisation'></a>\n",
    "___\n",
    "___\n",
    "## <font color='coral'>**Appel de l'environment** </font> [▲](#sommaire)"
   ]
  },
  {
   "cell_type": "code",
   "execution_count": 14,
   "metadata": {},
   "outputs": [],
   "source": [
    "%reset -f\n",
    "import ipywidgets as widgets\n",
    "%matplotlib widget\n",
    "from ipywidgets import Layout, interact\n",
    "import matplotlib.pyplot as plt\n",
    "from RVutils import *\n",
    "import numpy as np\n",
    "\n",
    "## Set up rc\n",
    "plt.rcParams['image.cmap'] = 'RdYlBu_r'\n",
    "plt.rcParams['axes.formatter.limits'] = (-2,3)\n",
    "plt.rcParams['lines.linewidth'] = 2.5\n",
    "plt.rcParams.update({\"axes.grid\" : True})\n",
    "plt.rcParams['lines.markersize'] = 8\n",
    "plt.rcParams['lines.markeredgecolor'] = 'k'\n",
    "plt.rcParams['lines.markeredgewidth'] = 2.0\n",
    "plt.rc('font',size=18)\n",
    "me = (0.1,0.1) #Markevery\n",
    "\n",
    "color_array = ['b','g','r','c','m','y','k','tab:blue','tab:orange','tab:green','tab:red','tab:purple','tab:brown','tab:pink','tab:gray','tab:olive','tab:cyan']\n",
    "\n",
    "#Size of figures\n",
    "dpi_laptop = 50; dpi_cadarache = 65; dpi_home = 100\n",
    "dpi_custom = dpi_home\n",
    "\n"
   ]
  },
  {
   "attachments": {},
   "cell_type": "markdown",
   "metadata": {},
   "source": [
    "## <font color='coral'>**Chargement des données** </font> [▲](#sommaire)"
   ]
  },
  {
   "cell_type": "code",
   "execution_count": 15,
   "metadata": {},
   "outputs": [
    {
     "name": "stdout",
     "output_type": "stream",
     "text": [
      "dict_keys(['As', 'Er', 'Er_00', 'Gamma_vD', 'Gamma_vE', 'Gamma_vEn0', 'Gamma_vEndiff0', 'Isq', 'Phi00', 'PhiFSavg', 'Ppar', 'Pperp', 'Qpar_vD', 'Qpar_vE', 'Qpar_vEn0', 'Qperp_vD', 'Qperp_vE', 'Qperp_vEn0', 'RSphi_vD', 'RSphi_vE', 'RSphi_vEn0', 'RSpol_vD', 'RSpol_vE', 'RSpol_vEn0', 'T', 'Ts0', 'VP', 'VT', 'Zs', 'delta_n_avg', 'eps', 'n', 'ns0', 'nu_i', 'nustar', 'q', 'rg', 'rho', 'spreading_0deg', 'spreading_180deg', 'spreading_270deg', 'spreading_90deg', 'spreading_FSavg', 'time', 'title', 'c'])\n"
     ]
    }
   ],
   "source": [
    "q05_v05  = hdf5_to_dict(\"data/q05_neo_v05.hdf5\") ;q05_v05['title']  = 'q05_v05' ; q05_v05['c'] = color_array[0]\n",
    "q15_vm05 = hdf5_to_dict(\"data/q05_neo_vm05.hdf5\");q15_vm05['title'] = 'q15_vm05'; q15_vm05['c'] = color_array[1]\n",
    "\n",
    "print(q05_v05.keys())\n",
    "\n",
    "all_sim = [q05_v05, q15_vm05]\n",
    "\n",
    "## Definintion of custom widgets used in interactive plots\n",
    "custom_widgets = {'dpi_adjust' : widgets.IntSlider(min=30, max=200, step=1,value=dpi_custom, continuous_update=False),\n",
    "                  'param'      : widgets.Text(value='Er',placeholder='Type something',description='Select parameter:', continuous_update=False),\n",
    "                  'select_sim' : widgets.SelectMultiple(options=[q['title'] for q in all_sim], value=[q['title'] for q in [all_sim[0], all_sim[-1]]], description='Simulations')}"
   ]
  },
  {
   "attachments": {},
   "cell_type": "markdown",
   "metadata": {},
   "source": [
    "## <font color='springgreen'>**Travail en cours**</font> - Plot time evolution of $V_P$ [▲](#sommaire)"
   ]
  },
  {
   "cell_type": "code",
   "execution_count": 20,
   "metadata": {},
   "outputs": [
    {
     "data": {
      "application/vnd.jupyter.widget-view+json": {
       "model_id": "47c366a4b46b43fc978401c2cded7593",
       "version_major": 2,
       "version_minor": 0
      },
      "text/plain": [
       "Canvas(toolbar=Toolbar(toolitems=[('Home', 'Reset original view', 'home', 'home'), ('Back', 'Back to previous …"
      ]
     },
     "metadata": {},
     "output_type": "display_data"
    },
    {
     "data": {
      "application/vnd.jupyter.widget-view+json": {
       "model_id": "f227d0d70fda4c56b023d210a0f3c39c",
       "version_major": 2,
       "version_minor": 0
      },
      "text/plain": [
       "interactive(children=(IntSlider(value=1, continuous_update=False, description='N', min=1), Text(value='dtVP', …"
      ]
     },
     "metadata": {},
     "output_type": "display_data"
    },
    {
     "data": {
      "text/plain": [
       "<function __main__.update_plot(N, param, param2, float_range_rho, float_range_time, select_sim, dpi_adjust)>"
      ]
     },
     "execution_count": 20,
     "metadata": {},
     "output_type": "execute_result"
    }
   ],
   "source": [
    "plt.close('all')\n",
    "\n",
    "fig = plt.figure(figsize=(12,6))\n",
    "ax_tevol = fig.add_subplot(121); ax_reg = fig.add_subplot(122)\n",
    "\n",
    "def update_plot(N,param,param2,float_range_rho,float_range_time,\n",
    "                select_sim,dpi_adjust):\n",
    "\n",
    "    q_ar = [q for q in all_sim if q['title'] in select_sim]\n",
    "    tmin_avg  ,tmax_avg   = float_range_time\n",
    "    rhomin_avg,rhomax_avg = float_range_rho\n",
    "\n",
    "    ## Set dpi of figure\n",
    "    fig.set_dpi(dpi_adjust)\n",
    "\n",
    "    ## Clear previous plot\n",
    "    ax_tevol.clear()\n",
    "\n",
    "    ## Set axes customizations\n",
    "    ax_tevol.set_title(r'Radial profile (avg %.2f < $r/a$ < %.2f)' % (rhomin_avg , rhomax_avg) )\n",
    "    fig.suptitle(r'Study of %s' %param)\n",
    "    \n",
    "    for q in q_ar:\n",
    "\n",
    "        itmin_avg, itmax_avg = np.searchsorted(q['time'],[tmin_avg,tmax_avg])\n",
    "        irhomin, irhomax     = np.searchsorted(q['rho'],[rhomin_avg,rhomax_avg])\n",
    "\n",
    "        ax_tevol.plot(q['time'], np.mean( q[param][:,irhomin:irhomax],axis=1),c=q['c'],label=q['title'])\n",
    "        ax_tevol.axvline(x=q['time'][itmin_avg],c='k',ls='--')\n",
    "        ax_tevol.axvline(x=q['time'][itmax_avg],c='k',ls='--')\n",
    "\n",
    "        ax_reg.plot( np.mean(q['VP'][itmin_avg,irhomin:irhomax],axis=0), np.mean(q['dtVP'][itmin_avg,irhomin:irhomax],axis=0), c=q['c'], marker='o', label=q['title'])\n",
    "        \n",
    "    ## Axes customizations\n",
    "    ax_tevol.set_xlabel(r'$t[\\omega_{c0}^{-1}]$')\n",
    "    ax_tevol.axhline(y=0,c='k',ls='--')\n",
    "    ax_tevol.legend(); ax_reg.legend()\n",
    "\n",
    "    fig.tight_layout(rect=[0, 0.03, 1, 0.95])\n",
    "    \n",
    "float_range_time_slider = widgets.FloatRangeSlider(value=[20e3, 50e3], min=0, max=55e3, step=1000, description='Time range', layout=Layout(width='50%'), continuous_update=False)\n",
    "float_range_rho_slider  = widgets.FloatRangeSlider(value=[0.45, 0.55], min=0.1, max=1.3, step=0.01, description='rho range', layout=Layout(width='50%'), continuous_update=False)\n",
    "\n",
    "interact(update_plot, \n",
    "         float_range_time = float_range_time_slider,\n",
    "         float_range_rho  = float_range_rho_slider,\n",
    "         **custom_widgets\n",
    "        )"
   ]
  }
 ],
 "metadata": {
  "kernelspec": {
   "display_name": "base",
   "language": "python",
   "name": "python3"
  },
  "language_info": {
   "codemirror_mode": {
    "name": "ipython",
    "version": 3
   },
   "file_extension": ".py",
   "mimetype": "text/x-python",
   "name": "python",
   "nbconvert_exporter": "python",
   "pygments_lexer": "ipython3",
   "version": "3.8.11"
  },
  "orig_nbformat": 4
 },
 "nbformat": 4,
 "nbformat_minor": 2
}
