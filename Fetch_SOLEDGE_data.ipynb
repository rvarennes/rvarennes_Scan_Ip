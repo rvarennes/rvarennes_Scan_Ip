{
 "cells": [
  {
   "attachments": {},
   "cell_type": "markdown",
   "metadata": {},
   "source": [
    "---\n",
    "# <center> <font size=\"15\"> <font color='red'>**SSH connect to get only useful SOLEDGE data on Marconi**</font></font>\n",
    "---"
   ]
  },
  {
   "attachments": {},
   "cell_type": "markdown",
   "metadata": {},
   "source": [
    "---\n",
    "## <center> <font color='xkcd:cherry red'>**Authentification**</font>\n",
    "---"
   ]
  },
  {
   "cell_type": "code",
   "execution_count": 5,
   "metadata": {},
   "outputs": [
    {
     "name": "stdout",
     "output_type": "stream",
     "text": [
      "mesh_raptorX.h5 is file\n",
      "soledge3x is file\n",
      "dVdS_raptorX.h5 is file\n",
      "split_raptorX.h5 is file\n",
      "metric_raptorX.h5 is file\n",
      "timeInfo.txt is file\n",
      "refParam_raptorX.h5 is file\n",
      "balances_0 is file\n",
      "sources_raptorX.h5 is file\n",
      "masks_raptorX.h5 is file\n",
      "param_raptorX.txt is file\n",
      "species_raptorX.txt is file\n",
      "balances_1 is file\n",
      "param_geom.txt is file\n",
      "plasmaFinal.h5 is file\n",
      "Plasma is folder\n",
      "soledge3x.status is file\n",
      "<paramiko.sftp_file.SFTPFile object at 0x000001665FED3A90>\n",
      "<KeysViewHDF5 ['NZones', 'Nelts', 'Nspecies', 'core', 'dt', 'metadata', 'tExec', 'tExecCumu', 'tNextSave', 'tcpu', 'tcpuCumu', 'tsimu', 'zone1', 'zone2']>\n",
      "[[[ 1.23511257e-05  1.24455159e-05  1.24972011e-05 ...  1.24455159e-05\n",
      "    1.24972011e-05  1.23062044e-05]\n",
      "  [ 5.35618430e-06  5.36020489e-06  5.46588756e-06 ...  5.36020489e-06\n",
      "    5.46588756e-06  5.43286753e-06]\n",
      "  [-3.98699492e-06 -4.08891471e-06 -4.03048851e-06 ... -4.08891471e-06\n",
      "   -4.03048851e-06 -3.94567233e-06]\n",
      "  ...\n",
      "  [ 5.35618430e-06  5.36020489e-06  5.46588756e-06 ...  5.36020489e-06\n",
      "    5.46588756e-06  5.43286753e-06]\n",
      "  [-3.98699492e-06 -4.08891471e-06 -4.03048851e-06 ... -4.08891471e-06\n",
      "   -4.03048851e-06 -3.94567233e-06]\n",
      "  [-1.17633862e-05 -1.19456809e-05 -1.19755103e-05 ... -1.19456809e-05\n",
      "   -1.19755103e-05 -1.18848534e-05]]\n",
      "\n",
      " [[ 1.23511257e-05  1.24455159e-05  1.24972011e-05 ...  1.24455159e-05\n",
      "    1.24972011e-05  1.23062044e-05]\n",
      "  [ 5.35618430e-06  5.36020489e-06  5.46588756e-06 ...  5.36020489e-06\n",
      "    5.46588756e-06  5.43286753e-06]\n",
      "  [-3.98699492e-06 -4.08891471e-06 -4.03048851e-06 ... -4.08891471e-06\n",
      "   -4.03048851e-06 -3.94567233e-06]\n",
      "  ...\n",
      "  [ 5.35618430e-06  5.36020489e-06  5.46588756e-06 ...  5.36020489e-06\n",
      "    5.46588756e-06  5.43286753e-06]\n",
      "  [-3.98699492e-06 -4.08891471e-06 -4.03048851e-06 ... -4.08891471e-06\n",
      "   -4.03048851e-06 -3.94567233e-06]\n",
      "  [-1.17633862e-05 -1.19456809e-05 -1.19755103e-05 ... -1.19456809e-05\n",
      "   -1.19755103e-05 -1.18848534e-05]]\n",
      "\n",
      " [[ 1.23511257e-05  1.24455159e-05  1.24972011e-05 ...  1.24455159e-05\n",
      "    1.24972011e-05  1.23062044e-05]\n",
      "  [ 5.35618430e-06  5.36020489e-06  5.46588756e-06 ...  5.36020489e-06\n",
      "    5.46588756e-06  5.43286753e-06]\n",
      "  [-3.98699492e-06 -4.08891471e-06 -4.03048851e-06 ... -4.08891471e-06\n",
      "   -4.03048851e-06 -3.94567233e-06]\n",
      "  ...\n",
      "  [ 5.35618430e-06  5.36020489e-06  5.46588756e-06 ...  5.36020489e-06\n",
      "    5.46588756e-06  5.43286753e-06]\n",
      "  [-3.98699492e-06 -4.08891471e-06 -4.03048851e-06 ... -4.08891471e-06\n",
      "   -4.03048851e-06 -3.94567233e-06]\n",
      "  [-1.17633862e-05 -1.19456809e-05 -1.19755103e-05 ... -1.19456809e-05\n",
      "   -1.19755103e-05 -1.18848534e-05]]\n",
      "\n",
      " ...\n",
      "\n",
      " [[ 5.39609950e-04  5.40956727e-04  5.39772622e-04 ...  5.40956727e-04\n",
      "    5.39772622e-04  5.38327831e-04]\n",
      "  [-4.14690902e-04 -4.12065326e-04 -4.11357616e-04 ... -4.12065326e-04\n",
      "   -4.11357616e-04 -4.12677807e-04]\n",
      "  [-7.20726949e-04 -7.22709336e-04 -7.20022345e-04 ... -7.22709336e-04\n",
      "   -7.20022345e-04 -7.19720617e-04]\n",
      "  ...\n",
      "  [-4.14690902e-04 -4.12065326e-04 -4.11357616e-04 ... -4.12065326e-04\n",
      "   -4.11357616e-04 -4.12677807e-04]\n",
      "  [-7.20726949e-04 -7.22709336e-04 -7.20022345e-04 ... -7.22709336e-04\n",
      "   -7.20022345e-04 -7.19720617e-04]\n",
      "  [-8.87013554e-04 -8.88764574e-04 -8.90694209e-04 ... -8.88764574e-04\n",
      "   -8.90694209e-04 -8.88264984e-04]]\n",
      "\n",
      " [[ 3.43669484e-03  3.43728298e-03  3.43782804e-03 ...  3.43728298e-03\n",
      "    3.43782804e-03  3.43766622e-03]\n",
      "  [-4.14690902e-04 -4.12065326e-04 -4.11357616e-04 ... -4.12065326e-04\n",
      "   -4.11357616e-04 -4.12677807e-04]\n",
      "  [-7.20726949e-04 -7.22709336e-04 -7.20022345e-04 ... -7.22709336e-04\n",
      "   -7.20022345e-04 -7.19720617e-04]\n",
      "  ...\n",
      "  [-4.14690902e-04 -4.12065326e-04 -4.11357616e-04 ... -4.12065326e-04\n",
      "   -4.11357616e-04 -4.12677807e-04]\n",
      "  [-7.20726949e-04 -7.22709336e-04 -7.20022345e-04 ... -7.22709336e-04\n",
      "   -7.20022345e-04 -7.19720617e-04]\n",
      "  [-8.08315499e-04 -8.07443637e-04 -8.07338683e-04 ... -8.07443637e-04\n",
      "   -8.07338683e-04 -8.07440802e-04]]\n",
      "\n",
      " [[ 1.72408025e-03  1.72389782e-03  1.72369180e-03 ...  1.72389782e-03\n",
      "    1.72369180e-03  1.72392092e-03]\n",
      "  [ 0.00000000e+00  0.00000000e+00  0.00000000e+00 ...  0.00000000e+00\n",
      "    0.00000000e+00  0.00000000e+00]\n",
      "  [ 0.00000000e+00  0.00000000e+00  0.00000000e+00 ...  0.00000000e+00\n",
      "    0.00000000e+00  0.00000000e+00]\n",
      "  ...\n",
      "  [ 0.00000000e+00  0.00000000e+00  0.00000000e+00 ...  0.00000000e+00\n",
      "    0.00000000e+00  0.00000000e+00]\n",
      "  [ 0.00000000e+00  0.00000000e+00  0.00000000e+00 ...  0.00000000e+00\n",
      "    0.00000000e+00  0.00000000e+00]\n",
      "  [-1.49219942e-03 -1.49183727e-03 -1.49170404e-03 ... -1.49183727e-03\n",
      "   -1.49170404e-03 -1.49173079e-03]]]\n"
     ]
    },
    {
     "name": "stderr",
     "output_type": "stream",
     "text": [
      "Socket exception: Une connexion existante a dû être fermée par l’hôte distant (10054)\n"
     ]
    }
   ],
   "source": [
    "import paramiko\n",
    "import h5py\n",
    "from stat import S_ISDIR, S_ISREG\n",
    "import numpy as np\n",
    "\n",
    "# Get password\n",
    "#password = getpass.getpass(prompt='Password: ', stream=None)\n",
    "password = 'Theinetrobot4428!!'\n",
    "\n",
    "# Create SSH client\n",
    "ssh = paramiko.SSHClient()\n",
    "\n",
    "## Add missing host key\n",
    "ssh.set_missing_host_key_policy(paramiko.AutoAddPolicy())\n",
    "\n",
    "## Connect to the server\n",
    "def connect():\n",
    "    try:\n",
    "        ssh.connect(hostname='login.marconi.cineca.it', username='rvarenne', password=password)\n",
    "    except:\n",
    "        print('Connection failed. Please try again.')\n",
    "        return False\n",
    "    return True\n",
    "\n",
    "## Print all file in remote directory\n",
    "def print_all_files_in_remote_directory(directory):\n",
    "    sftp = ssh.open_sftp()\n",
    "    for entry in sftp.listdir_attr(directory):\n",
    "        mode = entry.st_mode\n",
    "        if S_ISDIR(mode):\n",
    "            print(entry.filename + \" is folder\")\n",
    "        elif S_ISREG(mode):\n",
    "            print(entry.filename + \" is file\")\n",
    "\n",
    "## Print all keys of hdf5 file in remote directory\n",
    "def print_keys_of_hdf5_file_in_remote_directory(directory, filename):\n",
    "    sftp = ssh.open_sftp()\n",
    "    f = sftp.open(directory+'/'+filename, 'r')\n",
    "    print(f)\n",
    "    fh5 = h5py.File(f, 'r')\n",
    "    print(fh5.keys())\n",
    "\n",
    "## Print a numpy array of a specific dataset in hdf5 file in remote directory\n",
    "def print_numpy_array_of_dataset_in_hdf5_file_in_remote_directory(directory, filename, dataset):\n",
    "    sftp = ssh.open_sftp()\n",
    "    f = sftp.open(directory+'/'+filename, 'r')\n",
    "    fh5 = h5py.File(f, 'r')\n",
    "    print( np.array( fh5.get(dataset) ) )\n",
    "\n",
    "test_directory='/marconi_scratch/userexternal/rvarenne/SOLEDGE_TEST_CASE1/circular_noEIRENE_3D_gloria_version/run_dir'\n",
    "test_filename='plasmaFinal.h5'\n",
    "#test_filename='mesh_raptorX.h5'\n",
    "test_dataset='zone1/ExB/psi'\n",
    "\n",
    "if connect():\n",
    "    print_all_files_in_remote_directory(test_directory)\n",
    "    print_keys_of_hdf5_file_in_remote_directory(test_directory, test_filename)\n",
    "    print_numpy_array_of_dataset_in_hdf5_file_in_remote_directory(test_directory, test_filename, test_dataset)\n",
    "    #ssh.close()"
   ]
  },
  {
   "attachments": {},
   "cell_type": "markdown",
   "metadata": {},
   "source": [
    "---\n",
    "## <center> <font color='xkcd:cherry red'>**Proof of concept : get $\\langle \\mathbf{E}\\times\\mathbf{B} \\cdot \\nabla \\theta \\rangle_{FS}$ and plot radial profile**</font>\n",
    "---"
   ]
  },
  {
   "cell_type": "code",
   "execution_count": 2,
   "metadata": {},
   "outputs": [
    {
     "name": "stdout",
     "output_type": "stream",
     "text": [
      "Connection failed. Please try again.\n",
      "None\n"
     ]
    },
    {
     "ename": "ValueError",
     "evalue": "x, y, and format string must not be None",
     "output_type": "error",
     "traceback": [
      "\u001b[1;31m---------------------------------------------------------------------------\u001b[0m",
      "\u001b[1;31mValueError\u001b[0m                                Traceback (most recent call last)",
      "\u001b[1;32m<ipython-input-2-e28061e99a1b>\u001b[0m in \u001b[0;36m<module>\u001b[1;34m\u001b[0m\n\u001b[0;32m     22\u001b[0m \u001b[1;33m\u001b[0m\u001b[0m\n\u001b[0;32m     23\u001b[0m \u001b[1;32mimport\u001b[0m \u001b[0mmatplotlib\u001b[0m\u001b[1;33m.\u001b[0m\u001b[0mpyplot\u001b[0m \u001b[1;32mas\u001b[0m \u001b[0mplt\u001b[0m\u001b[1;33m\u001b[0m\u001b[1;33m\u001b[0m\u001b[0m\n\u001b[1;32m---> 24\u001b[1;33m \u001b[0mplt\u001b[0m\u001b[1;33m.\u001b[0m\u001b[0mplot\u001b[0m\u001b[1;33m(\u001b[0m\u001b[0mdata\u001b[0m\u001b[1;33m)\u001b[0m\u001b[1;33m\u001b[0m\u001b[1;33m\u001b[0m\u001b[0m\n\u001b[0m\u001b[0;32m     25\u001b[0m \u001b[0mplt\u001b[0m\u001b[1;33m.\u001b[0m\u001b[0maxhline\u001b[0m\u001b[1;33m(\u001b[0m\u001b[0my\u001b[0m\u001b[1;33m=\u001b[0m\u001b[1;36m0\u001b[0m\u001b[1;33m,\u001b[0m \u001b[0mcolor\u001b[0m\u001b[1;33m=\u001b[0m\u001b[1;34m'k'\u001b[0m\u001b[1;33m,\u001b[0m \u001b[0mlinestyle\u001b[0m\u001b[1;33m=\u001b[0m\u001b[1;34m'--'\u001b[0m\u001b[1;33m)\u001b[0m\u001b[1;33m\u001b[0m\u001b[1;33m\u001b[0m\u001b[0m\n",
      "\u001b[1;32m~\\AppData\\Roaming\\Python\\Python38\\site-packages\\matplotlib\\pyplot.py\u001b[0m in \u001b[0;36mplot\u001b[1;34m(scalex, scaley, data, *args, **kwargs)\u001b[0m\n\u001b[0;32m   2785\u001b[0m \u001b[1;33m@\u001b[0m\u001b[0mdocstring\u001b[0m\u001b[1;33m.\u001b[0m\u001b[0mcopy\u001b[0m\u001b[1;33m(\u001b[0m\u001b[0mAxes\u001b[0m\u001b[1;33m.\u001b[0m\u001b[0mplot\u001b[0m\u001b[1;33m)\u001b[0m\u001b[1;33m\u001b[0m\u001b[1;33m\u001b[0m\u001b[0m\n\u001b[0;32m   2786\u001b[0m \u001b[1;32mdef\u001b[0m \u001b[0mplot\u001b[0m\u001b[1;33m(\u001b[0m\u001b[1;33m*\u001b[0m\u001b[0margs\u001b[0m\u001b[1;33m,\u001b[0m \u001b[0mscalex\u001b[0m\u001b[1;33m=\u001b[0m\u001b[1;32mTrue\u001b[0m\u001b[1;33m,\u001b[0m \u001b[0mscaley\u001b[0m\u001b[1;33m=\u001b[0m\u001b[1;32mTrue\u001b[0m\u001b[1;33m,\u001b[0m \u001b[0mdata\u001b[0m\u001b[1;33m=\u001b[0m\u001b[1;32mNone\u001b[0m\u001b[1;33m,\u001b[0m \u001b[1;33m**\u001b[0m\u001b[0mkwargs\u001b[0m\u001b[1;33m)\u001b[0m\u001b[1;33m:\u001b[0m\u001b[1;33m\u001b[0m\u001b[1;33m\u001b[0m\u001b[0m\n\u001b[1;32m-> 2787\u001b[1;33m     return gca().plot(\n\u001b[0m\u001b[0;32m   2788\u001b[0m         *args, scalex=scalex, scaley=scaley, **({\"data\": data} if data\n\u001b[0;32m   2789\u001b[0m         is not None else {}), **kwargs)\n",
      "\u001b[1;32m~\\AppData\\Roaming\\Python\\Python38\\site-packages\\matplotlib\\axes\\_axes.py\u001b[0m in \u001b[0;36mplot\u001b[1;34m(self, scalex, scaley, data, *args, **kwargs)\u001b[0m\n\u001b[0;32m   1663\u001b[0m         \"\"\"\n\u001b[0;32m   1664\u001b[0m         \u001b[0mkwargs\u001b[0m \u001b[1;33m=\u001b[0m \u001b[0mcbook\u001b[0m\u001b[1;33m.\u001b[0m\u001b[0mnormalize_kwargs\u001b[0m\u001b[1;33m(\u001b[0m\u001b[0mkwargs\u001b[0m\u001b[1;33m,\u001b[0m \u001b[0mmlines\u001b[0m\u001b[1;33m.\u001b[0m\u001b[0mLine2D\u001b[0m\u001b[1;33m.\u001b[0m\u001b[0m_alias_map\u001b[0m\u001b[1;33m)\u001b[0m\u001b[1;33m\u001b[0m\u001b[1;33m\u001b[0m\u001b[0m\n\u001b[1;32m-> 1665\u001b[1;33m         \u001b[0mlines\u001b[0m \u001b[1;33m=\u001b[0m \u001b[1;33m[\u001b[0m\u001b[1;33m*\u001b[0m\u001b[0mself\u001b[0m\u001b[1;33m.\u001b[0m\u001b[0m_get_lines\u001b[0m\u001b[1;33m(\u001b[0m\u001b[1;33m*\u001b[0m\u001b[0margs\u001b[0m\u001b[1;33m,\u001b[0m \u001b[0mdata\u001b[0m\u001b[1;33m=\u001b[0m\u001b[0mdata\u001b[0m\u001b[1;33m,\u001b[0m \u001b[1;33m**\u001b[0m\u001b[0mkwargs\u001b[0m\u001b[1;33m)\u001b[0m\u001b[1;33m]\u001b[0m\u001b[1;33m\u001b[0m\u001b[1;33m\u001b[0m\u001b[0m\n\u001b[0m\u001b[0;32m   1666\u001b[0m         \u001b[1;32mfor\u001b[0m \u001b[0mline\u001b[0m \u001b[1;32min\u001b[0m \u001b[0mlines\u001b[0m\u001b[1;33m:\u001b[0m\u001b[1;33m\u001b[0m\u001b[1;33m\u001b[0m\u001b[0m\n\u001b[0;32m   1667\u001b[0m             \u001b[0mself\u001b[0m\u001b[1;33m.\u001b[0m\u001b[0madd_line\u001b[0m\u001b[1;33m(\u001b[0m\u001b[0mline\u001b[0m\u001b[1;33m)\u001b[0m\u001b[1;33m\u001b[0m\u001b[1;33m\u001b[0m\u001b[0m\n",
      "\u001b[1;32m~\\AppData\\Roaming\\Python\\Python38\\site-packages\\matplotlib\\axes\\_base.py\u001b[0m in \u001b[0;36m__call__\u001b[1;34m(self, *args, **kwargs)\u001b[0m\n\u001b[0;32m    223\u001b[0m                 \u001b[0mthis\u001b[0m \u001b[1;33m+=\u001b[0m \u001b[0margs\u001b[0m\u001b[1;33m[\u001b[0m\u001b[1;36m0\u001b[0m\u001b[1;33m]\u001b[0m\u001b[1;33m,\u001b[0m\u001b[1;33m\u001b[0m\u001b[1;33m\u001b[0m\u001b[0m\n\u001b[0;32m    224\u001b[0m                 \u001b[0margs\u001b[0m \u001b[1;33m=\u001b[0m \u001b[0margs\u001b[0m\u001b[1;33m[\u001b[0m\u001b[1;36m1\u001b[0m\u001b[1;33m:\u001b[0m\u001b[1;33m]\u001b[0m\u001b[1;33m\u001b[0m\u001b[1;33m\u001b[0m\u001b[0m\n\u001b[1;32m--> 225\u001b[1;33m             \u001b[1;32myield\u001b[0m \u001b[1;32mfrom\u001b[0m \u001b[0mself\u001b[0m\u001b[1;33m.\u001b[0m\u001b[0m_plot_args\u001b[0m\u001b[1;33m(\u001b[0m\u001b[0mthis\u001b[0m\u001b[1;33m,\u001b[0m \u001b[0mkwargs\u001b[0m\u001b[1;33m)\u001b[0m\u001b[1;33m\u001b[0m\u001b[1;33m\u001b[0m\u001b[0m\n\u001b[0m\u001b[0;32m    226\u001b[0m \u001b[1;33m\u001b[0m\u001b[0m\n\u001b[0;32m    227\u001b[0m     \u001b[1;32mdef\u001b[0m \u001b[0mget_next_color\u001b[0m\u001b[1;33m(\u001b[0m\u001b[0mself\u001b[0m\u001b[1;33m)\u001b[0m\u001b[1;33m:\u001b[0m\u001b[1;33m\u001b[0m\u001b[1;33m\u001b[0m\u001b[0m\n",
      "\u001b[1;32m~\\AppData\\Roaming\\Python\\Python38\\site-packages\\matplotlib\\axes\\_base.py\u001b[0m in \u001b[0;36m_plot_args\u001b[1;34m(self, tup, kwargs)\u001b[0m\n\u001b[0;32m    375\u001b[0m         \u001b[1;31m# downstream.\u001b[0m\u001b[1;33m\u001b[0m\u001b[1;33m\u001b[0m\u001b[1;33m\u001b[0m\u001b[0m\n\u001b[0;32m    376\u001b[0m         \u001b[1;32mif\u001b[0m \u001b[0many\u001b[0m\u001b[1;33m(\u001b[0m\u001b[0mv\u001b[0m \u001b[1;32mis\u001b[0m \u001b[1;32mNone\u001b[0m \u001b[1;32mfor\u001b[0m \u001b[0mv\u001b[0m \u001b[1;32min\u001b[0m \u001b[0mtup\u001b[0m\u001b[1;33m)\u001b[0m\u001b[1;33m:\u001b[0m\u001b[1;33m\u001b[0m\u001b[1;33m\u001b[0m\u001b[0m\n\u001b[1;32m--> 377\u001b[1;33m             \u001b[1;32mraise\u001b[0m \u001b[0mValueError\u001b[0m\u001b[1;33m(\u001b[0m\u001b[1;34m\"x, y, and format string must not be None\"\u001b[0m\u001b[1;33m)\u001b[0m\u001b[1;33m\u001b[0m\u001b[1;33m\u001b[0m\u001b[0m\n\u001b[0m\u001b[0;32m    378\u001b[0m \u001b[1;33m\u001b[0m\u001b[0m\n\u001b[0;32m    379\u001b[0m         \u001b[0mkw\u001b[0m \u001b[1;33m=\u001b[0m \u001b[1;33m{\u001b[0m\u001b[1;33m}\u001b[0m\u001b[1;33m\u001b[0m\u001b[1;33m\u001b[0m\u001b[0m\n",
      "\u001b[1;31mValueError\u001b[0m: x, y, and format string must not be None"
     ]
    },
    {
     "data": {
      "image/png": "[encoded data removed]",
      "text/plain": [
       "<Figure size 432x288 with 1 Axes>"
      ]
     },
     "metadata": {
      "needs_background": "light"
     },
     "output_type": "display_data"
    }
   ],
   "source": [
    "## Get the flux averaged value of a specific dataset in hdf5 file in remote directory\n",
    "def get_FS_profile(directory, filename, dataset):\n",
    "    sftp = ssh.open_sftp()\n",
    "    f = sftp.open(directory+'/'+filename, 'r')\n",
    "    fh5 = h5py.File(f, 'r')\n",
    "    data = np.mean( np.array( fh5.get(dataset) ) , axis=(1,2))\n",
    "    fh5.close()\n",
    "    return data\n",
    "    \n",
    "    \n",
    "#directory='/marconi_scratch/userexternal/rvarenne/SOLEDGE_TEST_CASE1/circular_noEIRENE_3D_gloria_version/run_dir'\n",
    "directory='/marconi_scratch/userexternal/gfalchet/S3XE/SE3Xneo/3Dneo_from52thVQ/neo3D_r13/run_dir'\n",
    "filename='plasmaFinal.h5'\n",
    "dataset='zone1/ExB/theta'\n",
    "\n",
    "data = None\n",
    "if connect():\n",
    "    data = get_FS_profile(directory, filename, dataset)\n",
    "    ssh.close()\n",
    "\n",
    "print(data)\n",
    "\n",
    "import matplotlib.pyplot as plt\n",
    "plt.plot(data)\n",
    "plt.axhline(y=0, color='k', linestyle='--')\n"
   ]
  },
  {
   "attachments": {},
   "cell_type": "markdown",
   "metadata": {},
   "source": [
    "---\n",
    "## <center> <font color='xkcd:cherry red'>**Construct the time averaged $\\langle \\mathbf{E}\\times\\mathbf{B} \\cdot \\nabla \\theta \\rangle_{FS}$**</font>\n",
    "---"
   ]
  },
  {
   "cell_type": "code",
   "execution_count": 10,
   "metadata": {},
   "outputs": [
    {
     "name": "stdout",
     "output_type": "stream",
     "text": [
      "['plasma_00000.h5', 'plasma_00001.h5', 'plasma_00002.h5', 'plasma_00003.h5', 'plasma_00004.h5', 'plasma_00005.h5', 'plasma_00006.h5', 'plasma_00007.h5', 'plasma_00008.h5', 'plasma_00009.h5', 'plasma_00010.h5', 'plasma_00011.h5', 'plasma_00012.h5', 'plasma_00013.h5', 'plasma_00014.h5', 'plasma_00015.h5', 'plasma_00016.h5', 'plasma_00017.h5', 'plasma_00018.h5', 'plasma_00019.h5', 'plasma_00020.h5', 'plasma_00021.h5', 'plasma_00022.h5', 'plasma_00023.h5', 'plasma_00024.h5', 'plasma_00025.h5', 'plasma_00026.h5', 'plasma_00027.h5', 'plasma_00028.h5', 'plasma_00029.h5', 'plasma_00030.h5', 'plasma_00031.h5', 'plasma_00032.h5', 'plasma_00033.h5', 'plasma_00034.h5', 'plasma_00035.h5', 'plasma_00036.h5', 'plasma_00037.h5', 'plasma_00038.h5', 'plasma_00039.h5', 'plasma_00040.h5', 'plasma_00041.h5', 'plasma_00042.h5', 'plasma_00043.h5', 'plasma_00044.h5', 'plasma_00045.h5', 'plasma_00046.h5', 'plasma_00047.h5', 'plasma_00048.h5', 'plasma_00049.h5', 'plasma_00050.h5', 'plasma_00051.h5', 'plasma_00052.h5', 'plasma_00053.h5', 'plasma_00054.h5', 'plasma_00055.h5', 'plasma_00056.h5', 'plasma_00057.h5', 'plasma_00058.h5', 'plasma_00059.h5', 'plasma_00060.h5', 'plasma_00061.h5', 'plasma_00062.h5', 'plasma_00063.h5', 'plasma_00064.h5', 'plasma_00065.h5', 'plasma_00066.h5', 'plasma_00067.h5', 'plasma_00068.h5', 'plasma_00069.h5']\n",
      "Iteration 1 / 70\n",
      "Iteration 2 / 70\n",
      "Iteration 3 / 70\n",
      "Iteration 4 / 70\n",
      "Iteration 5 / 70\n",
      "Iteration 6 / 70\n",
      "Iteration 7 / 70\n",
      "Iteration 8 / 70\n",
      "Iteration 9 / 70\n",
      "Iteration 10 / 70\n",
      "Iteration 11 / 70\n",
      "Iteration 12 / 70\n",
      "Iteration 13 / 70\n",
      "Iteration 14 / 70\n",
      "Iteration 15 / 70\n",
      "Iteration 16 / 70\n",
      "Iteration 17 / 70\n",
      "Iteration 18 / 70\n",
      "Iteration 19 / 70\n",
      "Iteration 20 / 70\n",
      "Iteration 21 / 70\n",
      "Iteration 22 / 70\n",
      "Iteration 23 / 70\n",
      "Iteration 24 / 70\n",
      "Iteration 25 / 70\n"
     ]
    }
   ],
   "source": [
    "from joblib import Parallel, delayed\n",
    "import dill as pickle\n",
    "\n",
    "## Open a SFTP connection\n",
    "sftp = ssh.open_sftp()\n",
    "\n",
    "directory='/marconi_scratch/userexternal/gfalchet/S3XE/SE3Xneo/3Dneo_from52thVQ/neo3D_r13/run_dir/Plasma'\n",
    "\n",
    "## Get the list of filepath of Plasma_xxx.h5\n",
    "filename_ar=sorted(sftp.listdir(directory))\n",
    "print(filename_ar)\n",
    "\n",
    "## Create a filepath array by adding the directory path to the filename for each element of filename_ar\n",
    "filepath_ar = [directory+'/'+filename for filename in filename_ar]\n",
    "\n",
    "i = 1\n",
    "## Define a function that takes a file path (to the Plasma_xxx.h5) as an input and return the flux surface averaged value of ExB.e_theta\n",
    "def get_FS_profile(filepath):\n",
    "    global i\n",
    "    print('Iteration %s / %s' % (i, len(filepath_ar)))\n",
    "    i += 1\n",
    "    # print('In the function !')\n",
    "    f = sftp.open(filepath, 'r')\n",
    "    # print('Passed the sftp thingy !')\n",
    "    fh5 = h5py.File(f, 'r')\n",
    "    # print('fh5 is opened !')\n",
    "    data = np.mean( np.array( fh5.get('zone1/ExB/theta') ) , axis=(1,2))\n",
    "    # print('Big calculation done !')\n",
    "    fh5.close()\n",
    "    # print('No it is not crashed !')\n",
    "    return data\n",
    "\n",
    "\n",
    "## Map the get_FS_profile function to the filepath_ar array\n",
    "if connect():\n",
    "    Er_time_trace = list(map(get_FS_profile, filepath_ar[:25]))\n",
    "\n",
    "    #Er_time_trace = Parallel(n_jobs=6, prefer=\"threads\")(delayed(get_FS_profile)(x) for x in filepath_ar[:5])\n",
    "\n",
    "np.save('Er_time_trace.npy', Er_time_trace)"
   ]
  },
  {
   "attachments": {},
   "cell_type": "markdown",
   "metadata": {},
   "source": [
    "---\n",
    "## <center> <font color='xkcd:cherry red'>**Visualize the time averaged $\\langle \\mathbf{E}\\times\\mathbf{B} \\cdot \\nabla \\theta \\rangle_{FS}$**</font>\n",
    "---"
   ]
  },
  {
   "cell_type": "code",
   "execution_count": 17,
   "metadata": {},
   "outputs": [
    {
     "name": "stdout",
     "output_type": "stream",
     "text": [
      "(25, 64)\n"
     ]
    },
    {
     "data": {
      "application/vnd.jupyter.widget-view+json": {
       "model_id": "5a8765ae583d4c068d96ddaf3cd17215",
       "version_major": 2,
       "version_minor": 0
      },
      "text/plain": [
       "Canvas(toolbar=Toolbar(toolitems=[('Home', 'Reset original view', 'home', 'home'), ('Back', 'Back to previous …"
      ]
     },
     "metadata": {},
     "output_type": "display_data"
    },
    {
     "data": {
      "text/plain": [
       "Text(0.5, 1.0, 'Radial profile of $V_{E\\\\times B}$ (black: initial, yellow: final)')"
      ]
     },
     "execution_count": 17,
     "metadata": {},
     "output_type": "execute_result"
    }
   ],
   "source": [
    "import ipywidgets as widgets\n",
    "%matplotlib widget\n",
    "import matplotlib.pyplot as plt\n",
    "\n",
    "from cycler import cycler\n",
    "from matplotlib.colors import Normalize\n",
    "\n",
    "# Change color cycler to have color gradient based on existing colormap\n",
    "cmap = plt.cm.inferno\n",
    "norm = Normalize(vmin=0, vmax=10)\n",
    "colors = [cmap(norm(value)) for value in range(10)]\n",
    "plt.rc('axes', prop_cycle=(cycler('color', colors)))\n",
    "\n",
    "## Load ExB.e_theta time trace\n",
    "Er = np.load('Er_time_trace.npy')\n",
    "\n",
    "## Define radial coordinate array (temp)\n",
    "rho_ar = np.linspace(0.7,1,Er.shape[1])\n",
    "\n",
    "print(Er.shape)\n",
    "\n",
    "fig = plt.figure(figsize=(10,8))\n",
    "ax = fig.add_subplot(111)\n",
    "\n",
    "ax.set_xlabel(r'$r/a$')\n",
    "\n",
    "for i in range(Er.shape[0]):\n",
    "    ax.plot(rho_ar,Er[i,:], lw=1.5)\n",
    "\n",
    "ax.plot(rho_ar,np.mean(Er, axis=0), lw=3, color='r')\n",
    "\n",
    "ax.grid()\n",
    "ax.axhline(y=0, color='k', linestyle='--')\n",
    "\n",
    "ax.set_title(r'Radial profile of $V_{E\\times B}$ (black: initial, yellow: final)')\n"
   ]
  },
  {
   "cell_type": "code",
   "execution_count": 78,
   "metadata": {},
   "outputs": [
    {
     "name": "stdout",
     "output_type": "stream",
     "text": [
      "[array([0, 0]), array([1, 1]), array([2, 4]), array([3, 9]), array([ 4, 16]), array([ 5, 25]), array([ 6, 36]), array([ 7, 49]), array([ 8, 64]), array([ 9, 81])]\n"
     ]
    }
   ],
   "source": [
    "## Mini test of parallelisation\n",
    "from multiprocess import Pool\n",
    "import numpy as np\n",
    "\n",
    "def f(x):\n",
    "    import numpy as np\n",
    "    return np.array([x, x**2])\n",
    "\n",
    "p = Pool(5)\n",
    "t=p.map(f, np.arange(10))\n",
    "print(t)\n"
   ]
  },
  {
   "cell_type": "code",
   "execution_count": 2,
   "metadata": {},
   "outputs": [
    {
     "name": "stdout",
     "output_type": "stream",
     "text": [
      "[2, 3, 4, 5, 6, 7, 8, 9, 10, 11]\n"
     ]
    }
   ],
   "source": [
    "from joblib import Parallel, delayed\n",
    "\n",
    "def f(x):\n",
    "    return x + 2\n",
    "\n",
    "numbers1 = Parallel(n_jobs=2, prefer=\"threads\")(delayed(f)(x) for x in range(10))\n",
    "\n",
    "print(numbers1)"
   ]
  }
 ],
 "metadata": {
  "kernelspec": {
   "display_name": "base",
   "language": "python",
   "name": "python3"
  },
  "language_info": {
   "codemirror_mode": {
    "name": "ipython",
    "version": 3
   },
   "file_extension": ".py",
   "mimetype": "text/x-python",
   "name": "python",
   "nbconvert_exporter": "python",
   "pygments_lexer": "ipython3",
   "version": "3.8.8"
  },
  "orig_nbformat": 4
 },
 "nbformat": 4,
 "nbformat_minor": 2
}
