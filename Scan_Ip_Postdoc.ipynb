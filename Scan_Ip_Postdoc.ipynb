{
 "cells": [
  {
   "cell_type": "markdown",
   "id": "80fff3db-e465-484b-887a-0bcee6cd4784",
   "metadata": {
    "id": "80fff3db-e465-484b-887a-0bcee6cd4784"
   },
   "source": [
    "___\n",
    "___\n",
    "## <font color='coral'>**Appel de l'environment** </font> "
   ]
  },
  {
   "cell_type": "code",
   "execution_count": 1,
   "id": "887238a0-a1e9-4e0a-b49b-368fb0520038",
   "metadata": {
    "colab": {
     "base_uri": "https://localhost:8080/",
     "height": 467
    },
    "executionInfo": {
     "elapsed": 736,
     "status": "error",
     "timestamp": 1676539950083,
     "user": {
      "displayName": "Robin Varennes",
      "userId": "10829639768318658771"
     },
     "user_tz": -60
    },
    "id": "887238a0-a1e9-4e0a-b49b-368fb0520038",
    "outputId": "0b790d25-e7f8-42a8-c67a-567dbb7c92c8",
    "tags": []
   },
   "outputs": [],
   "source": [
    "import ipywidgets as widgets\n",
    "%matplotlib widget\n",
    "\n",
    "# import cupy as np\n",
    "# from cupyx.scipy.ndimage import uniform_filter1d\n",
    "\n",
    "import numpy as np\n",
    "import matplotlib.pyplot as plt\n",
    "\n",
    "\n",
    "from scipy import special\n",
    "import scipy.integrate as integrate\n",
    "from scipy.misc import derivative\n",
    "import time\n",
    "from scipy.interpolate import InterpolatedUnivariateSpline\n",
    "import glob\n",
    "import matplotlib as mpl\n",
    "import matplotlib.colors as colors\n",
    "import matplotlib.gridspec as gridspec\n",
    "from scipy.ndimage.filters import uniform_filter1d\n",
    "from scipy.ndimage.filters import gaussian_filter1d\n",
    "from scipy.signal import savgol_filter\n",
    "from multiprocessing import Pool\n",
    "\n",
    "## For sliders\n",
    "from ipywidgets import Layout, interact, IntSlider\n",
    "from ipywidgets import interact, interactive, interactive_output, HBox, VBox\n",
    "\n",
    "## For color cyclers\n",
    "import itertools\n",
    "from cycler import cycler\n",
    "\n",
    "## Set up rc\n",
    "plt.rcParams['image.cmap'] = 'RdYlBu_r'\n",
    "plt.rcParams['axes.formatter.limits'] = (-3,1)\n",
    "plt.rc('font',size=18)\n",
    "plt.rcParams['lines.linewidth'] = 2\n",
    "plt.rcParams.update({\"axes.grid\" : True})\n",
    "plt.rcParams['lines.markersize'] = 8\n",
    "plt.rcParams['lines.markeredgecolor'] = 'k'\n",
    "plt.rcParams['lines.markeredgewidth'] = 2.0\n",
    "me = (0.1,0.1)\n",
    "#print(plt.rcParams.keys())\n",
    "\n",
    "#Size of figures\n",
    "laptop    = 6\n",
    "cadarache = 12\n",
    "home      = 16\n",
    "\n",
    "xfigsize  = laptop\n",
    "\n",
    "dpi_laptop = 50\n",
    "dpi_cadarache = 65\n",
    "dpi_home = 100\n",
    "dpi_custom = dpi_home"
   ]
  },
  {
   "cell_type": "markdown",
   "id": "ba3ab4ae-00e9-4736-98be-c91174dae5cb",
   "metadata": {
    "id": "ba3ab4ae-00e9-4736-98be-c91174dae5cb"
   },
   "source": [
    "## <font color='coral'>**Chargement des données** </font> "
   ]
  },
  {
   "cell_type": "code",
   "execution_count": 8,
   "id": "2186af80-4b36-4285-85ed-55ff5da9f574",
   "metadata": {
    "id": "2186af80-4b36-4285-85ed-55ff5da9f574",
    "jupyter": {
     "source_hidden": true
    },
    "outputId": "f20c6730-029a-4833-d1d5-489ce50325c4",
    "tags": []
   },
   "outputs": [
    {
     "name": "stdout",
     "output_type": "stream",
     "text": [
      "dict_keys(['Er', 'Gamma_vD', 'Gamma_vE', 'Gamma_vEn0', 'Gamma_vEndiff0', 'IturbGC_FSavg', 'Phi00', 'Phi01', 'Ppar', 'Pperp', 'Qpar_vD', 'Qpar_vE', 'Qpar_vEn0', 'Qperp_vD', 'Qperp_vE', 'Qperp_vEn0', 'Qtot', 'Qtot_vD', 'Qtot_vE', 'Qtot_vEn0', 'RSphi', 'RSphi_vD', 'RSphi_vE', 'RSphi_vEn0', 'RSpol', 'RSpol_vD', 'RSpol_vE', 'RSpol_vEn0', 'T', 'VP', 'VT', 'dErdr', 'dPhi01dr', 'dRSphidr', 'dRSpoldr', 'dVPdr', 'dVTdr', 'delta_n_avg', 'eps', 'n', 'nIturbGC_FSavg', 'nu_i', 'nustar', 'q', 'rg', 'rho', 'spreading_0deg', 'spreading_180deg', 'spreading_270deg', 'spreading_90deg', 'spreading_FSavg', 'time', 'turb_int_avg', 'turb_int_sq_avg', 'title', 'c', 'ls'])\n"
     ]
    }
   ],
   "source": [
    "import h5py\n",
    "\n",
    "def hdf5_to_dict(filename):\n",
    "    \"\"\"Load a dictionary of arrays and strings as unicode characters from an HDF5 file.\"\"\"\n",
    "    with h5py.File(filename, 'r') as f:\n",
    "        d = {}\n",
    "        for k in f.keys():\n",
    "            v = f[k][()]\n",
    "            if isinstance(v, bytes):\n",
    "                d[k] = v.decode('utf-8')\n",
    "            else:\n",
    "                d[k] = np.array(v)\n",
    "    return d\n",
    "\n",
    "qprof_05 = hdf5_to_dict('data/TS45511_q05.hdf5'); qprof_05['title']=r'$q_{0.5}$'; qprof_05['c']='xkcd:electric blue'; qprof_05['ls']='-'\n",
    "qprof_1  = hdf5_to_dict('data/TS45511_q1.hdf5'); qprof_1['title']=r'$q_{1.0}$'; qprof_1['c']='xkcd:bluish purple'; qprof_1['ls']='-'\n",
    "qprof_15 = hdf5_to_dict('data/TS45511_q15.hdf5'); qprof_15['title']=r'$q_{1.5}$'; qprof_15['c']='xkcd:watermelon'; qprof_15['ls']='-'\n",
    "\n",
    "qprof_05_n0 = hdf5_to_dict('data/TS45511_q05_n0.hdf5'); qprof_05_n0['title']=r'$q_{0.5}$ - $n=0$'; qprof_05_n0['c']='xkcd:cobalt blue'; qprof_05_n0['ls']='-'\n",
    "qprof_15_n0 = hdf5_to_dict('data/TS45511_q15_n0.hdf5'); qprof_15_n0['title']=r'$q_{1.5}$ - $n=0$'; qprof_15_n0['c']='xkcd:dark red'; qprof_15_n0['ls']='-'\n",
    "\n",
    "qprof_05new = hdf5_to_dict('data/TS45511_q05new.hdf5'); qprof_05new['title']=r'$q_{0.5}^{NEW}$'; qprof_05new['c']='xkcd:lightish blue'; qprof_05new['ls']='-'\n",
    "\n",
    "qprof_05_br = hdf5_to_dict('data/TS45511_q05_br.hdf5'); qprof_05_br['title']=r'$q_{0.5}^{BR}$'; qprof_05_br['c']='xkcd:blue'; qprof_05_br['ls']='-'\n",
    "qprof_075_br = hdf5_to_dict('data/TS45511_q075_br.hdf5'); qprof_075_br['title']=r'$q_{0.75}^{BR}$'; qprof_075_br['c']='xkcd:pink'; qprof_075_br['ls']='-'\n",
    "qprof_15_br = hdf5_to_dict('data/TS45511_q15_br.hdf5'); qprof_15_br['title']=r'$q_{1.5}^{BR}$'; qprof_15_br['c']='xkcd:red'; qprof_15_br['ls']='-'\n",
    "\n",
    "all_sim = [qprof_05, qprof_1, qprof_15, qprof_05_n0, qprof_15_n0, qprof_05new, qprof_05_br, qprof_075_br, qprof_15_br]\n",
    "\n",
    "print(qprof_05_br.keys())\n",
    "\n",
    "## Add markers entry to each dictionnary\n",
    "marker_ar = ['o', 's', 'v', 'D', 'P', 'X', 'd', 'p', 'x']\n",
    "for iq,q in enumerate(all_sim):\n",
    "    q['marker'] = marker_ar[iq]\n",
    "\n",
    "daltonian = 0\n",
    "if daltonian:\n",
    "    import seaborn as sns\n",
    "    qprof_05['c']= sns.color_palette(\"colorblind\")[0]\n",
    "    qprof_1['c'] = sns.color_palette(\"colorblind\")[2]\n",
    "    qprof_15['c']= sns.color_palette(\"colorblind\")[3]\n",
    "    \n",
    "    qprof_05_n0['c']= sns.color_palette(\"colorblind\")[0]\n",
    "    qprof_15_n0['c']= sns.color_palette(\"colorblind\")[3]\n",
    "\n",
    "iaea = 0\n",
    "if iaea:\n",
    "    qprof_05['c']= 'xkcd:blue'\n",
    "    qprof_1['c'] = 'xkcd:green'\n",
    "    qprof_15['c']= 'xkcd:black'\n",
    "    \n",
    "soutenance = 1\n",
    "if soutenance:\n",
    "    qprof_05['title'] = r'$q_{ref} \\times 0.5$'\n",
    "    qprof_1['title']  = r'$q_{ref}$'\n",
    "    qprof_15['title'] = r'$q_{ref} \\times 1.5$'\n",
    "    \n",
    "## Colors\n",
    "qprof_05['c2'] = 'xkcd:cornflower blue'\n",
    "qprof_05['c3'] = 'xkcd:apple green'\n",
    "qprof_05['c4'] = 'xkcd:melon'\n",
    "qprof_1['c2'] = 'xkcd:grassy green'\n",
    "qprof_1['c3'] = 'xkcd:carmine'\n",
    "qprof_1['c4'] = 'xkcd:strong blue'\n",
    "qprof_15['c2'] = 'xkcd:reddish'\n",
    "qprof_15['c3'] = 'xkcd:cerulean'\n",
    "qprof_15['c4'] = 'xkcd:darkish green'\n",
    "    \n",
    "## Check length of arrays and correct if necessary\n",
    "for iq,q in enumerate(all_sim):\n",
    "    #print('Time array length = %s' % len(q['time']) )\n",
    "    for p in q.keys():\n",
    "        if type(q[p]) is np.ndarray:\n",
    "            if q[p].ndim == 2:\n",
    "                if len(q[p][:,0]) == len(q['time']):\n",
    "                    q[p] = q[p][:-1,:]\n",
    "    q['time'] = q['time'][:-1]\n",
    "    \n",
    "## Defining custom values\n",
    "for iq,q in enumerate(all_sim):\n",
    "    q['gradT']             = np.gradient(q['T'],q['rg'],axis=1)\n",
    "    q['Ptransfert']        = -q['dRSpoldr'] * (-q['Er'])\n",
    "    q['Ptransfert_w_prefactor']  = -q['dRSpoldr'] * (-q['Er']) / (1 + 2 * q['q']**2)\n",
    "    q['Ptransfert_vE']     = -np.gradient(q['RSpol_vE'],q['rg'],axis=1) * (-q['Er'])\n",
    "    q['Ptransfert_vD']     = -np.gradient(q['RSpol_vD'],q['rg'],axis=1) * (-q['Er'])\n",
    "    q['Ptransfert_approx'] = q['RSpol'] * (-q['dErdr'])\n",
    "    q['dErdt']             = np.gradient(q['Er'],q['time'],axis=0)\n",
    "    q['dIsqdr']            = np.gradient(q['turb_int_sq_avg'],q['rg'],axis=1)\n",
    "    q['dIdr']              = np.gradient(np.sqrt(q['turb_int_sq_avg']),q['rg'],axis=1)\n",
    "    q['Jr']                = (q['Gamma_vE']+q['Gamma_vD'])\n",
    "    q['Jr_vD']             = q['Gamma_vD']\n",
    "    q['Jr_vE']             = q['Gamma_vE']\n",
    "    q['P']                 = (q['n'] * q['Er'] - 0.5 * np.gradient(q['Pperp'],q['rg'],axis=1))\n",
    "    q['vorticity']         = np.gradient(q['P'],q['rg'],axis=1)\n",
    "    q['neo_energy_evol']   = -q['Ptransfert'] + 0.5*np.gradient(-q['Er']**2,q['time'],axis=0)\n",
    "    q['neo_energy_evol_w_prefactor'] = -q['Ptransfert_w_prefactor'] + 0.5*np.gradient(-q['Er']**2,q['time'],axis=0)\n",
    "    q['tevol_VEsq']        = 0.5*np.gradient(-q['Er']**2,q['time'],axis=0)"
   ]
  },
  {
   "cell_type": "markdown",
   "id": "18192225-03ec-4e2f-8770-fbd26f6b7a8f",
   "metadata": {
    "id": "18192225-03ec-4e2f-8770-fbd26f6b7a8f"
   },
   "source": [
    "___\n",
    "___"
   ]
  },
  {
   "attachments": {},
   "cell_type": "markdown",
   "id": "3da9c9ac",
   "metadata": {},
   "source": [
    "<a id='sommaire'></a>\n",
    "Le notebook est organisé de la façon suivante :\n",
    "1) <font color='xkcd:sage'>**Cellules d'exploration de données**</font>\n",
    "    - [Profil radial](#exploration_radial_profile)\n",
    "    - [Video de profil radial](#exploration_video_radial_profile)\n",
    "    - [Etude dans l'espace réel](#exploration_real_study)\n",
    "    - [Etude dans l'espace fréquentiel (en DFT)](#exploration_frequency_study)\n",
    "    - [Etude dans l'espace fréquentiel (en densité spectrale)](#exploration_spectral_density_study)\n",
    "    - [Cross-corrélation en temps](#exploration_cross_correlation)\n",
    "    - [Cycle limite](#exploration_cycle_limite)\n",
    "2) <font color='coral'>**Cellules de travail en cours**</font>\n",
    "    - [Evolution des termes dans l'équation d'évolution de $E_r$](#en_cours_evo_eq_terms_er)\n",
    "    - [Profil radial des termes dans l'équation d'évolution de l'énergie](#en_cours_rprof_energy_evo_terms)\n",
    "    - [Estimation de $\\nu_\\theta$](#en_cours_estimation_nutheta)\n",
    "2) <font color='red'>**Cellules de résultats**</font>\n",
    "    - [Profil radial du safety factor](#resultat_rprof_safety_factor)\n",
    "    - [Profil radial du tenseur de Reynolds poloidal](#resultat_rprof_reynolds_stress)\n",
    "    - [Profil radial de la divergence du tenseur de Reynolds poloidal](#resultat_rprof_div_reynolds_stress)\n",
    "    - [Profil en $q$ de la divergence du tenseur de Reynolds poloidal](#resultat_qscan_div_reynolds_stress)\n",
    "    - [Profil radial des flows ($E_r, V_P, V_T$)](#resultat_rprof_flows)\n",
    "    - [Profil radial de la friction néoclassique empirique (Gianakon)](#resultat_rprof_nutheta_gianakon)\n",
    "    - [Profil radial de l'intensité turbulente](#resultat_rprof_turb_int)\n",
    "    - [Profil radial de la fréquence de collision ionique](#resultat_rprof_ion_collision_freq)\n",
    "    - [Validation de l'approximation $\\int_0^{r_0} \\langle - \\nabla \\cdot \\Pi_{r\\theta} \\rangle V_E \\approx \\int_0^{r_0} -\\langle \\Pi_{r\\theta} \\rangle \\partial_r V_E$](#resultat_validation_approx_ptransfert)\n",
    "\n",
    "    \n",
    "    "
   ]
  },
  {
   "attachments": {},
   "cell_type": "markdown",
   "id": "44e3b287-092f-40c9-ae71-9e67d4d30615",
   "metadata": {},
   "source": [
    "<a id='exploration_radial_profile'></a>\n",
    "## <font color='orangered'>**(En cours)**</font> <font color='xkcd:sage'>**Exploration**</font> - Profil radial [▲](#sommaire)"
   ]
  },
  {
   "cell_type": "code",
   "execution_count": 33,
   "id": "8ce0e36c-fce9-4840-a583-0c5d98c19af1",
   "metadata": {
    "jupyter": {
     "source_hidden": true
    },
    "tags": []
   },
   "outputs": [
    {
     "data": {
      "application/vnd.jupyter.widget-view+json": {
       "model_id": "fab5ada2ed1746f0af0ff027f2c07464",
       "version_major": 2,
       "version_minor": 0
      },
      "text/plain": [
       "Canvas(toolbar=Toolbar(toolitems=[('Home', 'Reset original view', 'home', 'home'), ('Back', 'Back to previous …"
      ]
     },
     "metadata": {},
     "output_type": "display_data"
    },
    {
     "data": {
      "application/vnd.jupyter.widget-view+json": {
       "model_id": "181edf2450254cb28ed0d02c2bc3a761",
       "version_major": 2,
       "version_minor": 0
      },
      "text/plain": [
       "interactive(children=(IntSlider(value=1, description='N', min=1), IntSlider(value=100, description='dpi_adjust…"
      ]
     },
     "metadata": {},
     "output_type": "display_data"
    },
    {
     "data": {
      "text/plain": [
       "<function __main__.update_plot(N, dpi_adjust, param, param2, float_range_time, q05_bool, q1_bool, q15_bool, q05n0_bool, q15n0_bool, q05new_bool, q05br_bool, q075br_bool, q15br_bool)>"
      ]
     },
     "execution_count": 33,
     "metadata": {},
     "output_type": "execute_result"
    }
   ],
   "source": [
    "#from bqplot import pyplot as plt\n",
    "\n",
    "plt.close('all')\n",
    "\n",
    "import matplotlib\n",
    "matplotlib.rcParams['figure.figsize'] = [10, 10] # for square canvas\n",
    "matplotlib.rcParams['figure.subplot.left'] = 0\n",
    "matplotlib.rcParams['figure.subplot.bottom'] = 0.5\n",
    "matplotlib.rcParams['figure.subplot.right'] = 1\n",
    "matplotlib.rcParams['figure.subplot.top'] = 1\n",
    "\n",
    "fig = plt.figure(figsize=(12,6))\n",
    "ax_rprof = fig.add_subplot(111); ax_rprof2 = ax_rprof.twinx()\n",
    "\n",
    "def update_plot(N,dpi_adjust,param,param2,float_range_time,\n",
    "               q05_bool,q1_bool,q15_bool,q05n0_bool,q15n0_bool,q05new_bool,\n",
    "               q05br_bool,q075br_bool,q15br_bool):\n",
    "    \n",
    "    q_ar = [qprof for qprof, qprof_bool in zip(all_sim, [q05_bool,q1_bool,q15_bool,q05n0_bool,q15n0_bool,q05new_bool,q05br_bool,q075br_bool,q15br_bool]) if qprof_bool]\n",
    "    \n",
    "    tmin_avg,tmax_avg = float_range_time\n",
    "\n",
    "    ## Set dpi of figure\n",
    "    if dpi_adjust!=dpi_custom:fig.set_dpi(dpi_adjust)\n",
    "\n",
    "    ## Clear previous plot\n",
    "    ax_rprof.clear(); ax_rprof2.clear()\n",
    "    ax_rprof2.grid(False)\n",
    "    \n",
    "    fig.suptitle(r'Study of %s' %param)\n",
    "    \n",
    "    for q in q_ar:\n",
    "\n",
    "        irhomin = (np.abs(q['rho'] - 0.01 )).argmin()\n",
    "        irhomax = (np.abs(q['rho'] - 1.1 )).argmin()\n",
    "        \n",
    "        itmin_avg = (np.abs(q['time'] - tmin_avg )).argmin()\n",
    "        itmax_avg = (np.abs(q['time'] - tmax_avg )).argmin()\n",
    "\n",
    "        p_ma = uniform_filter1d(uniform_filter1d(q[param],size=N,axis=1),size=N,axis=1)\n",
    "        \n",
    "        ax_rprof.set_title(r'Radial profile (avg %.0f < t$[\\omega_{c0}^{-1}]$ < %.0f)' % (tmin_avg , tmax_avg) )\n",
    "        ax_rprof.plot(q['rho'][irhomin:irhomax], np.mean( p_ma[itmin_avg:itmax_avg,irhomin:irhomax],axis=0),ls=q['ls'],c=q['c'],label=q['title'])\n",
    "        ax_rprof.set_xlabel(r'$r/a$')\n",
    "        ax_rprof.axhline(y=0,c='k',ls='--')\n",
    "        ax_rprof.axvline(x=1,c='k',ls='--')\n",
    "        ax_rprof.legend()\n",
    "        \n",
    "        if param2:\n",
    "            color1 = 'xkcd:cerulean'\n",
    "            color2 = 'xkcd:reddish orange'\n",
    "            p_ma2 = uniform_filter1d(uniform_filter1d(q[param2],size=N,axis=1),size=N,axis=1)\n",
    "            \n",
    "            ax_rprof2.plot(q['rho'][irhomin:irhomax], np.mean( p_ma2[itmin_avg:itmax_avg,irhomin:irhomax],axis=0),ls=q['ls'],c=q['c2'],label=q['title'])\n",
    "            ax_rprof2.yaxis.label.set_color(color2)\n",
    "            ax_rprof2.tick_params(axis='y', colors=color2)\n",
    "        \n",
    "        ax_rprof.plot(q['rho'][10:10+N],np.ones(N)*ax_rprof.get_ylim()[1]/4,c='xkcd:battleship grey',lw=5) #Visualize the sliding average window\n",
    "\n",
    "    fig.tight_layout(rect=[0, 0.03, 1, 0.95])\n",
    "    \n",
    "    \n",
    "float_range_time_slider = widgets.FloatRangeSlider(value=[100e3, 145e3], min=0, max=150e3, step=1000, description='Time range', layout=Layout(width='50%'), style = {'description_width': 'initial'})\n",
    "\n",
    "for q in all_sim:\n",
    "    q['bool_display'] = widgets.Checkbox(value=True,description=q['title'])\n",
    "\n",
    "qdisplay = (q['bool_display'] for q in all_sim)\n",
    "\n",
    "interact(update_plot, \n",
    "         N=widgets.IntSlider(min=1, max=100, step=1,value=1),\n",
    "         float_range_time=float_range_time_slider,\n",
    "         dpi_adjust=widgets.IntSlider(min=30, max=200, step=1,value=dpi_custom),\n",
    "         param = widgets.Text(value='Er',placeholder='Type something',description='Select parameter:',disabled=False),\n",
    "         param2 = widgets.Text(value='',placeholder='Type something',description='Select parameter:',disabled=False),\n",
    "         q05_bool    = widgets.Checkbox(value=True,description='q05'),\n",
    "         q1_bool     = widgets.Checkbox(value=False,description='q1'),\n",
    "         q15_bool    = widgets.Checkbox(value=True,description='q15'),\n",
    "         q05n0_bool  = widgets.Checkbox(value=False,description='q05n0'),\n",
    "         q15n0_bool  = widgets.Checkbox(value=False,description='q15n0'),\n",
    "         q05new_bool = widgets.Checkbox(value=False,description='q05new'),\n",
    "         q05br_bool = widgets.Checkbox(value=False,description='q05br'),\n",
    "         q075br_bool = widgets.Checkbox(value=False,description='q075br'),\n",
    "         q15br_bool = widgets.Checkbox(value=False,description='q15br')\n",
    "        )\n"
   ]
  },
  {
   "attachments": {},
   "cell_type": "markdown",
   "id": "864bc9d2",
   "metadata": {},
   "source": [
    "<a id='exploration_video_radial_profile'></a>\n",
    "## <font color='xkcd:sage'>**Exploration**</font> - Video of radial profiles [▲](#sommaire)"
   ]
  },
  {
   "cell_type": "code",
   "execution_count": 34,
   "id": "8fdc5558",
   "metadata": {},
   "outputs": [
    {
     "data": {
      "application/vnd.jupyter.widget-view+json": {
       "model_id": "223b18a9c9314fc1aeade1457e32e23a",
       "version_major": 2,
       "version_minor": 0
      },
      "text/plain": [
       "Canvas(toolbar=Toolbar(toolitems=[('Home', 'Reset original view', 'home', 'home'), ('Back', 'Back to previous …"
      ]
     },
     "metadata": {},
     "output_type": "display_data"
    },
    {
     "data": {
      "application/vnd.jupyter.widget-view+json": {
       "model_id": "deb29fd0eca64da08fe08abc709df1ad",
       "version_major": 2,
       "version_minor": 0
      },
      "text/plain": [
       "interactive(children=(IntSlider(value=1, description='N', min=1), FloatSlider(value=100.0, description='dpi_ad…"
      ]
     },
     "metadata": {},
     "output_type": "display_data"
    },
    {
     "data": {
      "text/plain": [
       "<function __main__.update_plot(N, dpi_adjust, param, q05_bool, q1_bool, q15_bool, q05n0_bool, q15n0_bool, q05new_bool, q05br_bool, q075br_bool, q15br_bool, it_play, bool_fixed_y_range)>"
      ]
     },
     "execution_count": 34,
     "metadata": {},
     "output_type": "execute_result"
    }
   ],
   "source": [
    "plt.close('all')\n",
    "fig = plt.figure(figsize=(12,6))\n",
    "ax_rprof = fig.add_subplot(111) \n",
    "\n",
    "def update_plot(N,dpi_adjust,param,\n",
    "               q05_bool,q1_bool,q15_bool,q05n0_bool,q15n0_bool,q05new_bool,\n",
    "               q05br_bool,q075br_bool,q15br_bool,\n",
    "               it_play, bool_fixed_y_range):\n",
    "\n",
    "    ## Select profiles to plot\n",
    "    q_ar = [qprof for qprof, qprof_bool in zip(all_sim, [q05_bool,q1_bool,q15_bool,q05n0_bool,q15n0_bool,q05new_bool,q05br_bool,q075br_bool,q15br_bool]) if qprof_bool]\n",
    "\n",
    "    ## Set title of figure\n",
    "    fig.suptitle(r'Study of %s' %param)\n",
    "\n",
    "    ## Set dpi of figure\n",
    "    if dpi_adjust!=dpi_custom: fig.set_dpi(dpi_adjust)\n",
    "\n",
    "    ## Clear previous plot\n",
    "    ax_rprof.clear()\n",
    "\n",
    "    for q in q_ar:\n",
    "\n",
    "        ## Find index of rho=0.1 and rho=1.1\n",
    "        irhomin = (np.abs(q['rho'] - 0.1 )).argmin()\n",
    "        irhomax = (np.abs(q['rho'] - 1.1 )).argmin()\n",
    "\n",
    "        ## Compute sliding average\n",
    "        p_ma = uniform_filter1d(uniform_filter1d(q[param],size=N,axis=1),size=N,axis=1)\n",
    "\n",
    "        ## Plot radial profile\n",
    "        ax_rprof.set_title(r'Radial profile (at t= %.0f $[\\omega_{c0}^{-1}]$)' % (q['time'][it_play]) )\n",
    "        ax_rprof.plot(q['rho'][irhomin:irhomax], p_ma[it_play,irhomin:irhomax],ls=q['ls'],c=q['c'],label=q['title'])\n",
    "        ax_rprof.plot(q['rho'][10:10+N],np.ones(N)*ax_rprof.get_ylim()[1]/4,c='xkcd:battleship grey',lw=5) #Visualize the sliding average window\n",
    "\n",
    "        ymax = ax_rprof.get_ylim()[1]\n",
    "\n",
    "    ## Plot reference lines\n",
    "    ax_rprof.axhline(y=0,c='k',ls='--'); ax_rprof.axvline(x=1,c='k',ls='--')\n",
    "\n",
    "    ## Set labels and legend\n",
    "    ax_rprof.set_xlabel(r'$r/a$')\n",
    "    ax_rprof.legend()\n",
    "\n",
    "    ## Fix y range if bool_fixed_y_range is True\n",
    "    if bool_fixed_y_range:\n",
    "        ax_rprof.set_ylim(bottom = 0.75*np.amin(p_ma), top = 0.75*np.amax(p_ma))\n",
    "\n",
    "    fig.tight_layout(rect=[0, 0.03, 1, 0.95])\n",
    "\n",
    "interact(update_plot, \n",
    "        N=widgets.IntSlider(min=1, max=100, step=1,value=1),\n",
    "        dpi_adjust=widgets.FloatSlider(min=30, max=150, step=1,value=dpi_custom),\n",
    "        param = widgets.Text(value='Er',placeholder='Type something',description='Select parameter:',disabled=False),\n",
    "        q05_bool    = widgets.Checkbox(value=True,description='q05'),\n",
    "        q1_bool     = widgets.Checkbox(value=False,description='q1'),\n",
    "        q15_bool    = widgets.Checkbox(value=True,description='q15'),\n",
    "        q05n0_bool  = widgets.Checkbox(value=False,description='q05n0'),\n",
    "        q15n0_bool  = widgets.Checkbox(value=False,description='q15n0'),\n",
    "        q05new_bool = widgets.Checkbox(value=False,description='q05new'),\n",
    "        q05br_bool = widgets.Checkbox(value=False,description='q05br'),\n",
    "        q075br_bool = widgets.Checkbox(value=False,description='q075br'),\n",
    "        q15br_bool = widgets.Checkbox(value=False,description='q15br'),\n",
    "        bool_fixed_y_range = widgets.Checkbox(value=False,description='Fix y range'),\n",
    "        it_play = widgets.Play(value=30,min=0,max=len(qprof_05_br['time']),step=1,interval=200,description=\"Press play\",disabled=False)\n",
    "        )"
   ]
  },
  {
   "attachments": {},
   "cell_type": "markdown",
   "id": "cb8c715f-1102-429d-a93b-9674a02f8d3c",
   "metadata": {
    "id": "cb8c715f-1102-429d-a93b-9674a02f8d3c"
   },
   "source": [
    "<a id='exploration_real_study'></a>\n",
    "## <font color='xkcd:sage'>**Exploration**</font> - Etude complète d'une quantité donnée dans l'espace réel [▲](#sommaire)"
   ]
  },
  {
   "cell_type": "code",
   "execution_count": 3,
   "id": "42778907-184d-4526-9dd4-7da03b4a4a6a",
   "metadata": {
    "colab": {
     "referenced_widgets": [
      "c1aaf8a5993a4245a6e5542d8be96071"
     ]
    },
    "collapsed": true,
    "id": "42778907-184d-4526-9dd4-7da03b4a4a6a",
    "jupyter": {
     "outputs_hidden": true,
     "source_hidden": true
    },
    "outputId": "f810bb76-ec45-4f95-a7b0-50637dcb8e31",
    "tags": []
   },
   "outputs": [
    {
     "data": {
      "application/vnd.jupyter.widget-view+json": {
       "model_id": "e8715115f8dd4a348ff16a006623970d",
       "version_major": 2,
       "version_minor": 0
      },
      "text/plain": [
       "interactive(children=(IntSlider(value=1, description='N', min=1), Text(value='Er', description='Select paramet…"
      ]
     },
     "metadata": {},
     "output_type": "display_data"
    },
    {
     "data": {
      "text/plain": [
       "<function __main__.update_plot(N, param, float_range_time, float_range_rho, q05_bool, q1_bool, q15_bool, q05n0_bool, q15n0_bool, q05new_bool, colormap_range, dpi_adjust, symetrical_cmap, q05br_bool, q075br_bool, q15br_bool)>"
      ]
     },
     "execution_count": 3,
     "metadata": {},
     "output_type": "execute_result"
    }
   ],
   "source": [
    "plt.close('all')\n",
    "\n",
    "def update_plot(N,param,float_range_time,float_range_rho,\n",
    "               q05_bool,q1_bool,q15_bool,q05n0_bool,q15n0_bool,q05new_bool,\n",
    "               colormap_range,dpi_adjust, symetrical_cmap,\n",
    "               q05br_bool,q075br_bool, q15br_bool):\n",
    "    \n",
    "    q_ar = [qprof for qprof, qprof_bool in zip(all_sim, [q05_bool,q1_bool,q15_bool,q05n0_bool,q15n0_bool,q05new_bool,q05br_bool,q075br_bool,q15br_bool]) if qprof_bool]\n",
    "    \n",
    "    tmin_avg,tmax_avg = float_range_time\n",
    "    rhomin_avg,rhomax_avg = float_range_rho\n",
    "\n",
    "    fig = plt.figure(figsize=(16,10))\n",
    "\n",
    "    ## Set dpi of figure\n",
    "    fig.set_dpi(dpi_adjust)\n",
    "\n",
    "    ## Clear previous plot\n",
    "    for axes in fig.axes: axes.clear()\n",
    "    \n",
    "    fig.suptitle(r'Study of %s' %param)\n",
    "\n",
    "    Pmap = uniform_filter1d(uniform_filter1d(qprof_05[param],size=N,axis=1),size=N,axis=1)\n",
    "    if symetrical_cmap:\n",
    "        vmin = colormap_range*min( abs( np.min(Pmap) ), abs( np.max(Pmap) ) ) \n",
    "        vmax = -vmin\n",
    "    else:\n",
    "        vmin = colormap_range*np.min(Pmap) \n",
    "        vmax = colormap_range*np.max(Pmap) \n",
    "\n",
    "    gs = gridspec.GridSpec(3, 2*len(q_ar))\n",
    "    \n",
    "    for iq,q in enumerate(q_ar):\n",
    "\n",
    "        irhomin = (np.abs(q['rho'] - 0.0 )).argmin()\n",
    "        irhomax = (np.abs(q['rho'] - 0.9 )).argmin()\n",
    "\n",
    "        itmin = (np.abs(q['time'] - 0e3  )).argmin()\n",
    "        itmax = (np.abs(q['time'] - 150e3 )).argmin()\n",
    "\n",
    "        p_ma = uniform_filter1d(uniform_filter1d(q[param],size=N,axis=1),size=N,axis=1)\n",
    "        \n",
    "        ## Figure 1\n",
    "        ax_map = fig.add_subplot(gs[0:2, 2*iq:2*iq+2]) \n",
    "\n",
    "        ax_map.set_title(q['title'])\n",
    "        p=ax_map.pcolormesh(q['rho'][irhomin:irhomax],q['time'][itmin:itmax],p_ma[itmin:itmax,irhomin:irhomax],vmin=vmin,vmax=vmax)\n",
    "        fig.colorbar(p,ax=ax_map)\n",
    "        fig.tight_layout()\n",
    "        ax_map.set_xlabel(r'$r/a$')\n",
    "        ax_map.set_ylabel(r'Time $[\\omega_{c0}^{-1}]$')\n",
    "\n",
    "        ax_map.axvline(x=1,c='k',ls='--')\n",
    "        for rline in [0.8,0.6,0.4,0.2]:ax_map.axvline(x=rline,c='k',ls='--')\n",
    "        ax_map.set_xticks([1.0,0.8,0.6,0.4,0.2])\n",
    "        \n",
    "        ax_map.axvline(x=rhomin_avg,c='xkcd:purple',ls='-',lw=3); ax_map.axvline(x=rhomax_avg,c='xkcd:purple',ls='-',lw=3)\n",
    "        ax_map.axhline(y=tmin_avg,c='r',ls='-',lw=3); ax_map.axhline(y=tmax_avg,c='r',ls='-',lw=3)\n",
    "        \n",
    "        ax_map.plot(q['rho'][10:10+N],np.ones(N)*ax_map.get_ylim()[1]/4,c='xkcd:battleship grey',lw=5) #Visualize the sliding average window\n",
    "\n",
    "        ##Figure 2\n",
    "        itmin_avg = (np.abs(q['time'] - tmin_avg )).argmin()\n",
    "        itmax_avg = (np.abs(q['time'] - tmax_avg )).argmin()\n",
    "\n",
    "        ax_rprof = fig.add_subplot(gs[2:, 0:len(q_ar)]) \n",
    "        ax_rprof.set_title(r'Radial profile (avg %.0f < t$[\\omega_{c0}^{-1}]$ < %.0f)' % (tmin_avg , tmax_avg) )\n",
    "        ax_rprof.plot(q['rho'][irhomin:irhomax], np.mean( p_ma[itmin_avg:itmax_avg,irhomin:irhomax],axis=0),ls=q['ls'],c=q['c'],label=q['title'])\n",
    "        ax_rprof.set_xlabel(r'$r/a$')\n",
    "        ax_rprof.axhline(y=0,c='k',ls='--')\n",
    "        ax_rprof.legend()\n",
    "        \n",
    "        irhomin_avg = (np.abs(q['rho'] - rhomin_avg )).argmin()\n",
    "        irhomax_avg = (np.abs(q['rho'] - rhomax_avg )).argmin()\n",
    "\n",
    "        ax_tevol = fig.add_subplot(gs[2:, len(q_ar):]) \n",
    "        ax_tevol.set_title(r'Temporal evolution (avg %.2f < r/a < %.2f)' % (rhomin_avg , rhomax_avg) )\n",
    "        ax_tevol.plot(q['time'][itmin:itmax], np.mean(p_ma[itmin:itmax,irhomin_avg:irhomax_avg],axis=1),ls=q['ls'],c=q['c'],label=q['title'])\n",
    "        ax_tevol.set_xlabel(r'Time $[\\omega_{c0}^{-1}]$')\n",
    "        ax_tevol.axhline(y=0,c='k',ls='--')\n",
    "        ax_tevol.legend()\n",
    "\n",
    "    fig.tight_layout(rect=[0, 0.03, 1, 0.95])\n",
    "    \n",
    "float_range_time_slider = widgets.FloatRangeSlider(value=[100e3, 145e3], min=0, max=150e3, step=1000, description='Time range', layout=Layout(width='50%'), style = {'description_width': 'initial'})\n",
    "float_range_rho_slider = widgets.FloatRangeSlider(value=[0.8, 0.9], min=0, max=1.2, step=0.05, description='Normalized radius range', layout=Layout(width='50%'), style = {'description_width': 'initial'})\n",
    "    \n",
    "interact(update_plot, \n",
    "         N=widgets.IntSlider(min=1, max=100, step=1,value=1),\n",
    "         float_range_time=float_range_time_slider,\n",
    "         float_range_rho=float_range_rho_slider,\n",
    "         colormap_range=widgets.FloatSlider(min=0.1, max=2, step=0.01,value=0.8),\n",
    "         symetrical_cmap = widgets.Checkbox(value=False,description='symetrical_cmap'),\n",
    "         dpi_adjust=widgets.FloatSlider(min=30, max=100, step=1,value=dpi_custom),\n",
    "         param = widgets.Text(value='Er',placeholder='Type something',description='Select parameter:',disabled=False),\n",
    "         q05_bool    = widgets.Checkbox(value=True,description='q05'),\n",
    "         q1_bool     = widgets.Checkbox(value=False,description='q1'),\n",
    "         q15_bool    = widgets.Checkbox(value=True,description='q15'),\n",
    "         q05n0_bool  = widgets.Checkbox(value=False,description='q05n0'),\n",
    "         q15n0_bool  = widgets.Checkbox(value=False,description='q15n0'),\n",
    "         q05new_bool = widgets.Checkbox(value=False,description='q05new'),\n",
    "         q05br_bool = widgets.Checkbox(value=False,description='q05br'),\n",
    "         q075br_bool = widgets.Checkbox(value=False,description='q075br'),\n",
    "         q15br_bool = widgets.Checkbox(value=False,description='q15br')\n",
    "        )"
   ]
  },
  {
   "attachments": {},
   "cell_type": "markdown",
   "id": "c1652071-d943-4038-b5d3-d2648f958e6e",
   "metadata": {
    "id": "c1652071-d943-4038-b5d3-d2648f958e6e",
    "jupyter": {
     "source_hidden": true
    },
    "tags": []
   },
   "source": [
    "<a id='exploration_frequency_study'></a> \n",
    "## <font color='xkcd:sage'>**Exploration**</font> - Etude dans l'espace des fréquences [▲](#sommaire)\n",
    "<font color='red'> /!\\ </font> La fréquence théorique des GAMs est calculée comme $f_{theo} = \\frac{2}{R_0} \\sqrt{ \\frac{5}{3} \\frac{T}{m}  \\left(1 + \\frac{1}{2q^2} \\right)} \\color{red}{\\frac{1}{2 \\pi}}$ \n",
    "En effet, je suspecte que la formule théorique donne la pulsation que tout le monde appelle fréquence par abus de language\n",
    "\n",
    "<font color='red'> /!\\ </font> Les spectres sont calculés avec des moyennes radiales, de cette façon :\n",
    "- [ ] $\\huge TF[\\langle s(r,t) \\rangle_{r1}^{r2}] $\n",
    "- [x] $\\huge \\langle  TF[ s(r,t) ] \\rangle_{r1}^{r2}$\n",
    "\n",
    "PS: les deux sont définis dans le code ci-dessous en tant que \"fspectra_1\" et \"fspectra_2\" respectivement."
   ]
  },
  {
   "cell_type": "code",
   "execution_count": 7,
   "id": "0bd8c72f-d8f3-441d-bf05-dc7442674749",
   "metadata": {
    "colab": {
     "referenced_widgets": [
      "5b7855046e1d4f5d9ac92e2694af779b"
     ]
    },
    "collapsed": true,
    "id": "0bd8c72f-d8f3-441d-bf05-dc7442674749",
    "jupyter": {
     "outputs_hidden": true,
     "source_hidden": true
    },
    "outputId": "117f8d31-75c2-46c2-9bb7-b867458a3503",
    "tags": []
   },
   "outputs": [
    {
     "data": {
      "application/vnd.jupyter.widget-view+json": {
       "model_id": "a42045971fd4416e9a65ffda37740fc6",
       "version_major": 2,
       "version_minor": 0
      },
      "text/plain": [
       "interactive(children=(IntSlider(value=1, description='N', min=1), FloatSlider(value=0.8, description='colormap…"
      ]
     },
     "metadata": {},
     "output_type": "display_data"
    },
    {
     "data": {
      "text/plain": [
       "<function __main__.update_plot(N, colormap_range, dpi_adjust, param, float_range_time, float_range_rho, q05_bool, q1_bool, q15_bool, q05n0_bool, q15n0_bool, q05new_bool, q05br_bool, DFTradial_avg1_bool, DFTradial_avg2_bool, show_omega_theo)>"
      ]
     },
     "execution_count": 7,
     "metadata": {},
     "output_type": "execute_result"
    }
   ],
   "source": [
    "plt.close('all')\n",
    "import matplotlib.colors as colors\n",
    "from scipy.signal import welch\n",
    "\n",
    "symetrical_cmap = 0\n",
    "\n",
    "def update_plot(N,colormap_range,dpi_adjust,param,float_range_time,float_range_rho,\n",
    "               q05_bool,q1_bool,q15_bool,q05n0_bool,q15n0_bool,q05new_bool,q05br_bool,\n",
    "               DFTradial_avg1_bool, DFTradial_avg2_bool, show_omega_theo):\n",
    "    tmin_avg,tmax_avg = float_range_time\n",
    "    rhomin_avg,rhomax_avg = float_range_rho\n",
    "    \n",
    "    q_ar = [qprof for qprof, qprof_bool in zip(all_sim, [q05_bool,q1_bool,q15_bool,q05n0_bool,q15n0_bool,q05new_bool,q05br_bool]) if qprof_bool]\n",
    "    \n",
    "    plt.close('all')\n",
    "    \n",
    "    fig = plt.figure(figsize=(16,10), dpi=dpi_adjust)\n",
    "    fig.suptitle(r'Study of %s' %param)\n",
    "\n",
    "    Pmap = uniform_filter1d(uniform_filter1d(qprof_05[param],size=N,axis=1),size=N,axis=1)\n",
    "    if symetrical_cmap:\n",
    "        vmin = colormap_range*min( abs( np.min(Pmap) ), abs( np.max(Pmap) ) ) \n",
    "        vmax = -vmin\n",
    "    else:\n",
    "        vmin = colormap_range*np.min(Pmap) \n",
    "        vmax = colormap_range*np.max(Pmap) \n",
    "\n",
    "    gs = gridspec.GridSpec(5, 2*len(q_ar))\n",
    "    \n",
    "    for iq,q in enumerate(q_ar):\n",
    "\n",
    "        irhomin = (np.abs(q['rho'] - 0.0 )).argmin()\n",
    "        irhomax = (np.abs(q['rho'] - 1.1 )).argmin()\n",
    "\n",
    "        itmin = (np.abs(q['time'] - 0e3  )).argmin()\n",
    "        itmax = (np.abs(q['time'] - 90e3 )).argmin()\n",
    "\n",
    "        p_ma = uniform_filter1d(uniform_filter1d(q[param],size=N,axis=1),size=N,axis=1)\n",
    "        \n",
    "        ## Figure 1\n",
    "        ax_map = fig.add_subplot(gs[0:3, 2*iq:2*iq+2]) \n",
    "\n",
    "        ax_map.set_title(q['title'])\n",
    "        p=ax_map.pcolormesh(q['rho'][irhomin:irhomax],q['time'][itmin:itmax],p_ma[itmin:itmax,irhomin:irhomax],vmin=vmin,vmax=vmax)\n",
    "        fig.colorbar(p,ax=ax_map)\n",
    "        fig.tight_layout()\n",
    "        ax_map.set_xlabel(r'$r/a$')\n",
    "        ax_map.set_ylabel(r'Time $[\\omega_{c0}^{-1}]$')\n",
    "\n",
    "        ax_map.axvline(x=1,c='k',ls='--')\n",
    "        for rline in [0.8,0.6,0.4,0.2]:ax_map.axvline(x=rline,c='k',ls='--')\n",
    "        ax_map.set_xticks([1.0,0.8,0.6,0.4,0.2])\n",
    "        \n",
    "        ax_map.axvline(x=rhomin_avg,c='g',ls='-')\n",
    "        ax_map.axvline(x=rhomax_avg,c='g',ls='-')\n",
    "        \n",
    "        ax_map.axhline(y=tmin_avg,c='r',ls='-')\n",
    "        ax_map.axhline(y=tmax_avg,c='r',ls='-')\n",
    "        \n",
    "        ax_map.plot(q['rho'][10:10+N],np.ones(N)*ax_map.get_ylim()[1]/4,c='xkcd:battleship grey',lw=5) #Visualisation de la fenêtre de la moyenne glissante\n",
    "\n",
    "        \n",
    "        ##Figure 2\n",
    "        itmin_avg = (np.abs(q['time'] - tmin_avg )).argmin()\n",
    "        itmax_avg = (np.abs(q['time'] - tmax_avg )).argmin()\n",
    "\n",
    "        irhomin_avg = (np.abs(q['rho'] - rhomin_avg )).argmin()\n",
    "        irhomax_avg = (np.abs(q['rho'] - rhomax_avg )).argmin()\n",
    "        \n",
    "        #Perform fft\n",
    "        dt_diag = q['time'][-1]-q['time'][-2]\n",
    "        fspectra_1 = np.fft.rfft(np.mean(p_ma[itmin_avg:itmax_avg,irhomin_avg:irhomax_avg],axis=1), axis=0) / (itmax_avg-itmin_avg)\n",
    "        fspectra_2 = np.fft.rfft(p_ma[itmin_avg:itmax_avg,:], axis=0) / (itmin_avg-itmax_avg)\n",
    "        w = np.fft.rfftfreq(itmax_avg-itmin_avg, d=dt_diag)\n",
    "        \n",
    "        #Try with Welsh\n",
    "        #f_welsh, spectra_welsh = welch(np.mean(p_ma[itmin_avg:itmax_avg,irhomin_avg:irhomax_avg],axis=1), fs=1/dt_diag, nperseg=100, window='hamming', axis=0)\n",
    "\n",
    "        #Comparaison avec la fonction implémentée dans GYSELA\n",
    "        #fspectra_GYS, w_GYS = Fourier1D( p_ma[itmin_avg:itmax_avg,:], q['time'][itmin_avg:itmax_avg],axis=0)\n",
    "        \n",
    "        ax_fspectra = fig.add_subplot(gs[3:, 0:len(q_ar)]) \n",
    "        ax_fspectra.set_title(r'Fourier amplitude (avg %.2f < r/a < %.2f)' % (rhomin_avg , rhomax_avg) )\n",
    "        if DFTradial_avg1_bool:ax_fspectra.semilogy(w,np.abs(fspectra_1),c=q['c'],label=q['title'],ls='--') #Pour fspectra_1\n",
    "        #ax_fspectra.semilogy(f_welsh,np.abs(spectra_welsh)/(itmax_avg-itmin_avg),c=q['c'],label=q['title'],ls='--') #Pour Welsh\n",
    "        if DFTradial_avg2_bool:ax_fspectra.semilogy(w,np.mean(np.abs(fspectra_2[:,irhomin_avg:irhomax_avg]),axis=1),ls='-',c=q['c'],label=q['title']) #Pour fspectra_2\n",
    "        #ax_fspectra.semilogy(w_GYS/(2*np.pi),np.mean(np.abs(fspectra_GYS[:,irhomin_avg:irhomax_avg]),axis=1),ls='--',c=q['c'],label=q['title']) #Pour comparer avec la fonction native dans les diags GYSELA\n",
    "        ax_fspectra.set_xlabel(r'$\\omega [\\omega_{c0}]$')\n",
    "        ax_fspectra.legend(fontsize=14)\n",
    "        \n",
    "        #Fréquence GAM théorique\n",
    "        if show_omega_theo:\n",
    "            omega_theo = np.mean( np.mean( (2*np.sqrt(q['T'] * (5/3) *(1 + (1/(2*q['q']**2) ) )) /800)[itmin_avg:itmax_avg] ,axis=0)[irhomax_avg-1:irhomax_avg] ) / (2 * np.pi)\n",
    "            ax_fspectra.axvline(x=omega_theo,c=q['c'],ls='--')\n",
    "        \n",
    "        ax_fphase = fig.add_subplot(gs[3:, len(q_ar):]) \n",
    "        ax_fphase.set_title(r'Fourier phase (avg %.2f < r/a < %.2f)' % (rhomin_avg , rhomax_avg) )\n",
    "        if DFTradial_avg1_bool:ax_fphase.plot(np.sort(w), np.angle(fspectra_1),ls='--',c=q['c'],label=q['title']) #Pour fspectra_1\n",
    "        if DFTradial_avg2_bool:ax_fphase.plot(np.sort(w), np.mean(np.angle(fspectra_2[:,irhomin_avg:irhomax_avg]),axis=1),ls='-',c=q['c'],label=q['title']) #Pour fspectra_2\n",
    "        ax_fphase.set_xlabel(r'$\\omega [\\omega_{c0}]$')\n",
    "        ax_fphase.axhline(y=0,ls='--',c='k')\n",
    "        ax_fphase.legend(fontsize=16)\n",
    "\n",
    "    fig.tight_layout(rect=[0, 0.03, 1, 0.95])\n",
    "\n",
    "float_range_time_slider = widgets.FloatRangeSlider(value=[50e3, 90e3], min=0, max=150e3, step=1000, description='Time range', layout=Layout(width='50%'), style = {'description_width': 'initial'})\n",
    "    \n",
    "float_range_rho_slider = widgets.FloatRangeSlider(value=[0.84, 0.86], min=0, max=1.2, step=0.01, description='Normalized radius range', layout=Layout(width='50%'), style = {'description_width': 'initial'})\n",
    "    \n",
    "interact(update_plot, \n",
    "         N=widgets.IntSlider(min=1, max=100, step=1,value=1),\n",
    "         float_range_time=float_range_time_slider,\n",
    "         float_range_rho=float_range_rho_slider,\n",
    "         colormap_range=widgets.FloatSlider(min=0.1, max=2, step=0.05,value=0.8),\n",
    "         dpi_adjust=widgets.FloatSlider(min=30, max=100, step=1,value=dpi_custom),\n",
    "         param = widgets.Text(value='Ptransfert',placeholder='Type something',description='Select parameter:',disabled=False),\n",
    "         q05_bool    = widgets.Checkbox(value=True,description='q05'),\n",
    "         q1_bool     = widgets.Checkbox(value=False,description='q1'),\n",
    "         q15_bool    = widgets.Checkbox(value=True,description='q15'),\n",
    "         q05n0_bool  = widgets.Checkbox(value=False,description='q05n0'),\n",
    "         q15n0_bool  = widgets.Checkbox(value=False,description='q15n0'),\n",
    "         q05new_bool = widgets.Checkbox(value=False,description='q05new'),\n",
    "         q05br_bool  = widgets.Checkbox(value=False,description='q05br'),\n",
    "         DFTradial_avg1_bool = widgets.Checkbox(value=False,description='Display fspectra_1'),\n",
    "         DFTradial_avg2_bool = widgets.Checkbox(value=True,description='Display fspectra_2'),\n",
    "         show_omega_theo = widgets.Checkbox(value=False,description=r'Display $\\omega_{theo}$')\n",
    "        )"
   ]
  },
  {
   "attachments": {},
   "cell_type": "markdown",
   "id": "a0260f46-0cda-4268-b0da-7a93156556f5",
   "metadata": {},
   "source": [
    "<a id='exploration_spectral_density_study'></a>\n",
    "## <font color='xkcd:sage'>**Exploration**</font> - Densité spectrale de puissance [▲](#sommaire)\n",
    "\n",
    "La DPS est calculée comme $ PSD(x) = 2 \\frac{ |X(\\omega)|^2 }{ N } \\Delta T $ où $N$ est le nombre d'échantillons temporels (le facteur 2 vient du fait qu'on considère le nombre de points $N_f=N/2$ dans le domaine spectral).\n",
    "\n",
    "Ce calcul donne exactement le même résultat que la fonction *periodogram* de *scipy.signal* ... sauf pour la fréquence nulle."
   ]
  },
  {
   "cell_type": "code",
   "execution_count": 32,
   "id": "28430aa3-fa1c-4b75-83c6-4d7a72dc3460",
   "metadata": {
    "collapsed": true,
    "jupyter": {
     "outputs_hidden": true
    },
    "tags": []
   },
   "outputs": [
    {
     "data": {
      "application/vnd.jupyter.widget-view+json": {
       "model_id": "c58e993c593d414c8ace5760f8b8d0d2",
       "version_major": 2,
       "version_minor": 0
      },
      "text/plain": [
       "interactive(children=(IntSlider(value=1, description='N', min=1), FloatSlider(value=0.8, description='colormap…"
      ]
     },
     "metadata": {},
     "output_type": "display_data"
    },
    {
     "data": {
      "text/plain": [
       "<function __main__.update_plot(N, colormap_range, dpi_adjust, param, float_range_time, float_range_rho, q05_bool, q1_bool, q15_bool, q05n0_bool, q15n0_bool, q05new_bool, q05br_bool, q075br_bool, q15br_bool, mode)>"
      ]
     },
     "execution_count": 32,
     "metadata": {},
     "output_type": "execute_result"
    }
   ],
   "source": [
    "plt.close('all')\n",
    "import matplotlib.colors as colors\n",
    "import scipy.signal\n",
    "from scipy.signal import welch\n",
    "\n",
    "\n",
    "symetrical_cmap = 0\n",
    "def update_plot(N,colormap_range,dpi_adjust,param,float_range_time,float_range_rho,\n",
    "               q05_bool,q1_bool,q15_bool,q05n0_bool,q15n0_bool,q05new_bool,\n",
    "               q05br_bool,q075br_bool,q15br_bool,\n",
    "               mode):#Nwelsh, overlap_factor):\n",
    "    \n",
    "    tmin_avg,tmax_avg = float_range_time\n",
    "    rhomin_avg,rhomax_avg = float_range_rho\n",
    "    \n",
    "    q_ar = [qprof for qprof, qprof_bool in zip(all_sim, [q05_bool,q1_bool,q15_bool,q05n0_bool,q15n0_bool,q05new_bool,q05br_bool,q075br_bool,q15br_bool]) if qprof_bool]\n",
    "    \n",
    "    plt.close('all')\n",
    "    \n",
    "    fig = plt.figure(figsize=(16,10), dpi=dpi_adjust)\n",
    "    fig.suptitle(r'Study of %s' %param)\n",
    "\n",
    "    Pmap = uniform_filter1d(uniform_filter1d(qprof_05[param],size=N,axis=1),size=N,axis=1)\n",
    "    if symetrical_cmap:\n",
    "        vmin = colormap_range*min( abs( np.min(Pmap) ), abs( np.max(Pmap) ) ) \n",
    "        vmax = -vmin\n",
    "    else:\n",
    "        vmin = colormap_range*np.min(Pmap) \n",
    "        vmax = colormap_range*np.max(Pmap) \n",
    "\n",
    "    gs = gridspec.GridSpec(5, 2*len(q_ar))\n",
    "    \n",
    "    for iq,q in enumerate(q_ar):\n",
    "\n",
    "        irhomin = (np.abs(q['rho'] - 0.0 )).argmin()\n",
    "        irhomax = (np.abs(q['rho'] - 1.1 )).argmin()\n",
    "\n",
    "        itmin = (np.abs(q['time'] - 0e3  )).argmin()\n",
    "        itmax = (np.abs(q['time'] - 145e3 )).argmin()\n",
    "\n",
    "        p_ma = uniform_filter1d(uniform_filter1d(q[param],size=N,axis=1),size=N,axis=1)\n",
    "        \n",
    "        ## Figure 1\n",
    "        ax_map = fig.add_subplot(gs[0:3, 2*iq:2*iq+2]) \n",
    "\n",
    "        ax_map.set_title(q['title'])\n",
    "        p=ax_map.pcolormesh(q['rho'][irhomin:irhomax],q['time'][itmin:itmax],p_ma[itmin:itmax,irhomin:irhomax],vmin=vmin,vmax=vmax)\n",
    "        fig.colorbar(p,ax=ax_map)\n",
    "        fig.tight_layout()\n",
    "        ax_map.set_xlabel(r'$r/a$')\n",
    "        ax_map.set_ylabel(r'Time $[\\omega_{c0}^{-1}]$')\n",
    "\n",
    "        ax_map.axvline(x=1,c='k',ls='--')\n",
    "        for rline in [0.8,0.6,0.4,0.2]:ax_map.axvline(x=rline,c='k',ls='--')\n",
    "        ax_map.set_xticks([1.0,0.8,0.6,0.4,0.2])\n",
    "        \n",
    "        ax_map.axvline(x=rhomin_avg,c='g',ls='-')\n",
    "        ax_map.axvline(x=rhomax_avg,c='g',ls='-')\n",
    "        \n",
    "        ax_map.axhline(y=tmin_avg,c='r',ls='-')\n",
    "        ax_map.axhline(y=tmax_avg,c='r',ls='-')\n",
    "        \n",
    "        ax_map.plot(q['rho'][10:10+N],np.ones(N)*ax_map.get_ylim()[1]/4,c='xkcd:battleship grey',lw=5) #Visualisation de la fenêtre de la moyenne glissante\n",
    "\n",
    "        \n",
    "        ##Figure 2\n",
    "        itmin_avg = (np.abs(q['time'] - tmin_avg )).argmin()\n",
    "        itmax_avg = (np.abs(q['time'] - tmax_avg )).argmin()\n",
    "\n",
    "        irhomin_avg = (np.abs(q['rho'] - rhomin_avg )).argmin()\n",
    "        irhomax_avg = (np.abs(q['rho'] - rhomax_avg )).argmin()\n",
    "        \n",
    "        #Perform fft\n",
    "        dt_diag = q['time'][-1]-q['time'][-2]\n",
    "        fspectra = np.fft.rfft(p_ma[itmin_avg:itmax_avg,:], axis=0) / (itmax_avg-itmin_avg)\n",
    "        w = np.fft.rfftfreq(itmax_avg-itmin_avg, d=dt_diag)\n",
    "        \n",
    "        f_DSP, DSP = scipy.signal.periodogram(p_ma[itmin_avg:itmax_avg,:], 1/dt_diag, scaling='density', axis=0)\n",
    "        \n",
    "        #Welsh\n",
    "        #print(Nwelsh)\n",
    "        #print(Nwelsh*overlap_factor)\n",
    "        #f_welsh, spectra_welsh = welch(p_ma[itmin_avg:itmax_avg,:], fs=1/dt_diag, nperseg=Nwelsh, noverlap=int(Nwelsh*overlap_factor), window='hann', scaling='density', axis=0)\n",
    "        \n",
    "        ax_fspectra = fig.add_subplot(gs[3:, 0:len(q_ar)]) \n",
    "        ax_fspectra.set_title(r'Fourier amplitude (avg %.2f < r/a < %.2f)' % (rhomin_avg , rhomax_avg) )\n",
    "        #ax_fspectra.semilogy(f_DSP,np.mean(DSP[:,irhomin_avg:irhomax_avg],axis=1),c=q['c'],label=q['title'],ls='-') #nécéssite peut être une normalisation par (itmax_avg-itmin_avg)\n",
    "        ax_fspectra.semilogy(w,2*np.mean(np.abs(fspectra[:,irhomin_avg:irhomax_avg])**2 * ((itmax_avg-itmin_avg)*dt_diag),axis=1),c=q['c'],label=q['title'],ls='-')\n",
    "        #ax_fspectra.semilogy(f_welsh,np.mean(np.abs(spectra_welsh[:,irhomin_avg:irhomax_avg]),axis=1),c=q['c'],label=q['title'],ls='--') #Pour Welsh, nécéssite peut être une normalisation par (itmax_avg-itmin_avg)\n",
    "        ax_fspectra.set_xlabel(r'$\\omega [\\omega_{c0}]$')\n",
    "        ax_fspectra.legend(fontsize=14)\n",
    "        ax_fspectra.axvline(x=w[mode], ls='--', c='g')\n",
    "\n",
    "        irholimmin = (np.abs(q['rho'] - 0.5 )).argmin()\n",
    "        irholimmax = (np.abs(q['rho'] - 1 )).argmin()\n",
    "        ax_rprof = fig.add_subplot(gs[3:, len(q_ar):]) \n",
    "        ax_rprof.set_title(r'Profile of $\\omega = %.2e [\\omega_{c0}^1]$ component' % w[mode])\n",
    "        ax_rprof.semilogy(q['rho'][irholimmin:irholimmax], \n",
    "                      2*np.abs(fspectra[mode,irholimmin:irholimmax])**2 * ((itmax_avg-itmin_avg)*dt_diag), c=q['c']\n",
    "                     )\n",
    "        \n",
    "    fig.tight_layout(rect=[0, 0.03, 1, 0.95])\n",
    "\n",
    "float_range_time_slider = widgets.FloatRangeSlider(value=[100e3, 145e3], min=0, max=150e3, step=1000, description='Time range', layout=Layout(width='50%'), style = {'description_width': 'initial'})\n",
    "\n",
    "float_range_rho_slider = widgets.FloatRangeSlider(value=[0.84, 0.86], min=0, max=1.2, step=0.01, description='Normalized radius range', layout=Layout(width='50%'), style = {'description_width': 'initial'})\n",
    "    \n",
    "interact(update_plot, \n",
    "         N=widgets.IntSlider(min=1, max=100, step=1,value=1),\n",
    "         mode=widgets.IntSlider(min=0, max=50, step=1,value=0),\n",
    "         #Nwelsh=widgets.IntSlider(min=1, max=1000, step=1,value=2),\n",
    "         overlap_factor=widgets.FloatSlider(min=0, max=1, step=0.05,value=0.8),\n",
    "         float_range_time=float_range_time_slider,\n",
    "         float_range_rho=float_range_rho_slider,\n",
    "         colormap_range=widgets.FloatSlider(min=0.1, max=2, step=0.05,value=0.8),\n",
    "         dpi_adjust=widgets.FloatSlider(min=30, max=100, step=1,value=dpi_custom),\n",
    "         param = widgets.Text(value='Ptransfert',placeholder='Type something',description='Select parameter:',disabled=False),\n",
    "         q05_bool    = widgets.Checkbox(value=True,description='q05'),\n",
    "         q1_bool     = widgets.Checkbox(value=False,description='q1'),\n",
    "         q15_bool    = widgets.Checkbox(value=True,description='q15'),\n",
    "         q05n0_bool  = widgets.Checkbox(value=False,description='q05n0'),\n",
    "         q15n0_bool  = widgets.Checkbox(value=False,description='q15n0'),\n",
    "         q05new_bool = widgets.Checkbox(value=False,description='q05new'),\n",
    "         q05br_bool  = widgets.Checkbox(value=False,description='q05br'),\n",
    "         q075br_bool = widgets.Checkbox(value=False,description='q075br'),\n",
    "         q15br_bool  = widgets.Checkbox(value=False,description='q15br'),\n",
    "         show_omega_theo = widgets.Checkbox(value=False,description=r'Display $\\omega_{theo}$')\n",
    "        )"
   ]
  },
  {
   "attachments": {},
   "cell_type": "markdown",
   "id": "dd54a80b-1290-4460-bbff-3f9f4a7814e5",
   "metadata": {},
   "source": [
    "<a id='exploration_cross_correlation'></a>\n",
    "## <font color='xkcd:sage'>**Exploration**</font> - Cross corrélation en temps [▲](#sommaire)\n",
    "ps: un time-lag $\\tau$ négatif veut dire que \"signal2\" précède \"signal1\" de $\\tau$"
   ]
  },
  {
   "cell_type": "code",
   "execution_count": 22,
   "id": "a28480cc-d677-4af2-8e30-32c3b5c65408",
   "metadata": {
    "tags": []
   },
   "outputs": [
    {
     "data": {
      "application/vnd.jupyter.widget-view+json": {
       "model_id": "12f30560fb844eb7b83f4c4b2bcd03a5",
       "version_major": 2,
       "version_minor": 0
      },
      "text/plain": [
       "interactive(children=(IntSlider(value=1, description='N1', max=200, min=1), IntSlider(value=1, description='N2…"
      ]
     },
     "metadata": {},
     "output_type": "display_data"
    },
    {
     "data": {
      "text/plain": [
       "<function __main__.update_plot(N1, N2, float_range_rho, dpi_adjust, float_range_time, q05_bool, q1_bool, q15_bool, q05n0_bool, q15n0_bool, q05new_bool, qgdp_bool, signal1, signal2)>"
      ]
     },
     "execution_count": 22,
     "metadata": {},
     "output_type": "execute_result"
    }
   ],
   "source": [
    "from mpl_toolkits.axes_grid1.inset_locator import inset_axes\n",
    "\n",
    "def extract_fluctuations(signal2D):\n",
    "    return signal2D - np.mean(signal2D,axis=0)\n",
    "\n",
    "def update_plot(N1,N2,float_range_rho,dpi_adjust,float_range_time,\n",
    "               q05_bool,q1_bool,q15_bool,q05n0_bool,q15n0_bool,q05new_bool,qgdp_bool,\n",
    "               signal1, signal2):\n",
    "    \n",
    "    q_ar = []\n",
    "    if q05_bool    : q_ar = np.append(q_ar,qprof_05)\n",
    "    if q1_bool     : q_ar = np.append(q_ar,qprof_1)\n",
    "    if q15_bool    : q_ar = np.append(q_ar,qprof_15)\n",
    "    if q05n0_bool  : q_ar = np.append(q_ar,qprof_05_n0)\n",
    "    if q15n0_bool  : q_ar = np.append(q_ar,qprof_15_n0)\n",
    "    if q05new_bool : q_ar = np.append(q_ar,qprof_05new)\n",
    "    if qgdp_bool   : q_ar = np.append(q_ar,qprof_gdp)\n",
    "    \n",
    "    tmin_avg,tmax_avg = float_range_time\n",
    "    \n",
    "    plt.close('all')\n",
    "    \n",
    "    fig = plt.figure(figsize=(11*len(q_ar),16), dpi=dpi_adjust)\n",
    "    fig.suptitle('Cross correlation between %s and %s' %(signal1,signal2))\n",
    "    \n",
    "    gs = gridspec.GridSpec(3,len(q_ar))\n",
    "    \n",
    "    ###############################\n",
    "    #Figure 3 layout - Cross correlation at a given radius\n",
    "    ###############################\n",
    "    ax_cc1D = fig.add_subplot(gs[2, :]) \n",
    "    ax_cc1D.set_ylim(-1.1,1.1)\n",
    "    ax_cc1D.axhline(y=0,c='k',ls='--'); ax_cc1D.axhline(y=1,c='gray',ls='--'); ax_cc1D.axhline(y=-1,c='gray',ls='--')\n",
    "    ax_cc1D.axvline(x=0,c='k',ls='--')\n",
    "    ax_cc1D.set_xlabel(r'Time lag $[\\omega_{c0}^{-1}]$')\n",
    "    \n",
    "    for iq,q in enumerate(q_ar):\n",
    "\n",
    "        itmin = (np.abs(q['time'] - tmin_avg )).argmin()//3*3\n",
    "        itmax = (np.abs(q['time'] - tmax_avg )).argmin()//3*3\n",
    "\n",
    "        irhomin = (np.abs(q['rho'] - 0.0 )).argmin()\n",
    "        irhomax = (np.abs(q['rho'] - 1.1 )).argmin()\n",
    "\n",
    "        itlim = itmax-itmin\n",
    "        itau_range = np.r_[-itlim//3:itlim//3]\n",
    "\n",
    "        tau_range = itau_range * (q['time'][1]-q['time'][0])\n",
    "\n",
    "        it_CC_range = np.r_[itlim//3:2*itlim//3]\n",
    "        Cfg = np.zeros( (irhomax-irhomin, 2*itlim//3 ) )\n",
    "        \n",
    "        signal1_ar = uniform_filter1d(uniform_filter1d(q[signal1],size=N1,axis=1),size=N1,axis=1)\n",
    "        signal2_ar = uniform_filter1d(uniform_filter1d(q[signal2],size=N2,axis=1),size=N2,axis=1)\n",
    "\n",
    "        f = extract_fluctuations(signal1_ar[itmin:itmax,irhomin:irhomax])\n",
    "        g = extract_fluctuations(signal2_ar[itmin:itmax,irhomin:irhomax])\n",
    "\n",
    "        norm = np.sqrt( np.sum(f[it_CC_range,:]**2,axis=0) ) * np.sqrt( np.sum(g[it_CC_range,:]**2,axis=0) )\n",
    "        for itau in itau_range:\n",
    "            Cfg[:,itau + itlim//3] = np.sum(f[it_CC_range,:] * g[it_CC_range+itau,:],axis=0)/norm\n",
    "\n",
    "\n",
    "        rhomin_avg,rhomax_avg = float_range_rho\n",
    "        irhomin_avg = (np.abs(q['rho'] - rhomin_avg )).argmin()\n",
    "        irhomax_avg = (np.abs(q['rho'] - rhomax_avg )).argmin()\n",
    "        ##############################\n",
    "        #Figure - 2D cross correlation\n",
    "        ##############################\n",
    "        ax_map = fig.add_subplot(gs[0, iq]) \n",
    "        ax_map.set_title('Cross correlation over radius')\n",
    "        p=ax_map.pcolormesh(q['rho'][irhomin:irhomax],tau_range,Cfg.T,vmin=-1,vmax=1)\n",
    "        ax_map.axhline(y=0,c='k',ls='--')\n",
    "        cax = inset_axes(ax_map, width=\"30%\", height=\"5%\", loc=1, bbox_to_anchor=(0,0.2,1,1), bbox_transform=ax_map.transAxes) \n",
    "        fig.colorbar(p,cax=cax,orientation='horizontal')\n",
    "        ax_map.axvline(x=rhomin_avg,c='g',lw=4)\n",
    "        ax_map.axvline(x=rhomax_avg,c='g',lw=4)\n",
    "        ax_map.set_title(r'%s' % q['title'])\n",
    "        ax_map.set_xlabel(r'$r/a$')\n",
    "        ax_map.set_ylabel(r'Time lag')\n",
    "        ax_map.set_xticks([1.0,0.8,0.6,0.4,0.2])\n",
    "        \n",
    "        ##############################\n",
    "        #Figure - Time evolution\n",
    "        ##############################\n",
    "        color1 = 'xkcd:green'\n",
    "        color2 = 'xkcd:purple'\n",
    "        \n",
    "        itbeg = (np.abs(q['time'] - 0e3 )).argmin()//3*3\n",
    "        ax_tevol1 = fig.add_subplot(gs[1, iq]) \n",
    "        ax_tevol1.set_title('%s - Time evolution avg on $%.2f < r/a < %.2f$' %(q['title'],rhomin_avg,rhomax_avg))\n",
    "        ax_tevol1.plot(q['time'][itbeg:],np.mean(q[signal1][itbeg:,irhomin_avg:irhomax_avg],axis=1),c=color1,ls='--')\n",
    "        ax_tevol1.plot(q['time'][itbeg:],np.mean(signal1_ar[itbeg:,irhomin_avg:irhomax_avg],axis=1),c=color1)\n",
    "        ax_tevol1.yaxis.label.set_color(color1)\n",
    "        ax_tevol1.tick_params(axis='y', colors=color1)\n",
    "        ax_tevol1.set_ylabel(signal1)\n",
    "        ax_tevol2 = ax_tevol1.twinx()\n",
    "        ax_tevol2.plot(q['time'][itbeg:],np.mean(q[signal2][itbeg:,irhomin_avg:irhomax_avg],axis=1),c=color2,ls='--')\n",
    "        ax_tevol2.plot(q['time'][itbeg:],np.mean(signal2_ar[itbeg:,irhomin_avg:irhomax_avg],axis=1),c=color2)\n",
    "        ax_tevol2.grid(None)\n",
    "        ax_tevol2.yaxis.label.set_color(color2)\n",
    "        ax_tevol2.tick_params(axis='y', colors=color2)\n",
    "        ax_tevol2.set_ylabel(signal2)\n",
    "        ax_tevol1.axvline(x=tmin_avg,c='k',ls='--'); ax_tevol1.axvline(x=tmax_avg,c='k',ls='--')\n",
    "        ax_tevol1.set_xlabel(r'Time $[\\omega_{c0}^{-1}]$')\n",
    "        \n",
    "        ##############################\n",
    "        #Figure 3 layout - Cross correlation at a given radius\n",
    "        ##############################\n",
    "        ax_cc1D.set_title(r'Cross correlation avg on $%.2f < r/a < %.2f$' %(rhomin_avg,rhomax_avg))\n",
    "        ax_cc1D.plot(tau_range, np.mean(Cfg[irhomin_avg:irhomax_avg,:],axis=0),c=q['c'],lw=4,label=q['title'])\n",
    "    \n",
    "    ax_cc1D.legend()\n",
    "    fig.tight_layout(rect=[0, 0.03, 1, 0.95])\n",
    "\n",
    "float_range_time_slider = widgets.FloatRangeSlider(value=[100e3, 145e3], min=0, max=150e3, step=1000, description='Time range', layout=Layout(width='50%'), style = {'description_width': 'initial'})\n",
    "float_range_rho_slider = widgets.FloatRangeSlider(value=[0.8, 0.9], min=0, max=1.2, step=0.01, description='Normalized radius range', layout=Layout(width='50%'), style = {'description_width': 'initial'})\n",
    "    \n",
    "interact(update_plot, \n",
    "         N1=widgets.IntSlider(min=1, max=200, step=1,value=1),\n",
    "         N2=widgets.IntSlider(min=1, max=200, step=1,value=1),\n",
    "         float_range_time=float_range_time_slider,\n",
    "         float_range_rho=float_range_rho_slider,\n",
    "         dpi_adjust=widgets.FloatSlider(min=30, max=100, step=1,value=dpi_custom),\n",
    "         q05_bool    = widgets.Checkbox(value=True,description='q05'),\n",
    "         q1_bool     = widgets.Checkbox(value=False,description='q1'),\n",
    "         q15_bool    = widgets.Checkbox(value=True,description='q15'),\n",
    "         q05n0_bool  = widgets.Checkbox(value=False,description='q05n0'),\n",
    "         q15n0_bool  = widgets.Checkbox(value=False,description='q15n0'),\n",
    "         q05new_bool = widgets.Checkbox(value=False,description='q05new'),\n",
    "         qgdp_bool   = widgets.Checkbox(value=False,description='qgdp'),\n",
    "         signal1 = widgets.Text(value='dRSpoldr',placeholder='Type something',description='Select parameter:',disabled=False),\n",
    "         signal2 = widgets.Text(value='Er',placeholder='Type something',description='Select parameter:',disabled=False)\n",
    "        )"
   ]
  },
  {
   "attachments": {},
   "cell_type": "markdown",
   "id": "b411ad5f-1c42-4957-b221-4c8c0d773128",
   "metadata": {},
   "source": [
    "<a id='exploration_cycle_limite'></a>\n",
    "## <font color='orangered'>**(En cours)**</font> <font color='xkcd:sage'>**Exploration**</font> - Cycle limite [▲](#sommaire)"
   ]
  },
  {
   "cell_type": "code",
   "execution_count": 85,
   "id": "94211f5f-ec96-43e1-9319-39b014ffc1f7",
   "metadata": {
    "collapsed": true,
    "jupyter": {
     "outputs_hidden": true,
     "source_hidden": true
    },
    "tags": []
   },
   "outputs": [
    {
     "data": {
      "application/vnd.jupyter.widget-view+json": {
       "model_id": "faad7c2398e54e9591099a042cb8f275",
       "version_major": 2,
       "version_minor": 0
      },
      "text/plain": [
       "interactive(children=(IntSlider(value=1, description='N', min=1), FloatSlider(value=0.8, description='colormap…"
      ]
     },
     "metadata": {},
     "output_type": "display_data"
    },
    {
     "data": {
      "text/plain": [
       "<function __main__.update_plot(N, colormap_range, dpi_adjust, param, param2, float_range_time, float_range_rho, q05_bool, q1_bool, q15_bool, q05n0_bool, q15n0_bool, q05new_bool, show_omega_theo)>"
      ]
     },
     "execution_count": 85,
     "metadata": {},
     "output_type": "execute_result"
    }
   ],
   "source": [
    "plt.close('all')\n",
    "import matplotlib.colors as colors\n",
    "import scipy.signal \n",
    "\n",
    "symetrical_cmap = 0\n",
    "def update_plot(N,colormap_range,dpi_adjust,param,param2,float_range_time,float_range_rho,\n",
    "               q05_bool,q1_bool,q15_bool,q05n0_bool,q15n0_bool,q05new_bool, show_omega_theo):#Nwelsh, overlap_factor):\n",
    "    \n",
    "    tmin_avg,tmax_avg = float_range_time\n",
    "    rhomin_avg,rhomax_avg = float_range_rho\n",
    "    \n",
    "    q_ar = []\n",
    "    if q05_bool    : q_ar = np.append(q_ar,qprof_05)\n",
    "    if q1_bool     : q_ar = np.append(q_ar,qprof_1)\n",
    "    if q15_bool    : q_ar = np.append(q_ar,qprof_15)\n",
    "    if q05n0_bool  : q_ar = np.append(q_ar,qprof_05_n0)\n",
    "    if q15n0_bool  : q_ar = np.append(q_ar,qprof_15_n0)\n",
    "    if q05new_bool : q_ar = np.append(q_ar,qprof_05new)\n",
    "    \n",
    "    plt.close('all')\n",
    "    \n",
    "    fig = plt.figure(figsize=(16,8), dpi=dpi_adjust)\n",
    "\n",
    "    Pmap = uniform_filter1d(uniform_filter1d(qprof_05[param],size=N,axis=1),size=N,axis=1)\n",
    "    if symetrical_cmap:\n",
    "        vmin = colormap_range*min( abs( np.min(Pmap) ), abs( np.max(Pmap) ) ) \n",
    "        vmax = -vmin\n",
    "    else:\n",
    "        vmin = colormap_range*np.min(Pmap) \n",
    "        vmax = colormap_range*np.max(Pmap) \n",
    "\n",
    "    gs = gridspec.GridSpec(5, 2*len(q_ar))\n",
    "    \n",
    "    for iq,q in enumerate(q_ar):\n",
    "\n",
    "        irhomin = (np.abs(q['rho'] - rhomin_avg )).argmin()\n",
    "        irhomax = (np.abs(q['rho'] - rhomax_avg )).argmin()\n",
    "\n",
    "        itmin = (np.abs(q['time'] - tmin_avg  )).argmin()\n",
    "        itmax = (np.abs(q['time'] - tmax_avg )).argmin()\n",
    "\n",
    "        p_ma = uniform_filter1d(uniform_filter1d(q[param],size=N,axis=1),size=N,axis=1)\n",
    "        \n",
    "        ## Figure 1\n",
    "        ax_cl = fig.add_subplot(gs[:, 2*iq:2*iq+2]) \n",
    "\n",
    "        ax_cl.set_title('Cycle limite ' + q['title'])\n",
    "        ax_cl.set_xlabel(param)\n",
    "        ax_cl.set_ylabel(param2)\n",
    "        \n",
    "        x = np.mean(q[param][itmin:itmax,irhomin:irhomax],axis=1)\n",
    "        y = np.mean(q[param2][itmin:itmax,irhomin:irhomax],axis=1)\n",
    "        \n",
    "        ax_cl.plot(x,y,c='k')\n",
    "        ax_cl.scatter(x,y,\n",
    "                   c=np.tan( q['time'][itmin:itmax]/q['time'][itmax] ),\n",
    "                   marker='_', s=80,\n",
    "                   lw=5, cmap='winter',zorder=10)\n",
    "        \n",
    "        ax_cl.autoscale()\n",
    "        \n",
    "    fig.tight_layout(rect=[0, 0.03, 1, 0.95])\n",
    "\n",
    "float_range_time_slider = widgets.FloatRangeSlider(value=[100e3, 145e3], min=0, max=150e3, step=1000, description='Time range', layout=Layout(width='50%'), style = {'description_width': 'initial'})\n",
    "    \n",
    "float_range_rho_slider = widgets.FloatRangeSlider(value=[0.8, 0.9], min=0, max=1.2, step=0.01, description='Normalized radius range', layout=Layout(width='50%'), style = {'description_width': 'initial'})\n",
    "    \n",
    "interact(update_plot, \n",
    "         N=widgets.IntSlider(min=1, max=100, step=1,value=1),\n",
    "         float_range_time=float_range_time_slider,\n",
    "         float_range_rho=float_range_rho_slider,\n",
    "         colormap_range=widgets.FloatSlider(min=0.1, max=2, step=0.05,value=0.8),\n",
    "         dpi_adjust=widgets.FloatSlider(min=30, max=100, step=1,value=dpi_custom),\n",
    "         param = widgets.Text(value='RSpol',placeholder='Type something',description='Select parameter:',disabled=False),\n",
    "         param2 = widgets.Text(value='gradT',placeholder='Type something',description='Select parameter:',disabled=False),\n",
    "         q05_bool    = widgets.Checkbox(value=True,description='q05'),\n",
    "         q1_bool     = widgets.Checkbox(value=False,description='q1'),\n",
    "         q15_bool    = widgets.Checkbox(value=True,description='q15'),\n",
    "         q05n0_bool  = widgets.Checkbox(value=False,description='q05n0'),\n",
    "         q15n0_bool  = widgets.Checkbox(value=False,description='q15n0'),\n",
    "         q05new_bool = widgets.Checkbox(value=False,description='q05new'),\n",
    "         show_omega_theo = widgets.Checkbox(value=False,description=r'Display $\\omega_{theo}$')\n",
    "        )"
   ]
  },
  {
   "attachments": {},
   "cell_type": "markdown",
   "id": "3fa30925-8a1e-4402-8fb4-9dafe0b72661",
   "metadata": {},
   "source": [
    "<a id='en_cours_evo_eq_terms_er'></a>\n",
    "## <font color='coral'>**Travail en cours**</font> - Analyse des termes dans l'évolution de $E_r$ [▲](#sommaire)\n",
    "\n",
    "L'équation de conservation de la vorticité généralisée peut se réécrire sous la forme :\n",
    "\n",
    "$ \\huge \\partial_t E_r = \\frac{B_{eq}^2}{n_{eq} m} J_r - \\frac{1}{2} \\frac{1}{n_{eq} e} \\partial_t ( \\nabla_\\perp P_\\perp ) $"
   ]
  },
  {
   "cell_type": "code",
   "execution_count": 17,
   "id": "686d13f9-c65d-4ad8-86b3-ac95011f2274",
   "metadata": {},
   "outputs": [
    {
     "data": {
      "application/vnd.jupyter.widget-view+json": {
       "model_id": "fc10b2c44fba40199c12332490499f32",
       "version_major": 2,
       "version_minor": 0
      },
      "text/plain": [
       "interactive(children=(IntSlider(value=100, description='dpi_adjust', max=200, min=30), FloatSlider(value=90000…"
      ]
     },
     "metadata": {},
     "output_type": "display_data"
    },
    {
     "data": {
      "text/plain": [
       "<function __main__.update_plot(dpi_adjust, float_time, q05_bool, q1_bool, q15_bool, q05n0_bool, q15n0_bool, q05new_bool, q05br_bool, q075br_bool, q15br_bool)>"
      ]
     },
     "execution_count": 17,
     "metadata": {},
     "output_type": "execute_result"
    }
   ],
   "source": [
    "plt.close('all')\n",
    "\n",
    "def update_plot(dpi_adjust,float_time,\n",
    "               q05_bool,q1_bool,q15_bool,q05n0_bool,q15n0_bool,q05new_bool,\n",
    "               q05br_bool,q075br_bool,q15br_bool):\n",
    "    \n",
    "    plt.close('all')\n",
    "\n",
    "    q_ar = [qprof for qprof, qprof_bool in zip(all_sim, [q05_bool,q1_bool,q15_bool,q05n0_bool,q15n0_bool,q05new_bool,q05br_bool,q075br_bool,q15br_bool]) if qprof_bool]\n",
    "    \n",
    "    fig = plt.figure(figsize=(15,4*len(q_ar)))\n",
    "\n",
    "    tscan = float_time\n",
    "\n",
    "    fig.suptitle('Time : %.0f' % (tscan) + r' $[\\omega_{c0}^{-1}]$')\n",
    "\n",
    "    ## Set dpi of figure\n",
    "    if dpi_adjust!=dpi_custom:fig.set_dpi(dpi_adjust)\n",
    "    \n",
    "    for iq,q in enumerate(q_ar):\n",
    "\n",
    "        ax_rprof = fig.add_subplot(len(q_ar),2,2*iq+1)\n",
    "\n",
    "        irhomin = (np.abs(q['rho'] - 0.4 )).argmin()\n",
    "        irhomax = (np.abs(q['rho'] - 1.0 )).argmin()\n",
    "        \n",
    "        itscan = (np.abs(q['time'] - tscan )).argmin()\n",
    "        \n",
    "        dt_vorticity = np.gradient(q['vorticity'],q['time'],axis=0)\n",
    "        div_Jr = np.gradient(q['Jr'],q['rg'],axis=1)\n",
    "\n",
    "        ax_rprof.set_title(q['title'] + ' - Vorticity')\n",
    "        ax_rprof.plot(q['rho'][irhomin:irhomax], dt_vorticity[itscan,irhomin:irhomax],ls=q['ls'],c='b',label=r'$\\partial_t \\langle \\Omega \\rangle$')\n",
    "        ax_rprof.plot(q['rho'][irhomin:irhomax], -div_Jr[itscan,irhomin:irhomax],ls=q['ls'],c='r',label=r'-$\\langle J_r \\rangle$')\n",
    "        #ax_rprof.plot(q['rho'][irhomin:irhomax], (dt_vorticity+q['Jr'])[itscan,irhomin:irhomax],ls=q['ls'],c='r',label=r'Error')\n",
    "        ax_rprof.set_ylim(-4e-6,4e-6)\n",
    "\n",
    "        ax_rprof2 = fig.add_subplot(len(q_ar),2,2*iq+2)\n",
    "        \n",
    "        dt_P = np.gradient(q['P'],q['time'],axis=0)\n",
    "\n",
    "        ax_rprof2.set_title(q['title'] + ' - Integrated vorticity')\n",
    "        ax_rprof2.plot(q['rho'][irhomin:irhomax], dt_P[itscan,irhomin:irhomax],ls=q['ls'],c='b',label=r'$\\partial_t \\langle P \\rangle$')\n",
    "        ax_rprof2.plot(q['rho'][irhomin:irhomax], -q['Jr'][itscan,irhomin:irhomax],ls=q['ls'],c='r',label=r'-$\\langle J_r \\rangle $')\n",
    "        #ax_rprof.plot(q['rho'][irhomin:irhomax], (dt_vorticity+q['Jr'])[itscan,irhomin:irhomax],ls=q['ls'],c='r',label=r'Error')\n",
    "        ax_rprof2.set_ylim(-1e-5,1e-5)\n",
    "\n",
    "        for axes in [ax_rprof,ax_rprof2]:\n",
    "            axes.set_xlabel(r'$r/a$')\n",
    "            axes.axhline(y=0,c='k',ls='--')\n",
    "            axes.axvline(x=1,c='k',ls='--')\n",
    "            if iq==0:axes.legend()\n",
    "\n",
    "    fig.tight_layout(rect=[0, 0.03, 1, 0.95])\n",
    "    \n",
    "    \n",
    "float_time_slider = widgets.FloatSlider(value=90e3, min=0, max=150e3, step=1000, description='Time range', layout=Layout(width='50%'), style = {'description_width': 'initial'})\n",
    "\n",
    "for q in all_sim:\n",
    "    q['bool_display'] = widgets.Checkbox(value=True,description=q['title'])\n",
    "\n",
    "qdisplay = (q['bool_display'] for q in all_sim)\n",
    "\n",
    "interact(update_plot, \n",
    "         float_time=float_time_slider,\n",
    "         dpi_adjust=widgets.IntSlider(min=30, max=200, step=1,value=dpi_custom),\n",
    "         param = widgets.Text(value='Er',placeholder='Type something',description='Select parameter:'),\n",
    "         q05_bool    = widgets.Checkbox(value=False,description='q05'),\n",
    "         q1_bool     = widgets.Checkbox(value=False,description='q1'),\n",
    "         q15_bool    = widgets.Checkbox(value=False,description='q15'),\n",
    "         q05n0_bool  = widgets.Checkbox(value=False,description='q05n0'),\n",
    "         q15n0_bool  = widgets.Checkbox(value=False,description='q15n0'),\n",
    "         q05new_bool = widgets.Checkbox(value=False,description='q05new'),\n",
    "         q05br_bool  = widgets.Checkbox(value=True,description='q05br'),\n",
    "         q075br_bool = widgets.Checkbox(value=True,description='q075br'),\n",
    "         q15br_bool  = widgets.Checkbox(value=True,description='q15br')\n",
    "        )"
   ]
  },
  {
   "attachments": {},
   "cell_type": "markdown",
   "id": "7c0567fb",
   "metadata": {},
   "source": [
    "<a id='en_cours_rprof_energy_evo_terms'></a>\n",
    "## <font color='coral'>**Travail en cours**</font> - Profil des termes dans l'équation $\\frac{1}{2} \\partial_t V_E^2 = - \\langle \\Pi_{r\\theta} \\rangle V_E - \\nu_\\theta (V_E - V_{neo}) V_E$ [▲](#sommaire)\n",
    "/!\\ Ici on estime $- \\nu_\\theta (V_E - V_{neo}) V_E = \\frac{1}{2} \\partial_t V_E^2 + \\langle \\Pi_{r\\theta} \\rangle V_E$ donc on ne vérifie pas une conservation, au contraire on estime qu'elle est toujours vérifiée ce qui permet d'estimer le terme néoclassique"
   ]
  },
  {
   "cell_type": "code",
   "execution_count": null,
   "id": "2fd3d3eb",
   "metadata": {},
   "outputs": [
    {
     "data": {
      "application/vnd.jupyter.widget-view+json": {
       "model_id": "2fc963e050f346608831d57d65138e1d",
       "version_major": 2,
       "version_minor": 0
      },
      "text/plain": [
       "interactive(children=(FloatSlider(value=100.0, description='dpi_adjust', min=30.0, step=1.0), FloatRangeSlider…"
      ]
     },
     "metadata": {},
     "output_type": "display_data"
    },
    {
     "data": {
      "text/plain": [
       "<function __main__.update_plot(dpi_adjust, float_range_time, q05_bool, q1_bool, q15_bool, q05n0_bool, q15n0_bool, q05new_bool, q05br_bool, q075br_bool, q15br_bool, prefactor_bool)>"
      ]
     },
     "metadata": {},
     "output_type": "display_data"
    }
   ],
   "source": [
    "def update_plot(dpi_adjust,float_range_time,\n",
    "               q05_bool,q1_bool,q15_bool,q05n0_bool,q15n0_bool,q05new_bool,\n",
    "               q05br_bool,q075br_bool,q15br_bool,\n",
    "               prefactor_bool):\n",
    "\n",
    "   tmin_avg,tmax_avg = float_range_time\n",
    "\n",
    "   q_ar = [qprof for qprof, qprof_bool in zip(all_sim, [q05_bool,q1_bool,q15_bool,q05n0_bool,q15n0_bool,q05new_bool,q05br_bool,q075br_bool,q15br_bool]) if qprof_bool]\n",
    "\n",
    "   fig = plt.figure(figsize=(6*len(q_ar),12), dpi=dpi_adjust)\n",
    "\n",
    "   for iq,q in enumerate(q_ar):\n",
    "\n",
    "      irhomin = (np.abs(q['rho'] - 0.0 )).argmin()\n",
    "      irhomax = (np.abs(q['rho'] - 1.1 )).argmin()\n",
    "\n",
    "      itmin = (np.abs(q['time'] - tmin_avg )).argmin()\n",
    "      itmax = (np.abs(q['time'] - tmax_avg )).argmin()\n",
    "\n",
    "      if prefactor_bool:\n",
    "         term1 = q['tevol_VEsq']\n",
    "         term2 = q['neo_energy_evol_w_prefactor']\n",
    "         term3 = q['Ptransfert_w_prefactor']\n",
    "      else :\n",
    "         term1 = q['tevol_VEsq']\n",
    "         term2 = q['neo_energy_evol']\n",
    "         term3 = q['Ptransfert']\n",
    "\n",
    "      ax = fig.add_subplot(len(q_ar),1,iq+1)\n",
    "      ax.set_title(q['title'])\n",
    "      ax.plot(q['rho'][irhomin:irhomax], np.mean(term1[itmin:itmax,irhomin:irhomax],axis=0), label=r'$ \\frac{1}{2}\\partial_t V_E^2$',c='xkcd:blue',lw=3, ls='-')\n",
    "      ax.plot(q['rho'][irhomin:irhomax], np.mean(term2[itmin:itmax,irhomin:irhomax],axis=0), label=r'$- \\nu_\\theta (V_E - V_{neo}) V_E$',c='xkcd:red',lw=3, ls='-')\n",
    "      ax.plot(q['rho'][irhomin:irhomax], np.mean(term3[itmin:itmax,irhomin:irhomax],axis=0), label=r'$-\\langle \\Pi_{r\\theta} \\times V_{E\\theta} \\rangle$',c='xkcd:purple',lw=3, ls='-')\n",
    "      ax.axhline(y=0,c='k',ls='--')\n",
    "      ax.legend(loc=('center left'))\n",
    "      ax.set_xlabel(r'$r/a$')\n",
    "      ax.axvline(x=1,c='k',ls='--')\n",
    "   fig.tight_layout(rect=[0, 0.03, 1, 0.95])\n",
    "   \n",
    "float_range_time_slider = widgets.FloatRangeSlider(value=[100e3, 145e3], min=0, max=150e3, step=1000, description='Time range', layout=Layout(width='50%'), style = {'description_width': 'initial'})\n",
    "\n",
    "\n",
    "interact(update_plot, \n",
    "         float_range_time=float_range_time_slider,\n",
    "         dpi_adjust=widgets.FloatSlider(min=30, max=100, step=1,value=dpi_custom),\n",
    "         q05_bool    = widgets.Checkbox(value=True,description='q05'),\n",
    "         q1_bool     = widgets.Checkbox(value=False,description='q1'),\n",
    "         q15_bool    = widgets.Checkbox(value=True,description='q15'),\n",
    "         q05n0_bool  = widgets.Checkbox(value=False,description='q05n0'),\n",
    "         q15n0_bool  = widgets.Checkbox(value=False,description='q15n0'),\n",
    "         q05new_bool = widgets.Checkbox(value=False,description='q05new'),\n",
    "         q05br_bool = widgets.Checkbox(value=False,description='q05br'),\n",
    "         q075br_bool = widgets.Checkbox(value=False,description='q075br'),\n",
    "         q15br_bool = widgets.Checkbox(value=False,description='q15br'),\n",
    "         prefactor_bool = widgets.Checkbox(value=True,description=r'With prefactor $1+2q^2$')\n",
    "        )"
   ]
  },
  {
   "attachments": {},
   "cell_type": "markdown",
   "id": "524c1106",
   "metadata": {},
   "source": [
    "<a id='en_cours_estimation_nutheta'></a>\n",
    "## <font color='coral'>**Travail en cours**</font> - Estimation de $\\nu_\\theta$ sur les simus néoclassiques [▲](#sommaire)"
   ]
  },
  {
   "cell_type": "code",
   "execution_count": 51,
   "id": "9012abdd",
   "metadata": {},
   "outputs": [
    {
     "data": {
      "application/vnd.jupyter.widget-view+json": {
       "model_id": "ce910de8c865416b973f83967a127277",
       "version_major": 2,
       "version_minor": 0
      },
      "text/plain": [
       "interactive(children=(FloatSlider(value=100.0, description='dpi_adjust', min=30.0, step=1.0), FloatRangeSlider…"
      ]
     },
     "metadata": {},
     "output_type": "display_data"
    },
    {
     "data": {
      "text/plain": [
       "<function __main__.update_plot(dpi_adjust, float_range_time, float_range_rho, q05_bool, q1_bool, q15_bool, q05n0_bool, q15n0_bool, q05new_bool)>"
      ]
     },
     "execution_count": 51,
     "metadata": {},
     "output_type": "execute_result"
    }
   ],
   "source": [
    "def update_plot(dpi_adjust,float_range_time,float_range_rho,\n",
    "               q05_bool,q1_bool,q15_bool,q05n0_bool,q15n0_bool,q05new_bool):\n",
    "\n",
    "   tmin_avg,tmax_avg = float_range_time\n",
    "   rhomin_avg,rhomax_avg = float_range_rho\n",
    "\n",
    "   q_ar = []\n",
    "   if q05_bool    : q_ar = np.append(q_ar,qprof_05)\n",
    "   if q1_bool     : q_ar = np.append(q_ar,qprof_1)\n",
    "   if q15_bool    : q_ar = np.append(q_ar,qprof_15)\n",
    "   if q05n0_bool  : q_ar = np.append(q_ar,qprof_05_n0)\n",
    "   if q15n0_bool  : q_ar = np.append(q_ar,qprof_15_n0)\n",
    "   if q05new_bool : q_ar = np.append(q_ar,qprof_05new)\n",
    "\n",
    "   fig = plt.figure(figsize=(6*len(q_ar),12), dpi=dpi_adjust)\n",
    "\n",
    "   ax  = fig.add_subplot(111)\n",
    "\n",
    "   for iq,q in enumerate(q_ar):\n",
    "\n",
    "      irhomin = (np.abs(q['rho'] - 0.0 )).argmin()\n",
    "      irhomax = (np.abs(q['rho'] - 1.1 )).argmin()\n",
    "\n",
    "      itmin = (np.abs(q['time'] - tmin_avg )).argmin()\n",
    "      itmax = (np.abs(q['time'] - tmax_avg )).argmin()\n",
    "\n",
    "      #ax = fig.add_subplot(len(q_ar),1,iq+1)\n",
    "      ax.set_title(q['title'])\n",
    "      ax.plot(np.mean(q['Er'][itmin:itmax,irhomin:irhomax],axis=1), \n",
    "              np.mean(q['dErdr'][itmin:itmax,irhomin:irhomax],axis=1), \n",
    "              label=q['title'],c=q['c'],lw=3, ls='-')\n",
    "      #ax.axhline(y=0,c='k',ls='--')\n",
    "      ax.legend()\n",
    "      ax.set_xlabel(r'$E_r$')\n",
    "   fig.tight_layout(rect=[0, 0.03, 1, 0.95])\n",
    "   \n",
    "float_range_time_slider = widgets.FloatRangeSlider(value=[10e3, 70e3], min=0, max=150e3, step=1000, description='Time range', layout=Layout(width='50%'), style = {'description_width': 'initial'})\n",
    "\n",
    "float_range_rho_slider = widgets.FloatRangeSlider(value=[0.84, 0.86], min=0, max=1.2, step=0.01, description='Normalized radius range', layout=Layout(width='50%'), style = {'description_width': 'initial'})\n",
    "    \n",
    "\n",
    "interact(update_plot, \n",
    "         float_range_time=float_range_time_slider,\n",
    "         float_range_rho=float_range_rho_slider,\n",
    "         dpi_adjust=widgets.FloatSlider(min=30, max=100, step=1,value=dpi_custom),\n",
    "         q05_bool    = widgets.Checkbox(value=False,description='q05'),\n",
    "         q1_bool     = widgets.Checkbox(value=False,description='q1'),\n",
    "         q15_bool    = widgets.Checkbox(value=False,description='q15'),\n",
    "         q05n0_bool  = widgets.Checkbox(value=True,description='q05n0'),\n",
    "         q15n0_bool  = widgets.Checkbox(value=True,description='q15n0'),\n",
    "         q05new_bool = widgets.Checkbox(value=False,description='q05new')\n",
    "        )"
   ]
  },
  {
   "attachments": {},
   "cell_type": "markdown",
   "id": "98d649ab-1432-4a58-b492-e14c3f01e734",
   "metadata": {
    "id": "98d649ab-1432-4a58-b492-e14c3f01e734",
    "tags": []
   },
   "source": [
    "<a id='resultat_rprof_safety_factor'></a>\n",
    "## <font color='red'>**Résultat**</font> - Profil radial du **facteur de sécurité** $q$ [▲](#sommaire)"
   ]
  },
  {
   "cell_type": "code",
   "execution_count": 68,
   "id": "f361416e-79af-482b-a88e-20b7d748847e",
   "metadata": {
    "colab": {
     "referenced_widgets": [
      "f8623ee12bee4a669ea4794f0f52f007",
      "be245138870f40cb9d4ed18987d127bc"
     ]
    },
    "collapsed": true,
    "id": "f361416e-79af-482b-a88e-20b7d748847e",
    "jupyter": {
     "outputs_hidden": true,
     "source_hidden": true
    },
    "outputId": "e1de46bd-dde5-4365-dc0a-74644c15adef",
    "tags": []
   },
   "outputs": [
    {
     "data": {
      "application/vnd.jupyter.widget-view+json": {
       "model_id": "248ec40728f34024806547ef949b26e9",
       "version_major": 2,
       "version_minor": 0
      },
      "text/plain": [
       "Canvas(toolbar=Toolbar(toolitems=[('Home', 'Reset original view', 'home', 'home'), ('Back', 'Back to previous …"
      ]
     },
     "metadata": {},
     "output_type": "display_data"
    }
   ],
   "source": [
    "plt.rc('font',size=20)\n",
    "q_ar = [qprof_05,qprof_1,qprof_15]\n",
    "#q_ar = [qprof_05_br,qprof_075_br,qprof_15_br]\n",
    "\n",
    "fig = plt.figure(figsize=(8,8))\n",
    "ax1 = fig.add_subplot(111)\n",
    "#ax1.set_title('Safety factor')\n",
    "for iq,q in enumerate(q_ar):\n",
    "    irhomin = (np.abs(q['rho'] - 0.2 )).argmin()\n",
    "    irhomax = (np.abs(q['rho'] - 1.0 )).argmin()\n",
    "\n",
    "    irho = (np.abs(q['rho'] - 0.95 )).argmin()\n",
    "    ax1.plot(q['rho'][irhomin:irhomax], q['q'][irhomin:irhomax], label=q['title']+r', $q_{95} = %.1f$' % q['q'][irho],c=q['c'],lw=4,marker=q['marker'],markevery=me)\n",
    "ax1.legend()\n",
    "ax1.set_xlabel(r'$r/a$')\n",
    "ax1.set_ylabel(r'$q$')\n",
    "ax1.axvline(x=1,ls='--',c='k'); ax1.axhline(y=0,ls='--',c='k')\n",
    "ax1.set_xlim(left=q['rho'][irhomin],right=q['rho'][irhomax])\n",
    "\n",
    "ax1.axhline(y=1,c='g',ls='-.',lw=3)\n",
    "ax1.text(x=0.9, y=0.9, s=r'$q=1$', verticalalignment='top',c='g')\n",
    "\n",
    "fig.tight_layout(rect=[0, 0.03, 1, 0.95])\n",
    "\n",
    "fig.set_size_inches(8, 8)\n",
    "fig.savefig('Figures/rprof_q_profiles.pdf', format='pdf', bbox_inches='tight')"
   ]
  },
  {
   "attachments": {},
   "cell_type": "markdown",
   "id": "a57b631b-9267-40be-978f-394fa52ff4db",
   "metadata": {
    "id": "a57b631b-9267-40be-978f-394fa52ff4db",
    "jupyter": {
     "outputs_hidden": true
    },
    "tags": []
   },
   "source": [
    "<a id='resultat_rprof_reynolds_stress'></a>\n",
    "## <font color='red'>**Résultat**</font> - Profil radial du **tenseur de Reynolds $\\Pi_{r \\theta}$** (moyenné en temps **et** coarse-grained) [▲](#sommaire)"
   ]
  },
  {
   "cell_type": "code",
   "execution_count": null,
   "id": "cff9ce31-f10f-4283-83b4-3e65a0c07444",
   "metadata": {
    "colab": {
     "referenced_widgets": [
      "8696f7578d684091b1701b57ccd0c4ec"
     ]
    },
    "collapsed": true,
    "id": "cff9ce31-f10f-4283-83b4-3e65a0c07444",
    "jupyter": {
     "outputs_hidden": true,
     "source_hidden": true
    },
    "outputId": "b60bfa90-5497-4bd7-c60a-112fdeb0a59c",
    "tags": []
   },
   "outputs": [
    {
     "data": {
      "application/vnd.jupyter.widget-view+json": {
       "model_id": "8696f7578d684091b1701b57ccd0c4ec",
       "version_major": 2,
       "version_minor": 0
      },
      "text/plain": [
       "Canvas(toolbar=Toolbar(toolitems=[('Home', 'Reset original view', 'home', 'home'), ('Back', 'Back to previous …"
      ]
     },
     "metadata": {},
     "output_type": "display_data"
    }
   ],
   "source": [
    "q_ar = [qprof_05,qprof_1,qprof_15]\n",
    "\n",
    "fig = plt.figure(figsize=(7,7))\n",
    "#fig.suptitle(p)\n",
    "ax1 = fig.add_subplot(111)\n",
    "\n",
    "N=60\n",
    "def u1d(X):\n",
    "    #return uniform_filter1d(X,size=N)\n",
    "    return uniform_filter1d(uniform_filter1d(X,size=N),size=N)\n",
    "    #return uniform_filter1d(uniform_filter1d(uniform_filter1d(X,size=N),size=N),size=N)\n",
    "    #return uniform_filter1d(uniform_filter1d(uniform_filter1d(uniform_filter1d(X,size=N),size=N),size=N),size=N)\n",
    "\n",
    "def g1d(X):\n",
    "    return gaussian_filter1d(X,sigma=N)\n",
    "\n",
    "for iq,q in enumerate(q_ar):\n",
    "    irhomin = (np.abs(q['rho'] - 0.1 )).argmin()\n",
    "    irhomax = (np.abs(q['rho'] - 1.0 )).argmin()\n",
    "\n",
    "    itmin = (np.abs(q['time'] - 100.0e3 )).argmin()\n",
    "    itmax = (np.abs(q['time'] - 145.0e3 )).argmin()\n",
    "\n",
    "    \n",
    "    ax1.plot(q['rho'][irhomin:irhomax], np.mean(q['RSpol'][itmin:itmax,irhomin:irhomax],axis=0),ls='--',c=q['c'],lw=2)\n",
    "    ax1.plot(q['rho'][irhomin:irhomax], u1d(np.mean(q['RSpol'][itmin:itmax,irhomin:irhomax],axis=0)),c=q['c'],label=q['title'],lw=4)\n",
    "\n",
    "    ax1.axhline(y=0,ls='--',c='k')\n",
    "\n",
    "ax1.set_ylabel(r'$\\Pi_{r \\theta}$ $[V_{T0}^2]$')\n",
    "\n",
    "ax1.ticklabel_format(axis='y',scilimits=(-1,2),useMathText=True)\n",
    "\n",
    "ax1.legend()\n",
    "ax1.set_xlabel(r'$r/a$')\n",
    "\n",
    "plt.text(x=0.01, y=0.9, s='Plain: coarse-grained \\ndashed: time average only', transform=ax1.transAxes)\n",
    "\n",
    "fig.tight_layout(rect=[0, 0.03, 1, 0.95])\n",
    "\n",
    "fig.savefig('Figures/rprof_RSpol_scanq.pdf', format='pdf', bbox_inches='tight')"
   ]
  },
  {
   "attachments": {},
   "cell_type": "markdown",
   "id": "9559bffb-1592-4053-96e4-f40d358181dc",
   "metadata": {
    "id": "9559bffb-1592-4053-96e4-f40d358181dc"
   },
   "source": [
    "<a id='resultat_rprof_div_reynolds_stress'></a>\n",
    "## <font color='red'>**Résultat**</font> - Profil radial du **coarse-grained $- \\nabla \\cdot \\Pi_{r_\\theta}$ avec une fenêtre radiale de $\\sim 40 \\rho_i$** [▲](#sommaire)"
   ]
  },
  {
   "cell_type": "code",
   "execution_count": null,
   "id": "8b15afb5-51c7-4a27-afe7-481edfca5ba1",
   "metadata": {
    "colab": {
     "referenced_widgets": [
      "17f0bb0aeb844b8ea54fd6a89239f495"
     ]
    },
    "collapsed": true,
    "id": "8b15afb5-51c7-4a27-afe7-481edfca5ba1",
    "jupyter": {
     "outputs_hidden": true,
     "source_hidden": true
    },
    "outputId": "0ea27479-6a80-401a-d859-75533cd77216",
    "tags": []
   },
   "outputs": [
    {
     "data": {
      "application/vnd.jupyter.widget-view+json": {
       "model_id": "17f0bb0aeb844b8ea54fd6a89239f495",
       "version_major": 2,
       "version_minor": 0
      },
      "text/plain": [
       "Canvas(toolbar=Toolbar(toolitems=[('Home', 'Reset original view', 'home', 'home'), ('Back', 'Back to previous …"
      ]
     },
     "metadata": {},
     "output_type": "display_data"
    }
   ],
   "source": [
    "q_ar = [qprof_05,qprof_1,qprof_15]\n",
    "\n",
    "param_ar = ['dRSpoldr']\n",
    "\n",
    "N=60\n",
    "Ng=30\n",
    "\n",
    "for ip,p in enumerate(param_ar):\n",
    "    fig = plt.figure(figsize=(xfigsize,6))\n",
    "    ax1 = fig.add_subplot(111)\n",
    "    for iq,q in enumerate(q_ar):\n",
    "        \n",
    "        irhomin = (np.abs(q['rho'] - 0. )).argmin()\n",
    "        irhomax = (np.abs(q['rho'] - 1. )).argmin()\n",
    "\n",
    "        itmin = (np.abs(q['time'] - 100e3 )).argmin()\n",
    "        itmax = (np.abs(q['time'] - 145e3 )).argmin()\n",
    "        \n",
    "        p_ma = uniform_filter1d(uniform_filter1d(np.mean(q[p][itmin:itmax,irhomin:irhomax],axis=0),size=N),size=N)\n",
    "        \n",
    "        p_ga = gaussian_filter1d(np.mean(q[p][itmin:itmax,:],axis=0),sigma=Ng)[irhomin:irhomax]\n",
    "        \n",
    "        ax1.plot(q['rho'][irhomin:irhomax], -p_ma, label=q['title'],lw=3,c=q['c'], ls='-')\n",
    "        \n",
    "\n",
    "        ax1.axhline(y=0,c='k',ls='--')\n",
    "        \n",
    "\n",
    "        \n",
    "    ax1.legend()\n",
    "    ax1.set_xlabel(r'$r/a$')\n",
    "    ax1.set_ylabel(r'$-\\langle \\nabla \\cdot \\Pi_{r \\theta} \\rangle_{CG}$')\n",
    "    \n",
    "    fig.tight_layout()\n",
    "    \n",
    "    fig.savefig('Figures/rprof_divPiCG_scanq.pdf', format='pdf', bbox_inches='tight')"
   ]
  },
  {
   "attachments": {},
   "cell_type": "markdown",
   "id": "46ca276d-600c-4062-8516-92170b81db03",
   "metadata": {
    "id": "46ca276d-600c-4062-8516-92170b81db03"
   },
   "source": [
    "<a id='resultat_qscan_div_reynolds_stress'></a>\n",
    "## <font color='red'>**Résultat**</font> - Profil en $q$ du **coarse-grained $- \\nabla \\cdot \\Pi_{r_\\theta}$** [▲](#sommaire)"
   ]
  },
  {
   "cell_type": "code",
   "execution_count": null,
   "id": "7a301250-29d2-425a-9d6e-34bb644897aa",
   "metadata": {
    "colab": {
     "referenced_widgets": [
      "f618bed40f5445299cd7812a07993cf4"
     ]
    },
    "collapsed": true,
    "id": "7a301250-29d2-425a-9d6e-34bb644897aa",
    "jupyter": {
     "outputs_hidden": true,
     "source_hidden": true
    },
    "outputId": "dc4ec40b-c5df-4409-dbcc-115ee1d9f665",
    "tags": []
   },
   "outputs": [
    {
     "data": {
      "application/vnd.jupyter.widget-view+json": {
       "model_id": "f618bed40f5445299cd7812a07993cf4",
       "version_major": 2,
       "version_minor": 0
      },
      "text/plain": [
       "Canvas(toolbar=Toolbar(toolitems=[('Home', 'Reset original view', 'home', 'home'), ('Back', 'Back to previous …"
      ]
     },
     "metadata": {},
     "output_type": "display_data"
    },
    {
     "name": "stderr",
     "output_type": "stream",
     "text": [
      "C:\\Users\\robin\\AppData\\Local\\Temp/ipykernel_18288/1929424472.py:41: RuntimeWarning: invalid value encountered in power\n",
      "  ax1.plot(qrange, 0.45e-7*(-1+qrange)**(1/3), c='g', label=r'$C (-1+q)^{1/3}$')\n"
     ]
    }
   ],
   "source": [
    "q_ar = [qprof_05,qprof_1,qprof_15]\n",
    "param_ar = ['Phi00','Phi01','dPhi01dr','Er','VP','dErdr','RSpol','RSphi','dRSphidr','VT']\n",
    "\n",
    "param_ar = ['dRSpoldr']\n",
    "\n",
    "N=60\n",
    "Ng=30\n",
    "\n",
    "for ip,p in enumerate(param_ar):\n",
    "    fig = plt.figure(figsize=(xfigsize,6))\n",
    "    #fig.suptitle(p)\n",
    "    ax1 = fig.add_subplot(111)\n",
    "    for iq,q in enumerate(q_ar):\n",
    "        \n",
    "        irhomin = (np.abs(q['rho'] - 0.79 )).argmin()\n",
    "        irhomax = (np.abs(q['rho'] - 0.81 )).argmin()\n",
    "\n",
    "        itmin = (np.abs(q['time'] - 100e3 )).argmin()\n",
    "        itmax = (np.abs(q['time'] - 145e3 )).argmin()\n",
    "        \n",
    "        p_ma = uniform_filter1d(uniform_filter1d(np.mean(q[p][itmin:itmax,:],axis=0),size=N),size=N)\n",
    "        \n",
    "        p_ga = gaussian_filter1d(np.mean(q[p][itmin:itmax,:],axis=0),sigma=Ng)[irhomin:irhomax]\n",
    "        \n",
    "        \n",
    "        ax1.plot(q['q'][irhomin:irhomax], -p_ma[irhomin:irhomax], lw=3,c=q['c'], marker='s',ls='', label=q['title'])\n",
    "        \n",
    "        #ax1.plot(q['q'][irhomin:irhomax], 0.3e-7*(-1+q['q'][irhomin:irhomax])**(1/3), c=q['c'])\n",
    "        \n",
    "        ax1.axhline(y=0,c='k',ls='--')\n",
    "        \n",
    "#     ax1.plot(q['rho'][40:40+Ng],np.ones(Ng)*-0.02,c='k')\n",
    "#     ax1.plot(q['rho'][100:100+N],np.ones(N)*-0.02,c='k')\n",
    "        \n",
    "    \n",
    "    ax1.set_xlabel(r'$q$')\n",
    "    ax1.set_xlim(0,5)\n",
    "    ax1.set_ylabel(r'$-\\langle \\nabla \\cdot \\Pi_{r \\theta} \\rangle_{CG}$ in $%.2f < r/a < %.2f$' %(q['rho'][irhomin], q['rho'][irhomax]) )\n",
    "    \n",
    "    qrange = np.linspace(0,5,100)\n",
    "    ax1.plot(qrange, 0.45e-7*(-1+qrange)**(1/3), c='g', label=r'$C (-1+q)^{1/3}$')\n",
    "    \n",
    "    ax1.legend()\n",
    "    \n",
    "    fig.savefig('Figures/qprof_divPi_08.pdf', format='pdf', bbox_inches='tight')"
   ]
  },
  {
   "attachments": {},
   "cell_type": "markdown",
   "id": "abbc77ad-5663-4af1-a363-3013aa47434b",
   "metadata": {
    "id": "abbc77ad-5663-4af1-a363-3013aa47434b",
    "jupyter": {
     "outputs_hidden": true
    },
    "tags": []
   },
   "source": [
    "<a id='resultat_rprof_flows'></a>\n",
    "## <font color='red'>**Résultat**</font> - Profil radial des **flows ($E_r, V_P, V_T$)** [▲](#sommaire)"
   ]
  },
  {
   "cell_type": "code",
   "execution_count": 69,
   "id": "1fa686e3-c293-40df-a39f-2738fac08f42",
   "metadata": {
    "colab": {
     "referenced_widgets": [
      "ff2f7fef614144f28f965eb6cbc8baf9",
      "9cc813b5d64e49879e1f81bb74f4e69a",
      "a6e21529006646aa8a051826b7685b56"
     ]
    },
    "collapsed": true,
    "id": "1fa686e3-c293-40df-a39f-2738fac08f42",
    "jupyter": {
     "outputs_hidden": true,
     "source_hidden": true
    },
    "outputId": "7d644ff7-ce07-412d-dd35-a76a7601e710",
    "tags": []
   },
   "outputs": [
    {
     "data": {
      "application/vnd.jupyter.widget-view+json": {
       "model_id": "acd8e5694d8b4fa39df840a376ab5550",
       "version_major": 2,
       "version_minor": 0
      },
      "text/plain": [
       "Canvas(toolbar=Toolbar(toolitems=[('Home', 'Reset original view', 'home', 'home'), ('Back', 'Back to previous …"
      ]
     },
     "metadata": {},
     "output_type": "display_data"
    },
    {
     "data": {
      "application/vnd.jupyter.widget-view+json": {
       "model_id": "4df85b21958841999d3f3a70016ab7cd",
       "version_major": 2,
       "version_minor": 0
      },
      "text/plain": [
       "Canvas(toolbar=Toolbar(toolitems=[('Home', 'Reset original view', 'home', 'home'), ('Back', 'Back to previous …"
      ]
     },
     "metadata": {},
     "output_type": "display_data"
    },
    {
     "data": {
      "application/vnd.jupyter.widget-view+json": {
       "model_id": "ec54e3e433b64033aa7615c11cfa8401",
       "version_major": 2,
       "version_minor": 0
      },
      "text/plain": [
       "Canvas(toolbar=Toolbar(toolitems=[('Home', 'Reset original view', 'home', 'home'), ('Back', 'Back to previous …"
      ]
     },
     "metadata": {},
     "output_type": "display_data"
    }
   ],
   "source": [
    "plt.rcParams['axes.formatter.limits'] = (-5,6)\n",
    "plt.rc('font',size=20)\n",
    "q_ar = [qprof_05,qprof_1,qprof_15]\n",
    "#q_ar = [qprof_05_n0,qprof_15_n0]\n",
    "\n",
    "param_ar = ['Er','VT','VP']\n",
    "\n",
    "title_ar = [r'$E_r[V_{T_0} B_0]$',r'$V_P$',r'$V_T$']\n",
    "\n",
    "y_min_ar = [-2.5e-2, -6e-2, 4e-3]\n",
    "y_max_ar = [-1e-2, 0, -3.5e-3]\n",
    "\n",
    "for ip,p in enumerate(param_ar):\n",
    "    fig = plt.figure(figsize=(8,8))\n",
    "    #fig.suptitle(p)\n",
    "    ax1 = fig.add_subplot(111)\n",
    "    for iq,q in enumerate(q_ar):\n",
    "        \n",
    "        irhomin = (np.abs(q['rho'] - 0.2 )).argmin()\n",
    "        irhomax = (np.abs(q['rho'] - 1.0 )).argmin()\n",
    "\n",
    "        itmin = (np.abs(q['time'] - 100.0e3 )).argmin()\n",
    "        itmax = (np.abs(q['time'] - 145.0e3 )).argmin()\n",
    "        \n",
    "        ax1.plot(q['rho'][irhomin:irhomax], np.mean( q[p][itmin:itmax,irhomin:irhomax],axis=0),ls=q['ls'],c=q['c'],lw=4,label=q['title'],marker=q['marker'],markevery=me)\n",
    "        #ax1.plot(q['rho'][irhomin:irhomax], np.mean( q[p][itmin:itmax,irhomin:irhomax],axis=0) /q['q'][irhomin:irhomax],ls='--',c=q['c'],label=q['title'])\n",
    "        \n",
    "        ax1.axhline(y=0,ls='--',c='k')\n",
    "        \n",
    "    ax1.set_ylabel(title_ar[ip])\n",
    "    ax1.ticklabel_format(axis='y',scilimits=(-1,2),useMathText=True)\n",
    "        \n",
    "    ax1.legend()\n",
    "    ax1.set_xlabel(r'$r/a$')\n",
    "    \n",
    "    ax1.axvline(x=1,ls='--',c='k')\n",
    "\n",
    "    ax1.set_xlim(left=q['rho'][irhomin],right=q['rho'][irhomax])\n",
    "\n",
    "    #ax1.text(x=0.7,y=(y_min_ar[ip]+y_max_ar[ip])/2.,s=r\"$\\nearrow I_P$\",fontsize=18,c='g')\n",
    "    \n",
    "    #ax1.annotate(\"\", xy=(0.8, y_min_ar[ip]), xytext=(0.8, y_max_ar[ip]),arrowprops=dict(width=5,facecolor='none',edgecolor='g'),horizontalalignment='center', verticalalignment='center')\n",
    "    \n",
    "    fig.tight_layout(rect=[0, 0.03, 1, 0.95])\n",
    "    \n",
    "    fig.set_size_inches(8, 8)\n",
    "    fig.savefig('Figures/rprof_'+p+'_scanq.pdf', format='pdf', bbox_inches='tight')"
   ]
  },
  {
   "attachments": {},
   "cell_type": "markdown",
   "id": "ece7a5bc-fd9b-4636-8e3c-79db5cf49166",
   "metadata": {
    "id": "ece7a5bc-fd9b-4636-8e3c-79db5cf49166"
   },
   "source": [
    "<a id='resultat_rprof_nutheta_gianakon'></a>\n",
    "## <font color='red'>**Résultat**</font> - Profil radial de la friction néoclassique $\\nu_\\theta$ empirique tiré de *Gianakon PoP 2002, p12, Eq(C16)* [▲](#sommaire)"
   ]
  },
  {
   "cell_type": "code",
   "execution_count": null,
   "id": "6c73be86-0126-47ed-b478-521b8db87d10",
   "metadata": {
    "colab": {
     "referenced_widgets": [
      "bad5c7520abd41c7ad42ea08adf41d6f"
     ]
    },
    "collapsed": true,
    "id": "6c73be86-0126-47ed-b478-521b8db87d10",
    "jupyter": {
     "outputs_hidden": true,
     "source_hidden": true
    },
    "outputId": "6b929854-dec4-404f-d21b-bfb3c7da3f4e",
    "tags": []
   },
   "outputs": [
    {
     "data": {
      "application/vnd.jupyter.widget-view+json": {
       "model_id": "bad5c7520abd41c7ad42ea08adf41d6f",
       "version_major": 2,
       "version_minor": 0
      },
      "text/plain": [
       "Canvas(toolbar=Toolbar(toolitems=[('Home', 'Reset original view', 'home', 'home'), ('Back', 'Back to previous …"
      ]
     },
     "metadata": {},
     "output_type": "display_data"
    }
   ],
   "source": [
    "q_ar = [qprof_05,qprof_1,qprof_15]\n",
    "\n",
    "fig = plt.figure(figsize=(7,7))\n",
    "#fig.suptitle(p)\n",
    "ax1 = fig.add_subplot(111)\n",
    "\n",
    "N=60\n",
    "def u1d(X):\n",
    "    #return uniform_filter1d(X,size=N)\n",
    "    return uniform_filter1d(uniform_filter1d(X,size=N),size=N)\n",
    "    #return uniform_filter1d(uniform_filter1d(uniform_filter1d(X,size=N),size=N),size=N)\n",
    "    #return uniform_filter1d(uniform_filter1d(uniform_filter1d(uniform_filter1d(X,size=N),size=N),size=N),size=N)\n",
    "\n",
    "def g1d(X):\n",
    "    return gaussian_filter1d(X,sigma=N)\n",
    "\n",
    "for iq,q in enumerate(q_ar):\n",
    "    irhomin = (np.abs(q['rho'] - 0.1 )).argmin()\n",
    "    irhomax = (np.abs(q['rho'] - 1.0 )).argmin()\n",
    "\n",
    "    itmin = (np.abs(q['time'] - 100.0e3 )).argmin()\n",
    "    itmax = (np.abs(q['time'] - 145.0e3 )).argmin()\n",
    "\n",
    "    #Calcul de la friction NC poloidale (cf Gianakon 2002)\n",
    "    nutheta = (0.452 * np.sqrt(2*q['eps']) * q['nu_i'])/( (1+1.03*q['nustar']**(1/2) +0.31 * q['nustar']) * (1 + 0.66 * q['nustar'] * q['eps']**(3/2))) * (q['q']/q['eps'])**2\n",
    "\n",
    "    ax1.plot(q['rho'][irhomin:irhomax], np.mean(nutheta[itmin:itmax,irhomin:irhomax],axis=0),ls=q['ls'],c=q['c'],label=q['title'])\n",
    "\n",
    "    ax1.axhline(y=0,ls='--',c='k')\n",
    "\n",
    "ax1.set_ylabel(r'$\\nu_\\theta$')\n",
    "\n",
    "ax1.ticklabel_format(axis='y',scilimits=(-1,2),useMathText=True)\n",
    "\n",
    "ax1.legend()\n",
    "ax1.set_xlabel(r'$r/a$')\n",
    "\n",
    "fig.tight_layout(rect=[0, 0.03, 1, 0.95])\n",
    "\n",
    "#fig.savefig('Figures/rprof_Pionq_scanq.pdf', format='pdf', bbox_inches='tight')"
   ]
  },
  {
   "attachments": {},
   "cell_type": "markdown",
   "id": "f75dff74-6c55-4062-8cbb-d45016ef1af0",
   "metadata": {
    "id": "f75dff74-6c55-4062-8cbb-d45016ef1af0",
    "jupyter": {
     "outputs_hidden": true
    },
    "tags": []
   },
   "source": [
    "<a id='resultat_rprof_turb_int'></a>\n",
    "## <font color='red'>**Résultat**</font> - Profil radial de **l'intensité turbulente $\\mathcal{I}$** [▲](#sommaire)"
   ]
  },
  {
   "cell_type": "code",
   "execution_count": 77,
   "id": "6081a227-27fb-4d69-8194-66c6339a4189",
   "metadata": {
    "colab": {
     "referenced_widgets": [
      "9874b419bafb4907b36ce4241ac93226"
     ]
    },
    "collapsed": true,
    "id": "6081a227-27fb-4d69-8194-66c6339a4189",
    "jupyter": {
     "outputs_hidden": true,
     "source_hidden": true
    },
    "outputId": "743c03c8-3df1-436b-8ee4-b0da5eeb3e58",
    "tags": []
   },
   "outputs": [
    {
     "data": {
      "application/vnd.jupyter.widget-view+json": {
       "model_id": "c5628e04e68944d589a35a7c87a3ac5a",
       "version_major": 2,
       "version_minor": 0
      },
      "text/plain": [
       "Canvas(toolbar=Toolbar(toolitems=[('Home', 'Reset original view', 'home', 'home'), ('Back', 'Back to previous …"
      ]
     },
     "metadata": {},
     "output_type": "display_data"
    }
   ],
   "source": [
    "plt.rcParams['axes.formatter.limits'] = (-5,6)\n",
    "plt.rc('font',size=20)\n",
    "q_ar = [qprof_05,qprof_1,qprof_15]\n",
    "\n",
    "fig = plt.figure(figsize=(8,8))\n",
    "ax1 = fig.add_subplot(111)\n",
    "\n",
    "for iq,q in enumerate(q_ar):\n",
    "    irhomin = (np.abs(q['rho'] - 0.2 )).argmin()\n",
    "    irhomax = (np.abs(q['rho'] - 1.0 )).argmin()\n",
    "\n",
    "    itmin = (np.abs(q['time'] - 100.0e3 )).argmin()\n",
    "    itmax = (np.abs(q['time'] - 145.0e3 )).argmin()\n",
    "\n",
    "    ax1.plot(q['rho'][irhomin:irhomax], np.sqrt(np.mean( (q['turb_int_sq_avg'])[itmin:itmax,irhomin:irhomax],axis=0)),ls=q['ls'],c=q['c'],lw=4,label=q['title'],marker=q['marker'],markevery=me)\n",
    "\n",
    "    ax1.axhline(y=0,ls='--',c='k')\n",
    "\n",
    "ax1.set_ylabel(r'$\\mathcal{I}$')\n",
    "\n",
    "ax1.legend(loc='upper left',fontsize=18)\n",
    "ax1.set_xlabel(r'$r/a$')\n",
    "ax1.set_xlim(left=q['rho'][irhomin],right=q['rho'][irhomax])\n",
    "\n",
    "ax1.axvline(x=1,ls='--',c='k')\n",
    "\n",
    "fig.tight_layout(rect=[0, 0.03, 1, 0.95])\n",
    "\n",
    "fig.savefig('Figures/rprof_turb_intens_scanq.pdf', format='pdf', bbox_inches='tight')"
   ]
  },
  {
   "attachments": {},
   "cell_type": "markdown",
   "id": "1e560051-e682-445d-a2ee-76fd4cf45510",
   "metadata": {
    "id": "1e560051-e682-445d-a2ee-76fd4cf45510",
    "jupyter": {
     "outputs_hidden": true
    },
    "tags": []
   },
   "source": [
    "<a id='resultat_rprof_ion_collision_freq'></a>\n",
    "## <font color='red'>**Résultat**</font> - Profil radial de la **fréquence de collision ionique $\\nu_i$** [▲](#sommaire)"
   ]
  },
  {
   "cell_type": "code",
   "execution_count": null,
   "id": "2a8aa36a-714a-44d8-90b4-5d8bc3a43497",
   "metadata": {
    "colab": {
     "referenced_widgets": [
      "5cf29e019b2e4a1395108e5ca4efad11"
     ]
    },
    "collapsed": true,
    "id": "2a8aa36a-714a-44d8-90b4-5d8bc3a43497",
    "jupyter": {
     "outputs_hidden": true,
     "source_hidden": true
    },
    "outputId": "9532f0c1-f64d-4d56-8ad7-c5295f7bf01f",
    "tags": []
   },
   "outputs": [
    {
     "data": {
      "application/vnd.jupyter.widget-view+json": {
       "model_id": "5cf29e019b2e4a1395108e5ca4efad11",
       "version_major": 2,
       "version_minor": 0
      },
      "text/plain": [
       "Canvas(toolbar=Toolbar(toolitems=[('Home', 'Reset original view', 'home', 'home'), ('Back', 'Back to previous …"
      ]
     },
     "metadata": {},
     "output_type": "display_data"
    }
   ],
   "source": [
    "plt.rcParams['axes.formatter.limits'] = (-5,6)\n",
    "q_ar = [qprof_05,qprof_1,qprof_15]\n",
    "\n",
    "param_ar = ['turb_int_sq_avg']\n",
    "\n",
    "title_ar = [r'$\\mathcal{I}$']\n",
    "\n",
    "fig = plt.figure(figsize=(6,6))\n",
    "#fig.suptitle(p)\n",
    "ax1 = fig.add_subplot(111)\n",
    "\n",
    "for iq,q in enumerate(q_ar):\n",
    "    irhomin = (np.abs(q['rho'] - 0.1 )).argmin()\n",
    "    irhomax = (np.abs(q['rho'] - 1.0 )).argmin()\n",
    "\n",
    "    itmin = (np.abs(q['time'] - 100.0e3 )).argmin()\n",
    "    itmax = (np.abs(q['time'] - 145.0e3 )).argmin()\n",
    "\n",
    "    ax1.plot(q['rho'][irhomin:irhomax], np.mean( (q['nu_i'])[itmin:itmax,irhomin:irhomax],axis=0),ls=q['ls'],c=q['c'],label=q['title'],lw=4)\n",
    "\n",
    "    ax1.axhline(y=0,ls='--',c='k')\n",
    "\n",
    "ax1.set_ylabel(r'$\\nu_i$ $[\\omega_{c0}]$')\n",
    "#ax1.ticklabel_format(axis='y',scilimits=(-1,2),useMathText=True)\n",
    "\n",
    "ax1.legend()\n",
    "ax1.set_xlabel(r'$r/a$')\n",
    "\n",
    "ax1.axvline(x=1,ls='--',c='k')\n",
    "\n",
    "fig.tight_layout(rect=[0, 0.03, 1, 0.95])\n",
    "\n",
    "fig.savefig('Figures/rprof_nu_i.pdf', format='pdf', bbox_inches='tight')"
   ]
  },
  {
   "attachments": {},
   "cell_type": "markdown",
   "id": "8e547463",
   "metadata": {},
   "source": [
    "<a id='resultat_validation_approx_ptransfert'></a>\n",
    "## <font color='red'>**Résultat**</font> - Validation de la simplification sur la **puissance $\\mathcal{P} = \\langle - \\nabla \\cdot \\Pi_{r\\theta} \\rangle V_E$** [▲](#sommaire)\n",
    "Dans la littérature, il est souvent fait l'approximation $\\int_0^{r_0} \\langle - \\nabla \\cdot \\Pi_{r\\theta} \\rangle V_E \\approx \\int_0^{r_0} -\\langle \\Pi_{r\\theta} \\rangle \\partial_r V_E$.\n",
    "On s'attend à ce que ce soit vrai pour un $r_0$ suffisement grand.\n",
    "Dans nos simulations, il faut $r_0 \\sim 40 \\rho_i$ pour que ça marche."
   ]
  },
  {
   "cell_type": "code",
   "execution_count": null,
   "id": "4a4381c0",
   "metadata": {},
   "outputs": [
    {
     "data": {
      "application/vnd.jupyter.widget-view+json": {
       "model_id": "2c57e08dfa39440194b377e251e06849",
       "version_major": 2,
       "version_minor": 0
      },
      "text/plain": [
       "interactive(children=(IntSlider(value=60, description='N', min=1), FloatSlider(value=100.0, description='dpi_a…"
      ]
     },
     "metadata": {},
     "output_type": "display_data"
    }
   ],
   "source": [
    "q_ar = [qprof_05,qprof_15]\n",
    "\n",
    "for iq,q in enumerate(q_ar):\n",
    "    #q['Ptransfert'] = -q['dRSpoldr'] * (-q['Er'])\n",
    "    q['Ptransfert_approx'] = q['RSpol'] * (-q['dErdr'])\n",
    "    q['Ptransfert_res'] = np.gradient(-q['RSpol'] * (-q['Er']), q['rg'], axis=1) \n",
    "\n",
    "param_ar = ['Ptransfert', 'Ptransfert_approx']\n",
    "label_ar = [r'$\\nabla \\cdot \\Pi_{r\\theta} \\times V_{E\\theta}$', r'$\\Pi_{r\\theta} \\times \\partial_r V_{E\\theta}$']\n",
    "    \n",
    "colors_ar = ['xkcd:blue','xkcd:red','xkcd:purple','xkcd:green']\n",
    "colors_ar2 = ['xkcd:blue green','xkcd:dark orange','xkcd:bright pink','xkcd:apple green']\n",
    "    \n",
    "def update_plot(N,dpi_adjust):\n",
    "    plt.close('all')\n",
    "\n",
    "    fig = plt.figure(figsize=(6*len(q_ar),6), dpi=dpi_adjust)\n",
    "    size_window = N * 250 * 1.3 / len(qprof_05['rg']) \n",
    "    fig.suptitle(r'Approximative window size for avg : %.1f $\\rho_i$' % size_window )\n",
    "    for iq,q in enumerate(q_ar):\n",
    "\n",
    "        irhomin = (np.abs(q['rho'] - 0. )).argmin()\n",
    "        irhomax = (np.abs(q['rho'] - 1. )).argmin()\n",
    "\n",
    "        itmin = (np.abs(q['time'] - 100e3 )).argmin()\n",
    "        itmax = (np.abs(q['time'] - 145e3 )).argmin()\n",
    "\n",
    "        ax1 = fig.add_subplot(1,len(q_ar),iq+1)\n",
    "        ax1.set_title(q['title'])\n",
    "        for ip,p in enumerate(param_ar):\n",
    "            ## Plot raw\n",
    "            ax1.plot(q['rho'][irhomin:irhomax], np.mean(q[p][itmin:itmax,irhomin:irhomax],axis=0), c=colors_ar[ip], lw=1.5, ls='--')\n",
    "\n",
    "            ## Plot coarse-grained\n",
    "            ax1.plot(q['rho'][irhomin:irhomax], uniform_filter1d(uniform_filter1d(np.mean(q[p][itmin:itmax,irhomin:irhomax],axis=0),size=N),size=N), label=label_ar[ip],c=colors_ar[ip],lw=3, ls='-')\n",
    "\n",
    "        ax1.axhline(y=0,c='k',ls='--')\n",
    "        ax1.legend()\n",
    "        ax1.set_xlabel(r'$r/a$')\n",
    "    fig.tight_layout(rect=[0, 0.03, 1, 0.95])\n",
    "    ax1.plot(q['rho'][10:10+N],np.ones(N)*ax1.get_ylim()[1]/2,c='xkcd:battleship grey',lw=5)\n",
    "\n",
    "interact(update_plot, \n",
    "         N=widgets.IntSlider(min=1, max=100, step=1,value=60),\n",
    "         dpi_adjust=widgets.FloatSlider(min=30, max=200, step=1,value=100));"
   ]
  },
  {
   "attachments": {},
   "cell_type": "markdown",
   "id": "458792c3",
   "metadata": {},
   "source": [
    "## <font color='royalblue'>**Temporaire**</font> - Test cupy"
   ]
  },
  {
   "cell_type": "code",
   "execution_count": 22,
   "id": "002f4d56",
   "metadata": {},
   "outputs": [
    {
     "name": "stdout",
     "output_type": "stream",
     "text": [
      "[1.27077224e-03 3.81231672e-03 6.35386119e-03 8.89540567e-03\n",
      " 1.14369501e-02 1.39784946e-02 1.65200391e-02 1.90615836e-02\n",
      " 2.16031281e-02 2.41446725e-02 2.66862170e-02 2.92277615e-02\n",
      " 3.17693060e-02 3.43108504e-02 3.68523949e-02 3.93939394e-02\n",
      " 4.19354839e-02 4.44770283e-02 4.70185728e-02 4.95601173e-02\n",
      " 5.21016618e-02 5.46432063e-02 5.71847507e-02 5.97262952e-02\n",
      " 6.22678397e-02 6.48093842e-02 6.73509286e-02 6.98924731e-02\n",
      " 7.24340176e-02 7.49755621e-02 7.75171065e-02 8.00586510e-02\n",
      " 8.26001955e-02 8.51417400e-02 8.76832845e-02 9.02248289e-02\n",
      " 9.27663734e-02 9.53079179e-02 9.78494624e-02 1.00391007e-01\n",
      " 1.02932551e-01 1.05474096e-01 1.08015640e-01 1.10557185e-01\n",
      " 1.13098729e-01 1.15640274e-01 1.18181818e-01 1.20723363e-01\n",
      " 1.23264907e-01 1.25806452e-01 1.28347996e-01 1.30889541e-01\n",
      " 1.33431085e-01 1.35972630e-01 1.38514174e-01 1.41055718e-01\n",
      " 1.43597263e-01 1.46138807e-01 1.48680352e-01 1.51221896e-01\n",
      " 1.53763441e-01 1.56304985e-01 1.58846530e-01 1.61388074e-01\n",
      " 1.63929619e-01 1.66471163e-01 1.69012708e-01 1.71554252e-01\n",
      " 1.74095797e-01 1.76637341e-01 1.79178886e-01 1.81720430e-01\n",
      " 1.84261975e-01 1.86803519e-01 1.89345064e-01 1.91886608e-01\n",
      " 1.94428152e-01 1.96969697e-01 1.99511241e-01 2.02052786e-01\n",
      " 2.04594330e-01 2.07135875e-01 2.09677419e-01 2.12218964e-01\n",
      " 2.14760508e-01 2.17302053e-01 2.19843597e-01 2.22385142e-01\n",
      " 2.24926686e-01 2.27468231e-01 2.30009775e-01 2.32551320e-01\n",
      " 2.35092864e-01 2.37634409e-01 2.40175953e-01 2.42717498e-01\n",
      " 2.45259042e-01 2.47800587e-01 2.50342131e-01 2.52883675e-01\n",
      " 2.55425220e-01 2.57966764e-01 2.60508309e-01 2.63049853e-01\n",
      " 2.65591398e-01 2.68132942e-01 2.70674487e-01 2.73216031e-01\n",
      " 2.75757576e-01 2.78299120e-01 2.80840665e-01 2.83382209e-01\n",
      " 2.85923754e-01 2.88465298e-01 2.91006843e-01 2.93548387e-01\n",
      " 2.96089932e-01 2.98631476e-01 3.01173021e-01 3.03714565e-01\n",
      " 3.06256109e-01 3.08797654e-01 3.11339198e-01 3.13880743e-01\n",
      " 3.16422287e-01 3.18963832e-01 3.21505376e-01 3.24046921e-01\n",
      " 3.26588465e-01 3.29130010e-01 3.31671554e-01 3.34213099e-01\n",
      " 3.36754643e-01 3.39296188e-01 3.41837732e-01 3.44379277e-01\n",
      " 3.46920821e-01 3.49462366e-01 3.52003910e-01 3.54545455e-01\n",
      " 3.57086999e-01 3.59628543e-01 3.62170088e-01 3.64711632e-01\n",
      " 3.67253177e-01 3.69794721e-01 3.72336266e-01 3.74877810e-01\n",
      " 3.77419355e-01 3.79960899e-01 3.82502444e-01 3.85043988e-01\n",
      " 3.87585533e-01 3.90127077e-01 3.92668622e-01 3.95210166e-01\n",
      " 3.97751711e-01 4.00293255e-01 4.02834800e-01 4.05376344e-01\n",
      " 4.07917889e-01 4.10459433e-01 4.13000978e-01 4.15542522e-01\n",
      " 4.18084066e-01 4.20625611e-01 4.23167155e-01 4.25708700e-01\n",
      " 4.28250244e-01 4.30791789e-01 4.33333333e-01 4.35874878e-01\n",
      " 4.38416422e-01 4.40957967e-01 4.43499511e-01 4.46041056e-01\n",
      " 4.48582600e-01 4.51124145e-01 4.53665689e-01 4.56207234e-01\n",
      " 4.58748778e-01 4.61290323e-01 4.63831867e-01 4.66373412e-01\n",
      " 4.68914956e-01 4.71456500e-01 4.73998045e-01 4.76539589e-01\n",
      " 4.79081134e-01 4.81622678e-01 4.84164223e-01 4.86705767e-01\n",
      " 4.89247312e-01 4.91788856e-01 4.94330401e-01 4.96871945e-01\n",
      " 4.99413490e-01 5.01955034e-01 5.04496579e-01 5.07038123e-01\n",
      " 5.09579668e-01 5.12121212e-01 5.14662757e-01 5.17204301e-01\n",
      " 5.19745846e-01 5.22287390e-01 5.24828935e-01 5.27370479e-01\n",
      " 5.29912023e-01 5.32453568e-01 5.34995112e-01 5.37536657e-01\n",
      " 5.40078201e-01 5.42619746e-01 5.45161290e-01 5.47702835e-01\n",
      " 5.50244379e-01 5.52785924e-01 5.55327468e-01 5.57869013e-01\n",
      " 5.60410557e-01 5.62952102e-01 5.65493646e-01 5.68035191e-01\n",
      " 5.70576735e-01 5.73118280e-01 5.75659824e-01 5.78201369e-01\n",
      " 5.80742913e-01 5.83284457e-01 5.85826002e-01 5.88367546e-01\n",
      " 5.90909091e-01 5.93450635e-01 5.95992180e-01 5.98533724e-01\n",
      " 6.01075269e-01 6.03616813e-01 6.06158358e-01 6.08699902e-01\n",
      " 6.11241447e-01 6.13782991e-01 6.16324536e-01 6.18866080e-01\n",
      " 6.21407625e-01 6.23949169e-01 6.26490714e-01 6.29032258e-01\n",
      " 6.31573803e-01 6.34115347e-01 6.36656891e-01 6.39198436e-01\n",
      " 6.41739980e-01 6.44281525e-01 6.46823069e-01 6.49364614e-01\n",
      " 6.51906158e-01 6.54447703e-01 6.56989247e-01 6.59530792e-01\n",
      " 6.62072336e-01 6.64613881e-01 6.67155425e-01 6.69696970e-01\n",
      " 6.72238514e-01 6.74780059e-01 6.77321603e-01 6.79863148e-01\n",
      " 6.82404692e-01 6.84946237e-01 6.87487781e-01 6.90029326e-01\n",
      " 6.92570870e-01 6.95112414e-01 6.97653959e-01 7.00195503e-01\n",
      " 7.02737048e-01 7.05278592e-01 7.07820137e-01 7.10361681e-01\n",
      " 7.12903226e-01 7.15444770e-01 7.17986315e-01 7.20527859e-01\n",
      " 7.23069404e-01 7.25610948e-01 7.28152493e-01 7.30694037e-01\n",
      " 7.33235582e-01 7.35777126e-01 7.38318671e-01 7.40860215e-01\n",
      " 7.43401760e-01 7.45943304e-01 7.48484848e-01 7.51026393e-01\n",
      " 7.53567937e-01 7.56109482e-01 7.58651026e-01 7.61192571e-01\n",
      " 7.63734115e-01 7.66275660e-01 7.68817204e-01 7.71358749e-01\n",
      " 7.73900293e-01 7.76441838e-01 7.78983382e-01 7.81524927e-01\n",
      " 7.84066471e-01 7.86608016e-01 7.89149560e-01 7.91691105e-01\n",
      " 7.94232649e-01 7.96774194e-01 7.99315738e-01 8.01857283e-01\n",
      " 8.04398827e-01 8.06940371e-01 8.09481916e-01 8.12023460e-01\n",
      " 8.14565005e-01 8.17106549e-01 8.19648094e-01 8.22189638e-01\n",
      " 8.24731183e-01 8.27272727e-01 8.29814272e-01 8.32355816e-01\n",
      " 8.34897361e-01 8.37438905e-01 8.39980450e-01 8.42521994e-01\n",
      " 8.45063539e-01 8.47605083e-01 8.50146628e-01 8.52688172e-01\n",
      " 8.55229717e-01 8.57771261e-01 8.60312805e-01 8.62854350e-01\n",
      " 8.65395894e-01 8.67937439e-01 8.70478983e-01 8.73020528e-01\n",
      " 8.75562072e-01 8.78103617e-01 8.80645161e-01 8.83186706e-01\n",
      " 8.85728250e-01 8.88269795e-01 8.90811339e-01 8.93352884e-01\n",
      " 8.95894428e-01 8.98435973e-01 9.00977517e-01 9.03519062e-01\n",
      " 9.06060606e-01 9.08602151e-01 9.11143695e-01 9.13685239e-01\n",
      " 9.16226784e-01 9.18768328e-01 9.21309873e-01 9.23851417e-01\n",
      " 9.26392962e-01 9.28934506e-01 9.31476051e-01 9.34017595e-01\n",
      " 9.36559140e-01 9.39100684e-01 9.41642229e-01 9.44183773e-01\n",
      " 9.46725318e-01 9.49266862e-01 9.51808407e-01 9.54349951e-01\n",
      " 9.56891496e-01 9.59433040e-01 9.61974585e-01 9.64516129e-01\n",
      " 9.67057674e-01 9.69599218e-01 9.72140762e-01 9.74682307e-01\n",
      " 9.77223851e-01 9.79765396e-01 9.82306940e-01 9.84848485e-01\n",
      " 9.87390029e-01 9.89931574e-01 9.92473118e-01 9.95014663e-01\n",
      " 9.97556207e-01 1.00009775e+00 1.00263930e+00 1.00518084e+00\n",
      " 1.00772239e+00 1.01026393e+00 1.01280547e+00 1.01534702e+00\n",
      " 1.01788856e+00 1.02043011e+00 1.02297165e+00 1.02551320e+00\n",
      " 1.02805474e+00 1.03059629e+00 1.03313783e+00 1.03567937e+00\n",
      " 1.03822092e+00 1.04076246e+00 1.04330401e+00 1.04584555e+00\n",
      " 1.04838710e+00 1.05092864e+00 1.05347019e+00 1.05601173e+00\n",
      " 1.05855327e+00 1.06109482e+00 1.06363636e+00 1.06617791e+00\n",
      " 1.06871945e+00 1.07126100e+00 1.07380254e+00 1.07634409e+00\n",
      " 1.07888563e+00 1.08142717e+00 1.08396872e+00 1.08651026e+00\n",
      " 1.08905181e+00 1.09159335e+00 1.09413490e+00 1.09667644e+00\n",
      " 1.09921799e+00 1.10175953e+00 1.10430108e+00 1.10684262e+00\n",
      " 1.10938416e+00 1.11192571e+00 1.11446725e+00 1.11700880e+00\n",
      " 1.11955034e+00 1.12209189e+00 1.12463343e+00 1.12717498e+00\n",
      " 1.12971652e+00 1.13225806e+00 1.13479961e+00 1.13734115e+00\n",
      " 1.13988270e+00 1.14242424e+00 1.14496579e+00 1.14750733e+00\n",
      " 1.15004888e+00 1.15259042e+00 1.15513196e+00 1.15767351e+00\n",
      " 1.16021505e+00 1.16275660e+00 1.16529814e+00 1.16783969e+00\n",
      " 1.17038123e+00 1.17292278e+00 1.17546432e+00 1.17800587e+00\n",
      " 1.18054741e+00 1.18308895e+00 1.18563050e+00 1.18817204e+00\n",
      " 1.19071359e+00 1.19325513e+00 1.19579668e+00 1.19833822e+00\n",
      " 1.20087977e+00 1.20342131e+00 1.20596285e+00 1.20850440e+00\n",
      " 1.21104594e+00 1.21358749e+00 1.21612903e+00 1.21867058e+00\n",
      " 1.22121212e+00 1.22375367e+00 1.22629521e+00 1.22883675e+00\n",
      " 1.23137830e+00 1.23391984e+00 1.23646139e+00 1.23900293e+00\n",
      " 1.24154448e+00 1.24408602e+00 1.24662757e+00 1.24916911e+00\n",
      " 1.25171065e+00 1.25425220e+00 1.25679374e+00 1.25933529e+00\n",
      " 1.26187683e+00 1.26441838e+00 1.26695992e+00 1.26950147e+00\n",
      " 1.27204301e+00 1.27458456e+00 1.27712610e+00 1.27966764e+00\n",
      " 1.28220919e+00 1.28475073e+00 1.28729228e+00 1.28983382e+00\n",
      " 1.29237537e+00 1.29491691e+00 1.29745846e+00 1.30000000e+00]\n"
     ]
    },
    {
     "data": {
      "application/vnd.jupyter.widget-view+json": {
       "model_id": "a0f68319b7b24e1488a0791aa287291c",
       "version_major": 2,
       "version_minor": 0
      },
      "text/plain": [
       "Canvas(toolbar=Toolbar(toolitems=[('Home', 'Reset original view', 'home', 'home'), ('Back', 'Back to previous …"
      ]
     },
     "metadata": {},
     "output_type": "display_data"
    },
    {
     "data": {
      "text/plain": [
       "[<matplotlib.lines.Line2D at 0x2c6c3a36940>]"
      ]
     },
     "execution_count": 22,
     "metadata": {},
     "output_type": "execute_result"
    }
   ],
   "source": [
    "print(qprof_05['rho'])\n",
    "\n",
    "fig=plt.figure(figsize=(6,6))\n",
    "ax1 = fig.add_subplot(111)\n",
    "ax1.plot(qprof_05['rho'].get(),qprof_05['Ptransfert'][0,:].get(),label='Ptransfert')"
   ]
  },
  {
   "attachments": {},
   "cell_type": "markdown",
   "id": "7414de3f-09d8-4217-86cd-c0e7cecdde8b",
   "metadata": {
    "id": "7414de3f-09d8-4217-86cd-c0e7cecdde8b",
    "tags": []
   },
   "source": [
    "## <font color='royalblue'>**Temporaire**</font> - Fonction porte \"smooth\" [▲](#sommaire)"
   ]
  },
  {
   "cell_type": "code",
   "execution_count": null,
   "id": "ee93fa6f-ab1f-4055-bb52-edac18b4f99b",
   "metadata": {
    "colab": {
     "referenced_widgets": [
      "bb5652af9efd4884886571d15e5e072d"
     ]
    },
    "collapsed": true,
    "id": "ee93fa6f-ab1f-4055-bb52-edac18b4f99b",
    "jupyter": {
     "outputs_hidden": true,
     "source_hidden": true
    },
    "outputId": "0681209b-5e28-4558-e859-dd7173a9b020"
   },
   "outputs": [
    {
     "data": {
      "application/vnd.jupyter.widget-view+json": {
       "model_id": "bb5652af9efd4884886571d15e5e072d",
       "version_major": 2,
       "version_minor": 0
      },
      "text/plain": [
       "Canvas(toolbar=Toolbar(toolitems=[('Home', 'Reset original view', 'home', 'home'), ('Back', 'Back to previous …"
      ]
     },
     "metadata": {},
     "output_type": "display_data"
    }
   ],
   "source": [
    "def smoothed_rectangular(x, left, right, k=10):\n",
    "    \"\"\"\n",
    "    Returns a smoothed rectangular function with smoothed discontinuities.\n",
    "    \n",
    "    Parameters:\n",
    "        x (array-like): The independent variable.\n",
    "        left (float): The left edge of the rectangular function.\n",
    "        right (float): The right edge of the rectangular function.\n",
    "        k (float): Controls the steepness of the sigmoid function. Higher k leads to sharper transition.\n",
    "        \n",
    "    Returns:\n",
    "        y (array-like): The smoothed rectangular function evaluated at x.\n",
    "    \"\"\"\n",
    "    y = 1 / (1 + np.exp(-k * (x - left))) - 1 / (1 + np.exp(-k * (x - right)))\n",
    "    return y\n",
    "\n",
    "# Example usage\n",
    "x = np.linspace(-10, 10, 1000)\n",
    "y = smoothed_rectangular(x, -9, 9, k=10)\n",
    "plt.figure()\n",
    "plt.plot(x, y)\n",
    "plt.show()"
   ]
  },
  {
   "attachments": {},
   "cell_type": "markdown",
   "id": "d4ac4afd-f0dc-4c8c-b8c6-55b0e3fd9771",
   "metadata": {
    "id": "d4ac4afd-f0dc-4c8c-b8c6-55b0e3fd9771",
    "tags": []
   },
   "source": [
    "## <font color='xkcd:orange'>**(OLD)**</font> <font color='xkcd:sage'>**Exploration**</font> - Etude dans l'espace des fréquences [▲](#sommaire)"
   ]
  },
  {
   "cell_type": "code",
   "execution_count": 72,
   "id": "8a2ef373-cec9-4c09-ad21-4964db200e35",
   "metadata": {
    "colab": {
     "referenced_widgets": [
      "f2b5f72db0cf4d3b908603bf4d2c8a0e"
     ]
    },
    "collapsed": true,
    "id": "8a2ef373-cec9-4c09-ad21-4964db200e35",
    "jupyter": {
     "outputs_hidden": true,
     "source_hidden": true
    },
    "outputId": "395a7b87-9c57-4237-d3c9-bad95df533cf",
    "tags": []
   },
   "outputs": [
    {
     "data": {
      "application/vnd.jupyter.widget-view+json": {
       "model_id": "16518026cc2b43ec9c3359d78065e137",
       "version_major": 2,
       "version_minor": 0
      },
      "text/plain": [
       "interactive(children=(IntSlider(value=1, description='N', min=1), FloatSlider(value=0.8, description='colormap…"
      ]
     },
     "metadata": {},
     "output_type": "display_data"
    },
    {
     "data": {
      "text/plain": [
       "<function __main__.update_plot(N, colormap_range, dpi_adjust, param, float_range_time, float_range_rho, q05_bool, q1_bool, q15_bool, q05n0_bool, q15n0_bool, q05new_bool)>"
      ]
     },
     "execution_count": 72,
     "metadata": {},
     "output_type": "execute_result"
    }
   ],
   "source": [
    "plt.close('all')\n",
    "import matplotlib.colors as colors\n",
    "\n",
    "\n",
    "symetrical_cmap = 0\n",
    "\n",
    "param= 'Ptransfert'\n",
    "\n",
    "def update_plot(N,colormap_range,dpi_adjust,param,float_range_time,float_range_rho,\n",
    "               q05_bool,q1_bool,q15_bool,q05n0_bool,q15n0_bool,q05new_bool):\n",
    "    tmin_avg,tmax_avg = float_range_time\n",
    "    rhomin_avg,rhomax_avg = float_range_rho\n",
    "    \n",
    "    q_ar = []\n",
    "    if q05_bool    : q_ar = np.append(q_ar,qprof_05)\n",
    "    if q1_bool     : q_ar = np.append(q_ar,qprof_1)\n",
    "    if q15_bool    : q_ar = np.append(q_ar,qprof_15)\n",
    "    if q05n0_bool  : q_ar = np.append(q_ar,qprof_05_n0)\n",
    "    if q15n0_bool  : q_ar = np.append(q_ar,qprof_15_n0)\n",
    "    if q05new_bool : q_ar = np.append(q_ar,qprof_05new)\n",
    "    \n",
    "    plt.close('all')\n",
    "    \n",
    "    fig = plt.figure(figsize=(16,10), dpi=dpi_adjust)\n",
    "    fig.suptitle(r'Study of %s' %param)\n",
    "\n",
    "    Pmap = uniform_filter1d(uniform_filter1d(qprof_05[param],size=N,axis=1),size=N,axis=1)\n",
    "    if symetrical_cmap:\n",
    "        vmin = colormap_range*min( abs( np.min(Pmap) ), abs( np.max(Pmap) ) ) \n",
    "        vmax = -vmin\n",
    "    else:\n",
    "        vmin = colormap_range*np.min(Pmap) \n",
    "        vmax = colormap_range*np.max(Pmap) \n",
    "\n",
    "    gs = gridspec.GridSpec(5, 2*len(q_ar))\n",
    "    \n",
    "    for iq,q in enumerate(q_ar):\n",
    "\n",
    "        irhomin = (np.abs(q['rho'] - 0.0 )).argmin()\n",
    "        irhomax = (np.abs(q['rho'] - 1.1 )).argmin()\n",
    "\n",
    "        itmin = (np.abs(q['time'] - 0e3  )).argmin()\n",
    "        itmax = (np.abs(q['time'] - 145e3 )).argmin()\n",
    "\n",
    "        p_ma = uniform_filter1d(uniform_filter1d(q[param],size=N,axis=1),size=N,axis=1)\n",
    "        \n",
    "        ## Figure 1\n",
    "        ax_map = fig.add_subplot(gs[0:3, 2*iq:2*iq+2]) \n",
    "\n",
    "        ax_map.set_title(q['title'])\n",
    "        p=ax_map.pcolormesh(q['rho'][irhomin:irhomax],q['time'][itmin:itmax],p_ma[itmin:itmax,irhomin:irhomax],vmin=vmin,vmax=vmax)\n",
    "        fig.colorbar(p,ax=ax_map)\n",
    "        fig.tight_layout()\n",
    "        ax_map.set_xlabel(r'$r/a$')\n",
    "        ax_map.set_ylabel(r'Time $[\\omega_{c0}^{-1}]$')\n",
    "\n",
    "        ax_map.axvline(x=1,c='k',ls='--')\n",
    "        for rline in [0.8,0.6,0.4,0.2]:ax_map.axvline(x=rline,c='k',ls='--')\n",
    "        ax_map.set_xticks([1.0,0.8,0.6,0.4,0.2])\n",
    "        \n",
    "        ax_map.axvline(x=rhomin_avg,c='g',ls='-')\n",
    "        ax_map.axvline(x=rhomax_avg,c='g',ls='-')\n",
    "        \n",
    "        ax_map.axhline(y=tmin_avg,c='r',ls='-')\n",
    "        ax_map.axhline(y=tmax_avg,c='r',ls='-')\n",
    "        \n",
    "        ax_map.plot(q['rho'][10:10+N],np.ones(N)*ax_map.get_ylim()[1]/4,c='xkcd:battleship grey',lw=5) #Visualisation de la fenêtre de la moyenne glissante\n",
    "\n",
    "        \n",
    "        ##Figure 2\n",
    "        itmin_avg = (np.abs(q['time'] - tmin_avg )).argmin()\n",
    "        itmax_avg = (np.abs(q['time'] - tmax_avg )).argmin()\n",
    "\n",
    "        irhomin_avg = (np.abs(q['rho'] - rhomin_avg )).argmin()\n",
    "        irhomax_avg = (np.abs(q['rho'] - rhomax_avg )).argmin()\n",
    "        \n",
    "        #Perform fft\n",
    "        dt = q['time'][-1]-q['time'][-2]\n",
    "        w = np.fft.fftfreq(q['time'][itmin_avg:itmax_avg].shape[-1], d=dt) #Calcul des fréquences.\n",
    "        fspectra = np.fft.fft(p_ma[itmin_avg:itmax_avg,:], axis=0)[np.argsort(w)]*dt/(tmax_avg-tmin_avg) #Calcul du spectre. La fonction argsort permet d'organiser les éléments du spectre dans l'ordre tel que les fréquences soient trier dans l'ordre croissant (pas indispensable mais utile pour la visualisation) \n",
    "\n",
    "        \n",
    "        ax_fspectra = fig.add_subplot(gs[3:, 0:len(q_ar)]) \n",
    "        ax_fspectra.set_title(r'Fourier amplitude (avg %.2f < r/a < %.2f)' % (rhomin_avg , rhomax_avg) )\n",
    "        ax_fspectra.semilogy(np.sort(w), np.mean(np.abs(fspectra[:,irhomin_avg:irhomax_avg]),axis=1),ls=q['ls'],c=q['c'],label=q['title'])\n",
    "        ax_fspectra.set_xlabel(r'$\\omega [\\omega_{c0}]$')\n",
    "        ax_fspectra.legend(fontsize=14)\n",
    "        \n",
    "        #Fréquence GAM théorique\n",
    "        #omega_theo = np.mean( np.mean( (2*np.sqrt(q['T'] * (5/3) *(1 + (1/(2*q['q']**2) ) )) /800)[itmin_avg:itmax_avg] ,axis=0)[irhomin_avg:irhomax_avg] )\n",
    "        #ax_fspectra.axvline(x=omega_theo,c='purple')\n",
    "        \n",
    "        ax_fphase = fig.add_subplot(gs[3:, len(q_ar):]) \n",
    "        ax_fphase.set_title(r'Fourier phase (avg %.2f < r/a < %.2f)' % (rhomin_avg , rhomax_avg) )\n",
    "        ax_fphase.plot(np.sort(w), np.mean(np.angle(fspectra[:,irhomin_avg:irhomax_avg]),axis=1),ls=q['ls'],c=q['c'],label=q['title'])\n",
    "        ax_fphase.set_xlabel(r'$\\omega [\\omega_{c0}]$')\n",
    "        ax_fphase.axhline(y=0,ls='--',c='k')\n",
    "        ax_fphase.legend(fontsize=16)\n",
    "\n",
    "    fig.tight_layout(rect=[0, 0.03, 1, 0.95])\n",
    "\n",
    "float_range_time_slider = widgets.FloatRangeSlider(value=[63e3, 101e3], min=0, max=150e3, step=1000, description='Time range', layout=Layout(width='50%'), style = {'description_width': 'initial'})\n",
    "    \n",
    "float_range_rho_slider = widgets.FloatRangeSlider(value=[0.75, 0.85], min=0, max=1.2, step=0.01, description='Normalized radius range', layout=Layout(width='50%'), style = {'description_width': 'initial'})\n",
    "    \n",
    "interact(update_plot, \n",
    "         N=widgets.IntSlider(min=1, max=100, step=1,value=1),\n",
    "         float_range_time=float_range_time_slider,\n",
    "         float_range_rho=float_range_rho_slider,\n",
    "         colormap_range=widgets.FloatSlider(min=0.1, max=2, step=0.05,value=0.8),\n",
    "         dpi_adjust=widgets.FloatSlider(min=30, max=100, step=1,value=100),\n",
    "         param = widgets.Text(value='Ptransfert',placeholder='Type something',description='Select parameter:',disabled=False),\n",
    "         q05_bool    = widgets.Checkbox(value=True,description='q05'),\n",
    "         q1_bool     = widgets.Checkbox(value=False,description='q1'),\n",
    "         q15_bool    = widgets.Checkbox(value=True,description='q15'),\n",
    "         q05n0_bool  = widgets.Checkbox(value=False,description='q05n0'),\n",
    "         q15n0_bool  = widgets.Checkbox(value=False,description='q15n0'),\n",
    "         q05new_bool = widgets.Checkbox(value=False,description='q05new')\n",
    "        )"
   ]
  },
  {
   "attachments": {},
   "cell_type": "markdown",
   "id": "d7a7d5b3",
   "metadata": {},
   "source": [
    "## <font color='xkcd:orange'>**(OLD)**</font> <font color='xkcd:sage'>**Exploration**</font> - Evolution spatio-temporelle de quantités choisies [▲](#sommaire)"
   ]
  },
  {
   "cell_type": "code",
   "execution_count": null,
   "id": "24922538",
   "metadata": {},
   "outputs": [
    {
     "data": {
      "application/vnd.jupyter.widget-view+json": {
       "model_id": "32827ae32ce140549833e19ccf7a87d7",
       "version_major": 2,
       "version_minor": 0
      },
      "text/plain": [
       "Canvas(toolbar=Toolbar(toolitems=[('Home', 'Reset original view', 'home', 'home'), ('Back', 'Back to previous …"
      ]
     },
     "metadata": {},
     "output_type": "display_data"
    }
   ],
   "source": [
    "plt.close('all')\n",
    "import matplotlib.colors as colors\n",
    "\n",
    "param_ar = ['VT','VP','Er','dErdr','RSpol','RSphi','Phi01','dPhi01dr']\n",
    "\n",
    "q_ar = [qprof_05,qprof_15,qprof_05_n0,qprof_15_n0]\n",
    "param_ar = ['Er']\n",
    "\n",
    "symetrical_cmap = 0\n",
    "for ip,p in enumerate(param_ar):\n",
    "    fig = plt.figure(figsize=(xfigsize,8))\n",
    "    fig.suptitle(p)\n",
    "    \n",
    "    if symetrical_cmap:\n",
    "        vmin = 0.4*min( abs( np.min(qprof_1[p])) , abs( np.max(qprof_1[p])) )\n",
    "        vmax = -vmin\n",
    "    else:\n",
    "        vmin = 0.4*np.min(qprof_15[p])\n",
    "        vmax = 0.4*np.max(qprof_15[p])\n",
    "    \n",
    "    for iq,q in enumerate(q_ar):\n",
    "        irhomin = (np.abs(q['rho'] - 0.0 )).argmin()\n",
    "        irhomax = (np.abs(q['rho'] - 1.1 )).argmin()\n",
    "        \n",
    "        itmin = (np.abs(q['time'] - 0e3  )).argmin()\n",
    "        itmax = (np.abs(q['time'] - 105e3 )).argmin()\n",
    "        \n",
    "        #ax = fig.add_subplot(2,len(q_ar)//2,iq+1)\n",
    "        ax = fig.add_subplot(1,len(q_ar),iq+1)\n",
    "        ax.set_title(q['title'])\n",
    "        plt.pcolormesh(q['rho'][irhomin:irhomax],q['time'][itmin:itmax],q[p][itmin:itmax,irhomin:irhomax],vmin=vmin,vmax=vmax)\n",
    "        #plt.pcolormesh(q['rho'][irhomin:irhomax],q['time'][itmin:itmax],np.abs(q[p][itmin:itmax,irhomin:irhomax]),norm=colors.LogNorm(vmin=1e-4,vmax=1e-3))\n",
    "        plt.colorbar()\n",
    "        fig.tight_layout()\n",
    "        ax.set_xlabel(r'$r/a$')\n",
    "        ax.set_ylabel(r'time')\n",
    "        \n",
    "        ax.axvline(x=1,c='k',ls='--')\n",
    "        for rline in [0.8,0.6,0.4,0.2]:ax.axvline(x=rline,c='k',ls='--')\n",
    "        ax.set_xticks([1.0,0.8,0.6,0.4,0.2])\n",
    "        \n",
    "    fig.tight_layout(rect=[0, 0.03, 1, 0.95])\n",
    "    "
   ]
  },
  {
   "attachments": {},
   "cell_type": "markdown",
   "id": "183b31d2",
   "metadata": {},
   "source": [
    "## <font color='xkcd:orange'>**(OLD)**</font> <font color='xkcd:sage'>**Exploration**</font> - Evolution temporelle de quantités choisies [▲](#sommaire)"
   ]
  },
  {
   "cell_type": "code",
   "execution_count": null,
   "id": "ee2e8de5",
   "metadata": {},
   "outputs": [
    {
     "data": {
      "application/vnd.jupyter.widget-view+json": {
       "model_id": "c155a975a0ff4afcb2269da18d628088",
       "version_major": 2,
       "version_minor": 0
      },
      "text/plain": [
       "Canvas(toolbar=Toolbar(toolitems=[('Home', 'Reset original view', 'home', 'home'), ('Back', 'Back to previous …"
      ]
     },
     "metadata": {},
     "output_type": "display_data"
    }
   ],
   "source": [
    "plt.close('all')\n",
    "\n",
    "q_ar = [qprof_05_n0,qprof_15_n0]\n",
    "\n",
    "param_ar = ['VP','Phi00','Er','dErdr','RSpol','RSphi','dRSphidr','VT']\n",
    "\n",
    "param_ar = ['dRSpoldr']\n",
    "\n",
    "param_ar = ['VP']\n",
    "\n",
    "for ip,p in enumerate(param_ar):\n",
    "    fig = plt.figure(figsize=(6,4))\n",
    "    fig.suptitle(p)\n",
    "    ax1 = fig.add_subplot(111)\n",
    "    for iq,q in enumerate(q_ar):\n",
    "        \n",
    "        irhomin = (np.abs(q['rho'] - 0.49 )).argmin()\n",
    "        irhomax = (np.abs(q['rho'] - 0.51 )).argmin()\n",
    "\n",
    "        ax1.axhline(y=0,c='k',ls='--')\n",
    "        \n",
    "        ax1.set_title(r'avg $%.2f < \\rho < %.2f$' % (q['rho'][irhomin],q['rho'][irhomax]))\n",
    "\n",
    "        ax1.plot(q['time'][:-1], np.mean(q[p][:,irhomin:irhomax],axis=1), c=q['c'],label=q['title'],ls=q['ls'])\n",
    "        ax1.set_xlabel(r'$\\omega_{c0} t$')\n",
    "        ax1.ticklabel_format(axis='x',scilimits=(3,3),useMathText=True,useOffset=1)\n",
    "        ax1.legend()\n",
    "    #ax1.set_xlim(right=70e3)"
   ]
  },
  {
   "attachments": {},
   "cell_type": "markdown",
   "id": "21313e2b",
   "metadata": {},
   "source": [
    "## <font color='xkcd:orange'>**(OLD)**</font> <font color='xkcd:sage'>**Exploration**</font> - Profils radiaux de quantités choisies [▲](#sommaire)"
   ]
  },
  {
   "cell_type": "code",
   "execution_count": null,
   "id": "f47fc56e",
   "metadata": {},
   "outputs": [
    {
     "data": {
      "application/vnd.jupyter.widget-view+json": {
       "model_id": "bfa5a2f7c48e4cb3a4e7285d2cdcccce",
       "version_major": 2,
       "version_minor": 0
      },
      "text/plain": [
       "Canvas(toolbar=Toolbar(toolitems=[('Home', 'Reset original view', 'home', 'home'), ('Back', 'Back to previous …"
      ]
     },
     "metadata": {},
     "output_type": "display_data"
    }
   ],
   "source": [
    "plt.close('all')\n",
    "\n",
    "q_ar = [qprof_05_n0,qprof_15_n0]\n",
    "param_ar = ['Phi00','Phi01','dPhi01dr','Er','VP','dErdr','RSpol','RSphi','dRSphidr','VT','nustar']\n",
    "param_ar = ['Gamma_vD', 'Gamma_vE', 'Gamma_vEn0', 'Gamma_vEndiff0']\n",
    "\n",
    "param_ar = ['Er']\n",
    "\n",
    "for ip,p in enumerate(param_ar):\n",
    "    fig = plt.figure(figsize=(5,5))\n",
    "    fig.suptitle(p)\n",
    "    ax1 = fig.add_subplot(111)\n",
    "    for iq,q in enumerate(q_ar):\n",
    "        \n",
    "        irhomin = (np.abs(q['rho'] - 0.1 )).argmin()\n",
    "        irhomax = (np.abs(q['rho'] - 1.0 )).argmin()\n",
    "\n",
    "        itmin = (np.abs(q['time'] - 40.0e3 )).argmin()\n",
    "        itmax = (np.abs(q['time'] - 60.0e3 )).argmin()\n",
    "        \n",
    "        ax1.plot(q['rho'][irhomin:irhomax], np.mean( q[p][itmin:itmax,irhomin:irhomax],axis=0),ls=q['ls'],c=q['c'],label=q['title'])\n",
    "        \n",
    "        ax1.axhline(y=0,ls='--',c='k')\n",
    "        \n",
    "    ax1.legend()\n",
    "    ax1.set_xlabel(r'$r/a$')\n",
    "    fig.tight_layout(rect=[0, 0.03, 1, 0.95])"
   ]
  },
  {
   "attachments": {},
   "cell_type": "markdown",
   "id": "10123e64",
   "metadata": {},
   "source": [
    "## <font color='xkcd:orange'>**(OLD)**</font> <font color='xkcd:sage'>**Exploration**</font> - Profils radiaux, avec moyenne glissante, de quantités choisies [▲](#sommaire)"
   ]
  },
  {
   "cell_type": "code",
   "execution_count": null,
   "id": "e9bdc224",
   "metadata": {},
   "outputs": [
    {
     "data": {
      "application/vnd.jupyter.widget-view+json": {
       "model_id": "833e1c08e2cd4744b92b58c65f0d8784",
       "version_major": 2,
       "version_minor": 0
      },
      "text/plain": [
       "interactive(children=(IntSlider(value=50, description='N', min=1), Output()), _dom_classes=('widget-interact',…"
      ]
     },
     "metadata": {},
     "output_type": "display_data"
    }
   ],
   "source": [
    "q_ar = [qprof_05,qprof_15]\n",
    "param_ar = ['Phi00','Phi01','dPhi01dr','Er','VP','dErdr','RSpol','RSphi','dRSphidr','VT']\n",
    "\n",
    "param_ar = ['VP']\n",
    "\n",
    "\n",
    "for ip,p in enumerate(param_ar):\n",
    "    \n",
    "    def update_plot(N):\n",
    "        plt.close('all')\n",
    "    \n",
    "        fig = plt.figure(figsize=(xfigsize,6))\n",
    "        fig.suptitle(p)\n",
    "        ax1 = fig.add_subplot(111)\n",
    "        size_window = N * 250 * 1.3 / len(qprof_05['rg']) \n",
    "        ax1.set_title(r'Approximative window size for avg : %.1f $\\rho_i$' % size_window )\n",
    "        for iq,q in enumerate(q_ar):\n",
    "\n",
    "            irhomin = (np.abs(q['rho'] - 0. )).argmin()\n",
    "            irhomax = (np.abs(q['rho'] - 1. )).argmin()\n",
    "\n",
    "            itmin = (np.abs(q['time'] - 100e3 )).argmin()\n",
    "            itmax = (np.abs(q['time'] - 145e3 )).argmin()\n",
    "\n",
    "            ## Plot raw\n",
    "            ax1.plot(q['rho'][irhomin:irhomax], np.mean(q[p][itmin:itmax,irhomin:irhomax],axis=0),c=q['c'], ls='--')\n",
    "            \n",
    "            ## Plot coarse-grained\n",
    "            p_ma = uniform_filter1d(uniform_filter1d(np.mean(q[p][itmin:itmax,irhomin:irhomax],axis=0),size=N),size=N)\n",
    "\n",
    "            #p_ga = gaussian_filter1d(np.mean(q[p][itmin:itmax,:],axis=0),sigma=Ng)[irhomin:irhomax]\n",
    "\n",
    "            ax1.plot(q['rho'][irhomin:irhomax], p_ma, label=q['title'],lw=3,c=q['c'], ls='-')\n",
    "\n",
    "            ax1.axhline(y=0,c='k',ls='--')\n",
    "\n",
    "        #ax1.plot(q['rho'][40:40+Ng],np.ones(Ng)*-0.0,c='k')\n",
    "        ax1.plot(q['rho'][10:10+N],np.ones(N)*np.amax(p_ma)/2,c='xkcd:battleship grey',lw=5)\n",
    "\n",
    "        ax1.legend()\n",
    "        ax1.set_xlabel(r'$r/a$')\n",
    "    \n",
    "    interact(update_plot, N=(1, 100, 1), value=60);"
   ]
  },
  {
   "cell_type": "code",
   "execution_count": null,
   "id": "bb155abf-7de1-402c-9584-ca2bf130e30b",
   "metadata": {
    "collapsed": true,
    "id": "bb155abf-7de1-402c-9584-ca2bf130e30b",
    "jupyter": {
     "outputs_hidden": true,
     "source_hidden": true
    },
    "tags": []
   },
   "outputs": [],
   "source": []
  }
 ],
 "metadata": {
  "colab": {
   "provenance": []
  },
  "kernelspec": {
   "display_name": "Python 3 (ipykernel)",
   "language": "python",
   "name": "python3"
  },
  "language_info": {
   "codemirror_mode": {
    "name": "ipython",
    "version": 3
   },
   "file_extension": ".py",
   "mimetype": "text/x-python",
   "name": "python",
   "nbconvert_exporter": "python",
   "pygments_lexer": "ipython3",
   "version": "3.8.8"
  }
 },
 "nbformat": 4,
 "nbformat_minor": 5
}
