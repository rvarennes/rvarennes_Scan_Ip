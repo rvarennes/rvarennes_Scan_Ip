{
 "cells": [
  {
   "cell_type": "markdown",
   "id": "80fff3db-e465-484b-887a-0bcee6cd4784",
   "metadata": {
    "id": "80fff3db-e465-484b-887a-0bcee6cd4784"
   },
   "source": [
    "___\n",
    "___\n",
    "## <font color='coral'>**Appel de l'environment** </font> "
   ]
  },
  {
   "cell_type": "code",
   "execution_count": 1,
   "id": "887238a0-a1e9-4e0a-b49b-368fb0520038",
   "metadata": {
    "colab": {
     "base_uri": "https://localhost:8080/",
     "height": 467
    },
    "executionInfo": {
     "elapsed": 736,
     "status": "error",
     "timestamp": 1676539950083,
     "user": {
      "displayName": "Robin Varennes",
      "userId": "10829639768318658771"
     },
     "user_tz": -60
    },
    "id": "887238a0-a1e9-4e0a-b49b-368fb0520038",
    "outputId": "0b790d25-e7f8-42a8-c67a-567dbb7c92c8",
    "tags": []
   },
   "outputs": [],
   "source": [
    "import ipywidgets as widgets\n",
    "%matplotlib widget\n",
    "\n",
    "import numpy as np\n",
    "import matplotlib.pyplot as plt\n",
    "\n",
    "from scipy import special\n",
    "import scipy.integrate as integrate\n",
    "from scipy.misc import derivative\n",
    "import time\n",
    "from scipy.interpolate import InterpolatedUnivariateSpline\n",
    "import glob\n",
    "import matplotlib as mpl\n",
    "import matplotlib.colors as colors\n",
    "import matplotlib.gridspec as gridspec\n",
    "from scipy.ndimage.filters import uniform_filter1d\n",
    "from scipy.ndimage.filters import gaussian_filter1d\n",
    "from scipy.signal import savgol_filter\n",
    "from multiprocessing import Pool\n",
    "\n",
    "## For sliders\n",
    "from ipywidgets import Layout, interact, IntSlider\n",
    "from ipywidgets import interact, interactive, interactive_output, HBox, VBox\n",
    "\n",
    "## For color cyclers\n",
    "import itertools\n",
    "from cycler import cycler\n",
    "\n",
    "mpl.rcParams['image.cmap'] = 'RdYlBu_r'\n",
    "\n",
    "plt.close('all')\n",
    "plt.rcParams['axes.formatter.limits'] = (-3,1)\n",
    "plt.rc('font',size=18)\n",
    "plt.rcParams['lines.linewidth'] = 2\n",
    "plt.rcParams.update({\"axes.grid\" : True})\n",
    "\n",
    "#Size of figures\n",
    "laptop    = 6\n",
    "cadarache = 12\n",
    "home      = 16\n",
    "\n",
    "xfigsize  = laptop\n",
    "\n",
    "dpi_laptop = 50\n",
    "dpi_cadarache = 65\n",
    "dpi_home = 100\n",
    "dpi_custom = dpi_home\n",
    "\n",
    "def Fourier2D(F0, y0, x0):\n",
    "    nx0 = len(x0)\n",
    "    nx  = 2 * int(nx0 / 2)\n",
    "    hnx = int(nx / 2)\n",
    "    ny0 = len(y0)\n",
    "    ny  = 2 * int(ny0 / 2)\n",
    "    hny = int(ny / 2)\n",
    "\n",
    "    x = x0[0:nx]\n",
    "    y = y0[0:ny]\n",
    "    F = F0[0:ny, 0:nx]\n",
    "\n",
    "    Lx   = x[nx - 1] - x[0]\n",
    "    dx   = x[1] - x[0]\n",
    "    dkx  = 2. * np.pi / (Lx + dx)\n",
    "    kx   = np.zeros(nx)\n",
    "    temp = -dkx * np.r_[1:hnx + 1]\n",
    "    kx[0:hnx]  = temp[::-1]\n",
    "    kx[hnx:nx] = dkx * np.r_[0:hnx]\n",
    "\n",
    "    Ly   = y[ny - 1] - y[0]\n",
    "    dy   = y[1] - y[0]\n",
    "    dky  = 2. * np.pi / (Ly + dy)\n",
    "    ky   = np.zeros(ny)\n",
    "    temp = -dky * np.r_[1:hny + 1]\n",
    "    ky[0:hny]  = temp[::-1]\n",
    "    ky[hny:ny] = dky * np.r_[0:hny]\n",
    "\n",
    "    TFF = np.zeros((ny, nx), dtype=complex)\n",
    "    AA  = np.zeros((ny, nx), dtype=complex)\n",
    "    var = np.conjugate(np.fft.fft2(np.conjugate(F))) / float((nx * ny))\n",
    "\n",
    "    AA[:, 0:hnx]   = var[:, hnx:nx]\n",
    "    AA[:, hnx:nx]  = var[:, 0:hnx]\n",
    "    TFF[0:hny, :]  = AA[hny:ny, :]\n",
    "    TFF[hny:ny, :] = AA[0:hny, :]\n",
    "\n",
    "    return TFF, kx, ky\n",
    "\n",
    "def Fourier1D(F0, x0, axis=-1):\n",
    "    \"\"\" Personal FFT1D function\"\"\"\n",
    "    x0 = np.asarray(x0)\n",
    "    assert x0.ndim == 1\n",
    "\n",
    "    nx0 = len(x0)\n",
    "    nx  = 2 * int(nx0 / 2)\n",
    "    hnx = int(nx / 2)\n",
    "\n",
    "    dx = x0[1] - x0[0]\n",
    "    kx = 2 * np.pi / dx * np.linspace(-.5, .5, nx, endpoint=False)\n",
    "\n",
    "    TFF  = np.conjugate(np.fft.fft(\n",
    "        np.conjugate(F0),\n",
    "        n=nx, # crop `axis` at length `nx`\n",
    "        axis=axis\n",
    "    ))\n",
    "    TFF /= nx\n",
    "    TFF  = np.fft.fftshift(TFF, axes=axis)\n",
    "\n",
    "    return TFF, kx"
   ]
  },
  {
   "cell_type": "markdown",
   "id": "ba3ab4ae-00e9-4736-98be-c91174dae5cb",
   "metadata": {
    "id": "ba3ab4ae-00e9-4736-98be-c91174dae5cb"
   },
   "source": [
    "## <font color='coral'>**Chargement des données** </font> "
   ]
  },
  {
   "cell_type": "code",
   "execution_count": 2,
   "id": "2186af80-4b36-4285-85ed-55ff5da9f574",
   "metadata": {
    "id": "2186af80-4b36-4285-85ed-55ff5da9f574",
    "jupyter": {
     "source_hidden": true
    },
    "outputId": "f20c6730-029a-4833-d1d5-489ce50325c4",
    "tags": []
   },
   "outputs": [
    {
     "name": "stdout",
     "output_type": "stream",
     "text": [
      "dict_keys(['Er', 'Gamma_vD', 'Gamma_vE', 'Gamma_vEn0', 'Gamma_vEndiff0', 'IturbGC_FSavg', 'Phi00', 'Phi01', 'Ppar', 'Pperp', 'Qpar_vD', 'Qpar_vE', 'Qpar_vEn0', 'Qperp_vD', 'Qperp_vE', 'Qperp_vEn0', 'Qtot', 'Qtot_vD', 'Qtot_vE', 'Qtot_vEn0', 'RSphi', 'RSphi_vD', 'RSphi_vE', 'RSphi_vEn0', 'RSpol', 'RSpol_vD', 'RSpol_vE', 'RSpol_vEn0', 'T', 'VP', 'VT', 'dErdr', 'dPhi01dr', 'dRSphidr', 'dRSpoldr', 'dVPdr', 'dVTdr', 'delta_n_avg', 'eps', 'n', 'nIturbGC_FSavg', 'nu_i', 'nustar', 'q', 'rg', 'rho', 'spreading_0deg', 'spreading_180deg', 'spreading_270deg', 'spreading_90deg', 'spreading_FSavg', 'time', 'turb_int_avg', 'turb_int_sq_avg', 'title', 'c', 'ls'])\n"
     ]
    }
   ],
   "source": [
    "import h5py\n",
    "\n",
    "def hdf5_to_dict(filename):\n",
    "    \"\"\"Load a dictionary of arrays and strings as unicode characters from an HDF5 file.\"\"\"\n",
    "    with h5py.File(filename, 'r') as f:\n",
    "        d = {}\n",
    "        for k in f.keys():\n",
    "            v = f[k][()]\n",
    "            if isinstance(v, bytes):\n",
    "                d[k] = v.decode('utf-8')\n",
    "            else:\n",
    "                d[k] = v\n",
    "    return d\n",
    "\n",
    "qprof_05 = hdf5_to_dict('data/TS45511_q05.hdf5'); qprof_05['title']=r'$q_{0.5}$'; qprof_05['c']='xkcd:electric blue'; qprof_05['ls']='-'\n",
    "qprof_1  = hdf5_to_dict('data/TS45511_q1.hdf5'); qprof_1['title']=r'$q_{1.0}$'; qprof_1['c']='xkcd:bluish purple'; qprof_1['ls']='-'\n",
    "qprof_15 = hdf5_to_dict('data/TS45511_q15.hdf5'); qprof_15['title']=r'$q_{1.5}$'; qprof_15['c']='xkcd:watermelon'; qprof_15['ls']='-'\n",
    "\n",
    "qprof_05_n0 = hdf5_to_dict('data/TS45511_q05_n0.hdf5'); qprof_05_n0['title']=r'$q_{0.5}$ - $n=0$'; qprof_05_n0['c']='xkcd:cobalt blue'; qprof_05_n0['ls']='-'\n",
    "qprof_15_n0 = hdf5_to_dict('data/TS45511_q15_n0.hdf5'); qprof_15_n0['title']=r'$q_{1.5}$ - $n=0$'; qprof_15_n0['c']='xkcd:dark red'; qprof_15_n0['ls']='-'\n",
    "\n",
    "#qprof_gdp = pickle.load(open('data/gdp_ti0_te597900.pkl','rb')); qprof_gdp['title']=r'gdp'; qprof_gdp['c']='darkorange'\n",
    "\n",
    "qprof_05new = hdf5_to_dict('data/TS45511_q05new.hdf5'); qprof_05new['title']=r'$q_{0.5}^{NEW}$'; qprof_05new['c']='xkcd:lightish blue'; qprof_05new['ls']='-'\n",
    "\n",
    "qprof_05_br = hdf5_to_dict('data/TS45511_q05_br.hdf5'); qprof_05_br['title']=r'$q_{0.5}^{BR}$'; qprof_05_br['c']='xkcd:blue'; qprof_05_br['ls']='-'\n",
    "qprof_075_br = hdf5_to_dict('data/TS45511_q075_br.hdf5'); qprof_075_br['title']=r'$q_{0.75}^{BR}$'; qprof_075_br['c']='xkcd:pink'; qprof_075_br['ls']='-'\n",
    "qprof_15_br = hdf5_to_dict('data/TS45511_q15_br.hdf5'); qprof_15_br['title']=r'$q_{1.5}^{BR}$'; qprof_15_br['c']='xkcd:red'; qprof_15_br['ls']='-'\n",
    "\n",
    "all_sim = [qprof_05, qprof_1, qprof_15, qprof_05_n0, qprof_15_n0, qprof_05new, qprof_05_br, qprof_075_br, qprof_15_br]\n",
    "\n",
    "print(qprof_05_br.keys())\n",
    "\n",
    "daltonian = 0\n",
    "if daltonian:\n",
    "    import seaborn as sns\n",
    "    qprof_05['c']= sns.color_palette(\"colorblind\")[0]\n",
    "    qprof_1['c'] = sns.color_palette(\"colorblind\")[2]\n",
    "    qprof_15['c']= sns.color_palette(\"colorblind\")[3]\n",
    "    \n",
    "    qprof_05_n0['c']= sns.color_palette(\"colorblind\")[0]\n",
    "    qprof_15_n0['c']= sns.color_palette(\"colorblind\")[3]\n",
    "\n",
    "iaea = 0\n",
    "if iaea:\n",
    "    qprof_05['c']= 'xkcd:blue'\n",
    "    qprof_1['c'] = 'xkcd:green'\n",
    "    qprof_15['c']= 'xkcd:black'\n",
    "    \n",
    "soutenance = 1\n",
    "if soutenance:\n",
    "    qprof_05['title'] = r'$q_{ref} \\times 0.5$'\n",
    "    qprof_1['title']  = r'$q_{ref}$'\n",
    "    qprof_15['title'] = r'$q_{ref} \\times 1.5$'\n",
    "    \n",
    "## Colors\n",
    "qprof_05['c2'] = 'xkcd:cornflower blue'\n",
    "qprof_05['c3'] = 'xkcd:apple green'\n",
    "qprof_05['c4'] = 'xkcd:melon'\n",
    "qprof_1['c2'] = 'xkcd:grassy green'\n",
    "qprof_1['c3'] = 'xkcd:carmine'\n",
    "qprof_1['c4'] = 'xkcd:strong blue'\n",
    "qprof_15['c2'] = 'xkcd:reddish'\n",
    "qprof_15['c3'] = 'xkcd:cerulean'\n",
    "qprof_15['c4'] = 'xkcd:darkish green'\n",
    "    \n",
    "#q_ar = [qprof_05,qprof_1,qprof_15,qprof_05_n0,qprof_15_n0,qprof_05new]\n",
    "## Check length of arrays and correct if necessary\n",
    "for iq,q in enumerate(all_sim):\n",
    "    #print('Time array length = %s' % len(q['time']) )\n",
    "    for p in q.keys():\n",
    "        if type(q[p]) is np.ndarray:\n",
    "            if q[p].ndim == 2:\n",
    "                #if len(q[p][:,0]) != len(q['time']):\n",
    "                    #print('Time dimension length of %s = %s' % (p,len(q[p][:,0])) )\n",
    "                if len(q[p][:,0]) == len(q['time']):\n",
    "                    #print('Time dimension length of %s = %s' % (p,len(q[p][:,0])) )\n",
    "                    q[p] = q[p][:-1,:]\n",
    "    q['time'] = q['time'][:-1]\n",
    "    \n",
    "## Defining custom values\n",
    "for iq,q in enumerate(all_sim):\n",
    "    q['gradT']             = np.gradient(q['T'],q['rg'],axis=1)\n",
    "    q['Ptransfert']        = -q['dRSpoldr'] * (-q['Er'])\n",
    "    q['Ptransfert_w_prefactor']  = -q['dRSpoldr'] * (-q['Er']) / (1 + 2 * q['q']**2)\n",
    "    q['Ptransfert_vE']     = -np.gradient(q['RSpol_vE'],q['rg'],axis=1) * (-q['Er'])\n",
    "    q['Ptransfert_vD']     = -np.gradient(q['RSpol_vD'],q['rg'],axis=1) * (-q['Er'])\n",
    "    q['Ptransfert_approx'] = q['RSpol'] * (-q['dErdr'])\n",
    "    q['dErdt']             = np.gradient(q['Er'],q['time'],axis=0)\n",
    "    q['dIsqdr']            = np.gradient(q['turb_int_sq_avg'],q['rg'],axis=1)\n",
    "    q['dIdr']              = np.gradient(np.sqrt(q['turb_int_sq_avg']),q['rg'],axis=1)\n",
    "    q['Jr']                = -(q['Gamma_vE']+q['Gamma_vD'])\n",
    "    q['Jr_vD']             = -q['Gamma_vD']\n",
    "    q['Jr_vE']             = -q['Gamma_vE']\n",
    "    q['neo_energy_evol']   = -q['Ptransfert'] + 0.5*np.gradient(-q['Er']**2,q['time'],axis=0)\n",
    "    q['neo_energy_evol_w_prefactor'] = -q['Ptransfert_w_prefactor'] + 0.5*np.gradient(-q['Er']**2,q['time'],axis=0)\n",
    "    q['tevol_VEsq']        = 0.5*np.gradient(-q['Er']**2,q['time'],axis=0)"
   ]
  },
  {
   "cell_type": "markdown",
   "id": "18192225-03ec-4e2f-8770-fbd26f6b7a8f",
   "metadata": {
    "id": "18192225-03ec-4e2f-8770-fbd26f6b7a8f"
   },
   "source": [
    "___\n",
    "___"
   ]
  },
  {
   "cell_type": "markdown",
   "id": "454be655-ade6-49a9-9275-2b8052055eba",
   "metadata": {
    "id": "454be655-ade6-49a9-9275-2b8052055eba"
   },
   "source": [
    "## <font color='xkcd:sage'>**Exploration**</font> - Profils radiaux de quantités choisies"
   ]
  },
  {
   "cell_type": "code",
   "execution_count": 47,
   "id": "95df7c48-8865-4801-896a-a6125e66de2b",
   "metadata": {
    "colab": {
     "referenced_widgets": [
      "0f032855bbf54aa5af1181db71ad88c0",
      "daa57e147422495999f24485381f928a"
     ]
    },
    "collapsed": true,
    "id": "95df7c48-8865-4801-896a-a6125e66de2b",
    "jupyter": {
     "outputs_hidden": true,
     "source_hidden": true
    },
    "outputId": "6311f704-1629-4227-e412-9ed435902d4e",
    "tags": []
   },
   "outputs": [
    {
     "data": {
      "application/vnd.jupyter.widget-view+json": {
       "model_id": "bfa5a2f7c48e4cb3a4e7285d2cdcccce",
       "version_major": 2,
       "version_minor": 0
      },
      "text/plain": [
       "Canvas(toolbar=Toolbar(toolitems=[('Home', 'Reset original view', 'home', 'home'), ('Back', 'Back to previous …"
      ]
     },
     "metadata": {},
     "output_type": "display_data"
    }
   ],
   "source": [
    "plt.close('all')\n",
    "\n",
    "q_ar = [qprof_05_n0,qprof_15_n0]\n",
    "param_ar = ['Phi00','Phi01','dPhi01dr','Er','VP','dErdr','RSpol','RSphi','dRSphidr','VT','nustar']\n",
    "param_ar = ['Gamma_vD', 'Gamma_vE', 'Gamma_vEn0', 'Gamma_vEndiff0']\n",
    "\n",
    "param_ar = ['Er']\n",
    "\n",
    "for ip,p in enumerate(param_ar):\n",
    "    fig = plt.figure(figsize=(5,5))\n",
    "    fig.suptitle(p)\n",
    "    ax1 = fig.add_subplot(111)\n",
    "    for iq,q in enumerate(q_ar):\n",
    "        \n",
    "        irhomin = (np.abs(q['rho'] - 0.1 )).argmin()\n",
    "        irhomax = (np.abs(q['rho'] - 1.0 )).argmin()\n",
    "\n",
    "        itmin = (np.abs(q['time'] - 40.0e3 )).argmin()\n",
    "        itmax = (np.abs(q['time'] - 60.0e3 )).argmin()\n",
    "        \n",
    "        ax1.plot(q['rho'][irhomin:irhomax], np.mean( q[p][itmin:itmax,irhomin:irhomax],axis=0),ls=q['ls'],c=q['c'],label=q['title'])\n",
    "        \n",
    "        ax1.axhline(y=0,ls='--',c='k')\n",
    "        \n",
    "    ax1.legend()\n",
    "    ax1.set_xlabel(r'$r/a$')\n",
    "    fig.tight_layout(rect=[0, 0.03, 1, 0.95])"
   ]
  },
  {
   "cell_type": "markdown",
   "id": "44e3b287-092f-40c9-ae71-9e67d4d30615",
   "metadata": {},
   "source": [
    "## <font color='orangered'>**(En cours)**</font> <font color='xkcd:sage'>**Exploration**</font> - Profils radiaux de quantités choisies v2"
   ]
  },
  {
   "cell_type": "code",
   "execution_count": 9,
   "id": "8ce0e36c-fce9-4840-a583-0c5d98c19af1",
   "metadata": {
    "jupyter": {
     "source_hidden": true
    },
    "tags": []
   },
   "outputs": [
    {
     "data": {
      "application/vnd.jupyter.widget-view+json": {
       "model_id": "31bfa63f97c943619bb28a1d9497f846",
       "version_major": 2,
       "version_minor": 0
      },
      "text/plain": [
       "Canvas(toolbar=Toolbar(toolitems=[('Home', 'Reset original view', 'home', 'home'), ('Back', 'Back to previous …"
      ]
     },
     "metadata": {},
     "output_type": "display_data"
    },
    {
     "data": {
      "application/vnd.jupyter.widget-view+json": {
       "model_id": "486d294e074f4eca96ac2f97a2f7d535",
       "version_major": 2,
       "version_minor": 0
      },
      "text/plain": [
       "interactive(children=(IntSlider(value=1, description='N', min=1), IntSlider(value=100, description='dpi_adjust…"
      ]
     },
     "metadata": {},
     "output_type": "display_data"
    },
    {
     "data": {
      "text/plain": [
       "<function __main__.update_plot(N, dpi_adjust, param, param2, float_range_time, q05_bool, q1_bool, q15_bool, q05n0_bool, q15n0_bool, q05new_bool, q05br_bool, q075br_bool, q15br_bool)>"
      ]
     },
     "execution_count": 9,
     "metadata": {},
     "output_type": "execute_result"
    }
   ],
   "source": [
    "plt.close('all')\n",
    "\n",
    "import matplotlib\n",
    "matplotlib.rcParams['figure.figsize'] = [10, 10] # for square canvas\n",
    "matplotlib.rcParams['figure.subplot.left'] = 0\n",
    "matplotlib.rcParams['figure.subplot.bottom'] = 0.5\n",
    "matplotlib.rcParams['figure.subplot.right'] = 1\n",
    "matplotlib.rcParams['figure.subplot.top'] = 1\n",
    "\n",
    "fig = plt.figure(figsize=(12,6))\n",
    "ax_rprof = fig.add_subplot(111); ax_rprof2 = ax_rprof.twinx()\n",
    "\n",
    "def update_plot(N,dpi_adjust,param,param2,float_range_time,\n",
    "               q05_bool,q1_bool,q15_bool,q05n0_bool,q15n0_bool,q05new_bool,\n",
    "               q05br_bool,q075br_bool,q15br_bool):\n",
    "    \n",
    "    q_ar = [qprof for qprof, qprof_bool in zip(all_sim, [q05_bool,q1_bool,q15_bool,q05n0_bool,q15n0_bool,q05new_bool,q05br_bool,q075br_bool,q15br_bool]) if qprof_bool]\n",
    "    \n",
    "    tmin_avg,tmax_avg = float_range_time\n",
    "\n",
    "    ## Set dpi of figure\n",
    "    if dpi_adjust!=dpi_custom:fig.set_dpi(dpi_adjust)\n",
    "\n",
    "    ## Clear previous plot\n",
    "    ax_rprof.clear(); ax_rprof2.clear()\n",
    "    ax_rprof2.grid(False)\n",
    "    \n",
    "    fig.suptitle(r'Study of %s' %param)\n",
    "    \n",
    "    for q in q_ar:\n",
    "\n",
    "        irhomin = (np.abs(q['rho'] - 0.01 )).argmin()\n",
    "        irhomax = (np.abs(q['rho'] - 1.1 )).argmin()\n",
    "        \n",
    "        itmin_avg = (np.abs(q['time'] - tmin_avg )).argmin()\n",
    "        itmax_avg = (np.abs(q['time'] - tmax_avg )).argmin()\n",
    "\n",
    "        p_ma = uniform_filter1d(uniform_filter1d(q[param],size=N,axis=1),size=N,axis=1)\n",
    "        \n",
    "        ax_rprof.set_title(r'Radial profile (avg %.0f < t$[\\omega_{c0}^{-1}]$ < %.0f)' % (tmin_avg , tmax_avg) )\n",
    "        ax_rprof.plot(q['rho'][irhomin:irhomax], np.mean( p_ma[itmin_avg:itmax_avg,irhomin:irhomax],axis=0),ls=q['ls'],c=q['c'],label=q['title'])\n",
    "        ax_rprof.set_xlabel(r'$r/a$')\n",
    "        ax_rprof.axhline(y=0,c='k',ls='--')\n",
    "        ax_rprof.axvline(x=1,c='k',ls='--')\n",
    "        ax_rprof.legend()\n",
    "        \n",
    "        if param2:\n",
    "            color1 = 'xkcd:cerulean'\n",
    "            color2 = 'xkcd:reddish orange'\n",
    "            p_ma2 = uniform_filter1d(uniform_filter1d(q[param2],size=N,axis=1),size=N,axis=1)\n",
    "            \n",
    "            ax_rprof2.plot(q['rho'][irhomin:irhomax], np.mean( p_ma2[itmin_avg:itmax_avg,irhomin:irhomax],axis=0),ls=q['ls'],c=q['c2'],label=q['title'])\n",
    "            ax_rprof2.yaxis.label.set_color(color2)\n",
    "            ax_rprof2.tick_params(axis='y', colors=color2)\n",
    "        \n",
    "        ax_rprof.plot(q['rho'][10:10+N],np.ones(N)*ax_rprof.get_ylim()[1]/4,c='xkcd:battleship grey',lw=5) #Visualize the sliding average window\n",
    "\n",
    "    fig.tight_layout(rect=[0, 0.03, 1, 0.95])\n",
    "    \n",
    "    \n",
    "float_range_time_slider = widgets.FloatRangeSlider(value=[100e3, 145e3], min=0, max=150e3, step=1000, description='Time range', layout=Layout(width='50%'), style = {'description_width': 'initial'})\n",
    "    \n",
    "interact(update_plot, \n",
    "         N=widgets.IntSlider(min=1, max=100, step=1,value=1),\n",
    "         float_range_time=float_range_time_slider,\n",
    "         dpi_adjust=widgets.IntSlider(min=30, max=200, step=1,value=dpi_custom),\n",
    "         param = widgets.Text(value='Er',placeholder='Type something',description='Select parameter:',disabled=False),\n",
    "         param2 = widgets.Text(value='',placeholder='Type something',description='Select parameter:',disabled=False),\n",
    "         q05_bool    = widgets.Checkbox(value=True,description='q05'),\n",
    "         q1_bool     = widgets.Checkbox(value=False,description='q1'),\n",
    "         q15_bool    = widgets.Checkbox(value=True,description='q15'),\n",
    "         q05n0_bool  = widgets.Checkbox(value=False,description='q05n0'),\n",
    "         q15n0_bool  = widgets.Checkbox(value=False,description='q15n0'),\n",
    "         q05new_bool = widgets.Checkbox(value=False,description='q05new'),\n",
    "         q05br_bool = widgets.Checkbox(value=False,description='q05br'),\n",
    "         q075br_bool = widgets.Checkbox(value=False,description='q075br'),\n",
    "         q15br_bool = widgets.Checkbox(value=False,description='q15br')\n",
    "        )"
   ]
  },
  {
   "attachments": {},
   "cell_type": "markdown",
   "id": "864bc9d2",
   "metadata": {},
   "source": [
    "## <font color='xkcd:sage'>**Exploration**</font> - Video of radial profiles"
   ]
  },
  {
   "cell_type": "code",
   "execution_count": 3,
   "id": "8fdc5558",
   "metadata": {},
   "outputs": [
    {
     "data": {
      "application/vnd.jupyter.widget-view+json": {
       "model_id": "4192da634d634de4a79f3ee3504cb44f",
       "version_major": 2,
       "version_minor": 0
      },
      "text/plain": [
       "Canvas(toolbar=Toolbar(toolitems=[('Home', 'Reset original view', 'home', 'home'), ('Back', 'Back to previous …"
      ]
     },
     "metadata": {},
     "output_type": "display_data"
    },
    {
     "data": {
      "application/vnd.jupyter.widget-view+json": {
       "model_id": "2b64d92c36184134a5d6ae4aae1820c4",
       "version_major": 2,
       "version_minor": 0
      },
      "text/plain": [
       "interactive(children=(IntSlider(value=1, description='N', min=1), FloatSlider(value=100.0, description='dpi_ad…"
      ]
     },
     "metadata": {},
     "output_type": "display_data"
    },
    {
     "data": {
      "text/plain": [
       "<function __main__.update_plot(N, dpi_adjust, param, q05_bool, q1_bool, q15_bool, q05n0_bool, q15n0_bool, q05new_bool, q05br_bool, q075br_bool, q15br_bool, it_play, bool_fixed_y_range)>"
      ]
     },
     "execution_count": 3,
     "metadata": {},
     "output_type": "execute_result"
    }
   ],
   "source": [
    "plt.close('all')\n",
    "fig = plt.figure(figsize=(12,6))\n",
    "ax_rprof = fig.add_subplot(111) \n",
    "\n",
    "def update_plot(N,dpi_adjust,param,\n",
    "               q05_bool,q1_bool,q15_bool,q05n0_bool,q15n0_bool,q05new_bool,\n",
    "               q05br_bool,q075br_bool,q15br_bool,\n",
    "               it_play, bool_fixed_y_range):\n",
    "\n",
    "    ## Select profiles to plot\n",
    "    q_ar = [qprof for qprof, qprof_bool in zip(all_sim, [q05_bool,q1_bool,q15_bool,q05n0_bool,q15n0_bool,q05new_bool,q05br_bool,q075br_bool,q15br_bool]) if qprof_bool]\n",
    "\n",
    "    ## Set title of figure\n",
    "    fig.suptitle(r'Study of %s' %param)\n",
    "\n",
    "    ## Set dpi of figure\n",
    "    if dpi_adjust!=dpi_custom: fig.set_dpi(dpi_adjust)\n",
    "\n",
    "    ## Clear previous plot\n",
    "    ax_rprof.clear()\n",
    "\n",
    "    for q in q_ar:\n",
    "\n",
    "        ## Find index of rho=0.1 and rho=1.1\n",
    "        irhomin = (np.abs(q['rho'] - 0.1 )).argmin()\n",
    "        irhomax = (np.abs(q['rho'] - 1.1 )).argmin()\n",
    "\n",
    "        ## Compute sliding average\n",
    "        p_ma = uniform_filter1d(uniform_filter1d(q[param],size=N,axis=1),size=N,axis=1)\n",
    "\n",
    "        ## Plot radial profile\n",
    "        ax_rprof.set_title(r'Radial profile (at t= %.0f $[\\omega_{c0}^{-1}]$)' % (q['time'][it_play]) )\n",
    "        ax_rprof.plot(q['rho'][irhomin:irhomax], p_ma[it_play,irhomin:irhomax],ls=q['ls'],c=q['c'],label=q['title'])\n",
    "        ax_rprof.plot(q['rho'][10:10+N],np.ones(N)*ax_rprof.get_ylim()[1]/4,c='xkcd:battleship grey',lw=5) #Visualize the sliding average window\n",
    "\n",
    "        ymax = ax_rprof.get_ylim()[1]\n",
    "\n",
    "    ## Plot reference lines\n",
    "    ax_rprof.axhline(y=0,c='k',ls='--'); ax_rprof.axvline(x=1,c='k',ls='--')\n",
    "\n",
    "    ## Set labels and legend\n",
    "    ax_rprof.set_xlabel(r'$r/a$')\n",
    "    ax_rprof.legend()\n",
    "\n",
    "    ## Fix y range if bool_fixed_y_range is True\n",
    "    if bool_fixed_y_range:\n",
    "        ax_rprof.set_ylim(bottom = 0.75*np.amin(p_ma), top = 0.75*np.amax(p_ma))\n",
    "\n",
    "    fig.tight_layout(rect=[0, 0.03, 1, 0.95])\n",
    "\n",
    "interact(update_plot, \n",
    "        N=widgets.IntSlider(min=1, max=100, step=1,value=1),\n",
    "        dpi_adjust=widgets.FloatSlider(min=30, max=150, step=1,value=dpi_custom),\n",
    "        param = widgets.Text(value='Er',placeholder='Type something',description='Select parameter:',disabled=False),\n",
    "        q05_bool    = widgets.Checkbox(value=True,description='q05'),\n",
    "        q1_bool     = widgets.Checkbox(value=False,description='q1'),\n",
    "        q15_bool    = widgets.Checkbox(value=True,description='q15'),\n",
    "        q05n0_bool  = widgets.Checkbox(value=False,description='q05n0'),\n",
    "        q15n0_bool  = widgets.Checkbox(value=False,description='q15n0'),\n",
    "        q05new_bool = widgets.Checkbox(value=False,description='q05new'),\n",
    "        q05br_bool = widgets.Checkbox(value=False,description='q05br'),\n",
    "        q075br_bool = widgets.Checkbox(value=False,description='q075br'),\n",
    "        q15br_bool = widgets.Checkbox(value=False,description='q15br'),\n",
    "        bool_fixed_y_range = widgets.Checkbox(value=False,description='Fix y range'),\n",
    "        it_play = widgets.Play(value=30,min=0,max=len(qprof_05_br['time']),step=1,interval=150,description=\"Press play\",disabled=False)\n",
    "        )"
   ]
  },
  {
   "cell_type": "markdown",
   "id": "18fe0c2b-5040-4f6f-a018-72d5a28f6a0a",
   "metadata": {
    "id": "18fe0c2b-5040-4f6f-a018-72d5a28f6a0a",
    "tags": []
   },
   "source": [
    "## <font color='xkcd:sage'>**Exploration**</font> - Profils radiaux, avec moyenne glissante, de quantités choisies"
   ]
  },
  {
   "cell_type": "code",
   "execution_count": null,
   "id": "1908dd1a-2804-4f3d-8f45-48e3d2cb8e32",
   "metadata": {
    "colab": {
     "referenced_widgets": [
      "f2a6208110ed4377861edb17beaa72b4",
      "833e1c08e2cd4744b92b58c65f0d8784"
     ]
    },
    "collapsed": true,
    "id": "1908dd1a-2804-4f3d-8f45-48e3d2cb8e32",
    "jupyter": {
     "outputs_hidden": true,
     "source_hidden": true
    },
    "outputId": "aaab2437-a6bd-4ce4-b580-9a664f7d9932",
    "tags": []
   },
   "outputs": [
    {
     "data": {
      "application/vnd.jupyter.widget-view+json": {
       "model_id": "833e1c08e2cd4744b92b58c65f0d8784",
       "version_major": 2,
       "version_minor": 0
      },
      "text/plain": [
       "interactive(children=(IntSlider(value=50, description='N', min=1), Output()), _dom_classes=('widget-interact',…"
      ]
     },
     "metadata": {},
     "output_type": "display_data"
    }
   ],
   "source": [
    "q_ar = [qprof_05,qprof_15]\n",
    "param_ar = ['Phi00','Phi01','dPhi01dr','Er','VP','dErdr','RSpol','RSphi','dRSphidr','VT']\n",
    "\n",
    "param_ar = ['VP']\n",
    "\n",
    "\n",
    "for ip,p in enumerate(param_ar):\n",
    "    \n",
    "    def update_plot(N):\n",
    "        plt.close('all')\n",
    "    \n",
    "        fig = plt.figure(figsize=(xfigsize,6))\n",
    "        fig.suptitle(p)\n",
    "        ax1 = fig.add_subplot(111)\n",
    "        size_window = N * 250 * 1.3 / len(qprof_05['rg']) \n",
    "        ax1.set_title(r'Approximative window size for avg : %.1f $\\rho_i$' % size_window )\n",
    "        for iq,q in enumerate(q_ar):\n",
    "\n",
    "            irhomin = (np.abs(q['rho'] - 0. )).argmin()\n",
    "            irhomax = (np.abs(q['rho'] - 1. )).argmin()\n",
    "\n",
    "            itmin = (np.abs(q['time'] - 100e3 )).argmin()\n",
    "            itmax = (np.abs(q['time'] - 145e3 )).argmin()\n",
    "\n",
    "            ## Plot raw\n",
    "            ax1.plot(q['rho'][irhomin:irhomax], np.mean(q[p][itmin:itmax,irhomin:irhomax],axis=0),c=q['c'], ls='--')\n",
    "            \n",
    "            ## Plot coarse-grained\n",
    "            p_ma = uniform_filter1d(uniform_filter1d(np.mean(q[p][itmin:itmax,irhomin:irhomax],axis=0),size=N),size=N)\n",
    "\n",
    "            #p_ga = gaussian_filter1d(np.mean(q[p][itmin:itmax,:],axis=0),sigma=Ng)[irhomin:irhomax]\n",
    "\n",
    "            ax1.plot(q['rho'][irhomin:irhomax], p_ma, label=q['title'],lw=3,c=q['c'], ls='-')\n",
    "\n",
    "            ax1.axhline(y=0,c='k',ls='--')\n",
    "\n",
    "        #ax1.plot(q['rho'][40:40+Ng],np.ones(Ng)*-0.0,c='k')\n",
    "        ax1.plot(q['rho'][10:10+N],np.ones(N)*np.amax(p_ma)/2,c='xkcd:battleship grey',lw=5)\n",
    "\n",
    "        ax1.legend()\n",
    "        ax1.set_xlabel(r'$r/a$')\n",
    "    \n",
    "    interact(update_plot, N=(1, 100, 1), value=60);"
   ]
  },
  {
   "attachments": {},
   "cell_type": "markdown",
   "id": "2ba6e7c2-d7a7-4ab0-af5f-6c29ef98d544",
   "metadata": {
    "id": "2ba6e7c2-d7a7-4ab0-af5f-6c29ef98d544",
    "tags": []
   },
   "source": [
    "## <font color='xkcd:orange'>**(OLD)**</font> <font color='xkcd:sage'>**Exploration**</font> - Evolution spatio-temporelle de quantités choisies"
   ]
  },
  {
   "cell_type": "code",
   "execution_count": null,
   "id": "24cfbfb9-e55a-4479-881e-2815e8d2409e",
   "metadata": {
    "colab": {
     "referenced_widgets": [
      "32827ae32ce140549833e19ccf7a87d7"
     ]
    },
    "collapsed": true,
    "id": "24cfbfb9-e55a-4479-881e-2815e8d2409e",
    "jupyter": {
     "outputs_hidden": true,
     "source_hidden": true
    },
    "outputId": "4d31e951-0cf8-451b-97ee-67147e6c7de0",
    "tags": []
   },
   "outputs": [
    {
     "data": {
      "application/vnd.jupyter.widget-view+json": {
       "model_id": "32827ae32ce140549833e19ccf7a87d7",
       "version_major": 2,
       "version_minor": 0
      },
      "text/plain": [
       "Canvas(toolbar=Toolbar(toolitems=[('Home', 'Reset original view', 'home', 'home'), ('Back', 'Back to previous …"
      ]
     },
     "metadata": {},
     "output_type": "display_data"
    }
   ],
   "source": [
    "plt.close('all')\n",
    "import matplotlib.colors as colors\n",
    "\n",
    "param_ar = ['VT','VP','Er','dErdr','RSpol','RSphi','Phi01','dPhi01dr']\n",
    "\n",
    "q_ar = [qprof_05,qprof_15,qprof_05_n0,qprof_15_n0]\n",
    "param_ar = ['Er']\n",
    "\n",
    "symetrical_cmap = 0\n",
    "for ip,p in enumerate(param_ar):\n",
    "    fig = plt.figure(figsize=(xfigsize,8))\n",
    "    fig.suptitle(p)\n",
    "    \n",
    "    if symetrical_cmap:\n",
    "        vmin = 0.4*min( abs( np.min(qprof_1[p])) , abs( np.max(qprof_1[p])) )\n",
    "        vmax = -vmin\n",
    "    else:\n",
    "        vmin = 0.4*np.min(qprof_15[p])\n",
    "        vmax = 0.4*np.max(qprof_15[p])\n",
    "    \n",
    "    for iq,q in enumerate(q_ar):\n",
    "        irhomin = (np.abs(q['rho'] - 0.0 )).argmin()\n",
    "        irhomax = (np.abs(q['rho'] - 1.1 )).argmin()\n",
    "        \n",
    "        itmin = (np.abs(q['time'] - 0e3  )).argmin()\n",
    "        itmax = (np.abs(q['time'] - 105e3 )).argmin()\n",
    "        \n",
    "        #ax = fig.add_subplot(2,len(q_ar)//2,iq+1)\n",
    "        ax = fig.add_subplot(1,len(q_ar),iq+1)\n",
    "        ax.set_title(q['title'])\n",
    "        plt.pcolormesh(q['rho'][irhomin:irhomax],q['time'][itmin:itmax],q[p][itmin:itmax,irhomin:irhomax],vmin=vmin,vmax=vmax)\n",
    "        #plt.pcolormesh(q['rho'][irhomin:irhomax],q['time'][itmin:itmax],np.abs(q[p][itmin:itmax,irhomin:irhomax]),norm=colors.LogNorm(vmin=1e-4,vmax=1e-3))\n",
    "        plt.colorbar()\n",
    "        fig.tight_layout()\n",
    "        ax.set_xlabel(r'$r/a$')\n",
    "        ax.set_ylabel(r'time')\n",
    "        \n",
    "        ax.axvline(x=1,c='k',ls='--')\n",
    "        for rline in [0.8,0.6,0.4,0.2]:ax.axvline(x=rline,c='k',ls='--')\n",
    "        ax.set_xticks([1.0,0.8,0.6,0.4,0.2])\n",
    "        \n",
    "    fig.tight_layout(rect=[0, 0.03, 1, 0.95])\n",
    "    "
   ]
  },
  {
   "attachments": {},
   "cell_type": "markdown",
   "id": "11f81e30-2774-4f5f-9bf9-8d28be6347d0",
   "metadata": {
    "id": "11f81e30-2774-4f5f-9bf9-8d28be6347d0",
    "tags": []
   },
   "source": [
    "## <font color='xkcd:orange'>**(OLD)**</font> <font color='xkcd:sage'>**Exploration**</font> - Evolution temporelle de quantités choisies"
   ]
  },
  {
   "cell_type": "code",
   "execution_count": null,
   "id": "571add14-b1c3-488b-9ec0-eae134b7afb0",
   "metadata": {
    "colab": {
     "referenced_widgets": [
      "62935df980704ac2a309b3d81428b098",
      "46567f7127224e09bb8940087ec32397",
      "c155a975a0ff4afcb2269da18d628088"
     ]
    },
    "collapsed": true,
    "id": "571add14-b1c3-488b-9ec0-eae134b7afb0",
    "jupyter": {
     "outputs_hidden": true,
     "source_hidden": true
    },
    "outputId": "175fc685-cfd9-4f2b-afc9-9d63a72f90eb",
    "tags": []
   },
   "outputs": [
    {
     "data": {
      "application/vnd.jupyter.widget-view+json": {
       "model_id": "c155a975a0ff4afcb2269da18d628088",
       "version_major": 2,
       "version_minor": 0
      },
      "text/plain": [
       "Canvas(toolbar=Toolbar(toolitems=[('Home', 'Reset original view', 'home', 'home'), ('Back', 'Back to previous …"
      ]
     },
     "metadata": {},
     "output_type": "display_data"
    }
   ],
   "source": [
    "plt.close('all')\n",
    "\n",
    "q_ar = [qprof_05_n0,qprof_15_n0]\n",
    "\n",
    "param_ar = ['VP','Phi00','Er','dErdr','RSpol','RSphi','dRSphidr','VT']\n",
    "\n",
    "param_ar = ['dRSpoldr']\n",
    "\n",
    "param_ar = ['VP']\n",
    "\n",
    "for ip,p in enumerate(param_ar):\n",
    "    fig = plt.figure(figsize=(6,4))\n",
    "    fig.suptitle(p)\n",
    "    ax1 = fig.add_subplot(111)\n",
    "    for iq,q in enumerate(q_ar):\n",
    "        \n",
    "        irhomin = (np.abs(q['rho'] - 0.49 )).argmin()\n",
    "        irhomax = (np.abs(q['rho'] - 0.51 )).argmin()\n",
    "\n",
    "        ax1.axhline(y=0,c='k',ls='--')\n",
    "        \n",
    "        ax1.set_title(r'avg $%.2f < \\rho < %.2f$' % (q['rho'][irhomin],q['rho'][irhomax]))\n",
    "\n",
    "        ax1.plot(q['time'][:-1], np.mean(q[p][:,irhomin:irhomax],axis=1), c=q['c'],label=q['title'],ls=q['ls'])\n",
    "        ax1.set_xlabel(r'$\\omega_{c0} t$')\n",
    "        ax1.ticklabel_format(axis='x',scilimits=(3,3),useMathText=True,useOffset=1)\n",
    "        ax1.legend()\n",
    "    #ax1.set_xlim(right=70e3)"
   ]
  },
  {
   "cell_type": "markdown",
   "id": "cb8c715f-1102-429d-a93b-9674a02f8d3c",
   "metadata": {
    "id": "cb8c715f-1102-429d-a93b-9674a02f8d3c"
   },
   "source": [
    "## <font color='xkcd:sage'>**Exploration**</font> - Etude complète d'une quantité donnée dans l'espace réel"
   ]
  },
  {
   "cell_type": "code",
   "execution_count": 4,
   "id": "42778907-184d-4526-9dd4-7da03b4a4a6a",
   "metadata": {
    "colab": {
     "referenced_widgets": [
      "c1aaf8a5993a4245a6e5542d8be96071"
     ]
    },
    "collapsed": true,
    "id": "42778907-184d-4526-9dd4-7da03b4a4a6a",
    "jupyter": {
     "outputs_hidden": true,
     "source_hidden": true
    },
    "outputId": "f810bb76-ec45-4f95-a7b0-50637dcb8e31",
    "tags": []
   },
   "outputs": [
    {
     "data": {
      "application/vnd.jupyter.widget-view+json": {
       "model_id": "5be9d2ffee32480daf1c5e144da1442f",
       "version_major": 2,
       "version_minor": 0
      },
      "text/plain": [
       "interactive(children=(IntSlider(value=1, description='N', min=1), Text(value='Er', description='Select paramet…"
      ]
     },
     "metadata": {},
     "output_type": "display_data"
    },
    {
     "data": {
      "text/plain": [
       "<function __main__.update_plot(N, param, float_range_time, float_range_rho, q05_bool, q1_bool, q15_bool, q05n0_bool, q15n0_bool, q05new_bool, colormap_range, dpi_adjust, symetrical_cmap, q05br_bool, q075br_bool, q15br_bool)>"
      ]
     },
     "execution_count": 4,
     "metadata": {},
     "output_type": "execute_result"
    }
   ],
   "source": [
    "plt.close('all')\n",
    "\n",
    "def update_plot(N,param,float_range_time,float_range_rho,\n",
    "               q05_bool,q1_bool,q15_bool,q05n0_bool,q15n0_bool,q05new_bool,\n",
    "               colormap_range,dpi_adjust, symetrical_cmap,\n",
    "               q05br_bool,q075br_bool, q15br_bool):\n",
    "    \n",
    "    q_ar = [qprof for qprof, qprof_bool in zip(all_sim, [q05_bool,q1_bool,q15_bool,q05n0_bool,q15n0_bool,q05new_bool,q05br_bool,q075br_bool,q15br_bool]) if qprof_bool]\n",
    "    \n",
    "    tmin_avg,tmax_avg = float_range_time\n",
    "    rhomin_avg,rhomax_avg = float_range_rho\n",
    "\n",
    "    fig = plt.figure(figsize=(16,10))\n",
    "\n",
    "    ## Set dpi of figure\n",
    "    fig.set_dpi(dpi_adjust)\n",
    "\n",
    "    ## Clear previous plot\n",
    "    for axes in fig.axes: axes.clear()\n",
    "    \n",
    "    fig.suptitle(r'Study of %s' %param)\n",
    "\n",
    "    Pmap = uniform_filter1d(uniform_filter1d(qprof_05[param],size=N,axis=1),size=N,axis=1)\n",
    "    if symetrical_cmap:\n",
    "        vmin = colormap_range*min( abs( np.min(Pmap) ), abs( np.max(Pmap) ) ) \n",
    "        vmax = -vmin\n",
    "    else:\n",
    "        vmin = colormap_range*np.min(Pmap) \n",
    "        vmax = colormap_range*np.max(Pmap) \n",
    "\n",
    "    gs = gridspec.GridSpec(3, 2*len(q_ar))\n",
    "    \n",
    "    for iq,q in enumerate(q_ar):\n",
    "\n",
    "        irhomin = (np.abs(q['rho'] - 0.0 )).argmin()\n",
    "        irhomax = (np.abs(q['rho'] - 0.9 )).argmin()\n",
    "\n",
    "        itmin = (np.abs(q['time'] - 0e3  )).argmin()\n",
    "        itmax = (np.abs(q['time'] - 150e3 )).argmin()\n",
    "\n",
    "        p_ma = uniform_filter1d(uniform_filter1d(q[param],size=N,axis=1),size=N,axis=1)\n",
    "        \n",
    "        ## Figure 1\n",
    "        ax_map = fig.add_subplot(gs[0:2, 2*iq:2*iq+2]) \n",
    "\n",
    "        ax_map.set_title(q['title'])\n",
    "        p=ax_map.pcolormesh(q['rho'][irhomin:irhomax],q['time'][itmin:itmax],p_ma[itmin:itmax,irhomin:irhomax],vmin=vmin,vmax=vmax)\n",
    "        fig.colorbar(p,ax=ax_map)\n",
    "        fig.tight_layout()\n",
    "        ax_map.set_xlabel(r'$r/a$')\n",
    "        ax_map.set_ylabel(r'Time $[\\omega_{c0}^{-1}]$')\n",
    "\n",
    "        ax_map.axvline(x=1,c='k',ls='--')\n",
    "        for rline in [0.8,0.6,0.4,0.2]:ax_map.axvline(x=rline,c='k',ls='--')\n",
    "        ax_map.set_xticks([1.0,0.8,0.6,0.4,0.2])\n",
    "        \n",
    "        ax_map.axvline(x=rhomin_avg,c='xkcd:purple',ls='-',lw=3); ax_map.axvline(x=rhomax_avg,c='xkcd:purple',ls='-',lw=3)\n",
    "        ax_map.axhline(y=tmin_avg,c='r',ls='-',lw=3); ax_map.axhline(y=tmax_avg,c='r',ls='-',lw=3)\n",
    "        \n",
    "        ax_map.plot(q['rho'][10:10+N],np.ones(N)*ax_map.get_ylim()[1]/4,c='xkcd:battleship grey',lw=5) #Visualize the sliding average window\n",
    "\n",
    "        ##Figure 2\n",
    "        itmin_avg = (np.abs(q['time'] - tmin_avg )).argmin()\n",
    "        itmax_avg = (np.abs(q['time'] - tmax_avg )).argmin()\n",
    "\n",
    "        ax_rprof = fig.add_subplot(gs[2:, 0:len(q_ar)]) \n",
    "        ax_rprof.set_title(r'Radial profile (avg %.0f < t$[\\omega_{c0}^{-1}]$ < %.0f)' % (tmin_avg , tmax_avg) )\n",
    "        ax_rprof.plot(q['rho'][irhomin:irhomax], np.mean( p_ma[itmin_avg:itmax_avg,irhomin:irhomax],axis=0),ls=q['ls'],c=q['c'],label=q['title'])\n",
    "        ax_rprof.set_xlabel(r'$r/a$')\n",
    "        ax_rprof.axhline(y=0,c='k',ls='--')\n",
    "        ax_rprof.legend()\n",
    "        \n",
    "        irhomin_avg = (np.abs(q['rho'] - rhomin_avg )).argmin()\n",
    "        irhomax_avg = (np.abs(q['rho'] - rhomax_avg )).argmin()\n",
    "\n",
    "        ax_tevol = fig.add_subplot(gs[2:, len(q_ar):]) \n",
    "        ax_tevol.set_title(r'Temporal evolution (avg %.2f < r/a < %.2f)' % (rhomin_avg , rhomax_avg) )\n",
    "        ax_tevol.plot(q['time'][itmin:itmax], np.mean(p_ma[itmin:itmax,irhomin_avg:irhomax_avg],axis=1),ls=q['ls'],c=q['c'],label=q['title'])\n",
    "        ax_tevol.set_xlabel(r'Time $[\\omega_{c0}^{-1}]$')\n",
    "        ax_tevol.axhline(y=0,c='k',ls='--')\n",
    "        ax_tevol.legend()\n",
    "\n",
    "    fig.tight_layout(rect=[0, 0.03, 1, 0.95])\n",
    "    \n",
    "float_range_time_slider = widgets.FloatRangeSlider(value=[100e3, 145e3], min=0, max=150e3, step=1000, description='Time range', layout=Layout(width='50%'), style = {'description_width': 'initial'})\n",
    "float_range_rho_slider = widgets.FloatRangeSlider(value=[0.8, 0.9], min=0, max=1.2, step=0.05, description='Normalized radius range', layout=Layout(width='50%'), style = {'description_width': 'initial'})\n",
    "    \n",
    "interact(update_plot, \n",
    "         N=widgets.IntSlider(min=1, max=100, step=1,value=1),\n",
    "         float_range_time=float_range_time_slider,\n",
    "         float_range_rho=float_range_rho_slider,\n",
    "         colormap_range=widgets.FloatSlider(min=0.1, max=2, step=0.01,value=0.8),\n",
    "         symetrical_cmap = widgets.Checkbox(value=False,description='symetrical_cmap'),\n",
    "         dpi_adjust=widgets.FloatSlider(min=30, max=100, step=1,value=dpi_custom),\n",
    "         param = widgets.Text(value='Er',placeholder='Type something',description='Select parameter:',disabled=False),\n",
    "         q05_bool    = widgets.Checkbox(value=True,description='q05'),\n",
    "         q1_bool     = widgets.Checkbox(value=False,description='q1'),\n",
    "         q15_bool    = widgets.Checkbox(value=True,description='q15'),\n",
    "         q05n0_bool  = widgets.Checkbox(value=False,description='q05n0'),\n",
    "         q15n0_bool  = widgets.Checkbox(value=False,description='q15n0'),\n",
    "         q05new_bool = widgets.Checkbox(value=False,description='q05new'),\n",
    "         q05br_bool = widgets.Checkbox(value=False,description='q05br'),\n",
    "         q075br_bool = widgets.Checkbox(value=False,description='q075br'),\n",
    "         q15br_bool = widgets.Checkbox(value=False,description='q15br')\n",
    "        )"
   ]
  },
  {
   "cell_type": "markdown",
   "id": "c1652071-d943-4038-b5d3-d2648f958e6e",
   "metadata": {
    "id": "c1652071-d943-4038-b5d3-d2648f958e6e",
    "jupyter": {
     "source_hidden": true
    },
    "tags": []
   },
   "source": [
    "## <font color='xkcd:sage'>**Exploration**</font> - Etude dans l'espace des fréquences\n",
    "<font color='red'> /!\\ </font> La fréquence théorique des GAMs est calculée comme $f_{theo} = \\frac{2}{R_0} \\sqrt{ \\frac{5}{3} \\frac{T}{m}  \\left(1 + \\frac{1}{2q^2} \\right)} \\color{red}{\\frac{1}{2 \\pi}}$ \n",
    "En effet, je suspecte que la formule théorique donne la pulsation que tout le monde appelle fréquence par abus de language\n",
    "\n",
    "<font color='red'> /!\\ </font> Les spectres sont calculés avec des moyennes radiales, de cette façon :\n",
    "- [ ] $\\huge TF[\\langle s(r,t) \\rangle_{r1}^{r2}] $\n",
    "- [x] $\\huge \\langle  TF[ s(r,t) ] \\rangle_{r1}^{r2}$\n",
    "\n",
    "PS: les deux sont définis dans le code ci-dessous en tant que \"fspectra_1\" et \"fspectra_2\" respectivement."
   ]
  },
  {
   "cell_type": "code",
   "execution_count": 7,
   "id": "0bd8c72f-d8f3-441d-bf05-dc7442674749",
   "metadata": {
    "colab": {
     "referenced_widgets": [
      "5b7855046e1d4f5d9ac92e2694af779b"
     ]
    },
    "collapsed": true,
    "id": "0bd8c72f-d8f3-441d-bf05-dc7442674749",
    "jupyter": {
     "outputs_hidden": true,
     "source_hidden": true
    },
    "outputId": "117f8d31-75c2-46c2-9bb7-b867458a3503",
    "tags": []
   },
   "outputs": [
    {
     "data": {
      "application/vnd.jupyter.widget-view+json": {
       "model_id": "a42045971fd4416e9a65ffda37740fc6",
       "version_major": 2,
       "version_minor": 0
      },
      "text/plain": [
       "interactive(children=(IntSlider(value=1, description='N', min=1), FloatSlider(value=0.8, description='colormap…"
      ]
     },
     "metadata": {},
     "output_type": "display_data"
    },
    {
     "data": {
      "text/plain": [
       "<function __main__.update_plot(N, colormap_range, dpi_adjust, param, float_range_time, float_range_rho, q05_bool, q1_bool, q15_bool, q05n0_bool, q15n0_bool, q05new_bool, q05br_bool, DFTradial_avg1_bool, DFTradial_avg2_bool, show_omega_theo)>"
      ]
     },
     "execution_count": 7,
     "metadata": {},
     "output_type": "execute_result"
    }
   ],
   "source": [
    "plt.close('all')\n",
    "import matplotlib.colors as colors\n",
    "from scipy.signal import welch\n",
    "\n",
    "symetrical_cmap = 0\n",
    "\n",
    "def update_plot(N,colormap_range,dpi_adjust,param,float_range_time,float_range_rho,\n",
    "               q05_bool,q1_bool,q15_bool,q05n0_bool,q15n0_bool,q05new_bool,q05br_bool,\n",
    "               DFTradial_avg1_bool, DFTradial_avg2_bool, show_omega_theo):\n",
    "    tmin_avg,tmax_avg = float_range_time\n",
    "    rhomin_avg,rhomax_avg = float_range_rho\n",
    "    \n",
    "    q_ar = [qprof for qprof, qprof_bool in zip(all_sim, [q05_bool,q1_bool,q15_bool,q05n0_bool,q15n0_bool,q05new_bool,q05br_bool]) if qprof_bool]\n",
    "    \n",
    "    plt.close('all')\n",
    "    \n",
    "    fig = plt.figure(figsize=(16,10), dpi=dpi_adjust)\n",
    "    fig.suptitle(r'Study of %s' %param)\n",
    "\n",
    "    Pmap = uniform_filter1d(uniform_filter1d(qprof_05[param],size=N,axis=1),size=N,axis=1)\n",
    "    if symetrical_cmap:\n",
    "        vmin = colormap_range*min( abs( np.min(Pmap) ), abs( np.max(Pmap) ) ) \n",
    "        vmax = -vmin\n",
    "    else:\n",
    "        vmin = colormap_range*np.min(Pmap) \n",
    "        vmax = colormap_range*np.max(Pmap) \n",
    "\n",
    "    gs = gridspec.GridSpec(5, 2*len(q_ar))\n",
    "    \n",
    "    for iq,q in enumerate(q_ar):\n",
    "\n",
    "        irhomin = (np.abs(q['rho'] - 0.0 )).argmin()\n",
    "        irhomax = (np.abs(q['rho'] - 1.1 )).argmin()\n",
    "\n",
    "        itmin = (np.abs(q['time'] - 0e3  )).argmin()\n",
    "        itmax = (np.abs(q['time'] - 90e3 )).argmin()\n",
    "\n",
    "        p_ma = uniform_filter1d(uniform_filter1d(q[param],size=N,axis=1),size=N,axis=1)\n",
    "        \n",
    "        ## Figure 1\n",
    "        ax_map = fig.add_subplot(gs[0:3, 2*iq:2*iq+2]) \n",
    "\n",
    "        ax_map.set_title(q['title'])\n",
    "        p=ax_map.pcolormesh(q['rho'][irhomin:irhomax],q['time'][itmin:itmax],p_ma[itmin:itmax,irhomin:irhomax],vmin=vmin,vmax=vmax)\n",
    "        fig.colorbar(p,ax=ax_map)\n",
    "        fig.tight_layout()\n",
    "        ax_map.set_xlabel(r'$r/a$')\n",
    "        ax_map.set_ylabel(r'Time $[\\omega_{c0}^{-1}]$')\n",
    "\n",
    "        ax_map.axvline(x=1,c='k',ls='--')\n",
    "        for rline in [0.8,0.6,0.4,0.2]:ax_map.axvline(x=rline,c='k',ls='--')\n",
    "        ax_map.set_xticks([1.0,0.8,0.6,0.4,0.2])\n",
    "        \n",
    "        ax_map.axvline(x=rhomin_avg,c='g',ls='-')\n",
    "        ax_map.axvline(x=rhomax_avg,c='g',ls='-')\n",
    "        \n",
    "        ax_map.axhline(y=tmin_avg,c='r',ls='-')\n",
    "        ax_map.axhline(y=tmax_avg,c='r',ls='-')\n",
    "        \n",
    "        ax_map.plot(q['rho'][10:10+N],np.ones(N)*ax_map.get_ylim()[1]/4,c='xkcd:battleship grey',lw=5) #Visualisation de la fenêtre de la moyenne glissante\n",
    "\n",
    "        \n",
    "        ##Figure 2\n",
    "        itmin_avg = (np.abs(q['time'] - tmin_avg )).argmin()\n",
    "        itmax_avg = (np.abs(q['time'] - tmax_avg )).argmin()\n",
    "\n",
    "        irhomin_avg = (np.abs(q['rho'] - rhomin_avg )).argmin()\n",
    "        irhomax_avg = (np.abs(q['rho'] - rhomax_avg )).argmin()\n",
    "        \n",
    "        #Perform fft\n",
    "        dt_diag = q['time'][-1]-q['time'][-2]\n",
    "        fspectra_1 = np.fft.rfft(np.mean(p_ma[itmin_avg:itmax_avg,irhomin_avg:irhomax_avg],axis=1), axis=0) / (itmax_avg-itmin_avg)\n",
    "        fspectra_2 = np.fft.rfft(p_ma[itmin_avg:itmax_avg,:], axis=0) / (itmin_avg-itmax_avg)\n",
    "        w = np.fft.rfftfreq(itmax_avg-itmin_avg, d=dt_diag)\n",
    "        \n",
    "        #Try with Welsh\n",
    "        #f_welsh, spectra_welsh = welch(np.mean(p_ma[itmin_avg:itmax_avg,irhomin_avg:irhomax_avg],axis=1), fs=1/dt_diag, nperseg=100, window='hamming', axis=0)\n",
    "\n",
    "        #Comparaison avec la fonction implémentée dans GYSELA\n",
    "        #fspectra_GYS, w_GYS = Fourier1D( p_ma[itmin_avg:itmax_avg,:], q['time'][itmin_avg:itmax_avg],axis=0)\n",
    "        \n",
    "        ax_fspectra = fig.add_subplot(gs[3:, 0:len(q_ar)]) \n",
    "        ax_fspectra.set_title(r'Fourier amplitude (avg %.2f < r/a < %.2f)' % (rhomin_avg , rhomax_avg) )\n",
    "        if DFTradial_avg1_bool:ax_fspectra.semilogy(w,np.abs(fspectra_1),c=q['c'],label=q['title'],ls='--') #Pour fspectra_1\n",
    "        #ax_fspectra.semilogy(f_welsh,np.abs(spectra_welsh)/(itmax_avg-itmin_avg),c=q['c'],label=q['title'],ls='--') #Pour Welsh\n",
    "        if DFTradial_avg2_bool:ax_fspectra.semilogy(w,np.mean(np.abs(fspectra_2[:,irhomin_avg:irhomax_avg]),axis=1),ls='-',c=q['c'],label=q['title']) #Pour fspectra_2\n",
    "        #ax_fspectra.semilogy(w_GYS/(2*np.pi),np.mean(np.abs(fspectra_GYS[:,irhomin_avg:irhomax_avg]),axis=1),ls='--',c=q['c'],label=q['title']) #Pour comparer avec la fonction native dans les diags GYSELA\n",
    "        ax_fspectra.set_xlabel(r'$\\omega [\\omega_{c0}]$')\n",
    "        ax_fspectra.legend(fontsize=14)\n",
    "        \n",
    "        #Fréquence GAM théorique\n",
    "        if show_omega_theo:\n",
    "            omega_theo = np.mean( np.mean( (2*np.sqrt(q['T'] * (5/3) *(1 + (1/(2*q['q']**2) ) )) /800)[itmin_avg:itmax_avg] ,axis=0)[irhomax_avg-1:irhomax_avg] ) / (2 * np.pi)\n",
    "            ax_fspectra.axvline(x=omega_theo,c=q['c'],ls='--')\n",
    "        \n",
    "        ax_fphase = fig.add_subplot(gs[3:, len(q_ar):]) \n",
    "        ax_fphase.set_title(r'Fourier phase (avg %.2f < r/a < %.2f)' % (rhomin_avg , rhomax_avg) )\n",
    "        if DFTradial_avg1_bool:ax_fphase.plot(np.sort(w), np.angle(fspectra_1),ls='--',c=q['c'],label=q['title']) #Pour fspectra_1\n",
    "        if DFTradial_avg2_bool:ax_fphase.plot(np.sort(w), np.mean(np.angle(fspectra_2[:,irhomin_avg:irhomax_avg]),axis=1),ls='-',c=q['c'],label=q['title']) #Pour fspectra_2\n",
    "        ax_fphase.set_xlabel(r'$\\omega [\\omega_{c0}]$')\n",
    "        ax_fphase.axhline(y=0,ls='--',c='k')\n",
    "        ax_fphase.legend(fontsize=16)\n",
    "\n",
    "    fig.tight_layout(rect=[0, 0.03, 1, 0.95])\n",
    "\n",
    "float_range_time_slider = widgets.FloatRangeSlider(value=[50e3, 90e3], min=0, max=150e3, step=1000, description='Time range', layout=Layout(width='50%'), style = {'description_width': 'initial'})\n",
    "    \n",
    "float_range_rho_slider = widgets.FloatRangeSlider(value=[0.84, 0.86], min=0, max=1.2, step=0.01, description='Normalized radius range', layout=Layout(width='50%'), style = {'description_width': 'initial'})\n",
    "    \n",
    "interact(update_plot, \n",
    "         N=widgets.IntSlider(min=1, max=100, step=1,value=1),\n",
    "         float_range_time=float_range_time_slider,\n",
    "         float_range_rho=float_range_rho_slider,\n",
    "         colormap_range=widgets.FloatSlider(min=0.1, max=2, step=0.05,value=0.8),\n",
    "         dpi_adjust=widgets.FloatSlider(min=30, max=100, step=1,value=dpi_custom),\n",
    "         param = widgets.Text(value='Ptransfert',placeholder='Type something',description='Select parameter:',disabled=False),\n",
    "         q05_bool    = widgets.Checkbox(value=True,description='q05'),\n",
    "         q1_bool     = widgets.Checkbox(value=False,description='q1'),\n",
    "         q15_bool    = widgets.Checkbox(value=True,description='q15'),\n",
    "         q05n0_bool  = widgets.Checkbox(value=False,description='q05n0'),\n",
    "         q15n0_bool  = widgets.Checkbox(value=False,description='q15n0'),\n",
    "         q05new_bool = widgets.Checkbox(value=False,description='q05new'),\n",
    "         q05br_bool  = widgets.Checkbox(value=False,description='q05br'),\n",
    "         DFTradial_avg1_bool = widgets.Checkbox(value=False,description='Display fspectra_1'),\n",
    "         DFTradial_avg2_bool = widgets.Checkbox(value=True,description='Display fspectra_2'),\n",
    "         show_omega_theo = widgets.Checkbox(value=False,description=r'Display $\\omega_{theo}$')\n",
    "        )"
   ]
  },
  {
   "cell_type": "markdown",
   "id": "a0260f46-0cda-4268-b0da-7a93156556f5",
   "metadata": {},
   "source": [
    "## <font color='xkcd:sage'>**Exploration**</font> - Densité spectrale de puissance\n",
    "\n",
    "La DPS est calculée comme $ PSD(x) = 2 \\frac{ |X(\\omega)|^2 }{ N } \\Delta T $ où $N$ est le nombre d'échantillons temporels (le facteur 2 vient du fait qu'on considère le nombre de points $N_f=N/2$ dans le domaine spectral).\n",
    "\n",
    "Ce calcul donne exactement le même résultat que la fonction *periodogram* de *scipy.signal* ... sauf pour la fréquence nulle."
   ]
  },
  {
   "cell_type": "code",
   "execution_count": null,
   "id": "28430aa3-fa1c-4b75-83c6-4d7a72dc3460",
   "metadata": {
    "collapsed": true,
    "jupyter": {
     "outputs_hidden": true
    },
    "tags": []
   },
   "outputs": [
    {
     "data": {
      "application/vnd.jupyter.widget-view+json": {
       "model_id": "4325a81f897140ce8bfb074cd891fc7d",
       "version_major": 2,
       "version_minor": 0
      },
      "text/plain": [
       "interactive(children=(IntSlider(value=1, description='N', min=1), FloatSlider(value=0.8, description='colormap…"
      ]
     },
     "metadata": {},
     "output_type": "display_data"
    },
    {
     "data": {
      "text/plain": [
       "<function __main__.update_plot(N, colormap_range, dpi_adjust, param, float_range_time, float_range_rho, q05_bool, q1_bool, q15_bool, q05n0_bool, q15n0_bool, q05new_bool, q05br_bool, q075br_bool, q15br_bool, mode)>"
      ]
     },
     "execution_count": 7,
     "metadata": {},
     "output_type": "execute_result"
    },
    {
     "name": "stderr",
     "output_type": "stream",
     "text": [
      "No such comm: 0b63101220b04852a869a86b2f8e04bb\n",
      "No such comm: 0b63101220b04852a869a86b2f8e04bb\n",
      "No such comm: 0b63101220b04852a869a86b2f8e04bb\n",
      "No such comm: 0b63101220b04852a869a86b2f8e04bb\n"
     ]
    },
    {
     "name": "stderr",
     "output_type": "stream",
     "text": [
      "No such comm: dc36c2fe6b2e4dd2b167a968d21aa843\n",
      "No such comm: dc36c2fe6b2e4dd2b167a968d21aa843\n",
      "No such comm: dc36c2fe6b2e4dd2b167a968d21aa843\n",
      "No such comm: dc36c2fe6b2e4dd2b167a968d21aa843\n",
      "No such comm: b43c67534c1242b895756f6043fe87fd\n",
      "No such comm: b43c67534c1242b895756f6043fe87fd\n",
      "No such comm: b43c67534c1242b895756f6043fe87fd\n",
      "No such comm: b43c67534c1242b895756f6043fe87fd\n"
     ]
    }
   ],
   "source": [
    "plt.close('all')\n",
    "import matplotlib.colors as colors\n",
    "import scipy.signal\n",
    "from scipy.signal import welch\n",
    "\n",
    "\n",
    "symetrical_cmap = 0\n",
    "def update_plot(N,colormap_range,dpi_adjust,param,float_range_time,float_range_rho,\n",
    "               q05_bool,q1_bool,q15_bool,q05n0_bool,q15n0_bool,q05new_bool,\n",
    "               q05br_bool,q075br_bool,q15br_bool,\n",
    "               mode):#Nwelsh, overlap_factor):\n",
    "    \n",
    "    tmin_avg,tmax_avg = float_range_time\n",
    "    rhomin_avg,rhomax_avg = float_range_rho\n",
    "    \n",
    "    q_ar = [qprof for qprof, qprof_bool in zip(all_sim, [q05_bool,q1_bool,q15_bool,q05n0_bool,q15n0_bool,q05new_bool,q05br_bool,q075br_bool,q15br_bool]) if qprof_bool]\n",
    "    \n",
    "    plt.close('all')\n",
    "    \n",
    "    fig = plt.figure(figsize=(16,10), dpi=dpi_adjust)\n",
    "    fig.suptitle(r'Study of %s' %param)\n",
    "\n",
    "    Pmap = uniform_filter1d(uniform_filter1d(qprof_05[param],size=N,axis=1),size=N,axis=1)\n",
    "    if symetrical_cmap:\n",
    "        vmin = colormap_range*min( abs( np.min(Pmap) ), abs( np.max(Pmap) ) ) \n",
    "        vmax = -vmin\n",
    "    else:\n",
    "        vmin = colormap_range*np.min(Pmap) \n",
    "        vmax = colormap_range*np.max(Pmap) \n",
    "\n",
    "    gs = gridspec.GridSpec(5, 2*len(q_ar))\n",
    "    \n",
    "    for iq,q in enumerate(q_ar):\n",
    "\n",
    "        irhomin = (np.abs(q['rho'] - 0.0 )).argmin()\n",
    "        irhomax = (np.abs(q['rho'] - 1.1 )).argmin()\n",
    "\n",
    "        itmin = (np.abs(q['time'] - 0e3  )).argmin()\n",
    "        itmax = (np.abs(q['time'] - 145e3 )).argmin()\n",
    "\n",
    "        p_ma = uniform_filter1d(uniform_filter1d(q[param],size=N,axis=1),size=N,axis=1)\n",
    "        \n",
    "        ## Figure 1\n",
    "        ax_map = fig.add_subplot(gs[0:3, 2*iq:2*iq+2]) \n",
    "\n",
    "        ax_map.set_title(q['title'])\n",
    "        p=ax_map.pcolormesh(q['rho'][irhomin:irhomax],q['time'][itmin:itmax],p_ma[itmin:itmax,irhomin:irhomax],vmin=vmin,vmax=vmax)\n",
    "        fig.colorbar(p,ax=ax_map)\n",
    "        fig.tight_layout()\n",
    "        ax_map.set_xlabel(r'$r/a$')\n",
    "        ax_map.set_ylabel(r'Time $[\\omega_{c0}^{-1}]$')\n",
    "\n",
    "        ax_map.axvline(x=1,c='k',ls='--')\n",
    "        for rline in [0.8,0.6,0.4,0.2]:ax_map.axvline(x=rline,c='k',ls='--')\n",
    "        ax_map.set_xticks([1.0,0.8,0.6,0.4,0.2])\n",
    "        \n",
    "        ax_map.axvline(x=rhomin_avg,c='g',ls='-')\n",
    "        ax_map.axvline(x=rhomax_avg,c='g',ls='-')\n",
    "        \n",
    "        ax_map.axhline(y=tmin_avg,c='r',ls='-')\n",
    "        ax_map.axhline(y=tmax_avg,c='r',ls='-')\n",
    "        \n",
    "        ax_map.plot(q['rho'][10:10+N],np.ones(N)*ax_map.get_ylim()[1]/4,c='xkcd:battleship grey',lw=5) #Visualisation de la fenêtre de la moyenne glissante\n",
    "\n",
    "        \n",
    "        ##Figure 2\n",
    "        itmin_avg = (np.abs(q['time'] - tmin_avg )).argmin()\n",
    "        itmax_avg = (np.abs(q['time'] - tmax_avg )).argmin()\n",
    "\n",
    "        irhomin_avg = (np.abs(q['rho'] - rhomin_avg )).argmin()\n",
    "        irhomax_avg = (np.abs(q['rho'] - rhomax_avg )).argmin()\n",
    "        \n",
    "        #Perform fft\n",
    "        dt_diag = q['time'][-1]-q['time'][-2]\n",
    "        fspectra = np.fft.rfft(p_ma[itmin_avg:itmax_avg,:], axis=0) / (itmax_avg-itmin_avg)\n",
    "        w = np.fft.rfftfreq(itmax_avg-itmin_avg, d=dt_diag)\n",
    "        \n",
    "        f_DSP, DSP = scipy.signal.periodogram(p_ma[itmin_avg:itmax_avg,:], 1/dt_diag, scaling='density', axis=0)\n",
    "        \n",
    "        #Welsh\n",
    "        #print(Nwelsh)\n",
    "        #print(Nwelsh*overlap_factor)\n",
    "        #f_welsh, spectra_welsh = welch(p_ma[itmin_avg:itmax_avg,:], fs=1/dt_diag, nperseg=Nwelsh, noverlap=int(Nwelsh*overlap_factor), window='hann', scaling='density', axis=0)\n",
    "        \n",
    "        ax_fspectra = fig.add_subplot(gs[3:, 0:len(q_ar)]) \n",
    "        ax_fspectra.set_title(r'Fourier amplitude (avg %.2f < r/a < %.2f)' % (rhomin_avg , rhomax_avg) )\n",
    "        #ax_fspectra.semilogy(f_DSP,np.mean(DSP[:,irhomin_avg:irhomax_avg],axis=1),c=q['c'],label=q['title'],ls='-') #nécéssite peut être une normalisation par (itmax_avg-itmin_avg)\n",
    "        ax_fspectra.semilogy(w,2*np.mean(np.abs(fspectra[:,irhomin_avg:irhomax_avg])**2 * ((itmax_avg-itmin_avg)*dt_diag),axis=1),c=q['c'],label=q['title'],ls='-')\n",
    "        #ax_fspectra.semilogy(f_welsh,np.mean(np.abs(spectra_welsh[:,irhomin_avg:irhomax_avg]),axis=1),c=q['c'],label=q['title'],ls='--') #Pour Welsh, nécéssite peut être une normalisation par (itmax_avg-itmin_avg)\n",
    "        ax_fspectra.set_xlabel(r'$\\omega [\\omega_{c0}]$')\n",
    "        ax_fspectra.legend(fontsize=14)\n",
    "        ax_fspectra.axvline(x=w[mode], ls='--', c='g')\n",
    "\n",
    "        irholimmin = (np.abs(q['rho'] - 0.5 )).argmin()\n",
    "        irholimmax = (np.abs(q['rho'] - 1 )).argmin()\n",
    "        ax_rprof = fig.add_subplot(gs[3:, len(q_ar):]) \n",
    "        ax_rprof.set_title(r'Profile of $\\omega = %.2e [\\omega_{c0}^1]$ component' % w[mode])\n",
    "        ax_rprof.semilogy(q['rho'][irholimmin:irholimmax], \n",
    "                      2*np.abs(fspectra[mode,irholimmin:irholimmax])**2 * ((itmax_avg-itmin_avg)*dt_diag), c=q['c']\n",
    "                     )\n",
    "        \n",
    "    fig.tight_layout(rect=[0, 0.03, 1, 0.95])\n",
    "\n",
    "float_range_time_slider = widgets.FloatRangeSlider(value=[100e3, 145e3], min=0, max=150e3, step=1000, description='Time range', layout=Layout(width='50%'), style = {'description_width': 'initial'})\n",
    "\n",
    "float_range_rho_slider = widgets.FloatRangeSlider(value=[0.84, 0.86], min=0, max=1.2, step=0.01, description='Normalized radius range', layout=Layout(width='50%'), style = {'description_width': 'initial'})\n",
    "    \n",
    "interact(update_plot, \n",
    "         N=widgets.IntSlider(min=1, max=100, step=1,value=1),\n",
    "         mode=widgets.IntSlider(min=0, max=50, step=1,value=0),\n",
    "         #Nwelsh=widgets.IntSlider(min=1, max=1000, step=1,value=2),\n",
    "         overlap_factor=widgets.FloatSlider(min=0, max=1, step=0.05,value=0.8),\n",
    "         float_range_time=float_range_time_slider,\n",
    "         float_range_rho=float_range_rho_slider,\n",
    "         colormap_range=widgets.FloatSlider(min=0.1, max=2, step=0.05,value=0.8),\n",
    "         dpi_adjust=widgets.FloatSlider(min=30, max=100, step=1,value=dpi_custom),\n",
    "         param = widgets.Text(value='Ptransfert',placeholder='Type something',description='Select parameter:',disabled=False),\n",
    "         q05_bool    = widgets.Checkbox(value=True,description='q05'),\n",
    "         q1_bool     = widgets.Checkbox(value=False,description='q1'),\n",
    "         q15_bool    = widgets.Checkbox(value=True,description='q15'),\n",
    "         q05n0_bool  = widgets.Checkbox(value=False,description='q05n0'),\n",
    "         q15n0_bool  = widgets.Checkbox(value=False,description='q15n0'),\n",
    "         q05new_bool = widgets.Checkbox(value=False,description='q05new'),\n",
    "         q05br_bool  = widgets.Checkbox(value=False,description='q05br'),\n",
    "         q075br_bool = widgets.Checkbox(value=False,description='q075br'),\n",
    "         q15br_bool  = widgets.Checkbox(value=False,description='q15br'),\n",
    "         show_omega_theo = widgets.Checkbox(value=False,description=r'Display $\\omega_{theo}$')\n",
    "        )"
   ]
  },
  {
   "cell_type": "markdown",
   "id": "dd54a80b-1290-4460-bbff-3f9f4a7814e5",
   "metadata": {},
   "source": [
    "## <font color='xkcd:sage'>**Exploration**</font> - Cross corrélation en temps\n",
    "ps: un time-lag $\\tau$ négatif veut dire que \"signal2\" précède \"signal1\" de $\\tau$"
   ]
  },
  {
   "cell_type": "code",
   "execution_count": 22,
   "id": "a28480cc-d677-4af2-8e30-32c3b5c65408",
   "metadata": {
    "tags": []
   },
   "outputs": [
    {
     "data": {
      "application/vnd.jupyter.widget-view+json": {
       "model_id": "12f30560fb844eb7b83f4c4b2bcd03a5",
       "version_major": 2,
       "version_minor": 0
      },
      "text/plain": [
       "interactive(children=(IntSlider(value=1, description='N1', max=200, min=1), IntSlider(value=1, description='N2…"
      ]
     },
     "metadata": {},
     "output_type": "display_data"
    },
    {
     "data": {
      "text/plain": [
       "<function __main__.update_plot(N1, N2, float_range_rho, dpi_adjust, float_range_time, q05_bool, q1_bool, q15_bool, q05n0_bool, q15n0_bool, q05new_bool, qgdp_bool, signal1, signal2)>"
      ]
     },
     "execution_count": 22,
     "metadata": {},
     "output_type": "execute_result"
    }
   ],
   "source": [
    "from mpl_toolkits.axes_grid1.inset_locator import inset_axes\n",
    "\n",
    "def extract_fluctuations(signal2D):\n",
    "    return signal2D - np.mean(signal2D,axis=0)\n",
    "\n",
    "def update_plot(N1,N2,float_range_rho,dpi_adjust,float_range_time,\n",
    "               q05_bool,q1_bool,q15_bool,q05n0_bool,q15n0_bool,q05new_bool,qgdp_bool,\n",
    "               signal1, signal2):\n",
    "    \n",
    "    q_ar = []\n",
    "    if q05_bool    : q_ar = np.append(q_ar,qprof_05)\n",
    "    if q1_bool     : q_ar = np.append(q_ar,qprof_1)\n",
    "    if q15_bool    : q_ar = np.append(q_ar,qprof_15)\n",
    "    if q05n0_bool  : q_ar = np.append(q_ar,qprof_05_n0)\n",
    "    if q15n0_bool  : q_ar = np.append(q_ar,qprof_15_n0)\n",
    "    if q05new_bool : q_ar = np.append(q_ar,qprof_05new)\n",
    "    if qgdp_bool   : q_ar = np.append(q_ar,qprof_gdp)\n",
    "    \n",
    "    tmin_avg,tmax_avg = float_range_time\n",
    "    \n",
    "    plt.close('all')\n",
    "    \n",
    "    fig = plt.figure(figsize=(11*len(q_ar),16), dpi=dpi_adjust)\n",
    "    fig.suptitle('Cross correlation between %s and %s' %(signal1,signal2))\n",
    "    \n",
    "    gs = gridspec.GridSpec(3,len(q_ar))\n",
    "    \n",
    "    ###############################\n",
    "    #Figure 3 layout - Cross correlation at a given radius\n",
    "    ###############################\n",
    "    ax_cc1D = fig.add_subplot(gs[2, :]) \n",
    "    ax_cc1D.set_ylim(-1.1,1.1)\n",
    "    ax_cc1D.axhline(y=0,c='k',ls='--'); ax_cc1D.axhline(y=1,c='gray',ls='--'); ax_cc1D.axhline(y=-1,c='gray',ls='--')\n",
    "    ax_cc1D.axvline(x=0,c='k',ls='--')\n",
    "    ax_cc1D.set_xlabel(r'Time lag $[\\omega_{c0}^{-1}]$')\n",
    "    \n",
    "    for iq,q in enumerate(q_ar):\n",
    "\n",
    "        itmin = (np.abs(q['time'] - tmin_avg )).argmin()//3*3\n",
    "        itmax = (np.abs(q['time'] - tmax_avg )).argmin()//3*3\n",
    "\n",
    "        irhomin = (np.abs(q['rho'] - 0.0 )).argmin()\n",
    "        irhomax = (np.abs(q['rho'] - 1.1 )).argmin()\n",
    "\n",
    "        itlim = itmax-itmin\n",
    "        itau_range = np.r_[-itlim//3:itlim//3]\n",
    "\n",
    "        tau_range = itau_range * (q['time'][1]-q['time'][0])\n",
    "\n",
    "        it_CC_range = np.r_[itlim//3:2*itlim//3]\n",
    "        Cfg = np.zeros( (irhomax-irhomin, 2*itlim//3 ) )\n",
    "        \n",
    "        signal1_ar = uniform_filter1d(uniform_filter1d(q[signal1],size=N1,axis=1),size=N1,axis=1)\n",
    "        signal2_ar = uniform_filter1d(uniform_filter1d(q[signal2],size=N2,axis=1),size=N2,axis=1)\n",
    "\n",
    "        f = extract_fluctuations(signal1_ar[itmin:itmax,irhomin:irhomax])\n",
    "        g = extract_fluctuations(signal2_ar[itmin:itmax,irhomin:irhomax])\n",
    "\n",
    "        norm = np.sqrt( np.sum(f[it_CC_range,:]**2,axis=0) ) * np.sqrt( np.sum(g[it_CC_range,:]**2,axis=0) )\n",
    "        for itau in itau_range:\n",
    "            Cfg[:,itau + itlim//3] = np.sum(f[it_CC_range,:] * g[it_CC_range+itau,:],axis=0)/norm\n",
    "\n",
    "\n",
    "        rhomin_avg,rhomax_avg = float_range_rho\n",
    "        irhomin_avg = (np.abs(q['rho'] - rhomin_avg )).argmin()\n",
    "        irhomax_avg = (np.abs(q['rho'] - rhomax_avg )).argmin()\n",
    "        ##############################\n",
    "        #Figure - 2D cross correlation\n",
    "        ##############################\n",
    "        ax_map = fig.add_subplot(gs[0, iq]) \n",
    "        ax_map.set_title('Cross correlation over radius')\n",
    "        p=ax_map.pcolormesh(q['rho'][irhomin:irhomax],tau_range,Cfg.T,vmin=-1,vmax=1)\n",
    "        ax_map.axhline(y=0,c='k',ls='--')\n",
    "        cax = inset_axes(ax_map, width=\"30%\", height=\"5%\", loc=1, bbox_to_anchor=(0,0.2,1,1), bbox_transform=ax_map.transAxes) \n",
    "        fig.colorbar(p,cax=cax,orientation='horizontal')\n",
    "        ax_map.axvline(x=rhomin_avg,c='g',lw=4)\n",
    "        ax_map.axvline(x=rhomax_avg,c='g',lw=4)\n",
    "        ax_map.set_title(r'%s' % q['title'])\n",
    "        ax_map.set_xlabel(r'$r/a$')\n",
    "        ax_map.set_ylabel(r'Time lag')\n",
    "        ax_map.set_xticks([1.0,0.8,0.6,0.4,0.2])\n",
    "        \n",
    "        ##############################\n",
    "        #Figure - Time evolution\n",
    "        ##############################\n",
    "        color1 = 'xkcd:green'\n",
    "        color2 = 'xkcd:purple'\n",
    "        \n",
    "        itbeg = (np.abs(q['time'] - 0e3 )).argmin()//3*3\n",
    "        ax_tevol1 = fig.add_subplot(gs[1, iq]) \n",
    "        ax_tevol1.set_title('%s - Time evolution avg on $%.2f < r/a < %.2f$' %(q['title'],rhomin_avg,rhomax_avg))\n",
    "        ax_tevol1.plot(q['time'][itbeg:],np.mean(q[signal1][itbeg:,irhomin_avg:irhomax_avg],axis=1),c=color1,ls='--')\n",
    "        ax_tevol1.plot(q['time'][itbeg:],np.mean(signal1_ar[itbeg:,irhomin_avg:irhomax_avg],axis=1),c=color1)\n",
    "        ax_tevol1.yaxis.label.set_color(color1)\n",
    "        ax_tevol1.tick_params(axis='y', colors=color1)\n",
    "        ax_tevol1.set_ylabel(signal1)\n",
    "        ax_tevol2 = ax_tevol1.twinx()\n",
    "        ax_tevol2.plot(q['time'][itbeg:],np.mean(q[signal2][itbeg:,irhomin_avg:irhomax_avg],axis=1),c=color2,ls='--')\n",
    "        ax_tevol2.plot(q['time'][itbeg:],np.mean(signal2_ar[itbeg:,irhomin_avg:irhomax_avg],axis=1),c=color2)\n",
    "        ax_tevol2.grid(None)\n",
    "        ax_tevol2.yaxis.label.set_color(color2)\n",
    "        ax_tevol2.tick_params(axis='y', colors=color2)\n",
    "        ax_tevol2.set_ylabel(signal2)\n",
    "        ax_tevol1.axvline(x=tmin_avg,c='k',ls='--'); ax_tevol1.axvline(x=tmax_avg,c='k',ls='--')\n",
    "        ax_tevol1.set_xlabel(r'Time $[\\omega_{c0}^{-1}]$')\n",
    "        \n",
    "        ##############################\n",
    "        #Figure 3 layout - Cross correlation at a given radius\n",
    "        ##############################\n",
    "        ax_cc1D.set_title(r'Cross correlation avg on $%.2f < r/a < %.2f$' %(rhomin_avg,rhomax_avg))\n",
    "        ax_cc1D.plot(tau_range, np.mean(Cfg[irhomin_avg:irhomax_avg,:],axis=0),c=q['c'],lw=4,label=q['title'])\n",
    "    \n",
    "    ax_cc1D.legend()\n",
    "    fig.tight_layout(rect=[0, 0.03, 1, 0.95])\n",
    "\n",
    "float_range_time_slider = widgets.FloatRangeSlider(value=[100e3, 145e3], min=0, max=150e3, step=1000, description='Time range', layout=Layout(width='50%'), style = {'description_width': 'initial'})\n",
    "float_range_rho_slider = widgets.FloatRangeSlider(value=[0.8, 0.9], min=0, max=1.2, step=0.01, description='Normalized radius range', layout=Layout(width='50%'), style = {'description_width': 'initial'})\n",
    "    \n",
    "interact(update_plot, \n",
    "         N1=widgets.IntSlider(min=1, max=200, step=1,value=1),\n",
    "         N2=widgets.IntSlider(min=1, max=200, step=1,value=1),\n",
    "         float_range_time=float_range_time_slider,\n",
    "         float_range_rho=float_range_rho_slider,\n",
    "         dpi_adjust=widgets.FloatSlider(min=30, max=100, step=1,value=dpi_custom),\n",
    "         q05_bool    = widgets.Checkbox(value=True,description='q05'),\n",
    "         q1_bool     = widgets.Checkbox(value=False,description='q1'),\n",
    "         q15_bool    = widgets.Checkbox(value=True,description='q15'),\n",
    "         q05n0_bool  = widgets.Checkbox(value=False,description='q05n0'),\n",
    "         q15n0_bool  = widgets.Checkbox(value=False,description='q15n0'),\n",
    "         q05new_bool = widgets.Checkbox(value=False,description='q05new'),\n",
    "         qgdp_bool   = widgets.Checkbox(value=False,description='qgdp'),\n",
    "         signal1 = widgets.Text(value='dRSpoldr',placeholder='Type something',description='Select parameter:',disabled=False),\n",
    "         signal2 = widgets.Text(value='Er',placeholder='Type something',description='Select parameter:',disabled=False)\n",
    "        )"
   ]
  },
  {
   "cell_type": "markdown",
   "id": "b411ad5f-1c42-4957-b221-4c8c0d773128",
   "metadata": {},
   "source": [
    "## <font color='orangered'>**(En cours)**</font> <font color='xkcd:sage'>**Exploration**</font> - Cycle limite"
   ]
  },
  {
   "cell_type": "code",
   "execution_count": 85,
   "id": "94211f5f-ec96-43e1-9319-39b014ffc1f7",
   "metadata": {
    "collapsed": true,
    "jupyter": {
     "outputs_hidden": true,
     "source_hidden": true
    },
    "tags": []
   },
   "outputs": [
    {
     "data": {
      "application/vnd.jupyter.widget-view+json": {
       "model_id": "faad7c2398e54e9591099a042cb8f275",
       "version_major": 2,
       "version_minor": 0
      },
      "text/plain": [
       "interactive(children=(IntSlider(value=1, description='N', min=1), FloatSlider(value=0.8, description='colormap…"
      ]
     },
     "metadata": {},
     "output_type": "display_data"
    },
    {
     "data": {
      "text/plain": [
       "<function __main__.update_plot(N, colormap_range, dpi_adjust, param, param2, float_range_time, float_range_rho, q05_bool, q1_bool, q15_bool, q05n0_bool, q15n0_bool, q05new_bool, show_omega_theo)>"
      ]
     },
     "execution_count": 85,
     "metadata": {},
     "output_type": "execute_result"
    }
   ],
   "source": [
    "plt.close('all')\n",
    "import matplotlib.colors as colors\n",
    "import scipy.signal \n",
    "\n",
    "symetrical_cmap = 0\n",
    "def update_plot(N,colormap_range,dpi_adjust,param,param2,float_range_time,float_range_rho,\n",
    "               q05_bool,q1_bool,q15_bool,q05n0_bool,q15n0_bool,q05new_bool, show_omega_theo):#Nwelsh, overlap_factor):\n",
    "    \n",
    "    tmin_avg,tmax_avg = float_range_time\n",
    "    rhomin_avg,rhomax_avg = float_range_rho\n",
    "    \n",
    "    q_ar = []\n",
    "    if q05_bool    : q_ar = np.append(q_ar,qprof_05)\n",
    "    if q1_bool     : q_ar = np.append(q_ar,qprof_1)\n",
    "    if q15_bool    : q_ar = np.append(q_ar,qprof_15)\n",
    "    if q05n0_bool  : q_ar = np.append(q_ar,qprof_05_n0)\n",
    "    if q15n0_bool  : q_ar = np.append(q_ar,qprof_15_n0)\n",
    "    if q05new_bool : q_ar = np.append(q_ar,qprof_05new)\n",
    "    \n",
    "    plt.close('all')\n",
    "    \n",
    "    fig = plt.figure(figsize=(16,8), dpi=dpi_adjust)\n",
    "\n",
    "    Pmap = uniform_filter1d(uniform_filter1d(qprof_05[param],size=N,axis=1),size=N,axis=1)\n",
    "    if symetrical_cmap:\n",
    "        vmin = colormap_range*min( abs( np.min(Pmap) ), abs( np.max(Pmap) ) ) \n",
    "        vmax = -vmin\n",
    "    else:\n",
    "        vmin = colormap_range*np.min(Pmap) \n",
    "        vmax = colormap_range*np.max(Pmap) \n",
    "\n",
    "    gs = gridspec.GridSpec(5, 2*len(q_ar))\n",
    "    \n",
    "    for iq,q in enumerate(q_ar):\n",
    "\n",
    "        irhomin = (np.abs(q['rho'] - rhomin_avg )).argmin()\n",
    "        irhomax = (np.abs(q['rho'] - rhomax_avg )).argmin()\n",
    "\n",
    "        itmin = (np.abs(q['time'] - tmin_avg  )).argmin()\n",
    "        itmax = (np.abs(q['time'] - tmax_avg )).argmin()\n",
    "\n",
    "        p_ma = uniform_filter1d(uniform_filter1d(q[param],size=N,axis=1),size=N,axis=1)\n",
    "        \n",
    "        ## Figure 1\n",
    "        ax_cl = fig.add_subplot(gs[:, 2*iq:2*iq+2]) \n",
    "\n",
    "        ax_cl.set_title('Cycle limite ' + q['title'])\n",
    "        ax_cl.set_xlabel(param)\n",
    "        ax_cl.set_ylabel(param2)\n",
    "        \n",
    "        x = np.mean(q[param][itmin:itmax,irhomin:irhomax],axis=1)\n",
    "        y = np.mean(q[param2][itmin:itmax,irhomin:irhomax],axis=1)\n",
    "        \n",
    "        ax_cl.plot(x,y,c='k')\n",
    "        ax_cl.scatter(x,y,\n",
    "                   c=np.tan( q['time'][itmin:itmax]/q['time'][itmax] ),\n",
    "                   marker='_', s=80,\n",
    "                   lw=5, cmap='winter',zorder=10)\n",
    "        \n",
    "        ax_cl.autoscale()\n",
    "        \n",
    "    fig.tight_layout(rect=[0, 0.03, 1, 0.95])\n",
    "\n",
    "float_range_time_slider = widgets.FloatRangeSlider(value=[100e3, 145e3], min=0, max=150e3, step=1000, description='Time range', layout=Layout(width='50%'), style = {'description_width': 'initial'})\n",
    "    \n",
    "float_range_rho_slider = widgets.FloatRangeSlider(value=[0.8, 0.9], min=0, max=1.2, step=0.01, description='Normalized radius range', layout=Layout(width='50%'), style = {'description_width': 'initial'})\n",
    "    \n",
    "interact(update_plot, \n",
    "         N=widgets.IntSlider(min=1, max=100, step=1,value=1),\n",
    "         float_range_time=float_range_time_slider,\n",
    "         float_range_rho=float_range_rho_slider,\n",
    "         colormap_range=widgets.FloatSlider(min=0.1, max=2, step=0.05,value=0.8),\n",
    "         dpi_adjust=widgets.FloatSlider(min=30, max=100, step=1,value=dpi_custom),\n",
    "         param = widgets.Text(value='RSpol',placeholder='Type something',description='Select parameter:',disabled=False),\n",
    "         param2 = widgets.Text(value='gradT',placeholder='Type something',description='Select parameter:',disabled=False),\n",
    "         q05_bool    = widgets.Checkbox(value=True,description='q05'),\n",
    "         q1_bool     = widgets.Checkbox(value=False,description='q1'),\n",
    "         q15_bool    = widgets.Checkbox(value=True,description='q15'),\n",
    "         q05n0_bool  = widgets.Checkbox(value=False,description='q05n0'),\n",
    "         q15n0_bool  = widgets.Checkbox(value=False,description='q15n0'),\n",
    "         q05new_bool = widgets.Checkbox(value=False,description='q05new'),\n",
    "         show_omega_theo = widgets.Checkbox(value=False,description=r'Display $\\omega_{theo}$')\n",
    "        )"
   ]
  },
  {
   "cell_type": "markdown",
   "id": "3fa30925-8a1e-4402-8fb4-9dafe0b72661",
   "metadata": {},
   "source": [
    "## <font color='coral'>**Travail en cours**</font> - Analyse des termes dans l'évolution de $E_r$\n",
    "\n",
    "L'équation de conservation de la vorticité généralisée peut se réécrire sous la forme :\n",
    "\n",
    "$ \\huge \\partial_t E_r = \\frac{B_{eq}^2}{n_{eq} m} J_r - \\frac{1}{2} \\frac{1}{n_{eq} e} \\partial_t ( \\nabla_\\perp P_\\perp ) $"
   ]
  },
  {
   "cell_type": "code",
   "execution_count": null,
   "id": "686d13f9-c65d-4ad8-86b3-ac95011f2274",
   "metadata": {},
   "outputs": [],
   "source": []
  },
  {
   "cell_type": "markdown",
   "id": "98d649ab-1432-4a58-b492-e14c3f01e734",
   "metadata": {
    "id": "98d649ab-1432-4a58-b492-e14c3f01e734",
    "tags": []
   },
   "source": [
    "## <font color='red'>**Résultat**</font> - Profil radial du **facteur de sécurité** $q$"
   ]
  },
  {
   "cell_type": "code",
   "execution_count": 6,
   "id": "f361416e-79af-482b-a88e-20b7d748847e",
   "metadata": {
    "colab": {
     "referenced_widgets": [
      "f8623ee12bee4a669ea4794f0f52f007",
      "be245138870f40cb9d4ed18987d127bc"
     ]
    },
    "collapsed": true,
    "id": "f361416e-79af-482b-a88e-20b7d748847e",
    "jupyter": {
     "outputs_hidden": true,
     "source_hidden": true
    },
    "outputId": "e1de46bd-dde5-4365-dc0a-74644c15adef",
    "tags": []
   },
   "outputs": [
    {
     "data": {
      "application/vnd.jupyter.widget-view+json": {
       "model_id": "e6f7651c28a741cf8c4bf316295453d6",
       "version_major": 2,
       "version_minor": 0
      },
      "text/plain": [
       "Canvas(toolbar=Toolbar(toolitems=[('Home', 'Reset original view', 'home', 'home'), ('Back', 'Back to previous …"
      ]
     },
     "metadata": {},
     "output_type": "display_data"
    },
    {
     "ename": "FileNotFoundError",
     "evalue": "[Errno 2] No such file or directory: 'Figures/Scan_Ip_q_profiles.pdf'",
     "output_type": "error",
     "traceback": [
      "\u001b[1;31m---------------------------------------------------------------------------\u001b[0m",
      "\u001b[1;31mFileNotFoundError\u001b[0m                         Traceback (most recent call last)",
      "Cell \u001b[1;32mIn[6], line 23\u001b[0m\n\u001b[0;32m     19\u001b[0m ax1\u001b[39m.\u001b[39maxhline(y\u001b[39m=\u001b[39m\u001b[39m1\u001b[39m,c\u001b[39m=\u001b[39m\u001b[39m'\u001b[39m\u001b[39mk\u001b[39m\u001b[39m'\u001b[39m,ls\u001b[39m=\u001b[39m\u001b[39m'\u001b[39m\u001b[39m--\u001b[39m\u001b[39m'\u001b[39m)\n\u001b[0;32m     21\u001b[0m fig\u001b[39m.\u001b[39mtight_layout()\n\u001b[1;32m---> 23\u001b[0m fig\u001b[39m.\u001b[39;49msavefig(\u001b[39m'\u001b[39;49m\u001b[39mFigures/Scan_Ip_q_profiles.pdf\u001b[39;49m\u001b[39m'\u001b[39;49m, \u001b[39mformat\u001b[39;49m\u001b[39m=\u001b[39;49m\u001b[39m'\u001b[39;49m\u001b[39mpdf\u001b[39;49m\u001b[39m'\u001b[39;49m, bbox_inches\u001b[39m=\u001b[39;49m\u001b[39m'\u001b[39;49m\u001b[39mtight\u001b[39;49m\u001b[39m'\u001b[39;49m)\n",
      "File \u001b[1;32m~\\AppData\\Roaming\\Python\\Python38\\site-packages\\matplotlib\\figure.py:2180\u001b[0m, in \u001b[0;36mFigure.savefig\u001b[1;34m(self, fname, transparent, **kwargs)\u001b[0m\n\u001b[0;32m   2177\u001b[0m     original_frameon \u001b[39m=\u001b[39m \u001b[39mself\u001b[39m\u001b[39m.\u001b[39mpatch\u001b[39m.\u001b[39mget_visible()\n\u001b[0;32m   2178\u001b[0m     \u001b[39mself\u001b[39m\u001b[39m.\u001b[39mpatch\u001b[39m.\u001b[39mset_visible(frameon)\n\u001b[1;32m-> 2180\u001b[0m \u001b[39mself\u001b[39;49m\u001b[39m.\u001b[39;49mcanvas\u001b[39m.\u001b[39;49mprint_figure(fname, \u001b[39m*\u001b[39;49m\u001b[39m*\u001b[39;49mkwargs)\n\u001b[0;32m   2182\u001b[0m \u001b[39mif\u001b[39;00m frameon:\n\u001b[0;32m   2183\u001b[0m     \u001b[39mself\u001b[39m\u001b[39m.\u001b[39mpatch\u001b[39m.\u001b[39mset_visible(original_frameon)\n",
      "File \u001b[1;32m~\\AppData\\Roaming\\Python\\Python38\\site-packages\\matplotlib\\backend_bases.py:2082\u001b[0m, in \u001b[0;36mFigureCanvasBase.print_figure\u001b[1;34m(self, filename, dpi, facecolor, edgecolor, orientation, format, bbox_inches, **kwargs)\u001b[0m\n\u001b[0;32m   2079\u001b[0m     _bbox_inches_restore \u001b[39m=\u001b[39m \u001b[39mNone\u001b[39;00m\n\u001b[0;32m   2081\u001b[0m \u001b[39mtry\u001b[39;00m:\n\u001b[1;32m-> 2082\u001b[0m     result \u001b[39m=\u001b[39m print_method(\n\u001b[0;32m   2083\u001b[0m         filename,\n\u001b[0;32m   2084\u001b[0m         dpi\u001b[39m=\u001b[39;49mdpi,\n\u001b[0;32m   2085\u001b[0m         facecolor\u001b[39m=\u001b[39;49mfacecolor,\n\u001b[0;32m   2086\u001b[0m         edgecolor\u001b[39m=\u001b[39;49medgecolor,\n\u001b[0;32m   2087\u001b[0m         orientation\u001b[39m=\u001b[39;49morientation,\n\u001b[0;32m   2088\u001b[0m         bbox_inches_restore\u001b[39m=\u001b[39;49m_bbox_inches_restore,\n\u001b[0;32m   2089\u001b[0m         \u001b[39m*\u001b[39;49m\u001b[39m*\u001b[39;49mkwargs)\n\u001b[0;32m   2090\u001b[0m \u001b[39mfinally\u001b[39;00m:\n\u001b[0;32m   2091\u001b[0m     \u001b[39mif\u001b[39;00m bbox_inches \u001b[39mand\u001b[39;00m restore_bbox:\n",
      "File \u001b[1;32m~\\AppData\\Roaming\\Python\\Python38\\site-packages\\matplotlib\\backends\\backend_pdf.py:2496\u001b[0m, in \u001b[0;36mFigureCanvasPdf.print_pdf\u001b[1;34m(self, filename, dpi, bbox_inches_restore, metadata, **kwargs)\u001b[0m\n\u001b[0;32m   2494\u001b[0m     file \u001b[39m=\u001b[39m filename\u001b[39m.\u001b[39m_file\n\u001b[0;32m   2495\u001b[0m \u001b[39melse\u001b[39;00m:\n\u001b[1;32m-> 2496\u001b[0m     file \u001b[39m=\u001b[39m PdfFile(filename, metadata\u001b[39m=\u001b[39;49mmetadata)\n\u001b[0;32m   2497\u001b[0m \u001b[39mtry\u001b[39;00m:\n\u001b[0;32m   2498\u001b[0m     file\u001b[39m.\u001b[39mnewPage(width, height)\n",
      "File \u001b[1;32m~\\AppData\\Roaming\\Python\\Python38\\site-packages\\matplotlib\\backends\\backend_pdf.py:432\u001b[0m, in \u001b[0;36mPdfFile.__init__\u001b[1;34m(self, filename, metadata)\u001b[0m\n\u001b[0;32m    430\u001b[0m \u001b[39mself\u001b[39m\u001b[39m.\u001b[39moriginal_file_like \u001b[39m=\u001b[39m \u001b[39mNone\u001b[39;00m\n\u001b[0;32m    431\u001b[0m \u001b[39mself\u001b[39m\u001b[39m.\u001b[39mtell_base \u001b[39m=\u001b[39m \u001b[39m0\u001b[39m\n\u001b[1;32m--> 432\u001b[0m fh, opened \u001b[39m=\u001b[39m cbook\u001b[39m.\u001b[39;49mto_filehandle(filename, \u001b[39m\"\u001b[39;49m\u001b[39mwb\u001b[39;49m\u001b[39m\"\u001b[39;49m, return_opened\u001b[39m=\u001b[39;49m\u001b[39mTrue\u001b[39;49;00m)\n\u001b[0;32m    433\u001b[0m \u001b[39mif\u001b[39;00m \u001b[39mnot\u001b[39;00m opened:\n\u001b[0;32m    434\u001b[0m     \u001b[39mtry\u001b[39;00m:\n",
      "File \u001b[1;32m~\\AppData\\Roaming\\Python\\Python38\\site-packages\\matplotlib\\cbook\\__init__.py:432\u001b[0m, in \u001b[0;36mto_filehandle\u001b[1;34m(fname, flag, return_opened, encoding)\u001b[0m\n\u001b[0;32m    430\u001b[0m         fh \u001b[39m=\u001b[39m bz2\u001b[39m.\u001b[39mBZ2File(fname, flag)\n\u001b[0;32m    431\u001b[0m     \u001b[39melse\u001b[39;00m:\n\u001b[1;32m--> 432\u001b[0m         fh \u001b[39m=\u001b[39m \u001b[39mopen\u001b[39;49m(fname, flag, encoding\u001b[39m=\u001b[39;49mencoding)\n\u001b[0;32m    433\u001b[0m     opened \u001b[39m=\u001b[39m \u001b[39mTrue\u001b[39;00m\n\u001b[0;32m    434\u001b[0m \u001b[39melif\u001b[39;00m \u001b[39mhasattr\u001b[39m(fname, \u001b[39m'\u001b[39m\u001b[39mseek\u001b[39m\u001b[39m'\u001b[39m):\n",
      "\u001b[1;31mFileNotFoundError\u001b[0m: [Errno 2] No such file or directory: 'Figures/Scan_Ip_q_profiles.pdf'"
     ]
    }
   ],
   "source": [
    "plt.rc('font',size=22)\n",
    "q_ar = [qprof_05,qprof_1,qprof_15]\n",
    "q_ar = [qprof_05_br,qprof_075_br,qprof_15_br]\n",
    "\n",
    "fig = plt.figure(figsize=(8,6))\n",
    "ax1 = fig.add_subplot(111)\n",
    "\n",
    "for iq,q in enumerate(q_ar):\n",
    "    ax1.set_title('Safety factor')\n",
    "    irho = (np.abs(q['rho'] - 0.95 )).argmin()\n",
    "    \n",
    "    ax1.plot(q['rho'], q['q'], label=q['title']+r', $q_{95} = %.1f$' % q['q'][irho],c=q['c'],lw=4)\n",
    "ax1.legend()\n",
    "ax1.set_xlabel(r'$r/a$')\n",
    "ax1.set_ylabel(r'$q$')\n",
    "ax1.axvline(x=1,ls='--',c='k')\n",
    "ax1.set_xlim(left=-0.01,right=1.31)\n",
    "\n",
    "ax1.axhline(y=1,c='k',ls='--')\n",
    "\n",
    "fig.tight_layout()\n",
    "\n",
    "#fig.savefig('Figures/Scan_Ip_q_profiles.pdf', format='pdf', bbox_inches='tight')"
   ]
  },
  {
   "cell_type": "markdown",
   "id": "a57b631b-9267-40be-978f-394fa52ff4db",
   "metadata": {
    "id": "a57b631b-9267-40be-978f-394fa52ff4db",
    "jupyter": {
     "outputs_hidden": true
    },
    "tags": []
   },
   "source": [
    "## <font color='red'>**Résultat**</font> - Profil radial du **tenseur de Reynolds $\\Pi_{r \\theta}$** (moyenné en temps **et** coarse-grained)"
   ]
  },
  {
   "cell_type": "code",
   "execution_count": null,
   "id": "cff9ce31-f10f-4283-83b4-3e65a0c07444",
   "metadata": {
    "colab": {
     "referenced_widgets": [
      "8696f7578d684091b1701b57ccd0c4ec"
     ]
    },
    "collapsed": true,
    "id": "cff9ce31-f10f-4283-83b4-3e65a0c07444",
    "jupyter": {
     "outputs_hidden": true,
     "source_hidden": true
    },
    "outputId": "b60bfa90-5497-4bd7-c60a-112fdeb0a59c",
    "tags": []
   },
   "outputs": [
    {
     "data": {
      "application/vnd.jupyter.widget-view+json": {
       "model_id": "8696f7578d684091b1701b57ccd0c4ec",
       "version_major": 2,
       "version_minor": 0
      },
      "text/plain": [
       "Canvas(toolbar=Toolbar(toolitems=[('Home', 'Reset original view', 'home', 'home'), ('Back', 'Back to previous …"
      ]
     },
     "metadata": {},
     "output_type": "display_data"
    }
   ],
   "source": [
    "q_ar = [qprof_05,qprof_1,qprof_15]\n",
    "\n",
    "fig = plt.figure(figsize=(7,7))\n",
    "#fig.suptitle(p)\n",
    "ax1 = fig.add_subplot(111)\n",
    "\n",
    "N=60\n",
    "def u1d(X):\n",
    "    #return uniform_filter1d(X,size=N)\n",
    "    return uniform_filter1d(uniform_filter1d(X,size=N),size=N)\n",
    "    #return uniform_filter1d(uniform_filter1d(uniform_filter1d(X,size=N),size=N),size=N)\n",
    "    #return uniform_filter1d(uniform_filter1d(uniform_filter1d(uniform_filter1d(X,size=N),size=N),size=N),size=N)\n",
    "\n",
    "def g1d(X):\n",
    "    return gaussian_filter1d(X,sigma=N)\n",
    "\n",
    "for iq,q in enumerate(q_ar):\n",
    "    irhomin = (np.abs(q['rho'] - 0.1 )).argmin()\n",
    "    irhomax = (np.abs(q['rho'] - 1.0 )).argmin()\n",
    "\n",
    "    itmin = (np.abs(q['time'] - 100.0e3 )).argmin()\n",
    "    itmax = (np.abs(q['time'] - 145.0e3 )).argmin()\n",
    "\n",
    "    \n",
    "    ax1.plot(q['rho'][irhomin:irhomax], np.mean(q['RSpol'][itmin:itmax,irhomin:irhomax],axis=0),ls='--',c=q['c'],lw=2)\n",
    "    ax1.plot(q['rho'][irhomin:irhomax], u1d(np.mean(q['RSpol'][itmin:itmax,irhomin:irhomax],axis=0)),c=q['c'],label=q['title'],lw=4)\n",
    "\n",
    "    ax1.axhline(y=0,ls='--',c='k')\n",
    "\n",
    "ax1.set_ylabel(r'$\\Pi_{r \\theta}$ $[V_{T0}^2]$')\n",
    "\n",
    "ax1.ticklabel_format(axis='y',scilimits=(-1,2),useMathText=True)\n",
    "\n",
    "ax1.legend()\n",
    "ax1.set_xlabel(r'$r/a$')\n",
    "\n",
    "plt.text(x=0.01, y=0.9, s='Plain: coarse-grained \\ndashed: time average only', transform=ax1.transAxes)\n",
    "\n",
    "fig.tight_layout(rect=[0, 0.03, 1, 0.95])\n",
    "\n",
    "fig.savefig('Figures/rprof_RSpol_scanq.pdf', format='pdf', bbox_inches='tight')"
   ]
  },
  {
   "cell_type": "markdown",
   "id": "9559bffb-1592-4053-96e4-f40d358181dc",
   "metadata": {
    "id": "9559bffb-1592-4053-96e4-f40d358181dc"
   },
   "source": [
    "## <font color='red'>**Résultat**</font> - Profil radial du **coarse-grained $- \\nabla \\cdot \\Pi_{r_\\theta}$ avec une fenêtre radiale de $\\sim 40 \\rho_i$**"
   ]
  },
  {
   "cell_type": "code",
   "execution_count": null,
   "id": "8b15afb5-51c7-4a27-afe7-481edfca5ba1",
   "metadata": {
    "colab": {
     "referenced_widgets": [
      "17f0bb0aeb844b8ea54fd6a89239f495"
     ]
    },
    "collapsed": true,
    "id": "8b15afb5-51c7-4a27-afe7-481edfca5ba1",
    "jupyter": {
     "outputs_hidden": true,
     "source_hidden": true
    },
    "outputId": "0ea27479-6a80-401a-d859-75533cd77216",
    "tags": []
   },
   "outputs": [
    {
     "data": {
      "application/vnd.jupyter.widget-view+json": {
       "model_id": "17f0bb0aeb844b8ea54fd6a89239f495",
       "version_major": 2,
       "version_minor": 0
      },
      "text/plain": [
       "Canvas(toolbar=Toolbar(toolitems=[('Home', 'Reset original view', 'home', 'home'), ('Back', 'Back to previous …"
      ]
     },
     "metadata": {},
     "output_type": "display_data"
    }
   ],
   "source": [
    "q_ar = [qprof_05,qprof_1,qprof_15]\n",
    "\n",
    "param_ar = ['dRSpoldr']\n",
    "\n",
    "N=60\n",
    "Ng=30\n",
    "\n",
    "for ip,p in enumerate(param_ar):\n",
    "    fig = plt.figure(figsize=(xfigsize,6))\n",
    "    ax1 = fig.add_subplot(111)\n",
    "    for iq,q in enumerate(q_ar):\n",
    "        \n",
    "        irhomin = (np.abs(q['rho'] - 0. )).argmin()\n",
    "        irhomax = (np.abs(q['rho'] - 1. )).argmin()\n",
    "\n",
    "        itmin = (np.abs(q['time'] - 100e3 )).argmin()\n",
    "        itmax = (np.abs(q['time'] - 145e3 )).argmin()\n",
    "        \n",
    "        p_ma = uniform_filter1d(uniform_filter1d(np.mean(q[p][itmin:itmax,irhomin:irhomax],axis=0),size=N),size=N)\n",
    "        \n",
    "        p_ga = gaussian_filter1d(np.mean(q[p][itmin:itmax,:],axis=0),sigma=Ng)[irhomin:irhomax]\n",
    "        \n",
    "        ax1.plot(q['rho'][irhomin:irhomax], -p_ma, label=q['title'],lw=3,c=q['c'], ls='-')\n",
    "        \n",
    "\n",
    "        ax1.axhline(y=0,c='k',ls='--')\n",
    "        \n",
    "\n",
    "        \n",
    "    ax1.legend()\n",
    "    ax1.set_xlabel(r'$r/a$')\n",
    "    ax1.set_ylabel(r'$-\\langle \\nabla \\cdot \\Pi_{r \\theta} \\rangle_{CG}$')\n",
    "    \n",
    "    fig.tight_layout()\n",
    "    \n",
    "    fig.savefig('Figures/rprof_divPiCG_scanq.pdf', format='pdf', bbox_inches='tight')"
   ]
  },
  {
   "cell_type": "markdown",
   "id": "46ca276d-600c-4062-8516-92170b81db03",
   "metadata": {
    "id": "46ca276d-600c-4062-8516-92170b81db03"
   },
   "source": [
    "## <font color='red'>**Résultat**</font> - Profil en $q$ du **coarse-grained $- \\nabla \\cdot \\Pi_{r_\\theta}$**"
   ]
  },
  {
   "cell_type": "code",
   "execution_count": null,
   "id": "7a301250-29d2-425a-9d6e-34bb644897aa",
   "metadata": {
    "colab": {
     "referenced_widgets": [
      "f618bed40f5445299cd7812a07993cf4"
     ]
    },
    "collapsed": true,
    "id": "7a301250-29d2-425a-9d6e-34bb644897aa",
    "jupyter": {
     "outputs_hidden": true,
     "source_hidden": true
    },
    "outputId": "dc4ec40b-c5df-4409-dbcc-115ee1d9f665",
    "tags": []
   },
   "outputs": [
    {
     "data": {
      "application/vnd.jupyter.widget-view+json": {
       "model_id": "f618bed40f5445299cd7812a07993cf4",
       "version_major": 2,
       "version_minor": 0
      },
      "text/plain": [
       "Canvas(toolbar=Toolbar(toolitems=[('Home', 'Reset original view', 'home', 'home'), ('Back', 'Back to previous …"
      ]
     },
     "metadata": {},
     "output_type": "display_data"
    },
    {
     "name": "stderr",
     "output_type": "stream",
     "text": [
      "C:\\Users\\robin\\AppData\\Local\\Temp/ipykernel_18288/1929424472.py:41: RuntimeWarning: invalid value encountered in power\n",
      "  ax1.plot(qrange, 0.45e-7*(-1+qrange)**(1/3), c='g', label=r'$C (-1+q)^{1/3}$')\n"
     ]
    }
   ],
   "source": [
    "q_ar = [qprof_05,qprof_1,qprof_15]\n",
    "param_ar = ['Phi00','Phi01','dPhi01dr','Er','VP','dErdr','RSpol','RSphi','dRSphidr','VT']\n",
    "\n",
    "param_ar = ['dRSpoldr']\n",
    "\n",
    "N=60\n",
    "Ng=30\n",
    "\n",
    "for ip,p in enumerate(param_ar):\n",
    "    fig = plt.figure(figsize=(xfigsize,6))\n",
    "    #fig.suptitle(p)\n",
    "    ax1 = fig.add_subplot(111)\n",
    "    for iq,q in enumerate(q_ar):\n",
    "        \n",
    "        irhomin = (np.abs(q['rho'] - 0.79 )).argmin()\n",
    "        irhomax = (np.abs(q['rho'] - 0.81 )).argmin()\n",
    "\n",
    "        itmin = (np.abs(q['time'] - 100e3 )).argmin()\n",
    "        itmax = (np.abs(q['time'] - 145e3 )).argmin()\n",
    "        \n",
    "        p_ma = uniform_filter1d(uniform_filter1d(np.mean(q[p][itmin:itmax,:],axis=0),size=N),size=N)\n",
    "        \n",
    "        p_ga = gaussian_filter1d(np.mean(q[p][itmin:itmax,:],axis=0),sigma=Ng)[irhomin:irhomax]\n",
    "        \n",
    "        \n",
    "        ax1.plot(q['q'][irhomin:irhomax], -p_ma[irhomin:irhomax], lw=3,c=q['c'], marker='s',ls='', label=q['title'])\n",
    "        \n",
    "        #ax1.plot(q['q'][irhomin:irhomax], 0.3e-7*(-1+q['q'][irhomin:irhomax])**(1/3), c=q['c'])\n",
    "        \n",
    "        ax1.axhline(y=0,c='k',ls='--')\n",
    "        \n",
    "#     ax1.plot(q['rho'][40:40+Ng],np.ones(Ng)*-0.02,c='k')\n",
    "#     ax1.plot(q['rho'][100:100+N],np.ones(N)*-0.02,c='k')\n",
    "        \n",
    "    \n",
    "    ax1.set_xlabel(r'$q$')\n",
    "    ax1.set_xlim(0,5)\n",
    "    ax1.set_ylabel(r'$-\\langle \\nabla \\cdot \\Pi_{r \\theta} \\rangle_{CG}$ in $%.2f < r/a < %.2f$' %(q['rho'][irhomin], q['rho'][irhomax]) )\n",
    "    \n",
    "    qrange = np.linspace(0,5,100)\n",
    "    ax1.plot(qrange, 0.45e-7*(-1+qrange)**(1/3), c='g', label=r'$C (-1+q)^{1/3}$')\n",
    "    \n",
    "    ax1.legend()\n",
    "    \n",
    "    fig.savefig('Figures/qprof_divPi_08.pdf', format='pdf', bbox_inches='tight')"
   ]
  },
  {
   "cell_type": "markdown",
   "id": "abbc77ad-5663-4af1-a363-3013aa47434b",
   "metadata": {
    "id": "abbc77ad-5663-4af1-a363-3013aa47434b",
    "jupyter": {
     "outputs_hidden": true
    },
    "tags": []
   },
   "source": [
    "## <font color='red'>**Résultat**</font> - Profil radial des **flows ($E_r, V_P, V_T$)**"
   ]
  },
  {
   "cell_type": "code",
   "execution_count": null,
   "id": "1fa686e3-c293-40df-a39f-2738fac08f42",
   "metadata": {
    "colab": {
     "referenced_widgets": [
      "ff2f7fef614144f28f965eb6cbc8baf9",
      "9cc813b5d64e49879e1f81bb74f4e69a",
      "a6e21529006646aa8a051826b7685b56"
     ]
    },
    "collapsed": true,
    "id": "1fa686e3-c293-40df-a39f-2738fac08f42",
    "jupyter": {
     "outputs_hidden": true,
     "source_hidden": true
    },
    "outputId": "7d644ff7-ce07-412d-dd35-a76a7601e710",
    "tags": []
   },
   "outputs": [
    {
     "data": {
      "application/vnd.jupyter.widget-view+json": {
       "model_id": "ff2f7fef614144f28f965eb6cbc8baf9",
       "version_major": 2,
       "version_minor": 0
      },
      "text/plain": [
       "Canvas(toolbar=Toolbar(toolitems=[('Home', 'Reset original view', 'home', 'home'), ('Back', 'Back to previous …"
      ]
     },
     "metadata": {},
     "output_type": "display_data"
    },
    {
     "data": {
      "application/vnd.jupyter.widget-view+json": {
       "model_id": "9cc813b5d64e49879e1f81bb74f4e69a",
       "version_major": 2,
       "version_minor": 0
      },
      "text/plain": [
       "Canvas(toolbar=Toolbar(toolitems=[('Home', 'Reset original view', 'home', 'home'), ('Back', 'Back to previous …"
      ]
     },
     "metadata": {},
     "output_type": "display_data"
    },
    {
     "data": {
      "application/vnd.jupyter.widget-view+json": {
       "model_id": "a6e21529006646aa8a051826b7685b56",
       "version_major": 2,
       "version_minor": 0
      },
      "text/plain": [
       "Canvas(toolbar=Toolbar(toolitems=[('Home', 'Reset original view', 'home', 'home'), ('Back', 'Back to previous …"
      ]
     },
     "metadata": {},
     "output_type": "display_data"
    }
   ],
   "source": [
    "plt.rcParams['axes.formatter.limits'] = (-5,6)\n",
    "q_ar = [qprof_05,qprof_1,qprof_15]\n",
    "#q_ar = [qprof_05_n0,qprof_15_n0]\n",
    "param_ar = ['Phi00','Phi01','dPhi01dr','Er','VP','dErdr','RSpol','RSphi','dRSphidr','VT','nustar']\n",
    "param_ar = ['Gamma_vD', 'Gamma_vE', 'Gamma_vEn0', 'Gamma_vEndiff0']\n",
    "\n",
    "param_ar = ['Er','VT','VP']\n",
    "\n",
    "title_ar = [r'$E_r[V_{T_0} B_0]$',r'$V_P$',r'$V_T$']\n",
    "\n",
    "y_min_ar = [-2.5e-2, -6e-2, 4e-3]\n",
    "y_max_ar = [-1e-2, 0, -3.5e-3]\n",
    "\n",
    "for ip,p in enumerate(param_ar):\n",
    "    fig = plt.figure(figsize=(8,8))\n",
    "    #fig.suptitle(p)\n",
    "    ax1 = fig.add_subplot(111)\n",
    "    for iq,q in enumerate(q_ar):\n",
    "        \n",
    "        irhomin = (np.abs(q['rho'] - 0.1 )).argmin()\n",
    "        irhomax = (np.abs(q['rho'] - 1.0 )).argmin()\n",
    "\n",
    "        itmin = (np.abs(q['time'] - 100.0e3 )).argmin()\n",
    "        itmax = (np.abs(q['time'] - 145.0e3 )).argmin()\n",
    "        \n",
    "        ax1.plot(q['rho'][irhomin:irhomax], np.mean( q[p][itmin:itmax,irhomin:irhomax],axis=0),ls=q['ls'],c=q['c'],lw=4,label=q['title'])\n",
    "        #ax1.plot(q['rho'][irhomin:irhomax], np.mean( q[p][itmin:itmax,irhomin:irhomax],axis=0) /q['q'][irhomin:irhomax],ls='--',c=q['c'],label=q['title'])\n",
    "        \n",
    "        ax1.axhline(y=0,ls='--',c='k')\n",
    "        \n",
    "    ax1.set_ylabel(title_ar[ip])\n",
    "    ax1.ticklabel_format(axis='y',scilimits=(-1,2),useMathText=True)\n",
    "        \n",
    "    ax1.legend()\n",
    "    ax1.set_xlabel(r'$r/a$')\n",
    "    \n",
    "    ax1.axvline(x=1,ls='--',c='k')\n",
    "    #ax1.text(x=0.7,y=(y_min_ar[ip]+y_max_ar[ip])/2.,s=r\"$\\nearrow I_P$\",fontsize=18,c='g')\n",
    "    \n",
    "    #ax1.annotate(\"\", xy=(0.8, y_min_ar[ip]), xytext=(0.8, y_max_ar[ip]),arrowprops=dict(width=5,facecolor='none',edgecolor='g'),horizontalalignment='center', verticalalignment='center')\n",
    "    \n",
    "    fig.tight_layout(rect=[0, 0.03, 1, 0.95])\n",
    "    \n",
    "    fig.savefig('Figures/rprof_'+p+'_scanq.pdf', format='pdf', bbox_inches='tight')"
   ]
  },
  {
   "cell_type": "markdown",
   "id": "ece7a5bc-fd9b-4636-8e3c-79db5cf49166",
   "metadata": {
    "id": "ece7a5bc-fd9b-4636-8e3c-79db5cf49166"
   },
   "source": [
    "## <font color='red'>**Résultat**</font> - Profil radial de la friction néoclassique $\\nu_\\theta$ empirique tiré de *Gianakon PoP 2002, p12, Eq(C16)*"
   ]
  },
  {
   "cell_type": "code",
   "execution_count": null,
   "id": "6c73be86-0126-47ed-b478-521b8db87d10",
   "metadata": {
    "colab": {
     "referenced_widgets": [
      "bad5c7520abd41c7ad42ea08adf41d6f"
     ]
    },
    "collapsed": true,
    "id": "6c73be86-0126-47ed-b478-521b8db87d10",
    "jupyter": {
     "outputs_hidden": true,
     "source_hidden": true
    },
    "outputId": "6b929854-dec4-404f-d21b-bfb3c7da3f4e",
    "tags": []
   },
   "outputs": [
    {
     "data": {
      "application/vnd.jupyter.widget-view+json": {
       "model_id": "bad5c7520abd41c7ad42ea08adf41d6f",
       "version_major": 2,
       "version_minor": 0
      },
      "text/plain": [
       "Canvas(toolbar=Toolbar(toolitems=[('Home', 'Reset original view', 'home', 'home'), ('Back', 'Back to previous …"
      ]
     },
     "metadata": {},
     "output_type": "display_data"
    }
   ],
   "source": [
    "q_ar = [qprof_05,qprof_1,qprof_15]\n",
    "\n",
    "fig = plt.figure(figsize=(7,7))\n",
    "#fig.suptitle(p)\n",
    "ax1 = fig.add_subplot(111)\n",
    "\n",
    "N=60\n",
    "def u1d(X):\n",
    "    #return uniform_filter1d(X,size=N)\n",
    "    return uniform_filter1d(uniform_filter1d(X,size=N),size=N)\n",
    "    #return uniform_filter1d(uniform_filter1d(uniform_filter1d(X,size=N),size=N),size=N)\n",
    "    #return uniform_filter1d(uniform_filter1d(uniform_filter1d(uniform_filter1d(X,size=N),size=N),size=N),size=N)\n",
    "\n",
    "def g1d(X):\n",
    "    return gaussian_filter1d(X,sigma=N)\n",
    "\n",
    "for iq,q in enumerate(q_ar):\n",
    "    irhomin = (np.abs(q['rho'] - 0.1 )).argmin()\n",
    "    irhomax = (np.abs(q['rho'] - 1.0 )).argmin()\n",
    "\n",
    "    itmin = (np.abs(q['time'] - 100.0e3 )).argmin()\n",
    "    itmax = (np.abs(q['time'] - 145.0e3 )).argmin()\n",
    "\n",
    "    #Calcul de la friction NC poloidale (cf Gianakon 2002)\n",
    "    nutheta = (0.452 * np.sqrt(2*q['eps']) * q['nu_i'])/( (1+1.03*q['nustar']**(1/2) +0.31 * q['nustar']) * (1 + 0.66 * q['nustar'] * q['eps']**(3/2))) * (q['q']/q['eps'])**2\n",
    "\n",
    "    ax1.plot(q['rho'][irhomin:irhomax], np.mean(nutheta[itmin:itmax,irhomin:irhomax],axis=0),ls=q['ls'],c=q['c'],label=q['title'])\n",
    "\n",
    "    ax1.axhline(y=0,ls='--',c='k')\n",
    "\n",
    "ax1.set_ylabel(r'$\\nu_\\theta$')\n",
    "\n",
    "ax1.ticklabel_format(axis='y',scilimits=(-1,2),useMathText=True)\n",
    "\n",
    "ax1.legend()\n",
    "ax1.set_xlabel(r'$r/a$')\n",
    "\n",
    "fig.tight_layout(rect=[0, 0.03, 1, 0.95])\n",
    "\n",
    "#fig.savefig('Figures/rprof_Pionq_scanq.pdf', format='pdf', bbox_inches='tight')"
   ]
  },
  {
   "cell_type": "markdown",
   "id": "f75dff74-6c55-4062-8cbb-d45016ef1af0",
   "metadata": {
    "id": "f75dff74-6c55-4062-8cbb-d45016ef1af0",
    "jupyter": {
     "outputs_hidden": true
    },
    "tags": []
   },
   "source": [
    "## <font color='red'>**Résultat**</font> - Profil radial de **l'intensité turbulente $\\mathcal{I}$**"
   ]
  },
  {
   "cell_type": "code",
   "execution_count": 11,
   "id": "6081a227-27fb-4d69-8194-66c6339a4189",
   "metadata": {
    "colab": {
     "referenced_widgets": [
      "9874b419bafb4907b36ce4241ac93226"
     ]
    },
    "collapsed": true,
    "id": "6081a227-27fb-4d69-8194-66c6339a4189",
    "jupyter": {
     "outputs_hidden": true,
     "source_hidden": true
    },
    "outputId": "743c03c8-3df1-436b-8ee4-b0da5eeb3e58",
    "tags": []
   },
   "outputs": [
    {
     "data": {
      "application/vnd.jupyter.widget-view+json": {
       "model_id": "b971878585004ea9a0359e17943bca65",
       "version_major": 2,
       "version_minor": 0
      },
      "text/plain": [
       "Canvas(toolbar=Toolbar(toolitems=[('Home', 'Reset original view', 'home', 'home'), ('Back', 'Back to previous …"
      ]
     },
     "metadata": {},
     "output_type": "display_data"
    }
   ],
   "source": [
    "plt.rcParams['axes.formatter.limits'] = (-5,6)\n",
    "q_ar = [qprof_05,qprof_1,qprof_15]\n",
    "\n",
    "param_ar = ['turb_int_sq_avg']\n",
    "\n",
    "title_ar = [r'$\\mathcal{I}$']\n",
    "\n",
    "fig = plt.figure(figsize=(7,7))\n",
    "#fig.suptitle(p)\n",
    "ax1 = fig.add_subplot(111)\n",
    "\n",
    "for iq,q in enumerate(q_ar):\n",
    "    irhomin = (np.abs(q['rho'] - 0.1 )).argmin()\n",
    "    irhomax = (np.abs(q['rho'] - 1.0 )).argmin()\n",
    "\n",
    "    itmin = (np.abs(q['time'] - 80.0e3 )).argmin()\n",
    "    itmax = (np.abs(q['time'] - 100.0e3 )).argmin()\n",
    "\n",
    "    ax1.plot(q['rho'][irhomin:irhomax], np.sqrt(np.mean( (q['turb_int_sq_avg'])[itmin:itmax,irhomin:irhomax],axis=0)),ls=q['ls'],c=q['c'],label=q['title'])\n",
    "\n",
    "    ax1.axhline(y=0,ls='--',c='k')\n",
    "\n",
    "ax1.set_ylabel(r'$\\mathcal{I}$')\n",
    "#ax1.ticklabel_format(axis='y',scilimits=(-1,2),useMathText=True)\n",
    "\n",
    "ax1.legend()\n",
    "ax1.set_xlabel(r'$r/a$')\n",
    "\n",
    "ax1.axvline(x=1,ls='--',c='k')\n",
    "\n",
    "fig.tight_layout(rect=[0, 0.03, 1, 0.95])\n",
    "\n",
    "#fig.savefig('Figures/rprof_turb_intens_scanq.pdf', format='pdf', bbox_inches='tight')"
   ]
  },
  {
   "cell_type": "markdown",
   "id": "1e560051-e682-445d-a2ee-76fd4cf45510",
   "metadata": {
    "id": "1e560051-e682-445d-a2ee-76fd4cf45510",
    "jupyter": {
     "outputs_hidden": true
    },
    "tags": []
   },
   "source": [
    "## <font color='red'>**Résultat**</font> - Profil radial de la **fréquence de collision ionique $\\nu_i$**"
   ]
  },
  {
   "cell_type": "code",
   "execution_count": null,
   "id": "2a8aa36a-714a-44d8-90b4-5d8bc3a43497",
   "metadata": {
    "colab": {
     "referenced_widgets": [
      "5cf29e019b2e4a1395108e5ca4efad11"
     ]
    },
    "collapsed": true,
    "id": "2a8aa36a-714a-44d8-90b4-5d8bc3a43497",
    "jupyter": {
     "outputs_hidden": true,
     "source_hidden": true
    },
    "outputId": "9532f0c1-f64d-4d56-8ad7-c5295f7bf01f",
    "tags": []
   },
   "outputs": [
    {
     "data": {
      "application/vnd.jupyter.widget-view+json": {
       "model_id": "5cf29e019b2e4a1395108e5ca4efad11",
       "version_major": 2,
       "version_minor": 0
      },
      "text/plain": [
       "Canvas(toolbar=Toolbar(toolitems=[('Home', 'Reset original view', 'home', 'home'), ('Back', 'Back to previous …"
      ]
     },
     "metadata": {},
     "output_type": "display_data"
    }
   ],
   "source": [
    "plt.rcParams['axes.formatter.limits'] = (-5,6)\n",
    "q_ar = [qprof_05,qprof_1,qprof_15]\n",
    "\n",
    "param_ar = ['turb_int_sq_avg']\n",
    "\n",
    "title_ar = [r'$\\mathcal{I}$']\n",
    "\n",
    "fig = plt.figure(figsize=(6,6))\n",
    "#fig.suptitle(p)\n",
    "ax1 = fig.add_subplot(111)\n",
    "\n",
    "for iq,q in enumerate(q_ar):\n",
    "    irhomin = (np.abs(q['rho'] - 0.1 )).argmin()\n",
    "    irhomax = (np.abs(q['rho'] - 1.0 )).argmin()\n",
    "\n",
    "    itmin = (np.abs(q['time'] - 100.0e3 )).argmin()\n",
    "    itmax = (np.abs(q['time'] - 145.0e3 )).argmin()\n",
    "\n",
    "    ax1.plot(q['rho'][irhomin:irhomax], np.mean( (q['nu_i'])[itmin:itmax,irhomin:irhomax],axis=0),ls=q['ls'],c=q['c'],label=q['title'],lw=4)\n",
    "\n",
    "    ax1.axhline(y=0,ls='--',c='k')\n",
    "\n",
    "ax1.set_ylabel(r'$\\nu_i$ $[\\omega_{c0}]$')\n",
    "#ax1.ticklabel_format(axis='y',scilimits=(-1,2),useMathText=True)\n",
    "\n",
    "ax1.legend()\n",
    "ax1.set_xlabel(r'$r/a$')\n",
    "\n",
    "ax1.axvline(x=1,ls='--',c='k')\n",
    "\n",
    "fig.tight_layout(rect=[0, 0.03, 1, 0.95])\n",
    "\n",
    "fig.savefig('Figures/rprof_nu_i.pdf', format='pdf', bbox_inches='tight')"
   ]
  },
  {
   "cell_type": "markdown",
   "id": "5b6447ed-4802-46a4-9401-b5535b5b3c00",
   "metadata": {
    "id": "5b6447ed-4802-46a4-9401-b5535b5b3c00"
   },
   "source": [
    "## <font color='coral'>**Travail en cours**</font> - Transfert d'énergie de la turbulence vers les écoulements via la **puissance $\\mathcal{P} = \\langle - \\nabla \\cdot \\Pi_{r\\theta} \\rangle V_E$**"
   ]
  },
  {
   "cell_type": "code",
   "execution_count": 23,
   "id": "4cd2a11d-df6e-41a9-9ff1-2c0c7725f80b",
   "metadata": {
    "colab": {
     "referenced_widgets": [
      "6baa00a44ad3434d8287e10d82866a4e",
      "71f81ab0a7904614a8e3687ab90ebb62"
     ]
    },
    "collapsed": true,
    "id": "4cd2a11d-df6e-41a9-9ff1-2c0c7725f80b",
    "jupyter": {
     "outputs_hidden": true,
     "source_hidden": true
    },
    "outputId": "f4705901-017e-49b6-ec50-5dd399e1d6a2",
    "tags": []
   },
   "outputs": [
    {
     "data": {
      "application/vnd.jupyter.widget-view+json": {
       "model_id": "7a80c9aad97349b19f77cfb9eff9b503",
       "version_major": 2,
       "version_minor": 0
      },
      "text/plain": [
       "interactive(children=(IntSlider(value=1, description='N', min=1), FloatSlider(value=0.8, description='colormap…"
      ]
     },
     "metadata": {},
     "output_type": "display_data"
    },
    {
     "data": {
      "text/plain": [
       "<function __main__.update_plot(N, colormap_range, float_range_time, float_range_rho)>"
      ]
     },
     "execution_count": 23,
     "metadata": {},
     "output_type": "execute_result"
    }
   ],
   "source": [
    "#import panel as pn\n",
    "#pn.extension()\n",
    "\n",
    "plt.close('all')\n",
    "import matplotlib.colors as colors\n",
    "\n",
    "q_ar = [qprof_05,qprof_15]\n",
    "\n",
    "for iq,q in enumerate(q_ar):\n",
    "        q['Ptransfert'] = -q['dRSpoldr'] * (-q['Er'])\n",
    "\n",
    "symetrical_cmap = 0\n",
    "\n",
    "def update_plot(N,colormap_range,float_range_time,float_range_rho):\n",
    "    tmin_avg,tmax_avg = float_range_time\n",
    "    rhomin_avg,rhomax_avg = float_range_rho\n",
    "    \n",
    "    plt.close('all')\n",
    "    \n",
    "    fig = plt.figure(figsize=(xfigsize,10))\n",
    "    fig.suptitle(r'Study of $P = \\langle - \\nabla \\cdot \\Pi_{r \\theta} \\rangle V_{E \\theta}$')\n",
    "\n",
    "    Pmap = uniform_filter1d(uniform_filter1d(qprof_05['Ptransfert'],size=N,axis=1),size=N,axis=1)\n",
    "    if symetrical_cmap:\n",
    "        vmin = colormap_range*min( abs( np.min(Pmap) ), abs( np.max(Pmap) ) ) \n",
    "        vmax = -vmin\n",
    "    else:\n",
    "        vmin = colormap_range*np.min(Pmap) \n",
    "        vmax = colormap_range*np.max(Pmap) \n",
    "\n",
    "    gs = gridspec.GridSpec(3, 2*len(q_ar))\n",
    "    \n",
    "    for iq,q in enumerate(q_ar):\n",
    "\n",
    "        irhomin = (np.abs(q['rho'] - 0.0 )).argmin()\n",
    "        irhomax = (np.abs(q['rho'] - 1.1 )).argmin()\n",
    "        \n",
    "        tmin = 100e3 ; tmax = 150e3\n",
    "        itmin = (np.abs(q['time'] - tmin  )).argmin()\n",
    "        itmax = (np.abs(q['time'] - tmax )).argmin()\n",
    "\n",
    "        p_ma = uniform_filter1d(uniform_filter1d(q['Ptransfert'],size=N,axis=1),size=N,axis=1)\n",
    "        \n",
    "        ## Figure 1\n",
    "        ax_map = fig.add_subplot(gs[0:2, 2*iq:2*iq+2]) \n",
    "\n",
    "        ax_map.set_title(q['title'])\n",
    "        p=ax_map.pcolormesh(q['rho'][irhomin:irhomax],q['time'][itmin:itmax],p_ma[itmin:itmax,irhomin:irhomax],vmin=vmin,vmax=vmax)\n",
    "        fig.colorbar(p,ax=ax_map)\n",
    "        fig.tight_layout()\n",
    "        ax_map.set_xlabel(r'$r/a$')\n",
    "        ax_map.set_ylabel(r'Time $[\\omega_{c0}^{-1}]$')\n",
    "\n",
    "        ax_map.axvline(x=1,c='k',ls='--')\n",
    "        for rline in [0.8,0.6,0.4,0.2]:ax_map.axvline(x=rline,c='k',ls='--')\n",
    "        ax_map.set_xticks([1.0,0.8,0.6,0.4,0.2])\n",
    "        \n",
    "        ax_map.axvline(x=rhomin_avg,c='g',ls='-')\n",
    "        ax_map.axvline(x=rhomax_avg,c='g',ls='-')\n",
    "        \n",
    "        ax_map.axhline(y=tmin_avg,c='r',ls='-')\n",
    "        ax_map.axhline(y=tmax_avg,c='r',ls='-')\n",
    "        \n",
    "        ax_map.plot(q['rho'][10:10+N],np.ones(N)*((tmax-tmin)/2+tmin),c='xkcd:battleship grey',lw=5) #Visualize the sliding average window\n",
    "\n",
    "        \n",
    "        ##Figure 2\n",
    "        itmin_avg = (np.abs(q['time'] - tmin_avg )).argmin()\n",
    "        itmax_avg = (np.abs(q['time'] - tmax_avg )).argmin()\n",
    "\n",
    "        ax_rprof = fig.add_subplot(gs[2:, 0:len(q_ar)]) \n",
    "        ax_rprof.set_title(r'Radial profile (avg %.0f < t$[\\omega_{c0}^{-1}]$ < %.0f)' % (tmin_avg , tmax_avg) )\n",
    "        ax_rprof.plot(q['rho'][irhomin:irhomax], np.mean( p_ma[itmin_avg:itmax_avg,irhomin:irhomax],axis=0),ls=q['ls'],c=q['c'],label=q['title'])\n",
    "        ax_rprof.set_xlabel(r'$r/a$')\n",
    "        ax_rprof.axhline(y=0,c='k',ls='--')\n",
    "        ax_rprof.legend()\n",
    "        \n",
    "        irhomin_avg = (np.abs(q['rho'] - rhomin_avg )).argmin()\n",
    "        irhomax_avg = (np.abs(q['rho'] - rhomax_avg )).argmin()\n",
    "\n",
    "        ax_tevol = fig.add_subplot(gs[2:, len(q_ar):]) \n",
    "        ax_tevol.set_title(r'Temporal evolution (avg %.2f < r/a < %.2f)' % (rhomin_avg , rhomax_avg) )\n",
    "        ax_tevol.plot(q['time'][itmin:itmax], np.mean(p_ma[itmin:itmax,irhomin_avg:irhomax_avg],axis=1),ls=q['ls'],c=q['c'],label=q['title'])\n",
    "        ax_tevol.set_xlabel(r'Time $[\\omega_{c0}^{-1}]$')\n",
    "        ax_tevol.axhline(y=0,c='k',ls='--')\n",
    "        ax_tevol.legend()\n",
    "\n",
    "    fig.tight_layout(rect=[0, 0.03, 1, 0.95])\n",
    "\n",
    "float_range_time_slider = widgets.FloatRangeSlider(value=[100e3, 145e3], min=0, max=150e3, step=1000, description='Time range', layout=Layout(width='50%'), style = {'description_width': 'initial'})\n",
    "    \n",
    "float_range_rho_slider = widgets.FloatRangeSlider(value=[0.75, 0.85], min=0, max=1.2, step=0.05, description='Normalized radius range', layout=Layout(width='50%'), style = {'description_width': 'initial'})\n",
    "    \n",
    "interact(update_plot, \n",
    "         N=widgets.IntSlider(min=1, max=100, step=1,value=1),\n",
    "         float_range_time=float_range_time_slider,\n",
    "         float_range_rho=float_range_rho_slider,\n",
    "         colormap_range=widgets.FloatSlider(min=0.1, max=2, step=0.05,value=0.8)\n",
    "        )"
   ]
  },
  {
   "cell_type": "markdown",
   "id": "f5d31e00-d7b6-4f00-8659-9955cc66662d",
   "metadata": {
    "id": "f5d31e00-d7b6-4f00-8659-9955cc66662d"
   },
   "source": [
    "## <font color='coral'>**Travail en cours**</font> - Profil radial de la coarse-grained **puissance $\\mathcal{P} = \\langle - \\nabla \\cdot \\Pi_{r\\theta} \\rangle V_E$**"
   ]
  },
  {
   "cell_type": "code",
   "execution_count": null,
   "id": "5a516c05-9903-49e5-90c4-2183aad8c3fe",
   "metadata": {
    "colab": {
     "referenced_widgets": [
      "a1b6059958ea4e56aef07b3d955ca889"
     ]
    },
    "collapsed": true,
    "id": "5a516c05-9903-49e5-90c4-2183aad8c3fe",
    "jupyter": {
     "outputs_hidden": true,
     "source_hidden": true
    },
    "outputId": "aa407544-6b34-46ae-9d9d-3b26418ed8ff",
    "tags": []
   },
   "outputs": [
    {
     "data": {
      "application/vnd.jupyter.widget-view+json": {
       "model_id": "a1b6059958ea4e56aef07b3d955ca889",
       "version_major": 2,
       "version_minor": 0
      },
      "text/plain": [
       "interactive(children=(IntSlider(value=50, description='N', min=1), Output()), _dom_classes=('widget-interact',…"
      ]
     },
     "metadata": {},
     "output_type": "display_data"
    }
   ],
   "source": [
    "q_ar = [qprof_05,qprof_15]\n",
    "param_ar = ['Phi00','Phi01','dPhi01dr','Er','VP','dErdr','RSpol','RSphi','dRSphidr','VT']\n",
    "\n",
    "param_ar = ['dRSpoldr']\n",
    "\n",
    "for iq,q in enumerate(q_ar):\n",
    "    q['Ptransfert'] = -q['dRSpoldr'] * (-q['Er'])\n",
    "    q['Ptransfert_approx'] = -q['RSpol'] * (-q['dErdr'])\n",
    "    q['Ptransfert_res'] = np.gradient(-q['RSpol'] * (-q['Er']), q['rg'], axis=1) \n",
    "\n",
    "param_ar = ['Ptransfert']\n",
    "    \n",
    "for ip,p in enumerate(param_ar):\n",
    "    \n",
    "    def update_plot(N):\n",
    "        plt.close('all')\n",
    "    \n",
    "        fig = plt.figure(figsize=(xfigsize,6))\n",
    "        fig.suptitle(p)\n",
    "        ax1 = fig.add_subplot(111)\n",
    "        size_window = N * 250 * 1.3 / len(qprof_05['rg']) \n",
    "        ax1.set_title(r'Approximative window size for avg : %.1f $\\rho_i$' % size_window )\n",
    "        for iq,q in enumerate(q_ar):\n",
    "\n",
    "            irhomin = (np.abs(q['rho'] - 0. )).argmin()\n",
    "            irhomax = (np.abs(q['rho'] - 1. )).argmin()\n",
    "\n",
    "            itmin = (np.abs(q['time'] - 60e3 )).argmin()\n",
    "            itmax = (np.abs(q['time'] - 80e3 )).argmin()\n",
    "\n",
    "            ## Plot raw\n",
    "            ax1.plot(q['rho'][irhomin:irhomax], np.mean(q[p][itmin:itmax,irhomin:irhomax],axis=0),c=q['c'], ls='--')\n",
    "            \n",
    "            ## Plot coarse-grained\n",
    "            p_ma = uniform_filter1d(uniform_filter1d(np.mean(q[p][itmin:itmax,irhomin:irhomax],axis=0),size=N),size=N)\n",
    "\n",
    "            ax1.plot(q['rho'][irhomin:irhomax], p_ma, label=q['title'],lw=3,c=q['c'], ls='-')\n",
    "\n",
    "            ax1.axhline(y=0,c='k',ls='--')\n",
    "\n",
    "        ax1.plot(q['rho'][10:10+N],np.ones(N)*np.amax(p_ma)/2,c='xkcd:battleship grey',lw=5)\n",
    "\n",
    "        ax1.legend()\n",
    "        ax1.set_xlabel(r'$r/a$')\n",
    "    \n",
    "    interact(update_plot, N=(1, 100, 1), value=60);"
   ]
  },
  {
   "cell_type": "markdown",
   "id": "031203d4-f1f4-4e93-98cd-d2a5f82d873d",
   "metadata": {
    "id": "031203d4-f1f4-4e93-98cd-d2a5f82d873d"
   },
   "source": [
    "## <font color='red'>**Résultat**</font> - Validation de la simplification sur la **puissance $\\mathcal{P} = \\langle - \\nabla \\cdot \\Pi_{r\\theta} \\rangle V_E$**"
   ]
  },
  {
   "cell_type": "code",
   "execution_count": 22,
   "id": "d793c61c-7265-42e7-87a6-31eeca3a5444",
   "metadata": {
    "colab": {
     "referenced_widgets": [
      "51fffb00664142cfbdf5678288d1f3f0",
      "1f9a51f2d37346dfbf5df034f8a1f5ff"
     ]
    },
    "collapsed": true,
    "id": "d793c61c-7265-42e7-87a6-31eeca3a5444",
    "jupyter": {
     "outputs_hidden": true,
     "source_hidden": true
    },
    "outputId": "0c1038be-ac4b-4bcc-b7da-dfce2179f6ab",
    "tags": []
   },
   "outputs": [
    {
     "data": {
      "application/vnd.jupyter.widget-view+json": {
       "model_id": "141e3f8fb2b04e2bb4e3d5470f301ab6",
       "version_major": 2,
       "version_minor": 0
      },
      "text/plain": [
       "interactive(children=(IntSlider(value=60, description='N', min=1), FloatSlider(value=100.0, description='dpi_a…"
      ]
     },
     "metadata": {},
     "output_type": "display_data"
    }
   ],
   "source": [
    "q_ar = [qprof_05,qprof_15]\n",
    "\n",
    "for iq,q in enumerate(q_ar):\n",
    "    #q['Ptransfert'] = -q['dRSpoldr'] * (-q['Er'])\n",
    "    q['Ptransfert_approx'] = q['RSpol'] * (-q['dErdr'])\n",
    "    q['Ptransfert_res'] = np.gradient(-q['RSpol'] * (-q['Er']), q['rg'], axis=1) \n",
    "\n",
    "param_ar = ['Ptransfert', 'Ptransfert_approx']\n",
    "label_ar = [r'$\\nabla \\cdot \\Pi_{r\\theta} \\times V_{E\\theta}$', r'$\\Pi_{r\\theta} \\times \\partial_r V_{E\\theta}$']\n",
    "    \n",
    "colors_ar = ['xkcd:blue','xkcd:red','xkcd:purple','xkcd:green']\n",
    "colors_ar2 = ['xkcd:blue green','xkcd:dark orange','xkcd:bright pink','xkcd:apple green']\n",
    "    \n",
    "def update_plot(N,dpi_adjust):\n",
    "    plt.close('all')\n",
    "\n",
    "    fig = plt.figure(figsize=(6*len(q_ar),6), dpi=dpi_adjust)\n",
    "    size_window = N * 250 * 1.3 / len(qprof_05['rg']) \n",
    "    fig.suptitle(r'Approximative window size for avg : %.1f $\\rho_i$' % size_window )\n",
    "    for iq,q in enumerate(q_ar):\n",
    "\n",
    "        irhomin = (np.abs(q['rho'] - 0. )).argmin()\n",
    "        irhomax = (np.abs(q['rho'] - 1. )).argmin()\n",
    "\n",
    "        itmin = (np.abs(q['time'] - 100e3 )).argmin()\n",
    "        itmax = (np.abs(q['time'] - 145e3 )).argmin()\n",
    "\n",
    "        ax1 = fig.add_subplot(1,len(q_ar),iq+1)\n",
    "        ax1.set_title(q['title'])\n",
    "        for ip,p in enumerate(param_ar):\n",
    "            ## Plot raw\n",
    "            ax1.plot(q['rho'][irhomin:irhomax], np.mean(q[p][itmin:itmax,irhomin:irhomax],axis=0), c=colors_ar[ip], lw=1.5, ls='--')\n",
    "\n",
    "            ## Plot coarse-grained\n",
    "            ax1.plot(q['rho'][irhomin:irhomax], uniform_filter1d(uniform_filter1d(np.mean(q[p][itmin:itmax,irhomin:irhomax],axis=0),size=N),size=N), label=label_ar[ip],c=colors_ar[ip],lw=3, ls='-')\n",
    "\n",
    "        ax1.axhline(y=0,c='k',ls='--')\n",
    "        ax1.legend()\n",
    "        ax1.set_xlabel(r'$r/a$')\n",
    "    fig.tight_layout(rect=[0, 0.03, 1, 0.95])\n",
    "    ax1.plot(q['rho'][10:10+N],np.ones(N)*ax1.get_ylim()[1]/2,c='xkcd:battleship grey',lw=5)\n",
    "\n",
    "interact(update_plot, \n",
    "         N=widgets.IntSlider(min=1, max=100, step=1,value=60),\n",
    "         dpi_adjust=widgets.FloatSlider(min=30, max=200, step=1,value=100));"
   ]
  },
  {
   "attachments": {},
   "cell_type": "markdown",
   "id": "a06d592e",
   "metadata": {},
   "source": [
    "## <font color='coral'>**Travail en cours**</font> - Profil des termes dans l'équation $\\frac{1}{2} \\partial_t V_E^2 = - \\langle \\Pi_{r\\theta} \\rangle V_E - \\nu_\\theta (V_E - V_{neo}) V_E$\n",
    "/!\\ Ici on estime $- \\nu_\\theta (V_E - V_{neo}) V_E = \\frac{1}{2} \\partial_t V_E^2 + \\langle \\Pi_{r\\theta} \\rangle V_E$ donc on ne vérifie pas une conservation, au contraire on estime qu'elle est toujours vérifiée ce qui permet d'estimer le terme néoclassique"
   ]
  },
  {
   "cell_type": "code",
   "execution_count": 11,
   "id": "9d426cdd",
   "metadata": {},
   "outputs": [
    {
     "data": {
      "application/vnd.jupyter.widget-view+json": {
       "model_id": "2fc963e050f346608831d57d65138e1d",
       "version_major": 2,
       "version_minor": 0
      },
      "text/plain": [
       "interactive(children=(FloatSlider(value=100.0, description='dpi_adjust', min=30.0, step=1.0), FloatRangeSlider…"
      ]
     },
     "metadata": {},
     "output_type": "display_data"
    },
    {
     "data": {
      "text/plain": [
       "<function __main__.update_plot(dpi_adjust, float_range_time, q05_bool, q1_bool, q15_bool, q05n0_bool, q15n0_bool, q05new_bool, q05br_bool, q075br_bool, q15br_bool, prefactor_bool)>"
      ]
     },
     "execution_count": 11,
     "metadata": {},
     "output_type": "execute_result"
    }
   ],
   "source": [
    "def update_plot(dpi_adjust,float_range_time,\n",
    "               q05_bool,q1_bool,q15_bool,q05n0_bool,q15n0_bool,q05new_bool,\n",
    "               q05br_bool,q075br_bool,q15br_bool,\n",
    "               prefactor_bool):\n",
    "\n",
    "   tmin_avg,tmax_avg = float_range_time\n",
    "\n",
    "   q_ar = [qprof for qprof, qprof_bool in zip(all_sim, [q05_bool,q1_bool,q15_bool,q05n0_bool,q15n0_bool,q05new_bool,q05br_bool,q075br_bool,q15br_bool]) if qprof_bool]\n",
    "\n",
    "   fig = plt.figure(figsize=(6*len(q_ar),12), dpi=dpi_adjust)\n",
    "\n",
    "   for iq,q in enumerate(q_ar):\n",
    "\n",
    "      irhomin = (np.abs(q['rho'] - 0.0 )).argmin()\n",
    "      irhomax = (np.abs(q['rho'] - 1.1 )).argmin()\n",
    "\n",
    "      itmin = (np.abs(q['time'] - tmin_avg )).argmin()\n",
    "      itmax = (np.abs(q['time'] - tmax_avg )).argmin()\n",
    "\n",
    "      if prefactor_bool:\n",
    "         term1 = q['tevol_VEsq']\n",
    "         term2 = q['neo_energy_evol_w_prefactor']\n",
    "         term3 = q['Ptransfert_w_prefactor']\n",
    "      else :\n",
    "         term1 = q['tevol_VEsq']\n",
    "         term2 = q['neo_energy_evol']\n",
    "         term3 = q['Ptransfert']\n",
    "\n",
    "      ax = fig.add_subplot(len(q_ar),1,iq+1)\n",
    "      ax.set_title(q['title'])\n",
    "      ax.plot(q['rho'][irhomin:irhomax], np.mean(term1[itmin:itmax,irhomin:irhomax],axis=0), label=r'$ \\frac{1}{2}\\partial_t V_E^2$',c='xkcd:blue',lw=3, ls='-')\n",
    "      ax.plot(q['rho'][irhomin:irhomax], np.mean(term2[itmin:itmax,irhomin:irhomax],axis=0), label=r'$- \\nu_\\theta (V_E - V_{neo}) V_E$',c='xkcd:red',lw=3, ls='-')\n",
    "      ax.plot(q['rho'][irhomin:irhomax], np.mean(term3[itmin:itmax,irhomin:irhomax],axis=0), label=r'$-\\langle \\Pi_{r\\theta} \\times V_{E\\theta} \\rangle$',c='xkcd:purple',lw=3, ls='-')\n",
    "      ax.axhline(y=0,c='k',ls='--')\n",
    "      ax.legend(loc=('center left'))\n",
    "      ax.set_xlabel(r'$r/a$')\n",
    "      ax.axvline(x=1,c='k',ls='--')\n",
    "   fig.tight_layout(rect=[0, 0.03, 1, 0.95])\n",
    "   \n",
    "float_range_time_slider = widgets.FloatRangeSlider(value=[100e3, 145e3], min=0, max=150e3, step=1000, description='Time range', layout=Layout(width='50%'), style = {'description_width': 'initial'})\n",
    "\n",
    "\n",
    "interact(update_plot, \n",
    "         float_range_time=float_range_time_slider,\n",
    "         dpi_adjust=widgets.FloatSlider(min=30, max=100, step=1,value=dpi_custom),\n",
    "         q05_bool    = widgets.Checkbox(value=True,description='q05'),\n",
    "         q1_bool     = widgets.Checkbox(value=False,description='q1'),\n",
    "         q15_bool    = widgets.Checkbox(value=True,description='q15'),\n",
    "         q05n0_bool  = widgets.Checkbox(value=False,description='q05n0'),\n",
    "         q15n0_bool  = widgets.Checkbox(value=False,description='q15n0'),\n",
    "         q05new_bool = widgets.Checkbox(value=False,description='q05new'),\n",
    "         q05br_bool = widgets.Checkbox(value=False,description='q05br'),\n",
    "         q075br_bool = widgets.Checkbox(value=False,description='q075br'),\n",
    "         q15br_bool = widgets.Checkbox(value=False,description='q15br'),\n",
    "         prefactor_bool = widgets.Checkbox(value=True,description=r'With prefactor $1+2q^2$')\n",
    "        )"
   ]
  },
  {
   "attachments": {},
   "cell_type": "markdown",
   "id": "8e12b073",
   "metadata": {},
   "source": [
    "## <font color='coral'>**Travail en cours**</font> - Estimation de $\\nu_\\theta$ sur les simus néoclassiques"
   ]
  },
  {
   "cell_type": "code",
   "execution_count": 28,
   "id": "b85cb121",
   "metadata": {},
   "outputs": [
    {
     "data": {
      "application/vnd.jupyter.widget-view+json": {
       "model_id": "0aab7f012d36403ab1e5ad79d5ba3e6c",
       "version_major": 2,
       "version_minor": 0
      },
      "text/plain": [
       "interactive(children=(FloatSlider(value=65.0, description='dpi_adjust', min=30.0, step=1.0), FloatRangeSlider(…"
      ]
     },
     "metadata": {},
     "output_type": "display_data"
    },
    {
     "data": {
      "text/plain": [
       "<function __main__.update_plot(dpi_adjust, float_range_time, float_range_rho, q05_bool, q1_bool, q15_bool, q05n0_bool, q15n0_bool, q05new_bool)>"
      ]
     },
     "execution_count": 28,
     "metadata": {},
     "output_type": "execute_result"
    }
   ],
   "source": [
    "def update_plot(dpi_adjust,float_range_time,float_range_rho,\n",
    "               q05_bool,q1_bool,q15_bool,q05n0_bool,q15n0_bool,q05new_bool):\n",
    "\n",
    "   tmin_avg,tmax_avg = float_range_time\n",
    "   rhomin_avg,rhomax_avg = float_range_rho\n",
    "\n",
    "   q_ar = []\n",
    "   if q05_bool    : q_ar = np.append(q_ar,qprof_05)\n",
    "   if q1_bool     : q_ar = np.append(q_ar,qprof_1)\n",
    "   if q15_bool    : q_ar = np.append(q_ar,qprof_15)\n",
    "   if q05n0_bool  : q_ar = np.append(q_ar,qprof_05_n0)\n",
    "   if q15n0_bool  : q_ar = np.append(q_ar,qprof_15_n0)\n",
    "   if q05new_bool : q_ar = np.append(q_ar,qprof_05new)\n",
    "\n",
    "   fig = plt.figure(figsize=(6*len(q_ar),12), dpi=dpi_adjust)\n",
    "\n",
    "   ax  = fig.add_subplot(111)\n",
    "\n",
    "   for iq,q in enumerate(q_ar):\n",
    "\n",
    "      irhomin = (np.abs(q['rho'] - 0.0 )).argmin()\n",
    "      irhomax = (np.abs(q['rho'] - 1.1 )).argmin()\n",
    "\n",
    "      itmin = (np.abs(q['time'] - tmin_avg )).argmin()\n",
    "      itmax = (np.abs(q['time'] - tmax_avg )).argmin()\n",
    "\n",
    "      #ax = fig.add_subplot(len(q_ar),1,iq+1)\n",
    "      ax.set_title(q['title'])\n",
    "      ax.plot(np.mean(q['Er'][itmin:itmax,irhomin:irhomax],axis=1), \n",
    "              np.mean(q['dErdr'][itmin:itmax,irhomin:irhomax],axis=1), \n",
    "              label=q['title'],c=q['c'],lw=3, ls='-')\n",
    "      #ax.axhline(y=0,c='k',ls='--')\n",
    "      ax.legend()\n",
    "      ax.set_xlabel(r'$E_r$')\n",
    "   fig.tight_layout(rect=[0, 0.03, 1, 0.95])\n",
    "   \n",
    "float_range_time_slider = widgets.FloatRangeSlider(value=[10e3, 70e3], min=0, max=150e3, step=1000, description='Time range', layout=Layout(width='50%'), style = {'description_width': 'initial'})\n",
    "\n",
    "float_range_rho_slider = widgets.FloatRangeSlider(value=[0.84, 0.86], min=0, max=1.2, step=0.01, description='Normalized radius range', layout=Layout(width='50%'), style = {'description_width': 'initial'})\n",
    "    \n",
    "\n",
    "interact(update_plot, \n",
    "         float_range_time=float_range_time_slider,\n",
    "         float_range_rho=float_range_rho_slider,\n",
    "         dpi_adjust=widgets.FloatSlider(min=30, max=100, step=1,value=dpi_custom),\n",
    "         q05_bool    = widgets.Checkbox(value=False,description='q05'),\n",
    "         q1_bool     = widgets.Checkbox(value=False,description='q1'),\n",
    "         q15_bool    = widgets.Checkbox(value=False,description='q15'),\n",
    "         q05n0_bool  = widgets.Checkbox(value=True,description='q05n0'),\n",
    "         q15n0_bool  = widgets.Checkbox(value=True,description='q15n0'),\n",
    "         q05new_bool = widgets.Checkbox(value=False,description='q05new')\n",
    "        )"
   ]
  },
  {
   "cell_type": "markdown",
   "id": "7414de3f-09d8-4217-86cd-c0e7cecdde8b",
   "metadata": {
    "id": "7414de3f-09d8-4217-86cd-c0e7cecdde8b",
    "tags": []
   },
   "source": [
    "## <font color='royalblue'>**Temporaire**</font> - Fonction porte \"smooth\""
   ]
  },
  {
   "cell_type": "code",
   "execution_count": null,
   "id": "ee93fa6f-ab1f-4055-bb52-edac18b4f99b",
   "metadata": {
    "colab": {
     "referenced_widgets": [
      "bb5652af9efd4884886571d15e5e072d"
     ]
    },
    "collapsed": true,
    "id": "ee93fa6f-ab1f-4055-bb52-edac18b4f99b",
    "jupyter": {
     "outputs_hidden": true,
     "source_hidden": true
    },
    "outputId": "0681209b-5e28-4558-e859-dd7173a9b020"
   },
   "outputs": [
    {
     "data": {
      "application/vnd.jupyter.widget-view+json": {
       "model_id": "bb5652af9efd4884886571d15e5e072d",
       "version_major": 2,
       "version_minor": 0
      },
      "text/plain": [
       "Canvas(toolbar=Toolbar(toolitems=[('Home', 'Reset original view', 'home', 'home'), ('Back', 'Back to previous …"
      ]
     },
     "metadata": {},
     "output_type": "display_data"
    }
   ],
   "source": [
    "def smoothed_rectangular(x, left, right, k=10):\n",
    "    \"\"\"\n",
    "    Returns a smoothed rectangular function with smoothed discontinuities.\n",
    "    \n",
    "    Parameters:\n",
    "        x (array-like): The independent variable.\n",
    "        left (float): The left edge of the rectangular function.\n",
    "        right (float): The right edge of the rectangular function.\n",
    "        k (float): Controls the steepness of the sigmoid function. Higher k leads to sharper transition.\n",
    "        \n",
    "    Returns:\n",
    "        y (array-like): The smoothed rectangular function evaluated at x.\n",
    "    \"\"\"\n",
    "    y = 1 / (1 + np.exp(-k * (x - left))) - 1 / (1 + np.exp(-k * (x - right)))\n",
    "    return y\n",
    "\n",
    "# Example usage\n",
    "x = np.linspace(-10, 10, 1000)\n",
    "y = smoothed_rectangular(x, -9, 9, k=10)\n",
    "plt.figure()\n",
    "plt.plot(x, y)\n",
    "plt.show()"
   ]
  },
  {
   "cell_type": "markdown",
   "id": "d4ac4afd-f0dc-4c8c-b8c6-55b0e3fd9771",
   "metadata": {
    "id": "d4ac4afd-f0dc-4c8c-b8c6-55b0e3fd9771",
    "tags": []
   },
   "source": [
    "## <font color='xkcd:orange'>**(OLD)**</font> <font color='xkcd:sage'>**Exploration**</font> - Etude dans l'espace des fréquences"
   ]
  },
  {
   "cell_type": "code",
   "execution_count": 72,
   "id": "8a2ef373-cec9-4c09-ad21-4964db200e35",
   "metadata": {
    "colab": {
     "referenced_widgets": [
      "f2b5f72db0cf4d3b908603bf4d2c8a0e"
     ]
    },
    "collapsed": true,
    "id": "8a2ef373-cec9-4c09-ad21-4964db200e35",
    "jupyter": {
     "outputs_hidden": true,
     "source_hidden": true
    },
    "outputId": "395a7b87-9c57-4237-d3c9-bad95df533cf",
    "tags": []
   },
   "outputs": [
    {
     "data": {
      "application/vnd.jupyter.widget-view+json": {
       "model_id": "16518026cc2b43ec9c3359d78065e137",
       "version_major": 2,
       "version_minor": 0
      },
      "text/plain": [
       "interactive(children=(IntSlider(value=1, description='N', min=1), FloatSlider(value=0.8, description='colormap…"
      ]
     },
     "metadata": {},
     "output_type": "display_data"
    },
    {
     "data": {
      "text/plain": [
       "<function __main__.update_plot(N, colormap_range, dpi_adjust, param, float_range_time, float_range_rho, q05_bool, q1_bool, q15_bool, q05n0_bool, q15n0_bool, q05new_bool)>"
      ]
     },
     "execution_count": 72,
     "metadata": {},
     "output_type": "execute_result"
    }
   ],
   "source": [
    "plt.close('all')\n",
    "import matplotlib.colors as colors\n",
    "\n",
    "\n",
    "symetrical_cmap = 0\n",
    "\n",
    "param= 'Ptransfert'\n",
    "\n",
    "def update_plot(N,colormap_range,dpi_adjust,param,float_range_time,float_range_rho,\n",
    "               q05_bool,q1_bool,q15_bool,q05n0_bool,q15n0_bool,q05new_bool):\n",
    "    tmin_avg,tmax_avg = float_range_time\n",
    "    rhomin_avg,rhomax_avg = float_range_rho\n",
    "    \n",
    "    q_ar = []\n",
    "    if q05_bool    : q_ar = np.append(q_ar,qprof_05)\n",
    "    if q1_bool     : q_ar = np.append(q_ar,qprof_1)\n",
    "    if q15_bool    : q_ar = np.append(q_ar,qprof_15)\n",
    "    if q05n0_bool  : q_ar = np.append(q_ar,qprof_05_n0)\n",
    "    if q15n0_bool  : q_ar = np.append(q_ar,qprof_15_n0)\n",
    "    if q05new_bool : q_ar = np.append(q_ar,qprof_05new)\n",
    "    \n",
    "    plt.close('all')\n",
    "    \n",
    "    fig = plt.figure(figsize=(16,10), dpi=dpi_adjust)\n",
    "    fig.suptitle(r'Study of %s' %param)\n",
    "\n",
    "    Pmap = uniform_filter1d(uniform_filter1d(qprof_05[param],size=N,axis=1),size=N,axis=1)\n",
    "    if symetrical_cmap:\n",
    "        vmin = colormap_range*min( abs( np.min(Pmap) ), abs( np.max(Pmap) ) ) \n",
    "        vmax = -vmin\n",
    "    else:\n",
    "        vmin = colormap_range*np.min(Pmap) \n",
    "        vmax = colormap_range*np.max(Pmap) \n",
    "\n",
    "    gs = gridspec.GridSpec(5, 2*len(q_ar))\n",
    "    \n",
    "    for iq,q in enumerate(q_ar):\n",
    "\n",
    "        irhomin = (np.abs(q['rho'] - 0.0 )).argmin()\n",
    "        irhomax = (np.abs(q['rho'] - 1.1 )).argmin()\n",
    "\n",
    "        itmin = (np.abs(q['time'] - 0e3  )).argmin()\n",
    "        itmax = (np.abs(q['time'] - 145e3 )).argmin()\n",
    "\n",
    "        p_ma = uniform_filter1d(uniform_filter1d(q[param],size=N,axis=1),size=N,axis=1)\n",
    "        \n",
    "        ## Figure 1\n",
    "        ax_map = fig.add_subplot(gs[0:3, 2*iq:2*iq+2]) \n",
    "\n",
    "        ax_map.set_title(q['title'])\n",
    "        p=ax_map.pcolormesh(q['rho'][irhomin:irhomax],q['time'][itmin:itmax],p_ma[itmin:itmax,irhomin:irhomax],vmin=vmin,vmax=vmax)\n",
    "        fig.colorbar(p,ax=ax_map)\n",
    "        fig.tight_layout()\n",
    "        ax_map.set_xlabel(r'$r/a$')\n",
    "        ax_map.set_ylabel(r'Time $[\\omega_{c0}^{-1}]$')\n",
    "\n",
    "        ax_map.axvline(x=1,c='k',ls='--')\n",
    "        for rline in [0.8,0.6,0.4,0.2]:ax_map.axvline(x=rline,c='k',ls='--')\n",
    "        ax_map.set_xticks([1.0,0.8,0.6,0.4,0.2])\n",
    "        \n",
    "        ax_map.axvline(x=rhomin_avg,c='g',ls='-')\n",
    "        ax_map.axvline(x=rhomax_avg,c='g',ls='-')\n",
    "        \n",
    "        ax_map.axhline(y=tmin_avg,c='r',ls='-')\n",
    "        ax_map.axhline(y=tmax_avg,c='r',ls='-')\n",
    "        \n",
    "        ax_map.plot(q['rho'][10:10+N],np.ones(N)*ax_map.get_ylim()[1]/4,c='xkcd:battleship grey',lw=5) #Visualisation de la fenêtre de la moyenne glissante\n",
    "\n",
    "        \n",
    "        ##Figure 2\n",
    "        itmin_avg = (np.abs(q['time'] - tmin_avg )).argmin()\n",
    "        itmax_avg = (np.abs(q['time'] - tmax_avg )).argmin()\n",
    "\n",
    "        irhomin_avg = (np.abs(q['rho'] - rhomin_avg )).argmin()\n",
    "        irhomax_avg = (np.abs(q['rho'] - rhomax_avg )).argmin()\n",
    "        \n",
    "        #Perform fft\n",
    "        dt = q['time'][-1]-q['time'][-2]\n",
    "        w = np.fft.fftfreq(q['time'][itmin_avg:itmax_avg].shape[-1], d=dt) #Calcul des fréquences.\n",
    "        fspectra = np.fft.fft(p_ma[itmin_avg:itmax_avg,:], axis=0)[np.argsort(w)]*dt/(tmax_avg-tmin_avg) #Calcul du spectre. La fonction argsort permet d'organiser les éléments du spectre dans l'ordre tel que les fréquences soient trier dans l'ordre croissant (pas indispensable mais utile pour la visualisation) \n",
    "\n",
    "        \n",
    "        ax_fspectra = fig.add_subplot(gs[3:, 0:len(q_ar)]) \n",
    "        ax_fspectra.set_title(r'Fourier amplitude (avg %.2f < r/a < %.2f)' % (rhomin_avg , rhomax_avg) )\n",
    "        ax_fspectra.semilogy(np.sort(w), np.mean(np.abs(fspectra[:,irhomin_avg:irhomax_avg]),axis=1),ls=q['ls'],c=q['c'],label=q['title'])\n",
    "        ax_fspectra.set_xlabel(r'$\\omega [\\omega_{c0}]$')\n",
    "        ax_fspectra.legend(fontsize=14)\n",
    "        \n",
    "        #Fréquence GAM théorique\n",
    "        #omega_theo = np.mean( np.mean( (2*np.sqrt(q['T'] * (5/3) *(1 + (1/(2*q['q']**2) ) )) /800)[itmin_avg:itmax_avg] ,axis=0)[irhomin_avg:irhomax_avg] )\n",
    "        #ax_fspectra.axvline(x=omega_theo,c='purple')\n",
    "        \n",
    "        ax_fphase = fig.add_subplot(gs[3:, len(q_ar):]) \n",
    "        ax_fphase.set_title(r'Fourier phase (avg %.2f < r/a < %.2f)' % (rhomin_avg , rhomax_avg) )\n",
    "        ax_fphase.plot(np.sort(w), np.mean(np.angle(fspectra[:,irhomin_avg:irhomax_avg]),axis=1),ls=q['ls'],c=q['c'],label=q['title'])\n",
    "        ax_fphase.set_xlabel(r'$\\omega [\\omega_{c0}]$')\n",
    "        ax_fphase.axhline(y=0,ls='--',c='k')\n",
    "        ax_fphase.legend(fontsize=16)\n",
    "\n",
    "    fig.tight_layout(rect=[0, 0.03, 1, 0.95])\n",
    "\n",
    "float_range_time_slider = widgets.FloatRangeSlider(value=[63e3, 101e3], min=0, max=150e3, step=1000, description='Time range', layout=Layout(width='50%'), style = {'description_width': 'initial'})\n",
    "    \n",
    "float_range_rho_slider = widgets.FloatRangeSlider(value=[0.75, 0.85], min=0, max=1.2, step=0.01, description='Normalized radius range', layout=Layout(width='50%'), style = {'description_width': 'initial'})\n",
    "    \n",
    "interact(update_plot, \n",
    "         N=widgets.IntSlider(min=1, max=100, step=1,value=1),\n",
    "         float_range_time=float_range_time_slider,\n",
    "         float_range_rho=float_range_rho_slider,\n",
    "         colormap_range=widgets.FloatSlider(min=0.1, max=2, step=0.05,value=0.8),\n",
    "         dpi_adjust=widgets.FloatSlider(min=30, max=100, step=1,value=100),\n",
    "         param = widgets.Text(value='Ptransfert',placeholder='Type something',description='Select parameter:',disabled=False),\n",
    "         q05_bool    = widgets.Checkbox(value=True,description='q05'),\n",
    "         q1_bool     = widgets.Checkbox(value=False,description='q1'),\n",
    "         q15_bool    = widgets.Checkbox(value=True,description='q15'),\n",
    "         q05n0_bool  = widgets.Checkbox(value=False,description='q05n0'),\n",
    "         q15n0_bool  = widgets.Checkbox(value=False,description='q15n0'),\n",
    "         q05new_bool = widgets.Checkbox(value=False,description='q05new')\n",
    "        )"
   ]
  },
  {
   "cell_type": "code",
   "execution_count": null,
   "id": "bb155abf-7de1-402c-9584-ca2bf130e30b",
   "metadata": {
    "collapsed": true,
    "id": "bb155abf-7de1-402c-9584-ca2bf130e30b",
    "jupyter": {
     "outputs_hidden": true,
     "source_hidden": true
    },
    "tags": []
   },
   "outputs": [],
   "source": []
  }
 ],
 "metadata": {
  "colab": {
   "provenance": []
  },
  "kernelspec": {
   "display_name": "Python 3 (ipykernel)",
   "language": "python",
   "name": "python3"
  },
  "language_info": {
   "codemirror_mode": {
    "name": "ipython",
    "version": 3
   },
   "file_extension": ".py",
   "mimetype": "text/x-python",
   "name": "python",
   "nbconvert_exporter": "python",
   "pygments_lexer": "ipython3",
   "version": "3.8.11"
  }
 },
 "nbformat": 4,
 "nbformat_minor": 5
}
