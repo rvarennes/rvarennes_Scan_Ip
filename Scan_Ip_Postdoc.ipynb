{
 "cells": [
  {
   "attachments": {},
   "cell_type": "markdown",
   "id": "80fff3db-e465-484b-887a-0bcee6cd4784",
   "metadata": {
    "id": "80fff3db-e465-484b-887a-0bcee6cd4784"
   },
   "source": [
    "<a id='initialisation'></a>\n",
    "___\n",
    "___\n",
    "## <font color='coral'>**Appel de l'environment** </font> [▲](#sommaire)"
   ]
  },
  {
   "cell_type": "code",
   "execution_count": 20,
   "id": "887238a0-a1e9-4e0a-b49b-368fb0520038",
   "metadata": {
    "colab": {
     "base_uri": "https://localhost:8080/",
     "height": 467
    },
    "executionInfo": {
     "elapsed": 736,
     "status": "error",
     "timestamp": 1676539950083,
     "user": {
      "displayName": "Robin Varennes",
      "userId": "10829639768318658771"
     },
     "user_tz": -60
    },
    "id": "887238a0-a1e9-4e0a-b49b-368fb0520038",
    "outputId": "0b790d25-e7f8-42a8-c67a-567dbb7c92c8",
    "tags": []
   },
   "outputs": [
    {
     "data": {
      "application/vnd.jupyter.widget-view+json": {
       "model_id": "79055f943f3d433998617e4e186ca282",
       "version_major": 2,
       "version_minor": 0
      },
      "text/plain": [
       "Checkbox(value=False, description='Original simulation', layout=Layout(width='50%'))"
      ]
     },
     "metadata": {},
     "output_type": "display_data"
    },
    {
     "data": {
      "application/vnd.jupyter.widget-view+json": {
       "model_id": "12e5d0bae2194cbcb57c32a10618006d",
       "version_major": 2,
       "version_minor": 0
      },
      "text/plain": [
       "Checkbox(value=False, description='Neoclassical simulation', layout=Layout(width='50%'))"
      ]
     },
     "metadata": {},
     "output_type": "display_data"
    },
    {
     "data": {
      "application/vnd.jupyter.widget-view+json": {
       "model_id": "a9a7a69925b140efac90afe01652161b",
       "version_major": 2,
       "version_minor": 0
      },
      "text/plain": [
       "Checkbox(value=False, description='First phase of new simulation', layout=Layout(width='50%'))"
      ]
     },
     "metadata": {},
     "output_type": "display_data"
    },
    {
     "data": {
      "application/vnd.jupyter.widget-view+json": {
       "model_id": "58882497612649ec8dac60e903df036f",
       "version_major": 2,
       "version_minor": 0
      },
      "text/plain": [
       "Checkbox(value=False, description='Second phase of new simulation', layout=Layout(width='50%'))"
      ]
     },
     "metadata": {},
     "output_type": "display_data"
    },
    {
     "data": {
      "application/vnd.jupyter.widget-view+json": {
       "model_id": "c4275e74f0434548a5315d1665df7e10",
       "version_major": 2,
       "version_minor": 0
      },
      "text/plain": [
       "Checkbox(value=False, description='Test - Aligned coordinate with 7 points for gyroavg', layout=Layout(width='…"
      ]
     },
     "metadata": {},
     "output_type": "display_data"
    },
    {
     "data": {
      "application/vnd.jupyter.widget-view+json": {
       "model_id": "29b86ee880e4421b8c2bf6aa8726c3cc",
       "version_major": 2,
       "version_minor": 0
      },
      "text/plain": [
       "Checkbox(value=True, description='Aligned simulation', layout=Layout(width='50%'))"
      ]
     },
     "metadata": {},
     "output_type": "display_data"
    }
   ],
   "source": [
    "%reset -f\n",
    "import ipywidgets as widgets\n",
    "%matplotlib widget\n",
    "\n",
    "## For GPU optimization\n",
    "# import cupy as np\n",
    "# from cupyx.scipy.ndimage import uniform_filter1d\n",
    "\n",
    "import h5py\n",
    "import numpy as np\n",
    "import matplotlib.pyplot as plt\n",
    "import matplotlib.gridspec as gridspec\n",
    "from scipy.ndimage import uniform_filter1d, gaussian_filter1d\n",
    "from IPython.display import clear_output\n",
    "from RVutils import *\n",
    "\n",
    "## For sliders\n",
    "from ipywidgets import Layout, interact\n",
    "\n",
    "## Set up rc\n",
    "plt.rcParams['image.cmap'] = 'RdYlBu_r'\n",
    "plt.rcParams['axes.formatter.limits'] = (-3,1)\n",
    "plt.rcParams['lines.linewidth'] = 2.5\n",
    "plt.rcParams.update({\"axes.grid\" : True})\n",
    "plt.rcParams['lines.markersize'] = 8\n",
    "plt.rcParams['lines.markeredgecolor'] = 'k'\n",
    "plt.rcParams['lines.markeredgewidth'] = 2.0\n",
    "plt.rc('font',size=18)\n",
    "me = (0.1,0.1) #Markevery\n",
    "\n",
    "#Size of figures\n",
    "dpi_laptop = 50; dpi_cadarache = 65; dpi_home = 100\n",
    "dpi_custom = dpi_home\n",
    "\n",
    "## Set colors\n",
    "import seaborn as sns\n",
    "palette = [\"bright\", \"dark\", \"deep\", \"muted\", \"pastel\", \"colorblind\"]\n",
    "\n",
    "## Checkbox to select which simulations to plot\n",
    "original_sim       = widgets.Checkbox(value=False,description='Original simulation',layout=Layout(width='50%'))\n",
    "neoclassical_sim   = widgets.Checkbox(value=False,description='Neoclassical simulation',layout=Layout(width='50%'))\n",
    "firstphase_newsim  = widgets.Checkbox(value=False,description='First phase of new simulation',layout=Layout(width='50%'))\n",
    "secondphase_newsim = widgets.Checkbox(value=False,description='Second phase of new simulation',layout=Layout(width='50%'))\n",
    "test_aligned_GC7   = widgets.Checkbox(value=False,description='Test - Aligned coordinate with 7 points for gyroavg',layout=Layout(width='50%'))\n",
    "aligned_sim        = widgets.Checkbox(value=True,description='Aligned simulation',layout=Layout(width='50%'))\n",
    "\n",
    "display(original_sim,neoclassical_sim,firstphase_newsim,secondphase_newsim,test_aligned_GC7,aligned_sim)\n",
    "\n",
    "## \n",
    "wished_values = ['As', 'Zs', \n",
    "                 'Gamma_vD', 'Gamma_vE',\n",
    "                 'Isq', 'dIsqdr',\n",
    "                 'ns0','Ts0','n','T', 'Pperp',\n",
    "                 'RSpol', 'RSpol_vD', 'RSpol_vE',\n",
    "                 'VP', 'VT', 'Phi00', 'PhiFSavg', 'Er', 'Er_00',\n",
    "                 'nu_i', 'nustar', 'vorticity', 'P',\n",
    "                 'rho', 'time', 'q', 'rg',\n",
    "                 'IturbGC_FSavg','Gamma_vEn0','Qtot']\n",
    "\n",
    "#untreated_values = ['spreading_0deg', 'spreading_180deg', 'spreading_270deg', 'spreading_90deg', 'spreading_FSavg', \n",
    "                    # 'nIturbGC_FSavg','dIdr' 'delta_n_avg', 'Ppar',\n",
    "                    # 'Qpar_vD', 'Qpar_vE', 'Qpar_vEn0', 'Qperp_vD', 'Qperp_vE', 'Qperp_vEn0', 'Qtot_vD', 'Qtot_vE', 'Qtot_vEn0',\n",
    "                    # 'RSphi', 'RSphi_vD', 'RSphi_vE', 'RSphi_vEn0',\n",
    "                    # 'RSpol_vEn0',\n",
    "                    # 'eps']\n",
    "untreated_values = []\n"
   ]
  },
  {
   "attachments": {},
   "cell_type": "markdown",
   "id": "ba3ab4ae-00e9-4736-98be-c91174dae5cb",
   "metadata": {
    "id": "ba3ab4ae-00e9-4736-98be-c91174dae5cb"
   },
   "source": [
    "<a id='chargement_donnees'></a>\n",
    "## <font color='coral'>**Chargement des données** </font> [▲](#sommaire)"
   ]
  },
  {
   "cell_type": "code",
   "execution_count": 21,
   "id": "2186af80-4b36-4285-85ed-55ff5da9f574",
   "metadata": {
    "id": "2186af80-4b36-4285-85ed-55ff5da9f574",
    "jupyter": {
     "source_hidden": true
    },
    "outputId": "f20c6730-029a-4833-d1d5-489ce50325c4",
    "tags": []
   },
   "outputs": [
    {
     "name": "stdout",
     "output_type": "stream",
     "text": [
      "dict_keys(['ls', 'As', 'Er', 'Er_00', 'Gamma_vD', 'Gamma_vE', 'Gamma_vEn0', 'Gamma_vEndiff0', 'Isq', 'Phi00', 'PhiFSavg', 'Ppar', 'Pperp', 'Qpar_vD', 'Qpar_vE', 'Qpar_vEn0', 'Qperp_vD', 'Qperp_vE', 'Qperp_vEn0', 'RSphi_vD', 'RSphi_vE', 'RSphi_vEn0', 'RSpol_vD', 'RSpol_vE', 'RSpol_vEn0', 'T', 'Ts0', 'VP', 'VT', 'Zs', 'delta_n_avg', 'eps', 'n', 'ns0', 'nu_i', 'nustar', 'q', 'rg', 'rho', 'spreading_0deg', 'spreading_180deg', 'spreading_270deg', 'spreading_90deg', 'spreading_FSavg', 'time', 'title', 'c', 'c2'])\n",
      "Memory usage of all_sim = 693.6247253417969 MB\n"
     ]
    }
   ],
   "source": [
    "def hdf5_to_dict(filename):\n",
    "    \"\"\"Load a dictionary of arrays and strings as unicode characters from an HDF5 file.\"\"\"\n",
    "    with h5py.File(filename, 'r') as f:\n",
    "        d = {}\n",
    "        for k in f.keys():\n",
    "            if k not in untreated_values:\n",
    "                v = f[k][()]\n",
    "                if isinstance(v, bytes):d[k] = v.decode('utf-8')\n",
    "                else:d[k] = np.array(v)\n",
    "    return mydict(d)\n",
    "\n",
    "all_sim = []\n",
    "# First simulations\n",
    "if original_sim.value:\n",
    "    qprof_05 = hdf5_to_dict('data/TS45511_q05.hdf5'); qprof_05['title'] = r'$q_{ref} \\times 0.5$'; qprof_05['c'] = sns.color_palette(palette[2])[0]; qprof_05['c2'] = sns.color_palette(palette[5])[0]\n",
    "    qprof_1  = hdf5_to_dict('data/TS45511_q1.hdf5') ; qprof_1['title']  = r'$q_{ref}$'           ; qprof_1['c']  = sns.color_palette(palette[2])[2]; qprof_1['c2']  = sns.color_palette(palette[5])[2]        \n",
    "    qprof_15 = hdf5_to_dict('data/TS45511_q15.hdf5'); qprof_15['title'] = r'$q_{ref} \\times 1.5$'; qprof_15['c'] = sns.color_palette(palette[2])[3]; qprof_15['c2'] = sns.color_palette(palette[5])[3]\n",
    "    all_sim.extend([qprof_05,qprof_1,qprof_15])\n",
    "\n",
    "# Simulations without turbulence, only toroidal n=0 mode kept\n",
    "if neoclassical_sim.value:\n",
    "    qprof_05_n0 = hdf5_to_dict('data/TS45511_q05_n0.hdf5'); qprof_05_n0['title']=r'$q_{ref} \\times 0.5$ - $n=0$'; qprof_05_n0['c']  = sns.color_palette(palette[1])[0]; qprof_05_n0['c2']  = sns.color_palette(palette[4])[0]\n",
    "    qprof_15_n0 = hdf5_to_dict('data/TS45511_q15_n0.hdf5'); qprof_15_n0['title']=r'$q_{ref} \\times 1.5$ - $n=0$'; qprof_15_n0['c']  = sns.color_palette(palette[1])[3]; qprof_15_n0['c2']  = sns.color_palette(palette[4])[3]\n",
    "    all_sim.extend([qprof_05_n0,qprof_15_n0])\n",
    "\n",
    "# Redo of first simulations with better time resolution - 1st phase\n",
    "if firstphase_newsim.value:\n",
    "    qprof_05_br  = hdf5_to_dict('data/TS45511_q05_br.hdf5') ; qprof_05_br['title'] =r'$q_{ref}^{BR} \\times 0.5$' ; qprof_05_br['c']  = sns.color_palette(palette[0])[0]; qprof_05_br['c2']  = sns.color_palette(palette[3])[0]\n",
    "    qprof_075_br = hdf5_to_dict('data/TS45511_q075_br.hdf5'); qprof_075_br['title']=r'$q_{ref}^{BR} \\times 0.75$'; qprof_075_br['c'] = sns.color_palette(palette[0])[1]; qprof_075_br['c2'] = sns.color_palette(palette[3])[1]\n",
    "    qprof_15_br  = hdf5_to_dict('data/TS45511_q15_br.hdf5') ; qprof_15_br['title'] =r'$q_{ref}^{BR} \\times 1.5$' ; qprof_15_br['c']  = sns.color_palette(palette[0])[3]; qprof_15_br['c2']  = sns.color_palette(palette[3])[3]\n",
    "    qprof_05_alignedGC7  = hdf5_to_dict('data/TS45511_q05_aligned_GC7.hdf5') ; qprof_05_alignedGC7['title'] = r'$q_{ref}^{align} \\times 0.5$' ; qprof_05_alignedGC7['c']='xkcd:green' ; qprof_05_alignedGC7['c2']='xkcd:lime'  ; qprof_05_alignedGC7['ls']='-'\n",
    "    all_sim.extend([qprof_05_br,qprof_075_br,qprof_15_br,qprof_05_alignedGC7])\n",
    "\n",
    "# Redo of first simulations with better time resolution - 2nd phase\n",
    "if secondphase_newsim.value:\n",
    "    qprof_05_br_2ndphase  = hdf5_to_dict('data/TS45511_q05_br_secondphase.hdf5') ; qprof_05_br_2ndphase['title'] =r'$q_{ref}^{BR,2nd} \\times 0.5$' ; qprof_05_br_2ndphase['c']='xkcd:blue' ; qprof_05_br_2ndphase['c']  = sns.color_palette(palette[0])[0]; qprof_05_br_2ndphase['c2']  = sns.color_palette(palette[3])[0]\n",
    "    qprof_075_br_2ndphase = hdf5_to_dict('data/TS45511_q075_br_secondphase.hdf5'); qprof_075_br_2ndphase['title']=r'$q_{ref}^{BR,2nd} \\times 0.75$'; qprof_075_br_2ndphase['c']='xkcd:pink'; qprof_075_br_2ndphase['c'] = sns.color_palette(palette[0])[1]; qprof_075_br_2ndphase['c2'] = sns.color_palette(palette[3])[1]\n",
    "    qprof_15_br_2ndphase  = hdf5_to_dict('data/TS45511_q15_br_secondphase.hdf5') ; qprof_15_br_2ndphase['title'] =r'$q_{ref}^{BR,2nd} \\times 1.5$' ; qprof_15_br_2ndphase['c']='xkcd:red'  ; qprof_15_br_2ndphase['c']  = sns.color_palette(palette[0])[3]; qprof_15_br_2ndphase['c2']  = sns.color_palette(palette[3])[3]\n",
    "    qprof_05_br_2ndphase['RSdia']  = np.load('data/q05_RSdia_FSavg.npy')[:-1,:] ; qprof_05_br_2ndphase['RSpol_vE_from3D']  = np.load('data/q05_RSelec_FSavg.npy')[:-1,:] ; qprof_05_br_2ndphase['RSpol_tot_from3D']  = qprof_05_br_2ndphase['RSdia'] + qprof_05_br_2ndphase['RSpol_vE_from3D']\n",
    "    qprof_075_br_2ndphase['RSdia'] = np.load('data/q075_RSdia_FSavg.npy')[:-1,:]; qprof_075_br_2ndphase['RSpol_vE_from3D'] = np.load('data/q075_RSelec_FSavg.npy')[:-1,:]; qprof_075_br_2ndphase['RSpol_tot_from3D'] = qprof_075_br_2ndphase['RSdia'] + qprof_075_br_2ndphase['RSpol_vE_from3D']\n",
    "    qprof_15_br_2ndphase['RSdia']  = np.load('data/q15_RSdia_FSavg.npy')[:-1,:] ; qprof_15_br_2ndphase['RSpol_vE_from3D']  = np.load('data/q15_RSelec_FSavg.npy')[:-1,:] ; qprof_15_br_2ndphase['RSpol_tot_from3D']  = qprof_15_br_2ndphase['RSdia'] + qprof_15_br_2ndphase['RSpol_vE_from3D']\n",
    "    all_sim.extend([qprof_05_br_2ndphase,qprof_075_br_2ndphase,qprof_15_br_2ndphase])\n",
    "\n",
    "# Test with aligned coordinates and 7 points for the gyroaverage\n",
    "if test_aligned_GC7.value:\n",
    "    qprof_05_alignedGC7  = hdf5_to_dict('data/TS45511_q05_aligned_GC7.hdf5') ; qprof_05_alignedGC7['title'] = r'$q_{ref}^{align} \\times 0.5$' ; qprof_05_alignedGC7['c']='xkcd:green' ; qprof_05_alignedGC7['c2']='xkcd:lime'  ; qprof_05_alignedGC7['ls']='-'\n",
    "    qprof_05_br          = hdf5_to_dict('data/TS45511_q05_br.hdf5')          ; qprof_05_br['title']         = r'$q_{ref}^{BR} \\times 0.5$'    ; qprof_05_br['c']='xkcd:blue'          ; qprof_05_br['c2']='xkcd:azure'         ; qprof_05_br['ls']='-'\n",
    "    qprof_05_GC7         = hdf5_to_dict('data/TS45511_q05_GC7.hdf5')         ; qprof_05_GC7['title']        = r'$q_{ref}^{GC7} \\times 0.5$'   ; qprof_05_GC7['c']='xkcd:red'          ; qprof_05_GC7['c2']='xkcd:light red'    ; qprof_05_GC7['ls']='-'\n",
    "    qprof_05_n0          = hdf5_to_dict('data/TS45511_q05_n0.hdf5')          ; qprof_05_n0['title']         = r'$q_{ref} \\times 0.5$ - $n=0$' ; qprof_05_n0['c']='xkcd:bright orange' ; qprof_05_n0['c2']='xkcd:vermillion'    ; qprof_05_n0['ls']='-'\n",
    "    all_sim.extend([qprof_05_br,qprof_05_alignedGC7,qprof_05_n0,qprof_05_GC7])\n",
    "\n",
    "if aligned_sim.value:\n",
    "    qprof_05_alignedGC7  = hdf5_to_dict('data/TS45511_q05_aligned_GC7.hdf5') ; qprof_05_alignedGC7['title'] = r'$q_{ref}^{align} \\times 0.5$' ; qprof_05_alignedGC7['c']='xkcd:green' ; qprof_05_alignedGC7['c2']='xkcd:blue'     ; qprof_05_alignedGC7['ls']='-' \n",
    "    qprof_15_alignedGC7  = hdf5_to_dict('data/TS45511_q15_aligned_GC7.hdf5') ; qprof_15_alignedGC7['title'] = r'$q_{ref}^{align} \\times 1.5$' ; qprof_15_alignedGC7['c']='xkcd:red'   ; qprof_15_alignedGC7['c2']='xkcd:bordeaux' ; qprof_15_alignedGC7['ls']='-'\n",
    "\n",
    "    qprof_05_br          = hdf5_to_dict('data/TS45511_q05_br.hdf5')          ; qprof_05_br['title']         = r'$q_{ref}^{BR} \\times 0.5$'    ; qprof_05_br['c']='xkcd:dark sea green'   ; qprof_05_br['c2']='xkcd:ocean blue'       ; qprof_05_br['ls']='--'\n",
    "    qprof_15_br          = hdf5_to_dict('data/TS45511_q15_br.hdf5')          ; qprof_15_br['title'] =r'$q_{ref}^{BR} \\times 1.5$'             ; qprof_15_br['c']='xkcd:neon pink'     ; qprof_15_br['c2']='xkcd:bright violet'    ; qprof_15_br['ls']='--'\n",
    "\n",
    "    qprof_05_br_2ndphase  = hdf5_to_dict('data/TS45511_q05_br_secondphase.hdf5') ; qprof_05_br_2ndphase['title'] =r'$q_{ref}^{BR,2nd} \\times 0.5$' ; qprof_05_br_2ndphase['c']='xkcd:blue' ; qprof_05_br_2ndphase['c']  = sns.color_palette(palette[0])[0]; qprof_05_br_2ndphase['c2']  = sns.color_palette(palette[3])[0]; qprof_05_br_2ndphase['ls']='--'\n",
    "    qprof_15_br_2ndphase  = hdf5_to_dict('data/TS45511_q15_br_secondphase.hdf5') ; qprof_15_br_2ndphase['title'] =r'$q_{ref}^{BR,2nd} \\times 1.5$' ; qprof_15_br_2ndphase['c']='xkcd:red'  ; qprof_15_br_2ndphase['c']  = sns.color_palette(palette[0])[3]; qprof_15_br_2ndphase['c2']  = sns.color_palette(palette[3])[3]; qprof_15_br_2ndphase['ls']='--'\n",
    "\n",
    "    all_sim.extend([qprof_05_br,qprof_05_alignedGC7,qprof_15_br,qprof_15_alignedGC7,qprof_05_br_2ndphase,qprof_15_br_2ndphase])\n",
    "\n",
    "print(all_sim[0].keys())\n",
    "\n",
    "## Add markers entry to each dictionnary\n",
    "marker_ar = ['o', 's', 'v', 'D', 'P', 'X', 'd', 'p', 'x']\n",
    "for iq,q in enumerate(all_sim):\n",
    "    q['marker'] = marker_ar[iq]\n",
    "    \n",
    "## Estimation of the memory usage of the dictionnaries in all_sim\n",
    "mem_usage = 0\n",
    "for q in all_sim:\n",
    "    for p in q.keys():\n",
    "        if type(q[p]) is np.ndarray:\n",
    "            mem_usage += q[p].nbytes\n",
    "print('Memory usage of all_sim = %s MB' % (mem_usage/1024/1024))\n",
    "\n",
    "## Definition of custom widgets used in interactive plots\n",
    "custom_widgets = {'dpi_adjust' : widgets.IntSlider(min=30, max=200, step=1,value=dpi_custom, continuous_update=False),\n",
    "                  'N'          : widgets.IntSlider(min=1, max=100, step=1,value=1, continuous_update=False), \n",
    "                  'select_sim' : widgets.SelectMultiple(options=[q['title'] for q in all_sim], value=[q['title'] for q in [all_sim[0], all_sim[-1]]], description='Simulations'), \n",
    "                  'param'      : widgets.Text(value='Er',placeholder='Type something',description='Select parameter:', continuous_update=False),\n",
    "                  'param2'     : widgets.Text(value='',placeholder='Type something',description='Select parameter:', continuous_update=False)}\n"
   ]
  },
  {
   "attachments": {},
   "cell_type": "markdown",
   "id": "18192225-03ec-4e2f-8770-fbd26f6b7a8f",
   "metadata": {
    "id": "18192225-03ec-4e2f-8770-fbd26f6b7a8f"
   },
   "source": [
    "___\n",
    "___"
   ]
  },
  {
   "attachments": {},
   "cell_type": "markdown",
   "id": "3da9c9ac",
   "metadata": {},
   "source": [
    "<a id='sommaire'></a>\n",
    "Le notebook est organisé de la façon suivante :\n",
    "- [Initialisation](#initialisation)\n",
    "- [Chargement des données](#chargement_donnees)\n",
    "1) <font color='xkcd:sage'>**Cellules d'exploration de données**</font>\n",
    "    - [Profil radial](#exploration_radial_profile)\n",
    "    - [Evolution temporelle](#exploration_temporal_evolution)\n",
    "    - [Video de profil radial](#exploration_video_radial_profile)\n",
    "    - [Etude dans l'espace réel](#exploration_real_study)\n",
    "    - [Etude dans l'espace fréquentiel (en DFT)](#exploration_frequency_study)\n",
    "    - [Etude dans l'espace fréquentiel (en densité spectrale)](#exploration_spectral_density_study)\n",
    "    - [Cross-corrélation en temps](#exploration_cross_correlation)\n",
    "    - [Cycle limite](#exploration_cycle_limite)\n",
    "2) <font color='coral'>**Cellules de travail en cours**</font>\n",
    "    - [Conservation de la vorticité généralisée](#en_cours_cons_vorticity)\n",
    "    - [Estimation de l'impact de l'approximation de Pade](#en_cours_assessment_pade_approx)\n",
    "    - [Erreur absolue entre $- \\partial_t \\left( \\frac{m n_0}{B_0} \\langle \\phi \\rangle_{FS} +  \\frac{m}{2 e B_0^2} \\langle P_\\perp \\rangle_{FS} \\right) $ et $\\partial_r J_r$](#en_cours_absolute_error_current)\n",
    "    - [Conservation de la vorticité (avec tenseur diamagnétique)](#en_cours_cons_vorticity_withdia)\n",
    "    - [Profil radial des termes dans l'équation d'évolution de l'énergie](#en_cours_rprof_energy_evo_terms)\n",
    "    - [Estimation de $\\nu_\\theta$](#en_cours_estimation_nutheta)\n",
    "    - [Profils amplitude GAMs et ZFs](#en_cours_profile_amplitude_gams_zfs)\n",
    "    - [Spectre 2D de $\\phi(\\theta,\\varphi)$](#en_cours_tf_phi)\n",
    "    - [Spectre du taux de croissance](#en_cours_spectre_taux_croissance)\n",
    "2) <font color='red'>**Cellules de résultats**</font>\n",
    "    - [Profil radial du safety factor](#resultat_rprof_safety_factor)\n",
    "    - [Profil radial du tenseur de Reynolds poloidal](#resultat_rprof_reynolds_stress)\n",
    "    - [Profil radial de la divergence du tenseur de Reynolds poloidal](#resultat_rprof_div_reynolds_stress)\n",
    "    - [Profil en $q$ de la divergence du tenseur de Reynolds poloidal](#resultat_qscan_div_reynolds_stress)\n",
    "    - [Profil radial des flows ($E_r, V_P, V_T$)](#resultat_rprof_flows)\n",
    "    - [Profil radial de la friction néoclassique empirique (Gianakon)](#resultat_rprof_nutheta_gianakon)\n",
    "    - [Profil radial de l'intensité turbulente](#resultat_rprof_turb_int)\n",
    "    - [Profil radial de la fréquence de collision ionique](#resultat_rprof_ion_collision_freq)\n",
    "    - [Validation de l'approximation $\\int_0^{r_0} \\langle - \\nabla \\cdot \\Pi_{r\\theta} \\rangle V_E \\approx \\int_0^{r_0} -\\langle \\Pi_{r\\theta} \\rangle \\partial_r V_E$](#resultat_validation_approx_ptransfert)"
   ]
  },
  {
   "attachments": {},
   "cell_type": "markdown",
   "id": "29ca0e64",
   "metadata": {},
   "source": [
    "<a id='exploration_radial_profile'></a>\n",
    "## <font color='xkcd:sage'>**Exploration**</font> - Profil radial [▲](#sommaire)"
   ]
  },
  {
   "cell_type": "code",
   "execution_count": 3,
   "id": "280898b8",
   "metadata": {},
   "outputs": [
    {
     "data": {
      "application/vnd.jupyter.widget-view+json": {
       "model_id": "5fcadde226624c32900111753fc62cf4",
       "version_major": 2,
       "version_minor": 0
      },
      "text/plain": [
       "interactive(children=(IntSlider(value=1, continuous_update=False, description='N', min=1), Text(value='Isq_Te_…"
      ]
     },
     "metadata": {},
     "output_type": "display_data"
    },
    {
     "data": {
      "text/plain": [
       "<function __main__.update_plot(N, param, param2, float_range_time, select_sim, dpi_adjust)>"
      ]
     },
     "execution_count": 3,
     "metadata": {},
     "output_type": "execute_result"
    },
    {
     "data": {
      "application/vnd.jupyter.widget-view+json": {
       "model_id": "1d289e7a87de4bacb0e22e78ac83eec8",
       "version_major": 2,
       "version_minor": 0
      },
      "image/png": "[encoded data removed]",
      "text/html": [
       "\n",
       "            <div style=\"display: inline-block;\">\n",
       "                <div class=\"jupyter-widgets widget-label\" style=\"text-align: center;\">\n",
       "                    Figure\n",
       "                </div>\n",
       "                <img src='data:image/png;base64,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' width=1200.0/>\n",
       "            </div>\n",
       "        "
      ],
      "text/plain": [
       "Canvas(toolbar=Toolbar(toolitems=[('Home', 'Reset original view', 'home', 'home'), ('Back', 'Back to previous …"
      ]
     },
     "metadata": {},
     "output_type": "display_data"
    }
   ],
   "source": [
    "plt.close('all')\n",
    "clear_output\n",
    "\n",
    "fig = plt.figure(figsize=(12,6))\n",
    "\n",
    "\n",
    "def update_plot(N,param,param2,float_range_time,\n",
    "                select_sim,dpi_adjust):\n",
    "\n",
    "    q_ar = [q for q in all_sim if q['title'] in select_sim]\n",
    "    tmin_avg,tmax_avg = float_range_time\n",
    "    \n",
    "    color1 = 'xkcd:cerulean'\n",
    "    color2 = 'xkcd:reddish orange'\n",
    "\n",
    "    ## Set dpi of figure\n",
    "    fig.set_dpi(dpi_adjust)\n",
    "\n",
    "    ## Clear previous plot\n",
    "    plt.clf()\n",
    "    ax_rprof = fig.add_subplot(111)\n",
    "    if param2:\n",
    "        ax_rprof2 = ax_rprof.twinx()\n",
    "        ax_rprof2.grid(False)\n",
    "\n",
    "    ## Set axes customizations\n",
    "    ax_rprof.set_title(r'Radial profile (avg %.0f < t$[\\omega_{c0}^{-1}]$ < %.0f)' % (tmin_avg , tmax_avg) )\n",
    "    fig.suptitle(r'Study of %s' %param)\n",
    "    \n",
    "    for q in q_ar:\n",
    "\n",
    "        itmin_avg, itmax_avg = np.searchsorted(q['time'],[tmin_avg,tmax_avg])\n",
    "        irhomin, irhomax     = np.searchsorted(q['rho'],[0.3,1.1])\n",
    "\n",
    "        p_ma = uniform_filter1d(uniform_filter1d(q[param],size=N,axis=1),size=N,axis=1)\n",
    "\n",
    "        ax_rprof.plot(q['rho'][irhomin:irhomax], np.mean( p_ma[itmin_avg:itmax_avg,irhomin:irhomax],axis=0),c=q['c'],ls=q['ls'],label=q['title'])\n",
    "        \n",
    "        if param2:\n",
    "            p_ma2 = uniform_filter1d(uniform_filter1d(q[param2],size=N,axis=1),size=N,axis=1)\n",
    "            ax_rprof2.plot(q['rho'][irhomin:irhomax], np.mean( p_ma2[itmin_avg:itmax_avg,irhomin:irhomax],axis=0),c=q['c2'],label=q['title'])\n",
    "        \n",
    "    ## Axes customizations\n",
    "    ax_rprof.set_xlabel(r'$r/a$')\n",
    "    ax_rprof.axhline(y=0,c='k',ls='--')\n",
    "    ax_rprof.axvline(x=1,c='k',ls='--')\n",
    "    ax_rprof.legend(fontsize=16)\n",
    "    #ax_rprof.set_ylim([min(ax_rprof.get_ylim()[0],ax_rprof2.get_ylim()[0]),max(ax_rprof.get_ylim()[1],ax_rprof2.get_ylim()[1])])\n",
    "    if param2:\n",
    "        ax_rprof2.yaxis.label.set_color(color2)\n",
    "        ax_rprof2.tick_params(axis='y', colors=color2)\n",
    "        ## Set sale y limit for both axes\n",
    "        #ax_rprof2.set_ylim([min(ax_rprof.get_ylim()[0],ax_rprof2.get_ylim()[0]),max(ax_rprof.get_ylim()[1],ax_rprof2.get_ylim()[1])])\n",
    "    #ax_rprof.plot(q['rho'][10:10+N],np.ones(N)*ax_rprof.get_ylim()[1]/4,c='xkcd:battleship grey',lw=5) #Visualize the sliding average window\n",
    "\n",
    "    fig.tight_layout(rect=[0, 0.03, 1, 0.95])\n",
    "    \n",
    "float_range_time_slider = widgets.FloatRangeSlider(value=[100e3, 145e3], min=0, max=303e3, step=1000, description='Time range', layout=Layout(width='50%'), continuous_update=False)\n",
    "\n",
    "interact(update_plot, \n",
    "         float_range_time = float_range_time_slider,\n",
    "         **custom_widgets\n",
    "        )"
   ]
  },
  {
   "attachments": {},
   "cell_type": "markdown",
   "id": "1f3ad01f",
   "metadata": {},
   "source": [
    "<a id='exploration_temporal_evolution'></a>\n",
    "## <font color='xkcd:sage'>**Exploration**</font> - Evolution temporelle [▲](#sommaire)"
   ]
  },
  {
   "cell_type": "code",
   "execution_count": 15,
   "id": "bbe04259",
   "metadata": {
    "tags": []
   },
   "outputs": [
    {
     "data": {
      "application/vnd.jupyter.widget-view+json": {
       "model_id": "e57ba72b1e4945daac3d203e70110e6f",
       "version_major": 2,
       "version_minor": 0
      },
      "text/plain": [
       "Canvas(toolbar=Toolbar(toolitems=[('Home', 'Reset original view', 'home', 'home'), ('Back', 'Back to previous …"
      ]
     },
     "metadata": {},
     "output_type": "display_data"
    },
    {
     "data": {
      "application/vnd.jupyter.widget-view+json": {
       "model_id": "05d18cab77504aca9ef6191c55195500",
       "version_major": 2,
       "version_minor": 0
      },
      "text/plain": [
       "interactive(children=(IntSlider(value=1, continuous_update=False, description='N', min=1), Text(value='Er', co…"
      ]
     },
     "metadata": {},
     "output_type": "display_data"
    },
    {
     "data": {
      "text/plain": [
       "<function __main__.update_plot(N, param, param2, float_range_rho, float_range_time, select_sim, dpi_adjust)>"
      ]
     },
     "execution_count": 15,
     "metadata": {},
     "output_type": "execute_result"
    }
   ],
   "source": [
    "plt.close('all')\n",
    "clear_output\n",
    "\n",
    "fig = plt.figure(figsize=(12,6))\n",
    "\n",
    "def update_plot(N,param,param2,float_range_rho,float_range_time,\n",
    "                select_sim,dpi_adjust):\n",
    "\n",
    "    q_ar = [q for q in all_sim if q['title'] in select_sim]\n",
    "    tmin_avg  ,tmax_avg   = float_range_time\n",
    "    rhomin_avg,rhomax_avg = float_range_rho\n",
    "    \n",
    "    color1 = 'xkcd:cerulean'\n",
    "    color2 = 'xkcd:reddish orange'\n",
    "\n",
    "    ## Set dpi of figure\n",
    "    fig.set_dpi(dpi_adjust)\n",
    "\n",
    "    ## Clear previous plot\n",
    "    plt.clf()\n",
    "    ax_tevol = fig.add_subplot(111)\n",
    "    if param2:\n",
    "        ax_tevol2 = ax_tevol.twinx()\n",
    "        ax_tevol2.grid(False)\n",
    "\n",
    "    ## Set axes customizations\n",
    "    ax_tevol.set_title(r'Temporal evolution (avg %.2f < $r/a$ < %.2f)' % (rhomin_avg , rhomax_avg) )\n",
    "    fig.suptitle(r'Study of %s' %param)\n",
    "    \n",
    "    for q in q_ar:\n",
    "\n",
    "        itmin_avg, itmax_avg = np.searchsorted(q['time'],[tmin_avg,tmax_avg])\n",
    "        irhomin, irhomax     = np.searchsorted(q['rho'],[rhomin_avg,rhomax_avg])\n",
    "\n",
    "        p_ma = uniform_filter1d(uniform_filter1d(q[param],size=N,axis=1),size=N,axis=1)\n",
    "\n",
    "        ax_tevol.plot(q['time'][itmin_avg:itmax_avg], np.mean( p_ma[itmin_avg:itmax_avg,irhomin:irhomax],axis=1),c=q['c'],label=q['title'])\n",
    "        \n",
    "        if param2:\n",
    "            p_ma2 = uniform_filter1d(uniform_filter1d(q[param2],size=N,axis=1),size=N,axis=1)\n",
    "            ax_tevol2.plot(q['time'][itmin_avg:itmax_avg], np.mean( p_ma2[itmin_avg:itmax_avg,irhomin:irhomax],axis=1),c=q['c2'],label=q['title'])\n",
    "        \n",
    "    ## Axes customizations\n",
    "    ax_tevol.set_xlabel(r'$t[\\omega_{c0}^{-1}]$')\n",
    "    ax_tevol.axhline(y=0,c='k',ls='--')\n",
    "    ax_tevol.legend()\n",
    "    #ax_tevol.set_ylim([min(ax_tevol.get_ylim()[0],ax_tevol2.get_ylim()[0]),max(ax_tevol.get_ylim()[1],ax_tevol2.get_ylim()[1])])\n",
    "    if param2:\n",
    "        ax_tevol2.yaxis.label.set_color(color2)\n",
    "        ax_tevol2.tick_params(axis='y', colors=color2)\n",
    "        ## Set sale y limit for both axes\n",
    "        #ax_tevol2.set_ylim([min(ax_tevol.get_ylim()[0],ax_tevol2.get_ylim()[0]),max(ax_tevol.get_ylim()[1],ax_tevol2.get_ylim()[1])])\n",
    "    #ax_tevol.plot(q['rho'][10:10+N],np.ones(N)*ax_tevol.get_ylim()[1]/4,c='xkcd:battleship grey',lw=5) #Visualize the sliding average window\n",
    "\n",
    "    fig.tight_layout(rect=[0, 0.03, 1, 0.95])\n",
    "    \n",
    "float_range_time_slider = widgets.FloatRangeSlider(value=[0e3, 303e3], min=0, max=303e3, step=1000, description='Time range', layout=Layout(width='50%'), continuous_update=False)\n",
    "float_range_rho_slider  = widgets.FloatRangeSlider(value=[0.75, 0.85], min=0.1, max=1.3, step=0.01, description='rho range', layout=Layout(width='50%'), continuous_update=False)\n",
    "\n",
    "interact(update_plot, \n",
    "         float_range_time = float_range_time_slider,\n",
    "         float_range_rho  = float_range_rho_slider,\n",
    "         **custom_widgets\n",
    "        )"
   ]
  },
  {
   "attachments": {},
   "cell_type": "markdown",
   "id": "864bc9d2",
   "metadata": {},
   "source": [
    "<a id='exploration_video_radial_profile'></a>\n",
    "## <font color='xkcd:sage'>**Exploration**</font> - Video of radial profiles [▲](#sommaire)"
   ]
  },
  {
   "cell_type": "code",
   "execution_count": 5,
   "id": "8fdc5558",
   "metadata": {},
   "outputs": [
    {
     "data": {
      "application/vnd.jupyter.widget-view+json": {
       "model_id": "38ccdd2fd0a34cf2a1d7e318aa36aac9",
       "version_major": 2,
       "version_minor": 0
      },
      "text/plain": [
       "interactive(children=(IntSlider(value=1, continuous_update=False, description='N', min=1), IntSlider(value=100…"
      ]
     },
     "metadata": {},
     "output_type": "display_data"
    },
    {
     "data": {
      "text/plain": [
       "<function __main__.update_plot(N, dpi_adjust, param, select_sim, float_range_rho, it_play, time_slider, bool_fixed_y_range, coef_ylim)>"
      ]
     },
     "execution_count": 5,
     "metadata": {},
     "output_type": "execute_result"
    },
    {
     "data": {
      "application/vnd.jupyter.widget-view+json": {
       "model_id": "ce243c78d8344c66b95aa1e876fd4d42",
       "version_major": 2,
       "version_minor": 0
      },
      "image/png": "[encoded data removed]",
      "text/html": [
       "\n",
       "            <div style=\"display: inline-block;\">\n",
       "                <div class=\"jupyter-widgets widget-label\" style=\"text-align: center;\">\n",
       "                    Figure\n",
       "                </div>\n",
       "                <img src='data:image/png;base64,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' width=1200.0/>\n",
       "            </div>\n",
       "        "
      ],
      "text/plain": [
       "Canvas(toolbar=Toolbar(toolitems=[('Home', 'Reset original view', 'home', 'home'), ('Back', 'Back to previous …"
      ]
     },
     "metadata": {},
     "output_type": "display_data"
    }
   ],
   "source": [
    "plt.close('all')\n",
    "clear_output\n",
    "\n",
    "fig = plt.figure(figsize=(12,6))\n",
    "ax_rprof = fig.add_subplot(111) \n",
    "\n",
    "def update_plot(N,dpi_adjust,param,\n",
    "               select_sim,float_range_rho,\n",
    "               it_play, time_slider, bool_fixed_y_range,coef_ylim):\n",
    "\n",
    "    clear_output\n",
    "\n",
    "    rhomin_avg,rhomax_avg = float_range_rho\n",
    "\n",
    "    ## Select profiles to plot\n",
    "    q_ar = [q for q in all_sim if q['title'] in select_sim]\n",
    "\n",
    "    ## Set title of figure\n",
    "    fig.suptitle(r'Study of %s' %param)\n",
    "\n",
    "    ## Set dpi of figure\n",
    "    if dpi_adjust!=dpi_custom: fig.set_dpi(dpi_adjust)\n",
    "\n",
    "    ## Clear previous plot\n",
    "    ax_rprof.clear()\n",
    "\n",
    "    for q in q_ar:\n",
    "\n",
    "        ## Find index of rho=0.1 and rho=1.1\n",
    "        irhomin, irhomax = np.searchsorted(q['rho'],[rhomin_avg,rhomax_avg])\n",
    "\n",
    "        ## Compute sliding average\n",
    "        p_ma = uniform_filter1d(uniform_filter1d(q[param],size=N,axis=1),size=N,axis=1)\n",
    "\n",
    "        ## Plot radial profile\n",
    "        ax_rprof.set_title(r'Radial profile (at t= %.0f $[\\omega_{c0}^{-1}]$)' % (q['time'][it_play]) )\n",
    "        ax_rprof.plot(q['rho'][irhomin:irhomax], p_ma[it_play,irhomin:irhomax],c=q['c'],label=q['title'])\n",
    "        ax_rprof.plot(q['rho'][10:10+N],np.ones(N)*ax_rprof.get_ylim()[1]/4,c='xkcd:battleship grey',lw=5) #Visualize the sliding average window\n",
    "\n",
    "    ## Plot reference lines\n",
    "    ax_rprof.axhline(y=0,c='k',ls='--'); ax_rprof.axvline(x=1,c='k',ls='--')\n",
    "\n",
    "    ## Set labels and legend\n",
    "    ax_rprof.set_xlabel(r'$r/a$')\n",
    "    ax_rprof.legend()\n",
    "\n",
    "    ax_rprof.set_xlim([rhomin_avg,rhomax_avg])\n",
    "    ax_rprof.set_ylim(-5e-6,5e-6)\n",
    "\n",
    "    ## Fix y range if bool_fixed_y_range is True\n",
    "    if bool_fixed_y_range:\n",
    "        ax_rprof.set_ylim(bottom = coef_ylim*np.amin(p_ma), top = coef_ylim*np.amax(p_ma))\n",
    "\n",
    "    fig.tight_layout(rect=[0, 0.03, 1, 0.95])\n",
    "\n",
    "    \n",
    "slider=widgets.IntSlider(value=0,min=0,max=len(all_sim[1]['time']),step=1,description=\"Time index\",layout=Layout(width='50%'))\n",
    "play  = widgets.Play(value=30,min=0,max=len(all_sim[1]['time']),step=1,interval=400,description=\"Press play\")\n",
    "\n",
    "coef_ylim_widget = widgets.FloatSlider(value=1,min=0.1,max=1,step=0.05,description=\"Coef ylim\",layout=Layout(width='20%'))\n",
    "float_range_rho_slider  = widgets.FloatRangeSlider(value=[0.1, 1.1], min=0, max=1.2, step=0.05, description='Normalized radius range', layout=Layout(width='50%'), style = {'description_width': 'initial'}, continuous_update=False)\n",
    "\n",
    "widgets.jslink((play, 'value'), (slider, 'value'))\n",
    "\n",
    "interact(update_plot, \n",
    "        bool_fixed_y_range = widgets.Checkbox(value=False,description='Fix y range'),\n",
    "        time_slider = slider,\n",
    "        it_play = play,\n",
    "        coef_ylim = coef_ylim_widget,\n",
    "        float_range_rho = float_range_rho_slider,\n",
    "        **custom_widgets\n",
    "        )"
   ]
  },
  {
   "attachments": {},
   "cell_type": "markdown",
   "id": "cb8c715f-1102-429d-a93b-9674a02f8d3c",
   "metadata": {
    "id": "cb8c715f-1102-429d-a93b-9674a02f8d3c"
   },
   "source": [
    "<a id='exploration_real_study'></a>\n",
    "## <font color='xkcd:sage'>**Exploration**</font> - Etude complète d'une quantité donnée dans l'espace réel [▲](#sommaire)"
   ]
  },
  {
   "cell_type": "code",
   "execution_count": 23,
   "id": "42778907-184d-4526-9dd4-7da03b4a4a6a",
   "metadata": {
    "colab": {
     "referenced_widgets": [
      "c1aaf8a5993a4245a6e5542d8be96071"
     ]
    },
    "collapsed": true,
    "id": "42778907-184d-4526-9dd4-7da03b4a4a6a",
    "jupyter": {
     "outputs_hidden": true,
     "source_hidden": true
    },
    "outputId": "f810bb76-ec45-4f95-a7b0-50637dcb8e31",
    "tags": []
   },
   "outputs": [
    {
     "data": {
      "application/vnd.jupyter.widget-view+json": {
       "model_id": "a2e419e299e641f9995ae17953bb4095",
       "version_major": 2,
       "version_minor": 0
      },
      "text/plain": [
       "Canvas(toolbar=Toolbar(toolitems=[('Home', 'Reset original view', 'home', 'home'), ('Back', 'Back to previous …"
      ]
     },
     "metadata": {},
     "output_type": "display_data"
    },
    {
     "data": {
      "application/vnd.jupyter.widget-view+json": {
       "model_id": "e28ce1b4bec449af88291fdab6d0ffbb",
       "version_major": 2,
       "version_minor": 0
      },
      "text/plain": [
       "interactive(children=(IntSlider(value=1, continuous_update=False, description='N', min=1), Text(value='Qpar_vE…"
      ]
     },
     "metadata": {},
     "output_type": "display_data"
    },
    {
     "data": {
      "text/plain": [
       "<function __main__.update_plot(N, param, float_range_time, float_range_rho, colormap_range, dpi_adjust, symetrical_cmap, select_sim, bool_appearing_lines)>"
      ]
     },
     "execution_count": 23,
     "metadata": {},
     "output_type": "execute_result"
    }
   ],
   "source": [
    "plt.close('all')\n",
    "\n",
    "fig = plt.figure(figsize=(16,10))\n",
    "\n",
    "def update_plot(N,param,float_range_time,float_range_rho,\n",
    "               colormap_range,dpi_adjust, symetrical_cmap, select_sim, bool_appearing_lines):\n",
    "    \n",
    "    plt.clf()\n",
    "\n",
    "    q_ar = [q for q in all_sim if q['title'] in select_sim]\n",
    "    \n",
    "    tmin_avg,tmax_avg = float_range_time\n",
    "    rhomin_avg,rhomax_avg = float_range_rho\n",
    "\n",
    "    ## Set dpi of figure\n",
    "    fig.set_dpi(dpi_adjust)\n",
    "\n",
    "    ## Clear previous plot\n",
    "    for axes in fig.axes: axes.clear()\n",
    "    \n",
    "    fig.suptitle(r'Study of %s' %param)\n",
    "\n",
    "    Pmap = uniform_filter1d(uniform_filter1d(q_ar[0][param],size=N,axis=1),size=N,axis=1)\n",
    "    if symetrical_cmap:\n",
    "        vmin = colormap_range*min( abs( np.min(Pmap) ), abs( np.max(Pmap) ) ) \n",
    "        vmax = -vmin\n",
    "    else:\n",
    "        vmin = colormap_range*np.min(Pmap) \n",
    "        vmax = colormap_range*np.max(Pmap) \n",
    "\n",
    "    gs = gridspec.GridSpec(3, 2*len(q_ar))\n",
    "    ax_rprof = fig.add_subplot(gs[2:, 0:len(q_ar)]) \n",
    "    ax_tevol = fig.add_subplot(gs[2:, len(q_ar):]) \n",
    "    \n",
    "    for iq,q in enumerate(q_ar):\n",
    "\n",
    "        print(q['title'] + ' : ' + str(q['time'][0]) + ' to ' + str(q['time'][-1]) + ' [wc0^-1]')\n",
    "\n",
    "        itmin, itmax      = np.searchsorted(q['time'],[0e3,250e3])\n",
    "        # itmin = np.argmin( np.abs(q['time']-0e3) )\n",
    "        # itmax = np.argmin( np.abs(q['time']-250e3) )\n",
    "        irhomin, irhomax  = np.searchsorted(q['rho'],[0.0,1.1])\n",
    "\n",
    "        p_ma = uniform_filter1d(uniform_filter1d(q[param],size=N,axis=1),size=N,axis=1)\n",
    "        \n",
    "        ## Figure 1\n",
    "        ax_map = fig.add_subplot(gs[0:2, 2*iq:2*iq+2]) \n",
    "\n",
    "        ax_map.set_title(q['title'])\n",
    "        p=ax_map.pcolormesh(q['rho'][irhomin:irhomax],q['time'][:],p_ma[:,irhomin:irhomax],vmin=vmin,vmax=vmax)\n",
    "        fig.colorbar(p,ax=ax_map)\n",
    "        ax_map.set_xlabel(r'$r/a$')\n",
    "        ax_map.set_ylabel(r'Time $[\\omega_{c0}^{-1}]$')\n",
    "\n",
    "        ax_map.axvline(x=1,c='k',ls='--')\n",
    "        for rline in [0.8,0.6,0.4,0.2]:ax_map.axvline(x=rline,c='k',ls='--')\n",
    "        ax_map.set_xticks([1.0,0.8,0.6,0.4,0.2])\n",
    "        if bool_appearing_lines:\n",
    "            ax_map.axvline(x=rhomin_avg,c='xkcd:purple',ls='-',lw=3); ax_map.axvline(x=rhomax_avg,c='xkcd:purple',ls='-',lw=3)\n",
    "            ax_map.axhline(y=tmin_avg,c='r',ls='-',lw=3); ax_map.axhline(y=tmax_avg,c='r',ls='-',lw=3)\n",
    "            \n",
    "        ax_map.plot(q['rho'][10:10+N],np.ones(N)*ax_map.get_ylim()[1]/4,c='xkcd:battleship grey',lw=5) #Visualize the sliding average window\n",
    "\n",
    "        ax_map.set_ylim(0,303e3)\n",
    "\n",
    "        ##Figure 2\n",
    "        itmin_avg, itmax_avg = np.searchsorted(q['time'],[tmin_avg,tmax_avg])\n",
    "\n",
    "        ax_rprof.set_title(r'Radial profile (avg %.0f < t$[\\omega_{c0}^{-1}]$ < %.0f)' % (tmin_avg , tmax_avg) )\n",
    "        ax_rprof.plot(q['rho'][irhomin:irhomax], np.mean( p_ma[itmin_avg:itmax_avg,irhomin:irhomax],axis=0),c=q['c'],ls=q['ls'],label=q['title'])\n",
    "        ax_rprof.set_xlabel(r'$r/a$')\n",
    "        ax_rprof.axvline(x=rhomin_avg,c='k',ls='--')\n",
    "        ax_rprof.axvline(x=rhomax_avg,c='k',ls='--')\n",
    "        ax_rprof.legend()\n",
    "        irhomin_avg, irhomax_avg = np.searchsorted(q['rho'],[rhomin_avg,rhomax_avg])\n",
    "\n",
    "        \n",
    "        ax_tevol.set_title(r'Temporal evolution (avg %.2f < r/a < %.2f)' % (rhomin_avg , rhomax_avg) )\n",
    "        ax_tevol.plot(q['time'][itmin:itmax], np.mean(p_ma[itmin:itmax,irhomin_avg:irhomax_avg],axis=1),c=q['c'],ls=q['ls'])\n",
    "        ax_tevol.set_xlabel(r'Time $[\\omega_{c0}^{-1}]$')\n",
    "    \n",
    "    for axes in [ax_rprof,ax_tevol]: \n",
    "        axes.axhline(y=0,c='k',ls='--')\n",
    "\n",
    "    fig.tight_layout(rect=[0, 0.03, 1, 0.95])\n",
    "    \n",
    "float_range_time_slider = widgets.FloatRangeSlider(value=[200e3, 250e3], min=0, max=303e3, step=1000, description='Time range', layout=Layout(width='50%'), style = {'description_width': 'initial'}, continuous_update=False)\n",
    "float_range_rho_slider  = widgets.FloatRangeSlider(value=[0.8, 0.9], min=0, max=1.2, step=0.01, description='Normalized radius range', layout=Layout(width='50%'), style = {'description_width': 'initial'}, continuous_update=False)\n",
    "\n",
    "interact(update_plot, \n",
    "         float_range_time     = float_range_time_slider,\n",
    "         float_range_rho      = float_range_rho_slider,\n",
    "         colormap_range       = widgets.FloatSlider(min=0.01, max=2, step=0.01,value=0.8, continuous_update=False),\n",
    "         symetrical_cmap      = widgets.Checkbox(value=False,description='symetrical_cmap'),\n",
    "         bool_appearing_lines = widgets.Checkbox(value=True,description='Appearing lines'),\n",
    "         **custom_widgets\n",
    "        )"
   ]
  },
  {
   "attachments": {},
   "cell_type": "markdown",
   "id": "c1652071-d943-4038-b5d3-d2648f958e6e",
   "metadata": {
    "id": "c1652071-d943-4038-b5d3-d2648f958e6e",
    "jupyter": {
     "source_hidden": true
    },
    "tags": []
   },
   "source": [
    "<a id='exploration_frequency_study'></a> \n",
    "## <font color='xkcd:sage'>**Exploration**</font> - Etude dans l'espace des fréquences <font color='red'>(Bug with last version of FFT)</font> [▲](#sommaire)\n",
    "<font color='red'> /!\\ </font> La fréquence théorique des GAMs est calculée comme $f_{theo} = \\frac{2}{R_0} \\sqrt{ \\frac{5}{3} \\frac{T}{m}  \\left(1 + \\frac{1}{2q^2} \\right)} \\color{red}{\\frac{1}{2 \\pi}}$ \n",
    "En effet, je suspecte que la formule théorique donne la pulsation que tout le monde appelle fréquence par abus de language\n",
    "\n",
    "<font color='red'> /!\\ </font> Les spectres sont calculés avec des moyennes radiales, de cette façon :\n",
    "- [ ] $\\huge TF[\\langle s(r,t) \\rangle_{r1}^{r2}] $\n",
    "- [x] $\\huge \\langle  TF[ s(r,t) ] \\rangle_{r1}^{r2}$\n",
    "\n",
    "PS: les deux sont définis dans le code ci-dessous en tant que \"fspectra_1\" et \"fspectra_2\" respectivement."
   ]
  },
  {
   "cell_type": "code",
   "execution_count": null,
   "id": "0bd8c72f-d8f3-441d-bf05-dc7442674749",
   "metadata": {
    "colab": {
     "referenced_widgets": [
      "5b7855046e1d4f5d9ac92e2694af779b"
     ]
    },
    "collapsed": true,
    "id": "0bd8c72f-d8f3-441d-bf05-dc7442674749",
    "jupyter": {
     "outputs_hidden": true,
     "source_hidden": true
    },
    "outputId": "117f8d31-75c2-46c2-9bb7-b867458a3503",
    "tags": []
   },
   "outputs": [],
   "source": [
    "plt.close('all')\n",
    "import matplotlib.colors as colors\n",
    "from scipy.signal import welch\n",
    "\n",
    "symetrical_cmap = 0\n",
    "\n",
    "fig = plt.figure(figsize=(16,10))\n",
    "\n",
    "def update_plot(N,colormap_range,dpi_adjust,param,float_range_time,float_range_rho,\n",
    "               select_sim,\n",
    "               DFTradial_avg1_bool, DFTradial_avg2_bool, show_omega_theo):\n",
    "    \n",
    "    tmin_avg,tmax_avg = float_range_time\n",
    "    rhomin_avg,rhomax_avg = float_range_rho\n",
    "    \n",
    "    q_ar = [q for q in all_sim if q['title'] in select_sim]\n",
    "    \n",
    "    plt.clf()\n",
    "    fig.suptitle(r'Study of %s' %param)\n",
    "    fig.set_dpi(dpi_adjust)\n",
    "\n",
    "    Pmap = uniform_filter1d(uniform_filter1d(all_sim[0][param],size=N,axis=1),size=N,axis=1)\n",
    "    if symetrical_cmap:\n",
    "        vmin = colormap_range*min( abs( np.min(Pmap) ), abs( np.max(Pmap) ) ) \n",
    "        vmax = -vmin\n",
    "    else:\n",
    "        vmin = colormap_range*np.min(Pmap) \n",
    "        vmax = colormap_range*np.max(Pmap) \n",
    "\n",
    "    gs = gridspec.GridSpec(5, 2*len(q_ar))\n",
    "    ax_fspectra = fig.add_subplot(gs[3:, 0:len(q_ar)]) \n",
    "    ax_fphase = fig.add_subplot(gs[3:, len(q_ar):]) \n",
    "\n",
    "    for iq,q in enumerate(q_ar):\n",
    "\n",
    "        itmin, itmax     = np.searchsorted(q['time'],[0e3,90e3])\n",
    "        irhomin, irhomax = np.searchsorted(q['rho'],[0.0,1.1])\n",
    "\n",
    "        p_ma = uniform_filter1d(uniform_filter1d(q[param],size=N,axis=1),size=N,axis=1)\n",
    "        \n",
    "        ## Figure 1\n",
    "        ax_map = fig.add_subplot(gs[0:3, 2*iq:2*iq+2]) \n",
    "\n",
    "        ax_map.set_title(q['title'])\n",
    "        p=ax_map.pcolormesh(q['rho'][irhomin:irhomax],q['time'][itmin:itmax],p_ma[itmin:itmax,irhomin:irhomax],vmin=vmin,vmax=vmax)\n",
    "        fig.colorbar(p,ax=ax_map)\n",
    "        ax_map.set_xlabel(r'$r/a$')\n",
    "        ax_map.set_ylabel(r'Time $[\\omega_{c0}^{-1}]$')\n",
    "\n",
    "        ax_map.axvline(x=1,c='k',ls='--')\n",
    "        for rline in [0.8,0.6,0.4,0.2]:ax_map.axvline(x=rline,c='k',ls='--')\n",
    "        ax_map.set_xticks([1.0,0.8,0.6,0.4,0.2])\n",
    "        \n",
    "        ax_map.axvline(x=rhomin_avg,c='g',ls='-')\n",
    "        ax_map.axvline(x=rhomax_avg,c='g',ls='-')\n",
    "        \n",
    "        ax_map.axhline(y=tmin_avg,c='r',ls='-')\n",
    "        ax_map.axhline(y=tmax_avg,c='r',ls='-')\n",
    "        \n",
    "        ax_map.plot(q['rho'][10:10+N],np.ones(N)*ax_map.get_ylim()[1]/4,c='xkcd:battleship grey',lw=5) #Visualisation de la fenêtre de la moyenne glissante\n",
    "\n",
    "        ##Figure 2\n",
    "        itmin_avg, itmax_avg     = np.searchsorted(q['time'],[tmin_avg,tmax_avg])\n",
    "        irhomin_avg, irhomax_avg = np.searchsorted(q['rho'],[rhomin_avg,rhomax_avg])\n",
    "        \n",
    "        #Perform fft\n",
    "        dt_diag = q['time'][-1]-q['time'][-2]\n",
    "        fspectra_1 = np.fft.rfft(np.mean(p_ma[itmin_avg:itmax_avg,irhomin_avg:irhomax_avg],axis=1), axis=0) / (itmax_avg-itmin_avg)\n",
    "        fspectra_2 = np.fft.rfft(p_ma[itmin_avg:itmax_avg,:], axis=0) / (itmin_avg-itmax_avg)\n",
    "        w = np.fft.rfftfreq(itmax_avg-itmin_avg, d=dt_diag)\n",
    "        \n",
    "        \n",
    "        ax_fspectra.set_title(r'Fourier amplitude (avg %.2f < r/a < %.2f)' % (rhomin_avg , rhomax_avg) )\n",
    "        if DFTradial_avg1_bool:ax_fspectra.semilogy(w,np.abs(fspectra_1),c=q['c'],label=q['title'],ls='--') #Pour fspectra_1\n",
    "        if DFTradial_avg2_bool:ax_fspectra.semilogy(w,np.mean(np.abs(fspectra_2[:,irhomin_avg:irhomax_avg]),axis=1),ls='-',c=q['c'],label=q['title']) #Pour fspectra_2\n",
    "        ax_fspectra.set_xlabel(r'$\\omega [\\omega_{c0}]$')\n",
    "        ax_fspectra.legend(fontsize=14)\n",
    "        \n",
    "        #Fréquence GAM théorique\n",
    "        if show_omega_theo:\n",
    "            omega_theo = np.mean( np.mean( (2*np.sqrt(q['T'] * (5/3) *(1 + (1/(2*q['q']**2) ) )) /800)[itmin_avg:itmax_avg] ,axis=0)[irhomax_avg-1:irhomax_avg] ) / (2 * np.pi)\n",
    "            ax_fspectra.axvline(x=omega_theo,c=q['c'],ls='--')\n",
    "        \n",
    "        \n",
    "        ax_fphase.set_title(r'Fourier phase (avg %.2f < r/a < %.2f)' % (rhomin_avg , rhomax_avg) )\n",
    "        if DFTradial_avg1_bool:ax_fphase.plot(np.sort(w), np.angle(fspectra_1),ls='--',c=q['c'],label=q['title']) #Pour fspectra_1\n",
    "        if DFTradial_avg2_bool:ax_fphase.plot(np.sort(w), np.mean(np.angle(fspectra_2[:,irhomin_avg:irhomax_avg]),axis=1),ls='-',c=q['c'],label=q['title']) #Pour fspectra_2\n",
    "        ax_fphase.set_xlabel(r'$\\omega [\\omega_{c0}]$')\n",
    "        ax_fphase.axhline(y=0,ls='--',c='k')\n",
    "        ax_fphase.legend(fontsize=16)\n",
    "\n",
    "    fig.tight_layout(rect=[0, 0.03, 1, 0.95])\n",
    "\n",
    "float_range_time_slider = widgets.FloatRangeSlider(value=[50e3, 90e3], min=0, max=200e3, step=1000, description='Time range', layout=Layout(width='50%'), style = {'description_width': 'initial'}, continuous_update=False)\n",
    "float_range_rho_slider  = widgets.FloatRangeSlider(value=[0.84, 0.86], min=0, max=1.2, step=0.01, description='Normalized radius range', layout=Layout(width='50%'), style = {'description_width': 'initial'}, continuous_update=False)\n",
    "\n",
    "#custom_widgets['param'].value = 'Ptransfert'\n",
    "\n",
    "interact(update_plot, \n",
    "         float_range_time=float_range_time_slider,\n",
    "         float_range_rho=float_range_rho_slider,\n",
    "         colormap_range=widgets.FloatSlider(min=0.1, max=2, step=0.05,value=0.8, continuous_update=False),\n",
    "         DFTradial_avg1_bool = widgets.Checkbox(value=False,description='Display fspectra_1'),\n",
    "         DFTradial_avg2_bool = widgets.Checkbox(value=True,description='Display fspectra_2'),\n",
    "         show_omega_theo = widgets.Checkbox(value=False,description=r'Display $\\omega_{theo}$'),\n",
    "         **custom_widgets,\n",
    "        )"
   ]
  },
  {
   "attachments": {},
   "cell_type": "markdown",
   "id": "a0260f46-0cda-4268-b0da-7a93156556f5",
   "metadata": {},
   "source": [
    "<a id='exploration_spectral_density_study'></a>\n",
    "## <font color='xkcd:sage'>**Exploration**</font> - Densité spectrale de puissance [▲](#sommaire)\n",
    "\n",
    "La DPS est calculée comme $ PSD(x) = 2 \\frac{ |X(\\omega)|^2 }{ N } \\Delta T $ où $N$ est le nombre d'échantillons temporels (le facteur 2 vient du fait qu'on considère le nombre de points $N_f=N/2$ dans le domaine spectral).\n",
    "\n",
    "Ce calcul donne exactement le même résultat que la fonction *periodogram* de *scipy.signal* ... sauf pour la fréquence nulle."
   ]
  },
  {
   "cell_type": "code",
   "execution_count": 22,
   "id": "28430aa3-fa1c-4b75-83c6-4d7a72dc3460",
   "metadata": {
    "collapsed": true,
    "jupyter": {
     "outputs_hidden": true
    },
    "tags": []
   },
   "outputs": [
    {
     "data": {
      "application/vnd.jupyter.widget-view+json": {
       "model_id": "438ef01057c543a5979df0091fe67dff",
       "version_major": 2,
       "version_minor": 0
      },
      "text/plain": [
       "Canvas(toolbar=Toolbar(toolitems=[('Home', 'Reset original view', 'home', 'home'), ('Back', 'Back to previous …"
      ]
     },
     "metadata": {},
     "output_type": "display_data"
    },
    {
     "data": {
      "application/vnd.jupyter.widget-view+json": {
       "model_id": "36ab943c27594860a83fe3a639aad0f8",
       "version_major": 2,
       "version_minor": 0
      },
      "text/plain": [
       "interactive(children=(IntSlider(value=1, continuous_update=False, description='N', min=1), FloatSlider(value=0…"
      ]
     },
     "metadata": {},
     "output_type": "display_data"
    },
    {
     "data": {
      "text/plain": [
       "<function __main__.update_plot(N, colormap_range, dpi_adjust, param, float_range_time, float_range_rho, show_omega_theo, select_sim, mode)>"
      ]
     },
     "execution_count": 22,
     "metadata": {},
     "output_type": "execute_result"
    }
   ],
   "source": [
    "plt.close('all')\n",
    "\n",
    "fig = plt.figure(figsize=(16,10))\n",
    "\n",
    "symetrical_cmap = 0\n",
    "def update_plot(N,colormap_range,dpi_adjust,param,float_range_time,float_range_rho,show_omega_theo,\n",
    "               select_sim,mode):\n",
    "    \n",
    "    tmin_avg,tmax_avg = float_range_time\n",
    "    rhomin_avg,rhomax_avg = float_range_rho\n",
    "    \n",
    "    q_ar = [q for q in all_sim if q['title'] in select_sim]\n",
    "    \n",
    "    fig.clf()\n",
    "    \n",
    "    fig.suptitle(r'Study of %s' %param)\n",
    "    fig.set_dpi(dpi_adjust)\n",
    "\n",
    "    Pmap = uniform_filter1d(uniform_filter1d(q_ar[0][param],size=N,axis=1),size=N,axis=1)\n",
    "    if symetrical_cmap:\n",
    "        vmin = colormap_range*min( abs( np.min(Pmap) ), abs( np.max(Pmap) ) ) \n",
    "        vmax = -vmin\n",
    "    else:\n",
    "        vmin = colormap_range*np.min(Pmap) \n",
    "        vmax = colormap_range*np.max(Pmap) \n",
    "\n",
    "    gs = gridspec.GridSpec(5, 2*len(q_ar))\n",
    "    ax_fspectra = fig.add_subplot(gs[3:, 0:len(q_ar)]) \n",
    "    ax_rprof = fig.add_subplot(gs[3:, len(q_ar):]) \n",
    "\n",
    "    for iq,q in enumerate(q_ar):\n",
    "        \n",
    "        irhomin, irhomax = np.searchsorted(q['rho'], [0.2, 1.1])\n",
    "        itmin, itmax = np.searchsorted(q['time'], [0e3, 303e3])\n",
    "\n",
    "        print(q['time'][itmin])\n",
    "\n",
    "        p_ma = uniform_filter1d(uniform_filter1d(q[param],size=N,axis=1),size=N,axis=1)\n",
    "        \n",
    "        ## Figure 1\n",
    "        ax_map = fig.add_subplot(gs[0:3, 2*iq:2*iq+2]) \n",
    "\n",
    "        ax_map.set_title(q['title'])\n",
    "        p=ax_map.pcolormesh(q['rho'][irhomin:irhomax],q['time'][itmin:itmax],p_ma[itmin:itmax,irhomin:irhomax],vmin=vmin,vmax=vmax)\n",
    "        fig.colorbar(p,ax=ax_map)\n",
    "        ax_map.set_xlabel(r'$r/a$')\n",
    "        ax_map.set_ylabel(r'Time $[\\omega_{c0}^{-1}]$')\n",
    "\n",
    "        ax_map.axvline(x=1,c='k',ls='--')\n",
    "        for rline in [0.8,0.6,0.4,0.2]:ax_map.axvline(x=rline,c='k',ls='--')\n",
    "        ax_map.set_xticks([1.0,0.8,0.6,0.4,0.2])\n",
    "        \n",
    "        ax_map.axvline(x=rhomin_avg,c='g',ls='-')\n",
    "        ax_map.axvline(x=rhomax_avg,c='g',ls='-')\n",
    "        \n",
    "        ax_map.axhline(y=tmin_avg,c='r',ls='-')\n",
    "        ax_map.axhline(y=tmax_avg,c='r',ls='-')\n",
    "\n",
    "        ax_map.set_xlim([0.2,1.1])\n",
    "        \n",
    "        if N>1: ax_map.plot(q['rho'][40:40+N],np.ones(N)*ax_map.get_ylim()[1]*3/4,c='xkcd:battleship grey',lw=5) #Visualisation de la fenêtre de la moyenne glissante\n",
    "        \n",
    "        ##Figure 2\n",
    "        itmin_avg, itmax_avg     = np.searchsorted(q['time'],[tmin_avg,tmax_avg])\n",
    "        irhomin_avg, irhomax_avg = np.searchsorted(q['rho'],[rhomin_avg,rhomax_avg])\n",
    "        \n",
    "        #Perform fft\n",
    "        dt_diag = q['time'][-1]-q['time'][-2]\n",
    "        fspectra = np.fft.rfft(p_ma[itmin_avg:itmax_avg,:], axis=0) / (itmax_avg-itmin_avg)\n",
    "        w = np.fft.rfftfreq(itmax_avg-itmin_avg, d=dt_diag)\n",
    "        \n",
    "        \n",
    "        ax_fspectra.set_title(r'Fourier amplitude (avg %.2f < r/a < %.2f)' % (rhomin_avg , rhomax_avg) )\n",
    "        ax_fspectra.semilogy(w,2*np.mean(np.abs(fspectra[:,irhomin_avg:irhomax_avg])**2 * ((itmax_avg-itmin_avg)*dt_diag),axis=1),c=q['c'],label=q['title'],ls='-',marker='o',markersize=3,mfc=q['c'], mec=q['c'], alpha=0.5)\n",
    "        ax_fspectra.set_xlabel(r'$\\omega [\\omega_{c0}]$')\n",
    "        ax_fspectra.legend(fontsize=14)\n",
    "        #ax_fspectra.axvline(x=w[mode], ls='--', c='g',lw=1)\n",
    "\n",
    "        #Fréquence GAM théorique\n",
    "        if show_omega_theo:\n",
    "            omega_theo = np.mean( np.mean( (2*np.sqrt(q['T'] * (5/3) *(1 + (1/(2*q['q']**2) ) )) /800)[itmin_avg:itmax_avg] ,axis=0)[irhomax_avg-1:irhomax_avg] ) / (2 * np.pi)\n",
    "            ax_fspectra.axvline(x=omega_theo,c=q['c'],ls='--')\n",
    "\n",
    "        irholimmin = (np.abs(q['rho'] - 0.5 )).argmin()\n",
    "        irholimmax = (np.abs(q['rho'] - 1 )).argmin()\n",
    "        ax_rprof.set_title(r'Profile of $\\omega = %.1e [\\omega_{c0}]$ component' % w[mode])\n",
    "        ax_rprof.semilogy(q['rho'][irholimmin:irholimmax], \n",
    "                      2*np.abs(fspectra[mode,irholimmin:irholimmax])**2 * ((itmax_avg-itmin_avg)*dt_diag), c=q['c']\n",
    "                     )\n",
    "        \n",
    "    fig.tight_layout(rect=[0, 0.03, 1, 0.95])\n",
    "\n",
    "float_range_time_slider = widgets.FloatRangeSlider(value=[100e3, 145e3], min=0, max=303e3, step=1000, description='Time range', layout=Layout(width='50%'), style = {'description_width': 'initial'}, continuous_update=False)\n",
    "float_range_rho_slider = widgets.FloatRangeSlider(value=[0.84, 0.86], min=0, max=1.2, step=0.01, description='Normalized radius range', layout=Layout(width='50%'), style = {'description_width': 'initial'}, continuous_update=False)\n",
    "\n",
    "#custom_widgets['param'].value = 'Ptransfert'\n",
    "\n",
    "interact(update_plot, \n",
    "         mode             = widgets.IntSlider(min=0, max=50, step=1,value=0, continuous_update=False),\n",
    "         overlap_factor   = widgets.FloatSlider(min=0, max=1, step=0.05,value=0.8),\n",
    "         float_range_time = float_range_time_slider,\n",
    "         float_range_rho  = float_range_rho_slider,\n",
    "         colormap_range   = widgets.FloatSlider(min=0.1, max=2, step=0.05,value=0.8, continuous_update=False),\n",
    "         show_omega_theo  = widgets.Checkbox(value=False,description=r'Display $\\omega_{theo}$'),\n",
    "         **custom_widgets\n",
    "        )"
   ]
  },
  {
   "attachments": {},
   "cell_type": "markdown",
   "id": "dd54a80b-1290-4460-bbff-3f9f4a7814e5",
   "metadata": {},
   "source": [
    "<a id='exploration_cross_correlation'></a>\n",
    "## <font color='xkcd:sage'>**Exploration**</font> - Cross corrélation en temps [▲](#sommaire)\n",
    "ps: un time-lag $\\tau$ négatif veut dire que \"signal2\" précède \"signal1\" de $\\tau$"
   ]
  },
  {
   "cell_type": "code",
   "execution_count": null,
   "id": "a28480cc-d677-4af2-8e30-32c3b5c65408",
   "metadata": {
    "tags": []
   },
   "outputs": [],
   "source": [
    "from mpl_toolkits.axes_grid1.inset_locator import inset_axes\n",
    "\n",
    "def extract_fluctuations(signal2D):\n",
    "    return signal2D - np.mean(signal2D,axis=0)\n",
    "\n",
    "def update_plot(N1,N2,float_range_rho,dpi_adjust,float_range_time,\n",
    "               select_sim, signal1, signal2):\n",
    "    \n",
    "    q_ar = [q for q in all_sim if q['title'] in select_sim]\n",
    "    \n",
    "    tmin_avg,tmax_avg = float_range_time\n",
    "    \n",
    "    plt.close('all')\n",
    "    \n",
    "    fig = plt.figure(figsize=(8*len(q_ar),16), dpi=dpi_adjust)\n",
    "    fig.suptitle('Cross correlation between %s and %s' %(signal1,signal2))\n",
    "    \n",
    "    gs = gridspec.GridSpec(3,len(q_ar))\n",
    "    \n",
    "    ###############################\n",
    "    #Figure 3 layout - Cross correlation at a given radius\n",
    "    ###############################\n",
    "    ax_cc1D = fig.add_subplot(gs[2, :]) \n",
    "    ax_cc1D.set_ylim(-1.1,1.1)\n",
    "    ax_cc1D.axhline(y=0,c='k',ls='--'); ax_cc1D.axhline(y=1,c='gray',ls='--'); ax_cc1D.axhline(y=-1,c='gray',ls='--')\n",
    "    ax_cc1D.axvline(x=0,c='k',ls='--')\n",
    "    ax_cc1D.set_xlabel(r'Time lag $[\\omega_{c0}^{-1}]$')\n",
    "    \n",
    "    for iq,q in enumerate(q_ar):\n",
    "\n",
    "        irhomin, irhomax = np.searchsorted(q['rho'], [0.0, 1.1])\n",
    "        itmin, itmax     = np.searchsorted(q['time'], [tmin_avg, tmax_avg])\n",
    "\n",
    "        itlim = itmax-itmin\n",
    "        itau_range = np.r_[-itlim//3:itlim//3-1]\n",
    "\n",
    "        tau_range = itau_range * (q['time'][1]-q['time'][0])\n",
    "\n",
    "        it_CC_range = np.r_[itlim//3:2*itlim//3]\n",
    "        Cfg = np.zeros( (irhomax-irhomin, 2*itlim//3 ) )\n",
    "        \n",
    "        signal1_ar = uniform_filter1d(uniform_filter1d(q[signal1],size=N1,axis=1),size=N1,axis=1)\n",
    "        signal2_ar = uniform_filter1d(uniform_filter1d(q[signal2],size=N2,axis=1),size=N2,axis=1)\n",
    "\n",
    "        f = extract_fluctuations(signal1_ar[itmin:itmax,irhomin:irhomax])\n",
    "        g = extract_fluctuations(signal2_ar[itmin:itmax,irhomin:irhomax])\n",
    "\n",
    "        norm = np.sqrt( np.sum(f[it_CC_range,:]**2,axis=0) ) * np.sqrt( np.sum(g[it_CC_range,:]**2,axis=0) )\n",
    "        for itau in itau_range:\n",
    "            Cfg[:,itau + itlim//3] = np.sum(f[it_CC_range,:] * g[it_CC_range+itau,:],axis=0)/norm\n",
    "\n",
    "\n",
    "        rhomin_avg,rhomax_avg = float_range_rho\n",
    "        irhomin_avg, irhomax_avg = np.searchsorted(q['rho'],[rhomin_avg,rhomax_avg])\n",
    "        ##############################\n",
    "        #Figure - 2D cross correlation\n",
    "        ##############################\n",
    "        ax_map = fig.add_subplot(gs[0, iq]) \n",
    "        ax_map.set_title('Cross correlation over radius')\n",
    "        p=ax_map.pcolormesh(q['rho'][irhomin:irhomax],tau_range,Cfg.T,vmin=-1,vmax=1)\n",
    "        ax_map.axhline(y=0,c='k',ls='--')\n",
    "        cax = inset_axes(ax_map, width=\"30%\", height=\"5%\", loc=1, bbox_to_anchor=(0,0.2,1,1), bbox_transform=ax_map.transAxes) \n",
    "        fig.colorbar(p,cax=cax,orientation='horizontal')\n",
    "        ax_map.axvline(x=rhomin_avg,c='g',lw=4)\n",
    "        ax_map.axvline(x=rhomax_avg,c='g',lw=4)\n",
    "        ax_map.set_title(r'%s' % q['title'])\n",
    "        ax_map.set_xlabel(r'$r/a$')\n",
    "        ax_map.set_ylabel(r'Time lag')\n",
    "        ax_map.set_xticks([1.0,0.8,0.6,0.4,0.2])\n",
    "        \n",
    "        ##############################\n",
    "        #Figure - Time evolution\n",
    "        ##############################\n",
    "        color1 = 'xkcd:green'\n",
    "        color2 = 'xkcd:purple'\n",
    "        \n",
    "        itbeg = (np.abs(q['time'] - 0e3 )).argmin()//3*3\n",
    "        ax_tevol1 = fig.add_subplot(gs[1, iq]) \n",
    "        ax_tevol1.set_title('%s - Time evolution avg on $%.2f < r/a < %.2f$' %(q['title'],rhomin_avg,rhomax_avg))\n",
    "        ax_tevol1.plot(q['time'][itbeg:],np.mean(q[signal1][itbeg:,irhomin_avg:irhomax_avg],axis=1),c=color1,ls='--')\n",
    "        ax_tevol1.plot(q['time'][itbeg:],np.mean(signal1_ar[itbeg:,irhomin_avg:irhomax_avg],axis=1),c=color1)\n",
    "        ax_tevol1.yaxis.label.set_color(color1)\n",
    "        ax_tevol1.tick_params(axis='y', colors=color1)\n",
    "        ax_tevol1.set_ylabel(signal1)\n",
    "        \n",
    "        ax_tevol2 = ax_tevol1.twinx()\n",
    "        ax_tevol2.plot(q['time'][itbeg:],np.mean(q[signal2][itbeg:,irhomin_avg:irhomax_avg],axis=1),c=color2,ls='--')\n",
    "        ax_tevol2.plot(q['time'][itbeg:],np.mean(signal2_ar[itbeg:,irhomin_avg:irhomax_avg],axis=1),c=color2)\n",
    "        ax_tevol2.grid(None)\n",
    "        ax_tevol2.yaxis.label.set_color(color2)\n",
    "        ax_tevol2.tick_params(axis='y', colors=color2)\n",
    "        ax_tevol2.set_ylabel(signal2)\n",
    "        ax_tevol1.axvline(x=tmin_avg,c='k',ls='--'); ax_tevol1.axvline(x=tmax_avg,c='k',ls='--')\n",
    "        ax_tevol1.set_xlabel(r'Time $[\\omega_{c0}^{-1}]$')\n",
    "        \n",
    "        ##############################\n",
    "        #Figure 3 layout - Cross correlation at a given radius\n",
    "        ##############################\n",
    "        ax_cc1D.set_title(r'Cross correlation avg on $%.2f < r/a < %.2f$' %(rhomin_avg,rhomax_avg))\n",
    "        ax_cc1D.plot(tau_range, np.mean(Cfg[irhomin_avg:irhomax_avg,:],axis=0),c=q['c'],lw=4,label=q['title'])\n",
    "    \n",
    "    ax_cc1D.legend()\n",
    "    fig.tight_layout(rect=[0, 0.03, 1, 0.95])\n",
    "\n",
    "float_range_time_slider = widgets.FloatRangeSlider(value=[100e3, 145e3], min=0, max=150e3, step=1000, description='Time range', layout=Layout(width='50%'), style = {'description_width': 'initial'}, continuous_update=False)\n",
    "float_range_rho_slider  = widgets.FloatRangeSlider(value=[0.8, 0.9], min=0, max=1.2, step=0.01, description='Normalized radius range', layout=Layout(width='50%'), style = {'description_width': 'initial'}, continuous_update=False)\n",
    "\n",
    "interact(update_plot, \n",
    "         N1=widgets.IntSlider(min=1, max=200, step=1,value=1, continuous_update=False),\n",
    "         N2=widgets.IntSlider(min=1, max=200, step=1,value=1, continuous_update=False),\n",
    "         float_range_time=float_range_time_slider,\n",
    "         float_range_rho=float_range_rho_slider,\n",
    "         signal1 = widgets.Text(value='dRSpoldr',placeholder='Type something',description='Select parameter:', continuous_update=False),\n",
    "         signal2 = widgets.Text(value='Er',placeholder='Type something',description='Select parameter:', continuous_update=False),\n",
    "         **custom_widgets\n",
    "        )"
   ]
  },
  {
   "attachments": {},
   "cell_type": "markdown",
   "id": "b411ad5f-1c42-4957-b221-4c8c0d773128",
   "metadata": {},
   "source": [
    "<a id='exploration_cycle_limite'></a>\n",
    "## <font color='orangered'>**(En cours)**</font> <font color='xkcd:sage'>**Exploration**</font> - Cycle limite [▲](#sommaire)"
   ]
  },
  {
   "cell_type": "code",
   "execution_count": null,
   "id": "94211f5f-ec96-43e1-9319-39b014ffc1f7",
   "metadata": {
    "collapsed": true,
    "jupyter": {
     "outputs_hidden": true,
     "source_hidden": true
    },
    "tags": []
   },
   "outputs": [],
   "source": [
    "plt.close('all')\n",
    "import matplotlib.colors as colors\n",
    "import scipy.signal \n",
    "\n",
    "def update_plot(N,dpi_adjust,param,param2,float_range_time,float_range_rho,\n",
    "               select_sim):\n",
    "    \n",
    "    tmin_avg,tmax_avg = float_range_time\n",
    "    rhomin_avg,rhomax_avg = float_range_rho\n",
    "    \n",
    "    q_ar = [q for q in all_sim if q['title'] in select_sim]\n",
    "    \n",
    "    plt.close('all')\n",
    "    \n",
    "    fig = plt.figure(figsize=(16,8), dpi=dpi_adjust)\n",
    "\n",
    "    gs = gridspec.GridSpec(5, 2*len(q_ar))\n",
    "    \n",
    "    for iq,q in enumerate(q_ar):\n",
    "\n",
    "        itmin, itmax     = np.searchsorted(q['time'],[tmin_avg,tmax_avg])\n",
    "        irhomin, irhomax = np.searchsorted(q['rho'],[rhomin_avg,rhomax_avg])\n",
    "        \n",
    "        ## Figure 1\n",
    "        ax_cl = fig.add_subplot(gs[:, 2*iq:2*iq+2]) \n",
    "\n",
    "        ax_cl.set_title('Cycle limite ' + q['title'])\n",
    "        ax_cl.set_xlabel(param)\n",
    "        ax_cl.set_ylabel(param2)\n",
    "        \n",
    "        x = np.mean(q[param][itmin:itmax,irhomin:irhomax],axis=1)\n",
    "        y = np.mean(q[param2][itmin:itmax,irhomin:irhomax],axis=1)\n",
    "        \n",
    "        ax_cl.plot(x,y,c='k')\n",
    "        ax_cl.scatter(x,y,\n",
    "                   c=np.tan( q['time'][itmin:itmax]/q['time'][itmax] ),\n",
    "                   marker='_', s=80,\n",
    "                   lw=5, cmap='winter',zorder=10)\n",
    "        \n",
    "        ax_cl.autoscale()\n",
    "        \n",
    "    fig.tight_layout(rect=[0, 0.03, 1, 0.95])\n",
    "\n",
    "float_range_time_slider = widgets.FloatRangeSlider(value=[100e3, 145e3], min=0, max=150e3, step=1000, description='Time range', layout=Layout(width='50%'), style = {'description_width': 'initial'}, continuous_update=False)\n",
    "float_range_rho_slider  = widgets.FloatRangeSlider(value=[0.8, 0.9], min=0, max=1.2, step=0.01, description='Normalized radius range', layout=Layout(width='50%'), style = {'description_width': 'initial'}, continuous_update=False)\n",
    "    \n",
    "custom_widgets['param2'].value = 'RSpol'\n",
    "\n",
    "interact(update_plot, \n",
    "         float_range_time = float_range_time_slider,\n",
    "         float_range_rho  = float_range_rho_slider,\n",
    "         colormap_range   = widgets.FloatSlider(min=0.1, max=2, step=0.05,value=0.8, continuous_update=False),\n",
    "         show_omega_theo  = widgets.Checkbox(value=False,description=r'Display $\\omega_{theo}$'),\n",
    "        **custom_widgets\n",
    "        )"
   ]
  },
  {
   "attachments": {},
   "cell_type": "markdown",
   "id": "04b92ddd",
   "metadata": {},
   "source": [
    "<a id='en_cours_cons_vorticity'></a>\n",
    "## <font color='coral'>**Travail en cours**</font> - Conservation de la vorticité généralisée[▲](#sommaire)\n",
    "\n",
    "Avec l'implémentation actuelle de l'équation de Poisson dans GYSELA (en circulaire), l'équation de conservation de la vorticité intégrée doit être calculée avec $B_0$ et $n(t=0,r)=n_0$.\n",
    "\n",
    "L'équation vérifiée est alors :\n",
    "$\\partial_t \\left[ - \\partial_r \\left( \\frac{m n_0}{B_0} \\partial_r \\langle \\phi \\rangle_{FS} + \\frac{m}{2eB_0^2} \\partial_r \\langle P_\\perp \\rangle_{FS} \\right) \\right] + e \\partial_r \\langle \\Gamma_{Dr} + \\Gamma_{Er} \\rangle_{FS} = 0$\n"
   ]
  },
  {
   "cell_type": "code",
   "execution_count": 2,
   "id": "c2a25821",
   "metadata": {},
   "outputs": [
    {
     "data": {
      "application/vnd.jupyter.widget-view+json": {
       "model_id": "bbf45609a9f248a9aeb5ca69d75fdc43",
       "version_major": 2,
       "version_minor": 0
      },
      "text/plain": [
       "interactive(children=(IntSlider(value=100, continuous_update=False, description='dpi_adjust', max=200, min=30)…"
      ]
     },
     "metadata": {},
     "output_type": "display_data"
    },
    {
     "data": {
      "text/plain": [
       "<function __main__.update_plot(dpi_adjust, float_time, float_range_rho, select_sim, vorticity_bool, current_bool, density_bool, same_y_range)>"
      ]
     },
     "execution_count": 2,
     "metadata": {},
     "output_type": "execute_result"
    },
    {
     "name": "stderr",
     "output_type": "stream",
     "text": [
      "No such comm: 81261d7545064c778c036fd262e791ab\n",
      "No such comm: 81261d7545064c778c036fd262e791ab\n",
      "No such comm: 81261d7545064c778c036fd262e791ab\n",
      "No such comm: 81261d7545064c778c036fd262e791ab\n",
      "No such comm: 81261d7545064c778c036fd262e791ab\n",
      "No such comm: 81261d7545064c778c036fd262e791ab\n",
      "No such comm: 81261d7545064c778c036fd262e791ab\n"
     ]
    }
   ],
   "source": [
    "plt.close('all')\n",
    "\n",
    "def update_plot(dpi_adjust,float_time,float_range_rho,select_sim,\n",
    "                vorticity_bool,current_bool,density_bool,\n",
    "                same_y_range):\n",
    "    \n",
    "    plt.close('all')\n",
    "    clear_output\n",
    "\n",
    "    q_ar = [q for q in all_sim if q['title'] in select_sim]\n",
    "    \n",
    "    fig = plt.figure(figsize=(16,6*len(q_ar)))\n",
    "\n",
    "    tscan = float_time\n",
    "    rhomin,rhomax = float_range_rho\n",
    "\n",
    "    fig.suptitle('Time : %.0f' % (tscan) + r' $[\\omega_{c0}^{-1}]$')\n",
    "\n",
    "    ## Set dpi of figure\n",
    "    if dpi_adjust!=dpi_custom:fig.set_dpi(dpi_adjust)\n",
    "    \n",
    "    for iq,q in enumerate(q_ar):\n",
    "\n",
    "        ax_rprof = fig.add_subplot(len(q_ar),2,2*iq+1)\n",
    "\n",
    "        irhomin, irhomax = np.searchsorted(q['rho'],[rhomin,rhomax])\n",
    "        \n",
    "        itscan = np.searchsorted(q['time'],tscan)\n",
    "\n",
    "        ax_rprof.set_title(q['title'] + ' - Vorticity')\n",
    "        if vorticity_bool:ax_rprof.plot(q['rho'][irhomin:irhomax], q['dtvorticity'][itscan,irhomin:irhomax],c='b',label=r'$\\partial_t \\langle \\Omega \\rangle$')\n",
    "        if current_bool:ax_rprof.plot(q['rho'][irhomin:irhomax], -q['drJr'][itscan,irhomin:irhomax],c='r',ls='-',label=r'-$ e \\partial_r \\langle \\Gamma_r \\rangle$')\n",
    "        if density_bool:ax_rprof.plot(q['rho'][irhomin:irhomax], q['dtn'][itscan,irhomin:irhomax],c='purple',label=r'$\\partial_t n$')\n",
    "        if same_y_range:ax_rprof.set_ylim(-4e-6,4e-6)\n",
    "\n",
    "        ax_rprof2 = fig.add_subplot(len(q_ar),2,2*iq+2)\n",
    "        \n",
    "        int_dndt = np.cumsum(q['dtn'][:,irhomin:irhomax],axis=1)\n",
    "        print(int_dndt.shape)\n",
    "                             \n",
    "        ax_rprof2.set_title(q['title'] + r' - Integrated vorticity')\n",
    "        if vorticity_bool:ax_rprof2.plot(q['rho'][irhomin:irhomax], q['dtP'][itscan,irhomin:irhomax],c='b',label=r'$\\partial_t \\left(-\\frac{m n_0}{B_0} \\partial_r \\langle\\phi\\rangle - \\frac{m}{2eB_0^2} \\partial_r \\langle P_\\perp \\rangle\\right)$')\n",
    "        if current_bool:ax_rprof2.plot(q['rho'][irhomin:irhomax], -q['Jr'][itscan,irhomin:irhomax],c='r',label=r'$-e \\langle \\Gamma_r \\rangle $')\n",
    "        if density_bool:ax_rprof2.plot(q['rho'][irhomin:irhomax], int_dndt[itscan,:],c='purple',label=r'$\\int_{r_0}^r \\partial_t n$')\n",
    "        if same_y_range:ax_rprof2.set_ylim(-1e-5,1e-5)\n",
    "\n",
    "        for axes in [ax_rprof,ax_rprof2]:\n",
    "            axes.set_xlabel(r'$r/a$')\n",
    "            axes.axhline(y=0,c='k',ls='--')\n",
    "            axes.axvline(x=1,c='k',ls='--')\n",
    "            if iq==0:axes.legend()\n",
    "\n",
    "    fig.tight_layout(rect=[0, 0.03, 1, 0.95])\n",
    "    \n",
    "float_time_slider      = widgets.FloatSlider(value=33e3, min=0, max=303e3, step=1000, description='Time range', layout=Layout(width='50%'), style = {'description_width': 'initial'}, continuous_update=False)\n",
    "float_range_rho_slider = widgets.FloatRangeSlider(value=[0.1, 1], min=0, max=1.2, step=0.05, description='Normalized radius range', layout=Layout(width='50%'), style = {'description_width': 'initial'}, continuous_update=False)\n",
    "\n",
    "interact(update_plot, \n",
    "         float_time     = float_time_slider,\n",
    "         float_range_rho  = float_range_rho_slider,\n",
    "         vorticity_bool = widgets.Checkbox(value=True,description='Display vorticity term'),\n",
    "         current_bool   = widgets.Checkbox(value=True,description='Display current term'),\n",
    "         density_bool   = widgets.Checkbox(value=False,description='Display density term'),\n",
    "         same_y_range   = widgets.Checkbox(value=True,description='Same y range'),\n",
    "         **custom_widgets\n",
    "        )"
   ]
  },
  {
   "attachments": {},
   "cell_type": "markdown",
   "id": "5319d217",
   "metadata": {},
   "source": [
    "<a id='en_cours_assessment_pade_approx'></a>\n",
    "## <font color='coral'>**Travail en cours**</font> - Estimation de l'impact de l'approximation de Pade [▲](#sommaire)\n",
    "\n",
    "On compare $ \\partial_t \\langle n \\rangle_{FS}$ et  $- \\partial_t \\left( \\frac{m n_0}{B_0} \\langle \\phi \\rangle_{FS} +  \\frac{m}{2 e B_0^2} \\langle P_\\perp \\rangle_{FS} \\right) $"
   ]
  },
  {
   "cell_type": "code",
   "execution_count": null,
   "id": "cf06c1d9",
   "metadata": {},
   "outputs": [],
   "source": [
    "plt.close('all')\n",
    "\n",
    "def update_plot(dpi_adjust,float_time,float_range_rho,select_sim,same_y_range,bool_abs):\n",
    "    \n",
    "    plt.close('all')\n",
    "    clear_output\n",
    "\n",
    "    q_ar = [q for q in all_sim if q['title'] in select_sim]\n",
    "    \n",
    "    fig = plt.figure(figsize=(16,8*len(q_ar)))\n",
    "\n",
    "    tscan = float_time\n",
    "    rhomin,rhomax = float_range_rho\n",
    "\n",
    "    fig.suptitle('Time : %.0f' % (tscan) + r' $[\\omega_{c0}^{-1}]$')\n",
    "\n",
    "    ## Set dpi of figure\n",
    "    if dpi_adjust!=dpi_custom:fig.set_dpi(dpi_adjust)\n",
    "    \n",
    "    for iq,q in enumerate(q_ar):\n",
    "\n",
    "\n",
    "        irhomin, irhomax = np.searchsorted(q['rho'],[rhomin,rhomax])\n",
    "        \n",
    "        itscan = np.searchsorted(q['time'],tscan)\n",
    "\n",
    "        dt_n = np.gradient(q['n'], q['time'],axis=0)\n",
    "\n",
    "        B0 = 1\n",
    "        P_corrected = -q['As'] *( (q['n'][0,:] / B0) * (np.gradient(q['Phi00'], q['rg'], axis=1)) + (2*q['Zs']*B0**2)**(-1) * np.gradient(q['Pperp'], q['rg'], axis=1) )\n",
    "        vorticity_corrected = np.gradient(q['P_corrected'],q['rg'],axis=1)\n",
    "        dt_vorticity = np.gradient(q['vorticity'],q['time'],axis=0)\n",
    "\n",
    "\n",
    "        ax_rprof = fig.add_subplot(len(q_ar),2,2*iq+1)\n",
    "        ax_rprof.set_title(q['title'])\n",
    "        ax_rprof.plot(q['rho'][irhomin:irhomax], dt_n[itscan,irhomin:irhomax],c='b',label=r'$\\partial_t \\langle n \\rangle$')\n",
    "        ax_rprof.plot(q['rho'][irhomin:irhomax], dt_vorticity[itscan,irhomin:irhomax],c='g',label=r'$\\partial_t \\langle \\Omega \\rangle$')\n",
    "\n",
    "        if same_y_range:ax_rprof.set_ylim(-4e-6,4e-6)\n",
    "\n",
    "        ax_rprof2 = fig.add_subplot(len(q_ar),2,2*iq+2)\n",
    "        ax_rprof2.set_title(q['title'] + ' - Absolute error')\n",
    "        if bool_abs:ax_rprof2.plot(q['rho'][irhomin:irhomax], np.abs((dt_n-dt_vorticity)[itscan,irhomin:irhomax]),c='r')\n",
    "        else:ax_rprof2.plot(q['rho'][irhomin:irhomax], (dt_n-dt_vorticity)[itscan,irhomin:irhomax],c='r')\n",
    "        ax_rprof2.axhline(y=0,c='k',ls='--')\n",
    "\n",
    "        for axes in [ax_rprof]:\n",
    "            axes.set_xlabel(r'$r/a$')\n",
    "            axes.axhline(y=0,c='k',ls='--')\n",
    "            axes.axvline(x=1,c='k',ls='--')\n",
    "            if iq==0:axes.legend()\n",
    "\n",
    "    fig.tight_layout(rect=[0, 0.03, 1, 0.95])\n",
    "    \n",
    "float_time_slider  = widgets.FloatSlider(value=90e3, min=0, max=200e3, step=1000, description='Time range', layout=Layout(width='50%'), style = {'description_width': 'initial'}, continuous_update=False)\n",
    "float_range_rho_slider  = widgets.FloatRangeSlider(value=[0.1, 1], min=0, max=1.2, step=0.05, description='Normalized radius range', layout=Layout(width='50%'), style = {'description_width': 'initial'}, continuous_update=False)\n",
    "\n",
    "coef_test  = widgets.FloatSlider(value=1.1, min=1e3, max=1e5, step=100, description='Coef adjust', layout=Layout(width='50%'), style = {'description_width': 'initial'}, continuous_update=False)\n",
    "\n",
    "interact(update_plot, \n",
    "         float_time     = float_time_slider,\n",
    "         float_range_rho  = float_range_rho_slider,\n",
    "         same_y_range   = widgets.Checkbox(value=True,description='Same y range'),\n",
    "         bool_abs   = widgets.Checkbox(value=False,description='Absolute error'),\n",
    "         **custom_widgets\n",
    "        )"
   ]
  },
  {
   "attachments": {},
   "cell_type": "markdown",
   "id": "9920631a",
   "metadata": {},
   "source": [
    "<a id='en_cours_absolute_error_current'></a>\n",
    "## <font color='coral'>**Travail en cours**</font> - Erreur absolue entre $- \\partial_t \\left( \\frac{m n_0}{B_0} \\langle \\phi \\rangle_{FS} +  \\frac{m}{2 e B_0^2} \\langle P_\\perp \\rangle_{FS} \\right) $ et $\\partial_r J_r$  [▲](#sommaire)"
   ]
  },
  {
   "cell_type": "code",
   "execution_count": null,
   "id": "bfae0da5",
   "metadata": {},
   "outputs": [],
   "source": [
    "from scipy.stats import skew, kurtosis\n",
    "\n",
    "plt.close('all')\n",
    "\n",
    "def update_plot(dpi_adjust,float_time,float_range_rho,float_range_rho2,select_sim,\n",
    "                same_y_range):\n",
    "    \n",
    "    plt.close('all')\n",
    "    clear_output\n",
    "\n",
    "    q_ar = [q for q in all_sim if q['title'] in select_sim]\n",
    "    \n",
    "    fig = plt.figure(figsize=(28,8*len(q_ar)))\n",
    "\n",
    "    tscan = float_time\n",
    "    rhomin,rhomax = float_range_rho\n",
    "    rhominhist,rhomaxhist = float_range_rho2\n",
    "\n",
    "    fig.suptitle('Time : %.0f' % (tscan) + r' $[\\omega_{c0}^{-1}]$')\n",
    "\n",
    "    ## Set dpi of figure\n",
    "    if dpi_adjust!=dpi_custom:fig.set_dpi(dpi_adjust)\n",
    "    \n",
    "    for iq,q in enumerate(q_ar):\n",
    "\n",
    "        ax_rprof = fig.add_subplot(len(q_ar),3,3*iq+1)\n",
    "\n",
    "        irhomin, irhomax = np.searchsorted(q['rho'],[rhomin,rhomax])\n",
    "        \n",
    "        itscan = np.searchsorted(q['time'],tscan)\n",
    "        \n",
    "        B0 = 1\n",
    "        q['P_corrected'] = -q['As'] *( (q['n'][0,:] / B0) * (np.gradient(q['Phi00'], q['rg'], axis=1)) + (2*q['Zs']*B0**2)**(-1) * np.gradient(q['Pperp'], q['rg'], axis=1) )\n",
    "        q['vorticity_corrected'] = np.gradient(q['P_corrected'],q['rg'],axis=1)\n",
    "\n",
    "\n",
    "        dt_vorticity_corrected = np.gradient(q['vorticity_corrected'],q['time'],axis=0)\n",
    "        div_Jr       = np.gradient(q['Jr'],q['rg'],axis=1)\n",
    "\n",
    "        ax_rprof.set_title(q['title'] + ' - Vorticity')\n",
    "        ax_rprof.plot(q['rho'][irhomin:irhomax], dt_vorticity_corrected[itscan,irhomin:irhomax],c='g',label=r'$\\partial_t \\langle \\Omega \\rangle$')\n",
    "        ax_rprof.plot(q['rho'][irhomin:irhomax], -div_Jr[itscan,irhomin:irhomax],c='r',ls='-',label=r'-$ e \\partial_r \\langle \\Gamma_r \\rangle$')\n",
    "        if same_y_range:ax_rprof.set_ylim(-4e-6,4e-6)\n",
    "\n",
    "        ax_rprof2 = fig.add_subplot(len(q_ar),3,3*iq+2)      \n",
    "        ax_rprof2.set_title(q['title'] + r' - Absolute error')\n",
    "        ax_rprof2.plot(q['rho'][irhomin:irhomax], (dt_vorticity_corrected+div_Jr)[itscan,irhomin:irhomax],c='g')\n",
    "        if same_y_range:ax_rprof2.set_ylim(-5e-7,5e-7)\n",
    "\n",
    "        ax_rprof3 = fig.add_subplot(len(q_ar),3,3*iq+3)\n",
    "        ## Plot histogram of absolute error\n",
    "\n",
    "        ithist = np.searchsorted(q['time'],30000)\n",
    "        irhominhist = np.searchsorted(q['rho'],rhominhist)\n",
    "        irhomaxhist = np.searchsorted(q['rho'],rhomaxhist)\n",
    "\n",
    "        error = (dt_vorticity_corrected+div_Jr)[ithist:,irhominhist:irhomaxhist].flatten()\n",
    "        mean, std, skewness, kurt = np.mean(error), np.std(error), skew(error), kurtosis(error)\n",
    "\n",
    "        ax_rprof3.set_title(q['title'] + r' - Histogram')\n",
    "        ax_rprof3.hist( error ,bins=300, label='Mean = %.1e \\nStd = %.1e \\nSkewness = %.1e \\nKurtosis = %.1e' % (mean,std,skewness,kurt), color='r', alpha=0.5, density=True,log=True)\n",
    "\n",
    "\n",
    "        irhominhist2 = np.searchsorted(q['rho'],0.2)\n",
    "        irhomaxhist2 = np.searchsorted(q['rho'],0.9)        \n",
    "        error2 = np.hstack( ( (dt_vorticity_corrected+div_Jr)[ithist:,irhominhist2:irhominhist].flatten(), (dt_vorticity_corrected+div_Jr)[ithist:,irhomaxhist:irhomaxhist2].flatten() ) )\n",
    "        mean2, std2, skewness2, kurt2 = np.mean(error2), np.std(error2), skew(error2), kurtosis(error2)\n",
    "        ax_rprof3.hist( error2 ,bins=300, label='Mean = %.1e \\nStd = %.1e \\nSkewness = %.1e \\nKurtosis = %.1e' % (mean2,std2,skewness2,kurt2), color='b', alpha=0.5, density=True, log=True)\n",
    "\n",
    "        ax_rprof3.legend(ncol=2,fontsize=14)\n",
    "        ax_rprof3.axvline(x=0,c='k',ls='--')\n",
    "        ax_rprof3.text(0.05,0.6,'All time included \\nstarting '+ r'%.1e [$\\omega_{c0}^{-1}$]' % (q['time'][ithist]),transform=ax_rprof3.transAxes,fontsize=14)\n",
    "\n",
    "        ax_rprof2.axvline(x=q['rho'][irhominhist],c='r',lw=5,alpha=0.5)\n",
    "        ax_rprof2.axvline(x=q['rho'][irhomaxhist],c='r',lw=5,alpha=0.5)\n",
    "\n",
    "        ax_rprof2.axvline(x=q['rho'][irhominhist-2],c='b',lw=5,alpha=0.5)\n",
    "        ax_rprof2.axvline(x=q['rho'][irhomaxhist+2],c='b',lw=5,alpha=0.5)\n",
    "        ax_rprof2.axvline(x=q['rho'][irhominhist2],c='b',lw=5,alpha=0.5)\n",
    "        ax_rprof2.axvline(x=q['rho'][irhomaxhist2],c='b',lw=5,alpha=0.5)\n",
    "\n",
    "        ax_rprof2.hlines(y=mean,xmin=q['rho'][irhominhist],xmax=q['rho'][irhomaxhist],colors='r',ls='-',lw=5,alpha=0.5,zorder=10)\n",
    "        ax_rprof2.hlines(y=[mean2,mean2],xmin=[q['rho'][irhominhist2],q['rho'][irhomaxhist]] ,xmax=[q['rho'][irhominhist],q['rho'][irhomaxhist2]]  ,colors='b',ls='-',lw=5,alpha=0.5,zorder=10)\n",
    "\n",
    "        for axes in [ax_rprof,ax_rprof2]:\n",
    "            axes.set_xlabel(r'$r/a$')\n",
    "            axes.axhline(y=0,c='k',ls='--')\n",
    "            axes.axvline(x=1,c='k',ls='--')\n",
    "        if iq==0:ax_rprof.legend()\n",
    "\n",
    "        print(mean*(irhomaxhist-irhominhist))\n",
    "\n",
    "    #fig.tight_layout(rect=[0, 0.03, 1, 0.95])\n",
    "    \n",
    "float_time_slider        = widgets.FloatSlider(value=90e3, min=0, max=200e3, step=1000, description='Time range', layout=Layout(width='50%'), style = {'description_width': 'initial'}, continuous_update=False)\n",
    "float_range_rho_slider   = widgets.FloatRangeSlider(value=[0.1, 1], min=0, max=1.2, step=0.05, description='Radial range for plot', layout=Layout(width='50%'), style = {'description_width': 'initial'}, continuous_update=False)\n",
    "float_range_rho_slider2  = widgets.FloatRangeSlider(value=[0.6, 0.75], min=0, max=1.2, step=0.05, description='Radial range for histograms', layout=Layout(width='50%'), style = {'description_width': 'initial'}, continuous_update=False)\n",
    "\n",
    "coef_adjust  = widgets.FloatSlider(value=1.1, min=0.5, max=1, step=0.01, description='Coef adjust', layout=Layout(width='50%'), style = {'description_width': 'initial'}, continuous_update=False)\n",
    "\n",
    "interact(update_plot, \n",
    "         float_time     = float_time_slider,\n",
    "         float_range_rho  = float_range_rho_slider,\n",
    "         float_range_rho2  = float_range_rho_slider2,\n",
    "         same_y_range   = widgets.Checkbox(value=False,description='Same y range'),\n",
    "         **custom_widgets\n",
    "        )"
   ]
  },
  {
   "attachments": {},
   "cell_type": "markdown",
   "id": "d8538d86",
   "metadata": {},
   "source": [
    "<a id='en_cours_cons_vorticity_withdia'></a>\n",
    "## <font color='coral'>**Travail en cours**</font> - Conservation de la vorticité (avec tenseur diamagnétique) [▲](#sommaire)\n",
    "\n",
    "Ici on vérifie l'équation 7 du papier [Y.Sazarin,PPCF2021] --> $\\partial_t ( \\partial_r \\langle \\phi \\langle ) + \\frac{1}{r^2} \\partial_r (r^2 (\\Pi_E + \\Pi^\\star)) = RHS$ où ici est considéré $RHS = 0$."
   ]
  },
  {
   "cell_type": "code",
   "execution_count": null,
   "id": "a20fa1b9",
   "metadata": {},
   "outputs": [],
   "source": [
    "plt.close('all')\n",
    "\n",
    "def update_plot(dpi_adjust,float_time,float_range_rho,select_sim,\n",
    "                coef_adjust,same_y_range):\n",
    "    \n",
    "    plt.close('all')\n",
    "    clear_output\n",
    "\n",
    "    q_ar = [q for q in all_sim if q['title'] in select_sim]\n",
    "    \n",
    "    fig = plt.figure(figsize=(16,8*len(q_ar)))\n",
    "\n",
    "    tscan = float_time\n",
    "    rhomin,rhomax = float_range_rho\n",
    "\n",
    "    fig.suptitle('Time : %.0f' % (tscan) + r' $[\\omega_{c0}^{-1}]$')\n",
    "\n",
    "    ## Set dpi of figure\n",
    "    if dpi_adjust!=dpi_custom:fig.set_dpi(dpi_adjust)\n",
    "    \n",
    "    for iq,q in enumerate(q_ar):\n",
    "\n",
    "        ax_rprof = fig.add_subplot(len(q_ar),2,2*iq+1)\n",
    "\n",
    "        irhomin, irhomax = np.searchsorted(q['rho'],[rhomin,rhomax])\n",
    "        \n",
    "        itscan = np.searchsorted(q['time'],tscan)\n",
    "        \n",
    "        classic_integrated_vorticity_evolution = q['dtdrPhiFSavg']\n",
    "        integrated_tensor_laplacian = q['rg']**(-2) * np.gradient(q['RSpol_tot_from3D'] * q['rg']**2,q['rg'],axis=1)\n",
    "        # integrated_tensor_laplacian = q['rg']**(-2) * np.gradient(q['RSpol_vE_from3D'] * q['rg']**2,q['rg'],axis=1)\n",
    "        # integrated_tensor_laplacian = q['rg']**(-2) * np.gradient(q['RSpol_vE'] * q['rg']**2,q['rg'],axis=1)\n",
    "        # integrated_tensor_laplacian = q['rg']**(-2) * np.gradient(q['RSdia'] * q['rg']**2,q['rg'],axis=1)\n",
    "\n",
    "        classic_vorticity_evolution = np.gradient( classic_integrated_vorticity_evolution, q['rg'], axis=1)\n",
    "        tensor_laplacian = np.gradient( integrated_tensor_laplacian, q['rg'], axis=1)\n",
    "\n",
    "        ax_rprof.set_title(q['title'] + ' - Vorticity')\n",
    "        ax_rprof.plot(q['rho'][irhomin:irhomax], classic_vorticity_evolution[itscan,irhomin:irhomax],c='b',label=r'$\\partial_t ( \\partial^2_r \\Phi_{00} )$')\n",
    "        ax_rprof.plot(q['rho'][irhomin:irhomax], -tensor_laplacian[itscan,irhomin:irhomax],c='g',label=r'$- \\partial_r (\\frac{1}{r^2} \\partial_r (r^2 (\\Pi_E + \\Pi^\\star)))$')\n",
    "        if same_y_range:ax_rprof.set_ylim(-4e-6,4e-6)\n",
    "\n",
    "        ax_rprof2 = fig.add_subplot(len(q_ar),2,2*iq+2)\n",
    "                             \n",
    "        ax_rprof2.set_title(q['title'] + r' - Integrated vorticity')\n",
    "        ax_rprof2.plot(q['rho'][irhomin:irhomax], classic_integrated_vorticity_evolution[itscan,irhomin:irhomax],c='b',label=r'$\\partial_t ( \\partial_r \\Phi_{00} )$')\n",
    "        ax_rprof2.plot(q['rho'][irhomin:irhomax], -integrated_tensor_laplacian[itscan,irhomin:irhomax],c='g',label=r'$- \\frac{1}{r^2} \\partial_r (r^2 (\\Pi_E + \\Pi^\\star))$')\n",
    "        if same_y_range:ax_rprof2.set_ylim(-1e-5,1e-5)\n",
    "\n",
    "        for axes in [ax_rprof,ax_rprof2]:\n",
    "            axes.set_xlabel(r'$r/a$')\n",
    "            axes.axhline(y=0,c='k',ls='--')\n",
    "            axes.axvline(x=1,c='k',ls='--')\n",
    "            if iq==0:axes.legend()\n",
    "\n",
    "    fig.tight_layout(rect=[0, 0.03, 1, 0.95])\n",
    "    \n",
    "float_time_slider  = widgets.FloatSlider(value=90e3, min=0, max=200e3, step=1000, description='Time range', layout=Layout(width='50%'), style = {'description_width': 'initial'}, continuous_update=False)\n",
    "float_range_rho_slider  = widgets.FloatRangeSlider(value=[0.1, 1], min=0, max=1.2, step=0.05, description='Normalized radius range', layout=Layout(width='50%'), style = {'description_width': 'initial'}, continuous_update=False)\n",
    "\n",
    "coef_adjust  = widgets.FloatSlider(value=1.1, min=0.5, max=1, step=0.01, description='Coef adjust', layout=Layout(width='50%'), style = {'description_width': 'initial'}, continuous_update=False)\n",
    "\n",
    "interact(update_plot, \n",
    "         float_time     = float_time_slider,\n",
    "         float_range_rho  = float_range_rho_slider,\n",
    "         same_y_range   = widgets.Checkbox(value=True,description='Same y range'),\n",
    "         coef_adjust    = coef_adjust,\n",
    "         **custom_widgets\n",
    "        )"
   ]
  },
  {
   "attachments": {},
   "cell_type": "markdown",
   "id": "60c4ce95",
   "metadata": {},
   "source": [
    "<a id='en_cours_profile_amplitude_gams_zfs'></a>\n",
    "## <font color='coral'>**Travail en cours**</font> - Profil amplitude GAMs et ZFs [▲](#sommaire)"
   ]
  },
  {
   "cell_type": "code",
   "execution_count": null,
   "id": "da0ce6cf",
   "metadata": {},
   "outputs": [],
   "source": [
    "plt.close('all')\n",
    "\n",
    "symetrical_cmap = 0\n",
    "def update_plot(N,colormap_range,dpi_adjust,param,float_range_time,float_range_rho,show_omega_theo,\n",
    "               select_sim,\n",
    "               int_range_mode):\n",
    "    \n",
    "    tmin_avg,tmax_avg     = float_range_time\n",
    "    rhomin_avg,rhomax_avg = float_range_rho\n",
    "    modemin,modemax       = int_range_mode\n",
    "    \n",
    "    q_ar = [q for q in all_sim if q['title'] in select_sim]\n",
    "    \n",
    "    plt.close('all')\n",
    "    \n",
    "    fig = plt.figure(figsize=(16,10), dpi=dpi_adjust)\n",
    "    fig.suptitle(r'Study of %s' %param)\n",
    "\n",
    "    Pmap = uniform_filter1d(uniform_filter1d(all_sim[0][param],size=N,axis=1),size=N,axis=1)\n",
    "    if symetrical_cmap:\n",
    "        vmin = colormap_range*min( abs( np.min(Pmap) ), abs( np.max(Pmap) ) ) \n",
    "        vmax = -vmin\n",
    "    else:\n",
    "        vmin = colormap_range*np.min(Pmap) \n",
    "        vmax = colormap_range*np.max(Pmap) \n",
    "\n",
    "    gs = gridspec.GridSpec(5, 2*len(q_ar))\n",
    "    \n",
    "    for iq,q in enumerate(q_ar):\n",
    "        \n",
    "        irhomin, irhomax = np.searchsorted(q['rho'], [0.2, 1.1])\n",
    "        itmin, itmax = np.searchsorted(q['time'], [100e3, 200e3])\n",
    "\n",
    "        print(q['time'][itmin])\n",
    "\n",
    "        p_ma = uniform_filter1d(uniform_filter1d(q[param],size=N,axis=1),size=N,axis=1)\n",
    "        \n",
    "        ## Figure 1\n",
    "        ax_map = fig.add_subplot(gs[0:3, 2*iq:2*iq+2]) \n",
    "\n",
    "        ax_map.set_title(q['title'])\n",
    "        p=ax_map.pcolormesh(q['rho'][irhomin:irhomax],q['time'][itmin:itmax],p_ma[itmin:itmax,irhomin:irhomax],vmin=vmin,vmax=vmax)\n",
    "        fig.colorbar(p,ax=ax_map)\n",
    "        ax_map.set_xlabel(r'$r/a$')\n",
    "        ax_map.set_ylabel(r'Time $[\\omega_{c0}^{-1}]$')\n",
    "\n",
    "        ax_map.axvline(x=1,c='k',ls='--')\n",
    "        for rline in [0.8,0.6,0.4,0.2]:ax_map.axvline(x=rline,c='k',ls='--')\n",
    "        ax_map.set_xticks([1.0,0.8,0.6,0.4,0.2])\n",
    "        \n",
    "        ax_map.axvline(x=rhomin_avg,c='g',ls='-')\n",
    "        ax_map.axvline(x=rhomax_avg,c='g',ls='-')\n",
    "        \n",
    "        ax_map.axhline(y=tmin_avg,c='r',ls='-')\n",
    "        ax_map.axhline(y=tmax_avg,c='r',ls='-')\n",
    "\n",
    "        ax_map.set_xlim([0.2,1.1])\n",
    "        \n",
    "        if N>1: ax_map.plot(q['rho'][40:40+N],np.ones(N)*ax_map.get_ylim()[1]*3/4,c='xkcd:battleship grey',lw=5) #Visualisation de la fenêtre de la moyenne glissante\n",
    "        \n",
    "        ##Figure 2\n",
    "        itmin_avg, itmax_avg     = np.searchsorted(q['time'],[tmin_avg,tmax_avg])\n",
    "        irhomin_avg, irhomax_avg = np.searchsorted(q['rho'],[rhomin_avg,rhomax_avg])\n",
    "        \n",
    "        #Perform fft\n",
    "        dt_diag = q['time'][-1]-q['time'][-2]\n",
    "        fspectra = np.fft.rfft(p_ma[itmin_avg:itmax_avg,:], axis=0) / (itmax_avg-itmin_avg)\n",
    "        w = np.fft.rfftfreq(itmax_avg-itmin_avg, d=dt_diag)\n",
    "        \n",
    "        ax_fspectra = fig.add_subplot(gs[3:, 0:len(q_ar)]) \n",
    "        ax_fspectra.set_title(r'Fourier amplitude (avg %.2f < r/a < %.2f)' % (rhomin_avg , rhomax_avg) )\n",
    "        ax_fspectra.semilogy(w,2*np.mean(np.abs(fspectra[:,irhomin_avg:irhomax_avg])**2 * ((itmax_avg-itmin_avg)*dt_diag),axis=1),c=q['c'],label=q['title'],ls='-',marker='o',markersize=3,mfc=q['c'], mec=q['c'], alpha=0.5)\n",
    "        ax_fspectra.set_xlabel(r'$\\omega [\\omega_{c0}]$')\n",
    "        ax_fspectra.legend(fontsize=14)\n",
    "        ax_fspectra.axvline(x=w[modemin], ls='--', c='g',lw=1); ax_fspectra.axvline(x=w[modemax], ls='--', c='g',lw=1)\n",
    "\n",
    "        #Fréquence GAM théorique\n",
    "        if show_omega_theo:\n",
    "            omega_theo = np.mean( np.mean( (2*np.sqrt(q['T'] * (5/3) *(1 + (1/(2*q['q']**2) ) )) /800)[itmin_avg:itmax_avg] ,axis=0)[irhomax_avg-1:irhomax_avg] ) / (2 * np.pi)\n",
    "            ax_fspectra.axvline(x=omega_theo,c=q['c'],ls='--')\n",
    "\n",
    "        irholimmin = (np.abs(q['rho'] - 0.5 )).argmin()\n",
    "        irholimmax = (np.abs(q['rho'] - 1 )).argmin()\n",
    "        ax_rprof = fig.add_subplot(gs[3:, len(q_ar):]) \n",
    "        ax_rprof.set_title(r'Profile of avg $\\omega = %.1e < \\omega [\\omega_{c0}] < %.1e$ component' % (w[modemin],w[modemax]) )\n",
    "        ax_rprof.semilogy(q['rho'][irholimmin:irholimmax], \n",
    "                      np.mean( 2*np.abs(fspectra[modemin:modemax,irholimmin:irholimmax])**2 * ((itmax_avg-itmin_avg)*dt_diag), axis=0), c=q['c']\n",
    "                     )\n",
    "        \n",
    "    fig.tight_layout(rect=[0, 0.03, 1, 0.95])\n",
    "\n",
    "float_range_time_slider = widgets.FloatRangeSlider(value=[100e3, 190e3], min=0, max=210e3, step=1000, description='Time range', layout=Layout(width='50%'), style = {'description_width': 'initial'}, continuous_update=False)\n",
    "float_range_rho_slider  = widgets.FloatRangeSlider(value=[0.8, 0.9], min=0, max=1.2, step=0.01, description='Normalized radius range', layout=Layout(width='50%'), style = {'description_width': 'initial'}, continuous_update=False)\n",
    "int_range_mode_slider   = widgets.IntRangeSlider(value=[20, 30], min=0, max=100, description='Frequency range', layout=Layout(width='50%'), style = {'description_width': 'initial'}, continuous_update=False)\n",
    "\n",
    "#custom_widgets['param'].value = 'Ptransfert'\n",
    "\n",
    "interact(update_plot, \n",
    "         #mode             = widgets.IntSlider(min=0, max=50, step=1,value=0, continuous_update=False),\n",
    "         int_range_mode   = int_range_mode_slider,\n",
    "         overlap_factor   = widgets.FloatSlider(min=0, max=1, step=0.05,value=0.8),\n",
    "         float_range_time = float_range_time_slider,\n",
    "         float_range_rho  = float_range_rho_slider,\n",
    "         colormap_range   = widgets.FloatSlider(min=0.1, max=2, step=0.05,value=0.8, continuous_update=False),\n",
    "         show_omega_theo  = widgets.Checkbox(value=False,description=r'Display $\\omega_{theo}$'),\n",
    "         **custom_widgets\n",
    "        )"
   ]
  },
  {
   "attachments": {},
   "cell_type": "markdown",
   "id": "7bcc128a",
   "metadata": {},
   "source": [
    "<a id='en_cours_tf_phi'></a>\n",
    "## <font color='coral'>**Travail en cours**</font> - Spectre 2D de $\\phi(\\theta,\\varphi)$[▲](#sommaire)"
   ]
  },
  {
   "cell_type": "code",
   "execution_count": 2,
   "id": "11bdff8a",
   "metadata": {},
   "outputs": [
    {
     "name": "stdout",
     "output_type": "stream",
     "text": [
      "dict_keys(['Phithphi', 'T_rpeak', 'Tir', 'growth_rate_spectra', 'm', 'n', 'phig', 'q_rpeak', 'rpeak', 'thetag', 'time'])\n",
      "qrpeak = 0.96\n"
     ]
    },
    {
     "name": "stderr",
     "output_type": "stream",
     "text": [
      "E:\\Temp\\ipykernel_17892\\489256112.py:73: RuntimeWarning: invalid value encountered in true_divide\n",
      "  Gammalin2D = np.log(tevol_TFPhi2D[itend,:,:]/tevol_TFPhi2D[itinit,:,:])/(tend-tinit)\n"
     ]
    },
    {
     "data": {
      "application/vnd.jupyter.widget-view+json": {
       "model_id": "d19fb55f546a42de9db6b21fa9f4f8e9",
       "version_major": 2,
       "version_minor": 0
      },
      "text/plain": [
       "Canvas(toolbar=Toolbar(toolitems=[('Home', 'Reset original view', 'home', 'home'), ('Back', 'Back to previous …"
      ]
     },
     "metadata": {},
     "output_type": "display_data"
    },
    {
     "name": "stderr",
     "output_type": "stream",
     "text": [
      "E:\\Temp\\ipykernel_17892\\489256112.py:83: RuntimeWarning: divide by zero encountered in log10\n",
      "  p1 = ax1.pcolormesh(m2d,n2d,np.log10(tevol_TFPhi2D[-30,:,:]),vmin=-10,vmax=0)\n",
      "E:\\Temp\\ipykernel_17892\\489256112.py:83: MatplotlibDeprecationWarning: shading='flat' when X and Y have the same dimensions as C is deprecated since 3.3.  Either specify the corners of the quadrilaterals with X and Y, or pass shading='auto', 'nearest' or 'gouraud', or set rcParams['pcolor.shading'].  This will become an error two minor releases later.\n",
      "  p1 = ax1.pcolormesh(m2d,n2d,np.log10(tevol_TFPhi2D[-30,:,:]),vmin=-10,vmax=0)\n",
      "E:\\Temp\\ipykernel_17892\\489256112.py:100: MatplotlibDeprecationWarning: shading='flat' when X and Y have the same dimensions as C is deprecated since 3.3.  Either specify the corners of the quadrilaterals with X and Y, or pass shading='auto', 'nearest' or 'gouraud', or set rcParams['pcolor.shading'].  This will become an error two minor releases later.\n",
      "  p3 = ax3.pcolormesh(m2d,n2d,Gammalin2D[:,:],vmin=0)\n"
     ]
    },
    {
     "name": "stdout",
     "output_type": "stream",
     "text": [
      "qrpeak = 2.87\n"
     ]
    },
    {
     "data": {
      "application/vnd.jupyter.widget-view+json": {
       "model_id": "3f9165af417d4f46b0cc6332dc9ecfad",
       "version_major": 2,
       "version_minor": 0
      },
      "text/plain": [
       "Canvas(toolbar=Toolbar(toolitems=[('Home', 'Reset original view', 'home', 'home'), ('Back', 'Back to previous …"
      ]
     },
     "metadata": {},
     "output_type": "display_data"
    },
    {
     "name": "stderr",
     "output_type": "stream",
     "text": [
      "E:\\Temp\\ipykernel_17892\\489256112.py:83: MatplotlibDeprecationWarning: shading='flat' when X and Y have the same dimensions as C is deprecated since 3.3.  Either specify the corners of the quadrilaterals with X and Y, or pass shading='auto', 'nearest' or 'gouraud', or set rcParams['pcolor.shading'].  This will become an error two minor releases later.\n",
      "  p1 = ax1.pcolormesh(m2d,n2d,np.log10(tevol_TFPhi2D[-30,:,:]),vmin=-10,vmax=0)\n",
      "E:\\Temp\\ipykernel_17892\\489256112.py:100: MatplotlibDeprecationWarning: shading='flat' when X and Y have the same dimensions as C is deprecated since 3.3.  Either specify the corners of the quadrilaterals with X and Y, or pass shading='auto', 'nearest' or 'gouraud', or set rcParams['pcolor.shading'].  This will become an error two minor releases later.\n",
      "  p3 = ax3.pcolormesh(m2d,n2d,Gammalin2D[:,:],vmin=0)\n"
     ]
    }
   ],
   "source": [
    "plt.rcParams['axes.formatter.limits'] = (-5,6)\n",
    "\n",
    "q05_spectra = hdf5_to_dict(\"data/q05_growthrate_2Dspectra.hdf5\")\n",
    "q15_spectra = hdf5_to_dict(\"data/q15_growthrate_2Dspectra.hdf5\")\n",
    "\n",
    "print(q05_spectra.keys())\n",
    "\n",
    "def Fourier2D(F0, y0, x0):\n",
    "\n",
    "    \"\"\" Personal FFT2D function\"\"\"\n",
    "\n",
    "    nx0 = len(x0)\n",
    "    nx  = 2 * int(nx0 / 2)\n",
    "    hnx = int(nx / 2)\n",
    "    ny0 = len(y0)\n",
    "    ny  = 2 * int(ny0 / 2)\n",
    "    hny = int(ny / 2)\n",
    "\n",
    "    x = x0[0:nx]\n",
    "    y = y0[0:ny]\n",
    "    F = F0[0:ny, 0:nx]\n",
    "\n",
    "    Lx   = x[nx - 1] - x[0]\n",
    "    dx   = x[1] - x[0]\n",
    "    dkx  = 2. * np.pi / (Lx + dx)\n",
    "    kx   = np.zeros(nx)\n",
    "    temp = -dkx * np.r_[1:hnx + 1]\n",
    "    kx[0:hnx]  = temp[::-1]\n",
    "    kx[hnx:nx] = dkx * np.r_[0:hnx]\n",
    "\n",
    "    Ly   = y[ny - 1] - y[0]\n",
    "    dy   = y[1] - y[0]\n",
    "    dky  = 2. * np.pi / (Ly + dy)\n",
    "    ky   = np.zeros(ny)\n",
    "    temp = -dky * np.r_[1:hny + 1]\n",
    "    ky[0:hny]  = temp[::-1]\n",
    "    ky[hny:ny] = dky * np.r_[0:hny]\n",
    "\n",
    "    TFF = np.zeros((ny, nx), dtype=complex)\n",
    "    AA  = np.zeros((ny, nx), dtype=complex)\n",
    "    var = np.conjugate(np.fft.fft2(np.conjugate(F))) / float((nx * ny))\n",
    "\n",
    "    AA[:, 0:hnx]   = var[:, hnx:nx]\n",
    "    AA[:, hnx:nx]  = var[:, 0:hnx]\n",
    "    TFF[0:hny, :]  = AA[hny:ny, :]\n",
    "    TFF[hny:ny, :] = AA[0:hny, :]\n",
    "\n",
    "    return TFF, kx, ky\n",
    "\n",
    "for iq,q in enumerate([q05_spectra,q15_spectra]):\n",
    "    print('qrpeak = %.2f' % q['q_rpeak'])\n",
    "    phi2D = q['Phithphi']**2\n",
    "\n",
    "    Nphi = len(q['phig'])-1\n",
    "    Ntheta = len(q['thetag'])-1\n",
    "\n",
    "    tevol_TFPhi2D = np.zeros((len(q['time']),Nphi,Ntheta))\n",
    "\n",
    "    for it in range(len(q['time'])):\n",
    "        tevol_TFPhi2D[it,:,:] = np.abs(Fourier2D(phi2D[it,0:Nphi+1,0:Ntheta+1],q['phig'],q['thetag'])[0])\n",
    "\n",
    "    m2d,n2d = Fourier2D(phi2D[-1,0:Nphi+1,0:Ntheta+1],q['phig'],q['thetag'])[1:]\n",
    "    dm2d = (m2d[1]-m2d[0])//2 ; m2d = m2d-dm2d\n",
    "    dn2d = (n2d[1]-n2d[0])//2 ; n2d = n2d-dn2d\n",
    "\n",
    "    ## Calculate the linear growth rate between tinit and tend\n",
    "    tinit = 15e3\n",
    "    tend  = 19e3\n",
    "\n",
    "    itinit = np.argmin(np.abs(q['time']-tinit))\n",
    "    itend  = np.argmin(np.abs(q['time']-tend))\n",
    "\n",
    "    Gammalin2D = np.log(tevol_TFPhi2D[itend,:,:]/tevol_TFPhi2D[itinit,:,:])/(tend-tinit)\n",
    "\n",
    "    C = 140\n",
    "    n_ex = np.argmin(np.abs(n2d-dn2d-C))\n",
    "    m_ex = np.argmin(np.abs(m2d-dm2d+C*q['q_rpeak']))\n",
    "\n",
    "    fig = plt.figure(figsize=(18,6))\n",
    "\n",
    "    ## Plot the 2D spectrum\n",
    "    ax1 = fig.add_subplot(131)\n",
    "    p1 = ax1.pcolormesh(m2d,n2d,np.log10(tevol_TFPhi2D[-30,:,:]),vmin=-10,vmax=0)    \n",
    "    fig.colorbar(p1)\n",
    "    ax1.set_xlabel(r'$m$')\n",
    "    ax1.set_ylabel(r'$n$')\n",
    "    ax1.set_title(r'$\\log_{10}(|\\tilde{\\phi}|^2)$')\n",
    "    ax1.plot(m2d,-m2d/q['q_rpeak'],c='k',ls='--')\n",
    "    ## Add the point n_ex,m_ex to the plot\n",
    "    ax1.plot(m2d[m_ex],n2d[n_ex],'r+')\n",
    "\n",
    "    ## Plot the time evolution of the spectrum at n_ex,m_ex\n",
    "    ax2 = fig.add_subplot(132)\n",
    "    ax2.plot(q['time'],np.log10(tevol_TFPhi2D[:,n_ex,m_ex]))\n",
    "    ax2.axvline(tinit,c='k',ls='--')\n",
    "    ax2.axvline(tend,c='k',ls='--')\n",
    "\n",
    "    ## Plot the growth rate\n",
    "    ax3 = fig.add_subplot(133)\n",
    "    p3 = ax3.pcolormesh(m2d,n2d,Gammalin2D[:,:],vmin=0) \n",
    "    fig.colorbar(p3)\n",
    "\n",
    "    fig.tight_layout()\n"
   ]
  },
  {
   "attachments": {},
   "cell_type": "markdown",
   "id": "079b7c43",
   "metadata": {},
   "source": [
    "<a id='en_cours_spectre_taux_croissance'></a>\n",
    "## <font color='coral'>**Travail en cours**</font> - Spectre du taux de croissance [▲](#sommaire)"
   ]
  },
  {
   "cell_type": "code",
   "execution_count": null,
   "id": "64d7f498",
   "metadata": {},
   "outputs": [],
   "source": [
    "q05_spectra = hdf5_to_dict(\"data/q05_growthrate_2Dspectra.hdf5\")\n",
    "print(q05_spectra.keys())\n",
    "\n",
    "nsize = np.abs(q05_spectra['n'][-1] - q05_spectra['n'][0])\n",
    "dn    = np.abs(q05_spectra['n'][1] - q05_spectra['n'][0])\n",
    "dm    = np.abs(q05_spectra['m'][1] - q05_spectra['m'][0])\n",
    "m     = q05_spectra['m']\n",
    "q     = q05_spectra['q_rpeak']\n",
    "\n",
    "## Plot the growth rate spectra in 2D\n",
    "fig = plt.figure(figsize=(15,8))\n",
    "ax1 = fig.add_subplot(121)\n",
    "ax1.set_title(\"Growth rate spectra in 2D\")\n",
    "ax1.set_xlabel(r\"$m$\")\n",
    "ax1.set_ylabel(r\"$n$\")\n",
    "\n",
    "p = ax1.pcolormesh(q05_spectra['m'],q05_spectra['n'],q05_spectra['growth_rate_spectra'])\n",
    "fig.colorbar(p)\n",
    "\n",
    "tol = 80\n",
    "\n",
    "## Plot lines of constant n=-m/q and range to cover\n",
    "n = (-m/q + nsize/2)%nsize - nsize/2 - dn\n",
    "ax1.plot(m, n, ls='--', c='r')\n",
    "ax1.plot(m, ((-m-tol)/q + nsize/2)%nsize - nsize/2 - dn, ls='--', c='r')\n",
    "ax1.plot(m, ((-m+tol)/q + nsize/2)%nsize - nsize/2 - dn, ls='--', c='r')\n",
    "\n",
    "## Plot the growth rate spectra in 1D taking all mode on the n=-m/q line\n",
    "growth_rate1D_n = np.zeros(len(q05_spectra['m']))\n",
    "growth_rate1D_m = np.zeros(len(q05_spectra['m']))\n",
    "for im in range(len(q05_spectra['m'])):\n",
    "    growth_rate1D_n[im] = np.mean(q05_spectra['growth_rate_spectra'][\n",
    "                    np.where((q05_spectra['n'] >= n[im]-tol) & (q05_spectra['n'] <= n[im]+tol)), im]\n",
    "                    )\n",
    "    growth_rate1D_m[im] = np.mean(q05_spectra['growth_rate_spectra'][np.argmin(np.abs(q05_spectra['n'] - n[im])),\n",
    "                    np.where((q05_spectra['m'] >= m[im]-tol) & (q05_spectra['m'] <= m[im]+tol))]\n",
    "                    )\n",
    "\n",
    "## Plot the growth rate spectra in 1D\n",
    "ktheta_rhoi = (m / q05_spectra['rpeak']) * np.sqrt(q05_spectra['T_rpeak']/2)\n",
    "\n",
    "im_lim = np.argmin(np.abs(q05_spectra['m'] - 240)) \n",
    "\n",
    "ax2 = fig.add_subplot(122)\n",
    "ax2.set_title(\"Growth rate spectra in 1D\")\n",
    "ax2.set_xlabel(r\"$k_\\theta \\rho_i$\")\n",
    "ax2.set_ylabel(r\"$\\gamma$\")\n",
    "ax2.plot(ktheta_rhoi,growth_rate1D_n, label=r'Sum over $n$ range (vertical)')\n",
    "ax2.plot(ktheta_rhoi,growth_rate1D_m, label=r'Sum over $m$ range (horizontal)')\n",
    "ax2.plot(ktheta_rhoi,(growth_rate1D_n+growth_rate1D_m)/2, label=r'Mean of the two')\n",
    "ax2.axvline(x=ktheta_rhoi[im_lim], ls='--', c='k')\n",
    "ax2.set_xlim(left=0)\n",
    "ax2.legend()\n",
    "fig.tight_layout()\n",
    "\n",
    "\n"
   ]
  },
  {
   "attachments": {},
   "cell_type": "markdown",
   "id": "cedfc8b2",
   "metadata": {},
   "source": [
    "<a id='en_cours_cons_vorticity'></a>\n",
    "## <font color='coral'>**Travail en cours**</font> - Contribution des termes à $\\partial_t E_r$[▲](#sommaire)"
   ]
  },
  {
   "cell_type": "code",
   "execution_count": 14,
   "id": "97bdda46",
   "metadata": {},
   "outputs": [
    {
     "data": {
      "application/vnd.jupyter.widget-view+json": {
       "model_id": "6dea87c17b2542cba3554ba4e96bcaed",
       "version_major": 2,
       "version_minor": 0
      },
      "text/plain": [
       "Canvas(toolbar=Toolbar(toolitems=[('Home', 'Reset original view', 'home', 'home'), ('Back', 'Back to previous …"
      ]
     },
     "metadata": {},
     "output_type": "display_data"
    },
    {
     "data": {
      "application/vnd.jupyter.widget-view+json": {
       "model_id": "a81795f86b7a4b6c8ec7907cc574ba4e",
       "version_major": 2,
       "version_minor": 0
      },
      "text/plain": [
       "interactive(children=(IntSlider(value=100, continuous_update=False, description='dpi_adjust', max=200, min=30)…"
      ]
     },
     "metadata": {},
     "output_type": "display_data"
    },
    {
     "data": {
      "text/plain": [
       "<function __main__.update_plot(dpi_adjust, float_time, float_range_time, float_range_rho, select_sim, same_y_range, bool_instant)>"
      ]
     },
     "execution_count": 14,
     "metadata": {},
     "output_type": "execute_result"
    }
   ],
   "source": [
    "plt.close('all')\n",
    "\n",
    "fig = plt.figure(figsize=(16,6))\n",
    "\n",
    "def update_plot(dpi_adjust,float_time,float_range_time,float_range_rho,select_sim,same_y_range,bool_instant):\n",
    "\n",
    "    q_ar = [q for q in all_sim if q['title'] in select_sim]\n",
    "\n",
    "    plt.clf()\n",
    "\n",
    "    ## Set dpi of figure\n",
    "    fig.set_dpi(dpi_adjust)\n",
    "    ## Set size of figure\n",
    "    fig.set_size_inches(16,6*len(q_ar))\n",
    "\n",
    "    ## Clear previous plot\n",
    "    for axes in fig.axes: axes.clear()\n",
    "\n",
    "    q_ar = [q for q in all_sim if q['title'] in select_sim]\n",
    "\n",
    "    tscan  = float_time\n",
    "    rhomin,rhomax = float_range_rho\n",
    "    tmin,tmax = float_range_time\n",
    "\n",
    "    fig.suptitle('Time : %.0f' % (tscan) + r' $[\\omega_{c0}^{-1}]$')\n",
    "\n",
    "    for iq,q in enumerate(q_ar):\n",
    "\n",
    "        irhomin, irhomax = np.searchsorted(q['rho'],[rhomin,rhomax])\n",
    "        itscan           = np.searchsorted(q['time'],tscan)\n",
    "        itmin  , itmax   = np.searchsorted(q['time'],[tmin,tmax])\n",
    "\n",
    "        ax_rprof = fig.add_subplot(len(q_ar),2,2*iq+1) \n",
    "        ax_rprof2 = fig.add_subplot(len(q_ar),2,2*iq+2)\n",
    "\n",
    "        Zs   = q['Zs']\n",
    "        As  = q['As']\n",
    "        rho = q['rho'][irhomin:irhomax]\n",
    "        ns0  = q['ns0'][irhomin:irhomax]\n",
    "\n",
    "        if bool_instant:\n",
    "            fig.suptitle('Time : %.0f' % (tscan) + r' $[\\omega_{c0}^{-1}]$')\n",
    "            dtEr        = q['dtEr'][itscan,irhomin:irhomax]\n",
    "            Jr          = q['Jr'][itscan,irhomin:irhomax]\n",
    "            Jr_vD       = q['Jr_vD'][itscan,irhomin:irhomax]\n",
    "            Jr_vE       = q['Jr_vE'][itscan,irhomin:irhomax]\n",
    "            Jr_vEn0     = q['Jr_vEn0'][itscan,irhomin:irhomax]\n",
    "            Jr_vEdiffn0 = q['Jr_vEdiffn0'][itscan,irhomin:irhomax]\n",
    "            dtdrPperp   = q['dtdrPperp'][itscan,irhomin:irhomax]\n",
    "            safety_fac  = q['q'][irhomin:irhomax]\n",
    "        \n",
    "        else:\n",
    "            fig.suptitle(r'Avg between : %.0f < $t [\\omega_{c0}^{-1}]$< %.0f' % (tmin,tmax))\n",
    "            dtEr = np.mean(q['dtEr'][itmin:itmax,irhomin:irhomax],axis=0)\n",
    "            Jr   = np.mean(q['Jr'][itmin:itmax,irhomin:irhomax],axis=0)\n",
    "            Jr_vD = np.mean(q['Jr_vD'][itmin:itmax,irhomin:irhomax],axis=0)\n",
    "            Jr_vE = np.mean(q['Jr_vE'][itmin:itmax,irhomin:irhomax],axis=0)\n",
    "            Jr_vEn0 = np.mean(q['Jr_vEn0'][itmin:itmax,irhomin:irhomax],axis=0)\n",
    "            Jr_vEdiffn0 = np.mean(q['Jr_vEdiffn0'][itmin:itmax,irhomin:irhomax],axis=0)\n",
    "            dtdrPperp = np.mean(q['dtdrPperp'][itmin:itmax,irhomin:irhomax],axis=0)\n",
    "   \n",
    "\n",
    "        \n",
    "        ax_rprof.set_title(q['title'] + r' - Integrated vorticity')\n",
    "        # ax_rprof.plot(q['rho'][irhomin:irhomax], -q['As']*(-q['ns0']*q['dtEr'] + 0.5* q['Zs']**(-1)*q['dtdrPperp'])[itscan,irhomin:irhomax], c='b',label=r'$\\partial_t \\left(-\\frac{m n_0}{B_0} \\partial_r \\langle\\phi\\rangle - \\frac{m}{2eB_0^2} \\partial_r \\langle P_\\perp \\rangle\\right)$')\n",
    "        # ax_rprof.plot(q['rho'][irhomin:irhomax], -q['Jr'][itscan,irhomin:irhomax],c='r',label=r'$-e \\langle \\Gamma_r \\rangle $')\n",
    "        ax_rprof.plot(rho, dtEr, label=r'$\\partial_t E_r$')\n",
    "        ax_rprof.plot(rho, - (As*ns0)**(-1)*Jr + (2*Zs*ns0)**(-1)*dtdrPperp, label=r'$-\\frac{1}{m n_0} J_r + \\frac{1}{2 m n_0} \\partial_t \\partial_r P_{\\perp}$')\n",
    "        #if same_y_range:ax_rprof.set_ylim(-1e-5,1e-5)\n",
    "\n",
    "        \n",
    "        ax_rprof2.plot(rho, - (As*ns0)**(-1)*(Jr_vD+Jr_vEn0), label=r'$-\\frac{1}{m n_0} (J_{Dr}+J_{Er,n=0})$')\n",
    "        ax_rprof2.plot(rho, - (As*ns0)**(-1)*Jr_vEdiffn0, label=r'$-\\frac{1}{m n_0} J_{Er,n \\neq 0}$')\n",
    "        ax_rprof2.plot(rho, - (2*Zs*ns0)**(-1)*dtdrPperp, label=r'$\\frac{1}{2 m n_0} \\partial_t \\partial_r P_{\\perp}$')\n",
    "\n",
    "        for axes in fig.axes:\n",
    "            axes.set_xlabel(r'$r/a$')\n",
    "            axes.axhline(y=0,c='k',ls='--')\n",
    "            axes.axvline(x=1,c='k',ls='--')\n",
    "            if iq==0:axes.legend()\n",
    "\n",
    "    fig.tight_layout(rect=[0, 0.03, 1, 0.95])\n",
    "    \n",
    "float_time_slider      = widgets.FloatSlider(value=150e3, min=0, max=303e3, step=1000, description='Time range', layout=Layout(width='50%'), style = {'description_width': 'initial'}, continuous_update=False)\n",
    "float_range_rho_slider = widgets.FloatRangeSlider(value=[0.1, 1], min=0, max=1.2, step=0.05, description='Normalized radius range', layout=Layout(width='50%'), style = {'description_width': 'initial'}, continuous_update=False)\n",
    "float_range_time_slider = widgets.FloatRangeSlider(value=[200e3, 250e3], min=0, max=303e3, step=1000, description='Time range', layout=Layout(width='50%'), style = {'description_width': 'initial'}, continuous_update=False)\n",
    "\n",
    "interact(update_plot, \n",
    "         float_time     = float_time_slider,\n",
    "         float_range_rho  = float_range_rho_slider,\n",
    "         float_range_time = float_range_time_slider,\n",
    "         same_y_range   = widgets.Checkbox(value=True,description='Same y range'),\n",
    "         bool_instant   = widgets.Checkbox(value=False,description='Instantaneous values'),\n",
    "         **custom_widgets\n",
    "        )"
   ]
  },
  {
   "attachments": {},
   "cell_type": "markdown",
   "id": "98d649ab-1432-4a58-b492-e14c3f01e734",
   "metadata": {
    "id": "98d649ab-1432-4a58-b492-e14c3f01e734",
    "tags": []
   },
   "source": [
    "<a id='resultat_rprof_safety_factor'></a>\n",
    "## <font color='red'>**Résultat**</font> - Profil radial du **facteur de sécurité** $q$ [▲](#sommaire)"
   ]
  },
  {
   "cell_type": "code",
   "execution_count": null,
   "id": "f361416e-79af-482b-a88e-20b7d748847e",
   "metadata": {
    "colab": {
     "referenced_widgets": [
      "f8623ee12bee4a669ea4794f0f52f007",
      "be245138870f40cb9d4ed18987d127bc"
     ]
    },
    "collapsed": true,
    "id": "f361416e-79af-482b-a88e-20b7d748847e",
    "jupyter": {
     "outputs_hidden": true,
     "source_hidden": true
    },
    "outputId": "e1de46bd-dde5-4365-dc0a-74644c15adef",
    "tags": []
   },
   "outputs": [],
   "source": [
    "plt.rc('font',size=20)\n",
    "#q_ar = [qprof_05,qprof_1,qprof_15]\n",
    "q_ar = all_sim\n",
    "\n",
    "fig = plt.figure(figsize=(8,8))\n",
    "ax1 = fig.add_subplot(111)\n",
    "#ax1.set_title('Safety factor')\n",
    "for iq,q in enumerate(q_ar):\n",
    "    irhomin, irhomax = np.searchsorted(q['rho'],[0.2,1.0])\n",
    "\n",
    "    irho = (np.abs(q['rho'] - 0.95 )).argmin()\n",
    "    ax1.plot(q['rho'][irhomin:irhomax], q['q'][irhomin:irhomax], label=q['title']+r', $q_{95} = %.1f$' % q['q'][irho],c=q['c'],lw=4,marker=q['marker'],markevery=me)\n",
    "ax1.legend()\n",
    "ax1.set_xlabel(r'$r/a$')\n",
    "ax1.set_ylabel(r'$q$')\n",
    "ax1.axvline(x=1,ls='--',c='k'); ax1.axhline(y=0,ls='--',c='k')\n",
    "ax1.set_xlim(left=q['rho'][irhomin],right=q['rho'][irhomax])\n",
    "\n",
    "ax1.axhline(y=1,c='g',ls='-.',lw=3)\n",
    "ax1.text(x=0.9, y=0.9, s=r'$q=1$', verticalalignment='top',c='g')\n",
    "\n",
    "fig.tight_layout(rect=[0, 0.03, 1, 0.95])\n",
    "\n",
    "fig.set_size_inches(8, 8)\n",
    "fig.savefig('Figures/rprof_q_profiles.pdf', format='pdf', bbox_inches='tight')"
   ]
  },
  {
   "attachments": {},
   "cell_type": "markdown",
   "id": "a57b631b-9267-40be-978f-394fa52ff4db",
   "metadata": {
    "id": "a57b631b-9267-40be-978f-394fa52ff4db",
    "jupyter": {
     "outputs_hidden": true
    },
    "tags": []
   },
   "source": [
    "<a id='resultat_rprof_reynolds_stress'></a>\n",
    "## <font color='red'>**Résultat**</font> - Profil radial du **tenseur de Reynolds $\\Pi_{r \\theta}$** (moyenné en temps **et** coarse-grained) [▲](#sommaire)"
   ]
  },
  {
   "cell_type": "code",
   "execution_count": null,
   "id": "cff9ce31-f10f-4283-83b4-3e65a0c07444",
   "metadata": {
    "colab": {
     "referenced_widgets": [
      "8696f7578d684091b1701b57ccd0c4ec"
     ]
    },
    "collapsed": true,
    "id": "cff9ce31-f10f-4283-83b4-3e65a0c07444",
    "jupyter": {
     "outputs_hidden": true,
     "source_hidden": true
    },
    "outputId": "b60bfa90-5497-4bd7-c60a-112fdeb0a59c",
    "tags": []
   },
   "outputs": [],
   "source": [
    "q_ar = [qprof_05,qprof_1,qprof_15]\n",
    "\n",
    "fig = plt.figure(figsize=(8,8))\n",
    "#fig.suptitle(p)\n",
    "ax1 = fig.add_subplot(111)\n",
    "\n",
    "N=60\n",
    "def u1d(X):return uniform_filter1d(uniform_filter1d(X,size=N),size=N)\n",
    "\n",
    "def g1d(X):\n",
    "    return gaussian_filter1d(X,sigma=N)\n",
    "\n",
    "for iq,q in enumerate(q_ar):\n",
    "    \n",
    "    irhomin, irhomax = np.searchsorted(q['rho'],[0.1,1.0])\n",
    "    itmin, itmax     = np.searchsorted(q['time'],[100.0e3,145.0e3])\n",
    "    \n",
    "    ax1.plot(q['rho'][irhomin:irhomax], np.mean(q['RSpol'][itmin:itmax,irhomin:irhomax],axis=0),ls='--',c=q['c'],lw=2)\n",
    "    ax1.plot(q['rho'][irhomin:irhomax], u1d(np.mean(q['RSpol'][itmin:itmax,irhomin:irhomax],axis=0)),c=q['c'],label=q['title'],lw=4)\n",
    "\n",
    "    ax1.axhline(y=0,ls='--',c='k')\n",
    "\n",
    "ax1.set_ylabel(r'$\\Pi_{r \\theta}$ $[V_{T0}^2]$')\n",
    "\n",
    "ax1.ticklabel_format(axis='y',scilimits=(-1,2),useMathText=True)\n",
    "\n",
    "ax1.legend(loc='lower right')\n",
    "ax1.set_xlabel(r'$r/a$')\n",
    "\n",
    "plt.text(x=0.01, y=0.9, s='Plain: coarse-grained \\ndashed: time average only', transform=ax1.transAxes)\n",
    "\n",
    "fig.tight_layout(rect=[0, 0.03, 1, 0.95])\n",
    "\n",
    "fig.savefig('Figures/rprof_RSpol_scanq.pdf', format='pdf', bbox_inches='tight')"
   ]
  },
  {
   "attachments": {},
   "cell_type": "markdown",
   "id": "9559bffb-1592-4053-96e4-f40d358181dc",
   "metadata": {
    "id": "9559bffb-1592-4053-96e4-f40d358181dc"
   },
   "source": [
    "<a id='resultat_rprof_div_reynolds_stress'></a>\n",
    "## <font color='red'>**Résultat**</font> - Profil radial du **coarse-grained $- \\nabla \\cdot \\Pi_{r_\\theta}$ avec une fenêtre radiale de $\\sim 40 \\rho_i$** [▲](#sommaire)"
   ]
  },
  {
   "cell_type": "code",
   "execution_count": null,
   "id": "8b15afb5-51c7-4a27-afe7-481edfca5ba1",
   "metadata": {
    "colab": {
     "referenced_widgets": [
      "17f0bb0aeb844b8ea54fd6a89239f495"
     ]
    },
    "collapsed": true,
    "id": "8b15afb5-51c7-4a27-afe7-481edfca5ba1",
    "jupyter": {
     "outputs_hidden": true,
     "source_hidden": true
    },
    "outputId": "0ea27479-6a80-401a-d859-75533cd77216",
    "tags": []
   },
   "outputs": [],
   "source": [
    "q_ar = [qprof_05,qprof_1,qprof_15]\n",
    "\n",
    "param_ar = ['drRSpol_vE']\n",
    "\n",
    "N=60\n",
    "Ng=30\n",
    "\n",
    "for ip,p in enumerate(param_ar):\n",
    "    fig = plt.figure(figsize=(8,6))\n",
    "    ax1 = fig.add_subplot(111)\n",
    "    for iq,q in enumerate(q_ar):\n",
    "\n",
    "        irhomin, irhomax = np.searchsorted(q['rho'],[0.0,1.0])\n",
    "        itmin, itmax     = np.searchsorted(q['time'],[100.0e3,145.0e3])\n",
    "        \n",
    "        p_ma = uniform_filter1d(uniform_filter1d(np.mean(q[p][itmin:itmax,irhomin:irhomax],axis=0),size=N),size=N)\n",
    "        p_ga = gaussian_filter1d(np.mean(q[p][itmin:itmax,:],axis=0),sigma=Ng)[irhomin:irhomax]\n",
    "        \n",
    "        ax1.plot(q['rho'][irhomin:irhomax], -p_ma, label=q['title'],lw=3,c=q['c'], ls='-')\n",
    "        ax1.axhline(y=0,c='k',ls='--')\n",
    "        \n",
    "        \n",
    "    ax1.legend()\n",
    "    ax1.set_xlabel(r'$r/a$')\n",
    "    ax1.set_ylabel(r'$-\\langle \\nabla \\cdot \\Pi_{r \\theta} \\rangle_{CG}$')\n",
    "    \n",
    "    fig.tight_layout()\n",
    "    \n",
    "    fig.savefig('Figures/rprof_divPiCG_scanq.pdf', format='pdf', bbox_inches='tight')"
   ]
  },
  {
   "attachments": {},
   "cell_type": "markdown",
   "id": "46ca276d-600c-4062-8516-92170b81db03",
   "metadata": {
    "id": "46ca276d-600c-4062-8516-92170b81db03"
   },
   "source": [
    "<a id='resultat_qscan_div_reynolds_stress'></a>\n",
    "## <font color='red'>**Résultat**</font> - Profil en $q$ du **coarse-grained $- \\nabla \\cdot \\Pi_{r_\\theta}$** [▲](#sommaire)"
   ]
  },
  {
   "cell_type": "code",
   "execution_count": null,
   "id": "7a301250-29d2-425a-9d6e-34bb644897aa",
   "metadata": {
    "colab": {
     "referenced_widgets": [
      "f618bed40f5445299cd7812a07993cf4"
     ]
    },
    "collapsed": true,
    "id": "7a301250-29d2-425a-9d6e-34bb644897aa",
    "jupyter": {
     "outputs_hidden": true,
     "source_hidden": true
    },
    "outputId": "dc4ec40b-c5df-4409-dbcc-115ee1d9f665",
    "tags": []
   },
   "outputs": [],
   "source": [
    "q_ar = [qprof_05,qprof_1,qprof_15]\n",
    "\n",
    "param_ar = ['drRSpol_vE']\n",
    "\n",
    "N=60\n",
    "Ng=30\n",
    "\n",
    "for ip,p in enumerate(param_ar):\n",
    "    fig = plt.figure(figsize=(8,6))\n",
    "    #fig.suptitle(p)\n",
    "    ax1 = fig.add_subplot(111)\n",
    "    for iq,q in enumerate(q_ar):\n",
    "\n",
    "        irhomin, irhomax = np.searchsorted(q['rho'],[0.79,0.81])\n",
    "        itmin, itmax     = np.searchsorted(q['time'],[100.0e3,145.0e3])\n",
    "        \n",
    "        p_ma = uniform_filter1d(uniform_filter1d(np.mean(q[p][itmin:itmax,:],axis=0),size=N),size=N)\n",
    "        p_ga = gaussian_filter1d(np.mean(q[p][itmin:itmax,:],axis=0),sigma=Ng)[irhomin:irhomax]\n",
    "        \n",
    "        ax1.plot(q['q'][irhomin:irhomax], -p_ma[irhomin:irhomax], lw=3,c=q['c'], marker='s',ls='', label=q['title'])\n",
    "        \n",
    "        #ax1.plot(q['q'][irhomin:irhomax], 0.3e-7*(-1+q['q'][irhomin:irhomax])**(1/3), c=q['c'])\n",
    "        \n",
    "        ax1.axhline(y=0,c='k',ls='--')\n",
    "        \n",
    "#     ax1.plot(q['rho'][40:40+Ng],np.ones(Ng)*-0.02,c='k')\n",
    "#     ax1.plot(q['rho'][100:100+N],np.ones(N)*-0.02,c='k')\n",
    "        \n",
    "    \n",
    "    ax1.set_xlabel(r'$q$')\n",
    "    ax1.set_xlim(0,5)\n",
    "    ax1.set_ylabel(r'$-\\langle \\nabla \\cdot \\Pi_{r \\theta} \\rangle_{CG}$ in $%.2f < r/a < %.2f$' %(q['rho'][irhomin], q['rho'][irhomax]) )\n",
    "    \n",
    "    qrange = np.linspace(0,5,100)\n",
    "    ax1.plot(qrange, 0.45e-7*(-1+qrange)**(1/3), c='g', label=r'$C (-1+q)^{1/3}$')\n",
    "    \n",
    "    ax1.legend()\n",
    "    \n",
    "    fig.savefig('Figures/qprof_divPi_08.pdf', format='pdf', bbox_inches='tight')"
   ]
  },
  {
   "attachments": {},
   "cell_type": "markdown",
   "id": "abbc77ad-5663-4af1-a363-3013aa47434b",
   "metadata": {
    "id": "abbc77ad-5663-4af1-a363-3013aa47434b",
    "jupyter": {
     "outputs_hidden": true
    },
    "tags": []
   },
   "source": [
    "<a id='resultat_rprof_flows'></a>\n",
    "## <font color='red'>**Résultat**</font> - Profil radial des **flows ($E_r, V_P, V_T$)** [▲](#sommaire)"
   ]
  },
  {
   "cell_type": "code",
   "execution_count": null,
   "id": "1fa686e3-c293-40df-a39f-2738fac08f42",
   "metadata": {
    "colab": {
     "referenced_widgets": [
      "ff2f7fef614144f28f965eb6cbc8baf9",
      "9cc813b5d64e49879e1f81bb74f4e69a",
      "a6e21529006646aa8a051826b7685b56"
     ]
    },
    "collapsed": true,
    "id": "1fa686e3-c293-40df-a39f-2738fac08f42",
    "jupyter": {
     "outputs_hidden": true,
     "source_hidden": true
    },
    "outputId": "7d644ff7-ce07-412d-dd35-a76a7601e710",
    "tags": []
   },
   "outputs": [],
   "source": [
    "plt.rcParams['axes.formatter.limits'] = (-5,6)\n",
    "plt.rc('font',size=20)\n",
    "q_ar = [qprof_05,qprof_1,qprof_15]\n",
    "#q_ar = [qprof_05_n0,qprof_15_n0]\n",
    "\n",
    "param_ar = ['Er','VT','VP']\n",
    "\n",
    "title_ar = [r'$E_r[V_{T_0} B_0]$',r'$V_P$',r'$V_T$']\n",
    "\n",
    "y_min_ar = [-2.5e-2, -6e-2, 4e-3]\n",
    "y_max_ar = [-1e-2, 0, -3.5e-3]\n",
    "\n",
    "for ip,p in enumerate(param_ar):\n",
    "    fig = plt.figure(figsize=(8,8))\n",
    "    #fig.suptitle(p)\n",
    "    ax1 = fig.add_subplot(111)\n",
    "    for iq,q in enumerate(q_ar):\n",
    "\n",
    "        irhomin, irhomax = np.searchsorted(q['rho'],[0.1,1.0])\n",
    "        itmin, itmax     = np.searchsorted(q['time'],[100.0e3,145.0e3])\n",
    "        \n",
    "        ax1.plot(q['rho'][irhomin:irhomax], np.mean( q[p][itmin:itmax,irhomin:irhomax],axis=0),ls=q['ls'],c=q['c'],lw=4,label=q['title'],marker=q['marker'],markevery=me)\n",
    "        #ax1.plot(q['rho'][irhomin:irhomax], np.mean( q[p][itmin:itmax,irhomin:irhomax],axis=0) /q['q'][irhomin:irhomax],ls='--',c=q['c'],label=q['title'])\n",
    "        \n",
    "        ax1.axhline(y=0,ls='--',c='k')\n",
    "        \n",
    "    ax1.set_ylabel(title_ar[ip])\n",
    "    ax1.ticklabel_format(axis='y',scilimits=(-1,2),useMathText=True)\n",
    "        \n",
    "    ax1.legend()\n",
    "    ax1.set_xlabel(r'$r/a$')\n",
    "    \n",
    "    ax1.axvline(x=1,ls='--',c='k')\n",
    "\n",
    "    ax1.set_xlim(left=q['rho'][irhomin],right=q['rho'][irhomax])\n",
    "\n",
    "    #ax1.text(x=0.7,y=(y_min_ar[ip]+y_max_ar[ip])/2.,s=r\"$\\nearrow I_P$\",fontsize=18,c='g')\n",
    "    \n",
    "    #ax1.annotate(\"\", xy=(0.8, y_min_ar[ip]), xytext=(0.8, y_max_ar[ip]),arrowprops=dict(width=5,facecolor='none',edgecolor='g'),horizontalalignment='center', verticalalignment='center')\n",
    "    \n",
    "    fig.tight_layout(rect=[0, 0.03, 1, 0.95])\n",
    "    \n",
    "    fig.set_size_inches(8, 8)\n",
    "    fig.savefig('Figures/rprof_'+p+'_scanq.pdf', format='pdf', bbox_inches='tight')"
   ]
  },
  {
   "attachments": {},
   "cell_type": "markdown",
   "id": "ece7a5bc-fd9b-4636-8e3c-79db5cf49166",
   "metadata": {
    "id": "ece7a5bc-fd9b-4636-8e3c-79db5cf49166"
   },
   "source": [
    "<a id='resultat_rprof_nutheta_gianakon'></a>\n",
    "## <font color='red'>**Résultat**</font> - Profil radial de la friction néoclassique $\\nu_\\theta$ empirique tiré de *Gianakon PoP 2002, p12, Eq(C16)* [▲](#sommaire)"
   ]
  },
  {
   "cell_type": "code",
   "execution_count": null,
   "id": "6c73be86-0126-47ed-b478-521b8db87d10",
   "metadata": {
    "colab": {
     "referenced_widgets": [
      "bad5c7520abd41c7ad42ea08adf41d6f"
     ]
    },
    "collapsed": true,
    "id": "6c73be86-0126-47ed-b478-521b8db87d10",
    "jupyter": {
     "outputs_hidden": true,
     "source_hidden": true
    },
    "outputId": "6b929854-dec4-404f-d21b-bfb3c7da3f4e",
    "tags": []
   },
   "outputs": [],
   "source": [
    "q_ar = [qprof_05,qprof_1,qprof_15]\n",
    "\n",
    "fig = plt.figure(figsize=(7,7))\n",
    "#fig.suptitle(p)\n",
    "ax1 = fig.add_subplot(111)\n",
    "\n",
    "N=60\n",
    "def u1d(X):return uniform_filter1d(uniform_filter1d(X,size=N),size=N)\n",
    "def g1d(X):return gaussian_filter1d(X,sigma=N)\n",
    "\n",
    "for iq,q in enumerate(q_ar):\n",
    "    irhomin, irhomax = np.searchsorted(q['rho'],[0.1,1.0])\n",
    "    itmin, itmax     = np.searchsorted(q['time'],[100.0e3,145.0e3])\n",
    "\n",
    "    #Calcul de la friction NC poloidale (cf Gianakon 2002)\n",
    "    nutheta = (0.452 * np.sqrt(2*q['eps']) * q['nu_i'])/( (1+1.03*q['nustar']**(1/2) +0.31 * q['nustar']) * (1 + 0.66 * q['nustar'] * q['eps']**(3/2))) * (q['q']/q['eps'])**2\n",
    "\n",
    "    ax1.plot(q['rho'][irhomin:irhomax], np.mean(nutheta[itmin:itmax,irhomin:irhomax],axis=0),ls=q['ls'],c=q['c'],label=q['title'])\n",
    "\n",
    "    ax1.axhline(y=0,ls='--',c='k')\n",
    "\n",
    "ax1.ticklabel_format(axis='y',scilimits=(-1,2),useMathText=True)\n",
    "\n",
    "ax1.legend()\n",
    "ax1.set_xlabel(r'$r/a$')\n",
    "ax1.set_ylabel(r'$\\nu_\\theta$')\n",
    "\n",
    "fig.tight_layout(rect=[0, 0.03, 1, 0.95])\n",
    "\n",
    "#fig.savefig('Figures/rprof_Pionq_scanq.pdf', format='pdf', bbox_inches='tight')"
   ]
  },
  {
   "attachments": {},
   "cell_type": "markdown",
   "id": "f75dff74-6c55-4062-8cbb-d45016ef1af0",
   "metadata": {
    "id": "f75dff74-6c55-4062-8cbb-d45016ef1af0",
    "jupyter": {
     "outputs_hidden": true
    },
    "tags": []
   },
   "source": [
    "<a id='resultat_rprof_turb_int'></a>\n",
    "## <font color='red'>**Résultat**</font> - Profil radial de **l'intensité turbulente $\\mathcal{I}$** [▲](#sommaire)"
   ]
  },
  {
   "cell_type": "code",
   "execution_count": null,
   "id": "6081a227-27fb-4d69-8194-66c6339a4189",
   "metadata": {
    "colab": {
     "referenced_widgets": [
      "9874b419bafb4907b36ce4241ac93226"
     ]
    },
    "collapsed": true,
    "id": "6081a227-27fb-4d69-8194-66c6339a4189",
    "jupyter": {
     "outputs_hidden": true,
     "source_hidden": true
    },
    "outputId": "743c03c8-3df1-436b-8ee4-b0da5eeb3e58",
    "tags": []
   },
   "outputs": [],
   "source": [
    "plt.rcParams['axes.formatter.limits'] = (-5,6)\n",
    "plt.rc('font',size=20)\n",
    "#q_ar = [qprof_05,qprof_1,qprof_15]\n",
    "\n",
    "q_ar = all_sim\n",
    "\n",
    "fig = plt.figure(figsize=(8,8))\n",
    "ax1 = fig.add_subplot(111)\n",
    "\n",
    "for iq,q in enumerate(q_ar):\n",
    "    \n",
    "    irhomin, irhomax = np.searchsorted(q['rho'],[0.2,1.0])\n",
    "    itmin, itmax     = np.searchsorted(q['time'],[100.0e3,145.0e3])\n",
    "\n",
    "    ax1.plot(q['rho'][irhomin:irhomax], np.sqrt(np.mean( (q['Isq'])[itmin:itmax,irhomin:irhomax],axis=0)),ls=q['ls'],c=q['c'],lw=4,label=q['title'],marker=q['marker'],markevery=me)\n",
    "\n",
    "    ax1.axhline(y=0,ls='--',c='k')\n",
    "\n",
    "ax1.set_ylabel(r'$\\mathcal{I}$')\n",
    "\n",
    "ax1.legend(loc='upper left',fontsize=18)\n",
    "ax1.set_xlabel(r'$r/a$')\n",
    "ax1.set_xlim(left=q['rho'][irhomin],right=q['rho'][irhomax])\n",
    "\n",
    "ax1.axvline(x=1,ls='--',c='k')\n",
    "\n",
    "fig.tight_layout(rect=[0, 0.03, 1, 0.95])\n",
    "\n",
    "fig.savefig('Figures/rprof_turb_intens_scanq.pdf', format='pdf', bbox_inches='tight')"
   ]
  },
  {
   "attachments": {},
   "cell_type": "markdown",
   "id": "1e560051-e682-445d-a2ee-76fd4cf45510",
   "metadata": {
    "id": "1e560051-e682-445d-a2ee-76fd4cf45510",
    "jupyter": {
     "outputs_hidden": true
    },
    "tags": []
   },
   "source": [
    "<a id='resultat_rprof_ion_collision_freq'></a>\n",
    "## <font color='red'>**Résultat**</font> - Profil radial de la **fréquence de collision ionique $\\nu_i$** [▲](#sommaire)"
   ]
  },
  {
   "cell_type": "code",
   "execution_count": null,
   "id": "2a8aa36a-714a-44d8-90b4-5d8bc3a43497",
   "metadata": {
    "colab": {
     "referenced_widgets": [
      "5cf29e019b2e4a1395108e5ca4efad11"
     ]
    },
    "collapsed": true,
    "id": "2a8aa36a-714a-44d8-90b4-5d8bc3a43497",
    "jupyter": {
     "outputs_hidden": true,
     "source_hidden": true
    },
    "outputId": "9532f0c1-f64d-4d56-8ad7-c5295f7bf01f",
    "tags": []
   },
   "outputs": [],
   "source": [
    "plt.rcParams['axes.formatter.limits'] = (-5,6)\n",
    "q_ar = [qprof_05,qprof_1,qprof_15]\n",
    "\n",
    "param_ar = ['turb_int_sq_avg']\n",
    "\n",
    "title_ar = [r'$\\mathcal{I}$']\n",
    "\n",
    "fig = plt.figure(figsize=(6,6))\n",
    "#fig.suptitle(p)\n",
    "ax1 = fig.add_subplot(111)\n",
    "\n",
    "for iq,q in enumerate(q_ar):\n",
    "    irhomin, irhomax = np.searchsorted(q['rho'],[0.1,1.0])\n",
    "    itmin, itmax     = np.searchsorted(q['time'],[100.0e3,145.0e3])\n",
    "\n",
    "    ax1.plot(q['rho'][irhomin:irhomax], np.mean( (q['nu_i'])[itmin:itmax,irhomin:irhomax],axis=0),ls=q['ls'],c=q['c'],label=q['title'],lw=4)\n",
    "\n",
    "    ax1.axhline(y=0,ls='--',c='k')\n",
    "\n",
    "ax1.set_ylabel(r'$\\nu_i$ $[\\omega_{c0}]$')\n",
    "#ax1.ticklabel_format(axis='y',scilimits=(-1,2),useMathText=True)\n",
    "\n",
    "ax1.legend()\n",
    "ax1.set_xlabel(r'$r/a$')\n",
    "\n",
    "ax1.axvline(x=1,ls='--',c='k')\n",
    "\n",
    "fig.tight_layout(rect=[0, 0.03, 1, 0.95])\n",
    "\n",
    "fig.savefig('Figures/rprof_nu_i.pdf', format='pdf', bbox_inches='tight')"
   ]
  },
  {
   "attachments": {},
   "cell_type": "markdown",
   "id": "8e547463",
   "metadata": {},
   "source": [
    "<a id='resultat_validation_approx_ptransfert'></a>\n",
    "## <font color='red'>**Résultat**</font> - Validation de la simplification sur la **puissance $\\mathcal{P} = \\langle - \\nabla \\cdot \\Pi_{r\\theta} \\rangle V_E$** [▲](#sommaire)\n",
    "Dans la littérature, il est souvent fait l'approximation $\\int_0^{r_0} \\langle - \\nabla \\cdot \\Pi_{r\\theta} \\rangle V_E \\approx \\int_0^{r_0} -\\langle \\Pi_{r\\theta} \\rangle \\partial_r V_E$.\n",
    "On s'attend à ce que ce soit vrai pour un $r_0$ suffisement grand.\n",
    "Dans nos simulations, il faut $r_0 \\sim 40 \\rho_i$ pour que ça marche."
   ]
  },
  {
   "cell_type": "code",
   "execution_count": null,
   "id": "4a4381c0",
   "metadata": {},
   "outputs": [],
   "source": [
    "q_ar = [qprof_05,qprof_15]\n",
    "\n",
    "for iq,q in enumerate(q_ar):\n",
    "    #q['Ptransfert'] = -q['dRSpoldr'] * (-q['Er'])\n",
    "    q['Ptransfert_approx'] = q['RSpol'] * (-q['dErdr'])\n",
    "    q['Ptransfert_res'] = np.gradient(-q['RSpol'] * (-q['Er']), q['rg'], axis=1) \n",
    "\n",
    "param_ar = ['Ptransfert', 'Ptransfert_approx']\n",
    "label_ar = [r'$\\nabla \\cdot \\Pi_{r\\theta} \\times V_{E\\theta}$', r'$\\Pi_{r\\theta} \\times \\partial_r V_{E\\theta}$']\n",
    "    \n",
    "colors_ar = ['xkcd:blue','xkcd:red','xkcd:purple','xkcd:green']\n",
    "colors_ar2 = ['xkcd:blue green','xkcd:dark orange','xkcd:bright pink','xkcd:apple green']\n",
    "    \n",
    "def update_plot(N,dpi_adjust):\n",
    "    plt.close('all')\n",
    "\n",
    "    fig = plt.figure(figsize=(6*len(q_ar),6), dpi=dpi_adjust)\n",
    "    size_window = N * 250 * 1.3 / len(qprof_05['rg']) \n",
    "    fig.suptitle(r'Approximative window size for avg : %.1f $\\rho_i$' % size_window )\n",
    "    for iq,q in enumerate(q_ar):\n",
    "        \n",
    "        irhomin, irhomax = np.searchsorted(q['rho'],[0.0,1.0])\n",
    "        itmin, itmax     = np.searchsorted(q['time'],[100.0e3,145.0e3])\n",
    "\n",
    "        ax1 = fig.add_subplot(1,len(q_ar),iq+1)\n",
    "        ax1.set_title(q['title'])\n",
    "        for ip,p in enumerate(param_ar):\n",
    "            ## Plot raw\n",
    "            ax1.plot(q['rho'][irhomin:irhomax], np.mean(q[p][itmin:itmax,irhomin:irhomax],axis=0), c=colors_ar[ip], lw=1.5, ls='--')\n",
    "\n",
    "            ## Plot coarse-grained\n",
    "            ax1.plot(q['rho'][irhomin:irhomax], uniform_filter1d(uniform_filter1d(np.mean(q[p][itmin:itmax,irhomin:irhomax],axis=0),size=N),size=N), label=label_ar[ip],c=colors_ar[ip],lw=3, ls='-')\n",
    "\n",
    "        ax1.axhline(y=0,c='k',ls='--')\n",
    "        ax1.legend()\n",
    "        ax1.set_xlabel(r'$r/a$')\n",
    "    fig.tight_layout(rect=[0, 0.03, 1, 0.95])\n",
    "    ax1.plot(q['rho'][10:10+N],np.ones(N)*ax1.get_ylim()[1]/2,c='xkcd:battleship grey',lw=5)\n",
    "\n",
    "interact(update_plot, **custom_widgets)"
   ]
  },
  {
   "attachments": {},
   "cell_type": "markdown",
   "id": "7c5abe08",
   "metadata": {},
   "source": [
    "<a id='en_cours_evo_eq_terms_er'></a>\n",
    "## <font color='purple'>**(Old)**</font> <font color='coral'>**Travail en cours**</font> - Analyse des termes dans l'évolution de $E_r$ [▲](#sommaire)\n",
    "\n",
    "L'équation de conservation de la vorticité généralisée peut se réécrire sous la forme :\n",
    "\n",
    "$ \\huge \\partial_t E_r = \\frac{B_{eq}^2}{n_{eq} m} J_r - \\frac{1}{2} \\frac{1}{n_{eq} e} \\partial_t ( \\nabla_\\perp P_\\perp ) $"
   ]
  },
  {
   "cell_type": "code",
   "execution_count": null,
   "id": "9dbf4be9",
   "metadata": {},
   "outputs": [],
   "source": [
    "plt.close('all')\n",
    "\n",
    "def update_plot(dpi_adjust,float_time,select_sim):\n",
    "    \n",
    "    plt.close('all')\n",
    "\n",
    "    q_ar = [q for q in all_sim if q['title'] in select_sim]\n",
    "    \n",
    "    fig = plt.figure(figsize=(15,4*len(q_ar)))\n",
    "\n",
    "    tscan = float_time\n",
    "\n",
    "    fig.suptitle('Time : %.0f' % (tscan) + r' $[\\omega_{c0}^{-1}]$')\n",
    "\n",
    "    ## Set dpi of figure\n",
    "    if dpi_adjust!=dpi_custom:fig.set_dpi(dpi_adjust)\n",
    "    \n",
    "    for iq,q in enumerate(q_ar):\n",
    "\n",
    "        ax_rprof = fig.add_subplot(len(q_ar),2,2*iq+1)\n",
    "\n",
    "        irhomin, irhomax = np.searchsorted(q['rho'],[0.4,1.0])\n",
    "        \n",
    "        itscan = np.searchsorted(q['time'],tscan)\n",
    "        \n",
    "        dt_vorticity = np.gradient(q['vorticity'],q['time'],axis=0)\n",
    "        div_Jr = np.gradient(q['Jr'],q['rg'],axis=1)\n",
    "\n",
    "        ax_rprof.set_title(q['title'] + ' - Vorticity')\n",
    "        ax_rprof.plot(q['rho'][irhomin:irhomax], dt_vorticity[itscan,irhomin:irhomax],ls=q['ls'],c='b',label=r'$\\partial_t \\langle \\Omega \\rangle$')\n",
    "        ax_rprof.plot(q['rho'][irhomin:irhomax], -div_Jr[itscan,irhomin:irhomax],ls=q['ls'],c='r',label=r'-$\\langle J_r \\rangle$')\n",
    "        #ax_rprof.plot(q['rho'][irhomin:irhomax], (dt_vorticity+q['Jr'])[itscan,irhomin:irhomax],ls=q['ls'],c='r',label=r'Error')\n",
    "        ax_rprof.set_ylim(-4e-6,4e-6)\n",
    "\n",
    "        ax_rprof2 = fig.add_subplot(len(q_ar),2,2*iq+2)\n",
    "        \n",
    "        dt_P = np.gradient(q['P'],q['time'],axis=0)\n",
    "\n",
    "        ax_rprof2.set_title(q['title'] + ' - Integrated vorticity')\n",
    "        ax_rprof2.plot(q['rho'][irhomin:irhomax], dt_P[itscan,irhomin:irhomax],ls=q['ls'],c='b',label=r'$\\partial_t \\langle P \\rangle$')\n",
    "        ax_rprof2.plot(q['rho'][irhomin:irhomax], -q['Jr'][itscan,irhomin:irhomax],ls=q['ls'],c='r',label=r'-$\\langle J_r \\rangle $')\n",
    "        #ax_rprof.plot(q['rho'][irhomin:irhomax], (dt_vorticity+q['Jr'])[itscan,irhomin:irhomax],ls=q['ls'],c='r',label=r'Error')\n",
    "        ax_rprof2.set_ylim(-1e-5,1e-5)\n",
    "\n",
    "        for axes in [ax_rprof,ax_rprof2]:\n",
    "            axes.set_xlabel(r'$r/a$')\n",
    "            axes.axhline(y=0,c='k',ls='--')\n",
    "            axes.axvline(x=1,c='k',ls='--')\n",
    "            if iq==0:axes.legend()\n",
    "\n",
    "    fig.tight_layout(rect=[0, 0.03, 1, 0.95])\n",
    "    \n",
    "    \n",
    "float_time_slider  = widgets.FloatSlider(value=90e3, min=0, max=150e3, step=1000, description='Time range', layout=Layout(width='50%'), style = {'description_width': 'initial'}, continuous_update=False)\n",
    "\n",
    "interact(update_plot, \n",
    "         float_time = float_time_slider,\n",
    "         **custom_widgets\n",
    "        )"
   ]
  },
  {
   "attachments": {},
   "cell_type": "markdown",
   "id": "74918aaa",
   "metadata": {},
   "source": [
    "<a id='en_cours_cons_vorticity'></a>\n",
    "## <font color='purple'>**(Old)**</font> <font color='coral'>**Travail en cours**</font> - Conservation de la vorticité généralisée [▲](#sommaire)\n",
    "\n",
    "/!\\ Problème probable ici: la vorticité a été calculée en utilisant $B(r,\\theta)$ et $n(t,r,\\theta)$ alors qu'il faut plutôt utiliser $B_0$ et $n(t=0,r)$"
   ]
  },
  {
   "cell_type": "code",
   "execution_count": null,
   "metadata": {},
   "outputs": [],
   "source": [
    "plt.close('all')\n",
    "\n",
    "def update_plot(dpi_adjust,float_time,float_range_rho,select_sim,\n",
    "                vorticity_bool,current_bool,density_bool,same_y_range):\n",
    "    \n",
    "    plt.close('all')\n",
    "    clear_output\n",
    "\n",
    "    q_ar = [q for q in all_sim if q['title'] in select_sim]\n",
    "    \n",
    "    fig = plt.figure(figsize=(15,6*len(q_ar)))\n",
    "\n",
    "    tscan = float_time\n",
    "    rhomin,rhomax = float_range_rho\n",
    "\n",
    "    fig.suptitle('Time : %.0f' % (tscan) + r' $[\\omega_{c0}^{-1}]$')\n",
    "\n",
    "    ## Set dpi of figure\n",
    "    if dpi_adjust!=dpi_custom:fig.set_dpi(dpi_adjust)\n",
    "    \n",
    "    for iq,q in enumerate(q_ar):\n",
    "\n",
    "        ax_rprof = fig.add_subplot(len(q_ar),2,2*iq+1)\n",
    "\n",
    "        irhomin, irhomax = np.searchsorted(q['rho'],[rhomin,rhomax])\n",
    "        \n",
    "        itscan = np.searchsorted(q['time'],tscan)\n",
    "        \n",
    "        dt_vorticity = np.gradient(q['vorticity'],q['time'],axis=0)\n",
    "        div_Jr       = np.gradient(q['Jr'],q['rg'],axis=1)\n",
    "\n",
    "        ax_rprof.set_title(q['title'] + ' - Vorticity')\n",
    "        if vorticity_bool:ax_rprof.plot(q['rho'][irhomin:irhomax], dt_vorticity[itscan,irhomin:irhomax],c='b',label=r'$\\partial_t \\langle \\Omega \\rangle$')\n",
    "        if current_bool:ax_rprof.plot(q['rho'][irhomin:irhomax], -div_Jr[itscan,irhomin:irhomax],c='r',ls='--',label=r'-$\\langle \\nabla \\cdot J_r \\rangle$')\n",
    "        if density_bool:ax_rprof.plot(q['rho'][irhomin:irhomax], q['dndt'][itscan,irhomin:irhomax],c='g',label=r'$\\partial_t n$')\n",
    "        #ax_rprof.plot(q['rho'][irhomin:irhomax], (dt_vorticity+q['Jr'])[itscan,irhomin:irhomax],ls=q['ls'],c='r',label=r'Error')\n",
    "        if same_y_range:ax_rprof.set_ylim(-4e-6,4e-6)\n",
    "\n",
    "        ax_rprof2 = fig.add_subplot(len(q_ar),2,2*iq+2)\n",
    "        \n",
    "        dt_P = np.gradient(q['P'],q['time'],axis=0)\n",
    "        int_dndt = np.cumsum(q['dndt'][:,irhomin:irhomax],axis=1)\n",
    "        print(int_dndt.shape)\n",
    "                             \n",
    "        ax_rprof2.set_title(q['title'] + ' - Integrated vorticity')\n",
    "        if vorticity_bool:ax_rprof2.plot(q['rho'][irhomin:irhomax], dt_P[itscan,irhomin:irhomax],c='b',label=r'$\\partial_t \\langle P \\rangle$')\n",
    "        if current_bool:ax_rprof2.plot(q['rho'][irhomin:irhomax], -q['Jr'][itscan,irhomin:irhomax],c='r',label=r'-$\\langle J_r \\rangle $')\n",
    "        if density_bool:ax_rprof2.plot(q['rho'][irhomin:irhomax], int_dndt[itscan,:],c='g',label=r'$\\int_{r_0}^r \\partial_t n$')\n",
    "        #ax_rprof.plot(q['rho'][irhomin:irhomax], (dt_vorticity+q['Jr'])[itscan,irhomin:irhomax],ls=q['ls'],c='r',label=r'Error')\n",
    "        if same_y_range:ax_rprof2.set_ylim(-1e-5,1e-5)\n",
    "\n",
    "        for axes in [ax_rprof,ax_rprof2]:\n",
    "            axes.set_xlabel(r'$r/a$')\n",
    "            axes.axhline(y=0,c='k',ls='--')\n",
    "            axes.axvline(x=1,c='k',ls='--')\n",
    "            if iq==0:axes.legend()\n",
    "\n",
    "    fig.tight_layout(rect=[0, 0.03, 1, 0.95])\n",
    "    \n",
    "float_time_slider  = widgets.FloatSlider(value=90e3, min=0, max=200e3, step=1000, description='Time range', layout=Layout(width='50%'), style = {'description_width': 'initial'}, continuous_update=False)\n",
    "float_range_rho_slider  = widgets.FloatRangeSlider(value=[0.1, 1], min=0, max=1.2, step=0.05, description='Normalized radius range', layout=Layout(width='50%'), style = {'description_width': 'initial'}, continuous_update=False)\n",
    "\n",
    "interact(update_plot, \n",
    "         float_time     = float_time_slider,\n",
    "         float_range_rho  = float_range_rho_slider,\n",
    "         vorticity_bool = widgets.Checkbox(value=True,description='Display vorticity term'),\n",
    "         current_bool   = widgets.Checkbox(value=True,description='Display current term'),\n",
    "         density_bool   = widgets.Checkbox(value=True,description='Display density term'),\n",
    "         same_y_range   = widgets.Checkbox(value=True,description='Same y range'),\n",
    "         **custom_widgets\n",
    "        )"
   ]
  },
  {
   "attachments": {},
   "cell_type": "markdown",
   "id": "7414de3f-09d8-4217-86cd-c0e7cecdde8b",
   "metadata": {
    "id": "7414de3f-09d8-4217-86cd-c0e7cecdde8b",
    "tags": []
   },
   "source": [
    "## <font color='royalblue'>**Temporaire**</font> - Fonction porte \"smooth\" [▲](#sommaire)"
   ]
  },
  {
   "cell_type": "code",
   "execution_count": 7,
   "id": "ee93fa6f-ab1f-4055-bb52-edac18b4f99b",
   "metadata": {
    "colab": {
     "referenced_widgets": [
      "bb5652af9efd4884886571d15e5e072d"
     ]
    },
    "collapsed": true,
    "id": "ee93fa6f-ab1f-4055-bb52-edac18b4f99b",
    "jupyter": {
     "outputs_hidden": true,
     "source_hidden": true
    },
    "outputId": "0681209b-5e28-4558-e859-dd7173a9b020"
   },
   "outputs": [
    {
     "data": {
      "image/png": "[encoded data removed]",
      "text/plain": [
       "<Figure size 640x480 with 1 Axes>"
      ]
     },
     "metadata": {},
     "output_type": "display_data"
    }
   ],
   "source": [
    "import numpy as np\n",
    "import matplotlib.pyplot as plt\n",
    "\n",
    "def smoothed_rectangular(x, left, right, k=10):\n",
    "    \"\"\"\n",
    "    Returns a smoothed rectangular function with smoothed discontinuities.\n",
    "    \n",
    "    Parameters:\n",
    "        x (array-like): The independent variable.\n",
    "        left (float): The left edge of the rectangular function.\n",
    "        right (float): The right edge of the rectangular function.\n",
    "        k (float): Controls the steepness of the sigmoid function. Higher k leads to sharper transition.\n",
    "        \n",
    "    Returns:\n",
    "        y (array-like): The smoothed rectangular function evaluated at x.\n",
    "    \"\"\"\n",
    "    y = 1 / (1 + np.exp(-k * (x - left))) - 1 / (1 + np.exp(-k * (x - right)))\n",
    "    return y\n",
    "\n",
    "# Example usage\n",
    "x = np.linspace(-10, 10, 1000)\n",
    "y = smoothed_rectangular(x, -8, 8, k=5)\n",
    "plt.figure()\n",
    "plt.plot(x, y)\n",
    "plt.show()"
   ]
  },
  {
   "attachments": {},
   "cell_type": "markdown",
   "id": "64ecf905",
   "metadata": {},
   "source": [
    "## <font color='royalblue'>**Temporaire**</font> - Test de classe de simulation [▲](#sommaire)"
   ]
  },
  {
   "cell_type": "code",
   "execution_count": null,
   "id": "5b4a93f8",
   "metadata": {},
   "outputs": [],
   "source": [
    "plt.close('all')\n",
    "\n",
    "## Define a class that init as a dictionnary already existing\n",
    "class dict2class(dict):\n",
    "    def __init__(self, *args, **kwargs):\n",
    "        super(dict2class, self).__init__(*args, **kwargs)\n",
    "        self.__dict__ = self\n",
    "\n",
    "    ## Define a method that calculate the gradient relative to the dictionnary keys 'rg'\n",
    "    def gradr(self, key):\n",
    "        return np.gradient(self[key], self['rg'], axis=1)\n",
    "    \n",
    "    ## Define a method that calculate the gradient relative to the dictionnary keys 'time'\n",
    "    def gradt(self, key):\n",
    "        return np.gradient(self[key], self['time'], axis=0)\n",
    "    \n",
    "    ## Define a method to plot radial profile of a given key\n",
    "    def plot_rprof(self, key, ax=None, **kwargs):\n",
    "        if ax is None:\n",
    "            fig, ax = plt.subplots()\n",
    "        ax.plot(self['rho'], self[key][-1,:], **kwargs)\n",
    "        ax.set_xlabel(r'$r/a$')\n",
    "        ax.set_ylabel(r'$%s$' % key)\n",
    "        return ax\n",
    "    \n",
    "    ## Add a method that activate when a certain key is called\n",
    "    # def __getitem__(self, key):\n",
    "    #     print('test')\n",
    "    #     if key == 'drnustar':\n",
    "    #         return self['nustar'] * 2\n",
    "    #     else:\n",
    "    #         return super().__getitem__(key)\n",
    "        \n",
    "    ## Add a method to calculate the gradient of any key when the key \"dr + key\" is called\n",
    "    def __getitem__(self, key):\n",
    "        if key[:2] == 'dr':\n",
    "            return np.gradient(self[key[2:]], self['rg'], axis=1)\n",
    "        if key[:2] == 'dt':\n",
    "            return np.gradient(self[key[2:]], self['time'], axis=0)\n",
    "        else:\n",
    "            return super().__getitem__(key)\n",
    "    \n",
    "## Testing the class\n",
    "qtest = dict2class(all_sim[0])\n",
    "print(qtest.gradr('Er'))\n",
    "\n",
    "## Plotting the gradient\n",
    "plt.figure()\n",
    "ax1 = plt.subplot(121)\n",
    "ax1.pcolormesh(qtest['rg'], qtest['time'], qtest.gradr('Er'))\n",
    "ax1.set_xlabel(r'$r/a$')\n",
    "ax1.set_ylabel(r'$t$')\n",
    "ax1.set_title(r'$\\partial_r E_r$')\n",
    "\n",
    "ax2 = plt.subplot(122)\n",
    "ax2.pcolormesh(qtest['rg'], qtest['time'], qtest.gradt('Er'))\n",
    "ax2.set_xlabel(r'$r/a$')\n",
    "ax2.set_ylabel(r'$t$')\n",
    "ax2.set_title(r'$\\partial_t E_r$')\n",
    "\n",
    "#qtest.plot_rprof('Er', label='Er')\n",
    "\n",
    "plt.figure()\n",
    "plt.plot(qtest['rho'], qtest['RSpol'][-1,:])\n",
    "plt.plot(qtest['rho'], qtest['drdrRSpol'][-1,:])\n",
    "\n",
    "qtest['newtest'] = 'test_reussi'\n",
    "\n",
    "print(qtest['newtest'])\n"
   ]
  }
 ],
 "metadata": {
  "colab": {
   "provenance": []
  },
  "kernelspec": {
   "display_name": "base",
   "language": "python",
   "name": "python3"
  },
  "language_info": {
   "codemirror_mode": {
    "name": "ipython",
    "version": 3
   },
   "file_extension": ".py",
   "mimetype": "text/x-python",
   "name": "python",
   "nbconvert_exporter": "python",
   "pygments_lexer": "ipython3",
   "version": "3.8.11"
  }
 },
 "nbformat": 4,
 "nbformat_minor": 5
}
