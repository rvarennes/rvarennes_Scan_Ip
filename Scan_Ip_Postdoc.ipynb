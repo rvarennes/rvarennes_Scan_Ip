{
 "cells": [
  {
   "cell_type": "markdown",
   "id": "80fff3db-e465-484b-887a-0bcee6cd4784",
   "metadata": {
    "id": "80fff3db-e465-484b-887a-0bcee6cd4784"
   },
   "source": [
    "___\n",
    "___\n",
    "## <font color='coral'>**Appel de l'environment** </font> "
   ]
  },
  {
   "cell_type": "code",
   "execution_count": 1,
   "id": "887238a0-a1e9-4e0a-b49b-368fb0520038",
   "metadata": {
    "colab": {
     "base_uri": "https://localhost:8080/",
     "height": 467
    },
    "executionInfo": {
     "elapsed": 736,
     "status": "error",
     "timestamp": 1676539950083,
     "user": {
      "displayName": "Robin Varennes",
      "userId": "10829639768318658771"
     },
     "user_tz": -60
    },
    "id": "887238a0-a1e9-4e0a-b49b-368fb0520038",
    "outputId": "0b790d25-e7f8-42a8-c67a-567dbb7c92c8",
    "tags": []
   },
   "outputs": [
    {
     "data": {
      "application/vnd.jupyter.widget-view+json": {
       "model_id": "f424f8e2df924e749b58ccb622f8f19e",
       "version_major": 2,
       "version_minor": 0
      },
      "text/plain": [
       "Checkbox(value=False, description='Consider original simulation', layout=Layout(width='50%'))"
      ]
     },
     "metadata": {},
     "output_type": "display_data"
    },
    {
     "data": {
      "application/vnd.jupyter.widget-view+json": {
       "model_id": "e2d055d70c564f7a9b06ed0cdb714b9a",
       "version_major": 2,
       "version_minor": 0
      },
      "text/plain": [
       "Checkbox(value=False, description='Consider neoclassical simulation', layout=Layout(width='50%'))"
      ]
     },
     "metadata": {},
     "output_type": "display_data"
    },
    {
     "data": {
      "application/vnd.jupyter.widget-view+json": {
       "model_id": "98251c2bd25b4068a09b7e7d62eea032",
       "version_major": 2,
       "version_minor": 0
      },
      "text/plain": [
       "Checkbox(value=False, description='Consider first phase of new simulation', layout=Layout(width='50%'))"
      ]
     },
     "metadata": {},
     "output_type": "display_data"
    },
    {
     "data": {
      "application/vnd.jupyter.widget-view+json": {
       "model_id": "cf7cce9e0b3045f594f179ec4a1bfade",
       "version_major": 2,
       "version_minor": 0
      },
      "text/plain": [
       "Checkbox(value=True, description='Consider second phase of new simulation', layout=Layout(width='50%'))"
      ]
     },
     "metadata": {},
     "output_type": "display_data"
    }
   ],
   "source": [
    "%reset -f\n",
    "import ipywidgets as widgets\n",
    "%matplotlib widget\n",
    "\n",
    "## For GPU optimization\n",
    "# import cupy as np\n",
    "# from cupyx.scipy.ndimage import uniform_filter1d\n",
    "\n",
    "import numpy as np\n",
    "import matplotlib.pyplot as plt\n",
    "import matplotlib.gridspec as gridspec\n",
    "from scipy.ndimage.filters import uniform_filter1d, gaussian_filter1d\n",
    "from IPython.display import clear_output\n",
    "\n",
    "## For sliders\n",
    "from ipywidgets import Layout, interact\n",
    "\n",
    "## Set up rc\n",
    "plt.rcParams['image.cmap'] = 'RdYlBu_r'\n",
    "plt.rcParams['axes.formatter.limits'] = (-3,1)\n",
    "plt.rcParams['lines.linewidth'] = 2.5\n",
    "plt.rcParams.update({\"axes.grid\" : True})\n",
    "plt.rcParams['lines.markersize'] = 8\n",
    "plt.rcParams['lines.markeredgecolor'] = 'k'\n",
    "plt.rcParams['lines.markeredgewidth'] = 2.0\n",
    "plt.rc('font',size=18)\n",
    "me = (0.1,0.1) #Markevery\n",
    "\n",
    "#Size of figures\n",
    "dpi_laptop = 50; dpi_cadarache = 65; dpi_home = 100\n",
    "dpi_custom = dpi_laptop\n",
    "\n",
    "## Set colors\n",
    "import seaborn as sns\n",
    "palette = [\"bright\", \"dark\", \"deep\", \"muted\", \"pastel\", \"colorblind\"]\n",
    "\n",
    "## Checkbox to select which simulations to plot\n",
    "original_sim = widgets.Checkbox(value=False,description='Consider original simulation',layout=Layout(width='50%'))\n",
    "neoclassical_sim = widgets.Checkbox(value=False,description='Consider neoclassical simulation',layout=Layout(width='50%'))\n",
    "firstphase_newsim = widgets.Checkbox(value=False,description='Consider first phase of new simulation',layout=Layout(width='50%'))\n",
    "secondphase_newsim = widgets.Checkbox(value=True,description='Consider second phase of new simulation',layout=Layout(width='50%'))\n",
    "\n",
    "display(original_sim,neoclassical_sim,firstphase_newsim,secondphase_newsim)\n",
    "\n",
    "## \n",
    "wished_values = ['As', 'Zs', \n",
    "                 'Gamma_vD', 'Gamma_vE',\n",
    "                 'Isq','dIdr', 'dIsqdr', # 'I', 'delta_n_avg', \n",
    "                 'n', 'dndr', 'dndt','T', 'dTdr', 'Pperp', #'Ppar',\n",
    "                 'RSpol', 'RSpol_vD', 'RSpol_vE', 'dRSpol_vDdr', 'dRSpol_vEdr', 'dRSpoldr', \n",
    "                 'VP', 'dVPdr', 'VT', 'dVTdr', 'Phi00', 'Er', 'dErdt', 'dErdr', \n",
    "                 'nu_i', 'nustar', \n",
    "                 'rho', 'time', 'q', 'rg']\n",
    "\n",
    "untreated_values = ['vorticity1', 'vorticity2', 'dvorticity1dt', 'dvorticity2dt', 'dvorticitydt', 'P1', 'P2', 'dP1dt', 'dP2dt', 'dPdt',\n",
    "                    'spreading_0deg', 'spreading_180deg', 'spreading_270deg', 'spreading_90deg', 'spreading_FSavg', \n",
    "                    'nIturbGC_FSavg', 'IturbGC_FSavg', 'dPhi01dr', \n",
    "                    'Qpar_vD', 'Qpar_vE', 'Qpar_vEn0', 'Qperp_vD', 'Qperp_vE', 'Qperp_vEn0', 'Qtot', 'Qtot_vD', 'Qtot_vE', 'Qtot_vEn0',\n",
    "                    'Phi01',\n",
    "                    'Ptransfert', 'Ptransfert_approx', 'Ptransfert_vD', 'Ptransfert_vE', \n",
    "                    'vorticity', 'P',\n",
    "                    'RSphi', 'RSphi_vD', 'RSphi_vE', 'RSphi_vEn0', 'dRSphi_vDdr', 'dRSphi_vEdr', 'dRSphidr',\n",
    "                    'RSpol_vEn0',\n",
    "                    'Gamma_vEn0', 'Gamma_vEndiff0', \n",
    "                    'eps']\n"
   ]
  },
  {
   "cell_type": "markdown",
   "id": "ba3ab4ae-00e9-4736-98be-c91174dae5cb",
   "metadata": {
    "id": "ba3ab4ae-00e9-4736-98be-c91174dae5cb"
   },
   "source": [
    "## <font color='coral'>**Chargement des données** </font> "
   ]
  },
  {
   "cell_type": "code",
   "execution_count": 2,
   "id": "2186af80-4b36-4285-85ed-55ff5da9f574",
   "metadata": {
    "id": "2186af80-4b36-4285-85ed-55ff5da9f574",
    "jupyter": {
     "source_hidden": true
    },
    "outputId": "f20c6730-029a-4833-d1d5-489ce50325c4",
    "tags": []
   },
   "outputs": [
    {
     "name": "stdout",
     "output_type": "stream",
     "text": [
      "dict_keys(['As', 'Er', 'Gamma_vD', 'Gamma_vE', 'Isq', 'Phi00', 'Pperp', 'RSpol', 'RSpol_vD', 'RSpol_vE', 'T', 'VP', 'VT', 'Zs', 'dErdr', 'dErdt', 'dIdr', 'dIsqdr', 'dRSpol_vDdr', 'dRSpol_vEdr', 'dRSpoldr', 'dTdr', 'dVPdr', 'dVTdr', 'dndr', 'dndt', 'n', 'nu_i', 'nustar', 'q', 'rg', 'rho', 'time', 'title', 'c', 'ls', 'c2'])\n",
      "Memory usage of all_sim = 193.40602111816406 MB\n"
     ]
    }
   ],
   "source": [
    "import h5py\n",
    "\n",
    "def hdf5_to_dict(filename):\n",
    "    \"\"\"Load a dictionary of arrays and strings as unicode characters from an HDF5 file.\"\"\"\n",
    "    with h5py.File(filename, 'r') as f:\n",
    "        d = {}\n",
    "        for k in f.keys():\n",
    "            if k in wished_values:\n",
    "                v = f[k][()]\n",
    "                if isinstance(v, bytes):\n",
    "                    d[k] = v.decode('utf-8')\n",
    "                else:\n",
    "                    d[k] = np.array(v)\n",
    "    return d\n",
    "\n",
    "all_sim = []\n",
    "# First simulations\n",
    "if original_sim.value:\n",
    "    qprof_05 = hdf5_to_dict('data/TS45511_q05.hdf5'); qprof_05['title'] = r'$q_{ref} \\times 0.5$'; qprof_05['c'] = 'xkcd:electric blue' ; qprof_05['ls']='-'\n",
    "    qprof_1  = hdf5_to_dict('data/TS45511_q1.hdf5') ; qprof_1['title']  = r'$q_{ref}$'           ; qprof_1['c']  = 'xkcd:bluish purple' ; qprof_1['ls']='-'\n",
    "    qprof_15 = hdf5_to_dict('data/TS45511_q15.hdf5'); qprof_15['title'] = r'$q_{ref} \\times 1.5$'; qprof_15['c'] = 'xkcd:watermelon'    ; qprof_15['ls']='-'\n",
    "\n",
    "    qprof_05['c'] = sns.color_palette(palette[2])[0]; qprof_05['c2'] = sns.color_palette(palette[5])[0]\n",
    "    qprof_1['c']  = sns.color_palette(palette[2])[2]; qprof_1['c2']  = sns.color_palette(palette[5])[2]\n",
    "    qprof_15['c'] = sns.color_palette(palette[2])[3]; qprof_15['c2'] = sns.color_palette(palette[5])[3]\n",
    "\n",
    "    all_sim.extend([qprof_05,qprof_1,qprof_15])\n",
    "# Simulations without turbulence, only toroidal n=0 mode kept\n",
    "if neoclassical_sim.value:\n",
    "    qprof_05_n0 = hdf5_to_dict('data/TS45511_q05_n0.hdf5'); qprof_05_n0['title']=r'$q_{ref} \\times 0.5$ - $n=0$'; qprof_05_n0['c']='xkcd:cobalt blue'; qprof_05_n0['ls']='-'\n",
    "    qprof_15_n0 = hdf5_to_dict('data/TS45511_q15_n0.hdf5'); qprof_15_n0['title']=r'$q_{ref} \\times 1.5$ - $n=0$'; qprof_15_n0['c']='xkcd:dark red'; qprof_15_n0['ls']='-'\n",
    "\n",
    "    qprof_05_n0['c']  = sns.color_palette(palette[1])[0]; qprof_05_n0['c2']  = sns.color_palette(palette[4])[0]\n",
    "    qprof_15_n0['c']  = sns.color_palette(palette[1])[3]; qprof_15_n0['c2']  = sns.color_palette(palette[4])[3]\n",
    "\n",
    "    all_sim.extend([qprof_05_n0,qprof_15_n0])\n",
    "# Redo of first simulations with better time resolution - 1st phase\n",
    "if firstphase_newsim.value:\n",
    "    qprof_05_br  = hdf5_to_dict('data/TS45511_q05_br.hdf5') ; qprof_05_br['title'] =r'$q_{ref}^{BR} \\times 0.5$' ; qprof_05_br['c']='xkcd:blue' ; qprof_05_br['ls']='-'\n",
    "    qprof_075_br = hdf5_to_dict('data/TS45511_q075_br.hdf5'); qprof_075_br['title']=r'$q_{ref}^{BR} \\times 0.75$'; qprof_075_br['c']='xkcd:pink'; qprof_075_br['ls']='-'\n",
    "    qprof_15_br  = hdf5_to_dict('data/TS45511_q15_br.hdf5') ; qprof_15_br['title'] =r'$q_{ref}^{BR} \\times 1.5$' ; qprof_15_br['c']='xkcd:red'  ; qprof_15_br['ls']='-'\n",
    "\n",
    "    qprof_05_br['c']  = sns.color_palette(palette[0])[0]; qprof_05_br['c2']  = sns.color_palette(palette[3])[0]\n",
    "    qprof_075_br['c'] = sns.color_palette(palette[0])[1]; qprof_075_br['c2'] = sns.color_palette(palette[3])[1]\n",
    "    qprof_15_br['c']  = sns.color_palette(palette[0])[3]; qprof_15_br['c2']  = sns.color_palette(palette[3])[3]\n",
    "\n",
    "    all_sim.extend([qprof_05_br,qprof_075_br,qprof_15_br])\n",
    "# Redo of first simulations with better time resolution - 2nd phase\n",
    "if secondphase_newsim.value:\n",
    "    qprof_05_br_2ndphase  = hdf5_to_dict('data/TS45511_q05_br_secondphase.hdf5') ; qprof_05_br_2ndphase['title'] =r'$q_{ref}^{BR,2nd} \\times 0.5$' ; qprof_05_br_2ndphase['c']='xkcd:blue' ; qprof_05_br_2ndphase['ls']='-'\n",
    "    qprof_075_br_2ndphase = hdf5_to_dict('data/TS45511_q075_br_secondphase.hdf5'); qprof_075_br_2ndphase['title']=r'$q_{ref}^{BR,2nd} \\times 0.75$'; qprof_075_br_2ndphase['c']='xkcd:pink'; qprof_075_br_2ndphase['ls']='-'\n",
    "    qprof_15_br_2ndphase  = hdf5_to_dict('data/TS45511_q15_br_secondphase.hdf5') ; qprof_15_br_2ndphase['title'] =r'$q_{ref}^{BR,2nd} \\times 1.5$' ; qprof_15_br_2ndphase['c']='xkcd:red'  ; qprof_15_br_2ndphase['ls']='-'\n",
    "\n",
    "    qprof_05_br_2ndphase['c']  = sns.color_palette(palette[0])[0]; qprof_05_br_2ndphase['c2']  = sns.color_palette(palette[3])[0]\n",
    "    qprof_075_br_2ndphase['c'] = sns.color_palette(palette[0])[1]; qprof_075_br_2ndphase['c2'] = sns.color_palette(palette[3])[1]\n",
    "    qprof_15_br_2ndphase['c']  = sns.color_palette(palette[0])[3]; qprof_15_br_2ndphase['c2']  = sns.color_palette(palette[3])[3]\n",
    "\n",
    "    qprof_05_br_2ndphase['RSdia']  = np.load('data/q05_RSdia_FSavg.npy')[:-1,:]\n",
    "    qprof_075_br_2ndphase['RSdia'] = np.load('data/q075_RSdia_FSavg.npy')[:-1,:]\n",
    "    qprof_15_br_2ndphase['RSdia']  = np.load('data/q15_RSdia_FSavg.npy')[:-1,:]\n",
    "\n",
    "    qprof_05_br_2ndphase['RSpol_vE_from3D']  = np.load('data/q05_RSelec_FSavg.npy')[:-1,:]\n",
    "    qprof_075_br_2ndphase['RSpol_vE_from3D'] = np.load('data/q075_RSelec_FSavg.npy')[:-1,:]\n",
    "    qprof_15_br_2ndphase['RSpol_vE_from3D']  = np.load('data/q15_RSelec_FSavg.npy')[:-1,:]\n",
    "\n",
    "    qprof_05_br_2ndphase['RSpol_tot_from3D'] = qprof_05_br_2ndphase['RSdia'] + qprof_05_br_2ndphase['RSpol_vE_from3D']\n",
    "    qprof_075_br_2ndphase['RSpol_tot_from3D'] = qprof_075_br_2ndphase['RSdia'] + qprof_075_br_2ndphase['RSpol_vE_from3D']\n",
    "    qprof_15_br_2ndphase['RSpol_tot_from3D'] = qprof_15_br_2ndphase['RSdia'] + qprof_15_br_2ndphase['RSpol_vE_from3D']\n",
    "    \n",
    "    qprof_05_br_2ndphase['dRSpol_tot_from3Ddr'] = np.gradient(qprof_05_br_2ndphase['RSpol_tot_from3D'],qprof_05_br_2ndphase['rg'],axis=1)\n",
    "    qprof_075_br_2ndphase['dRSpol_tot_from3Ddr'] = np.gradient(qprof_075_br_2ndphase['RSpol_tot_from3D'],qprof_075_br_2ndphase['rg'],axis=1)\n",
    "    qprof_15_br_2ndphase['dRSpol_tot_from3Ddr'] = np.gradient(qprof_15_br_2ndphase['RSpol_tot_from3D'],qprof_15_br_2ndphase['rg'],axis=1)\n",
    "\n",
    "    print(qprof_075_br_2ndphase['dRSpol_tot_from3Ddr'].shape)\n",
    "    print(qprof_075_br_2ndphase['Er'].shape)\n",
    "    print(qprof_075_br_2ndphase['time'].shape)\n",
    "\n",
    "    all_sim.extend([qprof_05_br_2ndphase,qprof_075_br_2ndphase,qprof_15_br_2ndphase])\n",
    "\n",
    "print(all_sim[0].keys())\n",
    "\n",
    "## Add markers entry to each dictionnary\n",
    "marker_ar = ['o', 's', 'v', 'D', 'P', 'X', 'd', 'p', 'x']\n",
    "for iq,q in enumerate(all_sim):\n",
    "    q['marker'] = marker_ar[iq]\n",
    "    \n",
    "## Check length of arrays and correct if necessary\n",
    "if 0: ## To be removed is the problem doesn't persist\n",
    "    for iq,q in enumerate(all_sim):\n",
    "        #print('Time array length = %s' % len(q['time']) )\n",
    "        for p in q.keys():\n",
    "            if type(q[p]) is np.ndarray:\n",
    "                if q[p].ndim == 2:\n",
    "                    if len(q[p][:,0]) == len(q['time']):\n",
    "                        q[p] = q[p][:-1,:]\n",
    "        q['time'] = q['time'][:-1]\n",
    "    \n",
    "## Defining custom values\n",
    "for iq,q in enumerate(all_sim):\n",
    "    q['Ptransfert_w_prefactor']  = -q['dRSpoldr'] * (-q['Er']) / (1 + 2 * q['q']**2)\n",
    "    #q['Ptransfert_withdia']      = -q['dRSpol_tot_from3Ddr'] * (-q['Er'])\n",
    "    q['Jr']                = (q['Gamma_vE']+q['Gamma_vD'])\n",
    "    q['Jr_vD']             = q['Gamma_vD']\n",
    "    q['Jr_vE']             = q['Gamma_vE']\n",
    "    q['divJr']              = np.gradient(q['Jr'],q['rg'],axis=1)\n",
    "    #q['neo_energy_evol']   = -q['Ptransfert'] + 0.5*np.gradient(-q['Er']**2,q['time'],axis=0)\n",
    "    #q['neo_energy_evol_w_prefactor'] = -q['Ptransfert_w_prefactor'] + 0.5*np.gradient(-q['Er']**2,q['time'],axis=0)\n",
    "    #q['tevol_VEsq']        = 0.5*np.gradient(-q['Er']**2,q['time'],axis=0)\n",
    "    q['divPperp']          = np.gradient(q['Pperp'],q['rg'],axis=1)\n",
    "    #q['dtdErdrdt']         = np.gradient(np.gradient(q['Er'],q['rg'],axis=1),q['time'],axis=0)\n",
    "    #q['Jr_diff']           = q['Jr_vE'] - q['Jr_vD']\n",
    "    #q['evol_vorticity_int']= np.gradient( \n",
    "    #    - (q['n'][0,:]* np.gradient(q['Phi00'],q['rg'],axis=1) + 0.5 * q['divPperp'])\n",
    "    #    ,q['time'],axis=0)\n",
    "\n",
    "## Estimation of the memory usage of the dictionnaries in all_sim\n",
    "mem_usage = 0\n",
    "for q in all_sim:\n",
    "    for p in q.keys():\n",
    "        if type(q[p]) is np.ndarray:\n",
    "            mem_usage += q[p].nbytes\n",
    "print('Memory usage of all_sim = %s MB' % (mem_usage/1024/1024))\n",
    "\n",
    "## Definintion of custom widgets used in interactive plots\n",
    "custom_widgets = {'dpi_adjust' : widgets.IntSlider(min=30, max=200, step=1,value=dpi_custom, continuous_update=False),\n",
    "                  'N'          : widgets.IntSlider(min=1, max=100, step=1,value=1, continuous_update=False), \n",
    "                  'select_sim' : widgets.SelectMultiple(options=[q['title'] for q in all_sim], value=[q['title'] for q in [all_sim[0], all_sim[-1]]], description='Simulations'), \n",
    "                  'param'      : widgets.Text(value='Er',placeholder='Type something',description='Select parameter:', continuous_update=False),\n",
    "                  'param2'     : widgets.Text(value='',placeholder='Type something',description='Select parameter:', continuous_update=False)}\n"
   ]
  },
  {
   "cell_type": "markdown",
   "id": "18192225-03ec-4e2f-8770-fbd26f6b7a8f",
   "metadata": {
    "id": "18192225-03ec-4e2f-8770-fbd26f6b7a8f"
   },
   "source": [
    "___\n",
    "___"
   ]
  },
  {
   "attachments": {},
   "cell_type": "markdown",
   "id": "3da9c9ac",
   "metadata": {},
   "source": [
    "<a id='sommaire'></a>\n",
    "Le notebook est organisé de la façon suivante :\n",
    "1) <font color='xkcd:sage'>**Cellules d'exploration de données**</font>\n",
    "    - [Profil radial](#exploration_radial_profile)\n",
    "    - [Video de profil radial](#exploration_video_radial_profile)\n",
    "    - [Etude dans l'espace réel](#exploration_real_study)\n",
    "    - [Etude dans l'espace fréquentiel (en DFT)](#exploration_frequency_study)\n",
    "    - [Etude dans l'espace fréquentiel (en densité spectrale)](#exploration_spectral_density_study)\n",
    "    - [Cross-corrélation en temps](#exploration_cross_correlation)\n",
    "    - [Cycle limite](#exploration_cycle_limite)\n",
    "2) <font color='coral'>**Cellules de travail en cours**</font>\n",
    "    - [Evolution des termes dans l'équation d'évolution de $E_r$](#en_cours_evo_eq_terms_er)\n",
    "    - [Profil radial des termes dans l'équation d'évolution de l'énergie](#en_cours_rprof_energy_evo_terms)\n",
    "    - [Conservation de la vorticité généralisée](#en_cours_cons_vorticity)\n",
    "    - [Conservation de la vorticité généralisée - Corrigé](#en_cours_cons_vorticity_corrected)\n",
    "    - [Estimation de l'impact de l'approximation de Pade](#en_cours_assessment_pade_approx)\n",
    "    - [Erreur absolue entre $- \\partial_t \\left( \\frac{m n_0}{B_0} \\langle \\phi \\rangle_{FS} +  \\frac{m}{2 e B_0^2} \\langle P_\\perp \\rangle_{FS} \\right) $ et $\\partial_r J_r$](#en_cours_absolute_error_current)\n",
    "    - [Conservation de la vorticité (avec tenseur diamagnétique)](#en_cours_cons_vorticity_withdia)\n",
    "    - [Estimation de $\\nu_\\theta$](#en_cours_estimation_nutheta)\n",
    "    - [Profils amplitude GAMs et ZFs](#en_cours_profile_amplitude_GAMs_ZFs)\n",
    "2) <font color='red'>**Cellules de résultats**</font>\n",
    "    - [Profil radial du safety factor](#resultat_rprof_safety_factor)\n",
    "    - [Profil radial du tenseur de Reynolds poloidal](#resultat_rprof_reynolds_stress)\n",
    "    - [Profil radial de la divergence du tenseur de Reynolds poloidal](#resultat_rprof_div_reynolds_stress)\n",
    "    - [Profil en $q$ de la divergence du tenseur de Reynolds poloidal](#resultat_qscan_div_reynolds_stress)\n",
    "    - [Profil radial des flows ($E_r, V_P, V_T$)](#resultat_rprof_flows)\n",
    "    - [Profil radial de la friction néoclassique empirique (Gianakon)](#resultat_rprof_nutheta_gianakon)\n",
    "    - [Profil radial de l'intensité turbulente](#resultat_rprof_turb_int)\n",
    "    - [Profil radial de la fréquence de collision ionique](#resultat_rprof_ion_collision_freq)\n",
    "    - [Validation de l'approximation $\\int_0^{r_0} \\langle - \\nabla \\cdot \\Pi_{r\\theta} \\rangle V_E \\approx \\int_0^{r_0} -\\langle \\Pi_{r\\theta} \\rangle \\partial_r V_E$](#resultat_validation_approx_ptransfert)"
   ]
  },
  {
   "attachments": {},
   "cell_type": "markdown",
   "id": "29ca0e64",
   "metadata": {},
   "source": [
    "<a id='exploration_radial_profile'></a>\n",
    "## <font color='xkcd:sage'>**Exploration**</font> - Profil radial [▲](#sommaire)"
   ]
  },
  {
   "cell_type": "code",
   "execution_count": 17,
   "id": "280898b8",
   "metadata": {},
   "outputs": [
    {
     "data": {
      "application/vnd.jupyter.widget-view+json": {
       "model_id": "1cd3da74cffc4d10a7ef7461fd844fa0",
       "version_major": 2,
       "version_minor": 0
      },
      "text/plain": [
       "Canvas(toolbar=Toolbar(toolitems=[('Home', 'Reset original view', 'home', 'home'), ('Back', 'Back to previous …"
      ]
     },
     "metadata": {},
     "output_type": "display_data"
    },
    {
     "data": {
      "application/vnd.jupyter.widget-view+json": {
       "model_id": "82a9ba903d5e479ab89f4a912b4ff9a7",
       "version_major": 2,
       "version_minor": 0
      },
      "text/plain": [
       "interactive(children=(IntSlider(value=1, continuous_update=False, description='N', min=1), Text(value='Jr_vE',…"
      ]
     },
     "metadata": {},
     "output_type": "display_data"
    },
    {
     "data": {
      "text/plain": [
       "<function __main__.update_plot(N, param, param2, float_range_time, select_sim, dpi_adjust)>"
      ]
     },
     "execution_count": 17,
     "metadata": {},
     "output_type": "execute_result"
    }
   ],
   "source": [
    "plt.close('all')\n",
    "clear_output\n",
    "\n",
    "fig = plt.figure(figsize=(12,6))\n",
    "ax_rprof = fig.add_subplot(111); ax_rprof2 = ax_rprof.twinx()\n",
    "\n",
    "def update_plot(N,param,param2,float_range_time,\n",
    "                select_sim,dpi_adjust):\n",
    "\n",
    "    q_ar = [q for q in all_sim if q['title'] in select_sim]\n",
    "    tmin_avg,tmax_avg = float_range_time\n",
    "    \n",
    "    color1 = 'xkcd:cerulean'\n",
    "    color2 = 'xkcd:reddish orange'\n",
    "\n",
    "    ## Set dpi of figure\n",
    "    fig.set_dpi(dpi_adjust)\n",
    "\n",
    "    ## Clear previous plot\n",
    "    ax_rprof.clear(); ax_rprof2.clear()\n",
    "    ax_rprof2.grid(False)\n",
    "\n",
    "    ## Set axes customizations\n",
    "    ax_rprof.set_title(r'Radial profile (avg %.0f < t$[\\omega_{c0}^{-1}]$ < %.0f)' % (tmin_avg , tmax_avg) )\n",
    "    fig.suptitle(r'Study of %s' %param)\n",
    "    \n",
    "    for q in q_ar:\n",
    "\n",
    "        itmin_avg, itmax_avg = np.searchsorted(q['time'],[tmin_avg,tmax_avg])\n",
    "        irhomin, irhomax     = np.searchsorted(q['rho'],[0.3,1.1])\n",
    "\n",
    "        p_ma = uniform_filter1d(uniform_filter1d(q[param],size=N,axis=1),size=N,axis=1)\n",
    "\n",
    "        ax_rprof.plot(q['rho'][irhomin:irhomax], np.mean( p_ma[itmin_avg:itmax_avg,irhomin:irhomax],axis=0),ls=q['ls'],c=q['c'],label=q['title'])\n",
    "        \n",
    "        if param2:\n",
    "            p_ma2 = uniform_filter1d(uniform_filter1d(q[param2],size=N,axis=1),size=N,axis=1)\n",
    "            ax_rprof2.plot(q['rho'][irhomin:irhomax], np.mean( p_ma2[itmin_avg:itmax_avg,irhomin:irhomax],axis=0),ls=q['ls'],c=q['c2'],label=q['title'])\n",
    "        \n",
    "    ## Axes customizations\n",
    "    ax_rprof.set_xlabel(r'$r/a$')\n",
    "    ax_rprof.axhline(y=0,c='k',ls='--')\n",
    "    ax_rprof.axvline(x=1,c='k',ls='--')\n",
    "    ax_rprof.legend()\n",
    "    #ax_rprof.set_ylim([min(ax_rprof.get_ylim()[0],ax_rprof2.get_ylim()[0]),max(ax_rprof.get_ylim()[1],ax_rprof2.get_ylim()[1])])\n",
    "    if param2:\n",
    "        ax_rprof2.yaxis.label.set_color(color2)\n",
    "        ax_rprof2.tick_params(axis='y', colors=color2)\n",
    "        ## Set sale y limit for both axes\n",
    "        #ax_rprof2.set_ylim([min(ax_rprof.get_ylim()[0],ax_rprof2.get_ylim()[0]),max(ax_rprof.get_ylim()[1],ax_rprof2.get_ylim()[1])])\n",
    "    #ax_rprof.plot(q['rho'][10:10+N],np.ones(N)*ax_rprof.get_ylim()[1]/4,c='xkcd:battleship grey',lw=5) #Visualize the sliding average window\n",
    "\n",
    "    fig.tight_layout(rect=[0, 0.03, 1, 0.95])\n",
    "    \n",
    "float_range_time_slider = widgets.FloatRangeSlider(value=[100e3, 145e3], min=0, max=250e3, step=1000, description='Time range', layout=Layout(width='50%'), continuous_update=False)\n",
    "\n",
    "interact(update_plot, \n",
    "         float_range_time = float_range_time_slider,\n",
    "         **custom_widgets\n",
    "        )"
   ]
  },
  {
   "attachments": {},
   "cell_type": "markdown",
   "id": "864bc9d2",
   "metadata": {},
   "source": [
    "<a id='exploration_video_radial_profile'></a>\n",
    "## <font color='xkcd:sage'>**Exploration**</font> - Video of radial profiles [▲](#sommaire)"
   ]
  },
  {
   "cell_type": "code",
   "execution_count": 16,
   "id": "8fdc5558",
   "metadata": {},
   "outputs": [
    {
     "data": {
      "application/vnd.jupyter.widget-view+json": {
       "model_id": "8157cd375cdf43a1a4bea6c3cf4c8418",
       "version_major": 2,
       "version_minor": 0
      },
      "text/plain": [
       "Canvas(toolbar=Toolbar(toolitems=[('Home', 'Reset original view', 'home', 'home'), ('Back', 'Back to previous …"
      ]
     },
     "metadata": {},
     "output_type": "display_data"
    },
    {
     "data": {
      "application/vnd.jupyter.widget-view+json": {
       "model_id": "d5fe4eccb5b044a6adeba7b5f5a9e007",
       "version_major": 2,
       "version_minor": 0
      },
      "text/plain": [
       "interactive(children=(IntSlider(value=1, continuous_update=False, description='N', min=1), IntSlider(value=50,…"
      ]
     },
     "metadata": {},
     "output_type": "display_data"
    },
    {
     "data": {
      "text/plain": [
       "<function __main__.update_plot(N, dpi_adjust, param, select_sim, float_range_rho, it_play, time_slider, bool_fixed_y_range, coef_ylim)>"
      ]
     },
     "execution_count": 16,
     "metadata": {},
     "output_type": "execute_result"
    }
   ],
   "source": [
    "plt.close('all')\n",
    "clear_output\n",
    "\n",
    "fig = plt.figure(figsize=(12,6))\n",
    "ax_rprof = fig.add_subplot(111) \n",
    "\n",
    "def update_plot(N,dpi_adjust,param,\n",
    "               select_sim,float_range_rho,\n",
    "               it_play, time_slider, bool_fixed_y_range,coef_ylim):\n",
    "\n",
    "    #clear_output\n",
    "\n",
    "    rhomin_avg,rhomax_avg = float_range_rho\n",
    "\n",
    "    ## Select profiles to plot\n",
    "    q_ar = [q for q in all_sim if q['title'] in select_sim]\n",
    "\n",
    "    ## Set title of figure\n",
    "    fig.suptitle(r'Study of %s' %param)\n",
    "\n",
    "    ## Set dpi of figure\n",
    "    if dpi_adjust!=dpi_custom: fig.set_dpi(dpi_adjust)\n",
    "\n",
    "    ## Clear previous plot\n",
    "    ax_rprof.clear()\n",
    "\n",
    "    for q in q_ar:\n",
    "\n",
    "        ## Find index of rho=0.1 and rho=1.1\n",
    "        irhomin, irhomax = np.searchsorted(q['rho'],[rhomin_avg,rhomax_avg])\n",
    "\n",
    "        ## Compute sliding average\n",
    "        p_ma = uniform_filter1d(uniform_filter1d(q[param],size=N,axis=1),size=N,axis=1)\n",
    "\n",
    "        ## Plot radial profile\n",
    "        ax_rprof.set_title(r'Radial profile (at t= %.0f $[\\omega_{c0}^{-1}]$)' % (q['time'][it_play]) )\n",
    "        ax_rprof.plot(q['rho'][irhomin:irhomax], p_ma[it_play,irhomin:irhomax],ls=q['ls'],c=q['c'],label=q['title'])\n",
    "        ax_rprof.plot(q['rho'][10:10+N],np.ones(N)*ax_rprof.get_ylim()[1]/4,c='xkcd:battleship grey',lw=5) #Visualize the sliding average window\n",
    "\n",
    "    ## Plot reference lines\n",
    "    ax_rprof.axhline(y=0,c='k',ls='--'); ax_rprof.axvline(x=1,c='k',ls='--')\n",
    "\n",
    "    ## Set labels and legend\n",
    "    ax_rprof.set_xlabel(r'$r/a$')\n",
    "    ax_rprof.legend()\n",
    "\n",
    "    ax_rprof.set_xlim([rhomin_avg,rhomax_avg])\n",
    "    ax_rprof.set_ylim(-5e-6,5e-6)\n",
    "\n",
    "    ## Fix y range if bool_fixed_y_range is True\n",
    "    if bool_fixed_y_range:\n",
    "        ax_rprof.set_ylim(bottom = coef_ylim*np.amin(p_ma), top = coef_ylim*np.amax(p_ma))\n",
    "\n",
    "    fig.tight_layout(rect=[0, 0.03, 1, 0.95])\n",
    "\n",
    "    \n",
    "slider=widgets.IntSlider(value=0,min=0,max=len(all_sim[0]['time']),step=1,description=\"Time index\",layout=Layout(width='50%'))\n",
    "play  = widgets.Play(value=30,min=0,max=len(all_sim[0]['time']),step=1,interval=400,description=\"Press play\")\n",
    "\n",
    "coef_ylim_widget = widgets.FloatSlider(value=1,min=0.1,max=1,step=0.05,description=\"Coef ylim\",layout=Layout(width='20%'))\n",
    "float_range_rho_slider  = widgets.FloatRangeSlider(value=[0.1, 1.1], min=0, max=1.2, step=0.05, description='Normalized radius range', layout=Layout(width='50%'), style = {'description_width': 'initial'}, continuous_update=False)\n",
    "\n",
    "widgets.jslink((play, 'value'), (slider, 'value'))\n",
    "\n",
    "interact(update_plot, \n",
    "        bool_fixed_y_range = widgets.Checkbox(value=False,description='Fix y range'),\n",
    "        time_slider = slider,\n",
    "        it_play = play,\n",
    "        coef_ylim = coef_ylim_widget,\n",
    "        float_range_rho = float_range_rho_slider,\n",
    "        **custom_widgets\n",
    "        )"
   ]
  },
  {
   "attachments": {},
   "cell_type": "markdown",
   "id": "cb8c715f-1102-429d-a93b-9674a02f8d3c",
   "metadata": {
    "id": "cb8c715f-1102-429d-a93b-9674a02f8d3c"
   },
   "source": [
    "<a id='exploration_real_study'></a>\n",
    "## <font color='xkcd:sage'>**Exploration**</font> - Etude complète d'une quantité donnée dans l'espace réel [▲](#sommaire)"
   ]
  },
  {
   "cell_type": "code",
   "execution_count": 2,
   "id": "42778907-184d-4526-9dd4-7da03b4a4a6a",
   "metadata": {
    "colab": {
     "referenced_widgets": [
      "c1aaf8a5993a4245a6e5542d8be96071"
     ]
    },
    "collapsed": true,
    "id": "42778907-184d-4526-9dd4-7da03b4a4a6a",
    "jupyter": {
     "outputs_hidden": true,
     "source_hidden": true
    },
    "outputId": "f810bb76-ec45-4f95-a7b0-50637dcb8e31",
    "tags": []
   },
   "outputs": [
    {
     "data": {
      "application/vnd.jupyter.widget-view+json": {
       "model_id": "dfa45f0d0f8c40c28240978e4b3f5519",
       "version_major": 2,
       "version_minor": 0
      },
      "text/plain": [
       "interactive(children=(IntSlider(value=1, continuous_update=False, description='N', min=1), Text(value='Er', co…"
      ]
     },
     "metadata": {},
     "output_type": "display_data"
    },
    {
     "data": {
      "text/plain": [
       "<function __main__.update_plot(N, param, float_range_time, float_range_rho, colormap_range, dpi_adjust, symetrical_cmap, select_sim)>"
      ]
     },
     "execution_count": 2,
     "metadata": {},
     "output_type": "execute_result"
    }
   ],
   "source": [
    "plt.close('all')\n",
    "\n",
    "def update_plot(N,param,float_range_time,float_range_rho,\n",
    "               colormap_range,dpi_adjust, symetrical_cmap, select_sim):\n",
    "    \n",
    "    q_ar = [q for q in all_sim if q['title'] in select_sim]\n",
    "    \n",
    "    tmin_avg,tmax_avg = float_range_time\n",
    "    rhomin_avg,rhomax_avg = float_range_rho\n",
    "\n",
    "    fig = plt.figure(figsize=(16,10))\n",
    "\n",
    "    ## Set dpi of figure\n",
    "    fig.set_dpi(dpi_adjust)\n",
    "\n",
    "    ## Clear previous plot\n",
    "    for axes in fig.axes: axes.clear()\n",
    "    \n",
    "    fig.suptitle(r'Study of %s' %param)\n",
    "\n",
    "    Pmap = uniform_filter1d(uniform_filter1d(all_sim[0][param],size=N,axis=1),size=N,axis=1)\n",
    "    if symetrical_cmap:\n",
    "        vmin = colormap_range*min( abs( np.min(Pmap) ), abs( np.max(Pmap) ) ) \n",
    "        vmax = -vmin\n",
    "    else:\n",
    "        vmin = colormap_range*np.min(Pmap) \n",
    "        vmax = colormap_range*np.max(Pmap) \n",
    "\n",
    "    gs = gridspec.GridSpec(3, 2*len(q_ar))\n",
    "    \n",
    "    for iq,q in enumerate(q_ar):\n",
    "\n",
    "        itmin, itmax      = np.searchsorted(q['time'],[0e3,250e3])\n",
    "        irhomin, irhomax  = np.searchsorted(q['rho'],[0.0,1.1])\n",
    "\n",
    "        p_ma = uniform_filter1d(uniform_filter1d(q[param],size=N,axis=1),size=N,axis=1)\n",
    "        \n",
    "        ## Figure 1\n",
    "        ax_map = fig.add_subplot(gs[0:2, 2*iq:2*iq+2]) \n",
    "\n",
    "        ax_map.set_title(q['title'])\n",
    "        p=ax_map.pcolormesh(q['rho'][irhomin:irhomax],q['time'][itmin:itmax],p_ma[itmin:itmax,irhomin:irhomax],vmin=vmin,vmax=vmax)\n",
    "        fig.colorbar(p,ax=ax_map)\n",
    "        ax_map.set_xlabel(r'$r/a$')\n",
    "        ax_map.set_ylabel(r'Time $[\\omega_{c0}^{-1}]$')\n",
    "\n",
    "        ax_map.axvline(x=1,c='k',ls='--')\n",
    "        for rline in [0.8,0.6,0.4,0.2]:ax_map.axvline(x=rline,c='k',ls='--')\n",
    "        ax_map.set_xticks([1.0,0.8,0.6,0.4,0.2])\n",
    "        \n",
    "        ax_map.axvline(x=rhomin_avg,c='xkcd:purple',ls='-',lw=3); ax_map.axvline(x=rhomax_avg,c='xkcd:purple',ls='-',lw=3)\n",
    "        ax_map.axhline(y=tmin_avg,c='r',ls='-',lw=3); ax_map.axhline(y=tmax_avg,c='r',ls='-',lw=3)\n",
    "        \n",
    "        ax_map.plot(q['rho'][10:10+N],np.ones(N)*ax_map.get_ylim()[1]/4,c='xkcd:battleship grey',lw=5) #Visualize the sliding average window\n",
    "\n",
    "        ##Figure 2\n",
    "        itmin_avg, itmax_avg = np.searchsorted(q['time'],[tmin_avg,tmax_avg])\n",
    "\n",
    "        ax_rprof = fig.add_subplot(gs[2:, 0:len(q_ar)]) \n",
    "        ax_rprof.set_title(r'Radial profile (avg %.0f < t$[\\omega_{c0}^{-1}]$ < %.0f)' % (tmin_avg , tmax_avg) )\n",
    "        ax_rprof.plot(q['rho'][irhomin:irhomax], np.mean( p_ma[itmin_avg:itmax_avg,irhomin:irhomax],axis=0),ls=q['ls'],c=q['c'],label=q['title'])\n",
    "        ax_rprof.set_xlabel(r'$r/a$')\n",
    "\n",
    "        irhomin_avg, irhomax_avg = np.searchsorted(q['rho'],[rhomin_avg,rhomax_avg])\n",
    "\n",
    "        ax_tevol = fig.add_subplot(gs[2:, len(q_ar):]) \n",
    "        ax_tevol.set_title(r'Temporal evolution (avg %.2f < r/a < %.2f)' % (rhomin_avg , rhomax_avg) )\n",
    "        ax_tevol.plot(q['time'][itmin:itmax], np.mean(p_ma[itmin:itmax,irhomin_avg:irhomax_avg],axis=1),ls=q['ls'],c=q['c'],label=q['title'])\n",
    "        ax_tevol.set_xlabel(r'Time $[\\omega_{c0}^{-1}]$')\n",
    "    \n",
    "    for axes in [ax_rprof,ax_tevol]: \n",
    "        axes.legend()\n",
    "        axes.axhline(y=0,c='k',ls='--')\n",
    "\n",
    "    fig.tight_layout(rect=[0, 0.03, 1, 0.95])\n",
    "    \n",
    "float_range_time_slider = widgets.FloatRangeSlider(value=[100e3, 145e3], min=0, max=250e3, step=1000, description='Time range', layout=Layout(width='50%'), style = {'description_width': 'initial'}, continuous_update=False)\n",
    "float_range_rho_slider  = widgets.FloatRangeSlider(value=[0.8, 0.9], min=0, max=1.2, step=0.05, description='Normalized radius range', layout=Layout(width='50%'), style = {'description_width': 'initial'}, continuous_update=False)\n",
    "\n",
    "interact(update_plot, \n",
    "         float_range_time = float_range_time_slider,\n",
    "         float_range_rho  = float_range_rho_slider,\n",
    "         colormap_range   = widgets.FloatSlider(min=0.1, max=2, step=0.01,value=0.8, continuous_update=False),\n",
    "         symetrical_cmap  = widgets.Checkbox(value=False,description='symetrical_cmap'),\n",
    "         **custom_widgets\n",
    "        )"
   ]
  },
  {
   "attachments": {},
   "cell_type": "markdown",
   "id": "c1652071-d943-4038-b5d3-d2648f958e6e",
   "metadata": {
    "id": "c1652071-d943-4038-b5d3-d2648f958e6e",
    "jupyter": {
     "source_hidden": true
    },
    "tags": []
   },
   "source": [
    "<a id='exploration_frequency_study'></a> \n",
    "## <font color='xkcd:sage'>**Exploration**</font> - Etude dans l'espace des fréquences [▲](#sommaire)\n",
    "<font color='red'> /!\\ </font> La fréquence théorique des GAMs est calculée comme $f_{theo} = \\frac{2}{R_0} \\sqrt{ \\frac{5}{3} \\frac{T}{m}  \\left(1 + \\frac{1}{2q^2} \\right)} \\color{red}{\\frac{1}{2 \\pi}}$ \n",
    "En effet, je suspecte que la formule théorique donne la pulsation que tout le monde appelle fréquence par abus de language\n",
    "\n",
    "<font color='red'> /!\\ </font> Les spectres sont calculés avec des moyennes radiales, de cette façon :\n",
    "- [ ] $\\huge TF[\\langle s(r,t) \\rangle_{r1}^{r2}] $\n",
    "- [x] $\\huge \\langle  TF[ s(r,t) ] \\rangle_{r1}^{r2}$\n",
    "\n",
    "PS: les deux sont définis dans le code ci-dessous en tant que \"fspectra_1\" et \"fspectra_2\" respectivement."
   ]
  },
  {
   "cell_type": "code",
   "execution_count": 3,
   "id": "0bd8c72f-d8f3-441d-bf05-dc7442674749",
   "metadata": {
    "colab": {
     "referenced_widgets": [
      "5b7855046e1d4f5d9ac92e2694af779b"
     ]
    },
    "collapsed": true,
    "id": "0bd8c72f-d8f3-441d-bf05-dc7442674749",
    "jupyter": {
     "outputs_hidden": true,
     "source_hidden": true
    },
    "outputId": "117f8d31-75c2-46c2-9bb7-b867458a3503",
    "tags": []
   },
   "outputs": [
    {
     "data": {
      "application/vnd.jupyter.widget-view+json": {
       "model_id": "2f23b3df9afb48c39df108673867b29d",
       "version_major": 2,
       "version_minor": 0
      },
      "text/plain": [
       "interactive(children=(IntSlider(value=1, continuous_update=False, description='N', min=1), FloatSlider(value=0…"
      ]
     },
     "metadata": {},
     "output_type": "display_data"
    },
    {
     "data": {
      "text/plain": [
       "<function __main__.update_plot(N, colormap_range, dpi_adjust, param, float_range_time, float_range_rho, select_sim, DFTradial_avg1_bool, DFTradial_avg2_bool, show_omega_theo)>"
      ]
     },
     "execution_count": 3,
     "metadata": {},
     "output_type": "execute_result"
    }
   ],
   "source": [
    "plt.close('all')\n",
    "import matplotlib.colors as colors\n",
    "from scipy.signal import welch\n",
    "\n",
    "symetrical_cmap = 0\n",
    "\n",
    "def update_plot(N,colormap_range,dpi_adjust,param,float_range_time,float_range_rho,\n",
    "               select_sim,\n",
    "               DFTradial_avg1_bool, DFTradial_avg2_bool, show_omega_theo):\n",
    "    \n",
    "    tmin_avg,tmax_avg = float_range_time\n",
    "    rhomin_avg,rhomax_avg = float_range_rho\n",
    "    \n",
    "    q_ar = [q for q in all_sim if q['title'] in select_sim]\n",
    "    \n",
    "    plt.close('all')\n",
    "    \n",
    "    fig = plt.figure(figsize=(16,10), dpi=dpi_adjust)\n",
    "    fig.suptitle(r'Study of %s' %param)\n",
    "\n",
    "    Pmap = uniform_filter1d(uniform_filter1d(all_sim[0][param],size=N,axis=1),size=N,axis=1)\n",
    "    if symetrical_cmap:\n",
    "        vmin = colormap_range*min( abs( np.min(Pmap) ), abs( np.max(Pmap) ) ) \n",
    "        vmax = -vmin\n",
    "    else:\n",
    "        vmin = colormap_range*np.min(Pmap) \n",
    "        vmax = colormap_range*np.max(Pmap) \n",
    "\n",
    "    gs = gridspec.GridSpec(5, 2*len(q_ar))\n",
    "    \n",
    "    for iq,q in enumerate(q_ar):\n",
    "\n",
    "        itmin, itmax     = np.searchsorted(q['time'],[100e3,190e3])\n",
    "        irhomin, irhomax = np.searchsorted(q['rho'],[0.0,1.1])\n",
    "\n",
    "        p_ma = uniform_filter1d(uniform_filter1d(q[param],size=N,axis=1),size=N,axis=1)\n",
    "        \n",
    "        ## Figure 1\n",
    "        ax_map = fig.add_subplot(gs[0:3, 2*iq:2*iq+2]) \n",
    "\n",
    "        ax_map.set_title(q['title'])\n",
    "        p=ax_map.pcolormesh(q['rho'][irhomin:irhomax],q['time'][itmin:itmax],p_ma[itmin:itmax,irhomin:irhomax],vmin=vmin,vmax=vmax)\n",
    "        fig.colorbar(p,ax=ax_map)\n",
    "        ax_map.set_xlabel(r'$r/a$')\n",
    "        ax_map.set_ylabel(r'Time $[\\omega_{c0}^{-1}]$')\n",
    "\n",
    "        ax_map.axvline(x=1,c='k',ls='--')\n",
    "        for rline in [0.8,0.6,0.4,0.2]:ax_map.axvline(x=rline,c='k',ls='--')\n",
    "        ax_map.set_xticks([1.0,0.8,0.6,0.4,0.2])\n",
    "        \n",
    "        ax_map.axvline(x=rhomin_avg,c='g',ls='-')\n",
    "        ax_map.axvline(x=rhomax_avg,c='g',ls='-')\n",
    "        \n",
    "        ax_map.axhline(y=tmin_avg,c='r',ls='-')\n",
    "        ax_map.axhline(y=tmax_avg,c='r',ls='-')\n",
    "        \n",
    "        ax_map.plot(q['rho'][10:10+N],np.ones(N)*ax_map.get_ylim()[1]/4,c='xkcd:battleship grey',lw=5) #Visualisation de la fenêtre de la moyenne glissante\n",
    "\n",
    "        ##Figure 2\n",
    "        itmin_avg, itmax_avg     = np.searchsorted(q['time'],[tmin_avg,tmax_avg])\n",
    "        irhomin_avg, irhomax_avg = np.searchsorted(q['rho'],[rhomin_avg,rhomax_avg])\n",
    "        \n",
    "        #Perform fft\n",
    "        dt_diag = q['time'][-1]-q['time'][-2]\n",
    "        fspectra_1 = np.fft.rfft(np.mean(p_ma[itmin_avg:itmax_avg,irhomin_avg:irhomax_avg],axis=1), axis=0) / (itmax_avg-itmin_avg)\n",
    "        fspectra_2 = np.fft.rfft(p_ma[itmin_avg:itmax_avg,:], axis=0) / (itmin_avg-itmax_avg)\n",
    "        w = np.fft.rfftfreq(itmax_avg-itmin_avg, d=dt_diag)\n",
    "        \n",
    "        ax_fspectra = fig.add_subplot(gs[3:, 0:len(q_ar)]) \n",
    "        ax_fspectra.set_title(r'Fourier amplitude (avg %.2f < r/a < %.2f)' % (rhomin_avg , rhomax_avg) )\n",
    "        if DFTradial_avg1_bool:ax_fspectra.semilogy(w,np.abs(fspectra_1),c=q['c'],label=q['title'],ls='--') #Pour fspectra_1\n",
    "        if DFTradial_avg2_bool:ax_fspectra.semilogy(w,np.mean(np.abs(fspectra_2[:,irhomin_avg:irhomax_avg]),axis=1),ls='-',c=q['c'],label=q['title']) #Pour fspectra_2\n",
    "        ax_fspectra.set_xlabel(r'$\\omega [\\omega_{c0}]$')\n",
    "        ax_fspectra.legend(fontsize=14)\n",
    "        \n",
    "        #Fréquence GAM théorique\n",
    "        if show_omega_theo:\n",
    "            omega_theo = np.mean( np.mean( (2*np.sqrt(q['T'] * (5/3) *(1 + (1/(2*q['q']**2) ) )) /800)[itmin_avg:itmax_avg] ,axis=0)[irhomax_avg-1:irhomax_avg] ) / (2 * np.pi)\n",
    "            ax_fspectra.axvline(x=omega_theo,c=q['c'],ls='--')\n",
    "        \n",
    "        ax_fphase = fig.add_subplot(gs[3:, len(q_ar):]) \n",
    "        ax_fphase.set_title(r'Fourier phase (avg %.2f < r/a < %.2f)' % (rhomin_avg , rhomax_avg) )\n",
    "        if DFTradial_avg1_bool:ax_fphase.plot(np.sort(w), np.angle(fspectra_1),ls='--',c=q['c'],label=q['title']) #Pour fspectra_1\n",
    "        if DFTradial_avg2_bool:ax_fphase.plot(np.sort(w), np.mean(np.angle(fspectra_2[:,irhomin_avg:irhomax_avg]),axis=1),ls='-',c=q['c'],label=q['title']) #Pour fspectra_2\n",
    "        ax_fphase.set_xlabel(r'$\\omega [\\omega_{c0}]$')\n",
    "        ax_fphase.axhline(y=0,ls='--',c='k')\n",
    "        ax_fphase.legend(fontsize=16)\n",
    "\n",
    "    fig.tight_layout(rect=[0, 0.03, 1, 0.95])\n",
    "\n",
    "float_range_time_slider = widgets.FloatRangeSlider(value=[50e3, 90e3], min=0, max=200e3, step=1000, description='Time range', layout=Layout(width='50%'), style = {'description_width': 'initial'}, continuous_update=False)\n",
    "float_range_rho_slider  = widgets.FloatRangeSlider(value=[0.84, 0.86], min=0, max=1.2, step=0.01, description='Normalized radius range', layout=Layout(width='50%'), style = {'description_width': 'initial'}, continuous_update=False)\n",
    "\n",
    "custom_widgets['param'].value = 'Ptransfert'\n",
    "\n",
    "interact(update_plot, \n",
    "         float_range_time=float_range_time_slider,\n",
    "         float_range_rho=float_range_rho_slider,\n",
    "         colormap_range=widgets.FloatSlider(min=0.1, max=2, step=0.05,value=0.8, continuous_update=False),\n",
    "         DFTradial_avg1_bool = widgets.Checkbox(value=False,description='Display fspectra_1'),\n",
    "         DFTradial_avg2_bool = widgets.Checkbox(value=True,description='Display fspectra_2'),\n",
    "         show_omega_theo = widgets.Checkbox(value=False,description=r'Display $\\omega_{theo}$'),\n",
    "         **custom_widgets,\n",
    "        )"
   ]
  },
  {
   "attachments": {},
   "cell_type": "markdown",
   "id": "a0260f46-0cda-4268-b0da-7a93156556f5",
   "metadata": {},
   "source": [
    "<a id='exploration_spectral_density_study'></a>\n",
    "## <font color='xkcd:sage'>**Exploration**</font> - Densité spectrale de puissance [▲](#sommaire)\n",
    "\n",
    "La DPS est calculée comme $ PSD(x) = 2 \\frac{ |X(\\omega)|^2 }{ N } \\Delta T $ où $N$ est le nombre d'échantillons temporels (le facteur 2 vient du fait qu'on considère le nombre de points $N_f=N/2$ dans le domaine spectral).\n",
    "\n",
    "Ce calcul donne exactement le même résultat que la fonction *periodogram* de *scipy.signal* ... sauf pour la fréquence nulle."
   ]
  },
  {
   "cell_type": "code",
   "execution_count": 10,
   "id": "28430aa3-fa1c-4b75-83c6-4d7a72dc3460",
   "metadata": {
    "collapsed": true,
    "jupyter": {
     "outputs_hidden": true
    },
    "tags": []
   },
   "outputs": [
    {
     "data": {
      "application/vnd.jupyter.widget-view+json": {
       "model_id": "9ee5039a70034b36b71498eca827fa64",
       "version_major": 2,
       "version_minor": 0
      },
      "text/plain": [
       "interactive(children=(IntSlider(value=1, continuous_update=False, description='N', min=1), FloatSlider(value=0…"
      ]
     },
     "metadata": {},
     "output_type": "display_data"
    },
    {
     "data": {
      "text/plain": [
       "<function __main__.update_plot(N, colormap_range, dpi_adjust, param, float_range_time, float_range_rho, show_omega_theo, select_sim, mode)>"
      ]
     },
     "execution_count": 10,
     "metadata": {},
     "output_type": "execute_result"
    }
   ],
   "source": [
    "plt.close('all')\n",
    "\n",
    "symetrical_cmap = 0\n",
    "def update_plot(N,colormap_range,dpi_adjust,param,float_range_time,float_range_rho,show_omega_theo,\n",
    "               select_sim,mode):\n",
    "    \n",
    "    tmin_avg,tmax_avg = float_range_time\n",
    "    rhomin_avg,rhomax_avg = float_range_rho\n",
    "    \n",
    "    q_ar = [q for q in all_sim if q['title'] in select_sim]\n",
    "    \n",
    "    plt.close('all')\n",
    "    \n",
    "    fig = plt.figure(figsize=(16,10), dpi=dpi_adjust)\n",
    "    fig.suptitle(r'Study of %s' %param)\n",
    "\n",
    "    Pmap = uniform_filter1d(uniform_filter1d(all_sim[0][param],size=N,axis=1),size=N,axis=1)\n",
    "    if symetrical_cmap:\n",
    "        vmin = colormap_range*min( abs( np.min(Pmap) ), abs( np.max(Pmap) ) ) \n",
    "        vmax = -vmin\n",
    "    else:\n",
    "        vmin = colormap_range*np.min(Pmap) \n",
    "        vmax = colormap_range*np.max(Pmap) \n",
    "\n",
    "    gs = gridspec.GridSpec(5, 2*len(q_ar))\n",
    "    \n",
    "    for iq,q in enumerate(q_ar):\n",
    "        \n",
    "        irhomin, irhomax = np.searchsorted(q['rho'], [0.2, 1.1])\n",
    "        itmin, itmax = np.searchsorted(q['time'], [100e3, 200e3])\n",
    "\n",
    "        print(q['time'][itmin])\n",
    "\n",
    "        p_ma = uniform_filter1d(uniform_filter1d(q[param],size=N,axis=1),size=N,axis=1)\n",
    "        \n",
    "        ## Figure 1\n",
    "        ax_map = fig.add_subplot(gs[0:3, 2*iq:2*iq+2]) \n",
    "\n",
    "        ax_map.set_title(q['title'])\n",
    "        p=ax_map.pcolormesh(q['rho'][irhomin:irhomax],q['time'][itmin:itmax],p_ma[itmin:itmax,irhomin:irhomax],vmin=vmin,vmax=vmax)\n",
    "        fig.colorbar(p,ax=ax_map)\n",
    "        ax_map.set_xlabel(r'$r/a$')\n",
    "        ax_map.set_ylabel(r'Time $[\\omega_{c0}^{-1}]$')\n",
    "\n",
    "        ax_map.axvline(x=1,c='k',ls='--')\n",
    "        for rline in [0.8,0.6,0.4,0.2]:ax_map.axvline(x=rline,c='k',ls='--')\n",
    "        ax_map.set_xticks([1.0,0.8,0.6,0.4,0.2])\n",
    "        \n",
    "        ax_map.axvline(x=rhomin_avg,c='g',ls='-')\n",
    "        ax_map.axvline(x=rhomax_avg,c='g',ls='-')\n",
    "        \n",
    "        ax_map.axhline(y=tmin_avg,c='r',ls='-')\n",
    "        ax_map.axhline(y=tmax_avg,c='r',ls='-')\n",
    "\n",
    "        ax_map.set_xlim([0.2,1.1])\n",
    "        \n",
    "        if N>1: ax_map.plot(q['rho'][40:40+N],np.ones(N)*ax_map.get_ylim()[1]*3/4,c='xkcd:battleship grey',lw=5) #Visualisation de la fenêtre de la moyenne glissante\n",
    "        \n",
    "        ##Figure 2\n",
    "        itmin_avg, itmax_avg     = np.searchsorted(q['time'],[tmin_avg,tmax_avg])\n",
    "        irhomin_avg, irhomax_avg = np.searchsorted(q['rho'],[rhomin_avg,rhomax_avg])\n",
    "        \n",
    "        #Perform fft\n",
    "        dt_diag = q['time'][-1]-q['time'][-2]\n",
    "        fspectra = np.fft.rfft(p_ma[itmin_avg:itmax_avg,:], axis=0) / (itmax_avg-itmin_avg)\n",
    "        w = np.fft.rfftfreq(itmax_avg-itmin_avg, d=dt_diag)\n",
    "        \n",
    "        ax_fspectra = fig.add_subplot(gs[3:, 0:len(q_ar)]) \n",
    "        ax_fspectra.set_title(r'Fourier amplitude (avg %.2f < r/a < %.2f)' % (rhomin_avg , rhomax_avg) )\n",
    "        ax_fspectra.semilogy(w,2*np.mean(np.abs(fspectra[:,irhomin_avg:irhomax_avg])**2 * ((itmax_avg-itmin_avg)*dt_diag),axis=1),c=q['c'],label=q['title'],ls='-',marker='o',markersize=3,mfc=q['c'], mec=q['c'], alpha=0.5)\n",
    "        ax_fspectra.set_xlabel(r'$\\omega [\\omega_{c0}]$')\n",
    "        ax_fspectra.legend(fontsize=14)\n",
    "        #ax_fspectra.axvline(x=w[mode], ls='--', c='g',lw=1)\n",
    "\n",
    "        #Fréquence GAM théorique\n",
    "        if show_omega_theo:\n",
    "            omega_theo = np.mean( np.mean( (2*np.sqrt(q['T'] * (5/3) *(1 + (1/(2*q['q']**2) ) )) /800)[itmin_avg:itmax_avg] ,axis=0)[irhomax_avg-1:irhomax_avg] ) / (2 * np.pi)\n",
    "            ax_fspectra.axvline(x=omega_theo,c=q['c'],ls='--')\n",
    "\n",
    "        irholimmin = (np.abs(q['rho'] - 0.5 )).argmin()\n",
    "        irholimmax = (np.abs(q['rho'] - 1 )).argmin()\n",
    "        ax_rprof = fig.add_subplot(gs[3:, len(q_ar):]) \n",
    "        ax_rprof.set_title(r'Profile of $\\omega = %.1e [\\omega_{c0}]$ component' % w[mode])\n",
    "        ax_rprof.semilogy(q['rho'][irholimmin:irholimmax], \n",
    "                      2*np.abs(fspectra[mode,irholimmin:irholimmax])**2 * ((itmax_avg-itmin_avg)*dt_diag), c=q['c']\n",
    "                     )\n",
    "        \n",
    "    fig.tight_layout(rect=[0, 0.03, 1, 0.95])\n",
    "\n",
    "float_range_time_slider = widgets.FloatRangeSlider(value=[100e3, 145e3], min=0, max=210e3, step=1000, description='Time range', layout=Layout(width='50%'), style = {'description_width': 'initial'}, continuous_update=False)\n",
    "float_range_rho_slider = widgets.FloatRangeSlider(value=[0.84, 0.86], min=0, max=1.2, step=0.01, description='Normalized radius range', layout=Layout(width='50%'), style = {'description_width': 'initial'}, continuous_update=False)\n",
    "\n",
    "#custom_widgets['param'].value = 'Ptransfert'\n",
    "\n",
    "interact(update_plot, \n",
    "         mode             = widgets.IntSlider(min=0, max=50, step=1,value=0, continuous_update=False),\n",
    "         overlap_factor   = widgets.FloatSlider(min=0, max=1, step=0.05,value=0.8),\n",
    "         float_range_time = float_range_time_slider,\n",
    "         float_range_rho  = float_range_rho_slider,\n",
    "         colormap_range   = widgets.FloatSlider(min=0.1, max=2, step=0.05,value=0.8, continuous_update=False),\n",
    "         show_omega_theo  = widgets.Checkbox(value=False,description=r'Display $\\omega_{theo}$'),\n",
    "         **custom_widgets\n",
    "        )"
   ]
  },
  {
   "attachments": {},
   "cell_type": "markdown",
   "id": "dd54a80b-1290-4460-bbff-3f9f4a7814e5",
   "metadata": {},
   "source": [
    "<a id='exploration_cross_correlation'></a>\n",
    "## <font color='xkcd:sage'>**Exploration**</font> - Cross corrélation en temps [▲](#sommaire)\n",
    "ps: un time-lag $\\tau$ négatif veut dire que \"signal2\" précède \"signal1\" de $\\tau$"
   ]
  },
  {
   "cell_type": "code",
   "execution_count": null,
   "id": "a28480cc-d677-4af2-8e30-32c3b5c65408",
   "metadata": {
    "tags": []
   },
   "outputs": [],
   "source": [
    "from mpl_toolkits.axes_grid1.inset_locator import inset_axes\n",
    "\n",
    "def extract_fluctuations(signal2D):\n",
    "    return signal2D - np.mean(signal2D,axis=0)\n",
    "\n",
    "def update_plot(N1,N2,float_range_rho,dpi_adjust,float_range_time,\n",
    "               select_sim, signal1, signal2):\n",
    "    \n",
    "    q_ar = [q for q in all_sim if q['title'] in select_sim]\n",
    "    \n",
    "    tmin_avg,tmax_avg = float_range_time\n",
    "    \n",
    "    plt.close('all')\n",
    "    \n",
    "    fig = plt.figure(figsize=(8*len(q_ar),16), dpi=dpi_adjust)\n",
    "    fig.suptitle('Cross correlation between %s and %s' %(signal1,signal2))\n",
    "    \n",
    "    gs = gridspec.GridSpec(3,len(q_ar))\n",
    "    \n",
    "    ###############################\n",
    "    #Figure 3 layout - Cross correlation at a given radius\n",
    "    ###############################\n",
    "    ax_cc1D = fig.add_subplot(gs[2, :]) \n",
    "    ax_cc1D.set_ylim(-1.1,1.1)\n",
    "    ax_cc1D.axhline(y=0,c='k',ls='--'); ax_cc1D.axhline(y=1,c='gray',ls='--'); ax_cc1D.axhline(y=-1,c='gray',ls='--')\n",
    "    ax_cc1D.axvline(x=0,c='k',ls='--')\n",
    "    ax_cc1D.set_xlabel(r'Time lag $[\\omega_{c0}^{-1}]$')\n",
    "    \n",
    "    for iq,q in enumerate(q_ar):\n",
    "\n",
    "        irhomin, irhomax = np.searchsorted(q['rho'], [0.0, 1.1])\n",
    "        itmin, itmax     = np.searchsorted(q['time'], [tmin_avg, tmax_avg])\n",
    "\n",
    "        itlim = itmax-itmin\n",
    "        itau_range = np.r_[-itlim//3:itlim//3-1]\n",
    "\n",
    "        tau_range = itau_range * (q['time'][1]-q['time'][0])\n",
    "\n",
    "        it_CC_range = np.r_[itlim//3:2*itlim//3]\n",
    "        Cfg = np.zeros( (irhomax-irhomin, 2*itlim//3 ) )\n",
    "        \n",
    "        signal1_ar = uniform_filter1d(uniform_filter1d(q[signal1],size=N1,axis=1),size=N1,axis=1)\n",
    "        signal2_ar = uniform_filter1d(uniform_filter1d(q[signal2],size=N2,axis=1),size=N2,axis=1)\n",
    "\n",
    "        f = extract_fluctuations(signal1_ar[itmin:itmax,irhomin:irhomax])\n",
    "        g = extract_fluctuations(signal2_ar[itmin:itmax,irhomin:irhomax])\n",
    "\n",
    "        norm = np.sqrt( np.sum(f[it_CC_range,:]**2,axis=0) ) * np.sqrt( np.sum(g[it_CC_range,:]**2,axis=0) )\n",
    "        for itau in itau_range:\n",
    "            Cfg[:,itau + itlim//3] = np.sum(f[it_CC_range,:] * g[it_CC_range+itau,:],axis=0)/norm\n",
    "\n",
    "\n",
    "        rhomin_avg,rhomax_avg = float_range_rho\n",
    "        irhomin_avg, irhomax_avg = np.searchsorted(q['rho'],[rhomin_avg,rhomax_avg])\n",
    "        ##############################\n",
    "        #Figure - 2D cross correlation\n",
    "        ##############################\n",
    "        ax_map = fig.add_subplot(gs[0, iq]) \n",
    "        ax_map.set_title('Cross correlation over radius')\n",
    "        p=ax_map.pcolormesh(q['rho'][irhomin:irhomax],tau_range,Cfg.T,vmin=-1,vmax=1)\n",
    "        ax_map.axhline(y=0,c='k',ls='--')\n",
    "        cax = inset_axes(ax_map, width=\"30%\", height=\"5%\", loc=1, bbox_to_anchor=(0,0.2,1,1), bbox_transform=ax_map.transAxes) \n",
    "        fig.colorbar(p,cax=cax,orientation='horizontal')\n",
    "        ax_map.axvline(x=rhomin_avg,c='g',lw=4)\n",
    "        ax_map.axvline(x=rhomax_avg,c='g',lw=4)\n",
    "        ax_map.set_title(r'%s' % q['title'])\n",
    "        ax_map.set_xlabel(r'$r/a$')\n",
    "        ax_map.set_ylabel(r'Time lag')\n",
    "        ax_map.set_xticks([1.0,0.8,0.6,0.4,0.2])\n",
    "        \n",
    "        ##############################\n",
    "        #Figure - Time evolution\n",
    "        ##############################\n",
    "        color1 = 'xkcd:green'\n",
    "        color2 = 'xkcd:purple'\n",
    "        \n",
    "        itbeg = (np.abs(q['time'] - 0e3 )).argmin()//3*3\n",
    "        ax_tevol1 = fig.add_subplot(gs[1, iq]) \n",
    "        ax_tevol1.set_title('%s - Time evolution avg on $%.2f < r/a < %.2f$' %(q['title'],rhomin_avg,rhomax_avg))\n",
    "        ax_tevol1.plot(q['time'][itbeg:],np.mean(q[signal1][itbeg:,irhomin_avg:irhomax_avg],axis=1),c=color1,ls='--')\n",
    "        ax_tevol1.plot(q['time'][itbeg:],np.mean(signal1_ar[itbeg:,irhomin_avg:irhomax_avg],axis=1),c=color1)\n",
    "        ax_tevol1.yaxis.label.set_color(color1)\n",
    "        ax_tevol1.tick_params(axis='y', colors=color1)\n",
    "        ax_tevol1.set_ylabel(signal1)\n",
    "        \n",
    "        ax_tevol2 = ax_tevol1.twinx()\n",
    "        ax_tevol2.plot(q['time'][itbeg:],np.mean(q[signal2][itbeg:,irhomin_avg:irhomax_avg],axis=1),c=color2,ls='--')\n",
    "        ax_tevol2.plot(q['time'][itbeg:],np.mean(signal2_ar[itbeg:,irhomin_avg:irhomax_avg],axis=1),c=color2)\n",
    "        ax_tevol2.grid(None)\n",
    "        ax_tevol2.yaxis.label.set_color(color2)\n",
    "        ax_tevol2.tick_params(axis='y', colors=color2)\n",
    "        ax_tevol2.set_ylabel(signal2)\n",
    "        ax_tevol1.axvline(x=tmin_avg,c='k',ls='--'); ax_tevol1.axvline(x=tmax_avg,c='k',ls='--')\n",
    "        ax_tevol1.set_xlabel(r'Time $[\\omega_{c0}^{-1}]$')\n",
    "        \n",
    "        ##############################\n",
    "        #Figure 3 layout - Cross correlation at a given radius\n",
    "        ##############################\n",
    "        ax_cc1D.set_title(r'Cross correlation avg on $%.2f < r/a < %.2f$' %(rhomin_avg,rhomax_avg))\n",
    "        ax_cc1D.plot(tau_range, np.mean(Cfg[irhomin_avg:irhomax_avg,:],axis=0),c=q['c'],lw=4,label=q['title'])\n",
    "    \n",
    "    ax_cc1D.legend()\n",
    "    fig.tight_layout(rect=[0, 0.03, 1, 0.95])\n",
    "\n",
    "float_range_time_slider = widgets.FloatRangeSlider(value=[100e3, 145e3], min=0, max=150e3, step=1000, description='Time range', layout=Layout(width='50%'), style = {'description_width': 'initial'}, continuous_update=False)\n",
    "float_range_rho_slider  = widgets.FloatRangeSlider(value=[0.8, 0.9], min=0, max=1.2, step=0.01, description='Normalized radius range', layout=Layout(width='50%'), style = {'description_width': 'initial'}, continuous_update=False)\n",
    "\n",
    "interact(update_plot, \n",
    "         N1=widgets.IntSlider(min=1, max=200, step=1,value=1, continuous_update=False),\n",
    "         N2=widgets.IntSlider(min=1, max=200, step=1,value=1, continuous_update=False),\n",
    "         float_range_time=float_range_time_slider,\n",
    "         float_range_rho=float_range_rho_slider,\n",
    "         signal1 = widgets.Text(value='dRSpoldr',placeholder='Type something',description='Select parameter:', continuous_update=False),\n",
    "         signal2 = widgets.Text(value='Er',placeholder='Type something',description='Select parameter:', continuous_update=False),\n",
    "         **custom_widgets\n",
    "        )"
   ]
  },
  {
   "attachments": {},
   "cell_type": "markdown",
   "id": "b411ad5f-1c42-4957-b221-4c8c0d773128",
   "metadata": {},
   "source": [
    "<a id='exploration_cycle_limite'></a>\n",
    "## <font color='orangered'>**(En cours)**</font> <font color='xkcd:sage'>**Exploration**</font> - Cycle limite [▲](#sommaire)"
   ]
  },
  {
   "cell_type": "code",
   "execution_count": null,
   "id": "94211f5f-ec96-43e1-9319-39b014ffc1f7",
   "metadata": {
    "collapsed": true,
    "jupyter": {
     "outputs_hidden": true,
     "source_hidden": true
    },
    "tags": []
   },
   "outputs": [],
   "source": [
    "plt.close('all')\n",
    "import matplotlib.colors as colors\n",
    "import scipy.signal \n",
    "\n",
    "def update_plot(N,dpi_adjust,param,param2,float_range_time,float_range_rho,\n",
    "               select_sim):\n",
    "    \n",
    "    tmin_avg,tmax_avg = float_range_time\n",
    "    rhomin_avg,rhomax_avg = float_range_rho\n",
    "    \n",
    "    q_ar = [q for q in all_sim if q['title'] in select_sim]\n",
    "    \n",
    "    plt.close('all')\n",
    "    \n",
    "    fig = plt.figure(figsize=(16,8), dpi=dpi_adjust)\n",
    "\n",
    "    gs = gridspec.GridSpec(5, 2*len(q_ar))\n",
    "    \n",
    "    for iq,q in enumerate(q_ar):\n",
    "\n",
    "        itmin, itmax     = np.searchsorted(q['time'],[tmin_avg,tmax_avg])\n",
    "        irhomin, irhomax = np.searchsorted(q['rho'],[rhomin_avg,rhomax_avg])\n",
    "        \n",
    "        ## Figure 1\n",
    "        ax_cl = fig.add_subplot(gs[:, 2*iq:2*iq+2]) \n",
    "\n",
    "        ax_cl.set_title('Cycle limite ' + q['title'])\n",
    "        ax_cl.set_xlabel(param)\n",
    "        ax_cl.set_ylabel(param2)\n",
    "        \n",
    "        x = np.mean(q[param][itmin:itmax,irhomin:irhomax],axis=1)\n",
    "        y = np.mean(q[param2][itmin:itmax,irhomin:irhomax],axis=1)\n",
    "        \n",
    "        ax_cl.plot(x,y,c='k')\n",
    "        ax_cl.scatter(x,y,\n",
    "                   c=np.tan( q['time'][itmin:itmax]/q['time'][itmax] ),\n",
    "                   marker='_', s=80,\n",
    "                   lw=5, cmap='winter',zorder=10)\n",
    "        \n",
    "        ax_cl.autoscale()\n",
    "        \n",
    "    fig.tight_layout(rect=[0, 0.03, 1, 0.95])\n",
    "\n",
    "float_range_time_slider = widgets.FloatRangeSlider(value=[100e3, 145e3], min=0, max=150e3, step=1000, description='Time range', layout=Layout(width='50%'), style = {'description_width': 'initial'}, continuous_update=False)\n",
    "float_range_rho_slider  = widgets.FloatRangeSlider(value=[0.8, 0.9], min=0, max=1.2, step=0.01, description='Normalized radius range', layout=Layout(width='50%'), style = {'description_width': 'initial'}, continuous_update=False)\n",
    "    \n",
    "custom_widgets['param2'].value = 'RSpol'\n",
    "\n",
    "interact(update_plot, \n",
    "         float_range_time = float_range_time_slider,\n",
    "         float_range_rho  = float_range_rho_slider,\n",
    "         colormap_range   = widgets.FloatSlider(min=0.1, max=2, step=0.05,value=0.8, continuous_update=False),\n",
    "         show_omega_theo  = widgets.Checkbox(value=False,description=r'Display $\\omega_{theo}$'),\n",
    "        **custom_widgets\n",
    "        )"
   ]
  },
  {
   "attachments": {},
   "cell_type": "markdown",
   "id": "3fa30925-8a1e-4402-8fb4-9dafe0b72661",
   "metadata": {},
   "source": [
    "<a id='en_cours_evo_eq_terms_er'></a>\n",
    "## <font color='coral'>**Travail en cours**</font> - Analyse des termes dans l'évolution de $E_r$ [▲](#sommaire)\n",
    "\n",
    "L'équation de conservation de la vorticité généralisée peut se réécrire sous la forme :\n",
    "\n",
    "$ \\huge \\partial_t E_r = \\frac{B_{eq}^2}{n_{eq} m} J_r - \\frac{1}{2} \\frac{1}{n_{eq} e} \\partial_t ( \\nabla_\\perp P_\\perp ) $"
   ]
  },
  {
   "cell_type": "code",
   "execution_count": null,
   "id": "686d13f9-c65d-4ad8-86b3-ac95011f2274",
   "metadata": {},
   "outputs": [],
   "source": [
    "plt.close('all')\n",
    "\n",
    "def update_plot(dpi_adjust,float_time,select_sim):\n",
    "    \n",
    "    plt.close('all')\n",
    "\n",
    "    q_ar = [q for q in all_sim if q['title'] in select_sim]\n",
    "    \n",
    "    fig = plt.figure(figsize=(15,4*len(q_ar)))\n",
    "\n",
    "    tscan = float_time\n",
    "\n",
    "    fig.suptitle('Time : %.0f' % (tscan) + r' $[\\omega_{c0}^{-1}]$')\n",
    "\n",
    "    ## Set dpi of figure\n",
    "    if dpi_adjust!=dpi_custom:fig.set_dpi(dpi_adjust)\n",
    "    \n",
    "    for iq,q in enumerate(q_ar):\n",
    "\n",
    "        ax_rprof = fig.add_subplot(len(q_ar),2,2*iq+1)\n",
    "\n",
    "        irhomin, irhomax = np.searchsorted(q['rho'],[0.4,1.0])\n",
    "        \n",
    "        itscan = np.searchsorted(q['time'],tscan)\n",
    "        \n",
    "        dt_vorticity = np.gradient(q['vorticity'],q['time'],axis=0)\n",
    "        div_Jr = np.gradient(q['Jr'],q['rg'],axis=1)\n",
    "\n",
    "        ax_rprof.set_title(q['title'] + ' - Vorticity')\n",
    "        ax_rprof.plot(q['rho'][irhomin:irhomax], dt_vorticity[itscan,irhomin:irhomax],ls=q['ls'],c='b',label=r'$\\partial_t \\langle \\Omega \\rangle$')\n",
    "        ax_rprof.plot(q['rho'][irhomin:irhomax], -div_Jr[itscan,irhomin:irhomax],ls=q['ls'],c='r',label=r'-$\\langle J_r \\rangle$')\n",
    "        #ax_rprof.plot(q['rho'][irhomin:irhomax], (dt_vorticity+q['Jr'])[itscan,irhomin:irhomax],ls=q['ls'],c='r',label=r'Error')\n",
    "        ax_rprof.set_ylim(-4e-6,4e-6)\n",
    "\n",
    "        ax_rprof2 = fig.add_subplot(len(q_ar),2,2*iq+2)\n",
    "        \n",
    "        dt_P = np.gradient(q['P'],q['time'],axis=0)\n",
    "\n",
    "        ax_rprof2.set_title(q['title'] + ' - Integrated vorticity')\n",
    "        ax_rprof2.plot(q['rho'][irhomin:irhomax], dt_P[itscan,irhomin:irhomax],ls=q['ls'],c='b',label=r'$\\partial_t \\langle P \\rangle$')\n",
    "        ax_rprof2.plot(q['rho'][irhomin:irhomax], -q['Jr'][itscan,irhomin:irhomax],ls=q['ls'],c='r',label=r'-$\\langle J_r \\rangle $')\n",
    "        #ax_rprof.plot(q['rho'][irhomin:irhomax], (dt_vorticity+q['Jr'])[itscan,irhomin:irhomax],ls=q['ls'],c='r',label=r'Error')\n",
    "        ax_rprof2.set_ylim(-1e-5,1e-5)\n",
    "\n",
    "        for axes in [ax_rprof,ax_rprof2]:\n",
    "            axes.set_xlabel(r'$r/a$')\n",
    "            axes.axhline(y=0,c='k',ls='--')\n",
    "            axes.axvline(x=1,c='k',ls='--')\n",
    "            if iq==0:axes.legend()\n",
    "\n",
    "    fig.tight_layout(rect=[0, 0.03, 1, 0.95])\n",
    "    \n",
    "    \n",
    "float_time_slider  = widgets.FloatSlider(value=90e3, min=0, max=150e3, step=1000, description='Time range', layout=Layout(width='50%'), style = {'description_width': 'initial'}, continuous_update=False)\n",
    "\n",
    "interact(update_plot, \n",
    "         float_time = float_time_slider,\n",
    "         **custom_widgets\n",
    "        )"
   ]
  },
  {
   "attachments": {},
   "cell_type": "markdown",
   "id": "d6bdcfd8",
   "metadata": {},
   "source": [
    "<a id='en_cours_cons_vorticity'></a>\n",
    "## <font color='coral'>**Travail en cours**</font> - Conservation de la vorticité généralisée [▲](#sommaire)\n",
    "\n",
    "/!\\ Problème probable ici: la vorticité a été calculée en utilisant $B(r,\\theta)$ et $n(t,r,\\theta)$ alors qu'il faut plutôt utiliser $B_0$ et $n(t=0,r)$"
   ]
  },
  {
   "cell_type": "code",
   "execution_count": 3,
   "id": "bc1fa7bf",
   "metadata": {},
   "outputs": [
    {
     "data": {
      "application/vnd.jupyter.widget-view+json": {
       "model_id": "2b5fc322ad6248bea214d2dfa0c7c6ce",
       "version_major": 2,
       "version_minor": 0
      },
      "text/plain": [
       "interactive(children=(IntSlider(value=100, continuous_update=False, description='dpi_adjust', max=200, min=30)…"
      ]
     },
     "metadata": {},
     "output_type": "display_data"
    },
    {
     "data": {
      "text/plain": [
       "<function __main__.update_plot(dpi_adjust, float_time, float_range_rho, select_sim, vorticity_bool, current_bool, density_bool, same_y_range)>"
      ]
     },
     "execution_count": 3,
     "metadata": {},
     "output_type": "execute_result"
    }
   ],
   "source": [
    "plt.close('all')\n",
    "\n",
    "def update_plot(dpi_adjust,float_time,float_range_rho,select_sim,\n",
    "                vorticity_bool,current_bool,density_bool,same_y_range):\n",
    "    \n",
    "    plt.close('all')\n",
    "    clear_output\n",
    "\n",
    "    q_ar = [q for q in all_sim if q['title'] in select_sim]\n",
    "    \n",
    "    fig = plt.figure(figsize=(15,6*len(q_ar)))\n",
    "\n",
    "    tscan = float_time\n",
    "    rhomin,rhomax = float_range_rho\n",
    "\n",
    "    fig.suptitle('Time : %.0f' % (tscan) + r' $[\\omega_{c0}^{-1}]$')\n",
    "\n",
    "    ## Set dpi of figure\n",
    "    if dpi_adjust!=dpi_custom:fig.set_dpi(dpi_adjust)\n",
    "    \n",
    "    for iq,q in enumerate(q_ar):\n",
    "\n",
    "        ax_rprof = fig.add_subplot(len(q_ar),2,2*iq+1)\n",
    "\n",
    "        irhomin, irhomax = np.searchsorted(q['rho'],[rhomin,rhomax])\n",
    "        \n",
    "        itscan = np.searchsorted(q['time'],tscan)\n",
    "        \n",
    "        dt_vorticity = np.gradient(q['vorticity'],q['time'],axis=0)\n",
    "        div_Jr       = np.gradient(q['Jr'],q['rg'],axis=1)\n",
    "\n",
    "        ax_rprof.set_title(q['title'] + ' - Vorticity')\n",
    "        if vorticity_bool:ax_rprof.plot(q['rho'][irhomin:irhomax], dt_vorticity[itscan,irhomin:irhomax],c='b',label=r'$\\partial_t \\langle \\Omega \\rangle$')\n",
    "        if current_bool:ax_rprof.plot(q['rho'][irhomin:irhomax], -div_Jr[itscan,irhomin:irhomax],c='r',ls='--',label=r'-$\\langle \\nabla \\cdot J_r \\rangle$')\n",
    "        if density_bool:ax_rprof.plot(q['rho'][irhomin:irhomax], q['dndt'][itscan,irhomin:irhomax],c='g',label=r'$\\partial_t n$')\n",
    "        #ax_rprof.plot(q['rho'][irhomin:irhomax], (dt_vorticity+q['Jr'])[itscan,irhomin:irhomax],ls=q['ls'],c='r',label=r'Error')\n",
    "        if same_y_range:ax_rprof.set_ylim(-4e-6,4e-6)\n",
    "\n",
    "        ax_rprof2 = fig.add_subplot(len(q_ar),2,2*iq+2)\n",
    "        \n",
    "        dt_P = np.gradient(q['P'],q['time'],axis=0)\n",
    "        int_dndt = np.cumsum(q['dndt'][:,irhomin:irhomax],axis=1)\n",
    "        print(int_dndt.shape)\n",
    "                             \n",
    "        ax_rprof2.set_title(q['title'] + ' - Integrated vorticity')\n",
    "        if vorticity_bool:ax_rprof2.plot(q['rho'][irhomin:irhomax], dt_P[itscan,irhomin:irhomax],c='b',label=r'$\\partial_t \\langle P \\rangle$')\n",
    "        if current_bool:ax_rprof2.plot(q['rho'][irhomin:irhomax], -q['Jr'][itscan,irhomin:irhomax],c='r',label=r'-$\\langle J_r \\rangle $')\n",
    "        if density_bool:ax_rprof2.plot(q['rho'][irhomin:irhomax], int_dndt[itscan,:],c='g',label=r'$\\int_{r_0}^r \\partial_t n$')\n",
    "        #ax_rprof.plot(q['rho'][irhomin:irhomax], (dt_vorticity+q['Jr'])[itscan,irhomin:irhomax],ls=q['ls'],c='r',label=r'Error')\n",
    "        if same_y_range:ax_rprof2.set_ylim(-1e-5,1e-5)\n",
    "\n",
    "        for axes in [ax_rprof,ax_rprof2]:\n",
    "            axes.set_xlabel(r'$r/a$')\n",
    "            axes.axhline(y=0,c='k',ls='--')\n",
    "            axes.axvline(x=1,c='k',ls='--')\n",
    "            if iq==0:axes.legend()\n",
    "\n",
    "    fig.tight_layout(rect=[0, 0.03, 1, 0.95])\n",
    "    \n",
    "float_time_slider  = widgets.FloatSlider(value=90e3, min=0, max=200e3, step=1000, description='Time range', layout=Layout(width='50%'), style = {'description_width': 'initial'}, continuous_update=False)\n",
    "float_range_rho_slider  = widgets.FloatRangeSlider(value=[0.1, 1], min=0, max=1.2, step=0.05, description='Normalized radius range', layout=Layout(width='50%'), style = {'description_width': 'initial'}, continuous_update=False)\n",
    "\n",
    "interact(update_plot, \n",
    "         float_time     = float_time_slider,\n",
    "         float_range_rho  = float_range_rho_slider,\n",
    "         vorticity_bool = widgets.Checkbox(value=True,description='Display vorticity term'),\n",
    "         current_bool   = widgets.Checkbox(value=True,description='Display current term'),\n",
    "         density_bool   = widgets.Checkbox(value=True,description='Display density term'),\n",
    "         same_y_range   = widgets.Checkbox(value=True,description='Same y range'),\n",
    "         **custom_widgets\n",
    "        )"
   ]
  },
  {
   "attachments": {},
   "cell_type": "markdown",
   "id": "04b92ddd",
   "metadata": {},
   "source": [
    "<a id='en_cours_cons_vorticity_corrected'></a>\n",
    "## <font color='coral'>**Travail en cours**</font> - Conservation de la vorticité généralisée - Corrigé[▲](#sommaire)\n",
    "\n",
    "Avec l'implémentation actuelle de l'équation de Poisson dans GYSELA (en circulaire), l'équation de conservation de la vorticité intégrée doit être calculée avec $B_0$ et $n(t=0,r)=n_0$.\n",
    "\n",
    "L'équation vérifiée est alors :\n",
    "$\\partial_t \\left[ - \\partial_r \\left( \\frac{m n_0}{B_0} \\partial_r \\Phi_{00} + \\frac{m}{2eB_0^2} \\partial_r \\langle P_\\perp \\rangle_{FS} \\right) \\right] + e \\partial_r \\langle \\Gamma_{Dr} + \\Gamma_{Er} \\rangle_{FS} = 0$\n"
   ]
  },
  {
   "cell_type": "code",
   "execution_count": 5,
   "id": "c2a25821",
   "metadata": {},
   "outputs": [
    {
     "data": {
      "application/vnd.jupyter.widget-view+json": {
       "model_id": "5f0c6207e11943ca8c65c2126f7808a2",
       "version_major": 2,
       "version_minor": 0
      },
      "text/plain": [
       "interactive(children=(IntSlider(value=50, continuous_update=False, description='dpi_adjust', max=200, min=30),…"
      ]
     },
     "metadata": {},
     "output_type": "display_data"
    },
    {
     "data": {
      "text/plain": [
       "<function __main__.update_plot(dpi_adjust, float_time, float_range_rho, select_sim, vorticity_bool, vorticity_bool_corrected, current_bool, density_bool, same_y_range)>"
      ]
     },
     "execution_count": 5,
     "metadata": {},
     "output_type": "execute_result"
    }
   ],
   "source": [
    "plt.close('all')\n",
    "\n",
    "def update_plot(dpi_adjust,float_time,float_range_rho,select_sim,\n",
    "                vorticity_bool,vorticity_bool_corrected,current_bool,density_bool,\n",
    "                same_y_range):\n",
    "    \n",
    "    plt.close('all')\n",
    "    clear_output\n",
    "\n",
    "    q_ar = [q for q in all_sim if q['title'] in select_sim]\n",
    "    \n",
    "    fig = plt.figure(figsize=(16,8*len(q_ar)))\n",
    "\n",
    "    tscan = float_time\n",
    "    rhomin,rhomax = float_range_rho\n",
    "\n",
    "    fig.suptitle('Time : %.0f' % (tscan) + r' $[\\omega_{c0}^{-1}]$')\n",
    "\n",
    "    ## Set dpi of figure\n",
    "    if dpi_adjust!=dpi_custom:fig.set_dpi(dpi_adjust)\n",
    "    \n",
    "    for iq,q in enumerate(q_ar):\n",
    "\n",
    "        ax_rprof = fig.add_subplot(len(q_ar),2,2*iq+1)\n",
    "\n",
    "        irhomin, irhomax = np.searchsorted(q['rho'],[rhomin,rhomax])\n",
    "        \n",
    "        itscan = np.searchsorted(q['time'],tscan)\n",
    "        \n",
    "        B0 = 1\n",
    "        q['P_corrected'] = -q['As'] *( (q['n'][0,:] / B0) * (np.gradient(q['Phi00'], q['rg'], axis=1)) + (2*q['Zs']*B0**2)**(-1) * np.gradient(q['Pperp'], q['rg'], axis=1) )\n",
    "        q['vorticity_corrected'] = np.gradient(q['P_corrected'],q['rg'],axis=1)\n",
    "\n",
    "        dt_vorticity = np.gradient(q['vorticity'],q['time'],axis=0)\n",
    "        dt_vorticity_corrected = np.gradient(q['vorticity_corrected'],q['time'],axis=0)\n",
    "        div_Jr       = np.gradient(q['Jr'],q['rg'],axis=1)\n",
    "        div_Jr_int   = np.cumsum(div_Jr[:,irhomin:irhomax],axis=1)\n",
    "        dt_vorticity_corrected_int = np.cumsum(dt_vorticity_corrected[:,irhomin:irhomax],axis=1)\n",
    "\n",
    "        ax_rprof.set_title(q['title'] + ' - Vorticity')\n",
    "        if vorticity_bool:ax_rprof.plot(q['rho'][irhomin:irhomax], dt_vorticity[itscan,irhomin:irhomax],c='b',label=r'$\\partial_t \\langle \\Omega_{old} \\rangle$')\n",
    "        if vorticity_bool_corrected:ax_rprof.plot(q['rho'][irhomin:irhomax], dt_vorticity_corrected[itscan,irhomin:irhomax],c='g',label=r'$\\partial_t \\langle \\Omega \\rangle$')\n",
    "        if current_bool:ax_rprof.plot(q['rho'][irhomin:irhomax], -div_Jr[itscan,irhomin:irhomax],c='r',ls='-',label=r'-$ e \\partial_r \\langle \\Gamma_r \\rangle$')\n",
    "        if density_bool:ax_rprof.plot(q['rho'][irhomin:irhomax], q['dndt'][itscan,irhomin:irhomax],c='purple',label=r'$\\partial_t n$')\n",
    "        if same_y_range:ax_rprof.set_ylim(-4e-6,4e-6)\n",
    "\n",
    "        ax_rprof2 = fig.add_subplot(len(q_ar),2,2*iq+2)\n",
    "        \n",
    "        dt_P = np.gradient(q['P'],q['time'],axis=0)\n",
    "        dt_P_corrected = np.gradient(q['P_corrected'],q['time'],axis=0)\n",
    "        int_dndt = np.cumsum(q['dndt'][:,irhomin:irhomax],axis=1)\n",
    "        print(int_dndt.shape)\n",
    "                             \n",
    "        ax_rprof2.set_title(q['title'] + r' - Integrated vorticity')\n",
    "        if vorticity_bool:ax_rprof2.plot(q['rho'][irhomin:irhomax], dt_P[itscan,irhomin:irhomax],c='b',label=r'$\\partial_t \\langle -m ( \\frac{n}{B} \\partial_r \\phi + \\frac{m}{2eB^2} \\partial_r P_\\perp ) \\rangle$')\n",
    "        if vorticity_bool_corrected:ax_rprof2.plot(q['rho'][irhomin:irhomax], dt_P_corrected[itscan,irhomin:irhomax],c='g',label=r'$-m \\partial_t \\left( \\frac{n(t=0)}{B_0} \\partial_r \\phi_{00} + \\frac{m}{2eB_0^2} \\partial_r \\langle P_\\perp \\rangle_{FS} \\right)$')\n",
    "        if vorticity_bool_corrected:ax_rprof2.plot(q['rho'][irhomin:irhomax], dt_vorticity_corrected_int[itscan,:],c='grey',label=r'$-m \\partial_t \\left( \\frac{n(t=0)}{B_0} \\partial_r \\phi_{00} + \\frac{m}{2eB_0^2} \\partial_r \\langle P_\\perp \\rangle_{FS} \\right)$')\n",
    "        if current_bool:ax_rprof2.plot(q['rho'][irhomin:irhomax], -q['Jr'][itscan,irhomin:irhomax],c='r',label=r'-$e \\langle \\Gamma_r \\rangle $')\n",
    "        if current_bool:ax_rprof2.plot(q['rho'][irhomin:irhomax], -div_Jr_int[itscan,:],c='pink',label=r'-$e \\langle \\Gamma_r \\rangle $')\n",
    "        if density_bool:ax_rprof2.plot(q['rho'][irhomin:irhomax], int_dndt[itscan,:],c='purple',label=r'$\\int_{r_0}^r \\partial_t n$')\n",
    "        if same_y_range:ax_rprof2.set_ylim(-1e-5,1e-5)\n",
    "\n",
    "        for axes in [ax_rprof,ax_rprof2]:\n",
    "            axes.set_xlabel(r'$r/a$')\n",
    "            axes.axhline(y=0,c='k',ls='--')\n",
    "            axes.axvline(x=1,c='k',ls='--')\n",
    "            if iq==0:axes.legend()\n",
    "\n",
    "    fig.tight_layout(rect=[0, 0.03, 1, 0.95])\n",
    "    \n",
    "float_time_slider  = widgets.FloatSlider(value=90e3, min=0, max=200e3, step=1000, description='Time range', layout=Layout(width='50%'), style = {'description_width': 'initial'}, continuous_update=False)\n",
    "float_range_rho_slider  = widgets.FloatRangeSlider(value=[0.1, 1], min=0, max=1.2, step=0.05, description='Normalized radius range', layout=Layout(width='50%'), style = {'description_width': 'initial'}, continuous_update=False)\n",
    "\n",
    "coef_adjust  = widgets.FloatSlider(value=1.1, min=0.5, max=1, step=0.01, description='Coef adjust', layout=Layout(width='50%'), style = {'description_width': 'initial'}, continuous_update=False)\n",
    "\n",
    "interact(update_plot, \n",
    "         float_time     = float_time_slider,\n",
    "         float_range_rho  = float_range_rho_slider,\n",
    "         vorticity_bool = widgets.Checkbox(value=False,description='Display vorticity term'),\n",
    "         vorticity_bool_corrected = widgets.Checkbox(value=True,description='Display vorticity term corrected'),\n",
    "         current_bool   = widgets.Checkbox(value=True,description='Display current term'),\n",
    "         density_bool   = widgets.Checkbox(value=False,description='Display density term'),\n",
    "         same_y_range   = widgets.Checkbox(value=True,description='Same y range'),\n",
    "         **custom_widgets\n",
    "        )"
   ]
  },
  {
   "attachments": {},
   "cell_type": "markdown",
   "id": "5319d217",
   "metadata": {},
   "source": [
    "<a id='en_cours_assessment_pade_approx'></a>\n",
    "## <font color='coral'>**Travail en cours**</font> - Estimation de l'impact de l'approximation de Pade [▲](#sommaire)\n",
    "\n",
    "On compare $ \\partial_t \\langle n \\rangle_{FS}$ et  $- \\partial_t \\left( \\frac{m n_0}{B_0} \\langle \\phi \\rangle_{FS} +  \\frac{m}{2 e B_0^2} \\langle P_\\perp \\rangle_{FS} \\right) $"
   ]
  },
  {
   "cell_type": "code",
   "execution_count": 14,
   "id": "cf06c1d9",
   "metadata": {},
   "outputs": [
    {
     "data": {
      "application/vnd.jupyter.widget-view+json": {
       "model_id": "701b2b1627fc4571a5d58e57ef93205b",
       "version_major": 2,
       "version_minor": 0
      },
      "text/plain": [
       "interactive(children=(IntSlider(value=50, continuous_update=False, description='dpi_adjust', max=200, min=30),…"
      ]
     },
     "metadata": {},
     "output_type": "display_data"
    },
    {
     "data": {
      "text/plain": [
       "<function __main__.update_plot(dpi_adjust, float_time, float_range_rho, select_sim, same_y_range, bool_abs)>"
      ]
     },
     "execution_count": 14,
     "metadata": {},
     "output_type": "execute_result"
    }
   ],
   "source": [
    "plt.close('all')\n",
    "\n",
    "def update_plot(dpi_adjust,float_time,float_range_rho,select_sim,same_y_range,bool_abs):\n",
    "    \n",
    "    plt.close('all')\n",
    "    clear_output\n",
    "\n",
    "    q_ar = [q for q in all_sim if q['title'] in select_sim]\n",
    "    \n",
    "    fig = plt.figure(figsize=(16,8*len(q_ar)))\n",
    "\n",
    "    tscan = float_time\n",
    "    rhomin,rhomax = float_range_rho\n",
    "\n",
    "    fig.suptitle('Time : %.0f' % (tscan) + r' $[\\omega_{c0}^{-1}]$')\n",
    "\n",
    "    ## Set dpi of figure\n",
    "    if dpi_adjust!=dpi_custom:fig.set_dpi(dpi_adjust)\n",
    "    \n",
    "    for iq,q in enumerate(q_ar):\n",
    "\n",
    "\n",
    "        irhomin, irhomax = np.searchsorted(q['rho'],[rhomin,rhomax])\n",
    "        \n",
    "        itscan = np.searchsorted(q['time'],tscan)\n",
    "\n",
    "        dt_n = np.gradient(q['n'], q['time'],axis=0)\n",
    "\n",
    "        B0 = 1\n",
    "        P_corrected = -q['As'] *( (q['n'][0,:] / B0) * (np.gradient(q['Phi00'], q['rg'], axis=1)) + (2*q['Zs']*B0**2)**(-1) * np.gradient(q['Pperp'], q['rg'], axis=1) )\n",
    "        vorticity_corrected = np.gradient(q['P_corrected'],q['rg'],axis=1)\n",
    "        dt_vorticity = np.gradient(q['vorticity'],q['time'],axis=0)\n",
    "\n",
    "\n",
    "        ax_rprof = fig.add_subplot(len(q_ar),2,2*iq+1)\n",
    "        ax_rprof.set_title(q['title'])\n",
    "        ax_rprof.plot(q['rho'][irhomin:irhomax], dt_n[itscan,irhomin:irhomax],c='b',label=r'$\\partial_t \\langle n \\rangle$')\n",
    "        ax_rprof.plot(q['rho'][irhomin:irhomax], dt_vorticity[itscan,irhomin:irhomax],c='g',label=r'$\\partial_t \\langle \\Omega \\rangle$')\n",
    "\n",
    "        if same_y_range:ax_rprof.set_ylim(-4e-6,4e-6)\n",
    "\n",
    "        ax_rprof2 = fig.add_subplot(len(q_ar),2,2*iq+2)\n",
    "        ax_rprof2.set_title(q['title'] + ' - Absolute error')\n",
    "        if bool_abs:ax_rprof2.plot(q['rho'][irhomin:irhomax], np.abs((dt_n-dt_vorticity)[itscan,irhomin:irhomax]),c='r')\n",
    "        else:ax_rprof2.plot(q['rho'][irhomin:irhomax], (dt_n-dt_vorticity)[itscan,irhomin:irhomax],c='r')\n",
    "        ax_rprof2.axhline(y=0,c='k',ls='--')\n",
    "\n",
    "        for axes in [ax_rprof]:\n",
    "            axes.set_xlabel(r'$r/a$')\n",
    "            axes.axhline(y=0,c='k',ls='--')\n",
    "            axes.axvline(x=1,c='k',ls='--')\n",
    "            if iq==0:axes.legend()\n",
    "\n",
    "    fig.tight_layout(rect=[0, 0.03, 1, 0.95])\n",
    "    \n",
    "float_time_slider  = widgets.FloatSlider(value=90e3, min=0, max=200e3, step=1000, description='Time range', layout=Layout(width='50%'), style = {'description_width': 'initial'}, continuous_update=False)\n",
    "float_range_rho_slider  = widgets.FloatRangeSlider(value=[0.1, 1], min=0, max=1.2, step=0.05, description='Normalized radius range', layout=Layout(width='50%'), style = {'description_width': 'initial'}, continuous_update=False)\n",
    "\n",
    "coef_test  = widgets.FloatSlider(value=1.1, min=1e3, max=1e5, step=100, description='Coef adjust', layout=Layout(width='50%'), style = {'description_width': 'initial'}, continuous_update=False)\n",
    "\n",
    "interact(update_plot, \n",
    "         float_time     = float_time_slider,\n",
    "         float_range_rho  = float_range_rho_slider,\n",
    "         same_y_range   = widgets.Checkbox(value=True,description='Same y range'),\n",
    "         bool_abs   = widgets.Checkbox(value=False,description='Absolute error'),\n",
    "         **custom_widgets\n",
    "        )"
   ]
  },
  {
   "attachments": {},
   "cell_type": "markdown",
   "id": "9920631a",
   "metadata": {},
   "source": [
    "<a id='en_cours_absolute_error_current'></a>\n",
    "## <font color='coral'>**Travail en cours**</font> - Erreur absolue entre $- \\partial_t \\left( \\frac{m n_0}{B_0} \\langle \\phi \\rangle_{FS} +  \\frac{m}{2 e B_0^2} \\langle P_\\perp \\rangle_{FS} \\right) $ et $\\partial_r J_r$  [▲](#sommaire)"
   ]
  },
  {
   "cell_type": "code",
   "execution_count": 11,
   "id": "bfae0da5",
   "metadata": {},
   "outputs": [
    {
     "data": {
      "application/vnd.jupyter.widget-view+json": {
       "model_id": "d6a532dc936741cb995603efe801f3ae",
       "version_major": 2,
       "version_minor": 0
      },
      "text/plain": [
       "interactive(children=(IntSlider(value=50, continuous_update=False, description='dpi_adjust', max=200, min=30),…"
      ]
     },
     "metadata": {},
     "output_type": "display_data"
    },
    {
     "data": {
      "text/plain": [
       "<function __main__.update_plot(dpi_adjust, float_time, float_range_rho, float_range_rho2, select_sim, same_y_range)>"
      ]
     },
     "execution_count": 11,
     "metadata": {},
     "output_type": "execute_result"
    }
   ],
   "source": [
    "from scipy.stats import skew, kurtosis\n",
    "\n",
    "plt.close('all')\n",
    "\n",
    "def update_plot(dpi_adjust,float_time,float_range_rho,float_range_rho2,select_sim,\n",
    "                same_y_range):\n",
    "    \n",
    "    plt.close('all')\n",
    "    clear_output\n",
    "\n",
    "    q_ar = [q for q in all_sim if q['title'] in select_sim]\n",
    "    \n",
    "    fig = plt.figure(figsize=(28,8*len(q_ar)))\n",
    "\n",
    "    tscan = float_time\n",
    "    rhomin,rhomax = float_range_rho\n",
    "    rhominhist,rhomaxhist = float_range_rho2\n",
    "\n",
    "    fig.suptitle('Time : %.0f' % (tscan) + r' $[\\omega_{c0}^{-1}]$')\n",
    "\n",
    "    ## Set dpi of figure\n",
    "    if dpi_adjust!=dpi_custom:fig.set_dpi(dpi_adjust)\n",
    "    \n",
    "    for iq,q in enumerate(q_ar):\n",
    "\n",
    "        ax_rprof = fig.add_subplot(len(q_ar),3,3*iq+1)\n",
    "\n",
    "        irhomin, irhomax = np.searchsorted(q['rho'],[rhomin,rhomax])\n",
    "        \n",
    "        itscan = np.searchsorted(q['time'],tscan)\n",
    "        \n",
    "        B0 = 1\n",
    "        q['P_corrected'] = -q['As'] *( (q['n'][0,:] / B0) * (np.gradient(q['Phi00'], q['rg'], axis=1)) + (2*q['Zs']*B0**2)**(-1) * np.gradient(q['Pperp'], q['rg'], axis=1) )\n",
    "        q['vorticity_corrected'] = np.gradient(q['P_corrected'],q['rg'],axis=1)\n",
    "\n",
    "\n",
    "        dt_vorticity_corrected = np.gradient(q['vorticity_corrected'],q['time'],axis=0)\n",
    "        div_Jr       = np.gradient(q['Jr'],q['rg'],axis=1)\n",
    "\n",
    "        ax_rprof.set_title(q['title'] + ' - Vorticity')\n",
    "        ax_rprof.plot(q['rho'][irhomin:irhomax], dt_vorticity_corrected[itscan,irhomin:irhomax],c='g',label=r'$\\partial_t \\langle \\Omega \\rangle$')\n",
    "        ax_rprof.plot(q['rho'][irhomin:irhomax], -div_Jr[itscan,irhomin:irhomax],c='r',ls='-',label=r'-$ e \\partial_r \\langle \\Gamma_r \\rangle$')\n",
    "        if same_y_range:ax_rprof.set_ylim(-4e-6,4e-6)\n",
    "\n",
    "        ax_rprof2 = fig.add_subplot(len(q_ar),3,3*iq+2)      \n",
    "        ax_rprof2.set_title(q['title'] + r' - Absolute error')\n",
    "        ax_rprof2.plot(q['rho'][irhomin:irhomax], (dt_vorticity_corrected+div_Jr)[itscan,irhomin:irhomax],c='g')\n",
    "        if same_y_range:ax_rprof2.set_ylim(-5e-7,5e-7)\n",
    "\n",
    "        ax_rprof3 = fig.add_subplot(len(q_ar),3,3*iq+3)\n",
    "        ## Plot histogram of absolute error\n",
    "\n",
    "        ithist = np.searchsorted(q['time'],30000)\n",
    "        irhominhist = np.searchsorted(q['rho'],rhominhist)\n",
    "        irhomaxhist = np.searchsorted(q['rho'],rhomaxhist)\n",
    "\n",
    "        error = (dt_vorticity_corrected+div_Jr)[ithist:,irhominhist:irhomaxhist].flatten()\n",
    "        mean, std, skewness, kurt = np.mean(error), np.std(error), skew(error), kurtosis(error)\n",
    "\n",
    "        ax_rprof3.set_title(q['title'] + r' - Histogram')\n",
    "        ax_rprof3.hist( error ,bins=300, label='Mean = %.1e \\nStd = %.1e \\nSkewness = %.1e \\nKurtosis = %.1e' % (mean,std,skewness,kurt), color='r', alpha=0.5, density=True,log=True)\n",
    "\n",
    "\n",
    "        irhominhist2 = np.searchsorted(q['rho'],0.2)\n",
    "        irhomaxhist2 = np.searchsorted(q['rho'],0.9)        \n",
    "        error2 = np.hstack( ( (dt_vorticity_corrected+div_Jr)[ithist:,irhominhist2:irhominhist].flatten(), (dt_vorticity_corrected+div_Jr)[ithist:,irhomaxhist:irhomaxhist2].flatten() ) )\n",
    "        mean2, std2, skewness2, kurt2 = np.mean(error2), np.std(error2), skew(error2), kurtosis(error2)\n",
    "        ax_rprof3.hist( error2 ,bins=300, label='Mean = %.1e \\nStd = %.1e \\nSkewness = %.1e \\nKurtosis = %.1e' % (mean2,std2,skewness2,kurt2), color='b', alpha=0.5, density=True, log=True)\n",
    "\n",
    "        ax_rprof3.legend(ncol=2,fontsize=14)\n",
    "        ax_rprof3.axvline(x=0,c='k',ls='--')\n",
    "        ax_rprof3.text(0.05,0.6,'All time included \\nstarting '+ r'%.1e [$\\omega_{c0}^{-1}$]' % (q['time'][ithist]),transform=ax_rprof3.transAxes,fontsize=14)\n",
    "\n",
    "        ax_rprof2.axvline(x=q['rho'][irhominhist],c='r',lw=5,alpha=0.5)\n",
    "        ax_rprof2.axvline(x=q['rho'][irhomaxhist],c='r',lw=5,alpha=0.5)\n",
    "\n",
    "        ax_rprof2.axvline(x=q['rho'][irhominhist-2],c='b',lw=5,alpha=0.5)\n",
    "        ax_rprof2.axvline(x=q['rho'][irhomaxhist+2],c='b',lw=5,alpha=0.5)\n",
    "        ax_rprof2.axvline(x=q['rho'][irhominhist2],c='b',lw=5,alpha=0.5)\n",
    "        ax_rprof2.axvline(x=q['rho'][irhomaxhist2],c='b',lw=5,alpha=0.5)\n",
    "\n",
    "        ax_rprof2.hlines(y=mean,xmin=q['rho'][irhominhist],xmax=q['rho'][irhomaxhist],colors='r',ls='-',lw=5,alpha=0.5,zorder=10)\n",
    "        ax_rprof2.hlines(y=[mean2,mean2],xmin=[q['rho'][irhominhist2],q['rho'][irhomaxhist]] ,xmax=[q['rho'][irhominhist],q['rho'][irhomaxhist2]]  ,colors='b',ls='-',lw=5,alpha=0.5,zorder=10)\n",
    "\n",
    "        for axes in [ax_rprof,ax_rprof2]:\n",
    "            axes.set_xlabel(r'$r/a$')\n",
    "            axes.axhline(y=0,c='k',ls='--')\n",
    "            axes.axvline(x=1,c='k',ls='--')\n",
    "        if iq==0:ax_rprof.legend()\n",
    "\n",
    "        print(mean*(irhomaxhist-irhominhist))\n",
    "\n",
    "    #fig.tight_layout(rect=[0, 0.03, 1, 0.95])\n",
    "    \n",
    "float_time_slider        = widgets.FloatSlider(value=90e3, min=0, max=200e3, step=1000, description='Time range', layout=Layout(width='50%'), style = {'description_width': 'initial'}, continuous_update=False)\n",
    "float_range_rho_slider   = widgets.FloatRangeSlider(value=[0.1, 1], min=0, max=1.2, step=0.05, description='Radial range for plot', layout=Layout(width='50%'), style = {'description_width': 'initial'}, continuous_update=False)\n",
    "float_range_rho_slider2  = widgets.FloatRangeSlider(value=[0.6, 0.75], min=0, max=1.2, step=0.05, description='Radial range for histograms', layout=Layout(width='50%'), style = {'description_width': 'initial'}, continuous_update=False)\n",
    "\n",
    "coef_adjust  = widgets.FloatSlider(value=1.1, min=0.5, max=1, step=0.01, description='Coef adjust', layout=Layout(width='50%'), style = {'description_width': 'initial'}, continuous_update=False)\n",
    "\n",
    "interact(update_plot, \n",
    "         float_time     = float_time_slider,\n",
    "         float_range_rho  = float_range_rho_slider,\n",
    "         float_range_rho2  = float_range_rho_slider2,\n",
    "         same_y_range   = widgets.Checkbox(value=False,description='Same y range'),\n",
    "         **custom_widgets\n",
    "        )"
   ]
  },
  {
   "attachments": {},
   "cell_type": "markdown",
   "id": "d8538d86",
   "metadata": {},
   "source": [
    "<a id='en_cours_cons_vorticity_withdia'></a>\n",
    "## <font color='coral'>**Travail en cours**</font> - Conservation de la vorticité (avec tenseur diamagnétique) [▲](#sommaire)\n",
    "\n",
    "Ici on vérifie l'équation 7 du papier [Y.Sazarin,PPCF2021] --> $\\partial_t ( \\partial_r \\Phi_{00} ) + \\frac{1}{r^2} \\partial_r (r^2 (\\Pi_E + \\Pi^\\star)) = RHS$ où ici est considéré $RHS = 0$."
   ]
  },
  {
   "cell_type": "code",
   "execution_count": 21,
   "id": "a20fa1b9",
   "metadata": {},
   "outputs": [
    {
     "data": {
      "application/vnd.jupyter.widget-view+json": {
       "model_id": "54f126ae855f4912bdfcf477c46a7237",
       "version_major": 2,
       "version_minor": 0
      },
      "text/plain": [
       "interactive(children=(IntSlider(value=100, continuous_update=False, description='dpi_adjust', max=200, min=30)…"
      ]
     },
     "metadata": {},
     "output_type": "display_data"
    },
    {
     "data": {
      "text/plain": [
       "<function __main__.update_plot(dpi_adjust, float_time, float_range_rho, select_sim, coef_adjust, same_y_range)>"
      ]
     },
     "execution_count": 21,
     "metadata": {},
     "output_type": "execute_result"
    }
   ],
   "source": [
    "plt.close('all')\n",
    "\n",
    "def update_plot(dpi_adjust,float_time,float_range_rho,select_sim,\n",
    "                coef_adjust,same_y_range):\n",
    "    \n",
    "    plt.close('all')\n",
    "    clear_output\n",
    "\n",
    "    q_ar = [q for q in all_sim if q['title'] in select_sim]\n",
    "    \n",
    "    fig = plt.figure(figsize=(16,8*len(q_ar)))\n",
    "\n",
    "    tscan = float_time\n",
    "    rhomin,rhomax = float_range_rho\n",
    "\n",
    "    fig.suptitle('Time : %.0f' % (tscan) + r' $[\\omega_{c0}^{-1}]$')\n",
    "\n",
    "    ## Set dpi of figure\n",
    "    if dpi_adjust!=dpi_custom:fig.set_dpi(dpi_adjust)\n",
    "    \n",
    "    for iq,q in enumerate(q_ar):\n",
    "\n",
    "        ax_rprof = fig.add_subplot(len(q_ar),2,2*iq+1)\n",
    "\n",
    "        irhomin, irhomax = np.searchsorted(q['rho'],[rhomin,rhomax])\n",
    "        \n",
    "        itscan = np.searchsorted(q['time'],tscan)\n",
    "        \n",
    "        classic_integrated_vorticity_evolution = np.gradient( np.gradient(q['Phi00'], q['rg'], axis=1), q['time'], axis=0)\n",
    "        integrated_tensor_laplacian = q['rg']**(-2) * np.gradient(q['RSpol_tot_from3D'] * q['rg']**2,q['rg'],axis=1)\n",
    "        # integrated_tensor_laplacian = q['rg']**(-2) * np.gradient(q['RSpol_vE_from3D'] * q['rg']**2,q['rg'],axis=1)\n",
    "        # integrated_tensor_laplacian = q['rg']**(-2) * np.gradient(q['RSpol_vE'] * q['rg']**2,q['rg'],axis=1)\n",
    "        # integrated_tensor_laplacian = q['rg']**(-2) * np.gradient(q['RSdia'] * q['rg']**2,q['rg'],axis=1)\n",
    "\n",
    "        classic_vorticity_evolution = np.gradient( classic_integrated_vorticity_evolution, q['rg'], axis=1)\n",
    "        tensor_laplacian = np.gradient( integrated_tensor_laplacian, q['rg'], axis=1)\n",
    "\n",
    "        ax_rprof.set_title(q['title'] + ' - Vorticity')\n",
    "        ax_rprof.plot(q['rho'][irhomin:irhomax], classic_vorticity_evolution[itscan,irhomin:irhomax],c='b',label=r'$\\partial_t ( \\partial^2_r \\Phi_{00} )$')\n",
    "        ax_rprof.plot(q['rho'][irhomin:irhomax], -tensor_laplacian[itscan,irhomin:irhomax],c='g',label=r'$- \\partial_r (\\frac{1}{r^2} \\partial_r (r^2 (\\Pi_E + \\Pi^\\star)))$')\n",
    "        if same_y_range:ax_rprof.set_ylim(-4e-6,4e-6)\n",
    "\n",
    "        ax_rprof2 = fig.add_subplot(len(q_ar),2,2*iq+2)\n",
    "                             \n",
    "        ax_rprof2.set_title(q['title'] + r' - Integrated vorticity')\n",
    "        ax_rprof2.plot(q['rho'][irhomin:irhomax], classic_integrated_vorticity_evolution[itscan,irhomin:irhomax],c='b',label=r'$\\partial_t ( \\partial_r \\Phi_{00} )$')\n",
    "        ax_rprof2.plot(q['rho'][irhomin:irhomax], -integrated_tensor_laplacian[itscan,irhomin:irhomax],c='g',label=r'$- \\frac{1}{r^2} \\partial_r (r^2 (\\Pi_E + \\Pi^\\star))$')\n",
    "        if same_y_range:ax_rprof2.set_ylim(-1e-5,1e-5)\n",
    "\n",
    "        for axes in [ax_rprof,ax_rprof2]:\n",
    "            axes.set_xlabel(r'$r/a$')\n",
    "            axes.axhline(y=0,c='k',ls='--')\n",
    "            axes.axvline(x=1,c='k',ls='--')\n",
    "            if iq==0:axes.legend()\n",
    "\n",
    "    fig.tight_layout(rect=[0, 0.03, 1, 0.95])\n",
    "    \n",
    "float_time_slider  = widgets.FloatSlider(value=90e3, min=0, max=200e3, step=1000, description='Time range', layout=Layout(width='50%'), style = {'description_width': 'initial'}, continuous_update=False)\n",
    "float_range_rho_slider  = widgets.FloatRangeSlider(value=[0.1, 1], min=0, max=1.2, step=0.05, description='Normalized radius range', layout=Layout(width='50%'), style = {'description_width': 'initial'}, continuous_update=False)\n",
    "\n",
    "coef_adjust  = widgets.FloatSlider(value=1.1, min=0.5, max=1, step=0.01, description='Coef adjust', layout=Layout(width='50%'), style = {'description_width': 'initial'}, continuous_update=False)\n",
    "\n",
    "interact(update_plot, \n",
    "         float_time     = float_time_slider,\n",
    "         float_range_rho  = float_range_rho_slider,\n",
    "         same_y_range   = widgets.Checkbox(value=True,description='Same y range'),\n",
    "         coef_adjust    = coef_adjust,\n",
    "         **custom_widgets\n",
    "        )"
   ]
  },
  {
   "attachments": {},
   "cell_type": "markdown",
   "id": "7c0567fb",
   "metadata": {},
   "source": [
    "<a id='en_cours_rprof_energy_evo_terms'></a>\n",
    "## <font color='coral'>**Travail en cours**</font> - Profil des termes dans l'équation $\\frac{1}{2} \\partial_t V_E^2 = - \\langle \\Pi_{r\\theta} \\rangle V_E - \\nu_\\theta (V_E - V_{neo}) V_E$ [▲](#sommaire)\n",
    "/!\\ Ici on estime $- \\nu_\\theta (V_E - V_{neo}) V_E = \\frac{1}{2} \\partial_t V_E^2 + \\langle \\Pi_{r\\theta} \\rangle V_E$ donc on ne vérifie pas une conservation, au contraire on estime qu'elle est toujours vérifiée ce qui permet d'estimer le terme néoclassique"
   ]
  },
  {
   "cell_type": "code",
   "execution_count": null,
   "id": "2fd3d3eb",
   "metadata": {},
   "outputs": [],
   "source": [
    "def update_plot(dpi_adjust,float_range_time,select_sim,prefactor_bool):\n",
    "\n",
    "   tmin_avg,tmax_avg = float_range_time\n",
    "   \n",
    "   q_ar = [q for q in all_sim if q['title'] in select_sim]\n",
    "\n",
    "   fig = plt.figure(figsize=(6*len(q_ar),12), dpi=dpi_adjust)\n",
    "\n",
    "   for iq,q in enumerate(q_ar):\n",
    "\n",
    "      irhomin, irhomax = np.searchsorted(q['rho'],[0.0,1.1])\n",
    "      itmin, itmax     = np.searchsorted(q['time'],[tmin_avg,tmax_avg])\n",
    "\n",
    "      if prefactor_bool:\n",
    "         term1 = q['tevol_VEsq']\n",
    "         term2 = q['neo_energy_evol_w_prefactor']\n",
    "         term3 = q['Ptransfert_w_prefactor']\n",
    "      else :\n",
    "         term1 = q['tevol_VEsq']\n",
    "         term2 = q['neo_energy_evol']\n",
    "         term3 = q['Ptransfert']\n",
    "\n",
    "      ax = fig.add_subplot(len(q_ar),1,iq+1)\n",
    "      ax.set_title(q['title'])\n",
    "      ax.plot(q['rho'][irhomin:irhomax], np.mean(term1[itmin:itmax,irhomin:irhomax],axis=0), label=r'$ \\frac{1}{2}\\partial_t V_E^2$',c='xkcd:blue',lw=3, ls='-')\n",
    "      ax.plot(q['rho'][irhomin:irhomax], np.mean(term2[itmin:itmax,irhomin:irhomax],axis=0), label=r'$- \\nu_\\theta (V_E - V_{neo}) V_E$',c='xkcd:red',lw=3, ls='-')\n",
    "      ax.plot(q['rho'][irhomin:irhomax], np.mean(term3[itmin:itmax,irhomin:irhomax],axis=0), label=r'$-\\langle \\Pi_{r\\theta} \\times V_{E\\theta} \\rangle$',c='xkcd:purple',lw=3, ls='-')\n",
    "      ax.axhline(y=0,c='k',ls='--')\n",
    "      ax.legend(loc=('center left'))\n",
    "      ax.set_xlabel(r'$r/a$')\n",
    "      ax.axvline(x=1,c='k',ls='--')\n",
    "   fig.tight_layout(rect=[0, 0.03, 1, 0.95])\n",
    "   \n",
    "float_range_time_slider = widgets.FloatRangeSlider(value=[100e3, 145e3], min=0, max=150e3, step=1000, description='Time range', layout=Layout(width='50%'), style = {'description_width': 'initial'}, continuous_update=False)\n",
    "\n",
    "interact(update_plot, \n",
    "         float_range_time = float_range_time_slider,\n",
    "         prefactor_bool   = widgets.Checkbox(value=True,description=r'With prefactor $1+2q^2$'),\n",
    "         **custom_widgets\n",
    "        )"
   ]
  },
  {
   "attachments": {},
   "cell_type": "markdown",
   "id": "524c1106",
   "metadata": {},
   "source": [
    "<a id='en_cours_estimation_nutheta'></a>\n",
    "## <font color='coral'>**Travail en cours**</font> - Estimation de $\\nu_\\theta$ sur les simus néoclassiques [▲](#sommaire)"
   ]
  },
  {
   "cell_type": "code",
   "execution_count": null,
   "id": "9012abdd",
   "metadata": {},
   "outputs": [],
   "source": [
    "def update_plot(dpi_adjust,float_range_time,select_sim):\n",
    "\n",
    "   tmin_avg,tmax_avg     = float_range_time\n",
    "\n",
    "   q_ar = [q for q in all_sim if q['title'] in select_sim]\n",
    "   \n",
    "   fig = plt.figure(figsize=(6*len(q_ar),12), dpi=dpi_adjust)\n",
    "\n",
    "   ax  = fig.add_subplot(111)\n",
    "\n",
    "   for q in q_ar:\n",
    "\n",
    "      irhomin, irhomax = np.searchsorted(q['rho'],[0.0,1.1])\n",
    "      itmin, itmax     = np.searchsorted(q['time'],[tmin_avg,tmax_avg])\n",
    "\n",
    "      #ax = fig.add_subplot(len(q_ar),1,iq+1)\n",
    "      ax.set_title(q['title'])\n",
    "      ax.plot(np.mean(q['Er'][itmin:itmax,irhomin:irhomax],axis=1), \n",
    "              np.mean(q['dErdr'][itmin:itmax,irhomin:irhomax],axis=1), \n",
    "              label=q['title'],c=q['c'],lw=3, ls='-')\n",
    "      #ax.axhline(y=0,c='k',ls='--')\n",
    "      ax.legend()\n",
    "      ax.set_xlabel(r'$E_r$')\n",
    "   fig.tight_layout(rect=[0, 0.03, 1, 0.95])\n",
    "   \n",
    "float_range_time_slider = widgets.FloatRangeSlider(value=[10e3, 70e3], min=0, max=150e3, step=1000, description='Time range', layout=Layout(width='50%'), style = {'description_width': 'initial'}, continuous_update=False)\n",
    "\n",
    "interact(update_plot, \n",
    "         float_range_time = float_range_time_slider,\n",
    "         **custom_widgets)"
   ]
  },
  {
   "attachments": {},
   "cell_type": "markdown",
   "id": "60c4ce95",
   "metadata": {},
   "source": [
    "<a id='en_cours_profile_amplitude_GAMs_ZFs'></a>\n",
    "## <font color='coral'>**Travail en cours**</font> - Profil amplitude GAMs et ZFs [▲](#sommaire)"
   ]
  },
  {
   "cell_type": "code",
   "execution_count": 13,
   "id": "da0ce6cf",
   "metadata": {},
   "outputs": [
    {
     "data": {
      "application/vnd.jupyter.widget-view+json": {
       "model_id": "9f84ce0aa22840fea70d22d09c6f2283",
       "version_major": 2,
       "version_minor": 0
      },
      "text/plain": [
       "interactive(children=(IntSlider(value=1, continuous_update=False, description='N', min=1), FloatSlider(value=0…"
      ]
     },
     "metadata": {},
     "output_type": "display_data"
    },
    {
     "data": {
      "text/plain": [
       "<function __main__.update_plot(N, colormap_range, dpi_adjust, param, float_range_time, float_range_rho, show_omega_theo, select_sim, int_range_mode)>"
      ]
     },
     "execution_count": 13,
     "metadata": {},
     "output_type": "execute_result"
    }
   ],
   "source": [
    "plt.close('all')\n",
    "\n",
    "symetrical_cmap = 0\n",
    "def update_plot(N,colormap_range,dpi_adjust,param,float_range_time,float_range_rho,show_omega_theo,\n",
    "               select_sim,\n",
    "               int_range_mode):\n",
    "    \n",
    "    tmin_avg,tmax_avg     = float_range_time\n",
    "    rhomin_avg,rhomax_avg = float_range_rho\n",
    "    modemin,modemax       = int_range_mode\n",
    "    \n",
    "    q_ar = [q for q in all_sim if q['title'] in select_sim]\n",
    "    \n",
    "    plt.close('all')\n",
    "    \n",
    "    fig = plt.figure(figsize=(16,10), dpi=dpi_adjust)\n",
    "    fig.suptitle(r'Study of %s' %param)\n",
    "\n",
    "    Pmap = uniform_filter1d(uniform_filter1d(all_sim[0][param],size=N,axis=1),size=N,axis=1)\n",
    "    if symetrical_cmap:\n",
    "        vmin = colormap_range*min( abs( np.min(Pmap) ), abs( np.max(Pmap) ) ) \n",
    "        vmax = -vmin\n",
    "    else:\n",
    "        vmin = colormap_range*np.min(Pmap) \n",
    "        vmax = colormap_range*np.max(Pmap) \n",
    "\n",
    "    gs = gridspec.GridSpec(5, 2*len(q_ar))\n",
    "    \n",
    "    for iq,q in enumerate(q_ar):\n",
    "        \n",
    "        irhomin, irhomax = np.searchsorted(q['rho'], [0.2, 1.1])\n",
    "        itmin, itmax = np.searchsorted(q['time'], [100e3, 200e3])\n",
    "\n",
    "        print(q['time'][itmin])\n",
    "\n",
    "        p_ma = uniform_filter1d(uniform_filter1d(q[param],size=N,axis=1),size=N,axis=1)\n",
    "        \n",
    "        ## Figure 1\n",
    "        ax_map = fig.add_subplot(gs[0:3, 2*iq:2*iq+2]) \n",
    "\n",
    "        ax_map.set_title(q['title'])\n",
    "        p=ax_map.pcolormesh(q['rho'][irhomin:irhomax],q['time'][itmin:itmax],p_ma[itmin:itmax,irhomin:irhomax],vmin=vmin,vmax=vmax)\n",
    "        fig.colorbar(p,ax=ax_map)\n",
    "        ax_map.set_xlabel(r'$r/a$')\n",
    "        ax_map.set_ylabel(r'Time $[\\omega_{c0}^{-1}]$')\n",
    "\n",
    "        ax_map.axvline(x=1,c='k',ls='--')\n",
    "        for rline in [0.8,0.6,0.4,0.2]:ax_map.axvline(x=rline,c='k',ls='--')\n",
    "        ax_map.set_xticks([1.0,0.8,0.6,0.4,0.2])\n",
    "        \n",
    "        ax_map.axvline(x=rhomin_avg,c='g',ls='-')\n",
    "        ax_map.axvline(x=rhomax_avg,c='g',ls='-')\n",
    "        \n",
    "        ax_map.axhline(y=tmin_avg,c='r',ls='-')\n",
    "        ax_map.axhline(y=tmax_avg,c='r',ls='-')\n",
    "\n",
    "        ax_map.set_xlim([0.2,1.1])\n",
    "        \n",
    "        if N>1: ax_map.plot(q['rho'][40:40+N],np.ones(N)*ax_map.get_ylim()[1]*3/4,c='xkcd:battleship grey',lw=5) #Visualisation de la fenêtre de la moyenne glissante\n",
    "        \n",
    "        ##Figure 2\n",
    "        itmin_avg, itmax_avg     = np.searchsorted(q['time'],[tmin_avg,tmax_avg])\n",
    "        irhomin_avg, irhomax_avg = np.searchsorted(q['rho'],[rhomin_avg,rhomax_avg])\n",
    "        \n",
    "        #Perform fft\n",
    "        dt_diag = q['time'][-1]-q['time'][-2]\n",
    "        fspectra = np.fft.rfft(p_ma[itmin_avg:itmax_avg,:], axis=0) / (itmax_avg-itmin_avg)\n",
    "        w = np.fft.rfftfreq(itmax_avg-itmin_avg, d=dt_diag)\n",
    "        \n",
    "        ax_fspectra = fig.add_subplot(gs[3:, 0:len(q_ar)]) \n",
    "        ax_fspectra.set_title(r'Fourier amplitude (avg %.2f < r/a < %.2f)' % (rhomin_avg , rhomax_avg) )\n",
    "        ax_fspectra.semilogy(w,2*np.mean(np.abs(fspectra[:,irhomin_avg:irhomax_avg])**2 * ((itmax_avg-itmin_avg)*dt_diag),axis=1),c=q['c'],label=q['title'],ls='-',marker='o',markersize=3,mfc=q['c'], mec=q['c'], alpha=0.5)\n",
    "        ax_fspectra.set_xlabel(r'$\\omega [\\omega_{c0}]$')\n",
    "        ax_fspectra.legend(fontsize=14)\n",
    "        ax_fspectra.axvline(x=w[modemin], ls='--', c='g',lw=1); ax_fspectra.axvline(x=w[modemax], ls='--', c='g',lw=1)\n",
    "\n",
    "        #Fréquence GAM théorique\n",
    "        if show_omega_theo:\n",
    "            omega_theo = np.mean( np.mean( (2*np.sqrt(q['T'] * (5/3) *(1 + (1/(2*q['q']**2) ) )) /800)[itmin_avg:itmax_avg] ,axis=0)[irhomax_avg-1:irhomax_avg] ) / (2 * np.pi)\n",
    "            ax_fspectra.axvline(x=omega_theo,c=q['c'],ls='--')\n",
    "\n",
    "        irholimmin = (np.abs(q['rho'] - 0.5 )).argmin()\n",
    "        irholimmax = (np.abs(q['rho'] - 1 )).argmin()\n",
    "        ax_rprof = fig.add_subplot(gs[3:, len(q_ar):]) \n",
    "        ax_rprof.set_title(r'Profile of avg $\\omega = %.1e < \\omega [\\omega_{c0}] < %.1e$ component' % (w[modemin],w[modemax]) )\n",
    "        ax_rprof.semilogy(q['rho'][irholimmin:irholimmax], \n",
    "                      np.mean( 2*np.abs(fspectra[modemin:modemax,irholimmin:irholimmax])**2 * ((itmax_avg-itmin_avg)*dt_diag), axis=0), c=q['c']\n",
    "                     )\n",
    "        \n",
    "    fig.tight_layout(rect=[0, 0.03, 1, 0.95])\n",
    "\n",
    "float_range_time_slider = widgets.FloatRangeSlider(value=[100e3, 190e3], min=0, max=210e3, step=1000, description='Time range', layout=Layout(width='50%'), style = {'description_width': 'initial'}, continuous_update=False)\n",
    "float_range_rho_slider  = widgets.FloatRangeSlider(value=[0.8, 0.9], min=0, max=1.2, step=0.01, description='Normalized radius range', layout=Layout(width='50%'), style = {'description_width': 'initial'}, continuous_update=False)\n",
    "int_range_mode_slider   = widgets.IntRangeSlider(value=[20, 30], min=0, max=100, description='Frequency range', layout=Layout(width='50%'), style = {'description_width': 'initial'}, continuous_update=False)\n",
    "\n",
    "#custom_widgets['param'].value = 'Ptransfert'\n",
    "\n",
    "interact(update_plot, \n",
    "         #mode             = widgets.IntSlider(min=0, max=50, step=1,value=0, continuous_update=False),\n",
    "         int_range_mode   = int_range_mode_slider,\n",
    "         overlap_factor   = widgets.FloatSlider(min=0, max=1, step=0.05,value=0.8),\n",
    "         float_range_time = float_range_time_slider,\n",
    "         float_range_rho  = float_range_rho_slider,\n",
    "         colormap_range   = widgets.FloatSlider(min=0.1, max=2, step=0.05,value=0.8, continuous_update=False),\n",
    "         show_omega_theo  = widgets.Checkbox(value=False,description=r'Display $\\omega_{theo}$'),\n",
    "         **custom_widgets\n",
    "        )"
   ]
  },
  {
   "attachments": {},
   "cell_type": "markdown",
   "id": "98d649ab-1432-4a58-b492-e14c3f01e734",
   "metadata": {
    "id": "98d649ab-1432-4a58-b492-e14c3f01e734",
    "tags": []
   },
   "source": [
    "<a id='resultat_rprof_safety_factor'></a>\n",
    "## <font color='red'>**Résultat**</font> - Profil radial du **facteur de sécurité** $q$ [▲](#sommaire)"
   ]
  },
  {
   "cell_type": "code",
   "execution_count": 24,
   "id": "f361416e-79af-482b-a88e-20b7d748847e",
   "metadata": {
    "colab": {
     "referenced_widgets": [
      "f8623ee12bee4a669ea4794f0f52f007",
      "be245138870f40cb9d4ed18987d127bc"
     ]
    },
    "collapsed": true,
    "id": "f361416e-79af-482b-a88e-20b7d748847e",
    "jupyter": {
     "outputs_hidden": true,
     "source_hidden": true
    },
    "outputId": "e1de46bd-dde5-4365-dc0a-74644c15adef",
    "tags": []
   },
   "outputs": [
    {
     "data": {
      "application/vnd.jupyter.widget-view+json": {
       "model_id": "2974bac66f27441ca1962a507c556e58",
       "version_major": 2,
       "version_minor": 0
      },
      "text/plain": [
       "Canvas(toolbar=Toolbar(toolitems=[('Home', 'Reset original view', 'home', 'home'), ('Back', 'Back to previous …"
      ]
     },
     "metadata": {},
     "output_type": "display_data"
    }
   ],
   "source": [
    "plt.rc('font',size=20)\n",
    "#q_ar = [qprof_05,qprof_1,qprof_15]\n",
    "q_ar = all_sim\n",
    "\n",
    "fig = plt.figure(figsize=(8,8))\n",
    "ax1 = fig.add_subplot(111)\n",
    "#ax1.set_title('Safety factor')\n",
    "for iq,q in enumerate(q_ar):\n",
    "    irhomin, irhomax = np.searchsorted(q['rho'],[0.2,1.0])\n",
    "\n",
    "    irho = (np.abs(q['rho'] - 0.95 )).argmin()\n",
    "    ax1.plot(q['rho'][irhomin:irhomax], q['q'][irhomin:irhomax], label=q['title']+r', $q_{95} = %.1f$' % q['q'][irho],c=q['c'],lw=4,marker=q['marker'],markevery=me)\n",
    "ax1.legend()\n",
    "ax1.set_xlabel(r'$r/a$')\n",
    "ax1.set_ylabel(r'$q$')\n",
    "ax1.axvline(x=1,ls='--',c='k'); ax1.axhline(y=0,ls='--',c='k')\n",
    "ax1.set_xlim(left=q['rho'][irhomin],right=q['rho'][irhomax])\n",
    "\n",
    "ax1.axhline(y=1,c='g',ls='-.',lw=3)\n",
    "ax1.text(x=0.9, y=0.9, s=r'$q=1$', verticalalignment='top',c='g')\n",
    "\n",
    "fig.tight_layout(rect=[0, 0.03, 1, 0.95])\n",
    "\n",
    "fig.set_size_inches(8, 8)\n",
    "fig.savefig('Figures/rprof_q_profiles.pdf', format='pdf', bbox_inches='tight')"
   ]
  },
  {
   "attachments": {},
   "cell_type": "markdown",
   "id": "a57b631b-9267-40be-978f-394fa52ff4db",
   "metadata": {
    "id": "a57b631b-9267-40be-978f-394fa52ff4db",
    "jupyter": {
     "outputs_hidden": true
    },
    "tags": []
   },
   "source": [
    "<a id='resultat_rprof_reynolds_stress'></a>\n",
    "## <font color='red'>**Résultat**</font> - Profil radial du **tenseur de Reynolds $\\Pi_{r \\theta}$** (moyenné en temps **et** coarse-grained) [▲](#sommaire)"
   ]
  },
  {
   "cell_type": "code",
   "execution_count": null,
   "id": "cff9ce31-f10f-4283-83b4-3e65a0c07444",
   "metadata": {
    "colab": {
     "referenced_widgets": [
      "8696f7578d684091b1701b57ccd0c4ec"
     ]
    },
    "collapsed": true,
    "id": "cff9ce31-f10f-4283-83b4-3e65a0c07444",
    "jupyter": {
     "outputs_hidden": true,
     "source_hidden": true
    },
    "outputId": "b60bfa90-5497-4bd7-c60a-112fdeb0a59c",
    "tags": []
   },
   "outputs": [],
   "source": [
    "q_ar = [qprof_05,qprof_1,qprof_15]\n",
    "\n",
    "fig = plt.figure(figsize=(8,8))\n",
    "#fig.suptitle(p)\n",
    "ax1 = fig.add_subplot(111)\n",
    "\n",
    "N=60\n",
    "def u1d(X):return uniform_filter1d(uniform_filter1d(X,size=N),size=N)\n",
    "\n",
    "def g1d(X):\n",
    "    return gaussian_filter1d(X,sigma=N)\n",
    "\n",
    "for iq,q in enumerate(q_ar):\n",
    "    \n",
    "    irhomin, irhomax = np.searchsorted(q['rho'],[0.1,1.0])\n",
    "    itmin, itmax     = np.searchsorted(q['time'],[100.0e3,145.0e3])\n",
    "    \n",
    "    ax1.plot(q['rho'][irhomin:irhomax], np.mean(q['RSpol'][itmin:itmax,irhomin:irhomax],axis=0),ls='--',c=q['c'],lw=2)\n",
    "    ax1.plot(q['rho'][irhomin:irhomax], u1d(np.mean(q['RSpol'][itmin:itmax,irhomin:irhomax],axis=0)),c=q['c'],label=q['title'],lw=4)\n",
    "\n",
    "    ax1.axhline(y=0,ls='--',c='k')\n",
    "\n",
    "ax1.set_ylabel(r'$\\Pi_{r \\theta}$ $[V_{T0}^2]$')\n",
    "\n",
    "ax1.ticklabel_format(axis='y',scilimits=(-1,2),useMathText=True)\n",
    "\n",
    "ax1.legend(loc='lower right')\n",
    "ax1.set_xlabel(r'$r/a$')\n",
    "\n",
    "plt.text(x=0.01, y=0.9, s='Plain: coarse-grained \\ndashed: time average only', transform=ax1.transAxes)\n",
    "\n",
    "fig.tight_layout(rect=[0, 0.03, 1, 0.95])\n",
    "\n",
    "fig.savefig('Figures/rprof_RSpol_scanq.pdf', format='pdf', bbox_inches='tight')"
   ]
  },
  {
   "attachments": {},
   "cell_type": "markdown",
   "id": "9559bffb-1592-4053-96e4-f40d358181dc",
   "metadata": {
    "id": "9559bffb-1592-4053-96e4-f40d358181dc"
   },
   "source": [
    "<a id='resultat_rprof_div_reynolds_stress'></a>\n",
    "## <font color='red'>**Résultat**</font> - Profil radial du **coarse-grained $- \\nabla \\cdot \\Pi_{r_\\theta}$ avec une fenêtre radiale de $\\sim 40 \\rho_i$** [▲](#sommaire)"
   ]
  },
  {
   "cell_type": "code",
   "execution_count": null,
   "id": "8b15afb5-51c7-4a27-afe7-481edfca5ba1",
   "metadata": {
    "colab": {
     "referenced_widgets": [
      "17f0bb0aeb844b8ea54fd6a89239f495"
     ]
    },
    "collapsed": true,
    "id": "8b15afb5-51c7-4a27-afe7-481edfca5ba1",
    "jupyter": {
     "outputs_hidden": true,
     "source_hidden": true
    },
    "outputId": "0ea27479-6a80-401a-d859-75533cd77216",
    "tags": []
   },
   "outputs": [],
   "source": [
    "q_ar = [qprof_05,qprof_1,qprof_15]\n",
    "\n",
    "param_ar = ['dRSpoldr']\n",
    "\n",
    "N=60\n",
    "Ng=30\n",
    "\n",
    "for ip,p in enumerate(param_ar):\n",
    "    fig = plt.figure(figsize=(8,6))\n",
    "    ax1 = fig.add_subplot(111)\n",
    "    for iq,q in enumerate(q_ar):\n",
    "\n",
    "        irhomin, irhomax = np.searchsorted(q['rho'],[0.0,1.0])\n",
    "        itmin, itmax     = np.searchsorted(q['time'],[100.0e3,145.0e3])\n",
    "        \n",
    "        p_ma = uniform_filter1d(uniform_filter1d(np.mean(q[p][itmin:itmax,irhomin:irhomax],axis=0),size=N),size=N)\n",
    "        p_ga = gaussian_filter1d(np.mean(q[p][itmin:itmax,:],axis=0),sigma=Ng)[irhomin:irhomax]\n",
    "        \n",
    "        ax1.plot(q['rho'][irhomin:irhomax], -p_ma, label=q['title'],lw=3,c=q['c'], ls='-')\n",
    "        ax1.axhline(y=0,c='k',ls='--')\n",
    "        \n",
    "        \n",
    "    ax1.legend()\n",
    "    ax1.set_xlabel(r'$r/a$')\n",
    "    ax1.set_ylabel(r'$-\\langle \\nabla \\cdot \\Pi_{r \\theta} \\rangle_{CG}$')\n",
    "    \n",
    "    fig.tight_layout()\n",
    "    \n",
    "    fig.savefig('Figures/rprof_divPiCG_scanq.pdf', format='pdf', bbox_inches='tight')"
   ]
  },
  {
   "attachments": {},
   "cell_type": "markdown",
   "id": "46ca276d-600c-4062-8516-92170b81db03",
   "metadata": {
    "id": "46ca276d-600c-4062-8516-92170b81db03"
   },
   "source": [
    "<a id='resultat_qscan_div_reynolds_stress'></a>\n",
    "## <font color='red'>**Résultat**</font> - Profil en $q$ du **coarse-grained $- \\nabla \\cdot \\Pi_{r_\\theta}$** [▲](#sommaire)"
   ]
  },
  {
   "cell_type": "code",
   "execution_count": null,
   "id": "7a301250-29d2-425a-9d6e-34bb644897aa",
   "metadata": {
    "colab": {
     "referenced_widgets": [
      "f618bed40f5445299cd7812a07993cf4"
     ]
    },
    "collapsed": true,
    "id": "7a301250-29d2-425a-9d6e-34bb644897aa",
    "jupyter": {
     "outputs_hidden": true,
     "source_hidden": true
    },
    "outputId": "dc4ec40b-c5df-4409-dbcc-115ee1d9f665",
    "tags": []
   },
   "outputs": [],
   "source": [
    "q_ar = [qprof_05,qprof_1,qprof_15]\n",
    "param_ar = ['Phi00','Phi01','dPhi01dr','Er','VP','dErdr','RSpol','RSphi','dRSphidr','VT']\n",
    "\n",
    "param_ar = ['dRSpoldr']\n",
    "\n",
    "N=60\n",
    "Ng=30\n",
    "\n",
    "for ip,p in enumerate(param_ar):\n",
    "    fig = plt.figure(figsize=(8,6))\n",
    "    #fig.suptitle(p)\n",
    "    ax1 = fig.add_subplot(111)\n",
    "    for iq,q in enumerate(q_ar):\n",
    "\n",
    "        irhomin, irhomax = np.searchsorted(q['rho'],[0.79,0.81])\n",
    "        itmin, itmax     = np.searchsorted(q['time'],[100.0e3,145.0e3])\n",
    "        \n",
    "        p_ma = uniform_filter1d(uniform_filter1d(np.mean(q[p][itmin:itmax,:],axis=0),size=N),size=N)\n",
    "        p_ga = gaussian_filter1d(np.mean(q[p][itmin:itmax,:],axis=0),sigma=Ng)[irhomin:irhomax]\n",
    "        \n",
    "        ax1.plot(q['q'][irhomin:irhomax], -p_ma[irhomin:irhomax], lw=3,c=q['c'], marker='s',ls='', label=q['title'])\n",
    "        \n",
    "        #ax1.plot(q['q'][irhomin:irhomax], 0.3e-7*(-1+q['q'][irhomin:irhomax])**(1/3), c=q['c'])\n",
    "        \n",
    "        ax1.axhline(y=0,c='k',ls='--')\n",
    "        \n",
    "#     ax1.plot(q['rho'][40:40+Ng],np.ones(Ng)*-0.02,c='k')\n",
    "#     ax1.plot(q['rho'][100:100+N],np.ones(N)*-0.02,c='k')\n",
    "        \n",
    "    \n",
    "    ax1.set_xlabel(r'$q$')\n",
    "    ax1.set_xlim(0,5)\n",
    "    ax1.set_ylabel(r'$-\\langle \\nabla \\cdot \\Pi_{r \\theta} \\rangle_{CG}$ in $%.2f < r/a < %.2f$' %(q['rho'][irhomin], q['rho'][irhomax]) )\n",
    "    \n",
    "    qrange = np.linspace(0,5,100)\n",
    "    ax1.plot(qrange, 0.45e-7*(-1+qrange)**(1/3), c='g', label=r'$C (-1+q)^{1/3}$')\n",
    "    \n",
    "    ax1.legend()\n",
    "    \n",
    "    fig.savefig('Figures/qprof_divPi_08.pdf', format='pdf', bbox_inches='tight')"
   ]
  },
  {
   "attachments": {},
   "cell_type": "markdown",
   "id": "abbc77ad-5663-4af1-a363-3013aa47434b",
   "metadata": {
    "id": "abbc77ad-5663-4af1-a363-3013aa47434b",
    "jupyter": {
     "outputs_hidden": true
    },
    "tags": []
   },
   "source": [
    "<a id='resultat_rprof_flows'></a>\n",
    "## <font color='red'>**Résultat**</font> - Profil radial des **flows ($E_r, V_P, V_T$)** [▲](#sommaire)"
   ]
  },
  {
   "cell_type": "code",
   "execution_count": null,
   "id": "1fa686e3-c293-40df-a39f-2738fac08f42",
   "metadata": {
    "colab": {
     "referenced_widgets": [
      "ff2f7fef614144f28f965eb6cbc8baf9",
      "9cc813b5d64e49879e1f81bb74f4e69a",
      "a6e21529006646aa8a051826b7685b56"
     ]
    },
    "collapsed": true,
    "id": "1fa686e3-c293-40df-a39f-2738fac08f42",
    "jupyter": {
     "outputs_hidden": true,
     "source_hidden": true
    },
    "outputId": "7d644ff7-ce07-412d-dd35-a76a7601e710",
    "tags": []
   },
   "outputs": [],
   "source": [
    "plt.rcParams['axes.formatter.limits'] = (-5,6)\n",
    "plt.rc('font',size=20)\n",
    "q_ar = [qprof_05,qprof_1,qprof_15]\n",
    "#q_ar = [qprof_05_n0,qprof_15_n0]\n",
    "\n",
    "param_ar = ['Er','VT','VP']\n",
    "\n",
    "title_ar = [r'$E_r[V_{T_0} B_0]$',r'$V_P$',r'$V_T$']\n",
    "\n",
    "y_min_ar = [-2.5e-2, -6e-2, 4e-3]\n",
    "y_max_ar = [-1e-2, 0, -3.5e-3]\n",
    "\n",
    "for ip,p in enumerate(param_ar):\n",
    "    fig = plt.figure(figsize=(8,8))\n",
    "    #fig.suptitle(p)\n",
    "    ax1 = fig.add_subplot(111)\n",
    "    for iq,q in enumerate(q_ar):\n",
    "\n",
    "        irhomin, irhomax = np.searchsorted(q['rho'],[0.1,1.0])\n",
    "        itmin, itmax     = np.searchsorted(q['time'],[100.0e3,145.0e3])\n",
    "        \n",
    "        ax1.plot(q['rho'][irhomin:irhomax], np.mean( q[p][itmin:itmax,irhomin:irhomax],axis=0),ls=q['ls'],c=q['c'],lw=4,label=q['title'],marker=q['marker'],markevery=me)\n",
    "        #ax1.plot(q['rho'][irhomin:irhomax], np.mean( q[p][itmin:itmax,irhomin:irhomax],axis=0) /q['q'][irhomin:irhomax],ls='--',c=q['c'],label=q['title'])\n",
    "        \n",
    "        ax1.axhline(y=0,ls='--',c='k')\n",
    "        \n",
    "    ax1.set_ylabel(title_ar[ip])\n",
    "    ax1.ticklabel_format(axis='y',scilimits=(-1,2),useMathText=True)\n",
    "        \n",
    "    ax1.legend()\n",
    "    ax1.set_xlabel(r'$r/a$')\n",
    "    \n",
    "    ax1.axvline(x=1,ls='--',c='k')\n",
    "\n",
    "    ax1.set_xlim(left=q['rho'][irhomin],right=q['rho'][irhomax])\n",
    "\n",
    "    #ax1.text(x=0.7,y=(y_min_ar[ip]+y_max_ar[ip])/2.,s=r\"$\\nearrow I_P$\",fontsize=18,c='g')\n",
    "    \n",
    "    #ax1.annotate(\"\", xy=(0.8, y_min_ar[ip]), xytext=(0.8, y_max_ar[ip]),arrowprops=dict(width=5,facecolor='none',edgecolor='g'),horizontalalignment='center', verticalalignment='center')\n",
    "    \n",
    "    fig.tight_layout(rect=[0, 0.03, 1, 0.95])\n",
    "    \n",
    "    fig.set_size_inches(8, 8)\n",
    "    fig.savefig('Figures/rprof_'+p+'_scanq.pdf', format='pdf', bbox_inches='tight')"
   ]
  },
  {
   "attachments": {},
   "cell_type": "markdown",
   "id": "ece7a5bc-fd9b-4636-8e3c-79db5cf49166",
   "metadata": {
    "id": "ece7a5bc-fd9b-4636-8e3c-79db5cf49166"
   },
   "source": [
    "<a id='resultat_rprof_nutheta_gianakon'></a>\n",
    "## <font color='red'>**Résultat**</font> - Profil radial de la friction néoclassique $\\nu_\\theta$ empirique tiré de *Gianakon PoP 2002, p12, Eq(C16)* [▲](#sommaire)"
   ]
  },
  {
   "cell_type": "code",
   "execution_count": null,
   "id": "6c73be86-0126-47ed-b478-521b8db87d10",
   "metadata": {
    "colab": {
     "referenced_widgets": [
      "bad5c7520abd41c7ad42ea08adf41d6f"
     ]
    },
    "collapsed": true,
    "id": "6c73be86-0126-47ed-b478-521b8db87d10",
    "jupyter": {
     "outputs_hidden": true,
     "source_hidden": true
    },
    "outputId": "6b929854-dec4-404f-d21b-bfb3c7da3f4e",
    "tags": []
   },
   "outputs": [],
   "source": [
    "q_ar = [qprof_05,qprof_1,qprof_15]\n",
    "\n",
    "fig = plt.figure(figsize=(7,7))\n",
    "#fig.suptitle(p)\n",
    "ax1 = fig.add_subplot(111)\n",
    "\n",
    "N=60\n",
    "def u1d(X):return uniform_filter1d(uniform_filter1d(X,size=N),size=N)\n",
    "def g1d(X):return gaussian_filter1d(X,sigma=N)\n",
    "\n",
    "for iq,q in enumerate(q_ar):\n",
    "    irhomin, irhomax = np.searchsorted(q['rho'],[0.1,1.0])\n",
    "    itmin, itmax     = np.searchsorted(q['time'],[100.0e3,145.0e3])\n",
    "\n",
    "    #Calcul de la friction NC poloidale (cf Gianakon 2002)\n",
    "    nutheta = (0.452 * np.sqrt(2*q['eps']) * q['nu_i'])/( (1+1.03*q['nustar']**(1/2) +0.31 * q['nustar']) * (1 + 0.66 * q['nustar'] * q['eps']**(3/2))) * (q['q']/q['eps'])**2\n",
    "\n",
    "    ax1.plot(q['rho'][irhomin:irhomax], np.mean(nutheta[itmin:itmax,irhomin:irhomax],axis=0),ls=q['ls'],c=q['c'],label=q['title'])\n",
    "\n",
    "    ax1.axhline(y=0,ls='--',c='k')\n",
    "\n",
    "ax1.ticklabel_format(axis='y',scilimits=(-1,2),useMathText=True)\n",
    "\n",
    "ax1.legend()\n",
    "ax1.set_xlabel(r'$r/a$')\n",
    "ax1.set_ylabel(r'$\\nu_\\theta$')\n",
    "\n",
    "fig.tight_layout(rect=[0, 0.03, 1, 0.95])\n",
    "\n",
    "#fig.savefig('Figures/rprof_Pionq_scanq.pdf', format='pdf', bbox_inches='tight')"
   ]
  },
  {
   "attachments": {},
   "cell_type": "markdown",
   "id": "f75dff74-6c55-4062-8cbb-d45016ef1af0",
   "metadata": {
    "id": "f75dff74-6c55-4062-8cbb-d45016ef1af0",
    "jupyter": {
     "outputs_hidden": true
    },
    "tags": []
   },
   "source": [
    "<a id='resultat_rprof_turb_int'></a>\n",
    "## <font color='red'>**Résultat**</font> - Profil radial de **l'intensité turbulente $\\mathcal{I}$** [▲](#sommaire)"
   ]
  },
  {
   "cell_type": "code",
   "execution_count": 16,
   "id": "6081a227-27fb-4d69-8194-66c6339a4189",
   "metadata": {
    "colab": {
     "referenced_widgets": [
      "9874b419bafb4907b36ce4241ac93226"
     ]
    },
    "collapsed": true,
    "id": "6081a227-27fb-4d69-8194-66c6339a4189",
    "jupyter": {
     "outputs_hidden": true,
     "source_hidden": true
    },
    "outputId": "743c03c8-3df1-436b-8ee4-b0da5eeb3e58",
    "tags": []
   },
   "outputs": [
    {
     "data": {
      "application/vnd.jupyter.widget-view+json": {
       "model_id": "3a912377c6794c2da68af848b3cc7057",
       "version_major": 2,
       "version_minor": 0
      },
      "text/plain": [
       "Canvas(toolbar=Toolbar(toolitems=[('Home', 'Reset original view', 'home', 'home'), ('Back', 'Back to previous …"
      ]
     },
     "metadata": {},
     "output_type": "display_data"
    }
   ],
   "source": [
    "plt.rcParams['axes.formatter.limits'] = (-5,6)\n",
    "plt.rc('font',size=20)\n",
    "#q_ar = [qprof_05,qprof_1,qprof_15]\n",
    "\n",
    "q_ar = all_sim\n",
    "\n",
    "fig = plt.figure(figsize=(8,8))\n",
    "ax1 = fig.add_subplot(111)\n",
    "\n",
    "for iq,q in enumerate(q_ar):\n",
    "    \n",
    "    irhomin, irhomax = np.searchsorted(q['rho'],[0.2,1.0])\n",
    "    itmin, itmax     = np.searchsorted(q['time'],[100.0e3,145.0e3])\n",
    "\n",
    "    ax1.plot(q['rho'][irhomin:irhomax], np.sqrt(np.mean( (q['Isq'])[itmin:itmax,irhomin:irhomax],axis=0)),ls=q['ls'],c=q['c'],lw=4,label=q['title'],marker=q['marker'],markevery=me)\n",
    "\n",
    "    ax1.axhline(y=0,ls='--',c='k')\n",
    "\n",
    "ax1.set_ylabel(r'$\\mathcal{I}$')\n",
    "\n",
    "ax1.legend(loc='upper left',fontsize=18)\n",
    "ax1.set_xlabel(r'$r/a$')\n",
    "ax1.set_xlim(left=q['rho'][irhomin],right=q['rho'][irhomax])\n",
    "\n",
    "ax1.axvline(x=1,ls='--',c='k')\n",
    "\n",
    "fig.tight_layout(rect=[0, 0.03, 1, 0.95])\n",
    "\n",
    "fig.savefig('Figures/rprof_turb_intens_scanq.pdf', format='pdf', bbox_inches='tight')"
   ]
  },
  {
   "attachments": {},
   "cell_type": "markdown",
   "id": "1e560051-e682-445d-a2ee-76fd4cf45510",
   "metadata": {
    "id": "1e560051-e682-445d-a2ee-76fd4cf45510",
    "jupyter": {
     "outputs_hidden": true
    },
    "tags": []
   },
   "source": [
    "<a id='resultat_rprof_ion_collision_freq'></a>\n",
    "## <font color='red'>**Résultat**</font> - Profil radial de la **fréquence de collision ionique $\\nu_i$** [▲](#sommaire)"
   ]
  },
  {
   "cell_type": "code",
   "execution_count": null,
   "id": "2a8aa36a-714a-44d8-90b4-5d8bc3a43497",
   "metadata": {
    "colab": {
     "referenced_widgets": [
      "5cf29e019b2e4a1395108e5ca4efad11"
     ]
    },
    "collapsed": true,
    "id": "2a8aa36a-714a-44d8-90b4-5d8bc3a43497",
    "jupyter": {
     "outputs_hidden": true,
     "source_hidden": true
    },
    "outputId": "9532f0c1-f64d-4d56-8ad7-c5295f7bf01f",
    "tags": []
   },
   "outputs": [],
   "source": [
    "plt.rcParams['axes.formatter.limits'] = (-5,6)\n",
    "q_ar = [qprof_05,qprof_1,qprof_15]\n",
    "\n",
    "param_ar = ['turb_int_sq_avg']\n",
    "\n",
    "title_ar = [r'$\\mathcal{I}$']\n",
    "\n",
    "fig = plt.figure(figsize=(6,6))\n",
    "#fig.suptitle(p)\n",
    "ax1 = fig.add_subplot(111)\n",
    "\n",
    "for iq,q in enumerate(q_ar):\n",
    "    irhomin, irhomax = np.searchsorted(q['rho'],[0.1,1.0])\n",
    "    itmin, itmax     = np.searchsorted(q['time'],[100.0e3,145.0e3])\n",
    "\n",
    "    ax1.plot(q['rho'][irhomin:irhomax], np.mean( (q['nu_i'])[itmin:itmax,irhomin:irhomax],axis=0),ls=q['ls'],c=q['c'],label=q['title'],lw=4)\n",
    "\n",
    "    ax1.axhline(y=0,ls='--',c='k')\n",
    "\n",
    "ax1.set_ylabel(r'$\\nu_i$ $[\\omega_{c0}]$')\n",
    "#ax1.ticklabel_format(axis='y',scilimits=(-1,2),useMathText=True)\n",
    "\n",
    "ax1.legend()\n",
    "ax1.set_xlabel(r'$r/a$')\n",
    "\n",
    "ax1.axvline(x=1,ls='--',c='k')\n",
    "\n",
    "fig.tight_layout(rect=[0, 0.03, 1, 0.95])\n",
    "\n",
    "fig.savefig('Figures/rprof_nu_i.pdf', format='pdf', bbox_inches='tight')"
   ]
  },
  {
   "attachments": {},
   "cell_type": "markdown",
   "id": "8e547463",
   "metadata": {},
   "source": [
    "<a id='resultat_validation_approx_ptransfert'></a>\n",
    "## <font color='red'>**Résultat**</font> - Validation de la simplification sur la **puissance $\\mathcal{P} = \\langle - \\nabla \\cdot \\Pi_{r\\theta} \\rangle V_E$** [▲](#sommaire)\n",
    "Dans la littérature, il est souvent fait l'approximation $\\int_0^{r_0} \\langle - \\nabla \\cdot \\Pi_{r\\theta} \\rangle V_E \\approx \\int_0^{r_0} -\\langle \\Pi_{r\\theta} \\rangle \\partial_r V_E$.\n",
    "On s'attend à ce que ce soit vrai pour un $r_0$ suffisement grand.\n",
    "Dans nos simulations, il faut $r_0 \\sim 40 \\rho_i$ pour que ça marche."
   ]
  },
  {
   "cell_type": "code",
   "execution_count": null,
   "id": "4a4381c0",
   "metadata": {},
   "outputs": [],
   "source": [
    "q_ar = [qprof_05,qprof_15]\n",
    "\n",
    "for iq,q in enumerate(q_ar):\n",
    "    #q['Ptransfert'] = -q['dRSpoldr'] * (-q['Er'])\n",
    "    q['Ptransfert_approx'] = q['RSpol'] * (-q['dErdr'])\n",
    "    q['Ptransfert_res'] = np.gradient(-q['RSpol'] * (-q['Er']), q['rg'], axis=1) \n",
    "\n",
    "param_ar = ['Ptransfert', 'Ptransfert_approx']\n",
    "label_ar = [r'$\\nabla \\cdot \\Pi_{r\\theta} \\times V_{E\\theta}$', r'$\\Pi_{r\\theta} \\times \\partial_r V_{E\\theta}$']\n",
    "    \n",
    "colors_ar = ['xkcd:blue','xkcd:red','xkcd:purple','xkcd:green']\n",
    "colors_ar2 = ['xkcd:blue green','xkcd:dark orange','xkcd:bright pink','xkcd:apple green']\n",
    "    \n",
    "def update_plot(N,dpi_adjust):\n",
    "    plt.close('all')\n",
    "\n",
    "    fig = plt.figure(figsize=(6*len(q_ar),6), dpi=dpi_adjust)\n",
    "    size_window = N * 250 * 1.3 / len(qprof_05['rg']) \n",
    "    fig.suptitle(r'Approximative window size for avg : %.1f $\\rho_i$' % size_window )\n",
    "    for iq,q in enumerate(q_ar):\n",
    "        \n",
    "        irhomin, irhomax = np.searchsorted(q['rho'],[0.0,1.0])\n",
    "        itmin, itmax     = np.searchsorted(q['time'],[100.0e3,145.0e3])\n",
    "\n",
    "        ax1 = fig.add_subplot(1,len(q_ar),iq+1)\n",
    "        ax1.set_title(q['title'])\n",
    "        for ip,p in enumerate(param_ar):\n",
    "            ## Plot raw\n",
    "            ax1.plot(q['rho'][irhomin:irhomax], np.mean(q[p][itmin:itmax,irhomin:irhomax],axis=0), c=colors_ar[ip], lw=1.5, ls='--')\n",
    "\n",
    "            ## Plot coarse-grained\n",
    "            ax1.plot(q['rho'][irhomin:irhomax], uniform_filter1d(uniform_filter1d(np.mean(q[p][itmin:itmax,irhomin:irhomax],axis=0),size=N),size=N), label=label_ar[ip],c=colors_ar[ip],lw=3, ls='-')\n",
    "\n",
    "        ax1.axhline(y=0,c='k',ls='--')\n",
    "        ax1.legend()\n",
    "        ax1.set_xlabel(r'$r/a$')\n",
    "    fig.tight_layout(rect=[0, 0.03, 1, 0.95])\n",
    "    ax1.plot(q['rho'][10:10+N],np.ones(N)*ax1.get_ylim()[1]/2,c='xkcd:battleship grey',lw=5)\n",
    "\n",
    "interact(update_plot, **custom_widgets)"
   ]
  },
  {
   "attachments": {},
   "cell_type": "markdown",
   "id": "7414de3f-09d8-4217-86cd-c0e7cecdde8b",
   "metadata": {
    "id": "7414de3f-09d8-4217-86cd-c0e7cecdde8b",
    "tags": []
   },
   "source": [
    "## <font color='royalblue'>**Temporaire**</font> - Fonction porte \"smooth\" [▲](#sommaire)"
   ]
  },
  {
   "cell_type": "code",
   "execution_count": null,
   "id": "ee93fa6f-ab1f-4055-bb52-edac18b4f99b",
   "metadata": {
    "colab": {
     "referenced_widgets": [
      "bb5652af9efd4884886571d15e5e072d"
     ]
    },
    "collapsed": true,
    "id": "ee93fa6f-ab1f-4055-bb52-edac18b4f99b",
    "jupyter": {
     "outputs_hidden": true,
     "source_hidden": true
    },
    "outputId": "0681209b-5e28-4558-e859-dd7173a9b020"
   },
   "outputs": [],
   "source": [
    "def smoothed_rectangular(x, left, right, k=10):\n",
    "    \"\"\"\n",
    "    Returns a smoothed rectangular function with smoothed discontinuities.\n",
    "    \n",
    "    Parameters:\n",
    "        x (array-like): The independent variable.\n",
    "        left (float): The left edge of the rectangular function.\n",
    "        right (float): The right edge of the rectangular function.\n",
    "        k (float): Controls the steepness of the sigmoid function. Higher k leads to sharper transition.\n",
    "        \n",
    "    Returns:\n",
    "        y (array-like): The smoothed rectangular function evaluated at x.\n",
    "    \"\"\"\n",
    "    y = 1 / (1 + np.exp(-k * (x - left))) - 1 / (1 + np.exp(-k * (x - right)))\n",
    "    return y\n",
    "\n",
    "# Example usage\n",
    "x = np.linspace(-10, 10, 1000)\n",
    "y = smoothed_rectangular(x, -9, 9, k=10)\n",
    "plt.figure()\n",
    "plt.plot(x, y)\n",
    "plt.show()"
   ]
  },
  {
   "attachments": {},
   "cell_type": "markdown",
   "id": "64ecf905",
   "metadata": {},
   "source": [
    "## <font color='royalblue'>**Temporaire**</font> - Test de classe de simulation [▲](#sommaire)"
   ]
  },
  {
   "cell_type": "code",
   "execution_count": 8,
   "id": "5b4a93f8",
   "metadata": {},
   "outputs": [
    {
     "name": "stdout",
     "output_type": "stream",
     "text": [
      "[[-0.00018418 -0.00018724 -0.0001897  ...  0.00192122  0.00450085\n",
      "   0.00625522]\n",
      " [-0.00021953 -0.00022132 -0.00022063 ...  0.00193241  0.0045272\n",
      "   0.0062919 ]\n",
      " [-0.00021195 -0.00021408 -0.00021435 ...  0.00194369  0.00455373\n",
      "   0.00632884]\n",
      " ...\n",
      " [ 0.00075304  0.00070573  0.00058756 ...  0.01069709  0.02534366\n",
      "   0.03541985]\n",
      " [ 0.00076943  0.00072156  0.00060163 ...  0.01068448  0.02531371\n",
      "   0.03537779]\n",
      " [ 0.00077977  0.00073263  0.00061403 ...  0.01067187  0.02528389\n",
      "   0.03533597]]\n"
     ]
    },
    {
     "data": {
      "application/vnd.jupyter.widget-view+json": {
       "model_id": "a5fc8a9116ad4bfe853f93637ee8e603",
       "version_major": 2,
       "version_minor": 0
      },
      "text/plain": [
       "Canvas(toolbar=Toolbar(toolitems=[('Home', 'Reset original view', 'home', 'home'), ('Back', 'Back to previous …"
      ]
     },
     "metadata": {},
     "output_type": "display_data"
    },
    {
     "data": {
      "application/vnd.jupyter.widget-view+json": {
       "model_id": "e88df6ef045f4b8aa4e439fa09fdaaf7",
       "version_major": 2,
       "version_minor": 0
      },
      "text/plain": [
       "Canvas(toolbar=Toolbar(toolitems=[('Home', 'Reset original view', 'home', 'home'), ('Back', 'Back to previous …"
      ]
     },
     "metadata": {},
     "output_type": "display_data"
    },
    {
     "data": {
      "text/plain": [
       "<matplotlib.axes._subplots.AxesSubplot at 0x26e70b05d00>"
      ]
     },
     "execution_count": 8,
     "metadata": {},
     "output_type": "execute_result"
    }
   ],
   "source": [
    "## Define a class that init as a dictionnary already existing\n",
    "class dict2class(dict):\n",
    "    def __init__(self, *args, **kwargs):\n",
    "        super(dict2class, self).__init__(*args, **kwargs)\n",
    "        self.__dict__ = self\n",
    "\n",
    "    ## Define a method that calculate the gradient relative to the dictionnary keys 'rg'\n",
    "    def gradr(self, key):\n",
    "        return np.gradient(self[key], self['rg'], axis=1)\n",
    "    \n",
    "    ## Define a method that calculate the gradient relative to the dictionnary keys 'time'\n",
    "    def gradt(self, key):\n",
    "        return np.gradient(self[key], self['time'], axis=0)\n",
    "    \n",
    "    ## Define a method to plot radial profile of a given key\n",
    "    def plot_rprof(self, key, ax=None, **kwargs):\n",
    "        if ax is None:\n",
    "            fig, ax = plt.subplots()\n",
    "        ax.plot(self['rho'], self[key][-1,:], **kwargs)\n",
    "        ax.set_xlabel(r'$r/a$')\n",
    "        ax.set_ylabel(r'$%s$' % key)\n",
    "        return ax\n",
    "    \n",
    "## Testing the class\n",
    "qtest = dict2class(all_sim[0])\n",
    "print(qtest.gradr('Er'))\n",
    "\n",
    "## Plotting the gradient\n",
    "plt.figure()\n",
    "ax1 = plt.subplot(121)\n",
    "ax1.pcolormesh(qtest['rg'], qtest['time'], qtest.gradr('Er'))\n",
    "ax1.set_xlabel(r'$r/a$')\n",
    "ax1.set_ylabel(r'$t$')\n",
    "ax1.set_title(r'$\\partial_r E_r$')\n",
    "\n",
    "ax2 = plt.subplot(122)\n",
    "ax2.pcolormesh(qtest['rg'], qtest['time'], qtest.gradt('Er'))\n",
    "ax2.set_xlabel(r'$r/a$')\n",
    "ax2.set_ylabel(r'$t$')\n",
    "ax2.set_title(r'$\\partial_t E_r$')\n",
    "\n",
    "qtest.plot_rprof('Er', label='Er')\n"
   ]
  }
 ],
 "metadata": {
  "colab": {
   "provenance": []
  },
  "kernelspec": {
   "display_name": "base",
   "language": "python",
   "name": "python3"
  },
  "language_info": {
   "codemirror_mode": {
    "name": "ipython",
    "version": 3
   },
   "file_extension": ".py",
   "mimetype": "text/x-python",
   "name": "python",
   "nbconvert_exporter": "python",
   "pygments_lexer": "ipython3",
   "version": "3.8.8"
  },
  "vscode": {
   "interpreter": {
    "hash": "ff4f85d6e04298634172ac5d8264e7e9b556b95639fe52ebb9425c4d4cba0c9c"
   }
  }
 },
 "nbformat": 4,
 "nbformat_minor": 5
}
